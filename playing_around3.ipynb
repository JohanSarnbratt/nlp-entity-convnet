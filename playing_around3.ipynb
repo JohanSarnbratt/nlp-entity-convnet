{
 "cells": [
  {
   "cell_type": "code",
   "execution_count": 3,
   "metadata": {
    "collapsed": true
   },
   "outputs": [],
   "source": [
    "from theano import *\n",
    "from lasagne.layers import EmbeddingLayer, InputLayer, get_output\n",
    "import lasagne\n",
    "import lasagne.layers\n",
    "import theano.tensor as T\n",
    "import theano\n",
    "import numpy as np"
   ]
  },
  {
   "cell_type": "code",
   "execution_count": 4,
   "metadata": {
    "collapsed": true
   },
   "outputs": [],
   "source": [
    "l_in = lasagne.layers.InputLayer((10,50))"
   ]
  },
  {
   "cell_type": "code",
   "execution_count": 5,
   "metadata": {
    "collapsed": false
   },
   "outputs": [
    {
     "name": "stderr",
     "output_type": "stream",
     "text": [
      "/home/matthew/.virtualenvs/nlp-convnet/lib/python2.7/site-packages/lasagne/init.py:86: UserWarning: The uniform initializer no longer uses Glorot et al.'s approach to determine the bounds, but defaults to the range (-0.01, 0.01) instead. Please use the new GlorotUniform initializer to get the old behavior. GlorotUniform is now the default for all layers.\n",
      "  warnings.warn(\"The uniform initializer no longer uses Glorot et al.'s \"\n"
     ]
    }
   ],
   "source": [
    "l_output = lasagne.layers.DenseLayer(l_in, num_units=2, name='output')"
   ]
  },
  {
   "cell_type": "code",
   "execution_count": 6,
   "metadata": {
    "collapsed": false
   },
   "outputs": [
    {
     "name": "stderr",
     "output_type": "stream",
     "text": [
      "/home/matthew/.virtualenvs/nlp-convnet/lib/python2.7/site-packages/lasagne/layers/helper.py:69: UserWarning: get_all_layers() has been changed to return layers in topological order. The former implementation is still available as get_all_layers_old(), but will be removed before the first release of Lasagne. To ignore this warning, use `warnings.filterwarnings('ignore', '.*topo.*')`.\n",
      "  warnings.warn(\"get_all_layers() has been changed to return layers in \"\n"
     ]
    }
   ],
   "source": [
    "out = lasagne.layers.get_output(l_output)"
   ]
  },
  {
   "cell_type": "code",
   "execution_count": 7,
   "metadata": {
    "collapsed": false
   },
   "outputs": [
    {
     "name": "stdout",
     "output_type": "stream",
     "text": [
      "Elemwise{mul,no_inplace}.0\n"
     ]
    }
   ],
   "source": [
    "print out"
   ]
  },
  {
   "cell_type": "code",
   "execution_count": 8,
   "metadata": {
    "collapsed": true
   },
   "outputs": [],
   "source": [
    "func = theano.function([l_in.input_var], out)"
   ]
  },
  {
   "cell_type": "code",
   "execution_count": 9,
   "metadata": {
    "collapsed": true
   },
   "outputs": [],
   "source": [
    "target_v = (np.random.randint(0,2,10)).astype('int32')\n",
    "target_t = np.random.randn(10, 50)"
   ]
  },
  {
   "cell_type": "code",
   "execution_count": 10,
   "metadata": {
    "collapsed": false
   },
   "outputs": [
    {
     "data": {
      "text/plain": [
       "((10,), (10, 50))"
      ]
     },
     "execution_count": 10,
     "metadata": {},
     "output_type": "execute_result"
    }
   ],
   "source": [
    "target_v.shape, target_t.shape"
   ]
  },
  {
   "cell_type": "code",
   "execution_count": 11,
   "metadata": {
    "collapsed": false
   },
   "outputs": [
    {
     "data": {
      "text/plain": [
       "array([[ 0.        ,  0.        ],\n",
       "       [ 0.        ,  1.06923009],\n",
       "       [ 0.        ,  0.23545635],\n",
       "       [ 0.        ,  0.34991309],\n",
       "       [ 0.71307727,  1.69669599],\n",
       "       [ 0.        ,  0.        ],\n",
       "       [ 0.83455082,  0.99672896],\n",
       "       [ 2.02694026,  0.        ],\n",
       "       [ 0.        ,  0.        ],\n",
       "       [ 0.        ,  0.93246807]])"
      ]
     },
     "execution_count": 11,
     "metadata": {},
     "output_type": "execute_result"
    }
   ],
   "source": [
    "func(target_t)"
   ]
  },
  {
   "cell_type": "code",
   "execution_count": 12,
   "metadata": {
    "collapsed": false
   },
   "outputs": [],
   "source": [
    "all_params = lasagne.layers.get_all_params(l_output)"
   ]
  },
  {
   "cell_type": "code",
   "execution_count": 13,
   "metadata": {
    "collapsed": false
   },
   "outputs": [
    {
     "data": {
      "text/plain": [
       "array([0, 1, 1, 1, 1, 0, 1, 0, 0, 1])"
      ]
     },
     "execution_count": 13,
     "metadata": {},
     "output_type": "execute_result"
    }
   ],
   "source": [
    "theano.function([l_in.input_var], (out, T.argmax(out, axis=1)))(target_t)[1]"
   ]
  },
  {
   "cell_type": "code",
   "execution_count": 14,
   "metadata": {
    "collapsed": false
   },
   "outputs": [],
   "source": [
    "y_value = T.ivector('y')\n",
    "out_values = T.argmax(out, axis=1)\n",
    "#loss = (y_value - out_values) ** 2\n",
    "#loss_old = (y_value - ) ** 2\n",
    "loss = theano.tensor.nnet.binary_crossentropy(out_values + 1, y_value + 1)"
   ]
  },
  {
   "cell_type": "markdown",
   "metadata": {},
   "source": [
    "There was some issue with the shape of the ouput vector being [10,1] and the shape of the Y values being [10]\n",
    "\n",
    "this hack above is computing the loss by transforming the output vector into a single dimentional item, and then we compute the difference between these two terms and square it\n",
    "\n",
    "maybe simply taking the transpose of the y_value matrix can make these two values compatiable"
   ]
  },
  {
   "cell_type": "code",
   "execution_count": 15,
   "metadata": {
    "collapsed": false
   },
   "outputs": [],
   "source": [
    "update = lasagne.updates.nesterov_momentum(loss.mean(), all_params, 0.1)"
   ]
  },
  {
   "cell_type": "code",
   "execution_count": 16,
   "metadata": {
    "collapsed": false
   },
   "outputs": [],
   "source": [
    "train = theano.function([l_in.input_var, y_value], (out_values, y_value, loss, loss.mean(), update.values()[0]), updates=update)"
   ]
  },
  {
   "cell_type": "code",
   "execution_count": 17,
   "metadata": {
    "collapsed": false
   },
   "outputs": [
    {
     "data": {
      "text/plain": [
       "OrderedDict([(output.W, Elemwise{add,no_inplace}.0), (output.b, Elemwise{add,no_inplace}.0), (<TensorType(float64, matrix)>, Elemwise{sub,no_inplace}.0), (<TensorType(float64, vector)>, Elemwise{sub,no_inplace}.0)])"
      ]
     },
     "execution_count": 17,
     "metadata": {},
     "output_type": "execute_result"
    }
   ],
   "source": [
    "update"
   ]
  },
  {
   "cell_type": "code",
   "execution_count": 18,
   "metadata": {
    "collapsed": false
   },
   "outputs": [
    {
     "name": "stdout",
     "output_type": "stream",
     "text": [
      "nan\n"
     ]
    }
   ],
   "source": [
    "for i in xrange(1000):\n",
    "    _,_,_,loss_v,_= train(target_t, target_v)\n",
    "print loss_v"
   ]
  },
  {
   "cell_type": "code",
   "execution_count": 19,
   "metadata": {
    "collapsed": false
   },
   "outputs": [
    {
     "data": {
      "text/plain": [
       "[array([0, 1, 1, 1, 1, 0, 1, 0, 0, 1]),\n",
       " array([0, 1, 1, 1, 1, 1, 1, 0, 1, 0], dtype=int32),\n",
       " array([ nan,  nan,  nan,  nan,  nan, -inf,  nan,  nan, -inf,  nan]),\n",
       " array(nan),\n",
       " array([[ 0.01455541, -0.06080716],\n",
       "        [-0.04779141, -0.01968734],\n",
       "        [-0.27181563, -0.19865111],\n",
       "        [-0.09148882, -0.17334739],\n",
       "        [ 0.32892308,  0.21018575],\n",
       "        [-0.2973821 , -0.32153287],\n",
       "        [ 0.25786338,  0.04905461],\n",
       "        [ 0.08217621,  0.29279125],\n",
       "        [-0.11245267, -0.01823565],\n",
       "        [-0.05138954,  0.05137051],\n",
       "        [-0.00736179, -0.03140707],\n",
       "        [-0.12530164,  0.11736027],\n",
       "        [-0.04462106,  0.00109277],\n",
       "        [-0.12288981,  0.27872435],\n",
       "        [-0.26749214,  0.33124063],\n",
       "        [-0.23587184, -0.15745308],\n",
       "        [-0.02044665,  0.07170847],\n",
       "        [ 0.00300819,  0.19918474],\n",
       "        [ 0.11786037,  0.00308929],\n",
       "        [ 0.23629698,  0.24807301],\n",
       "        [-0.03601979, -0.27971277],\n",
       "        [ 0.06338235,  0.09053476],\n",
       "        [ 0.20848981,  0.20575621],\n",
       "        [ 0.26120234,  0.03427287],\n",
       "        [ 0.16040863,  0.16723208],\n",
       "        [ 0.32570498,  0.33895253],\n",
       "        [ 0.24098407,  0.15382429],\n",
       "        [ 0.26974984, -0.04583323],\n",
       "        [ 0.01884065,  0.3023813 ],\n",
       "        [ 0.30688686, -0.1665386 ],\n",
       "        [ 0.31009054, -0.02280182],\n",
       "        [-0.30541362,  0.30800922],\n",
       "        [ 0.2618816 ,  0.20292909],\n",
       "        [-0.09913618, -0.2975122 ],\n",
       "        [-0.13090021,  0.31224793],\n",
       "        [ 0.30303645,  0.10309922],\n",
       "        [-0.09349626,  0.12514242],\n",
       "        [-0.22161546, -0.25700143],\n",
       "        [-0.07354858, -0.32933778],\n",
       "        [ 0.0832141 , -0.03393847],\n",
       "        [-0.30809178, -0.239079  ],\n",
       "        [ 0.18737624,  0.02085474],\n",
       "        [-0.30558333,  0.12874747],\n",
       "        [-0.32105897,  0.10132727],\n",
       "        [ 0.21752088, -0.30454476],\n",
       "        [ 0.11862566, -0.0495977 ],\n",
       "        [-0.23735875,  0.16999606],\n",
       "        [-0.18348437,  0.15336175],\n",
       "        [-0.18319968,  0.17216977],\n",
       "        [ 0.24868977,  0.03516217]])]"
      ]
     },
     "execution_count": 19,
     "metadata": {},
     "output_type": "execute_result"
    }
   ],
   "source": [
    "train(target_t, target_v)"
   ]
  },
  {
   "cell_type": "code",
   "execution_count": 20,
   "metadata": {
    "collapsed": false
   },
   "outputs": [
    {
     "data": {
      "text/plain": [
       "(array([[ 0.        ,  0.        ],\n",
       "        [ 0.        ,  1.06923009],\n",
       "        [ 0.        ,  0.23545635],\n",
       "        [ 0.        ,  0.34991309],\n",
       "        [ 0.71307727,  1.69669599],\n",
       "        [ 0.        ,  0.        ],\n",
       "        [ 0.83455082,  0.99672896],\n",
       "        [ 2.02694026,  0.        ],\n",
       "        [ 0.        ,  0.        ],\n",
       "        [ 0.        ,  0.93246807]]),\n",
       " array([0, 1, 1, 1, 1, 1, 1, 0, 1, 0], dtype=int32))"
      ]
     },
     "execution_count": 20,
     "metadata": {},
     "output_type": "execute_result"
    }
   ],
   "source": [
    "func(target_t), target_v"
   ]
  },
  {
   "cell_type": "code",
   "execution_count": 21,
   "metadata": {
    "collapsed": false
   },
   "outputs": [
    {
     "name": "stderr",
     "output_type": "stream",
     "text": [
      "[autoreload of theano.gof.optdb failed: Traceback (most recent call last):\n",
      "  File \"/usr/lib/python2.7/site-packages/IPython/extensions/autoreload.py\", line 247, in check\n",
      "    superreload(m, reload, self.old_objects)\n",
      "ImportError: cannot import name DefaultOrderedDict\n",
      "]\n",
      "[autoreload of theano.scan_module.scan failed: Traceback (most recent call last):\n",
      "  File \"/usr/lib/python2.7/site-packages/IPython/extensions/autoreload.py\", line 247, in check\n",
      "    superreload(m, reload, self.old_objects)\n",
      "ImportError: cannot import name ifilter\n",
      "]\n",
      "[autoreload of theano.sandbox.rng_mrg failed: Traceback (most recent call last):\n",
      "  File \"/usr/lib/python2.7/site-packages/IPython/extensions/autoreload.py\", line 247, in check\n",
      "    superreload(m, reload, self.old_objects)\n",
      "ImportError: cannot import name multinomial\n",
      "]\n",
      "[autoreload of theano.ifelse failed: Traceback (most recent call last):\n",
      "  File \"/usr/lib/python2.7/site-packages/IPython/extensions/autoreload.py\", line 247, in check\n",
      "    superreload(m, reload, self.old_objects)\n",
      "ImportError: cannot import name izip\n",
      "]\n",
      "[autoreload of theano.sandbox.multinomial failed: Traceback (most recent call last):\n",
      "  File \"/usr/lib/python2.7/site-packages/IPython/extensions/autoreload.py\", line 247, in check\n",
      "    superreload(m, reload, self.old_objects)\n",
      "ValueError: ('The name of the object cannot be an existing tag or the name of another existing object.', <theano.gof.opt.FromFunctionLocalOptimizer object at 0x7f9027b2bd50>, 'local_gpu_multinomial')\n",
      "]\n",
      "[autoreload of cuda_ndarray failed: Traceback (most recent call last):\n",
      "  File \"/usr/lib/python2.7/site-packages/IPython/extensions/autoreload.py\", line 247, in check\n",
      "    superreload(m, reload, self.old_objects)\n",
      "ImportError: No module named cuda_ndarray\n",
      "]\n",
      "[autoreload of theano.sandbox.cuda.extra_ops failed: Traceback (most recent call last):\n",
      "  File \"/usr/lib/python2.7/site-packages/IPython/extensions/autoreload.py\", line 247, in check\n",
      "    superreload(m, reload, self.old_objects)\n",
      "ValueError: ('The name of the object cannot be an existing tag or the name of another existing object.', <theano.gof.opt.FromFunctionLocalOptimizer object at 0x7f902b350710>, 'use_gpu_cumsum')\n",
      "]\n",
      "[autoreload of theano.tensor.elemwise failed: Traceback (most recent call last):\n",
      "  File \"/usr/lib/python2.7/site-packages/IPython/extensions/autoreload.py\", line 247, in check\n",
      "    superreload(m, reload, self.old_objects)\n",
      "ImportError: cannot import name izip\n",
      "]\n",
      "[autoreload of theano.tensor.blas failed: Traceback (most recent call last):\n",
      "  File \"/usr/lib/python2.7/site-packages/IPython/extensions/autoreload.py\", line 247, in check\n",
      "    superreload(m, reload, self.old_objects)\n",
      "AttributeError: ('This name is already taken', 'blas.ldflags')\n",
      "]\n",
      "[autoreload of theano.tensor.nnet.nnet failed: Traceback (most recent call last):\n",
      "  File \"/usr/lib/python2.7/site-packages/IPython/extensions/autoreload.py\", line 247, in check\n",
      "    superreload(m, reload, self.old_objects)\n",
      "ValueError: ('The name of the object cannot be an existing tag or the name of another existing object.', <theano.gof.opt.FromFunctionLocalOptimizer object at 0x7f902add8f50>, 'local_softmax_with_bias')\n",
      "]\n",
      "[autoreload of theano.sandbox.gpuarray failed: Traceback (most recent call last):\n",
      "  File \"/usr/lib/python2.7/site-packages/IPython/extensions/autoreload.py\", line 247, in check\n",
      "    superreload(m, reload, self.old_objects)\n",
      "AttributeError: ('This name is already taken', 'gpuarray.sync')\n",
      "]\n",
      "[autoreload of theano.gradient failed: Traceback (most recent call last):\n",
      "  File \"/usr/lib/python2.7/site-packages/IPython/extensions/autoreload.py\", line 247, in check\n",
      "    superreload(m, reload, self.old_objects)\n",
      "ImportError: cannot import name izip\n",
      "]\n",
      "[autoreload of theano.compile.profilemode failed: Traceback (most recent call last):\n",
      "  File \"/usr/lib/python2.7/site-packages/IPython/extensions/autoreload.py\", line 247, in check\n",
      "    superreload(m, reload, self.old_objects)\n",
      "AttributeError: ('This name is already taken', 'ProfileMode.n_apply_to_print')\n",
      "]\n",
      "[autoreload of theano.gof.compiledir failed: Traceback (most recent call last):\n",
      "  File \"/usr/lib/python2.7/site-packages/IPython/extensions/autoreload.py\", line 247, in check\n",
      "    superreload(m, reload, self.old_objects)\n",
      "AttributeError: ('This name is already taken', 'compiledir_format')\n",
      "]\n",
      "[autoreload of theano.sandbox.cuda.opt failed: Traceback (most recent call last):\n",
      "  File \"/usr/lib/python2.7/site-packages/IPython/extensions/autoreload.py\", line 247, in check\n",
      "    superreload(m, reload, self.old_objects)\n",
      "ImportError: cannot import name GpuAllocEmpty\n",
      "]\n",
      "[autoreload of theano.scan_module.scan_op failed: Traceback (most recent call last):\n",
      "  File \"/usr/lib/python2.7/site-packages/IPython/extensions/autoreload.py\", line 247, in check\n",
      "    superreload(m, reload, self.old_objects)\n",
      "ImportError: cannot import name io_connection_pattern\n",
      "]\n",
      "[autoreload of theano.tensor.inplace failed: Traceback (most recent call last):\n",
      "  File \"/usr/lib/python2.7/site-packages/IPython/extensions/autoreload.py\", line 247, in check\n",
      "    superreload(m, reload, self.old_objects)\n",
      "AttributeError: 'module' object has no attribute 'erfcx'\n",
      "]\n",
      "[autoreload of theano.tensor.utils failed: Traceback (most recent call last):\n",
      "  File \"/usr/lib/python2.7/site-packages/IPython/extensions/autoreload.py\", line 247, in check\n",
      "    superreload(m, reload, self.old_objects)\n",
      "ImportError: cannot import name izip\n",
      "]\n",
      "[autoreload of theano.tensor.blas_scipy failed: Traceback (most recent call last):\n",
      "  File \"/usr/lib/python2.7/site-packages/IPython/extensions/autoreload.py\", line 247, in check\n",
      "    superreload(m, reload, self.old_objects)\n",
      "ValueError: ('The name of the object cannot be an existing tag or the name of another existing object.', <theano.gof.opt.TopoOptimizer object at 0x7f90239a4a10>, 'scipy_blas')\n",
      "]\n",
      "[autoreload of theano.gof.opt failed: Traceback (most recent call last):\n",
      "  File \"/usr/lib/python2.7/site-packages/IPython/extensions/autoreload.py\", line 247, in check\n",
      "    superreload(m, reload, self.old_objects)\n",
      "ImportError: cannot import name izip\n",
      "]\n",
      "[autoreload of theano.tests failed: Traceback (most recent call last):\n",
      "  File \"/usr/lib/python2.7/site-packages/IPython/extensions/autoreload.py\", line 247, in check\n",
      "    superreload(m, reload, self.old_objects)\n",
      "ImportError: cannot import name unittest_tools\n",
      "]\n",
      "[autoreload of theano.tensor failed: Traceback (most recent call last):\n",
      "  File \"/usr/lib/python2.7/site-packages/IPython/extensions/autoreload.py\", line 247, in check\n",
      "    superreload(m, reload, self.old_objects)\n",
      "ImportError: cannot import name opt\n",
      "]\n",
      "[autoreload of theano.compile.debugmode failed: Traceback (most recent call last):\n",
      "  File \"/usr/lib/python2.7/site-packages/IPython/extensions/autoreload.py\", line 247, in check\n",
      "    superreload(m, reload, self.old_objects)\n",
      "ImportError: cannot import name izip\n",
      "]\n",
      "[autoreload of theano.sandbox.cuda.basic_ops failed: Traceback (most recent call last):\n",
      "  File \"/usr/lib/python2.7/site-packages/IPython/extensions/autoreload.py\", line 247, in check\n",
      "    superreload(m, reload, self.old_objects)\n",
      "AttributeError: 'module' object has no attribute 'profilemode'\n",
      "]\n",
      "[autoreload of theano.scan_module.scan_opt failed: Traceback (most recent call last):\n",
      "  File \"/usr/lib/python2.7/site-packages/IPython/extensions/autoreload.py\", line 247, in check\n",
      "    superreload(m, reload, self.old_objects)\n",
      "ValueError: ('The name of the object cannot be an existing tag or the name of another existing object.', <theano.gof.optdb.EquilibriumDB object at 0x7f9027b350d0>, 'scan_eqopt1')\n",
      "]\n",
      "[autoreload of theano.tensor.subtensor failed: Traceback (most recent call last):\n",
      "  File \"/usr/lib/python2.7/site-packages/IPython/extensions/autoreload.py\", line 247, in check\n",
      "    superreload(m, reload, self.old_objects)\n",
      "ImportError: cannot import name izip\n",
      "]\n",
      "[autoreload of theano.compile.function_module failed: Traceback (most recent call last):\n",
      "  File \"/usr/lib/python2.7/site-packages/IPython/extensions/autoreload.py\", line 247, in check\n",
      "    superreload(m, reload, self.old_objects)\n",
      "ImportError: cannot import name izip\n",
      "]\n",
      "[autoreload of theano.gof.cmodule failed: Traceback (most recent call last):\n",
      "  File \"/usr/lib/python2.7/site-packages/IPython/extensions/autoreload.py\", line 247, in check\n",
      "    superreload(m, reload, self.old_objects)\n",
      "AttributeError: ('This name is already taken', 'cmodule.mac_framework_link')\n",
      "]\n",
      "[autoreload of theano.scan_module.scan_utils failed: Traceback (most recent call last):\n",
      "  File \"/usr/lib/python2.7/site-packages/IPython/extensions/autoreload.py\", line 247, in check\n",
      "    superreload(m, reload, self.old_objects)\n",
      "ImportError: cannot import name izip\n",
      "]\n",
      "[autoreload of theano.tensor.basic failed: Traceback (most recent call last):\n",
      "  File \"/usr/lib/python2.7/site-packages/IPython/extensions/autoreload.py\", line 247, in check\n",
      "    superreload(m, reload, self.old_objects)\n",
      "ImportError: cannot import name izip\n",
      "]\n",
      "[autoreload of theano.sandbox.gpuarray.nnet failed: Traceback (most recent call last):\n",
      "  File \"/usr/lib/python2.7/site-packages/IPython/extensions/autoreload.py\", line 247, in check\n",
      "    superreload(m, reload, self.old_objects)\n",
      "AttributeError: 'TheanoConfigParser' object has no attribute 'cxx'\n",
      "]\n",
      "[autoreload of lasagne failed: Traceback (most recent call last):\n",
      "  File \"/usr/lib/python2.7/site-packages/IPython/extensions/autoreload.py\", line 247, in check\n",
      "    superreload(m, reload, self.old_objects)\n",
      "ImportError: cannot import name nonlinearities\n",
      "]\n",
      "[autoreload of theano.gof failed: Traceback (most recent call last):\n",
      "  File \"/usr/lib/python2.7/site-packages/IPython/extensions/autoreload.py\", line 247, in check\n",
      "    superreload(m, reload, self.old_objects)\n",
      "AttributeError: 'TheanoConfigParser' object has no attribute 'cmodule'\n",
      "]\n",
      "[autoreload of theano.sandbox.gpuarray.blas failed: Traceback (most recent call last):\n",
      "  File \"/usr/lib/python2.7/site-packages/IPython/extensions/autoreload.py\", line 247, in check\n",
      "    superreload(m, reload, self.old_objects)\n",
      "AttributeError: 'TheanoConfigParser' object has no attribute 'cxx'\n",
      "]\n",
      "[autoreload of theano.sandbox.cuda.elemwise failed: Traceback (most recent call last):\n",
      "  File \"/usr/lib/python2.7/site-packages/IPython/extensions/autoreload.py\", line 247, in check\n",
      "    superreload(m, reload, self.old_objects)\n",
      "AttributeError: 'TheanoConfigParser' object has no attribute 'cxx'\n",
      "]\n",
      "[autoreload of theano.printing failed: Traceback (most recent call last):\n",
      "  File \"/usr/lib/python2.7/site-packages/IPython/extensions/autoreload.py\", line 247, in check\n",
      "    superreload(m, reload, self.old_objects)\n",
      "ImportError: cannot import name debugmode\n",
      "]"
     ]
    },
    {
     "name": "stdout",
     "output_type": "stream",
     "text": [
      "Couldn't import dot_parser, loading of dot files will not be possible.\n"
     ]
    },
    {
     "name": "stderr",
     "output_type": "stream",
     "text": [
      "\n",
      "[autoreload of theano.gof.link failed: Traceback (most recent call last):\n",
      "  File \"/usr/lib/python2.7/site-packages/IPython/extensions/autoreload.py\", line 247, in check\n",
      "    superreload(m, reload, self.old_objects)\n",
      "ImportError: cannot import name izip\n",
      "]\n",
      "[autoreload of theano failed: Traceback (most recent call last):\n",
      "  File \"/usr/lib/python2.7/site-packages/IPython/extensions/autoreload.py\", line 247, in check\n",
      "    superreload(m, reload, self.old_objects)\n",
      "AttributeError: 'module' object has no attribute 'tests'\n",
      "]\n",
      "[autoreload of lasagne.layers.pool failed: Traceback (most recent call last):\n",
      "  File \"/usr/lib/python2.7/site-packages/IPython/extensions/autoreload.py\", line 247, in check\n",
      "    superreload(m, reload, self.old_objects)\n",
      "ImportError: cannot import name downsample\n",
      "]\n",
      "[autoreload of theano.sandbox.cuda.rng_curand failed: Traceback (most recent call last):\n",
      "  File \"/usr/lib/python2.7/site-packages/IPython/extensions/autoreload.py\", line 247, in check\n",
      "    superreload(m, reload, self.old_objects)\n",
      "AttributeError: 'TheanoConfigParser' object has no attribute 'floatX'\n",
      "]\n",
      "[autoreload of theano.tensor.extra_ops failed: Traceback (most recent call last):\n",
      "  File \"/usr/lib/python2.7/site-packages/IPython/extensions/autoreload.py\", line 247, in check\n",
      "    superreload(m, reload, self.old_objects)\n",
      "AttributeError: 'TheanoConfigParser' object has no attribute 'cxx'\n",
      "]\n",
      "[autoreload of theano.compile.ops failed: Traceback (most recent call last):\n",
      "  File \"/usr/lib/python2.7/site-packages/IPython/extensions/autoreload.py\", line 247, in check\n",
      "    superreload(m, reload, self.old_objects)\n",
      "AttributeError: 'TheanoConfigParser' object has no attribute 'cxx'\n",
      "]\n",
      "[autoreload of theano.tensor.opt failed: Traceback (most recent call last):\n",
      "  File \"/usr/lib/python2.7/site-packages/IPython/extensions/autoreload.py\", line 247, in check\n",
      "    superreload(m, reload, self.old_objects)\n",
      "ImportError: cannot import name izip\n",
      "]\n",
      "[autoreload of theano.tensor.type failed: Traceback (most recent call last):\n",
      "  File \"/usr/lib/python2.7/site-packages/IPython/extensions/autoreload.py\", line 247, in check\n",
      "    superreload(m, reload, self.old_objects)\n",
      "AttributeError: 'module' object has no attribute 'ops'\n",
      "]\n",
      "[autoreload of theano.compile.builders failed: Traceback (most recent call last):\n",
      "  File \"/usr/lib/python2.7/site-packages/IPython/extensions/autoreload.py\", line 247, in check\n",
      "    superreload(m, reload, self.old_objects)\n",
      "ImportError: cannot import name izip\n",
      "]\n",
      "[autoreload of theano.tensor.type_other failed: Traceback (most recent call last):\n",
      "  File \"/usr/lib/python2.7/site-packages/IPython/extensions/autoreload.py\", line 247, in check\n",
      "    superreload(m, reload, self.old_objects)\n",
      "AttributeError: 'TheanoConfigParser' object has no attribute 'cxx'\n",
      "]\n",
      "[autoreload of theano.sandbox.cuda.dnn failed: Traceback (most recent call last):\n",
      "  File \"/usr/lib/python2.7/site-packages/IPython/extensions/autoreload.py\", line 247, in check\n",
      "    superreload(m, reload, self.old_objects)\n",
      "TypeError: unbound method __init__() must be called with Variable instance as first argument (got ScalarConstant instance instead)\n",
      "]\n",
      "[autoreload of theano.tensor.blas_c failed: Traceback (most recent call last):\n",
      "  File \"/usr/lib/python2.7/site-packages/IPython/extensions/autoreload.py\", line 247, in check\n",
      "    superreload(m, reload, self.old_objects)\n",
      "AttributeError: 'TheanoConfigParser' object has no attribute 'cxx'\n",
      "]\n",
      "[autoreload of theano.gof.cc failed: Traceback (most recent call last):\n",
      "  File \"/usr/lib/python2.7/site-packages/IPython/extensions/autoreload.py\", line 247, in check\n",
      "    superreload(m, reload, self.old_objects)\n",
      "ImportError: cannot import name izip\n",
      "]\n",
      "[autoreload of theano.compat.six failed: Traceback (most recent call last):\n",
      "  File \"/usr/lib/python2.7/site-packages/IPython/extensions/autoreload.py\", line 247, in check\n",
      "    superreload(m, reload, self.old_objects)\n",
      "AttributeError: 'NoneType' object has no attribute 'tkinter_messagebox'\n",
      "]\n",
      "[autoreload of theano.scalar.basic failed: Traceback (most recent call last):\n",
      "  File \"/usr/lib/python2.7/site-packages/IPython/extensions/autoreload.py\", line 247, in check\n",
      "    superreload(m, reload, self.old_objects)\n",
      "ImportError: cannot import name imap\n",
      "]\n",
      "[autoreload of theano.sandbox.gpuarray.elemwise failed: Traceback (most recent call last):\n",
      "  File \"/usr/lib/python2.7/site-packages/IPython/extensions/autoreload.py\", line 247, in check\n",
      "    superreload(m, reload, self.old_objects)\n",
      "ImportError: cannot import name izip\n",
      "]\n",
      "[autoreload of pkg_resources failed: Traceback (most recent call last):\n",
      "  File \"/usr/lib/python2.7/site-packages/IPython/extensions/autoreload.py\", line 247, in check\n",
      "    superreload(m, reload, self.old_objects)\n",
      "AttributeError: 'module' object has no attribute '_vendor'\n",
      "]\n",
      "[autoreload of theano.tensor.nnet.ConvGrad3D failed: Traceback (most recent call last):\n",
      "  File \"/usr/lib/python2.7/site-packages/IPython/extensions/autoreload.py\", line 247, in check\n",
      "    superreload(m, reload, self.old_objects)\n",
      "ImportError: cannot import name strutil\n",
      "]\n",
      "[autoreload of theano.tensor.xlogx failed: Traceback (most recent call last):\n",
      "  File \"/usr/lib/python2.7/site-packages/IPython/extensions/autoreload.py\", line 247, in check\n",
      "    superreload(m, reload, self.old_objects)\n",
      "AttributeError: 'TheanoConfigParser' object has no attribute 'cxx'\n",
      "]\n",
      "[autoreload of theano.sandbox.gpuarray.opt failed: Traceback (most recent call last):\n",
      "  File \"/usr/lib/python2.7/site-packages/IPython/extensions/autoreload.py\", line 247, in check\n",
      "    superreload(m, reload, self.old_objects)\n",
      "AssertionError\n",
      "]\n",
      "[autoreload of theano.compile.mode failed: Traceback (most recent call last):\n",
      "  File \"/usr/lib/python2.7/site-packages/IPython/extensions/autoreload.py\", line 247, in check\n",
      "    superreload(m, reload, self.old_objects)\n",
      "AttributeError: 'TheanoConfigParser' object has no attribute 'allow_gc'\n",
      "]\n",
      "[autoreload of theano.sandbox.cuda.nnet failed: Traceback (most recent call last):\n",
      "  File \"/usr/lib/python2.7/site-packages/IPython/extensions/autoreload.py\", line 247, in check\n",
      "    superreload(m, reload, self.old_objects)\n",
      "AttributeError: 'TheanoConfigParser' object has no attribute 'cxx'\n",
      "]\n",
      "[autoreload of theano.tensor.nnet.sigm failed: Traceback (most recent call last):\n",
      "  File \"/usr/lib/python2.7/site-packages/IPython/extensions/autoreload.py\", line 247, in check\n",
      "    superreload(m, reload, self.old_objects)\n",
      "ImportError: cannot import name imap\n",
      "]\n",
      "[autoreload of lasagne.layers.conv failed: Traceback (most recent call last):\n",
      "  File \"/usr/lib/python2.7/site-packages/IPython/extensions/autoreload.py\", line 247, in check\n",
      "    superreload(m, reload, self.old_objects)\n",
      "ImportError: cannot import name conv\n",
      "]\n",
      "[autoreload of theano.gof.lazylinker_c failed: Traceback (most recent call last):\n",
      "  File \"/usr/lib/python2.7/site-packages/IPython/extensions/autoreload.py\", line 247, in check\n",
      "    superreload(m, reload, self.old_objects)\n",
      "AttributeError: 'TheanoConfigParser' object has no attribute 'compiledir'\n",
      "]\n",
      "[autoreload of theano.gof.op failed: Traceback (most recent call last):\n",
      "  File \"/usr/lib/python2.7/site-packages/IPython/extensions/autoreload.py\", line 247, in check\n",
      "    superreload(m, reload, self.old_objects)\n",
      "AttributeError: 'TheanoConfigParser' object has no attribute 'cxx'\n",
      "]\n",
      "[autoreload of theano.tensor.nlinalg failed: Traceback (most recent call last):\n",
      "  File \"/usr/lib/python2.7/site-packages/IPython/extensions/autoreload.py\", line 247, in check\n",
      "    superreload(m, reload, self.old_objects)\n",
      "AttributeError: 'TheanoConfigParser' object has no attribute 'cxx'\n",
      "]\n",
      "[autoreload of theano.tensor.opt_uncanonicalize failed: Traceback (most recent call last):\n",
      "  File \"/usr/lib/python2.7/site-packages/IPython/extensions/autoreload.py\", line 247, in check\n",
      "    superreload(m, reload, self.old_objects)\n",
      "TypeError: descriptor 'next' for 'Link' objects doesn't apply to 'Link' object\n",
      "]\n",
      "[autoreload of theano.scan_module failed: Traceback (most recent call last):\n",
      "  File \"/usr/lib/python2.7/site-packages/IPython/extensions/autoreload.py\", line 247, in check\n",
      "    superreload(m, reload, self.old_objects)\n",
      "ImportError: cannot import name scan_opt\n",
      "]\n",
      "[autoreload of theano.tensor.raw_random failed: Traceback (most recent call last):\n",
      "  File \"/usr/lib/python2.7/site-packages/IPython/extensions/autoreload.py\", line 247, in check\n",
      "    superreload(m, reload, self.old_objects)\n",
      "ValueError: ('The name of the object cannot be an existing tag or the name of another existing object.', <theano.gof.opt.TopoOptimizer object at 0x7f9027b08e90>, 'random_make_inplace')\n",
      "]\n",
      "[autoreload of theano.sandbox.cuda failed: Traceback (most recent call last):\n",
      "  File \"/usr/lib/python2.7/site-packages/IPython/extensions/autoreload.py\", line 247, in check\n",
      "    superreload(m, reload, self.old_objects)\n",
      "ImportError: cannot import name nvcc_compiler\n",
      "]\n",
      "[autoreload of theano.compile.profiling failed: Traceback (most recent call last):\n",
      "  File \"/usr/lib/python2.7/site-packages/IPython/extensions/autoreload.py\", line 247, in check\n",
      "    superreload(m, reload, self.old_objects)\n",
      "AttributeError: 'TheanoConfigParser' object has no attribute 'profiling'\n",
      "]\n",
      "[autoreload of theano.scalar.basic_scipy failed: Traceback (most recent call last):\n",
      "  File \"/usr/lib/python2.7/site-packages/IPython/extensions/autoreload.py\", line 247, in check\n",
      "    superreload(m, reload, self.old_objects)\n",
      "AttributeError: 'TheanoConfigParser' object has no attribute 'cxx'\n",
      "]\n"
     ]
    },
    {
     "ename": "AttributeError",
     "evalue": "'TheanoConfigParser' object has no attribute 'device'",
     "output_type": "error",
     "traceback": [
      "\u001b[1;31m---------------------------------------------------------------------------\u001b[0m",
      "\u001b[1;31mAttributeError\u001b[0m                            Traceback (most recent call last)",
      "\u001b[1;32m<ipython-input-21-0120b366df1e>\u001b[0m in \u001b[0;36m<module>\u001b[1;34m()\u001b[0m\n\u001b[1;32m----> 1\u001b[1;33m \u001b[0mtheano\u001b[0m\u001b[1;33m.\u001b[0m\u001b[0mconfig\u001b[0m\u001b[1;33m.\u001b[0m\u001b[0mdevice\u001b[0m\u001b[1;33m\u001b[0m\u001b[0m\n\u001b[0m",
      "\u001b[1;31mAttributeError\u001b[0m: 'TheanoConfigParser' object has no attribute 'device'"
     ]
    }
   ],
   "source": [
    "theano.config.device"
   ]
  },
  {
   "cell_type": "code",
   "execution_count": null,
   "metadata": {
    "collapsed": true
   },
   "outputs": [],
   "source": []
  }
 ],
 "metadata": {
  "kernelspec": {
   "display_name": "Python 2",
   "language": "python",
   "name": "python2"
  },
  "language_info": {
   "codemirror_mode": {
    "name": "ipython",
    "version": 2
   },
   "file_extension": ".py",
   "mimetype": "text/x-python",
   "name": "python",
   "nbconvert_exporter": "python",
   "pygments_lexer": "ipython2",
   "version": "2.7.10"
  }
 },
 "nbformat": 4,
 "nbformat_minor": 0
}
