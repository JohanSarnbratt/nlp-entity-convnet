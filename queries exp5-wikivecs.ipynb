{
 "cells": [
  {
   "cell_type": "code",
   "execution_count": 1,
   "metadata": {
    "collapsed": true
   },
   "outputs": [],
   "source": [
    "%load_ext autoreload\n",
    "%autoreload 2"
   ]
  },
  {
   "cell_type": "code",
   "execution_count": 2,
   "metadata": {
    "collapsed": false
   },
   "outputs": [
    {
     "name": "stdout",
     "output_type": "stream",
     "text": [
      "Couldn't import dot_parser, loading of dot files will not be possible.\n"
     ]
    }
   ],
   "source": [
    "from theano import *\n",
    "from lasagne.layers import InputLayer, get_output\n",
    "import lasagne\n",
    "import lasagne.layers\n",
    "import theano.tensor as T\n",
    "import theano\n",
    "import numpy as np\n",
    "from helpers import SimpleMaxingLayer, SimpleAverageLayer\n",
    "from wordvecs import WordVectors, EmbeddingLayer\n",
    "import json\n",
    "import re\n",
    "\n",
    "theano.config.floatX = 'float32'\n",
    "#theano.config.linker = 'cvm_nogc'\n",
    "theano.config.openmp = True\n",
    "theano.config.openmp_elemwise_minsize = 20000"
   ]
  },
  {
   "cell_type": "code",
   "execution_count": 3,
   "metadata": {
    "collapsed": true
   },
   "outputs": [],
   "source": [
    "with open('/data/matthew/external-wiki2.json') as f:\n",
    "    queries = json.load(f)['queries']"
   ]
  },
  {
   "cell_type": "code",
   "execution_count": 4,
   "metadata": {
    "collapsed": false
   },
   "outputs": [
    {
     "data": {
      "text/plain": [
       "9915"
      ]
     },
     "execution_count": 4,
     "metadata": {},
     "output_type": "execute_result"
    }
   ],
   "source": [
    "len(queries)"
   ]
  },
  {
   "cell_type": "code",
   "execution_count": 5,
   "metadata": {
    "collapsed": false
   },
   "outputs": [
    {
     "data": {
      "text/plain": [
       "8917"
      ]
     },
     "execution_count": 5,
     "metadata": {},
     "output_type": "execute_result"
    }
   ],
   "source": [
    "sum([any([g['gold'] for g in v.values()]) for v in queries.values()])"
   ]
  },
  {
   "cell_type": "code",
   "execution_count": 6,
   "metadata": {
    "collapsed": false
   },
   "outputs": [],
   "source": [
    "wordvectors = WordVectors(\n",
    "    fname=\"/data/matthew/enwiki-20141208-pages-articles-multistream-links5-output1.bin\",\n",
    "    redir_fname='/data/matthew/enwiki-20141208-pages-articles-multistream-redirects5.json',\n",
    "    negvectors=False,\n",
    "    sentence_length=200,\n",
    ")\n",
    "wordvectors.add_unknown_words = False"
   ]
  },
  {
   "cell_type": "code",
   "execution_count": 7,
   "metadata": {
    "collapsed": false
   },
   "outputs": [],
   "source": [
    "# with open('/data/matthew/enwiki-20141208-pages-articles-multistream-redirects5.json') as f:\n",
    "#     page_redirects = json.load(f)\n",
    "page_redirects = wordvectors.redirects"
   ]
  },
  {
   "cell_type": "code",
   "execution_count": 8,
   "metadata": {
    "collapsed": false
   },
   "outputs": [
    {
     "data": {
      "text/plain": [
       "4613263"
      ]
     },
     "execution_count": 8,
     "metadata": {},
     "output_type": "execute_result"
    }
   ],
   "source": [
    "len(wordvectors.vectors)"
   ]
  },
  {
   "cell_type": "code",
   "execution_count": 9,
   "metadata": {
    "collapsed": false
   },
   "outputs": [],
   "source": [
    "from wikireader import WikiRegexes, WikipediaReader"
   ]
  },
  {
   "cell_type": "code",
   "execution_count": 10,
   "metadata": {
    "collapsed": false
   },
   "outputs": [],
   "source": [
    "def PreProcessedQueries(wikipedia_dump_fname, wordvec=wordvectors, queries=queries, redirects=page_redirects):\n",
    "    \n",
    "    get_words = re.compile('[^a-zA-Z0-9 ]')\n",
    "    get_link = re.compile('.*?\\[(.*?)\\].*?')\n",
    "    \n",
    "    queried_pages = set()\n",
    "    for docs, q in queries.iteritems():\n",
    "        wordvec.tokenize(docs, length=200)\n",
    "        for sur, v in q.iteritems():\n",
    "            wrds_sur = get_words.sub(' ', sur)\n",
    "            wordvec.tokenize(wrds_sur)\n",
    "            link_sur = get_link.match(sur).group(1)\n",
    "            wordvec.tokenize(link_sur)\n",
    "            for link in v['vals'].keys():\n",
    "                wrds = get_words.sub(' ', link)\n",
    "                wordvec.tokenize(wrds)\n",
    "                tt = WikiRegexes.convertToTitle(link)\n",
    "                wordvec.get_location(tt)\n",
    "                queried_pages.add(tt)\n",
    "\n",
    "    added_pages = set()\n",
    "    for title in queried_pages:\n",
    "        if title in redirects:\n",
    "            #wordvec.tokenize(self.redirects[title])\n",
    "            added_pages.add(redirects[title])\n",
    "    queried_pages |= added_pages\n",
    "\n",
    "    page_content = {}\n",
    "\n",
    "#     class GetWikipediaWords(WikipediaReader, WikiRegexes):\n",
    "\n",
    "#         def readPage(ss, title, content):\n",
    "#             tt = ss.convertToTitle(title)\n",
    "#             if tt in queried_pages:\n",
    "#                 cnt = ss._wikiToText(content)\n",
    "#                 page_content[tt] = wordvec.tokenize(cnt)\n",
    "\n",
    "#     GetWikipediaWords(wikipedia_dump_fname).read()\n",
    "    \n",
    "    rr = redirects\n",
    "    rq = queried_pages\n",
    "    rc = page_content\n",
    "\n",
    "    class PreProcessedQueriesCls(object):\n",
    "        \n",
    "        wordvecs = wordvec\n",
    "        queries = queries\n",
    "        redirects = rr\n",
    "        queried_pages = rq\n",
    "        page_content = rc\n",
    "        \n",
    "        \n",
    "    return PreProcessedQueriesCls"
   ]
  },
  {
   "cell_type": "code",
   "execution_count": 11,
   "metadata": {
    "collapsed": false
   },
   "outputs": [],
   "source": [
    "basePreProcessedQueries = PreProcessedQueries('/data/matthew/enwiki-20141208-pages-articles-multistream.xml')"
   ]
  },
  {
   "cell_type": "code",
   "execution_count": 12,
   "metadata": {
    "collapsed": false
   },
   "outputs": [
    {
     "data": {
      "text/plain": [
       "4613263"
      ]
     },
     "execution_count": 12,
     "metadata": {},
     "output_type": "execute_result"
    }
   ],
   "source": [
    "len(wordvectors.vectors)"
   ]
  },
  {
   "cell_type": "code",
   "execution_count": 185,
   "metadata": {
    "collapsed": false
   },
   "outputs": [],
   "source": [
    "class EntityVectorLinkExp(basePreProcessedQueries):\n",
    "    \n",
    "    batch_size = 1000 #20000\n",
    "    num_training_items = 500000 #200000\n",
    "    \n",
    "    def __init__(self): #, wikipedia_dump_fname, wordvec=wordvectors, queries=queries, redirects=page_redirects):\n",
    "        #self.wordvecs = wordvec\n",
    "        #self.queries = queries\n",
    "        self.sentence_length = self.wordvecs.sentence_length\n",
    "        self.document_length = 100\n",
    "        self.num_words_to_use_conv = 5\n",
    "        #self.redirects = redirects\n",
    "        #self.page_content = {}\n",
    "        #self.wikipedia_dump_fname = wikipedia_dump_fname\n",
    "        \n",
    "        #self._process_queries()\n",
    "        \n",
    "        self._setup()\n",
    "        \n",
    "#     def _process_queries(self):\n",
    "#         queried_pages = set()\n",
    "#         for docs, q in self.queries.iteritems():\n",
    "#             self.wordvecs.tokenize(docs)\n",
    "#             for sur, v in q.iteritems():\n",
    "#                 self.wordvecs.tokenize(sur)\n",
    "#                 for link in v['vals'].keys():\n",
    "#                     self.wordvecs.tokenize(link)\n",
    "#                     tt = WikiRegexes.convertToTitle(link)\n",
    "#                     #self.wordvecs.tokenize(tt)\n",
    "#                     queried_pages.add(tt)\n",
    "\n",
    "#         added_pages = set()\n",
    "#         for title in queried_pages:\n",
    "#             if title in self.redirects:\n",
    "#                 #self.wordvecs.tokenize(self.redirects[title])\n",
    "#                 added_pages.add(self.redirects[title])\n",
    "#         queried_pages |= added_pages\n",
    "        \n",
    "#         self.queried_pages = queried_pages\n",
    "                \n",
    "#         class GetWikipediaWords(WikipediaReader, WikiRegexes):\n",
    "            \n",
    "#             def readPage(ss, title, content):\n",
    "#                 tt = ss.convertToTitle(title)\n",
    "#                 if tt in queried_pages:\n",
    "#                     cnt = ss._wikiToText(content)\n",
    "#                     self.page_content[tt] = self.wordvecs.tokenize(cnt)\n",
    "        \n",
    "#         GetWikipediaWords(self.wikipedia_dump_fname).read()\n",
    "               \n",
    "        \n",
    "    def _setup(self):\n",
    "        self.x_document_input = T.imatrix('x_doc')\n",
    "        \n",
    "        self.x_document_id = T.ivector('x_doc_id')\n",
    "        self.x_surface_text_input = T.imatrix('x_surface_link')\n",
    "        self.x_surface_context_input = T.imatrix('x_surface_cxt')  # TODO\n",
    "        \n",
    "        self.x_target_input = T.ivector('x_target')\n",
    "        self.x_target_words = T.imatrix('x_target_words')\n",
    "        self.x_matches_surface = T.ivector('x_match_surface')\n",
    "        self.x_link_id = T.ivector('x_link_id')\n",
    "        \n",
    "        #self.y_score = T.vector('y')\n",
    "        self.y_answer = T.ivector('y_ans')  # contains the location of the gold answer so we can compute the loss\n",
    "        self.y_grouping = T.imatrix('y_grouping')\n",
    "        \n",
    "        \n",
    "        self.embedding_W = theano.shared(self.wordvecs.get_numpy_matrix().astype(theano.config.floatX))\n",
    "        \n",
    "        self.document_l = lasagne.layers.InputLayer(\n",
    "            (None,self.document_length), \n",
    "            input_var=self.x_document_input\n",
    "        )\n",
    "    \n",
    "        self.document_embedding_l = EmbeddingLayer(\n",
    "            self.document_l,\n",
    "            W=self.embedding_W,\n",
    "            add_word_params=False,\n",
    "        )\n",
    "        \n",
    "        self.document_conv1_l = lasagne.layers.Conv2DLayer(\n",
    "            self.document_embedding_l,\n",
    "            num_filters=500,\n",
    "            filter_size=(self.num_words_to_use_conv, self.wordvecs.vector_size),\n",
    "            name='document_conv1',\n",
    "            nonlinearity=lasagne.nonlinearities.tanh,\n",
    "        )\n",
    "        \n",
    "        self.document_max_l = lasagne.layers.Pool2DLayer(\n",
    "            self.document_conv1_l,\n",
    "            name='document_pool1',\n",
    "            pool_size=(self.document_length - self.num_words_to_use_conv, 1),\n",
    "            mode='sum',\n",
    "        )\n",
    "\n",
    "        self.document_dens1 = lasagne.layers.DenseLayer(\n",
    "            self.document_max_l,\n",
    "            num_units=250,\n",
    "            name='doucment_dens1',\n",
    "            nonlinearity=lasagne.nonlinearities.tanh,\n",
    "        )\n",
    "        \n",
    "        self.document_drop1 = lasagne.layers.DropoutLayer(\n",
    "            self.document_dens1,\n",
    "            p=.25,\n",
    "        )\n",
    "        \n",
    "        document_output_length = 200\n",
    "        \n",
    "        self.document_dens2 = lasagne.layers.DenseLayer(\n",
    "            self.document_drop1,\n",
    "            num_units=225,\n",
    "            name='document_dens2',\n",
    "            nonlinearity=lasagne.nonlinearities.tanh,\n",
    "        )\n",
    "        \n",
    "        self.document_drop2 = lasagne.layers.DropoutLayer(\n",
    "            self.document_dens2,\n",
    "            p=.25,\n",
    "        )\n",
    "        \n",
    "        self.document_dens3 = lasagne.layers.DenseLayer(\n",
    "            self.document_drop2,\n",
    "            num_units=document_output_length,\n",
    "            name='document_dens3',\n",
    "            nonlinearity=lasagne.nonlinearities.tanh,\n",
    "        )\n",
    "        \n",
    "        self.document_output = lasagne.layers.get_output(self.document_dens3)\n",
    "        \n",
    "        self.surface_context_l = lasagne.layers.InputLayer(\n",
    "            (None, self.sentence_length),\n",
    "            input_var=self.x_surface_context_input,\n",
    "        )\n",
    "        \n",
    "        self.surface_context_embedding_l = EmbeddingLayer(\n",
    "            self.surface_context_l,\n",
    "            W=self.embedding_W,\n",
    "            add_word_params=False,\n",
    "        )\n",
    "        \n",
    "        self.surface_context_conv1_l = lasagne.layers.Conv2DLayer(\n",
    "            self.surface_context_embedding_l,\n",
    "            num_filters=300,\n",
    "            filter_size=(self.num_words_to_use_conv, self.wordvecs.vector_size),\n",
    "            name='surface_cxt_conv1',\n",
    "            nonlinearity=lasagne.nonlinearities.tanh,\n",
    "        )\n",
    "        \n",
    "#         self.surface_context_avg1_l = SimpleAverageLayer(\n",
    "#             [self.surface_context_conv1_l, self.surface_context_l],\n",
    "#             #name='surface_context_avg'\n",
    "#         )\n",
    "        \n",
    "        self.surface_context_pool1_l = lasagne.layers.Pool2DLayer(\n",
    "            self.surface_context_conv1_l,\n",
    "            name='surface_cxt_pool1',\n",
    "            pool_size=(self.sentence_length - self.num_words_to_use_conv, 1),\n",
    "            mode='sum',\n",
    "        )\n",
    "                \n",
    "        self.surface_input_l = lasagne.layers.InputLayer(\n",
    "            (None, self.sentence_length), \n",
    "            input_var=self.x_surface_text_input\n",
    "        )\n",
    "        \n",
    "        self.surface_embedding_l = EmbeddingLayer(\n",
    "            self.surface_input_l,\n",
    "            W=self.embedding_W,\n",
    "            add_word_params=False,\n",
    "        )\n",
    "        \n",
    "        self.surface_conv1_l = lasagne.layers.Conv2DLayer(\n",
    "            self.surface_embedding_l,\n",
    "            num_filters=300,\n",
    "            filter_size=(self.num_words_to_use_conv, self.wordvecs.vector_size),\n",
    "            name='surface_conv1',\n",
    "            nonlinearity=lasagne.nonlinearities.tanh,\n",
    "        )\n",
    "        \n",
    "#         self.surface_avg1_l = SimpleAverageLayer(\n",
    "#             [self.surface_conv1_l, self.surface_input_l],\n",
    "#             #name='surface_avg'\n",
    "#         )\n",
    "        \n",
    "        self.surface_pool1_l = lasagne.layers.Pool2DLayer(\n",
    "            self.surface_conv1_l,\n",
    "            name='surface_pool1',\n",
    "            pool_size=(self.sentence_length - self.num_words_to_use_conv, 1),\n",
    "            mode='sum',\n",
    "        )\n",
    "        \n",
    "        self.surface_merged_l = lasagne.layers.ConcatLayer(\n",
    "            [self.surface_context_pool1_l, self.surface_pool1_l]\n",
    "        )\n",
    "        \n",
    "        self.surface_dens1 = lasagne.layers.DenseLayer(\n",
    "            self.surface_merged_l,\n",
    "            name='surface_dens1',\n",
    "            num_units=250,\n",
    "            nonlinearity=lasagne.nonlinearities.tanh,\n",
    "        )\n",
    "        \n",
    "#         self.surface_drop1 = lasagne.layers.DropoutLayer(\n",
    "#             self.surface_dens1,\n",
    "#             p=.25,\n",
    "#         )\n",
    "        \n",
    "#         self.surface_dens2 = lasagne.layers.DenseLayer(\n",
    "#             self.surface_drop1,\n",
    "#             name='surface_dens2',\n",
    "#             num_units=200,\n",
    "#             nonlinearity=lasagne.nonlinearities.tanh,\n",
    "#         )\n",
    "        \n",
    "        self.document_aligned_l = InputLayer(\n",
    "            (None, document_output_length),\n",
    "            input_var=self.document_output[self.x_document_id,:]\n",
    "        )\n",
    "        \n",
    "        self.source_l = lasagne.layers.ConcatLayer(\n",
    "            [self.document_aligned_l, self.surface_dens1]\n",
    "        )\n",
    "        \n",
    "        self.source_dens1 = lasagne.layers.DenseLayer(\n",
    "            self.source_l,\n",
    "            num_units=300,\n",
    "            name='source_dens1',\n",
    "            nonlinearity=lasagne.nonlinearities.tanh,\n",
    "        )\n",
    "        \n",
    "        self.source_drop1 = lasagne.layers.DropoutLayer(\n",
    "            self.source_dens1,\n",
    "            p=.25,\n",
    "        )\n",
    "        \n",
    "        self.source_dens12 = lasagne.layers.DenseLayer(\n",
    "            self.source_drop1,\n",
    "            num_units=250,\n",
    "            name='source_dens12',\n",
    "            nonlinearity=lasagne.nonlinearities.tanh,\n",
    "        )\n",
    "        \n",
    "        self.source_drop12 = lasagne.layers.DropoutLayer(\n",
    "            self.source_dens12,\n",
    "            p=.25,\n",
    "        )\n",
    "        \n",
    "        compared_vector_size = self.wordvecs.vector_size #+ 2 # extra space for if it matches the surface text\n",
    "        \n",
    "        self.source_dens2 = lasagne.layers.DenseLayer(\n",
    "            self.source_drop12,\n",
    "            num_units=compared_vector_size,  # this is the same size as the learned wikipedia vectors\n",
    "            name='source_dens2',\n",
    "            nonlinearity=lasagne.nonlinearities.linear,\n",
    "        )\n",
    "        \n",
    "        self.source_out = lasagne.layers.get_output(self.source_dens2)\n",
    "        \n",
    "        matched_surface_reshaped = self.x_matches_surface.reshape(\n",
    "            (self.x_matches_surface.shape[0], 1, 1, 1)).astype(theano.config.floatX)\n",
    "                \n",
    "        self.target_input_l = lasagne.layers.InputLayer(\n",
    "            (None,),\n",
    "            input_var=self.x_target_input\n",
    "        )\n",
    "        \n",
    "        self.target_matched_surface_input_l = lasagne.layers.InputLayer(\n",
    "            (None,1,1,1),\n",
    "            input_var=matched_surface_reshaped,\n",
    "        )\n",
    "        \n",
    "        self.target_embedding_l = EmbeddingLayer(\n",
    "            lasagne.layers.reshape(self.target_input_l, ([0], 1)),\n",
    "            W=self.embedding_W,\n",
    "            add_word_params=False,\n",
    "        )\n",
    "        \n",
    "        self.target_combined_feats_l = lasagne.layers.ConcatLayer(\n",
    "            [self.target_embedding_l, self.target_matched_surface_input_l],\n",
    "            axis=3\n",
    "        )\n",
    "        \n",
    "        self.target_words_input_l = lasagne.layers.InputLayer(\n",
    "            (None,self.sentence_length),\n",
    "            input_var=self.x_target_words,\n",
    "        )\n",
    "        \n",
    "        self.target_words_embedding_l = EmbeddingLayer(\n",
    "            self.target_words_input_l,\n",
    "            W=self.embedding_W,\n",
    "            add_word_params=False,\n",
    "        )\n",
    "        \n",
    "        self.target_words_conv1_l = lasagne.layers.Conv2DLayer(\n",
    "            self.target_words_embedding_l,\n",
    "            name='target_wrds_conv1',\n",
    "            filter_size=(self.num_words_to_use_conv, self.wordvecs.vector_size),\n",
    "            num_filters=350,\n",
    "            nonlinearity=lasagne.nonlinearities.tanh,\n",
    "        )\n",
    "        \n",
    "        self.target_words_pool1_l = lasagne.layers.Pool2DLayer(\n",
    "            self.target_words_conv1_l,\n",
    "            name='target_wrds_pool1',\n",
    "            pool_size=(self.sentence_length - self.num_words_to_use_conv, 1),\n",
    "            mode='sum',\n",
    "        )\n",
    "        \n",
    "        self.target_merge_l = lasagne.layers.ConcatLayer(\n",
    "            [lasagne.layers.reshape(self.target_words_pool1_l, ([0], [1])),\n",
    "             lasagne.layers.reshape(self.target_embedding_l, ([0], [3]))]\n",
    "        )\n",
    "        \n",
    "        self.target_dens1 = lasagne.layers.DenseLayer(\n",
    "            self.target_merge_l,\n",
    "            name='target_wrds_dens1',\n",
    "            num_units=400,\n",
    "            nonlinearity=lasagne.nonlinearities.tanh,\n",
    "        )\n",
    "        \n",
    "        self.target_drop1 = lasagne.layers.DropoutLayer(\n",
    "            self.target_dens1,\n",
    "            p=.25,\n",
    "        )\n",
    "        \n",
    "        self.target_dens2 = lasagne.layers.DenseLayer(\n",
    "            self.target_drop1,\n",
    "            name='target_wrds_dens1',\n",
    "            num_units=compared_vector_size,\n",
    "            nonlinearity=lasagne.nonlinearities.linear,\n",
    "        )\n",
    "        \n",
    "        self.target_simple = lasagne.layers.DenseLayer(\n",
    "            self.target_combined_feats_l,\n",
    "            name='target_simple1',\n",
    "            num_units=compared_vector_size,\n",
    "            nonlinearity=lasagne.nonlinearities.linear,\n",
    "        )\n",
    "        \n",
    "#         self.target_dens1 = lasagne.layers.DenseLayer(\n",
    "#             self.target_conv1_l,\n",
    "#             name='target_dens1',\n",
    "#             num_units=300,\n",
    "#             nonlinearity=lasagne.nonlinearities.tanh,\n",
    "#         )\n",
    "        \n",
    "#         self.target_drop1 = lasagne.layers.DropoutLayer(\n",
    "#             self.target_dens1,\n",
    "#             p=.25,\n",
    "#         )\n",
    "        \n",
    "#         self.target_dens2 = lasagne.layers.DenseLayer(\n",
    "#             self.target_drop1,\n",
    "#             name='target_dens2',\n",
    "#             num_units=300,\n",
    "#             nonlinearity=lasagne.nonlinearities.tanh,\n",
    "#         )\n",
    "        \n",
    "        \n",
    "    \n",
    "        #self.target_out = lasagne.layers.get_output(self.target_embedding_l)\n",
    "        \n",
    "        \n",
    "#         self.target_out = T.concatenate(\n",
    "#             [self.embedding_W[self.x_target_input],\n",
    "#              matched_surface_reshaped,\n",
    "#             1-matched_surface_reshaped],\n",
    "#              axis=1)\n",
    "        \n",
    "        \n",
    "        #self.target_out = self.embedding_W[self.x_target_input]\n",
    "        #self.target_out = lasagne.layers.get_output(self.target_dens2)\n",
    "        \n",
    "        self.target_out = lasagne.layers.get_output(self.target_simple)\n",
    "        \n",
    "        # compute the cosine distance between the two layers\n",
    "        self.source_aligned_l = self.source_out[self.x_link_id, :]\n",
    "        \n",
    "        # this uses scan internally, which means that it comes back into python code to run the loop.....fml\n",
    "        self.dotted_vectors =  T.batched_dot(self.target_out, self.source_aligned_l)\n",
    "        # diag also does not support a C version.........\n",
    "        #self.dotted_vectors = T.dot(self.target_out, self.source_aligned_l.T).diagonal()\n",
    "        \n",
    "        def augNorm(v):\n",
    "            return T.maximum(T.basic.pow(T.basic.pow(T.basic.abs_(v), 2).sum(axis=1) + .001, .5), .001)\n",
    "    \n",
    "        self.res_l = self.dotted_vectors / (augNorm(self.target_out) * augNorm(self.source_aligned_l) + .001)\n",
    "#         self.res_l = self.dotted_vectors / ((self.target_out.norm(1, axis=1) + .001) * \n",
    "#                                             (self.source_aligned_l.norm(1, axis=1) + .001))\n",
    "        \n",
    "        self.res_cap = T.clip((T.tanh(self.res_l) + 1) / 2, .001, .999)\n",
    "        \n",
    "        #self.golds = self.res_cap[self.y_answer]\n",
    "                \n",
    "#         def maxOverRange(indx):\n",
    "#             #return T.max(self.res_cap[T.arange(indx[0],indx[1])]) - self.res_cap[indx[2]]\n",
    "#             #return -( self.res_l[indx[2]] - T.log(T.exp(self.res_l[T.arange(indx[0],indx[1])]).sum()) )\n",
    "#             return -( self.res_l[indx[2]] - self.res_l[indx[0]])\n",
    "        \n",
    "#         # build a tensor to make a matrix with one set on each dimention\n",
    "#         self.grouped, grouped_update = theano.scan(maxOverRange, sequences=self.y_grouping)\n",
    "        \n",
    "        def setSubSelector(indx, outputs):\n",
    "            return T.set_subtensor(outputs[T.arange(indx[0], indx[1]), indx[3]], 1)\n",
    "        \n",
    "        num_target_samples = self.res_l.shape[0]\n",
    "        \n",
    "        select_seq = T.concatenate([\n",
    "            self.y_grouping,\n",
    "            T.arange(self.y_grouping.shape[0]).reshape((self.y_grouping.shape[0], 1))\n",
    "        ], axis=1)\n",
    "        \n",
    "        self.selecting_matrix, _ = theano.scan(\n",
    "            setSubSelector,\n",
    "            outputs_info=T.zeros((num_target_samples, num_target_samples)),\n",
    "            #n_steps=self.y_grouping.shape[0]\n",
    "            sequences=select_seq,\n",
    "        )\n",
    "        \n",
    "        self.groupped_elems = T.dot(self.selecting_matrix[-1], T.diag(T.exp(self.res_l)))\n",
    "        self.groupped_res = T.log(self.groupped_elems.sum(axis=0)[T.arange(self.y_grouping.shape[0])])\n",
    "        self.loss_vec = self.groupped_res - self.res_l[self.y_grouping[:,2]]\n",
    "        \n",
    "        self.all_params = (\n",
    "            #lasagne.layers.get_all_params(self.target_dens2) +\n",
    "            # TODO: add params for the target stuff, \n",
    "            lasagne.layers.get_all_params(self.target_simple) +\n",
    "            lasagne.layers.get_all_params(self.source_dens2) +\n",
    "            lasagne.layers.get_all_params(self.document_dens2)\n",
    "        )\n",
    "        \n",
    "        # weight the positive samples more since there are fewer of them,\n",
    "        # freaking hack\n",
    "        #self.loss_vec = -(10 * self.y_score * T.log(self.res_cap) + (1.0 - self.y_score) * T.log(1.0 - self.res_cap))\n",
    "        \n",
    "        #self.loss_vec = T.nnet.binary_crossentropy(self.res_cap, self.y_score)\n",
    "        \n",
    "        #self.loss_vec = T.exp(T.max(self.res_cap - self.res_cap[self.y_answer] + .1, 0)) - 1  # TODO: maybe have some squared term here or something?\n",
    "        \n",
    "        # this one works reasonably well\n",
    "        #self.loss_vec = - T.log((T.clip(self.res_cap[self.y_answer] - self.res_cap, -1.0, 0.4) + 1.0) / 1.5)\n",
    "        \n",
    "        #self.loss_vec = self.grouped\n",
    "        \n",
    "        #self.loss_vec = - T.log((T.clip(self.res_l[self.y_answer] - self.res_l, -40.0, 10.0) + 40.0) / 51.0)\n",
    "        #self.loss_vec = T.max(self.res_l[self.y_answer] - self.res_l + .1, 0)\n",
    "        \n",
    "        self.updates = lasagne.updates.adadelta(self.loss_vec.mean(), self.all_params)\n",
    "        \n",
    "        self.func_inputs = [\n",
    "            self.x_document_input,\n",
    "            self.x_surface_text_input, self.x_surface_context_input, self.x_document_id,\n",
    "            self.x_target_input, self.x_matches_surface, self.x_link_id, \n",
    "            self.y_answer, self.y_grouping\n",
    "        ]  # self.x_target_words,\n",
    "        \n",
    "        self.train_func = theano.function(\n",
    "            self.func_inputs,\n",
    "            [self.res_cap, self.loss_vec.sum(), self.loss_vec],\n",
    "            updates=self.updates,\n",
    "            on_unused_input='ignore',\n",
    "        )\n",
    "        \n",
    "        self.test_func = theano.function(\n",
    "            self.func_inputs,\n",
    "            [self.res_cap, self.loss_vec.sum(), self.loss_vec],\n",
    "            on_unused_input='ignore',\n",
    "        )\n",
    "        \n",
    "    def reset_accums(self):\n",
    "        self.current_documents = []\n",
    "        self.current_surface_context = []\n",
    "        self.current_surface_link = []\n",
    "        self.current_link_id = []\n",
    "        self.current_target_input = []\n",
    "        self.current_target_words = []\n",
    "        self.current_target_matches_surface = []\n",
    "        self.current_target_id = []\n",
    "        self.current_target_goal = []\n",
    "        self.current_learning_groups = []\n",
    "        self.learning_targets = []\n",
    "        \n",
    "    def compute_batch(self, isTraining=True):\n",
    "        if isTraining:\n",
    "            func = self.train_func\n",
    "        else:\n",
    "            func = self.test_func\n",
    "        self.reset_accums()\n",
    "        self.total_links = 0\n",
    "        self.total_loss = 0.0\n",
    "        \n",
    "        get_words = re.compile('[^a-zA-Z0-9 ]')\n",
    "        get_link = re.compile('.*?\\[(.*?)\\].*?')\n",
    "        \n",
    "        for doc, queries in self.queries.iteritems():\n",
    "            # skip the testing documents while training and vice versa\n",
    "            if queries.values()[0]['training'] is not isTraining:\n",
    "                continue\n",
    "            docid = len(self.current_documents)\n",
    "            self.current_documents.append(self.wordvecs.tokenize(doc, length=self.document_length))\n",
    "            for surtxt, targets in queries.iteritems():\n",
    "                self.current_link_id.append(docid)\n",
    "                surid = len(self.current_surface_link)\n",
    "                self.current_surface_context.append(self.wordvecs.tokenize(get_words.sub(' ' , surtxt)))\n",
    "                surlink = get_link.match(surtxt).group(1)\n",
    "                self.current_surface_link.append(self.wordvecs.tokenize(surlink))\n",
    "                surmatch = surlink.lower()\n",
    "                #target_page_input = []\n",
    "                target_words_input = []\n",
    "                target_matches_surface = []\n",
    "                target_inputs = []\n",
    "                target_learings = []\n",
    "                target_gold_loc = None\n",
    "                target_group_start = len(self.current_target_input)\n",
    "                for target in targets['vals'].keys():\n",
    "                    # skip the items that we don't know the gold for\n",
    "                    if not targets['gold'] and isTraining:\n",
    "                        continue\n",
    "                    isGold = target == targets['gold']\n",
    "                    #cnt = self.page_content.get(WikiRegexes.convertToTitle(target))\n",
    "                    cnt = self.wordvecs.get_location(WikiRegexes.convertToTitle(target))\n",
    "                    if cnt is None:\n",
    "                        # were not able to find this wikipedia document\n",
    "                        # so just ignore tihs result since trying to train on it will cause\n",
    "                        # issues\n",
    "                        continue\n",
    "                    if isGold:\n",
    "                        target_gold_loc = len(target_inputs)\n",
    "                    #target_page_input.append(cnt)\n",
    "                    target_words_input.append(self.wordvecs.tokenize(get_words.sub(' ', target)))\n",
    "                    target_inputs.append(cnt)  # page_content already tokenized\n",
    "                    target_matches_surface.append(int(surmatch == target.lower()))\n",
    "                    target_learings.append((targets, target))\n",
    "                if target_gold_loc is not None:  # if we can't get the gold item\n",
    "                    # contain the index of the gold item for these items, so it can be less then it\n",
    "                    gold_loc = (len(self.current_target_goal) + target_gold_loc)\n",
    "                    self.current_target_goal += [gold_loc] * len(target_inputs)\n",
    "                    self.current_target_input += target_inputs\n",
    "                    self.current_target_id += [surid] * len(target_inputs)\n",
    "                    self.current_target_words += target_words_input   # TODO: add\n",
    "                    self.current_target_matches_surface += target_matches_surface\n",
    "                    target_group_end = len(self.current_target_input)\n",
    "                    self.current_learning_groups.append(\n",
    "                        [target_group_start, target_group_end,\n",
    "                         gold_loc])\n",
    "                \n",
    "                #self.current_target_goal.append(isGold)\n",
    "                self.learning_targets += target_learings\n",
    "            if len(self.current_target_id) > self.batch_size:\n",
    "                #return\n",
    "                self.run_batch(func)\n",
    "                if self.total_links > self.num_training_items:\n",
    "                    return self.total_loss / self.total_links\n",
    "        \n",
    "        if len(self.current_target_id) > 0:\n",
    "            self.run_batch(func)\n",
    "            \n",
    "        return self.total_loss / self.total_links\n",
    "        \n",
    "    def run_batch(self, func):\n",
    "        res_vec, loss_sum, loss_vec = func(\n",
    "            self.current_documents,\n",
    "            self.current_surface_link, self.current_surface_context, self.current_link_id,\n",
    "            self.current_target_input, self.current_target_matches_surface, self.current_target_id, \n",
    "            self.current_target_goal, self.current_learning_groups,  \n",
    "            # self.current_target_words,\n",
    "        )\n",
    "        self.check_params()\n",
    "        self.total_links += len(self.current_target_id)\n",
    "        self.total_loss += loss_sum\n",
    "        for i in xrange(len(res_vec)):\n",
    "            # save the results from this pass\n",
    "            l = self.learning_targets[i]\n",
    "            l[0]['vals'][ l[1] ] = res_vec[i]\n",
    "        self.reset_accums()\n",
    "        \n",
    "    def check_params(self):\n",
    "        if any([np.isnan(v.get_value(borrow=True)).any() for v in self.all_params]):\n",
    "            raise RuntimeError('nan in some of the parameters')\n",
    "        \n",
    "\n",
    "        \n",
    "queries_exp = EntityVectorLinkExp() "
   ]
  },
  {
   "cell_type": "code",
   "execution_count": 186,
   "metadata": {
    "collapsed": true
   },
   "outputs": [],
   "source": [
    "queries_exp.check_params()"
   ]
  },
  {
   "cell_type": "code",
   "execution_count": 187,
   "metadata": {
    "collapsed": true
   },
   "outputs": [],
   "source": [
    "queries_exp.num_training_items = 5000"
   ]
  },
  {
   "cell_type": "code",
   "execution_count": 181,
   "metadata": {
    "collapsed": true
   },
   "outputs": [],
   "source": [
    "gg_func = theano.function(queries_exp.func_inputs, \n",
    "                          [queries_exp.groupped_elems, queries_exp.selecting_matrix[-1], queries_exp.loss_vec], on_unused_input='ignore')"
   ]
  },
  {
   "cell_type": "code",
   "execution_count": 182,
   "metadata": {
    "collapsed": false
   },
   "outputs": [],
   "source": [
    "gg_res1 = gg_func(queries_exp.current_documents,\n",
    "            queries_exp.current_surface_link, queries_exp.current_surface_context, queries_exp.current_link_id,\n",
    "            queries_exp.current_target_input, queries_exp.current_target_matches_surface, queries_exp.current_target_id, \n",
    "            queries_exp.current_target_goal, queries_exp.current_learning_groups, )"
   ]
  },
  {
   "cell_type": "code",
   "execution_count": 184,
   "metadata": {
    "collapsed": false
   },
   "outputs": [
    {
     "data": {
      "text/plain": [
       "array([-2.86913443, -2.62615347, -2.3413837 , -2.49098992, -2.44588065,\n",
       "       -1.9924705 , -1.79238474, -2.72615385, -1.18783355, -2.66712403,\n",
       "       -1.2447325 , -1.10090196, -2.34183621, -2.69999909, -2.87864423,\n",
       "       -2.87402391, -2.32482743, -2.63631964, -1.35293972, -2.59623647,\n",
       "       -2.7123065 , -1.03472805, -2.12927222, -2.51011562, -2.95277238,\n",
       "       -1.77430236, -2.59527659, -2.64952874, -2.69206858, -2.79288411,\n",
       "       -2.8009727 , -2.93313169, -2.77499199, -2.28208804, -2.83413815,\n",
       "       -2.87226152, -2.9714725 , -2.68866014, -2.81102395, -2.85955191,\n",
       "       -2.51190019, -2.79631543, -2.67796993, -2.78584576, -2.86833954,\n",
       "       -2.88029981, -2.79979134, -2.76732826, -3.01221061, -2.73441625,\n",
       "       -2.89943409, -2.50974035, -2.72552538, -2.76747704, -2.70211053,\n",
       "       -2.6699264 , -2.87494946, -2.86885977, -2.96578479, -2.62470675,\n",
       "       -1.09890819, -0.65364844, -2.5796876 , -2.61764169, -3.03247046,\n",
       "       -2.71569657, -1.99616408, -2.67499948, -2.66474295, -2.38146996,\n",
       "       -2.765728  , -2.8619926 , -2.50834227, -2.18787837, -2.80301833,\n",
       "       -2.76958609, -2.8814249 , -2.47270656, -2.74125767, -2.31849289,\n",
       "       -2.92941403, -2.62631559, -2.75024819, -2.72801471], dtype=float32)"
      ]
     },
     "execution_count": 184,
     "metadata": {},
     "output_type": "execute_result"
    }
   ],
   "source": [
    "gg_res1[-1]"
   ]
  },
  {
   "cell_type": "code",
   "execution_count": 144,
   "metadata": {
    "collapsed": false
   },
   "outputs": [
    {
     "data": {
      "text/plain": [
       "(1174, 1174)"
      ]
     },
     "execution_count": 144,
     "metadata": {},
     "output_type": "execute_result"
    }
   ],
   "source": [
    "gg_res1[1].shape"
   ]
  },
  {
   "cell_type": "code",
   "execution_count": 155,
   "metadata": {
    "collapsed": false
   },
   "outputs": [
    {
     "data": {
      "text/plain": [
       "16.365379"
      ]
     },
     "execution_count": 155,
     "metadata": {},
     "output_type": "execute_result"
    }
   ],
   "source": [
    "(gg_res1[0][:,0]).sum()"
   ]
  },
  {
   "cell_type": "code",
   "execution_count": 166,
   "metadata": {
    "collapsed": false
   },
   "outputs": [
    {
     "data": {
      "text/plain": [
       "84"
      ]
     },
     "execution_count": 166,
     "metadata": {},
     "output_type": "execute_result"
    }
   ],
   "source": [
    "(gg_res1[0].sum(axis=0) != 0).sum()"
   ]
  },
  {
   "cell_type": "code",
   "execution_count": 145,
   "metadata": {
    "collapsed": false
   },
   "outputs": [
    {
     "data": {
      "text/plain": [
       "0.0"
      ]
     },
     "execution_count": 145,
     "metadata": {},
     "output_type": "execute_result"
    }
   ],
   "source": [
    "(gg_res1[1] * np.diag(range(1174))).suma()"
   ]
  },
  {
   "cell_type": "code",
   "execution_count": 188,
   "metadata": {
    "collapsed": false
   },
   "outputs": [
    {
     "name": "stdout",
     "output_type": "stream",
     "text": [
      "0.192039556537\n",
      "CPU times: user 2min 45s, sys: 780 ms, total: 2min 46s\n",
      "Wall time: 22.4 s\n"
     ]
    }
   ],
   "source": [
    "%time print queries_exp.compute_batch()"
   ]
  },
  {
   "cell_type": "code",
   "execution_count": null,
   "metadata": {
    "collapsed": false
   },
   "outputs": [],
   "source": [
    "exp_results = []\n",
    "\n",
    "for i in xrange(10):\n",
    "    res = (i, queries_exp.compute_batch())\n",
    "    print res\n",
    "    exp_results.append(res)"
   ]
  },
  {
   "cell_type": "code",
   "execution_count": 63,
   "metadata": {
    "collapsed": false
   },
   "outputs": [
    {
     "data": {
      "text/plain": [
       "[(0, 0.18276306893120617),\n",
       " (1, 0.17851761295365662),\n",
       " (2, 0.17558965292102163),\n",
       " (3, 0.1728360456534225),\n",
       " (4, 0.17062002380103927),\n",
       " (5, 0.16867214192254962),\n",
       " (6, 0.16693957716262156),\n",
       " (7, 0.16544881836617559),\n",
       " (8, 0.16401495062588603),\n",
       " (9, 0.1626020978752285)]"
      ]
     },
     "execution_count": 63,
     "metadata": {},
     "output_type": "execute_result"
    }
   ],
   "source": [
    "exp_results"
   ]
  },
  {
   "cell_type": "code",
   "execution_count": 126,
   "metadata": {
    "collapsed": false
   },
   "outputs": [
    {
     "name": "stdout",
     "output_type": "stream",
     "text": [
      "(0, 0.25193260436527221)\n",
      "(1, 0.25044544424895365)\n",
      "(2, 0.24861832749520102)\n",
      "(3, 0.24680458788548709)\n",
      "(4, 0.24596285032174101)\n",
      "(5, 0.24384991506907869)\n",
      "(6, 0.2437858940689287)\n",
      "(7, 0.24187204418354905)\n",
      "(8, 0.24013947445857298)\n",
      "(9, 0.23896747579956618)\n",
      "(10, 0.23744868123049398)\n",
      "(11, 0.23544743766594531)\n",
      "(12, 0.23446426546527424)\n",
      "(13, 0.23326840963182313)\n",
      "(14, 0.23203740957061897)\n",
      "(15, 0.23043360718066389)\n",
      "(16, 0.22962830958825009)\n",
      "(17, 0.22864763873605373)\n",
      "(18, 0.22630063163105227)\n",
      "(19, 0.22634391228343279)\n"
     ]
    }
   ],
   "source": [
    "for i in xrange(20):\n",
    "    res = (i, queries_exp.compute_batch())\n",
    "    print res\n",
    "    exp_results.append(res)"
   ]
  },
  {
   "cell_type": "code",
   "execution_count": 127,
   "metadata": {
    "collapsed": false
   },
   "outputs": [
    {
     "name": "stdout",
     "output_type": "stream",
     "text": [
      "(0, 0.22548462021102186)\n",
      "(1, 0.22753476401151757)\n",
      "(2, 0.22298776317791502)\n",
      "(3, 0.22604879541592512)\n",
      "(4, 0.22105116172538422)\n",
      "(5, 0.21943825814520188)\n",
      "(6, 0.21875800825868649)\n",
      "(7, 0.21848983722395929)\n",
      "(8, 0.21799020695030547)\n",
      "(9, 0.22275115899192863)\n",
      "(10, 0.21617527863669928)\n",
      "(11, 0.21316958732527516)\n",
      "(12, 0.21270735192963486)\n",
      "(13, 0.21063031581620217)\n",
      "(14, 0.20969470163014006)\n",
      "(15, 0.2088916856731593)\n",
      "(16, 0.21122537337921632)\n",
      "(17, 0.2081131099752335)\n",
      "(18, 0.20845197649796071)\n",
      "(19, 0.20761137411826339)\n"
     ]
    }
   ],
   "source": [
    "for i in xrange(20):\n",
    "    res = (i, queries_exp.compute_batch())\n",
    "    print res\n",
    "    exp_results.append(res)"
   ]
  },
  {
   "cell_type": "code",
   "execution_count": 143,
   "metadata": {
    "collapsed": false
   },
   "outputs": [
    {
     "name": "stdout",
     "output_type": "stream",
     "text": [
      "(0, 0.20535454935796019)\n",
      "(1, 0.20411033271224777)\n",
      "(2, 0.20391712185199662)\n",
      "(3, 0.20471953359811271)\n",
      "(4, 0.20291538812455293)\n",
      "(5, 0.20140318917198244)\n",
      "(6, 0.19897731353551321)\n",
      "(7, 0.19744544463204308)\n",
      "(8, 0.20007354640555775)\n",
      "(9, 0.19819391260117167)\n",
      "(10, 0.19856921768681424)\n",
      "(11, 0.19809518961618588)\n",
      "(12, 0.1943694366967742)\n",
      "(13, 0.19219715638818261)\n",
      "(14, 0.19213015940305117)\n",
      "(15, 0.19119296779002301)\n",
      "(16, 0.19165825240832535)\n",
      "(17, 0.19095094401567475)\n",
      "(18, 0.18898030394268406)\n",
      "(19, 0.18836112160600815)\n"
     ]
    }
   ],
   "source": [
    "for i in xrange(20):\n",
    "    res = (i, queries_exp.compute_batch())\n",
    "    print res\n",
    "    exp_results.append(res)"
   ]
  },
  {
   "cell_type": "code",
   "execution_count": 40,
   "metadata": {
    "collapsed": false
   },
   "outputs": [
    {
     "data": {
      "text/plain": [
       "(256091, 256091)"
      ]
     },
     "execution_count": 40,
     "metadata": {},
     "output_type": "execute_result"
    }
   ],
   "source": [
    "len(queries_exp.current_target_goal), len(queries_exp.current_target_inputa)"
   ]
  },
  {
   "cell_type": "code",
   "execution_count": null,
   "metadata": {
    "collapsed": false
   },
   "outputs": [],
   "source": [
    "queries_exp.compute_batch(False)"
   ]
  },
  {
   "cell_type": "code",
   "execution_count": 73,
   "metadata": {
    "collapsed": false
   },
   "outputs": [
    {
     "data": {
      "text/plain": [
       "[(0, 1.2287285061402835e-05), (1, 1.1753841393782684e-05)]"
      ]
     },
     "execution_count": 73,
     "metadata": {},
     "output_type": "execute_result"
    }
   ],
   "source": [
    "exp_results"
   ]
  },
  {
   "cell_type": "code",
   "execution_count": 67,
   "metadata": {
    "collapsed": false
   },
   "outputs": [],
   "source": [
    "all_measured = 0\n",
    "all_correct = 0\n",
    "all_trained = 0\n",
    "for qu in queries.values():\n",
    "    for en in qu.values():\n",
    "        for e in en:\n",
    "            if en['gold']:\n",
    "                if all_trained > 5000:\n",
    "                    break\n",
    "                all_measured += 1\n",
    "                all_trained += len(en['vals'].values())\n",
    "                m = max(en['vals'].values())\n",
    "                if en['vals'][en['gold']] == m:\n",
    "                    all_correct += 1"
   ]
  },
  {
   "cell_type": "code",
   "execution_count": 68,
   "metadata": {
    "collapsed": false
   },
   "outputs": [
    {
     "data": {
      "text/plain": [
       "270"
      ]
     },
     "execution_count": 68,
     "metadata": {},
     "output_type": "execute_result"
    }
   ],
   "source": [
    "all_measured"
   ]
  },
  {
   "cell_type": "code",
   "execution_count": 69,
   "metadata": {
    "collapsed": false
   },
   "outputs": [
    {
     "data": {
      "text/plain": [
       "0.4111111111111111"
      ]
     },
     "execution_count": 69,
     "metadata": {},
     "output_type": "execute_result"
    }
   ],
   "source": [
    "float(all_correct) / all_measured"
   ]
  },
  {
   "cell_type": "code",
   "execution_count": 44,
   "metadata": {
    "collapsed": true
   },
   "outputs": [
    {
     "data": {
      "text/plain": [
       "{u\"'' Saint Jerome in his Study '' (1514) and '' [Melencolia I] '' (1514) , which has been the subject of extensive\": {u'gold': u'Melencolia I',\n",
       "  u'training': True,\n",
       "  u'vals': {u'-NIL-': 0.49321672,\n",
       "   u'Belarusian Premier League': 0.50597221,\n",
       "   u'Division I (NCAA)': 0.40127215,\n",
       "   u'I': 0.48524007,\n",
       "   u'I (band)': 0,\n",
       "   u'I (film)': 0.6939472,\n",
       "   u'I Corps (German Empire)': 0,\n",
       "   u'Independent (politician)': 0.64777428,\n",
       "   u'Independent politician': 0.35959923,\n",
       "   u'Instrumental case': 0.49321672,\n",
       "   u'Iodine': 0.45730007,\n",
       "   u'Isospin': 0.55073005,\n",
       "   u'Italy': 0.39982909,\n",
       "   u'Meistriliiga': 0.16870368,\n",
       "   u'Melencolia I': 0.49486384,\n",
       "   u'Nemzeti Bajnoks\\xe1g I': 0.42072183,\n",
       "   u'Russian Football Premier League': 0.34575468,\n",
       "   u'Russian Premier League': 0.44133443,\n",
       "   u'Super Bowl I': 0.4693152,\n",
       "   u'XXNILXX': 0}},\n",
       " u\"'' ndash ; April 6 , 1528 -RRB- was a [German] painter , printmaker and theorist from Nuremberg , Germany .\": {u'gold': u'Germans',\n",
       "  u'training': True,\n",
       "  u'vals': {u'-NIL-': 0,\n",
       "   u'Cinema of Germany': 0,\n",
       "   u'German': 0,\n",
       "   u'German (language)': 0,\n",
       "   u'German American': 0,\n",
       "   u'German Empire': 0,\n",
       "   u'German Language': 0,\n",
       "   u'German language': 0,\n",
       "   u'German literature': 0,\n",
       "   u'German people': 0,\n",
       "   u'German poetry': 0,\n",
       "   u'Germans': 0,\n",
       "   u'Germany': 0,\n",
       "   u'GfK Entertainment': 0,\n",
       "   u'Kriegsmarine': 0,\n",
       "   u'Nazi Germany': 0,\n",
       "   u'Wehrmacht': 0,\n",
       "   u'XXNILXX': 0,\n",
       "   u'german people': 0,\n",
       "   u'germans': 0}},\n",
       " u', D rer had learned how to make prints in [drypoint] and design woodcut s in the German style , based': {u'gold': u'drypoint',\n",
       "  u'training': True,\n",
       "  u'vals': {u'-NIL-': 0.55073005,\n",
       "   u'Drypoint': 0.3667537,\n",
       "   u'XXNILXX': 0,\n",
       "   u'drypoint': 0.40662476}},\n",
       " u', based on the works of Martin Schongauer and the [Housebook Master] .': {u'gold': u'Master of the Housebook',\n",
       "  u'training': True,\n",
       "  u'vals': {u'-NIL-': 0.16912377,\n",
       "   u'Chess title': 0.52003127,\n",
       "   u'Housebook Master': 0.57343543,\n",
       "   u'Master': 0.59989893,\n",
       "   u'Master (American band)': 0.60356092,\n",
       "   u'Master (Buffy the Vampire Slayer)': 0.60356092,\n",
       "   u'Master (Doctor Who)': 0.4177928,\n",
       "   u'Master (Russian band)': 0,\n",
       "   u'Master (audio drama)': 0,\n",
       "   u'Master (college)': 0,\n",
       "   u'Master (film)': 0.57970238,\n",
       "   u'Master (form of address)': 0,\n",
       "   u'Master (judiciary)': 0,\n",
       "   u'Master (naval)': 0.57343543,\n",
       "   u'Master craftsman': 0.52003127,\n",
       "   u'Master mariner': 0.53469318,\n",
       "   u'Master of the Housebook': 0.54956251,\n",
       "   u\"Master's degree\": 0,\n",
       "   u'Sea captain': 0.44940016,\n",
       "   u'XXNILXX': 0}},\n",
       " u', especially Venice , a relatively short distance across the [Alps] .': {u'gold': u'Alps',\n",
       "  u'training': True,\n",
       "  u'vals': {u'-NIL-': 0.40058625,\n",
       "   u'Aleph': 0.41441521,\n",
       "   u'Alp': 0.41441521,\n",
       "   u'Alp (folklore)': 0.60198319,\n",
       "   u'Alp (name)': 0,\n",
       "   u'Alp, Girona': 0,\n",
       "   u'Alp, Spain': 0,\n",
       "   u'Alpine orogeny': 0.46898186,\n",
       "   u'Alps': 0.1723932,\n",
       "   u'Alps (film)': 0,\n",
       "   u'Alps Electric': 0.39716578,\n",
       "   u'Alps Electric Co.': 0.50097775,\n",
       "   u'Alps, Georgia': 0,\n",
       "   u'Al\\u0131p': 0.45192301,\n",
       "   u'Australian Alps': 0.17653254,\n",
       "   u'French Alps': 0.4318817,\n",
       "   u'Geology of the Alps': 0.49373227,\n",
       "   u'Soner Alp': 0,\n",
       "   u'Swiss Alps': 0.43051893,\n",
       "   u'XXNILXX': 0}},\n",
       " u\"-LRB- -RRB- -LRB- May 21 , 1471 '' ndash ; [April 6] , 1528 -RRB- was a German painter , printmaker and\": {u'gold': u'April 6',\n",
       "  u'training': True,\n",
       "  u'vals': {u'-NIL-': 0.50397074,\n",
       "   u'/April': 0.46759701,\n",
       "   u'April': 0.17630273,\n",
       "   u'April (Sun Kil Moon album)': 0,\n",
       "   u'April 1966': 0,\n",
       "   u'April 1971': 0,\n",
       "   u'April 1972': 0,\n",
       "   u'April 1973': 0,\n",
       "   u'April 1975': 0,\n",
       "   u'April 2005': 0.62854409,\n",
       "   u'April 2008': 0.6043545,\n",
       "   u'April 6': 0.54738015,\n",
       "   u'April 6 (Eastern Orthodox liturgics)': 0,\n",
       "   u'April 6 Youth Movement': 0.47434139,\n",
       "   u'April Branning': 0.67625964,\n",
       "   u'April Ludgate': 0.60473192,\n",
       "   u'CMLL Super Viernes (April 2014)': 0,\n",
       "   u'Deaths in April 2012': 0,\n",
       "   u'Deaths in April 2013': 0,\n",
       "   u'XXNILXX': 0}},\n",
       " u'-RRB- was a German painter , printmaker and theorist from [Nuremberg] , Germany .': {u'gold': u'Nuremberg',\n",
       "  u'training': True,\n",
       "  u'vals': {u'-NIL-': 0.58402169,\n",
       "   u'1. FC Nuremberg': 0.5549556,\n",
       "   u'1. FC N\\xfcrnberg': 0.1640926,\n",
       "   u'2013 N\\xfcrnberger Versicherungscup': 0,\n",
       "   u'2014 N\\xfcrnberger Versicherungscup': 0,\n",
       "   u'Burgraviate of Nuremberg': 0.39327884,\n",
       "   u'Frankenstadion': 0.34474498,\n",
       "   u'Free Imperial City of Nuremberg': 0.44177175,\n",
       "   u'Nuremberg': 0.58402169,\n",
       "   u'Nuremberg (2000 film)': 0,\n",
       "   u'Nuremberg (film)': 0,\n",
       "   u'Nuremberg Airport': 0.5549556,\n",
       "   u'Nuremberg Central Station': 0.39327884,\n",
       "   u'Nuremberg Hauptbahnhof': 0.38944966,\n",
       "   u'Nuremberg Trials': 0.16170496,\n",
       "   u'Nuremberg U-Bahn': 0.56061959,\n",
       "   u'Nuremberg trials': 0.37102902,\n",
       "   u'Nuremberg, Pennsylvania': 0,\n",
       "   u'N\\xfcrnberg Hauptbahnhof': 0.47841623,\n",
       "   u'XXNILXX': 0}},\n",
       " u'1455 had moved to Nuremberg from Ajt s , near [Gyula] in Hungary .': {u'gold': u'Gyula, Hungary',\n",
       "  u'training': True,\n",
       "  u'vals': {u'-NIL-': 0.54641598,\n",
       "   u'Diocese of Gyula': 0,\n",
       "   u'Gyula': 0.57996041,\n",
       "   u'Gyula (name)': 0,\n",
       "   u'Gyula (telep\\xfcl\\xe9s)': 0,\n",
       "   u'Gyula (title)': 0.54856443,\n",
       "   u'Gyula (town)': 0.54641598,\n",
       "   u'Gyula (v\\xe1ros)': 0,\n",
       "   u'Gyula Andr\\xe1ssy': 0.1715824,\n",
       "   u'Gyula Andr\\xe1ssy the Younger': 0.63673162,\n",
       "   u'Gyula Erkel': 0,\n",
       "   u'Gyula II': 0.47946525,\n",
       "   u'Gyula III': 0.5792796,\n",
       "   u'Gyula Kert\\xe9sz': 0,\n",
       "   u'Gyula and Hungary': 0,\n",
       "   u'Gyula(town)': 0,\n",
       "   u'Gyula, Hungary': 0.55066991,\n",
       "   u'Julius I K\\xe1n': 0.17064032,\n",
       "   u'Siege of Gyula': 0,\n",
       "   u'XXNILXX': 0}},\n",
       " u'A self-portrait , a [drawing] in silverpoint , is dated 1484 -LRB- Albertina , Vienna': {u'gold': u'Drawing',\n",
       "  u'training': True,\n",
       "  u'vals': {u'-NIL-': 0.44637701,\n",
       "   u'AP Studio Art': 0.50802881,\n",
       "   u'Draw (chess)': 0.49161988,\n",
       "   u'Draw (poker)': 0.56990641,\n",
       "   u'Drawing': 0.50802881,\n",
       "   u'Drawing (manufacturing)': 0.37281922,\n",
       "   u'Drawing Album': 0,\n",
       "   u'Glossary of drawing terms': 0,\n",
       "   u'Graph drawing': 0.60840237,\n",
       "   u'Index of drawing-related articles': 0,\n",
       "   u\"It's a Wonderful World (album)\": 0,\n",
       "   u'Outline of drawing': 0.61126435,\n",
       "   u'Outline of drawing and drawings': 0.37782264,\n",
       "   u'Patent drawing': 0.61126435,\n",
       "   u'Tie (draw)': 0.43705976,\n",
       "   u'XXNILXX': 0,\n",
       "   u'draw (chess)': 0.53473842,\n",
       "   u'drawing': 0.37782264,\n",
       "   u'drawing (manufacturing)': 0.17976677,\n",
       "   u'graph drawing': 0.34229788}},\n",
       " u'A self-portrait , a drawing in [silverpoint] , is dated 1484 -LRB- Albertina , Vienna -RRB- when': {u'gold': u'silverpoint',\n",
       "  u'training': True,\n",
       "  u'vals': {u'-NIL-': 0.39460093,\n",
       "   u'Silverpoint': 0.16772696,\n",
       "   u'XXNILXX': 0,\n",
       "   u'silverpoint': 0.53726923}},\n",
       " u\"Albrecht D rer -LRB- -RRB- -LRB- May 21 , [1471] '' ndash ; April 6 , 1528 -RRB- was a\": {u'gold': u'1471',\n",
       "  u'training': True,\n",
       "  u'vals': {u'-NIL-': 0.42937672,\n",
       "   u'1000 (number)': 0.41478223,\n",
       "   u'1470s in England': 0.52093023,\n",
       "   u'1470s in art': 0.51885879,\n",
       "   u'1470s in poetry': 0.60710126,\n",
       "   u'1471': 0.54285622,\n",
       "   u'1471 (number)': 0.41422898,\n",
       "   u'1471 in England': 0.42895848,\n",
       "   u'1471 in Ireland': 0,\n",
       "   u'1471 in Portugal': 0,\n",
       "   u'1471 in Scotland': 0,\n",
       "   u'1471 in art': 0.54285622,\n",
       "   u'1471 in music': 0,\n",
       "   u'1471 in poetry': 0.60710126,\n",
       "   u'IEEE 1471': 0.59570366,\n",
       "   u'Last Call Return': 0.38037413,\n",
       "   u'Last-call return': 0.17781442,\n",
       "   u'Minuscule 1471': 0,\n",
       "   u'United Nations Security Council Resolution 1471': 0,\n",
       "   u'XXNILXX': 0}},\n",
       " u\"Albrecht D rer -LRB- -RRB- -LRB- [May 21] , 1471 '' ndash ; April 6 , 1528 -RRB-\": {u'gold': u'May 21',\n",
       "  u'training': True,\n",
       "  u'vals': {u'-NIL-': 0.5204314,\n",
       "   u'/May': 0.60023189,\n",
       "   u'Ben May': 0.17574194,\n",
       "   u'Brian May': 0.5646162,\n",
       "   u'CMLL Super Viernes (May 2014)': 0,\n",
       "   u'Darrell May': 0.48783726,\n",
       "   u'David May (footballer)': 0.36191082,\n",
       "   u'Jonny May': 0.63792825,\n",
       "   u'List of Pok\\xe9mon anime characters': 0.63496315,\n",
       "   u'May': 0.63496315,\n",
       "   u'May (Pok\\xe9mon)': 0.48146141,\n",
       "   u'May (film)': 0.16883153,\n",
       "   u'May 1911': 0,\n",
       "   u'May 1943': 0,\n",
       "   u'May 21': 0.5204314,\n",
       "   u'May 21 (Eastern Orthodox liturgics)': 0,\n",
       "   u'May, Texas': 0,\n",
       "   u'Navy Day': 0.5646162,\n",
       "   u'Stevie May': 0.56875837,\n",
       "   u'XXNILXX': 0}},\n",
       " u\"D rer 's godfather was [Anton Koberger] , who left goldsmith ing to become a printer and\": {u'gold': u'Anton Koberger',\n",
       "  u'training': True,\n",
       "  u'vals': {u'-NIL-': 0.53629333,\n",
       "   u'Anton Koberger': 0.44023904,\n",
       "   u'Koberger': 0.66690946,\n",
       "   u'XXNILXX': 0}},\n",
       " u\"D rer 's introduction of [classical motifs] into Northern art , through his knowledge of Italian artists\": {u'gold': u'Roman mythology',\n",
       "  u'training': True,\n",
       "  u'vals': {u'-NIL-': 0.37517843,\n",
       "   u'Classical motifs': 0,\n",
       "   u'Motif': 0.36416143,\n",
       "   u'Motif (band)': 0,\n",
       "   u'Motif (music)': 0.62184525,\n",
       "   u'Motif (narrative)': 0.17215452,\n",
       "   u'Motif (software)': 0.42255852,\n",
       "   u'Motif (textile arts)': 0.5514999,\n",
       "   u'Motif (visual arts)': 0.5514999,\n",
       "   u'Motifs': 0.42982379,\n",
       "   u'Network motif': 0,\n",
       "   u'Persian motifs': 0,\n",
       "   u'Roman mythology': 0.44756874,\n",
       "   u'Sequence motif': 0.5782733,\n",
       "   u'Structural motif': 0.49650219,\n",
       "   u'XXNILXX': 0,\n",
       "   u'Yamaha Motif': 0.40097767,\n",
       "   u'classical motifs': 0,\n",
       "   u'motif (music)': 0.51746088,\n",
       "   u'motif (visual arts)': 0.49873278}},\n",
       " u'D rer probably also visited Padua and [Mantua] on this trip .': {u'gold': u'Mantua',\n",
       "  u'training': True,\n",
       "  u'vals': {u'-NIL-': 0.65507507,\n",
       "   u'Duchy of Mantua': 0.65507507,\n",
       "   u'Mantova railway station': 0,\n",
       "   u'Mantua': 0.54641598,\n",
       "   u'Mantua Township, New Jersey': 0.5792796,\n",
       "   u'Mantua Township, Portage County, Ohio': 0,\n",
       "   u'Mantua, Cuba': 0,\n",
       "   u'Mantua, Ohio': 0.542795,\n",
       "   u'Mantua, Philadelphia': 0,\n",
       "   u'Mantua, Philadelphia, Pennsylvania': 0,\n",
       "   u'Mantua, Utah': 0.53388703,\n",
       "   u'Mantua, Virginia': 0,\n",
       "   u'Pavia\\u2013Mantua railway': 0,\n",
       "   u'Province of Mantua': 0.53388703,\n",
       "   u'Roman Catholic Diocese of Mantua': 0.39785188,\n",
       "   u'Siege of Mantua (1796-1797)': 0.54614013,\n",
       "   u'Siege of Mantua (1796\\u201397)': 0.17378411,\n",
       "   u'Siege of Mantua (1799)': 0.53290272,\n",
       "   u'XXNILXX': 0,\n",
       "   u'province of Mantua': 0.57808137}},\n",
       " u'D rer probably also visited [Padua] and Mantua on this trip .': {u'gold': u'Padua',\n",
       "  u'training': True,\n",
       "  u'vals': {u'-NIL-': 0.6346758,\n",
       "   u'363 Padua': 0.38761133,\n",
       "   u'Calcio Padova': 0.45916274,\n",
       "   u'Kruzenshtern (ship)': 0,\n",
       "   u'Padova railway station': 0,\n",
       "   u'Padua': 0.5225631,\n",
       "   u'Padua Stables': 0,\n",
       "   u'Padua, Italy': 0.58658063,\n",
       "   u'Padua, Minnesota': 0,\n",
       "   u'Padua, Ohio': 0,\n",
       "   u'Padua\\u2013Bologna railway': 0,\n",
       "   u'Province of Padua': 0.40426412,\n",
       "   u'Roman Catholic Diocese of Padua': 0.40785056,\n",
       "   u'Sempre Volley': 0,\n",
       "   u'Siege of Padua': 0.16952649,\n",
       "   u'Stadio Plebiscito': 0,\n",
       "   u'University of Padua': 0.63673162,\n",
       "   u'XXNILXX': 0,\n",
       "   u'province of Padua': 0.442707,\n",
       "   u'university of Padua': 0.65799135}},\n",
       " u'D rer was born on May 21 , [1471] , third child and second son of his parents ,': {u'gold': u'1471',\n",
       "  u'training': True,\n",
       "  u'vals': {u'-NIL-': 0.50944436,\n",
       "   u'1000 (number)': 0.63792825,\n",
       "   u'1470s in England': 0.51197767,\n",
       "   u'1470s in art': 0.42982519,\n",
       "   u'1470s in poetry': 0.50450945,\n",
       "   u'1471': 0.49119553,\n",
       "   u'1471 (number)': 0.5515759,\n",
       "   u'1471 in England': 0.52594388,\n",
       "   u'1471 in Ireland': 0,\n",
       "   u'1471 in Portugal': 0,\n",
       "   u'1471 in Scotland': 0,\n",
       "   u'1471 in art': 0.63046223,\n",
       "   u'1471 in music': 0,\n",
       "   u'1471 in poetry': 0.54120123,\n",
       "   u'IEEE 1471': 0.46398592,\n",
       "   u'Last Call Return': 0.50629824,\n",
       "   u'Last-call return': 0.49418476,\n",
       "   u'Minuscule 1471': 0,\n",
       "   u'United Nations Security Council Resolution 1471': 0,\n",
       "   u'XXNILXX': 0}},\n",
       " u'D rer was born on [May 21] , 1471 , third child and second son of his': {u'gold': u'May 21',\n",
       "  u'training': True,\n",
       "  u'vals': {u'-NIL-': 0.56427145,\n",
       "   u'/May': 0.63066995,\n",
       "   u'Ben May': 0.1762228,\n",
       "   u'Brian May': 0.46613452,\n",
       "   u'CMLL Super Viernes (May 2014)': 0,\n",
       "   u'Darrell May': 0.57808661,\n",
       "   u'David May (footballer)': 0.55495334,\n",
       "   u'Jonny May': 0.47040164,\n",
       "   u'List of Pok\\xe9mon anime characters': 0.524885,\n",
       "   u'May': 0.46006432,\n",
       "   u'May (Pok\\xe9mon)': 0.61186403,\n",
       "   u'May (film)': 0.46006432,\n",
       "   u'May 1911': 0,\n",
       "   u'May 1943': 0,\n",
       "   u'May 21': 0.50603181,\n",
       "   u'May 21 (Eastern Orthodox liturgics)': 0,\n",
       "   u'May, Texas': 0,\n",
       "   u'Navy Day': 0.46006432,\n",
       "   u'Stevie May': 0.50053573,\n",
       "   u'XXNILXX': 0}},\n",
       " u\"German name '' D rer '' is derived from the [Hungarian] , '' Ajt si '' .\": {u'gold': u'Hungary',\n",
       "  u'training': True,\n",
       "  u'vals': {u'-NIL-': 0.58103174,\n",
       "   u'Cinema of Hungary': 0.5781312,\n",
       "   u'Hungarian': 0.50845593,\n",
       "   u'Hungarian American': 0.56052768,\n",
       "   u'Hungarian Figure Skating Championships': 0.18351713,\n",
       "   u'Hungarian Language': 0.41439751,\n",
       "   u'Hungarian cuisine': 0.44769847,\n",
       "   u'Hungarian language': 0.38078284,\n",
       "   u'Hungarian people': 0.59991294,\n",
       "   u'Hungarians': 0.42296171,\n",
       "   u'Hungarians in Romania': 0.62479335,\n",
       "   u'Hungarians in Slovakia': 0.6939472,\n",
       "   u'Hungary': 0.5434913,\n",
       "   u'Hungary national football team': 0.58103174,\n",
       "   u'Kingdom of Hungary': 0.6939472,\n",
       "   u'Kingdom of Hungary (1920\\u201346)': 0.62479335,\n",
       "   u'Kingdom of Hungary in the Middle Ages': 0.5781312,\n",
       "   u'Magyars': 0.178617,\n",
       "   u'Politics of Hungary': 0.58103174,\n",
       "   u'XXNILXX': 0}},\n",
       " u'He left in 1490 , possibly to work under [Martin Schongauer] , a leading engraver of Northern Europe , but who': {u'gold': u'Martin Schongauer',\n",
       "  u'training': True,\n",
       "  u'vals': {u'-NIL-': 0.5666548,\n",
       "   u'Martin Schongauer': 0.17473227,\n",
       "   u'Schongauer': 0.48524007,\n",
       "   u'XXNILXX': 0}},\n",
       " u'He made a number of [Madonna] s , single religious figures , and small scenes with': {u'gold': u'Madonna (art)',\n",
       "  u'training': True,\n",
       "  u'vals': {u'-NIL-': 0.58852124,\n",
       "   u'Armando Madonna': 0.59472537,\n",
       "   u'Madonna': 0.31265718,\n",
       "   u'Madonna (1999 film)': 0,\n",
       "   u'Madonna (EP)': 0,\n",
       "   u'Madonna (Edvard Munch)': 0,\n",
       "   u'Madonna (Madonna album)': 0.59472537,\n",
       "   u'Madonna (Secret EP)': 0,\n",
       "   u'Madonna (Secret song)': 0,\n",
       "   u'Madonna (album)': 0.17650303,\n",
       "   u'Madonna (art)': 0.4197844,\n",
       "   u'Madonna (book)': 0,\n",
       "   u'Madonna (entertainer)': 0.5606032,\n",
       "   u'Madonna (singer)': 0.67544013,\n",
       "   u'Madonna (song)': 0,\n",
       "   u'Madonna (studio)': 0,\n",
       "   u'Madonna_(entertainer)': 0.31265718,\n",
       "   u'Mary (mother of Jesus)': 0.64333069,\n",
       "   u'The Madonna': 0.4201543,\n",
       "   u'XXNILXX': 0}},\n",
       " u'He wrote that [Giovanni Bellini] was the oldest and still the best of the artists': {u'gold': u'Giovanni Bellini',\n",
       "  u'training': True,\n",
       "  u'vals': {u'-NIL-': 0.55413532,\n",
       "   u'Bellini': 0.16799369,\n",
       "   u'Bellini (band)': 0,\n",
       "   u'Bellini (cocktail)': 0.59033,\n",
       "   u'Bellini (horse)': 0,\n",
       "   u'Delfo Bellini': 0,\n",
       "   u'Filippo Bellini': 0,\n",
       "   u'Gentile Bellini': 0.49665308,\n",
       "   u'Gianpaolo Bellini': 0.52538317,\n",
       "   u'Giovanni Bellini': 0.56877422,\n",
       "   u'Giovanni Bellini (painter)': 0.18172911,\n",
       "   u'Giovanni Bellini (politician)': 0,\n",
       "   u'Giuseppe Bellini': 0,\n",
       "   u'Hilderaldo Bellini': 0.55413532,\n",
       "   u'Jacopo Bellini': 0.42834935,\n",
       "   u'Mario Bellini': 0.40785056,\n",
       "   u'Paffendorf': 0.41063076,\n",
       "   u'Vincenzo Bellini': 0.44448635,\n",
       "   u'Vincenzo Bellini ': 0,\n",
       "   u'XXNILXX': 0}},\n",
       " u\"Here he produced a woodcut of [St Jerome] as a frontispiece for Nicholaus Kessler 's ' Epistolare beati\": {u'gold': u'Jerome',\n",
       "  u'training': True,\n",
       "  u'vals': {u'-NIL-': 0.44784567,\n",
       "   u'Cameron Jerome': 0.57983655,\n",
       "   u'Jerome': 0.49626905,\n",
       "   u'Jerome County, Idaho': 0.50633436,\n",
       "   u'Jerome High School (Jerome, Idaho)': 0,\n",
       "   u'Jerome War Relocation Center': 0.69316852,\n",
       "   u'Jerome family': 0.49632511,\n",
       "   u'Jerome, Arizona': 0.5606032,\n",
       "   u'Jerome, Arkansas': 0.17368203,\n",
       "   u'Jerome, Florida': 0,\n",
       "   u'Jerome, Idaho': 0.17063889,\n",
       "   u'Jerome, Illinois': 0,\n",
       "   u'Jerome, Indiana': 0,\n",
       "   u'Jerome, Pennsylvania': 0.45297599,\n",
       "   u'Jerome, West Virginia': 0,\n",
       "   u'J\\xe9r\\xf4me Bonaparte': 0.44978535,\n",
       "   u'Randolph Jerome': 0.66988963,\n",
       "   u'Saint Jerome': 0.55971664,\n",
       "   u'St Jerome': 0.37828803,\n",
       "   u'XXNILXX': 0}},\n",
       " u\"His most famous publication was the '' [Nuremberg Chronicle] , '' published in 1493 in German and Latin editions\": {u'gold': u'Nuremberg Chronicle',\n",
       "  u'training': True,\n",
       "  u'vals': {u'-NIL-': 0.17311338,\n",
       "   u'Chronicle': 0.59791952,\n",
       "   u'Chronicle (Adelaide)': 0,\n",
       "   u'Chronicle (Fujifabric album)': 0,\n",
       "   u'Chronicle (TV series)': 0,\n",
       "   u'Chronicle (UK TV series)': 0,\n",
       "   u'Chronicle (film)': 0,\n",
       "   u'Chronicle (magazine)': 0,\n",
       "   u'Chronicle Books': 0.47675872,\n",
       "   u'Chronicle, Vol. 1': 0,\n",
       "   u'Chronicon (Eusebius)': 0.42615193,\n",
       "   u'Chronicon (Jerome)': 0.47571611,\n",
       "   u'DNA Publications': 0.50035709,\n",
       "   u'Evening Chronicle': 0.59791952,\n",
       "   u'Houston Chronicle': 0.46691167,\n",
       "   u\"Mannyng's Chronicle\": 0,\n",
       "   u'Nuremberg Chronicle': 0.44913724,\n",
       "   u'San Francisco Chronicle': 0.59791952,\n",
       "   u'The Chronicle (Zimbabwe)': 0,\n",
       "   u'XXNILXX': 0}},\n",
       " u\"His still-famous engravings include ' (1513) , '' [Saint Jerome in his Study] '' (1514) and '' Melencolia I '' (1514) , which\": {u'gold': u'Saint Jerome in His Study (D\\xfcrer)',\n",
       "  u'training': True,\n",
       "  u'vals': {u'-NIL-': 0.51789123,\n",
       "   u'Buddhist texts': 0.37102902,\n",
       "   u'Culross Study': 0,\n",
       "   u'Endgame study': 0.68684584,\n",
       "   u'His Study': 0,\n",
       "   u'In his Study': 0,\n",
       "   u'Jerome in his Study': 0,\n",
       "   u'Research': 0.43441463,\n",
       "   u'Saint Jerome in His Study (D\\xfcrer)': 0,\n",
       "   u'Saint Jerome in Study': 0,\n",
       "   u'Saint Jerome in his Study': 0.56061959,\n",
       "   u'St. Jerome in His Study (D\\xfcrer)': 0,\n",
       "   u'Study': 0.51789123,\n",
       "   u'Study (art)': 0.5549556,\n",
       "   u'Study (film)': 0,\n",
       "   u'Study (room)': 0,\n",
       "   u'Study skills': 0.31842053,\n",
       "   u'XXNILXX': 0,\n",
       "   u'his Study': 0,\n",
       "   u'in his Study': 0}},\n",
       " u'His watercolours mark him as one of the first European [landscape art] ists , while his ambitious woodcuts revolutionized the potential of': {u'gold': u'landscape art',\n",
       "  u'training': True,\n",
       "  u'vals': {u\"'Art'\": 0.57737428,\n",
       "   u'-NIL-': 0.64289641,\n",
       "   u'Art': 0.57737428,\n",
       "   u'Art (album)': 0,\n",
       "   u'Art film': 0.52088255,\n",
       "   u'Art mac Cuinn': 0.52088255,\n",
       "   u'Art museum': 0.53132832,\n",
       "   u'Art of ancient Egypt': 0.17409989,\n",
       "   u'Christian art': 0.64584172,\n",
       "   u'Cover art': 0.3941488,\n",
       "   u'Indian art': 0.50062001,\n",
       "   u'Islamic art': 0.40556434,\n",
       "   u'Japanese art': 0.57737428,\n",
       "   u'Landscape art': 0.64584172,\n",
       "   u'Landscape painting': 0.52302504,\n",
       "   u\"The V.I.P.'s\": 0.51258332,\n",
       "   u'Work of art': 0.57737428,\n",
       "   u'XXNILXX': 0,\n",
       "   u'art': 0.4812749,\n",
       "   u'landscape art': 0.42937511}},\n",
       " u'In early 1492 D rer travelled to [Basel] to stay with another brother of Martin Schongauer , the': {u'gold': u'Basel',\n",
       "  u'training': True,\n",
       "  u'vals': {u'-NIL-': 0.59600252,\n",
       "   u'2008 Davidoff Swiss Indoors': 0,\n",
       "   u'ATP Basel': 0.42328343,\n",
       "   u'Basel': 0.470557,\n",
       "   u'Basel Badischer Bahnhof': 0.55002981,\n",
       "   u'Basel SBB': 0.61186403,\n",
       "   u'Basel SBB railway station': 0.57808661,\n",
       "   u'Basel, Switzerland': 0.61186403,\n",
       "   u'Basel-Stadt': 0.40159178,\n",
       "   u'Canton of Basel': 0.524885,\n",
       "   u'Davidoff Swiss Indoors': 0.55002981,\n",
       "   u'EuroAirport Basel\\u2013Mulhouse\\u2013Freiburg': 0.17158645,\n",
       "   u'FC Basel': 0.61186403,\n",
       "   u'FC Basel (women)': 0,\n",
       "   u'Prince-Bishopric of Basel': 0.45605096,\n",
       "   u'Roman Catholic Diocese of Basel': 0.68235588,\n",
       "   u'St. Jakob-Park': 0.48405656,\n",
       "   u'Swiss Indoors': 0.42328343,\n",
       "   u'University of Basel': 0.56347597,\n",
       "   u'XXNILXX': 0}},\n",
       " u'It contained an unprecedented 1,809 [woodcut] illustrations -LRB- with many repeated uses of the same block': {u'gold': u'Woodcut',\n",
       "  u'training': True,\n",
       "  u'vals': {u'-NIL-': 0.49839857,\n",
       "   u\"D\\xfcrer's Rhinoceros\": 0.46554056,\n",
       "   u'Woodblock printing': 0.40080535,\n",
       "   u'Woodcut': 0.37327528,\n",
       "   u'Woodcut print': 0.63141263,\n",
       "   u'XXNILXX': 0,\n",
       "   u'woodblock printing': 0.5109095,\n",
       "   u'woodcut': 0.67544013}},\n",
       " u'It had strong links with [Italy] , especially Venice , a relatively short distance across the': {u'gold': u'Italy',\n",
       "  u'training': True,\n",
       "  u'vals': {u'-NIL-': 0.62184525,\n",
       "   u'A1 Team Italy': 0.54241252,\n",
       "   u'Cinema of Italy': 0.42057493,\n",
       "   u'Italian Campaign (World War II)': 0.45140666,\n",
       "   u'Italian Football Federation': 0.39688253,\n",
       "   u'Italian Rugby Federation': 0.41306141,\n",
       "   u'Italian poetry': 0.44354519,\n",
       "   u'Italy': 0.51746088,\n",
       "   u'Italy national athletics team': 0.56567562,\n",
       "   u'Italy national baseball team': 0.32441196,\n",
       "   u'Italy national basketball team': 0.59978789,\n",
       "   u'Italy national football team': 0.492349,\n",
       "   u'Italy national rugby league team': 0.42619732,\n",
       "   u'Italy national rugby union team': 0.57274282,\n",
       "   u'Italy national under-21 football team': 0.67509198,\n",
       "   u\"Italy women's national football team\": 0.492349,\n",
       "   u'Kingdom of Italy': 0.42619732,\n",
       "   u'Kingdom of Italy (1861\\u20131946)': 0.41056415,\n",
       "   u'Lega Basket Serie A': 0.17669603,\n",
       "   u'XXNILXX': 0}},\n",
       " u\"It is probable that D rer 's engraved copies after [Mantegna] were made at this time , before his trip to\": {u'gold': u'Andrea Mantegna',\n",
       "  u'training': True,\n",
       "  u'vals': {u'-NIL-': 0.52088255,\n",
       "   u'Andrea Mantegna': 0.55854249,\n",
       "   u'Andrea Mantegna ': 0,\n",
       "   u'Mantegna': 0.52088255,\n",
       "   u'XXNILXX': 0}},\n",
       " u'Italy , alone , perhaps stimulated by an outbreak of [plague] in Nuremberg .': {u'gold': u'Black Death',\n",
       "  u'training': True,\n",
       "  u'vals': {u'-NIL-': 0.61382753,\n",
       "   u'Black Death': 0.61382753,\n",
       "   u'Bubonic plague': 0.56552124,\n",
       "   u'Epidemic': 0.55001736,\n",
       "   u'Great Plague of London': 0,\n",
       "   u'Klinik': 0.57052922,\n",
       "   u'Pandemic': 0.56552124,\n",
       "   u'Plague': 0,\n",
       "   u'Plague (1978 film)': 0.53359795,\n",
       "   u'Plague (band)': 0,\n",
       "   u'Plague (comics)': 0,\n",
       "   u'Plague (disease)': 0.74764329,\n",
       "   u'Plague (song)': 0,\n",
       "   u'Plague of Athens': 0.52044773,\n",
       "   u'Plagues of Egypt': 0,\n",
       "   u'XXNILXX': 0,\n",
       "   u'bubonic plague': 0,\n",
       "   u'pandemic': 0.46072203,\n",
       "   u'plague': 0.56552124,\n",
       "   u'plague (disease)': 0.52044773}},\n",
       " u\"May 21 , 1471 '' ndash ; April 6 , [1528] -RRB- was a German painter , printmaker and theorist from\": {u'gold': u'1528',\n",
       "  u'training': True,\n",
       "  u'vals': {u'-NIL-': 0.53527361,\n",
       "   u'1520s in England': 0.17170092,\n",
       "   u'1528': 0.489995,\n",
       "   u'1528 in England': 0.54956251,\n",
       "   u'1528 in India': 0.56552124,\n",
       "   u'1528 in Ireland': 0,\n",
       "   u'1528 in Portugal': 0,\n",
       "   u'1528 in Scotland': 0,\n",
       "   u'1528 in Spain': 0,\n",
       "   u'1528 in art': 0,\n",
       "   u'1528 in literature': 0.49180847,\n",
       "   u'1528 in poetry': 0,\n",
       "   u'1528 in science': 0,\n",
       "   u'16th century in literature': 0.61382753,\n",
       "   u'HD 30453': 0,\n",
       "   u'Midland Railway 1528 Class': 0,\n",
       "   u'Minuscule 1528': 0,\n",
       "   u'Minuscule 1528 (Gregory-Aland)': 0,\n",
       "   u'United Nations Security Council Resolution 1528': 0,\n",
       "   u'XXNILXX': 0}},\n",
       " u'Northern art , through his knowledge of Italian artists and [German humanists] , have secured his reputation as one of the most': {u'gold': u'Humanism in Germany',\n",
       "  u'training': True,\n",
       "  u'vals': {u'-NIL-': 0.53515851,\n",
       "   u'German humanists': 0,\n",
       "   u'Humanism': 0.58607876,\n",
       "   u'Humanism in Germany': 0.36950076,\n",
       "   u'Humanist': 0.35655829,\n",
       "   u'Humanist (electronic seminar)': 0,\n",
       "   u'Humanist (science fiction)': 0,\n",
       "   u'Humanists': 0.36765194,\n",
       "   u'Humanities': 0.16857842,\n",
       "   u'Parti humaniste du Qu\\xe9bec': 0.5938946,\n",
       "   u'Religious humanism': 0.73974109,\n",
       "   u'Renaissance Humanism': 0.36765194,\n",
       "   u'Renaissance humanism': 0.37936243,\n",
       "   u'Renaissance humanism in Northern Europe': 0.45812184,\n",
       "   u'Renaissance humanist': 0.37274998,\n",
       "   u'Secular humanism': 0.46102044,\n",
       "   u'XXNILXX': 0,\n",
       "   u'humanism': 0.45812184,\n",
       "   u'humanists': 0.55265146,\n",
       "   u'secular humanism': 0.3734881}},\n",
       " u\"Panofsky argues that this print combined the ' [Ulm] ian style ' of Koberger 's ' Lives of the\": {u'gold': u'Ulm',\n",
       "  u'training': True,\n",
       "  u'vals': {u'-NIL-': 0.16844478,\n",
       "   u'Battle of Ulm': 0.57702118,\n",
       "   u'David Ulm': 0,\n",
       "   u'Donaustadion': 0.48214149,\n",
       "   u'Free Imperial City of Ulm': 0,\n",
       "   u'Ratiopharm Ulm': 0.55336916,\n",
       "   u'Robert Ulm': 0,\n",
       "   u'SSV Ulm': 0.48542613,\n",
       "   u'SSV Ulm 1846': 0.19137532,\n",
       "   u'SSV Ulm 1846 Fu\\xdfball': 0,\n",
       "   u'Trams in Ulm': 0,\n",
       "   u'Ulm': 0.48542613,\n",
       "   u'Ulm Campaign': 0.66351426,\n",
       "   u'Ulm Central Station': 0.53547561,\n",
       "   u'Ulm Hauptbahnhof': 0.45162994,\n",
       "   u'Ulm Minster': 0.17070463,\n",
       "   u'Ulm, Arkansas': 0,\n",
       "   u'Ulm, Montana': 0.51573592,\n",
       "   u'XXNILXX': 0,\n",
       "   u'ratiopharm Ulm': 0.60980237}},\n",
       " u'Strassbourg , where he would have experienced the scultpure of [Nikolaus Gerhaert] .': {u'gold': u'Nikolaus Gerhaert',\n",
       "  u'training': True,\n",
       "  u'vals': {u'-NIL-': 0.48434326,\n",
       "   u'Gerhaert': 0.40535966,\n",
       "   u'Nikolaus Gerhaert': 0.52291483,\n",
       "   u'XXNILXX': 0}},\n",
       " u'Very soon after his return to Nuremberg , on [July 7] , 1494 , at the age of 23 , D': {u'gold': u'July 7',\n",
       "  u'training': True,\n",
       "  u'vals': {u'-NIL-': 0.54378575,\n",
       "   u'/July': 0.66335481,\n",
       "   u'7 July 2005 London bombings': 0.45863366,\n",
       "   u'CMLL Super Viernes (July 2014)': 0,\n",
       "   u'Deaths in July 2011': 0,\n",
       "   u'July': 0.67625964,\n",
       "   u'July (band)': 0,\n",
       "   u'July (song)': 0,\n",
       "   u'July 1911': 0,\n",
       "   u'July 1966': 0,\n",
       "   u'July 1971': 0,\n",
       "   u'July 1972': 0,\n",
       "   u'July 1973': 0,\n",
       "   u'July 1975': 0,\n",
       "   u'July 2005': 0.61582565,\n",
       "   u'July 2006': 0.48247486,\n",
       "   u'July 7': 0.17141172,\n",
       "   u'July 7 (Eastern Orthodox liturgics)': 0,\n",
       "   u'July 7, 2005 London bombings': 0.52378726,\n",
       "   u'XXNILXX': 0}},\n",
       " u'a little later , a series of eleven on the [Holy Family] and saints .': {u'gold': u'Holy Family',\n",
       "  u'training': True,\n",
       "  u'vals': {u'(One Glance Is) Holy': 0,\n",
       "   u'-NIL-': 0.4503445,\n",
       "   u'Holy': 0.61003125,\n",
       "   u'Holy (Bottom episode)': 0,\n",
       "   u'Holy (Bottom)': 0,\n",
       "   u'Holy (In Strict Confidence album)': 0,\n",
       "   u'Holy (U.D.O. album)': 0,\n",
       "   u'Holy (short story)': 0,\n",
       "   u'Holy Family': 0.49499324,\n",
       "   u'Holy Family (Bronzino)': 0,\n",
       "   u'Holy Family (Mantegna)': 0,\n",
       "   u'Holy Family Academy (Bayonne, New Jersey)': 0,\n",
       "   u'Holy Family Catholic Church (Frenchtown, Ohio)': 0,\n",
       "   u'Holy Family Catholic School (New Hamburg)': 0,\n",
       "   u'Holy Family Cristo Rey High School (Birmingham, Alabama)': 0,\n",
       "   u'Holy Family Roman Catholic Church, Parkdale': 0.49620959,\n",
       "   u'Holy Family University': 0.50359333,\n",
       "   u'Holy Records': 0.48542613,\n",
       "   u'Sacred': 0.45546287,\n",
       "   u'XXNILXX': 0}},\n",
       " u'after his return to Nuremberg , on July 7 , [1494] , at the age of 23 , D rer was': {u'gold': u'1494',\n",
       "  u'training': True,\n",
       "  u'vals': {u'-NIL-': 0.36191082,\n",
       "   u'1490s in architecture': 0,\n",
       "   u'1490s in art': 0.38200915,\n",
       "   u'1490s in poetry': 0.59978789,\n",
       "   u'1494': 0.17568979,\n",
       "   u'1494 AM': 0,\n",
       "   u'1494 Yellow River flood': 0,\n",
       "   u'1494 in Ireland': 0,\n",
       "   u'1494 in Portugal': 0,\n",
       "   u'1494 in Scotland': 0,\n",
       "   u'1494 in Serbia': 0,\n",
       "   u'1494 in architecture': 0,\n",
       "   u'1494 in art': 0.38200915,\n",
       "   u'1494 in literature': 0.45635796,\n",
       "   u'1494 in poetry': 0.56875837,\n",
       "   u'15th century in literature': 0.53347975,\n",
       "   u'DXOC': 0.53347975,\n",
       "   u'Treaty of Tordesillas': 0.53347975,\n",
       "   u'United Nations Security Council Resolution 1494': 0,\n",
       "   u'XXNILXX': 0}},\n",
       " u\"but who died shortly before D rer 's arrival at [Colmar] in 1492 .\": {u'gold': u'Colmar',\n",
       "  u'training': True,\n",
       "  u'vals': {u'-NIL-': 0.59570366,\n",
       "   u'2012\\u201313 SR Colmar season': 0,\n",
       "   u'Arrondissement of Colmar': 0.17344779,\n",
       "   u'Breguet 500 Colmar': 0,\n",
       "   u'Colmar': 0.57365894,\n",
       "   u'Colmar (SEPTA station)': 0,\n",
       "   u'Colmar \\u2013 Meyenheim Air Base': 0,\n",
       "   u'Colmar, France': 0.44480121,\n",
       "   u'Colmar, Illinois': 0,\n",
       "   u'Colmar, Kentucky': 0,\n",
       "   u'Colmar, New Mexico': 0,\n",
       "   u'Colmar, Pennsylvania': 0,\n",
       "   u'Fortified Sector of Colmar': 0.5571478,\n",
       "   u'Gare de Colmar': 0.41422898,\n",
       "   u'Israelite Consistory of the Upper Rhine': 0,\n",
       "   u'Music of Colmar': 0,\n",
       "   u'SR Colmar': 0.38975236,\n",
       "   u'XXNILXX': 0}},\n",
       " u'classical motifs into Northern art , through his knowledge of [Italian artists] and German humanists , have secured his reputation as one': {u'gold': u'Italian Renaissance',\n",
       "  u'training': True,\n",
       "  u'vals': {u'-NIL-': 0.45605096,\n",
       "   u'Artist': 0.56347597,\n",
       "   u'Artist (film)': 0,\n",
       "   u'Artists': 0.49212411,\n",
       "   u'Artists (radio series)': 0,\n",
       "   u'Comic book': 0.5401684,\n",
       "   u'Contemporary Indigenous Australian art': 0.57293743,\n",
       "   u'Corps de ballet': 0.61258143,\n",
       "   u'Game artist': 0.1666213,\n",
       "   u'Italian Renaissance': 0.16382718,\n",
       "   u'Italian artists': 0.57492524,\n",
       "   u'List of Italians': 0.42328343,\n",
       "   u'Music artist (occupation)': 0,\n",
       "   u'Musician': 0.42328343,\n",
       "   u'Painting': 0.62679768,\n",
       "   u'Visual arts': 0,\n",
       "   u'XXNILXX': 0,\n",
       "   u'artist': 0.42328343,\n",
       "   u'artists': 0.57293743,\n",
       "   u'musician': 0.57492524}},\n",
       " u\"common German custom of taking '' Wanderjahre '' in effect [gap year] s in which the apprentice learned skills from artists in\": {u'gold': u'gap year',\n",
       "  u'training': True,\n",
       "  u'vals': {u'-NIL-': 0.44996747,\n",
       "   u'1977\\u201378 NBA season': 0.34373879,\n",
       "   u'1997 in sports': 0.17549703,\n",
       "   u'Annum': 0.57350975,\n",
       "   u'Calendar year': 0.47357562,\n",
       "   u'Gap year': 0.60474908,\n",
       "   u'Julian year (astronomy)': 0.75360966,\n",
       "   u'Playoffs': 0.53430665,\n",
       "   u'Season': 0.4065024,\n",
       "   u'Season (sports)': 0.44996747,\n",
       "   u'Sexagenary cycle': 0.35373503,\n",
       "   u'Sports timeline': 0,\n",
       "   u'United States House of Representatives': 0.39524502,\n",
       "   u'XXNILXX': 0,\n",
       "   u'Year': 0.5463711,\n",
       "   u'Year (metadata)': 0,\n",
       "   u'Year in comics': 0,\n",
       "   u'gap year': 0.5463711,\n",
       "   u'season': 0.46035472,\n",
       "   u'year': 0.43212619}},\n",
       " u'drawings and engravings show the influence of others , notably [Antonio Pollaiuolo] with his interest in the proportions of the body ,': {u'gold': u'Antonio del Pollaiolo',\n",
       "  u'training': True,\n",
       "  u'vals': {u'-NIL-': 0.61331522,\n",
       "   u'Antonio Pollaiuolo': 0.47890934,\n",
       "   u'Antonio del Pollaiolo': 0.35885921,\n",
       "   u'Pollaiolo': 0.40702194,\n",
       "   u'Pollaiuolo': 0.17149946,\n",
       "   u'XXNILXX': 0}},\n",
       " u'had learned how to make prints in drypoint and design [woodcut] s in the German style , based on the works': {u'gold': u'Woodcut',\n",
       "  u'training': True,\n",
       "  u'vals': {u'-NIL-': 0.47489351,\n",
       "   u\"D\\xfcrer's Rhinoceros\": 0.47489351,\n",
       "   u'Woodblock printing': 0.56877422,\n",
       "   u'Woodcut': 0.46461964,\n",
       "   u'Woodcut print': 0.46461964,\n",
       "   u'XXNILXX': 0,\n",
       "   u'woodblock printing': 0.44808897,\n",
       "   u'woodcut': 0.42834935}},\n",
       " u'in the German style , based on the works of [Martin Schongauer] and the Housebook Master .': {u'gold': u'Martin Schongauer',\n",
       "  u'training': True,\n",
       "  u'vals': {u'-NIL-': 0.5510726,\n",
       "   u'Martin Schongauer': 0.16489169,\n",
       "   u'Schongauer': 0.5510726,\n",
       "   u'XXNILXX': 0}},\n",
       " u'interest in the proportions of the body , Mantegna , [Lorenzo di Credi] and others .': {u'gold': u'Lorenzo di Credi',\n",
       "  u'training': True,\n",
       "  u'vals': {u'-NIL-': 0.60528457,\n",
       "   u'Credi': 0.49427864,\n",
       "   u'Di Credi': 0,\n",
       "   u'Lorenzo di Credi': 0.68442148,\n",
       "   u'XXNILXX': 0,\n",
       "   u'di Credi': 0}},\n",
       " u'is reinforced by his theoretical treatise which involve principles of [mathematics] , perspective and ideal proportions .': {u'gold': u'Mathematics',\n",
       "  u'training': True,\n",
       "  u'vals': {u'-NIL-': 0.54541749,\n",
       "   u'Chinese mathematics': 0.52896219,\n",
       "   u'Greek mathematics': 0.58894563,\n",
       "   u'History of mathematics': 0.60746151,\n",
       "   u'Indian mathematics': 0.39176071,\n",
       "   u'Islamic mathematics': 0.18656063,\n",
       "   u'Mathematic': 0.58037901,\n",
       "   u'Mathematics': 0.58894563,\n",
       "   u'Mathematics (Cherry Ghost song)': 0,\n",
       "   u'Mathematics (producer)': 0.5029043,\n",
       "   u'Mathematics (song)': 0,\n",
       "   u'Mathematics and Computing College': 0.58894563,\n",
       "   u'Mathematics education': 0.47705677,\n",
       "   u'Mathematics in medieval Islam': 0.68958032,\n",
       "   u'Outline of mathematics': 0.61112058,\n",
       "   u'Philosophy of mathematics': 0.60746151,\n",
       "   u'Wolf Prize in Mathematics': 0.67544013,\n",
       "   u'XXNILXX': 0,\n",
       "   u'mathematic': 0.54541749,\n",
       "   u'mathematics': 0.17225453}},\n",
       " u'many repeated uses of the same block -RRB- by the [Wolgemut] workshop .': {u'gold': u'Michael Wolgemut',\n",
       "  u'training': True,\n",
       "  u'vals': {u'-NIL-': 0.45162994,\n",
       "   u'Michael Wolgemut': 0.61003125,\n",
       "   u'Wolgemut': 0.38810879,\n",
       "   u'XXNILXX': 0}},\n",
       " u'period , though it is likely that he went to [Frankfurt] and the Netherlands .': {u'gold': u'Frankfurt am Main',\n",
       "  u'training': True,\n",
       "  u'vals': {u'-NIL-': 0.48038143,\n",
       "   u'1. FFC Frankfurt': 0.64174926,\n",
       "   u'Commerzbank-Arena': 0.58385783,\n",
       "   u'Eintracht Frankfurt': 0.4743939,\n",
       "   u'Frankfurt': 0.66690946,\n",
       "   u'Frankfurt (Main) Hauptbahnhof': 0.40992999,\n",
       "   u'Frankfurt (Oder)': 0.57784736,\n",
       "   u'Frankfurt Airport': 0.57784736,\n",
       "   u'Frankfurt Central Station': 0.51141757,\n",
       "   u'Frankfurt Cup': 0,\n",
       "   u'Frankfurt Grand Prix (tennis)': 0,\n",
       "   u'Frankfurt Hauptbahnhof': 0.56057513,\n",
       "   u'Frankfurt International Airport': 0.56743777,\n",
       "   u'Frankfurt Stock Exchange': 0.56805754,\n",
       "   u'Frankfurt am Main': 0.16769716,\n",
       "   u'Frankfurt, Germany': 0.17371023,\n",
       "   u'Free City of Frankfurt': 0.66690946,\n",
       "   u'Goethe University Frankfurt': 0.57784736,\n",
       "   u'Grand Duchy of Frankfurt': 0.57805145,\n",
       "   u'XXNILXX': 0}},\n",
       " u\"produced the first seventeen of a set illustrating the '' [Life of the Virgin] '' , which he did not finish for some years\": {u'gold': u'Life of the Virgin',\n",
       "  u'training': True,\n",
       "  u'vals': {u'-NIL-': 0.50154912,\n",
       "   u'Life': 0.6244719,\n",
       "   u'Life (1999 film)': 0,\n",
       "   u'Life (BBC TV series)': 0.47675872,\n",
       "   u\"Life (Des'ree song)\": 0,\n",
       "   u'Life (NBC TV series)': 0.37848938,\n",
       "   u'Life (Ricky Martin album)': 0,\n",
       "   u'Life (ZOEgirl album)': 0,\n",
       "   u'Life (magazine)': 0.47005945,\n",
       "   u'Life Racing Engines': 0.3040061,\n",
       "   u'Life University': 0.57350975,\n",
       "   u'Life Virgin': 0,\n",
       "   u'Life magazine': 0.50035709,\n",
       "   u'Life of': 0,\n",
       "   u'Life of the': 0,\n",
       "   u'Life of the Virgin': 0.45776895,\n",
       "   u'Life of the Virgin (Biography)': 0.16982573,\n",
       "   u'Life of the Virgin (D\\xfcrer)': 0,\n",
       "   u'Life of the Virgin (Maximus)': 0,\n",
       "   u'XXNILXX': 0}},\n",
       " u'reputation as one of the most important figures of the [Northern Renaissance] .': {u'gold': u'Northern Renaissance',\n",
       "  u'training': True,\n",
       "  u'vals': {u'-NIL-': 0.62527049,\n",
       "   u'Dutch and Flemish Renaissance painting': 0.45192301,\n",
       "   u'French Renaissance': 0.64119184,\n",
       "   u'Italian Renaissance': 0.42982519,\n",
       "   u'Northern Renaissance': 0.50526899,\n",
       "   u'Renaissance': 0.35752785,\n",
       "   u'Renaissance (band)': 0.4450593,\n",
       "   u'Renaissance (club)': 0,\n",
       "   u'Renaissance (film)': 0,\n",
       "   u'Renaissance (song)': 0,\n",
       "   u'Renaissance Recordings': 0.64119184,\n",
       "   u'Renaissance Revival architecture': 0.40058625,\n",
       "   u'Renaissance architecture': 0.18171769,\n",
       "   u'Renaissance art': 0.47890934,\n",
       "   u'Renaissance in Poland': 0.42982519,\n",
       "   u'Renaissance in Scotland': 0.59672666,\n",
       "   u'Renaissance literature': 0.56146812,\n",
       "   u'Renaissance music': 0.56146812,\n",
       "   u'The Renaissance': 0.46212411,\n",
       "   u'XXNILXX': 0}},\n",
       " u'rer trained himself in the difficult art of using the [burin] to make engraving s .': {u'gold': u'Burin',\n",
       "  u'training': True,\n",
       "  u'vals': {u'-NIL-': 0.58037901,\n",
       "   u'Burin': 0.58037901,\n",
       "   u'Burin (tool)': 0.63226688,\n",
       "   u'Burin Peninsula': 0.51348865,\n",
       "   u'Burin, Nablus': 0,\n",
       "   u'Burin, Newfoundland and Labrador': 0.63226688,\n",
       "   u'XXNILXX': 0,\n",
       "   u'burin': 0.59248465,\n",
       "   u'burin (tool)': 0.1657311}},\n",
       " u'talent in drawing that he started as an apprentice to [Michael Wolgemut] at the age of fifteen in 1486 .': {u'gold': u'Michael Wolgemut',\n",
       "  u'training': True,\n",
       "  u'vals': {u'-NIL-': 0.16563153,\n",
       "   u'Michael Wolgemut': 0.58543384,\n",
       "   u'Wolgemut': 0.55614811,\n",
       "   u'XXNILXX': 0}},\n",
       " u\"the masterpiece , the '' Prodigal Son , '' which [Vasari] singled out for praise some decades later , noting its\": {u'gold': u'Giorgio Vasari',\n",
       "  u'training': True,\n",
       "  u'vals': {u'-NIL-': 0.42771915,\n",
       "   u'Gaetano Vasari': 0.44057578,\n",
       "   u'Giorgio Vasari': 0.36934215,\n",
       "   u'Lives of the Most Excellent Painters, Sculptors, and Architects': 0.42037094,\n",
       "   u'Lives of the Painters': 0.5109815,\n",
       "   u'Vasari': 0.57808137,\n",
       "   u'XXNILXX': 0}},\n",
       " u'theoretical treatise which involve principles of mathematics , perspective and [ideal proportions] .': {u'gold': u'body proportions',\n",
       "  u'training': True,\n",
       "  u'vals': {u'-NIL-': 0.6041823,\n",
       "   u'Body proportions': 0.6041823,\n",
       "   u'Golden ratio': 0.49212411,\n",
       "   u'Ideal proportions': 0,\n",
       "   u'Musical tuning': 0.4615314,\n",
       "   u'Proportion': 0.6041823,\n",
       "   u'Proportion (architecture)': 0,\n",
       "   u'Proportionality': 0.57492524,\n",
       "   u'Proportionality (mathematics)': 0.6316908,\n",
       "   u'Proportions': 0.49101871,\n",
       "   u'Ratio': 0.6041823,\n",
       "   u'XXNILXX': 0,\n",
       "   u'aspect ratio': 0.5994879,\n",
       "   u'body proportions': 0.53726923,\n",
       "   u'ideal proportions': 0,\n",
       "   u'musical tuning': 0.5994879,\n",
       "   u'proportion': 0.53009152,\n",
       "   u'proportion (architecture)': 0,\n",
       "   u'proportionality (mathematics)': 0.53009152,\n",
       "   u'proportions': 0.16444489}},\n",
       " u'works in the first years of the workshop were his [woodcut] prints , mostly religious , but including secular scenes such': {u'gold': u'Woodcut',\n",
       "  u'training': True,\n",
       "  u'vals': {u'-NIL-': 0.59474558,\n",
       "   u\"D\\xfcrer's Rhinoceros\": 0.55059648,\n",
       "   u'Woodblock printing': 0.38069588,\n",
       "   u'Woodcut': 0.46810767,\n",
       "   u'Woodcut print': 0.39294839,\n",
       "   u'XXNILXX': 0,\n",
       "   u'woodblock printing': 0.55059648,\n",
       "   u'woodcut': 0.5514099}}}"
      ]
     },
     "execution_count": 44,
     "metadata": {},
     "output_type": "execute_result"
    }
   ],
   "source": [
    "queries.values()[10]"
   ]
  },
  {
   "cell_type": "code",
   "execution_count": 142,
   "metadata": {
    "collapsed": true
   },
   "outputs": [],
   "source": [
    "queries_exp.compute_batch()"
   ]
  },
  {
   "cell_type": "code",
   "execution_count": 88,
   "metadata": {
    "collapsed": false
   },
   "outputs": [],
   "source": [
    "gg_func = theano.function(\n",
    "    queries_exp.func_inputs,\n",
    "    [queries_exp.loss_vec, queries_exp.source_out, queries_exp.target_out] + T.grad(queries_exp.loss_vec.mean(), queries_exp.all_params),\n",
    "    updates=queries_exp.updates,\n",
    "    on_unused_input='ignore',\n",
    ")"
   ]
  },
  {
   "cell_type": "code",
   "execution_count": 91,
   "metadata": {
    "collapsed": false
   },
   "outputs": [],
   "source": [
    "res1 = gg_func(\n",
    "    queries_exp.current_documents,\n",
    "    queries_exp.current_surface_link, queries_exp.current_surface_context, queries_exp.current_link_id,\n",
    "    queries_exp.current_target_input, queries_exp.current_target_matches_surface, queries_exp.current_target_id, queries_exp.current_target_goal\n",
    ")"
   ]
  },
  {
   "cell_type": "code",
   "execution_count": 92,
   "metadata": {
    "collapsed": false
   },
   "outputs": [
    {
     "data": {
      "text/plain": [
       "(0.24814822, 0.24238527, 0.23680143)"
      ]
     },
     "execution_count": 92,
     "metadata": {},
     "output_type": "execute_result"
    }
   ],
   "source": [
    "res1[0].max(), res1[0].mean(), res1[0].min()"
   ]
  },
  {
   "cell_type": "code",
   "execution_count": 81,
   "metadata": {
    "collapsed": false
   },
   "outputs": [
    {
     "data": {
      "text/plain": [
       "array([  76.69731903,  172.44116211,  139.30476379, -182.91343689,\n",
       "        172.44116211,  172.44116211,  -13.79522324,   97.6740036 ,\n",
       "         11.84405231,   36.98944092], dtype=float32)"
      ]
     },
     "execution_count": 81,
     "metadata": {},
     "output_type": "execute_result"
    }
   ],
   "source": [
    "np.dot(res1[1][0], res1[2][0:10,:].T)"
   ]
  },
  {
   "cell_type": "code",
   "execution_count": 83,
   "metadata": {
    "collapsed": false
   },
   "outputs": [
    {
     "data": {
      "text/plain": [
       "array([ 0.24216416,  0.24294616,  0.24274334,  0.23833458,  0.24294616,\n",
       "        0.24294616,  0.24024701,  0.24193516,  0.24127102,  0.24146625], dtype=float32)"
      ]
     },
     "execution_count": 83,
     "metadata": {},
     "output_type": "execute_result"
    }
   ],
   "source": [
    "res1[0][0:10]"
   ]
  },
  {
   "cell_type": "code",
   "execution_count": 71,
   "metadata": {
    "collapsed": false
   },
   "outputs": [
    {
     "data": {
      "text/plain": [
       "9.7740622e-06"
      ]
     },
     "execution_count": 71,
     "metadata": {},
     "output_type": "execute_result"
    }
   ],
   "source": [
    "res1[3:][0].std()"
   ]
  },
  {
   "cell_type": "code",
   "execution_count": 53,
   "metadata": {
    "collapsed": false
   },
   "outputs": [
    {
     "data": {
      "text/plain": [
       "[surface_cxt_conv1.W,\n",
       " surface_cxt_conv1.b,\n",
       " surface_conv1.W,\n",
       " surface_conv1.b,\n",
       " surface_dens1.W,\n",
       " surface_dens1.b,\n",
       " source_dens1.W,\n",
       " source_dens1.b,\n",
       " source_dens12.W,\n",
       " source_dens12.b,\n",
       " source_dens2.W,\n",
       " source_dens2.b,\n",
       " document_conv1.W,\n",
       " document_conv1.b,\n",
       " doucment_dens1.W,\n",
       " doucment_dens1.b,\n",
       " document_dens2.W,\n",
       " document_dens2.b]"
      ]
     },
     "execution_count": 53,
     "metadata": {},
     "output_type": "execute_result"
    }
   ],
   "source": [
    "queries_exp.all_params"
   ]
  },
  {
   "cell_type": "code",
   "execution_count": 197,
   "metadata": {
    "collapsed": false
   },
   "outputs": [
    {
     "data": {
      "text/plain": [
       "0.24253285"
      ]
     },
     "execution_count": 197,
     "metadata": {},
     "output_type": "execute_result"
    }
   ],
   "source": [
    "res1[0].mean()"
   ]
  },
  {
   "cell_type": "code",
   "execution_count": 198,
   "metadata": {
    "collapsed": false
   },
   "outputs": [
    {
     "data": {
      "text/plain": [
       "array([-10.04426765,  -8.85146523,  -6.5927825 ,  -5.64352655,\n",
       "        -6.2810235 , -10.34654236,  -6.09899616,   1.8380394 ,\n",
       "        -3.23892975,  -6.04222679,  -8.91859531,   1.09592962,\n",
       "        -5.27822304, -12.33982086,  -5.90433264], dtype=float32)"
      ]
     },
     "execution_count": 198,
     "metadata": {},
     "output_type": "execute_result"
    }
   ],
   "source": [
    "np.dot(res1[2][0,:],res1[1][0:15,:].T)"
   ]
  },
  {
   "cell_type": "code",
   "execution_count": 178,
   "metadata": {
    "collapsed": false
   },
   "outputs": [
    {
     "data": {
      "text/plain": [
       "-5.4103508"
      ]
     },
     "execution_count": 178,
     "metadata": {},
     "output_type": "execute_result"
    }
   ],
   "source": [
    "res1[2][0,:].min()"
   ]
  },
  {
   "cell_type": "code",
   "execution_count": 168,
   "metadata": {
    "collapsed": false
   },
   "outputs": [
    {
     "data": {
      "text/plain": [
       "-0.82824624"
      ]
     },
     "execution_count": 168,
     "metadata": {},
     "output_type": "execute_result"
    }
   ],
   "source": [
    "res1[1][0,:]"
   ]
  },
  {
   "cell_type": "code",
   "execution_count": null,
   "metadata": {
    "collapsed": false
   },
   "outputs": [],
   "source": [
    "np.isnan(gg_res[0]).any()"
   ]
  },
  {
   "cell_type": "code",
   "execution_count": null,
   "metadata": {
    "collapsed": false
   },
   "outputs": [],
   "source": [
    "gg_res[2].mean()"
   ]
  },
  {
   "cell_type": "code",
   "execution_count": null,
   "metadata": {
    "collapsed": false
   },
   "outputs": [],
   "source": [
    "gg_res[0].mean()"
   ]
  },
  {
   "cell_type": "code",
   "execution_count": null,
   "metadata": {
    "collapsed": false
   },
   "outputs": [],
   "source": [
    "[(v, np.isnan(v.get_value(borrow=True)).all()) for v in queries_exp.all_params]"
   ]
  },
  {
   "cell_type": "code",
   "execution_count": null,
   "metadata": {
    "collapsed": false
   },
   "outputs": [],
   "source": [
    "queries_exp.total_links"
   ]
  },
  {
   "cell_type": "code",
   "execution_count": null,
   "metadata": {
    "collapsed": false
   },
   "outputs": [],
   "source": [
    "theano.printing.pydotprint(T.grad(queries_exp.loss_vec.mean(), queries_exp.all_params))"
   ]
  },
  {
   "cell_type": "code",
   "execution_count": null,
   "metadata": {
    "collapsed": false
   },
   "outputs": [],
   "source": [
    "gg_func = theano.function(\n",
    "            [queries_exp.x_document_input,\n",
    "             queries_exp.x_surface_text_input, queries_exp.x_document_id,\n",
    "             queries_exp.x_target_input, queries_exp.x_link_id, queries_exp.y_score],\n",
    "            T.grad(queries_exp.loss_vec.mean(), lasagne.layers.get_all_params(queries_exp.target_dens2)),\n",
    "#           T.grad(queries_exp.loss_vec.mean(), queries_exp.all_params),\n",
    "    #             [queries_exp.target_out, queries_exp.source_aligned_l, \n",
    "#              T.dot(queries_exp.target_out, queries_exp.source_aligned_l.T).diagonal(),\n",
    "#              queries_exp.target_out.norm(2, axis=1) * queries_exp.source_aligned_l.norm(2, axis=1),\n",
    "#              T.batched_dot(queries_exp.target_out, queries_exp.source_aligned_l),\n",
    "#              lasagne.layers.get_output(queries_exp.target_dens2),\n",
    "#              queries_exp.target_out.norm(2, axis=1),\n",
    "#              #T.grad(queries_exp.loss_vec.mean(), queries_exp.all_params)\n",
    "#             ],\n",
    "        #[queries_exp.res_l, queries_exp.loss_vec.sum(), queries_exp.loss_vec],\n",
    "    on_unused_input='ignore',\n",
    "    mode='DebugMode'\n",
    "        )"
   ]
  },
  {
   "cell_type": "code",
   "execution_count": 19,
   "metadata": {
    "collapsed": false
   },
   "outputs": [],
   "source": [
    "gg_func = theano.function(\n",
    "            [queries_exp.x_document_input,\n",
    "             queries_exp.x_surface_text_input, queries_exp.x_document_id,\n",
    "             queries_exp.x_target_input, queries_exp.x_link_id, queries_exp.y_answer],\n",
    "            #[self.res_cap, self.loss_vec.sum(), self.loss_vec],\n",
    "            [queries_exp.res_cap],\n",
    "        mode='DebugMode',\n",
    "        on_unused_input='ignore',\n",
    "        )"
   ]
  },
  {
   "cell_type": "code",
   "execution_count": 20,
   "metadata": {
    "collapsed": false
   },
   "outputs": [],
   "source": [
    "try:\n",
    "    gg_grad_res = gg_func(\n",
    "        queries_exp.current_documents,\n",
    "        queries_exp.current_surface_text, queries_exp.current_link_id,\n",
    "        queries_exp.current_target_input, queries_exp.current_target_id, queries_exp.current_target_goal\n",
    "    )\n",
    "except Exception as e:\n",
    "    eeee = e"
   ]
  },
  {
   "cell_type": "code",
   "execution_count": 21,
   "metadata": {
    "collapsed": false
   },
   "outputs": [
    {
     "data": {
      "text/plain": [
       "ValueError('Bad input argument to theano function with name \"<ipython-input-19-c6e818cc55a5>:8\"  at index 4(0-based)',\n",
       "           'setting an array element with a sequence.')"
      ]
     },
     "execution_count": 21,
     "metadata": {},
     "output_type": "execute_result"
    }
   ],
   "source": [
    "eeee"
   ]
  },
  {
   "cell_type": "code",
   "execution_count": null,
   "metadata": {
    "collapsed": false
   },
   "outputs": [],
   "source": [
    "[np.isnan(v).any() for v in gg_grad_res]"
   ]
  },
  {
   "cell_type": "code",
   "execution_count": null,
   "metadata": {
    "collapsed": false
   },
   "outputs": [],
   "source": [
    "eeee"
   ]
  },
  {
   "cell_type": "code",
   "execution_count": null,
   "metadata": {
    "collapsed": false
   },
   "outputs": [],
   "source": [
    "len(queries_exp.current_target_input)"
   ]
  },
  {
   "cell_type": "code",
   "execution_count": null,
   "metadata": {
    "collapsed": false
   },
   "outputs": [],
   "source": [
    "gg_res = gg_func(\n",
    "    queries_exp.current_documents,\n",
    "    queries_exp.current_surface_text, queries_exp.current_link_id,\n",
    "    queries_exp.current_target_input, queries_exp.current_target_id, queries_exp.current_target_goal\n",
    ")"
   ]
  },
  {
   "cell_type": "code",
   "execution_count": null,
   "metadata": {
    "collapsed": false
   },
   "outputs": [],
   "source": [
    "len(queries_exp.current_target_input)"
   ]
  },
  {
   "cell_type": "code",
   "execution_count": null,
   "metadata": {
    "collapsed": false
   },
   "outputs": [],
   "source": [
    "np.isnan(gg_res[5]).any()"
   ]
  },
  {
   "cell_type": "code",
   "execution_count": null,
   "metadata": {
    "collapsed": false
   },
   "outputs": [],
   "source": [
    "gg_res[2]"
   ]
  },
  {
   "cell_type": "code",
   "execution_count": null,
   "metadata": {
    "collapsed": false
   },
   "outputs": [],
   "source": [
    "gg_res[0].shape, gg_res[1].shape, gg_res[2].shape, gg_res[3].shape, gg_res[4].shape"
   ]
  },
  {
   "cell_type": "code",
   "execution_count": null,
   "metadata": {
    "collapsed": false
   },
   "outputs": [],
   "source": [
    "np.inner(gg_res[0], gg_res[1]).shape"
   ]
  },
  {
   "cell_type": "code",
   "execution_count": null,
   "metadata": {
    "collapsed": false
   },
   "outputs": [],
   "source": [
    "gg_res[0] * gg_res[1]"
   ]
  },
  {
   "cell_type": "code",
   "execution_count": null,
   "metadata": {
    "collapsed": false
   },
   "outputs": [],
   "source": [
    "aa = np.dot(gg_res[0], gg_res[1].T)"
   ]
  },
  {
   "cell_type": "code",
   "execution_count": null,
   "metadata": {
    "collapsed": false
   },
   "outputs": [],
   "source": [
    "aa.diagonal().shape"
   ]
  },
  {
   "cell_type": "code",
   "execution_count": null,
   "metadata": {
    "collapsed": false
   },
   "outputs": [],
   "source": [
    "gg_res[2]"
   ]
  },
  {
   "cell_type": "code",
   "execution_count": null,
   "metadata": {
    "collapsed": false
   },
   "outputs": [],
   "source": [
    "len(queries_exp.queried_pages)"
   ]
  },
  {
   "cell_type": "code",
   "execution_count": null,
   "metadata": {
    "collapsed": false
   },
   "outputs": [],
   "source": [
    "len(queries_exp.page_content)"
   ]
  },
  {
   "cell_type": "code",
   "execution_count": null,
   "metadata": {
    "collapsed": false
   },
   "outputs": [],
   "source": [
    "len(queries_exp.current_surface_text)"
   ]
  },
  {
   "cell_type": "code",
   "execution_count": null,
   "metadata": {
    "collapsed": false
   },
   "outputs": [],
   "source": [
    "len(queries_exp.current_link_id)"
   ]
  },
  {
   "cell_type": "code",
   "execution_count": null,
   "metadata": {
    "collapsed": false
   },
   "outputs": [],
   "source": [
    "len(queries_exp.current_target_input)"
   ]
  },
  {
   "cell_type": "code",
   "execution_count": null,
   "metadata": {
    "collapsed": false
   },
   "outputs": [],
   "source": [
    "exp_results = []\n",
    "\n",
    "for i in xrange(5):\n",
    "    exp_results.append((i, queries_exp.compute_batch()))"
   ]
  },
  {
   "cell_type": "code",
   "execution_count": null,
   "metadata": {
    "collapsed": false
   },
   "outputs": [],
   "source": [
    "exp_results"
   ]
  },
  {
   "cell_type": "code",
   "execution_count": null,
   "metadata": {
    "collapsed": false
   },
   "outputs": [],
   "source": [
    "queries.values()"
   ]
  },
  {
   "cell_type": "code",
   "execution_count": null,
   "metadata": {
    "collapsed": false
   },
   "outputs": [],
   "source": [
    "queries_exp.total_links"
   ]
  },
  {
   "cell_type": "code",
   "execution_count": null,
   "metadata": {
    "collapsed": false
   },
   "outputs": [],
   "source": [
    "queries_exp.total_loss / queries_exp.total_links"
   ]
  },
  {
   "cell_type": "code",
   "execution_count": null,
   "metadata": {
    "collapsed": false
   },
   "outputs": [],
   "source": [
    "queries_exp.total_loss"
   ]
  },
  {
   "cell_type": "code",
   "execution_count": null,
   "metadata": {
    "collapsed": false
   },
   "outputs": [],
   "source": [
    "len(queries_exp.current_target_id)"
   ]
  },
  {
   "cell_type": "code",
   "execution_count": null,
   "metadata": {
    "collapsed": false
   },
   "outputs": [],
   "source": [
    "queries_exp.compute_batch()"
   ]
  },
  {
   "cell_type": "code",
   "execution_count": null,
   "metadata": {
    "collapsed": false
   },
   "outputs": [],
   "source": [
    "%time queries_exp.run_batch(queries_exp.test_func)"
   ]
  },
  {
   "cell_type": "code",
   "execution_count": null,
   "metadata": {
    "collapsed": true
   },
   "outputs": [],
   "source": []
  }
 ],
 "metadata": {
  "kernelspec": {
   "display_name": "Python 2",
   "language": "python",
   "name": "python2"
  },
  "language_info": {
   "codemirror_mode": {
    "name": "ipython",
    "version": 2
   },
   "file_extension": ".py",
   "mimetype": "text/x-python",
   "name": "python",
   "nbconvert_exporter": "python",
   "pygments_lexer": "ipython2",
   "version": "2.7.5"
  }
 },
 "nbformat": 4,
 "nbformat_minor": 0
}
