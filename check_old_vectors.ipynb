{
 "cells": [
  {
   "cell_type": "code",
   "execution_count": 1,
   "metadata": {
    "collapsed": false
   },
   "outputs": [
    {
     "name": "stdout",
     "output_type": "stream",
     "text": [
      "Couldn't import dot_parser, loading of dot files will not be possible.\n"
     ]
    }
   ],
   "source": [
    "import numpy as np\n",
    "from wordvecs import WordVectors, EmbeddingLayer"
   ]
  },
  {
   "cell_type": "code",
   "execution_count": 2,
   "metadata": {
    "collapsed": false
   },
   "outputs": [],
   "source": [
    "wordvecs = WordVectors('../enwiki-20141208-pages-articles-multistream-links-output4.bin', negvectors=True)"
   ]
  },
  {
   "cell_type": "code",
   "execution_count": 3,
   "metadata": {
    "collapsed": false
   },
   "outputs": [
    {
     "data": {
      "text/plain": [
       "6091842"
      ]
     },
     "execution_count": 3,
     "metadata": {},
     "output_type": "execute_result"
    }
   ],
   "source": [
    "len(wordvecs.vectors)"
   ]
  },
  {
   "cell_type": "code",
   "execution_count": 4,
   "metadata": {
    "collapsed": false
   },
   "outputs": [
    {
     "data": {
      "text/plain": [
       "('tripolitan',\n",
       " array([-1.72562206,  1.09543288,  1.5850203 , -0.91895413,  0.37397632,\n",
       "        -0.25383687,  5.29738808, -0.87385696, -0.63653666,  0.56709403,\n",
       "        -1.98969805, -1.02785873,  1.99870777,  0.89208007, -1.16825533,\n",
       "        -0.06179783,  1.59890521, -0.27432263,  1.37833405, -0.40891233,\n",
       "        -2.33144736, -1.96019638, -0.5573675 ,  0.09790356,  4.01127577,\n",
       "         1.65929186, -1.68533897,  1.10925353,  1.20290232, -2.70677161,\n",
       "         0.3919746 ,  1.89696801,  3.21965599,  1.71445358,  0.56024212,\n",
       "        -0.38534302, -0.28347743,  0.64897317, -0.14288026, -0.0940052 ,\n",
       "        -1.16799545, -2.84966207, -2.48054123, -2.22829914, -2.2372148 ,\n",
       "         2.65024805,  0.96975583,  0.86302459, -0.62704998,  2.05705857,\n",
       "        -2.55001616,  2.09426188, -2.82657385,  3.61804605, -1.22964573,\n",
       "        -1.34993696, -0.4551318 ,  0.65686631,  0.2613582 ,  0.81778234,\n",
       "        -1.43448532, -2.47796392,  0.98097092,  1.03059971, -0.85829526,\n",
       "        -0.35159099, -1.02700484,  3.57479763,  1.59535301,  0.24820489,\n",
       "        -1.09161317, -1.34941053,  3.50946259, -0.94481689,  2.12264776,\n",
       "        -1.80441213, -2.68233967, -0.84092796, -1.05577505, -0.16922529,\n",
       "        -0.29581416, -0.03698976,  0.64653558, -2.51120234,  1.43923724,\n",
       "         4.37897682,  1.02316213, -0.19155148,  0.49969244,  2.05760431,\n",
       "        -0.43275687,  0.1056145 , -0.01588815, -0.02049848,  3.40458322,\n",
       "        -0.8458479 ,  0.74877101,  0.96246397,  0.71914506,  2.96643353], dtype=float32))"
      ]
     },
     "execution_count": 4,
     "metadata": {},
     "output_type": "execute_result"
    }
   ],
   "source": [
    "wordvecs.vectors.iteritems().next()"
   ]
  },
  {
   "cell_type": "code",
   "execution_count": 5,
   "metadata": {
    "collapsed": true
   },
   "outputs": [],
   "source": [
    "arr = np.array(wordvecs.vectors.values())"
   ]
  },
  {
   "cell_type": "code",
   "execution_count": 6,
   "metadata": {
    "collapsed": false
   },
   "outputs": [
    {
     "data": {
      "text/plain": [
       "(6091842, 100)"
      ]
     },
     "execution_count": 6,
     "metadata": {},
     "output_type": "execute_result"
    }
   ],
   "source": [
    "arr.shape"
   ]
  },
  {
   "cell_type": "code",
   "execution_count": 7,
   "metadata": {
    "collapsed": false
   },
   "outputs": [
    {
     "data": {
      "text/plain": [
       "30.148571"
      ]
     },
     "execution_count": 7,
     "metadata": {},
     "output_type": "execute_result"
    }
   ],
   "source": [
    "arr.max()"
   ]
  },
  {
   "cell_type": "code",
   "execution_count": 8,
   "metadata": {
    "collapsed": false
   },
   "outputs": [
    {
     "data": {
      "text/plain": [
       "-31.875921"
      ]
     },
     "execution_count": 8,
     "metadata": {},
     "output_type": "execute_result"
    }
   ],
   "source": [
    "arr.min()"
   ]
  },
  {
   "cell_type": "code",
   "execution_count": 9,
   "metadata": {
    "collapsed": false
   },
   "outputs": [
    {
     "data": {
      "text/plain": [
       "6091842"
      ]
     },
     "execution_count": 9,
     "metadata": {},
     "output_type": "execute_result"
    }
   ],
   "source": [
    "len(wordvecs.negvectors)"
   ]
  },
  {
   "cell_type": "code",
   "execution_count": 10,
   "metadata": {
    "collapsed": true
   },
   "outputs": [],
   "source": [
    "neg_arr = np.array(wordvecs.negvectors.values())"
   ]
  },
  {
   "cell_type": "code",
   "execution_count": 11,
   "metadata": {
    "collapsed": false
   },
   "outputs": [
    {
     "data": {
      "text/plain": [
       "(6.9687324, -6.3483477)"
      ]
     },
     "execution_count": 11,
     "metadata": {},
     "output_type": "execute_result"
    }
   ],
   "source": [
    "neg_arr.max(), neg_arr.min()"
   ]
  },
  {
   "cell_type": "code",
   "execution_count": 13,
   "metadata": {
    "collapsed": false
   },
   "outputs": [
    {
     "data": {
      "text/plain": [
       "True"
      ]
     },
     "execution_count": 13,
     "metadata": {},
     "output_type": "execute_result"
    }
   ],
   "source": [
    "np.isfinite(arr).all()"
   ]
  },
  {
   "cell_type": "code",
   "execution_count": null,
   "metadata": {
    "collapsed": true
   },
   "outputs": [],
   "source": []
  }
 ],
 "metadata": {
  "kernelspec": {
   "display_name": "Python 2",
   "language": "python",
   "name": "python2"
  },
  "language_info": {
   "codemirror_mode": {
    "name": "ipython",
    "version": 2
   },
   "file_extension": ".py",
   "mimetype": "text/x-python",
   "name": "python",
   "nbconvert_exporter": "python",
   "pygments_lexer": "ipython2",
   "version": "2.7.10"
  }
 },
 "nbformat": 4,
 "nbformat_minor": 0
}
