{
 "cells": [
  {
   "cell_type": "code",
   "execution_count": 1,
   "metadata": {
    "collapsed": false
   },
   "outputs": [
    {
     "name": "stdout",
     "output_type": "stream",
     "text": [
      "Couldn't import dot_parser, loading of dot files will not be possible.\n"
     ]
    }
   ],
   "source": [
    "from theano import *\n",
    "from lasagne.layers import EmbeddingLayer, InputLayer, get_output\n",
    "import lasagne\n",
    "import lasagne.layers\n",
    "import theano.tensor as T\n",
    "import theano\n",
    "import numpy as np"
   ]
  },
  {
   "cell_type": "code",
   "execution_count": 13,
   "metadata": {
    "collapsed": false
   },
   "outputs": [],
   "source": [
    "var = theano.shared(np.array([1,2,3], dtype='float64'))"
   ]
  },
  {
   "cell_type": "code",
   "execution_count": 14,
   "metadata": {
    "collapsed": true
   },
   "outputs": [],
   "source": [
    "input = T.vector('x')"
   ]
  },
  {
   "cell_type": "code",
   "execution_count": 15,
   "metadata": {
    "collapsed": false
   },
   "outputs": [],
   "source": [
    "update = {\n",
    "    var: var * 2 + input\n",
    "}"
   ]
  },
  {
   "cell_type": "code",
   "execution_count": 20,
   "metadata": {
    "collapsed": false
   },
   "outputs": [],
   "source": [
    "cnt = theano.function((input,), (var * 3), updates=update)"
   ]
  },
  {
   "cell_type": "code",
   "execution_count": 21,
   "metadata": {
    "collapsed": false
   },
   "outputs": [
    {
     "data": {
      "text/plain": [
       "array([ 12.,  24.,  36.])"
      ]
     },
     "execution_count": 21,
     "metadata": {},
     "output_type": "execute_result"
    }
   ],
   "source": [
    "cnt([0,0,0])"
   ]
  },
  {
   "cell_type": "code",
   "execution_count": 22,
   "metadata": {
    "collapsed": false
   },
   "outputs": [
    {
     "data": {
      "image/svg+xml": [
       "<svg height=\"218pt\" viewBox=\"0.00 0.00 1095.50 218.00\" width=\"1096pt\" xmlns=\"http://www.w3.org/2000/svg\" xmlns:xlink=\"http://www.w3.org/1999/xlink\">\n",
       "<g class=\"graph\" id=\"graph0\" transform=\"scale(1 1) rotate(0) translate(4 214)\">\n",
       "<title>G</title>\n",
       "<polygon fill=\"white\" points=\"-4,4 -4,-214 1091.5,-214 1091.5,4 -4,4\" stroke=\"none\"/>\n",
       "<!-- Elemwise{mul,no_inplace} -->\n",
       "<g class=\"node\" id=\"node1\"><title>Elemwise{mul,no_inplace}</title>\n",
       "<ellipse cx=\"218.5\" cy=\"-105\" fill=\"#ffaabb\" rx=\"112.38\" ry=\"18\" stroke=\"black\"/>\n",
       "<text font-family=\"Times,serif\" font-size=\"14.00\" text-anchor=\"middle\" x=\"218.5\" y=\"-101.3\">Elemwise{mul,no_inplace}</text>\n",
       "</g>\n",
       "<!-- TensorType(float64, vector) id=2 -->\n",
       "<g class=\"node\" id=\"node4\"><title>TensorType(float64, vector) id=2</title>\n",
       "<polygon fill=\"blue\" points=\"321.5,-36 115.5,-36 115.5,-0 321.5,-0 321.5,-36\" stroke=\"black\"/>\n",
       "<text font-family=\"Times,serif\" font-size=\"14.00\" text-anchor=\"middle\" x=\"218.5\" y=\"-14.3\">TensorType(float64, vector) id=2</text>\n",
       "</g>\n",
       "<!-- Elemwise{mul,no_inplace}&#45;&gt;TensorType(float64, vector) id=2 -->\n",
       "<g class=\"edge\" id=\"edge3\"><title>Elemwise{mul,no_inplace}-&gt;TensorType(float64, vector) id=2</title>\n",
       "<path d=\"M218.5,-86.799C218.5,-75.1626 218.5,-59.5479 218.5,-46.2368\" fill=\"none\" stroke=\"black\"/>\n",
       "<polygon fill=\"black\" points=\"222,-46.1754 218.5,-36.1754 215,-46.1755 222,-46.1754\" stroke=\"black\"/>\n",
       "<text font-family=\"Times,serif\" font-size=\"14.00\" text-anchor=\"middle\" x=\"299\" y=\"-57.8\">TensorType(float64, vector)</text>\n",
       "</g>\n",
       "<!-- val=[ 3.] TensorType(float64, (True,)) -->\n",
       "<g class=\"node\" id=\"node2\"><title>val=[ 3.] TensorType(float64, (True,))</title>\n",
       "<polygon fill=\"green\" points=\"235,-210 0,-210 0,-174 235,-174 235,-210\" stroke=\"black\"/>\n",
       "<text font-family=\"Times,serif\" font-size=\"14.00\" text-anchor=\"middle\" x=\"117.5\" y=\"-188.3\">val=[ 3.] TensorType(float64, (True,))</text>\n",
       "</g>\n",
       "<!-- val=[ 3.] TensorType(float64, (True,))&#45;&gt;Elemwise{mul,no_inplace} -->\n",
       "<g class=\"edge\" id=\"edge1\"><title>val=[ 3.] TensorType(float64, (True,))-&gt;Elemwise{mul,no_inplace}</title>\n",
       "<path d=\"M113.243,-173.704C111.72,-163.284 111.775,-150.28 118.5,-141 123.62,-133.934 130.276,-128.286 137.723,-123.771\" fill=\"none\" stroke=\"black\"/>\n",
       "<polygon fill=\"black\" points=\"139.583,-126.747 146.784,-118.976 136.309,-120.56 139.583,-126.747\" stroke=\"black\"/>\n",
       "<text font-family=\"Times,serif\" font-size=\"14.00\" text-anchor=\"middle\" x=\"207.5\" y=\"-144.8\">0 TensorType(float64, (True,))</text>\n",
       "</g>\n",
       "<!-- TensorType(float64, vector) -->\n",
       "<g class=\"node\" id=\"node3\"><title>TensorType(float64, vector)</title>\n",
       "<polygon fill=\"green\" points=\"501,-210 324,-210 324,-174 501,-174 501,-210\" stroke=\"black\"/>\n",
       "<text font-family=\"Times,serif\" font-size=\"14.00\" text-anchor=\"middle\" x=\"412.5\" y=\"-188.3\">TensorType(float64, vector)</text>\n",
       "</g>\n",
       "<!-- TensorType(float64, vector)&#45;&gt;Elemwise{mul,no_inplace} -->\n",
       "<g class=\"edge\" id=\"edge2\"><title>TensorType(float64, vector)-&gt;Elemwise{mul,no_inplace}</title>\n",
       "<path d=\"M360.959,-173.884C347.228,-168.712 332.581,-162.627 319.5,-156 308.613,-150.485 307.211,-146.849 296.5,-141 286.925,-135.771 276.419,-130.66 266.305,-126.03\" fill=\"none\" stroke=\"black\"/>\n",
       "<polygon fill=\"black\" points=\"267.721,-122.829 257.165,-121.923 264.852,-129.214 267.721,-122.829\" stroke=\"black\"/>\n",
       "<text font-family=\"Times,serif\" font-size=\"14.00\" text-anchor=\"middle\" x=\"405.5\" y=\"-144.8\">1 TensorType(float64, vector)</text>\n",
       "</g>\n",
       "<!-- Elemwise{Composite{((i0 * i1) + i2)}}[(0, 1)] -->\n",
       "<g class=\"node\" id=\"node5\"><title>Elemwise{Composite{((i0 * i1) + i2)}}[(0, 1)]</title>\n",
       "<ellipse cx=\"708.5\" cy=\"-105\" fill=\"#ffaabb\" rx=\"182.768\" ry=\"18\" stroke=\"black\"/>\n",
       "<text font-family=\"Times,serif\" font-size=\"14.00\" text-anchor=\"middle\" x=\"708.5\" y=\"-101.3\">Elemwise{Composite{((i0 * i1) + i2)}}[(0, 1)]</text>\n",
       "</g>\n",
       "<!-- TensorType(float64, vector)&#45;&gt;Elemwise{Composite{((i0 * i1) + i2)}}[(0, 1)] -->\n",
       "<g class=\"edge\" id=\"edge5\"><title>TensorType(float64, vector)-&gt;Elemwise{Composite{((i0 * i1) + i2)}}[(0, 1)]</title>\n",
       "<path d=\"M451.197,-173.897C479.924,-161.387 516.739,-145.799 532.5,-141 556.206,-133.782 582.171,-127.671 606.704,-122.675\" fill=\"none\" stroke=\"red\"/>\n",
       "<polygon fill=\"red\" points=\"607.629,-126.06 616.753,-120.674 606.261,-119.195 607.629,-126.06\" stroke=\"red\"/>\n",
       "<text font-family=\"Times,serif\" font-size=\"14.00\" text-anchor=\"middle\" x=\"618.5\" y=\"-144.8\">1 TensorType(float64, vector)</text>\n",
       "</g>\n",
       "<!-- val=[ 2.] TensorType(float64, (True,)) -->\n",
       "<g class=\"node\" id=\"node6\"><title>val=[ 2.] TensorType(float64, (True,))</title>\n",
       "<polygon fill=\"green\" points=\"826,-210 591,-210 591,-174 826,-174 826,-210\" stroke=\"black\"/>\n",
       "<text font-family=\"Times,serif\" font-size=\"14.00\" text-anchor=\"middle\" x=\"708.5\" y=\"-188.3\">val=[ 2.] TensorType(float64, (True,))</text>\n",
       "</g>\n",
       "<!-- val=[ 2.] TensorType(float64, (True,))&#45;&gt;Elemwise{Composite{((i0 * i1) + i2)}}[(0, 1)] -->\n",
       "<g class=\"edge\" id=\"edge4\"><title>val=[ 2.] TensorType(float64, (True,))-&gt;Elemwise{Composite{((i0 * i1) + i2)}}[(0, 1)]</title>\n",
       "<path d=\"M708.5,-173.799C708.5,-162.163 708.5,-146.548 708.5,-133.237\" fill=\"none\" stroke=\"black\"/>\n",
       "<polygon fill=\"black\" points=\"712,-133.175 708.5,-123.175 705,-133.175 712,-133.175\" stroke=\"black\"/>\n",
       "<text font-family=\"Times,serif\" font-size=\"14.00\" text-anchor=\"middle\" x=\"797.5\" y=\"-144.8\">0 TensorType(float64, (True,))</text>\n",
       "</g>\n",
       "<!-- name=x TensorType(float64, vector) -->\n",
       "<g class=\"node\" id=\"node7\"><title>name=x TensorType(float64, vector)</title>\n",
       "<polygon fill=\"green\" points=\"1071,-210 844,-210 844,-174 1071,-174 1071,-210\" stroke=\"black\"/>\n",
       "<text font-family=\"Times,serif\" font-size=\"14.00\" text-anchor=\"middle\" x=\"957.5\" y=\"-188.3\">name=x TensorType(float64, vector)</text>\n",
       "</g>\n",
       "<!-- name=x TensorType(float64, vector)&#45;&gt;Elemwise{Composite{((i0 * i1) + i2)}}[(0, 1)] -->\n",
       "<g class=\"edge\" id=\"edge6\"><title>name=x TensorType(float64, vector)-&gt;Elemwise{Composite{((i0 * i1) + i2)}}[(0, 1)]</title>\n",
       "<path d=\"M939.32,-173.836C926.601,-162.782 908.692,-149.027 890.5,-141 871.779,-132.74 851.129,-126.423 830.662,-121.595\" fill=\"none\" stroke=\"black\"/>\n",
       "<polygon fill=\"black\" points=\"831.163,-118.121 820.639,-119.343 829.628,-124.95 831.163,-118.121\" stroke=\"black\"/>\n",
       "<text font-family=\"Times,serif\" font-size=\"14.00\" text-anchor=\"middle\" x=\"1001.5\" y=\"-144.8\">2 TensorType(float64, vector)</text>\n",
       "</g>\n",
       "</g>\n",
       "</svg>"
      ],
      "text/plain": [
       "<IPython.core.display.SVG object>"
      ]
     },
     "execution_count": 22,
     "metadata": {},
     "output_type": "execute_result"
    }
   ],
   "source": [
    "from IPython.display import SVG\n",
    "SVG(theano.printing.pydotprint(cnt, return_image=True, format='svg'))"
   ]
  },
  {
   "cell_type": "code",
   "execution_count": null,
   "metadata": {
    "collapsed": true
   },
   "outputs": [],
   "source": []
  }
 ],
 "metadata": {
  "kernelspec": {
   "display_name": "Python 2",
   "language": "python",
   "name": "python2"
  },
  "language_info": {
   "codemirror_mode": {
    "name": "ipython",
    "version": 2
   },
   "file_extension": ".py",
   "mimetype": "text/x-python",
   "name": "python",
   "nbconvert_exporter": "python",
   "pygments_lexer": "ipython2",
   "version": "2.7.10"
  }
 },
 "nbformat": 4,
 "nbformat_minor": 0
}
