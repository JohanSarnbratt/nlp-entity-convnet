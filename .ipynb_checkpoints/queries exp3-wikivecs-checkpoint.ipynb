{
 "cells": [
  {
   "cell_type": "code",
   "execution_count": 2,
   "metadata": {
    "collapsed": true
   },
   "outputs": [],
   "source": [
    "%load_ext autoreload\n",
    "%autoreload 2"
   ]
  },
  {
   "cell_type": "code",
   "execution_count": 3,
   "metadata": {
    "collapsed": false
   },
   "outputs": [
    {
     "name": "stdout",
     "output_type": "stream",
     "text": [
      "Couldn't import dot_parser, loading of dot files will not be possible.\n"
     ]
    }
   ],
   "source": [
    "from theano import *\n",
    "from lasagne.layers import InputLayer, get_output\n",
    "import lasagne\n",
    "import lasagne.layers\n",
    "import theano.tensor as T\n",
    "import theano\n",
    "import numpy as np\n",
    "from helpers import SimpleMaxingLayer\n",
    "from wordvecs import WordVectors, EmbeddingLayer\n",
    "import json\n",
    "\n",
    "theano.config.floatX = 'float32'\n",
    "theano.config.linker = 'cvm_nogc'\n",
    "theano.config.openmp = True\n",
    "theano.config.openmp_elemwise_minsize = 20000"
   ]
  },
  {
   "cell_type": "code",
   "execution_count": 4,
   "metadata": {
    "collapsed": true
   },
   "outputs": [],
   "source": [
    "with open('/data/matthew/external-wiki1.json') as f:\n",
    "    queries = json.load(f)['queries']"
   ]
  },
  {
   "cell_type": "code",
   "execution_count": 5,
   "metadata": {
    "collapsed": false
   },
   "outputs": [
    {
     "data": {
      "text/plain": [
       "9915"
      ]
     },
     "execution_count": 5,
     "metadata": {},
     "output_type": "execute_result"
    }
   ],
   "source": [
    "len(queries)"
   ]
  },
  {
   "cell_type": "code",
   "execution_count": 6,
   "metadata": {
    "collapsed": false
   },
   "outputs": [
    {
     "data": {
      "text/plain": [
       "8917"
      ]
     },
     "execution_count": 6,
     "metadata": {},
     "output_type": "execute_result"
    }
   ],
   "source": [
    "sum([any([g['gold'] for g in v.values()]) for v in queries.values()])"
   ]
  },
  {
   "cell_type": "code",
   "execution_count": 7,
   "metadata": {
    "collapsed": false
   },
   "outputs": [
    {
     "data": {
      "text/plain": [
       "0.8993444276348966"
      ]
     },
     "execution_count": 7,
     "metadata": {},
     "output_type": "execute_result"
    }
   ],
   "source": [
    "8917/9915."
   ]
  },
  {
   "cell_type": "code",
   "execution_count": 8,
   "metadata": {
    "collapsed": false
   },
   "outputs": [],
   "source": [
    "wordvectors = WordVectors(\n",
    "    fname=\"/data/matthew/enwiki-20141208-pages-articles-multistream-links5-output1.bin\",\n",
    "    redir_fname='/data/matthew/enwiki-20141208-pages-articles-multistream-redirects5.json',\n",
    "    negvectors=False,\n",
    "    sentence_length=200,\n",
    ")\n",
    "wordvectors.add_unknown_words = False"
   ]
  },
  {
   "cell_type": "code",
   "execution_count": 9,
   "metadata": {
    "collapsed": false
   },
   "outputs": [],
   "source": [
    "# with open('/data/matthew/enwiki-20141208-pages-articles-multistream-redirects5.json') as f:\n",
    "#     page_redirects = json.load(f)\n",
    "page_redirects = wordvectors.redirects"
   ]
  },
  {
   "cell_type": "code",
   "execution_count": 10,
   "metadata": {
    "collapsed": false
   },
   "outputs": [
    {
     "data": {
      "text/plain": [
       "4613263"
      ]
     },
     "execution_count": 10,
     "metadata": {},
     "output_type": "execute_result"
    }
   ],
   "source": [
    "len(wordvectors.vectors)"
   ]
  },
  {
   "cell_type": "code",
   "execution_count": 11,
   "metadata": {
    "collapsed": false
   },
   "outputs": [],
   "source": [
    "from wikireader import WikiRegexes, WikipediaReader"
   ]
  },
  {
   "cell_type": "code",
   "execution_count": 12,
   "metadata": {
    "collapsed": false
   },
   "outputs": [],
   "source": [
    "def PreProcessedQueries(wikipedia_dump_fname, wordvec=wordvectors, queries=queries, redirects=page_redirects):\n",
    "    \n",
    "    queried_pages = set()\n",
    "    for docs, q in queries.iteritems():\n",
    "        wordvec.tokenize(docs)\n",
    "        for sur, v in q.iteritems():\n",
    "            wordvec.tokenize(sur)\n",
    "            for link in v['vals'].keys():\n",
    "                wordvec.tokenize(link)\n",
    "                tt = WikiRegexes.convertToTitle(link)\n",
    "                wordvec.get_location(tt)\n",
    "                queried_pages.add(tt)\n",
    "\n",
    "    added_pages = set()\n",
    "    for title in queried_pages:\n",
    "        if title in redirects:\n",
    "            #wordvec.tokenize(self.redirects[title])\n",
    "            added_pages.add(redirects[title])\n",
    "    queried_pages |= added_pages\n",
    "\n",
    "    page_content = {}\n",
    "\n",
    "#     class GetWikipediaWords(WikipediaReader, WikiRegexes):\n",
    "\n",
    "#         def readPage(ss, title, content):\n",
    "#             tt = ss.convertToTitle(title)\n",
    "#             if tt in queried_pages:\n",
    "#                 cnt = ss._wikiToText(content)\n",
    "#                 page_content[tt] = wordvec.tokenize(cnt)\n",
    "\n",
    "#     GetWikipediaWords(wikipedia_dump_fname).read()\n",
    "    \n",
    "    rr = redirects\n",
    "    rq = queried_pages\n",
    "    rc = page_content\n",
    "\n",
    "    class PreProcessedQueriesCls(object):\n",
    "        \n",
    "        wordvecs = wordvec\n",
    "        queries = queries\n",
    "        redirects = rr\n",
    "        queried_pages = rq\n",
    "        page_content = rc\n",
    "        \n",
    "        \n",
    "    return PreProcessedQueriesCls"
   ]
  },
  {
   "cell_type": "code",
   "execution_count": 13,
   "metadata": {
    "collapsed": false
   },
   "outputs": [],
   "source": [
    "basePreProcessedQueries = PreProcessedQueries('/data/matthew/enwiki-20141208-pages-articles-multistream.xml')"
   ]
  },
  {
   "cell_type": "code",
   "execution_count": 14,
   "metadata": {
    "collapsed": false
   },
   "outputs": [
    {
     "data": {
      "text/plain": [
       "4613263"
      ]
     },
     "execution_count": 14,
     "metadata": {},
     "output_type": "execute_result"
    }
   ],
   "source": [
    "len(wordvectors.vectors)"
   ]
  },
  {
   "cell_type": "code",
   "execution_count": 15,
   "metadata": {
    "collapsed": false
   },
   "outputs": [
    {
     "data": {
      "text/plain": [
       "(430126, 300)"
      ]
     },
     "execution_count": 15,
     "metadata": {},
     "output_type": "execute_result"
    }
   ],
   "source": [
    "wordvectors.get_numpy_matrix().shape"
   ]
  },
  {
   "cell_type": "code",
   "execution_count": 46,
   "metadata": {
    "collapsed": false
   },
   "outputs": [],
   "source": [
    "class EntityVectorLinkExp(basePreProcessedQueries):\n",
    "    \n",
    "    batch_size = 20000\n",
    "    num_training_items = 200000\n",
    "    \n",
    "    def __init__(self): #, wikipedia_dump_fname, wordvec=wordvectors, queries=queries, redirects=page_redirects):\n",
    "        #self.wordvecs = wordvec\n",
    "        #self.queries = queries\n",
    "        self.sentence_length = self.wordvecs.sentence_length\n",
    "        self.num_words_to_use_conv = 5\n",
    "        #self.redirects = redirects\n",
    "        #self.page_content = {}\n",
    "        #self.wikipedia_dump_fname = wikipedia_dump_fname\n",
    "        \n",
    "        #self._process_queries()\n",
    "        \n",
    "        self._setup()\n",
    "        \n",
    "#     def _process_queries(self):\n",
    "#         queried_pages = set()\n",
    "#         for docs, q in self.queries.iteritems():\n",
    "#             self.wordvecs.tokenize(docs)\n",
    "#             for sur, v in q.iteritems():\n",
    "#                 self.wordvecs.tokenize(sur)\n",
    "#                 for link in v['vals'].keys():\n",
    "#                     self.wordvecs.tokenize(link)\n",
    "#                     tt = WikiRegexes.convertToTitle(link)\n",
    "#                     #self.wordvecs.tokenize(tt)\n",
    "#                     queried_pages.add(tt)\n",
    "\n",
    "#         added_pages = set()\n",
    "#         for title in queried_pages:\n",
    "#             if title in self.redirects:\n",
    "#                 #self.wordvecs.tokenize(self.redirects[title])\n",
    "#                 added_pages.add(self.redirects[title])\n",
    "#         queried_pages |= added_pages\n",
    "        \n",
    "#         self.queried_pages = queried_pages\n",
    "                \n",
    "#         class GetWikipediaWords(WikipediaReader, WikiRegexes):\n",
    "            \n",
    "#             def readPage(ss, title, content):\n",
    "#                 tt = ss.convertToTitle(title)\n",
    "#                 if tt in queried_pages:\n",
    "#                     cnt = ss._wikiToText(content)\n",
    "#                     self.page_content[tt] = self.wordvecs.tokenize(cnt)\n",
    "        \n",
    "#         GetWikipediaWords(self.wikipedia_dump_fname).read()\n",
    "               \n",
    "        \n",
    "    def _setup(self):\n",
    "        self.x_document_input = T.imatrix('x_sent')\n",
    "        self.x_surface_text_input = T.imatrix('x_surface')\n",
    "        self.x_target_input = T.ivector('x_target')\n",
    "        self.x_document_id = T.ivector('x_sent_id')\n",
    "        self.x_link_id = T.ivector('x_link_id')\n",
    "        self.y_score = T.vector('y')\n",
    "        self.y_answer = T.ivector('y_ans')\n",
    "        \n",
    "        self.embedding_W = theano.shared(self.wordvecs.get_numpy_matrix().astype(theano.config.floatX))\n",
    "        \n",
    "        self.document_l = lasagne.layers.InputLayer(\n",
    "            (None,self.sentence_length), \n",
    "            input_var=self.x_document_input\n",
    "        )\n",
    "    \n",
    "        self.document_embedding_l = EmbeddingLayer(\n",
    "            self.document_l,\n",
    "            W=self.embedding_W,\n",
    "            add_word_params=False,\n",
    "        )\n",
    "        \n",
    "        self.document_conv1_l = lasagne.layers.Conv2DLayer(\n",
    "            self.document_embedding_l,\n",
    "            num_filters=500,\n",
    "            filter_size=(self.num_words_to_use_conv, self.wordvecs.vector_size),\n",
    "            name='document_conv1',\n",
    "            nonlinearity=lasagne.nonlinearities.rectify,\n",
    "        )\n",
    "        \n",
    "        self.document_max_l = lasagne.layers.Pool2DLayer(\n",
    "            self.document_conv1_l,\n",
    "            name='document_pool1',\n",
    "            pool_size=(self.sentence_length - self.num_words_to_use_conv, 1),\n",
    "            mode='max',\n",
    "        )\n",
    "\n",
    "        self.document_dens1 = lasagne.layers.DenseLayer(\n",
    "            self.document_max_l,\n",
    "            num_units=400,\n",
    "            name='doucment_dens1',\n",
    "            nonlinearity=lasagne.nonlinearities.tanh,\n",
    "        )\n",
    "        \n",
    "        self.document_drop1 = lasagne.layers.DropoutLayer(\n",
    "            self.document_dens1,\n",
    "            p=.25,\n",
    "        )\n",
    "        \n",
    "        document_output_length = 350\n",
    "        \n",
    "        self.document_dens2 = lasagne.layers.DenseLayer(\n",
    "            self.document_drop1,\n",
    "            num_units=document_output_length,\n",
    "            name='document_dens2',\n",
    "            nonlinearity=lasagne.nonlinearities.tanh,\n",
    "        )\n",
    "        \n",
    "        self.document_output = lasagne.layers.get_output(self.document_dens2)\n",
    "                \n",
    "        self.surface_input_l = lasagne.layers.InputLayer(\n",
    "            (None, self.sentence_length), \n",
    "            input_var=self.x_surface_text_input\n",
    "        )\n",
    "        \n",
    "        self.surface_embedding_l = EmbeddingLayer(\n",
    "            self.surface_input_l,\n",
    "            W=self.embedding_W,\n",
    "            add_word_params=False,\n",
    "        )\n",
    "        \n",
    "        self.surface_conv1_l = lasagne.layers.Conv2DLayer(\n",
    "            self.surface_embedding_l,\n",
    "            num_filters=350,\n",
    "            filter_size=(self.num_words_to_use_conv, self.wordvecs.vector_size),\n",
    "            name='surface_conv1',\n",
    "            nonlinearity=lasagne.nonlinearities.tanh,\n",
    "        )\n",
    "        \n",
    "        self.surface_dens1 = lasagne.layers.DenseLayer(\n",
    "            self.surface_conv1_l,\n",
    "            name='surface_dens1',\n",
    "            num_units=300,\n",
    "            nonlinearity=lasagne.nonlinearities.tanh,\n",
    "        )\n",
    "        \n",
    "        self.surface_drop1 = lasagne.layers.DropoutLayer(\n",
    "            self.surface_dens1,\n",
    "            p=.25,\n",
    "        )\n",
    "        \n",
    "        self.surface_dens2 = lasagne.layers.DenseLayer(\n",
    "            self.surface_drop1,\n",
    "            name='surface_dens2',\n",
    "            num_units=250,\n",
    "            nonlinearity=lasagne.nonlinearities.tanh,\n",
    "        )\n",
    "        \n",
    "        self.document_aligned_l = InputLayer(\n",
    "            (None, document_output_length),\n",
    "            input_var=self.document_output[self.x_document_id,:]\n",
    "        )\n",
    "        \n",
    "        self.source_l = lasagne.layers.ConcatLayer(\n",
    "            [self.document_aligned_l, self.surface_dens2]\n",
    "        )\n",
    "        \n",
    "        self.source_dens1 = lasagne.layers.DenseLayer(\n",
    "            self.source_l,\n",
    "            num_units=450,\n",
    "            name='source_dens1',\n",
    "            nonlinearity=lasagne.nonlinearities.tanh,\n",
    "        )\n",
    "        \n",
    "        self.source_drop1 = lasagne.layers.DropoutLayer(\n",
    "            self.source_dens1,\n",
    "            p=.25,\n",
    "        )\n",
    "        \n",
    "        self.source_dens12 = lasagne.layers.DenseLayer(\n",
    "            self.source_drop1,\n",
    "            num_units=350,\n",
    "            name='source_dens12',\n",
    "            nonlinearity=lasagne.nonlinearities.tanh,\n",
    "        )\n",
    "        \n",
    "        self.source_drop12 = lasagne.layers.DropoutLayer(\n",
    "            self.source_dens12,\n",
    "            p=.25,\n",
    "        )\n",
    "        \n",
    "        self.source_dens2 = lasagne.layers.DenseLayer(\n",
    "            self.source_drop12,\n",
    "            num_units=self.wordvecs.vector_size,  # this is the same size as the learned wikipedia vectors\n",
    "            name='source_dens2',\n",
    "            nonlinearity=lasagne.nonlinearities.tanh,\n",
    "        )\n",
    "        \n",
    "        self.source_out = lasagne.layers.get_output(self.source_dens2)\n",
    "        \n",
    "        self.target_input_l = lasagne.layers.InputLayer(\n",
    "            (None,),\n",
    "            input_var=self.x_target_input\n",
    "        )\n",
    "        \n",
    "        self.target_embedding_l = EmbeddingLayer(\n",
    "            self.target_input_l,\n",
    "            W=self.embedding_W,\n",
    "            add_word_params=False,\n",
    "        )\n",
    "        \n",
    "#         self.target_conv1_l = lasagne.layers.Conv2DLayer(\n",
    "#             self.target_embedding_l,\n",
    "#             name='target_conv1',\n",
    "#             filter_size=(self.num_words_to_use_conv, self.wordvecs.vector_size),\n",
    "#             num_filters=300,\n",
    "#             nonlinearity=lasagne.nonlinearities.tanh,\n",
    "#         )\n",
    "        \n",
    "#         self.target_dens1 = lasagne.layers.DenseLayer(\n",
    "#             self.target_conv1_l,\n",
    "#             name='target_dens1',\n",
    "#             num_units=300,\n",
    "#             nonlinearity=lasagne.nonlinearities.tanh,\n",
    "#         )\n",
    "        \n",
    "#         self.target_drop1 = lasagne.layers.DropoutLayer(\n",
    "#             self.target_dens1,\n",
    "#             p=.25,\n",
    "#         )\n",
    "        \n",
    "#         self.target_dens2 = lasagne.layers.DenseLayer(\n",
    "#             self.target_drop1,\n",
    "#             name='target_dens2',\n",
    "#             num_units=300,\n",
    "#             nonlinearity=lasagne.nonlinearities.tanh,\n",
    "#         )\n",
    "        \n",
    "        #self.target_out = lasagne.layers.get_output(self.target_embedding_l)\n",
    "        self.target_out = self.embedding_W[self.x_target_input]\n",
    "        \n",
    "        # compute the cosine distance between the two layers\n",
    "        self.source_aligned_l = self.source_out[self.x_link_id, :]\n",
    "        \n",
    "        # this uses scan internally, which means that it comes back into python code to run the loop.....fml\n",
    "        self.dotted_vectors =  T.batched_dot(self.target_out, self.source_aligned_l)\n",
    "        # diag also does not support a C version.........\n",
    "        #self.dotted_vectors = T.dot(self.target_out, self.source_aligned_l.T).diagonal()\n",
    "        \n",
    "        def augNorm(v):\n",
    "            return T.maximum(T.basic.pow(T.basic.pow(T.basic.abs_(v), 2).sum(axis=1) + .001, .5), .001)\n",
    "    \n",
    "        self.res_l = self.dotted_vectors / (augNorm(self.target_out) * augNorm(self.source_aligned_l) + .001)\n",
    "#         self.res_l = self.dotted_vectors / ((self.target_out.norm(1, axis=1) + .001) * \n",
    "#                                             (self.source_aligned_l.norm(1, axis=1) + .001))\n",
    "        \n",
    "        self.res_cap = T.clip((T.tanh(self.res_l) + 1) / 2, .001, .999)\n",
    "    \n",
    "        self.all_params = (\n",
    "            #lasagne.layers.get_all_params(self.target_dens2) + \n",
    "            lasagne.layers.get_all_params(self.source_dens2) +\n",
    "            lasagne.layers.get_all_params(self.document_dens2)\n",
    "        )\n",
    "        \n",
    "        # weight the positive samples more since there are fewer of them,\n",
    "        # freaking hack\n",
    "        #self.loss_vec = -(10 * self.y_score * T.log(self.res_cap) + (1.0 - self.y_score) * T.log(1.0 - self.res_cap))\n",
    "        \n",
    "        #self.loss_vec = T.nnet.binary_crossentropy(self.res_cap, self.y_score)\n",
    "        \n",
    "        self.loss_vec = T.max(self.res_cap - self.res_cap[self.y_answer], 0)  # TODO: maybe have some squared term here or something?\n",
    "        \n",
    "        self.updates = lasagne.updates.adadelta(self.loss_vec.mean(), self.all_params)\n",
    "        \n",
    "        self.train_func = theano.function(\n",
    "            [self.x_document_input,\n",
    "             self.x_surface_text_input, self.x_document_id,\n",
    "             self.x_target_input, self.x_link_id, self.y_answer],\n",
    "            [self.res_cap, self.loss_vec.sum(), self.loss_vec],\n",
    "            updates=self.updates\n",
    "        )\n",
    "        \n",
    "        self.test_func = theano.function(\n",
    "            [self.x_document_input,\n",
    "             self.x_surface_text_input, self.x_document_id,\n",
    "             self.x_target_input, self.x_link_id, self.y_answer],\n",
    "            [self.res_cap, self.loss_vec.sum(), self.loss_vec],\n",
    "        )\n",
    "        \n",
    "    def reset_accums(self):\n",
    "        self.current_documents = []\n",
    "        self.current_surface_text = []\n",
    "        self.current_link_id = []\n",
    "        self.current_target_input = []\n",
    "        self.current_target_id = []\n",
    "        self.current_target_goal = []\n",
    "        self.learning_targets = []\n",
    "        \n",
    "    def compute_batch(self, isTraining=True):\n",
    "        if isTraining:\n",
    "            func = self.train_func\n",
    "        else:\n",
    "            func = self.test_func\n",
    "        self.reset_accums()\n",
    "        self.total_links = 0\n",
    "        self.total_loss = 0.0\n",
    "        \n",
    "        for doc, queries in self.queries.iteritems():\n",
    "            # skip the testing documents while training and vice versa\n",
    "            if queries.values()[0]['training'] is not isTraining:\n",
    "                continue\n",
    "            docid = len(self.current_documents)\n",
    "            self.current_documents.append(self.wordvecs.tokenize(doc))\n",
    "            for surtxt, targets in queries.iteritems():\n",
    "                self.current_link_id.append(docid)\n",
    "                surid = len(self.current_surface_text)\n",
    "                self.current_surface_text.append(self.wordvecs.tokenize(surtxt))\n",
    "                target_inputs = []\n",
    "                target_learings = []\n",
    "                target_gold_loc = None\n",
    "                for target in targets['vals'].keys():\n",
    "                    # skip the items that we don't know the gold for\n",
    "                    if not targets['gold'] and isTraining:\n",
    "                        continue\n",
    "                    isGold = target == targets['gold']\n",
    "                    #cnt = self.page_content.get(WikiRegexes.convertToTitle(target))\n",
    "                    cnt = self.wordvecs.get_location(WikiRegexes.convertToTitle(target))\n",
    "                    if cnt is None:\n",
    "                        # were not able to find this wikipedia document\n",
    "                        # so just ignore tihs result since trying to train on it will cause\n",
    "                        # issues\n",
    "                        continue\n",
    "                    if isGold:\n",
    "                        target_gold_loc = len(target_inputs)\n",
    "                    target_inputs.append(cnt)  # page_content already tokenized\n",
    "                    target_learings.append((targets, target))\n",
    "                if target_gold_loc is not None:  # if we can't get the gold item\n",
    "                    # contain the index of the gold item for these items, so it can be less then it\n",
    "                    self.current_target_goal += [(len(self.current_target_goal) + target_gold_loc)] * len(target_inputs)\n",
    "                    self.current_target_input += target_inputs\n",
    "                    self.current_target_id.append([surid] * len(target_inputs))\n",
    "                \n",
    "                #self.current_target_goal.append(isGold)\n",
    "                self.learning_targets += target_learings\n",
    "            if len(self.current_target_id) > self.batch_size:\n",
    "                self.run_batch(func)\n",
    "                if self.total_links > self.num_training_items:\n",
    "                    return self.total_loss / self.total_links\n",
    "        \n",
    "        if len(self.current_target_id) > 0:\n",
    "            self.run_batch(func)\n",
    "            \n",
    "        return self.total_loss / self.total_links\n",
    "        \n",
    "    def run_batch(self, func):\n",
    "        res_vec, loss_sum, loss_vec = func(\n",
    "            self.current_documents,\n",
    "            self.current_surface_text, self.current_link_id,\n",
    "            self.current_target_input, self.current_target_id, self.current_target_goal\n",
    "        )\n",
    "        self.check_params()\n",
    "        self.total_links += len(self.current_target_id)\n",
    "        self.total_loss += loss_sum\n",
    "        for i in xrange(len(res_vec)):\n",
    "            # save the results from this pass\n",
    "            l = self.learning_targets[i]\n",
    "            l[0]['vals'][ l[1] ] = res_vec[i]\n",
    "        self.reset_accums()\n",
    "        \n",
    "    def check_params(self):\n",
    "        if any([np.isnan(v.get_value(borrow=True)).any() for v in self.all_params]):\n",
    "            raise RuntimeError('nan in some of the parameters')\n",
    "        \n",
    "\n",
    "        \n",
    "queries_exp = EntityVectorLinkExp() "
   ]
  },
  {
   "cell_type": "code",
   "execution_count": 47,
   "metadata": {
    "collapsed": true
   },
   "outputs": [],
   "source": [
    "queries_exp.check_params()"
   ]
  },
  {
   "cell_type": "code",
   "execution_count": 48,
   "metadata": {
    "collapsed": true
   },
   "outputs": [
    {
     "ename": "ValueError",
     "evalue": "('Bad input argument to theano function with name \"<ipython-input-46-a7ca19795a86>:270\"  at index 4(0-based)', 'setting an array element with a sequence.')",
     "output_type": "error",
     "traceback": [
      "\u001b[1;31m---------------------------------------------------------------------------\u001b[0m",
      "\u001b[1;31mValueError\u001b[0m                                Traceback (most recent call last)",
      "\u001b[1;32m<ipython-input-48-2ed2379506f5>\u001b[0m in \u001b[0;36m<module>\u001b[1;34m()\u001b[0m\n\u001b[0;32m      2\u001b[0m \u001b[1;33m\u001b[0m\u001b[0m\n\u001b[0;32m      3\u001b[0m \u001b[1;32mfor\u001b[0m \u001b[0mi\u001b[0m \u001b[1;32min\u001b[0m \u001b[0mxrange\u001b[0m\u001b[1;33m(\u001b[0m\u001b[1;36m20\u001b[0m\u001b[1;33m)\u001b[0m\u001b[1;33m:\u001b[0m\u001b[1;33m\u001b[0m\u001b[0m\n\u001b[1;32m----> 4\u001b[1;33m     \u001b[0mres\u001b[0m \u001b[1;33m=\u001b[0m \u001b[1;33m(\u001b[0m\u001b[0mi\u001b[0m\u001b[1;33m,\u001b[0m \u001b[0mqueries_exp\u001b[0m\u001b[1;33m.\u001b[0m\u001b[0mcompute_batch\u001b[0m\u001b[1;33m(\u001b[0m\u001b[1;33m)\u001b[0m\u001b[1;33m)\u001b[0m\u001b[1;33m\u001b[0m\u001b[0m\n\u001b[0m\u001b[0;32m      5\u001b[0m     \u001b[1;32mprint\u001b[0m \u001b[0mres\u001b[0m\u001b[1;33m\u001b[0m\u001b[0m\n\u001b[0;32m      6\u001b[0m     \u001b[0mexp_results\u001b[0m\u001b[1;33m.\u001b[0m\u001b[0mappend\u001b[0m\u001b[1;33m(\u001b[0m\u001b[0mres\u001b[0m\u001b[1;33m)\u001b[0m\u001b[1;33m\u001b[0m\u001b[0m\n",
      "\u001b[1;32m<ipython-input-46-a7ca19795a86>\u001b[0m in \u001b[0;36mcompute_batch\u001b[1;34m(self, isTraining)\u001b[0m\n\u001b[0;32m    334\u001b[0m                 \u001b[0mself\u001b[0m\u001b[1;33m.\u001b[0m\u001b[0mlearning_targets\u001b[0m \u001b[1;33m+=\u001b[0m \u001b[0mtarget_learings\u001b[0m\u001b[1;33m\u001b[0m\u001b[0m\n\u001b[0;32m    335\u001b[0m             \u001b[1;32mif\u001b[0m \u001b[0mlen\u001b[0m\u001b[1;33m(\u001b[0m\u001b[0mself\u001b[0m\u001b[1;33m.\u001b[0m\u001b[0mcurrent_target_id\u001b[0m\u001b[1;33m)\u001b[0m \u001b[1;33m>\u001b[0m \u001b[0mself\u001b[0m\u001b[1;33m.\u001b[0m\u001b[0mbatch_size\u001b[0m\u001b[1;33m:\u001b[0m\u001b[1;33m\u001b[0m\u001b[0m\n\u001b[1;32m--> 336\u001b[1;33m                 \u001b[0mself\u001b[0m\u001b[1;33m.\u001b[0m\u001b[0mrun_batch\u001b[0m\u001b[1;33m(\u001b[0m\u001b[0mfunc\u001b[0m\u001b[1;33m)\u001b[0m\u001b[1;33m\u001b[0m\u001b[0m\n\u001b[0m\u001b[0;32m    337\u001b[0m                 \u001b[1;32mif\u001b[0m \u001b[0mself\u001b[0m\u001b[1;33m.\u001b[0m\u001b[0mtotal_links\u001b[0m \u001b[1;33m>\u001b[0m \u001b[0mself\u001b[0m\u001b[1;33m.\u001b[0m\u001b[0mnum_training_items\u001b[0m\u001b[1;33m:\u001b[0m\u001b[1;33m\u001b[0m\u001b[0m\n\u001b[0;32m    338\u001b[0m                     \u001b[1;32mreturn\u001b[0m \u001b[0mself\u001b[0m\u001b[1;33m.\u001b[0m\u001b[0mtotal_loss\u001b[0m \u001b[1;33m/\u001b[0m \u001b[0mself\u001b[0m\u001b[1;33m.\u001b[0m\u001b[0mtotal_links\u001b[0m\u001b[1;33m\u001b[0m\u001b[0m\n",
      "\u001b[1;32m<ipython-input-46-a7ca19795a86>\u001b[0m in \u001b[0;36mrun_batch\u001b[1;34m(self, func)\u001b[0m\n\u001b[0;32m    347\u001b[0m             \u001b[0mself\u001b[0m\u001b[1;33m.\u001b[0m\u001b[0mcurrent_documents\u001b[0m\u001b[1;33m,\u001b[0m\u001b[1;33m\u001b[0m\u001b[0m\n\u001b[0;32m    348\u001b[0m             \u001b[0mself\u001b[0m\u001b[1;33m.\u001b[0m\u001b[0mcurrent_surface_text\u001b[0m\u001b[1;33m,\u001b[0m \u001b[0mself\u001b[0m\u001b[1;33m.\u001b[0m\u001b[0mcurrent_link_id\u001b[0m\u001b[1;33m,\u001b[0m\u001b[1;33m\u001b[0m\u001b[0m\n\u001b[1;32m--> 349\u001b[1;33m             \u001b[0mself\u001b[0m\u001b[1;33m.\u001b[0m\u001b[0mcurrent_target_input\u001b[0m\u001b[1;33m,\u001b[0m \u001b[0mself\u001b[0m\u001b[1;33m.\u001b[0m\u001b[0mcurrent_target_id\u001b[0m\u001b[1;33m,\u001b[0m \u001b[0mself\u001b[0m\u001b[1;33m.\u001b[0m\u001b[0mcurrent_target_goal\u001b[0m\u001b[1;33m\u001b[0m\u001b[0m\n\u001b[0m\u001b[0;32m    350\u001b[0m         )\n\u001b[0;32m    351\u001b[0m         \u001b[0mself\u001b[0m\u001b[1;33m.\u001b[0m\u001b[0mcheck_params\u001b[0m\u001b[1;33m(\u001b[0m\u001b[1;33m)\u001b[0m\u001b[1;33m\u001b[0m\u001b[0m\n",
      "\u001b[1;32m/home/matthew/.virtualenvs/nlp-convnet/lib/python2.7/site-packages/theano/compile/function_module.pyc\u001b[0m in \u001b[0;36m__call__\u001b[1;34m(self, *args, **kwargs)\u001b[0m\n\u001b[0;32m    532\u001b[0m                         s.storage[0] = s.type.filter(\n\u001b[0;32m    533\u001b[0m                             \u001b[0marg\u001b[0m\u001b[1;33m,\u001b[0m \u001b[0mstrict\u001b[0m\u001b[1;33m=\u001b[0m\u001b[0ms\u001b[0m\u001b[1;33m.\u001b[0m\u001b[0mstrict\u001b[0m\u001b[1;33m,\u001b[0m\u001b[1;33m\u001b[0m\u001b[0m\n\u001b[1;32m--> 534\u001b[1;33m                             allow_downcast=s.allow_downcast)\n\u001b[0m\u001b[0;32m    535\u001b[0m \u001b[1;33m\u001b[0m\u001b[0m\n\u001b[0;32m    536\u001b[0m                     \u001b[1;32mexcept\u001b[0m \u001b[0mException\u001b[0m \u001b[1;32mas\u001b[0m \u001b[0me\u001b[0m\u001b[1;33m:\u001b[0m\u001b[1;33m\u001b[0m\u001b[0m\n",
      "\u001b[1;32m/home/matthew/.virtualenvs/nlp-convnet/lib/python2.7/site-packages/theano/tensor/type.pyc\u001b[0m in \u001b[0;36mfilter\u001b[1;34m(self, data, strict, allow_downcast)\u001b[0m\n\u001b[0;32m    139\u001b[0m                     \u001b[1;31m# data has to be converted.\u001b[0m\u001b[1;33m\u001b[0m\u001b[1;33m\u001b[0m\u001b[0m\n\u001b[0;32m    140\u001b[0m                     \u001b[1;31m# Check that this conversion is lossless\u001b[0m\u001b[1;33m\u001b[0m\u001b[1;33m\u001b[0m\u001b[0m\n\u001b[1;32m--> 141\u001b[1;33m                     \u001b[0mconverted_data\u001b[0m \u001b[1;33m=\u001b[0m \u001b[0mtheano\u001b[0m\u001b[1;33m.\u001b[0m\u001b[0m_asarray\u001b[0m\u001b[1;33m(\u001b[0m\u001b[0mdata\u001b[0m\u001b[1;33m,\u001b[0m \u001b[0mself\u001b[0m\u001b[1;33m.\u001b[0m\u001b[0mdtype\u001b[0m\u001b[1;33m)\u001b[0m\u001b[1;33m\u001b[0m\u001b[0m\n\u001b[0m\u001b[0;32m    142\u001b[0m                     \u001b[1;31m# We use the `values_eq` static function from TensorType\u001b[0m\u001b[1;33m\u001b[0m\u001b[1;33m\u001b[0m\u001b[0m\n\u001b[0;32m    143\u001b[0m                     \u001b[1;31m# to handle NaN values.\u001b[0m\u001b[1;33m\u001b[0m\u001b[1;33m\u001b[0m\u001b[0m\n",
      "\u001b[1;32m/home/matthew/.virtualenvs/nlp-convnet/lib/python2.7/site-packages/theano/misc/safe_asarray.pyc\u001b[0m in \u001b[0;36m_asarray\u001b[1;34m(a, dtype, order)\u001b[0m\n\u001b[0;32m     31\u001b[0m         \u001b[0mdtype\u001b[0m \u001b[1;33m=\u001b[0m \u001b[0mtheano\u001b[0m\u001b[1;33m.\u001b[0m\u001b[0mconfig\u001b[0m\u001b[1;33m.\u001b[0m\u001b[0mfloatX\u001b[0m\u001b[1;33m\u001b[0m\u001b[0m\n\u001b[0;32m     32\u001b[0m     \u001b[0mdtype\u001b[0m \u001b[1;33m=\u001b[0m \u001b[0mnumpy\u001b[0m\u001b[1;33m.\u001b[0m\u001b[0mdtype\u001b[0m\u001b[1;33m(\u001b[0m\u001b[0mdtype\u001b[0m\u001b[1;33m)\u001b[0m  \u001b[1;31m# Convert into dtype object.\u001b[0m\u001b[1;33m\u001b[0m\u001b[0m\n\u001b[1;32m---> 33\u001b[1;33m     \u001b[0mrval\u001b[0m \u001b[1;33m=\u001b[0m \u001b[0mnumpy\u001b[0m\u001b[1;33m.\u001b[0m\u001b[0masarray\u001b[0m\u001b[1;33m(\u001b[0m\u001b[0ma\u001b[0m\u001b[1;33m,\u001b[0m \u001b[0mdtype\u001b[0m\u001b[1;33m=\u001b[0m\u001b[0mdtype\u001b[0m\u001b[1;33m,\u001b[0m \u001b[0morder\u001b[0m\u001b[1;33m=\u001b[0m\u001b[0morder\u001b[0m\u001b[1;33m)\u001b[0m\u001b[1;33m\u001b[0m\u001b[0m\n\u001b[0m\u001b[0;32m     34\u001b[0m     \u001b[1;31m# Note that dtype comparison must be done by comparing their `num`\u001b[0m\u001b[1;33m\u001b[0m\u001b[1;33m\u001b[0m\u001b[0m\n\u001b[0;32m     35\u001b[0m     \u001b[1;31m# attribute. One cannot assume that two identical data types are pointers\u001b[0m\u001b[1;33m\u001b[0m\u001b[1;33m\u001b[0m\u001b[0m\n",
      "\u001b[1;32m/home/matthew/.virtualenvs/nlp-convnet/lib/python2.7/site-packages/numpy/core/numeric.pyc\u001b[0m in \u001b[0;36masarray\u001b[1;34m(a, dtype, order)\u001b[0m\n\u001b[0;32m    460\u001b[0m \u001b[1;33m\u001b[0m\u001b[0m\n\u001b[0;32m    461\u001b[0m     \"\"\"\n\u001b[1;32m--> 462\u001b[1;33m     \u001b[1;32mreturn\u001b[0m \u001b[0marray\u001b[0m\u001b[1;33m(\u001b[0m\u001b[0ma\u001b[0m\u001b[1;33m,\u001b[0m \u001b[0mdtype\u001b[0m\u001b[1;33m,\u001b[0m \u001b[0mcopy\u001b[0m\u001b[1;33m=\u001b[0m\u001b[0mFalse\u001b[0m\u001b[1;33m,\u001b[0m \u001b[0morder\u001b[0m\u001b[1;33m=\u001b[0m\u001b[0morder\u001b[0m\u001b[1;33m)\u001b[0m\u001b[1;33m\u001b[0m\u001b[0m\n\u001b[0m\u001b[0;32m    463\u001b[0m \u001b[1;33m\u001b[0m\u001b[0m\n\u001b[0;32m    464\u001b[0m \u001b[1;32mdef\u001b[0m \u001b[0masanyarray\u001b[0m\u001b[1;33m(\u001b[0m\u001b[0ma\u001b[0m\u001b[1;33m,\u001b[0m \u001b[0mdtype\u001b[0m\u001b[1;33m=\u001b[0m\u001b[0mNone\u001b[0m\u001b[1;33m,\u001b[0m \u001b[0morder\u001b[0m\u001b[1;33m=\u001b[0m\u001b[0mNone\u001b[0m\u001b[1;33m)\u001b[0m\u001b[1;33m:\u001b[0m\u001b[1;33m\u001b[0m\u001b[0m\n",
      "\u001b[1;31mValueError\u001b[0m: ('Bad input argument to theano function with name \"<ipython-input-46-a7ca19795a86>:270\"  at index 4(0-based)', 'setting an array element with a sequence.')"
     ]
    }
   ],
   "source": [
    "exp_results = []\n",
    "\n",
    "for i in xrange(20):\n",
    "    res = (i, queries_exp.compute_batch())\n",
    "    print res\n",
    "    exp_results.append(res)"
   ]
  },
  {
   "cell_type": "code",
   "execution_count": 51,
   "metadata": {
    "collapsed": false
   },
   "outputs": [
    {
     "data": {
      "text/plain": [
       "dtype('int64')"
      ]
     },
     "execution_count": 51,
     "metadata": {},
     "output_type": "execute_result"
    }
   ],
   "source": [
    "np.array(queries_exp.current_link_id).dtype"
   ]
  },
  {
   "cell_type": "code",
   "execution_count": 54,
   "metadata": {
    "collapsed": false
   },
   "outputs": [
    {
     "data": {
      "text/plain": [
       "(952, 50)"
      ]
     },
     "execution_count": 54,
     "metadata": {},
     "output_type": "execute_result"
    }
   ],
   "source": [
    "np.array(queries_exp.current_documents).shape"
   ]
  },
  {
   "cell_type": "code",
   "execution_count": 55,
   "metadata": {
    "collapsed": false
   },
   "outputs": [
    {
     "data": {
      "text/plain": [
       "50"
      ]
     },
     "execution_count": 55,
     "metadata": {},
     "output_type": "execute_result"
    }
   ],
   "source": [
    "wordvectors.sentence_length"
   ]
  },
  {
   "cell_type": "code",
   "execution_count": 40,
   "metadata": {
    "collapsed": false
   },
   "outputs": [
    {
     "data": {
      "text/plain": [
       "(256091, 256091)"
      ]
     },
     "execution_count": 40,
     "metadata": {},
     "output_type": "execute_result"
    }
   ],
   "source": [
    "len(queries_exp.current_target_goal), len(queries_exp.current_target_inputa)"
   ]
  },
  {
   "cell_type": "code",
   "execution_count": null,
   "metadata": {
    "collapsed": false
   },
   "outputs": [],
   "source": [
    "queries_exp.compute_batch(False)"
   ]
  },
  {
   "cell_type": "code",
   "execution_count": null,
   "metadata": {
    "collapsed": false
   },
   "outputs": [],
   "source": [
    "exp_results"
   ]
  },
  {
   "cell_type": "code",
   "execution_count": 29,
   "metadata": {
    "collapsed": true
   },
   "outputs": [
    {
     "data": {
      "text/plain": [
       "{u'1921': {u'gold': u'1921',\n",
       "  u'training': True,\n",
       "  u'vals': {u'-NIL-': 0.38134077,\n",
       "   u'144th New York State Legislature': 0.50958037,\n",
       "   u'1921': 0.76017499,\n",
       "   u'1921 APFA season': 0.44033241,\n",
       "   u'1921 Green Bay Packers season': 0,\n",
       "   u'1921 Indianapolis 500': 0.46330494,\n",
       "   u'1921 NFL season': 0.44033241,\n",
       "   u'1921 VFL season': 0.44193387,\n",
       "   u'1921 World Series': 0.46629477,\n",
       "   u'1921 college football season': 0.37952036,\n",
       "   u'1921 in Canada': 0.50798208,\n",
       "   u'1921 in aviation': 0.41847202,\n",
       "   u'1921 in film': 0.48149011,\n",
       "   u'1921 in literature': 0,\n",
       "   u'1921 in poetry': 0,\n",
       "   u'1921 in the United States': 0.44241983,\n",
       "   u'Canadian federal election, 1921': 0,\n",
       "   u'Irish elections, 1921': 0.42891443,\n",
       "   u'Norwegian parliamentary election, 1921': 0.3978036,\n",
       "   u'XXNILXX': 0}},\n",
       " u'1984': {u'gold': u'1984',\n",
       "  u'training': True,\n",
       "  u'vals': {u'-NIL-': 0.40187413,\n",
       "   u'1984': 0.74660271,\n",
       "   u'1984 Grand Prix motorcycle racing season': 0,\n",
       "   u'1984 NBA draft': 0.38108245,\n",
       "   u'1984 NCAA Division I-A football season': 0.40521806,\n",
       "   u'1984 NFL season': 0.46256796,\n",
       "   u'1984 NHL Entry Draft': 0.39595217,\n",
       "   u'1984 Summer Olympics': 0.48471269,\n",
       "   u'1984 Winter Olympics': 0.4887526,\n",
       "   u'1984 in film': 0.4817971,\n",
       "   u'1984 in literature': 0.4249014,\n",
       "   u'1984 in music': 0.35884646,\n",
       "   u'1984 in television': 0.42857629,\n",
       "   u'1984 in video gaming': 0.43302268,\n",
       "   u'Australian federal election, 1984': 0.38503337,\n",
       "   u'Nineteen Eighty-Four': 0.43891606,\n",
       "   u'UEFA Euro 1984': 0.43747839,\n",
       "   u'United States House of Representatives elections, 1984': 0.42926663,\n",
       "   u'United States presidential election, 1984': 0.44509462,\n",
       "   u'XXNILXX': 0}},\n",
       " u'Alfred Hitchcock': {u'gold': u'Alfred Hitchcock',\n",
       "  u'training': True,\n",
       "  u'vals': {u'-NIL-': 0.32494742,\n",
       "   u'Alfred Hitchcock': 0.60891426,\n",
       "   u'Alfred Hitchcock (book)': 0,\n",
       "   u'Alfred Hitchcock (police officer)': 0,\n",
       "   u'Cameron Hitchcock': 0.45412523,\n",
       "   u'E. Hitchcock': 0.51635981,\n",
       "   u'Edward Hitchcock': 0.51635981,\n",
       "   u'Hitchcock': 0.60891426,\n",
       "   u'Hitchcock (automobile)': 0,\n",
       "   u'Hitchcock (film)': 0,\n",
       "   u'Hitchcock County, Nebraska': 0.49475229,\n",
       "   u'Hitchcock, Oklahoma': 0,\n",
       "   u'Hitchcock, South Dakota': 0.50016844,\n",
       "   u'Hitchcock, Texas': 0.47570112,\n",
       "   u'Ken Hitchcock': 0.51365203,\n",
       "   u'Sterling Hitchcock': 0.52730751,\n",
       "   u'The Birds (film)': 0.57262468,\n",
       "   u'Tom Hitchcock': 0,\n",
       "   u'Tommy Hitchcock (racing driver)': 0,\n",
       "   u'XXNILXX': 0}},\n",
       " u'August 8': {u'gold': u'August 8',\n",
       "  u'training': True,\n",
       "  u'vals': {u'-NIL-': 0.38995278,\n",
       "   u'/August': 0.41486329,\n",
       "   u'August': 0.41486329,\n",
       "   u'August (1996 film)': 0,\n",
       "   u'August (2008 film)': 0,\n",
       "   u'August (Eric Clapton album)': 0,\n",
       "   u'August (Fringe)': 0.48862931,\n",
       "   u'August (company)': 0.49576172,\n",
       "   u'August 1966': 0,\n",
       "   u'August 1971': 0,\n",
       "   u'August 1972': 0,\n",
       "   u'August 1973': 0,\n",
       "   u'August 1975': 0,\n",
       "   u'August 2007': 0.45096394,\n",
       "   u'August 8': 0.71524024,\n",
       "   u'August 8 (Eastern Orthodox liturgics)': 0,\n",
       "   u'August, California': 0,\n",
       "   u'CMLL Super Viernes (August 2014)': 0,\n",
       "   u'Papal conclave, August 1978': 0.51117468,\n",
       "   u'XXNILXX': 0}},\n",
       " u'Boze Hadleigh': {u'gold': u'Boze Hadleigh',\n",
       "  u'training': True,\n",
       "  u'vals': {u'-NIL-': 0.31817716,\n",
       "   u'Boze Hadleigh': 0.57035345,\n",
       "   u'Hadleigh': 0.45385581,\n",
       "   u'Hadleigh (TV series)': 0,\n",
       "   u'Hadleigh (disambiguation)': 0.45385581,\n",
       "   u'Hadleigh Airfield': 0,\n",
       "   u'Hadleigh Castle': 0.4892258,\n",
       "   u'Hadleigh railway station': 0,\n",
       "   u'Hadleigh, Essex': 0,\n",
       "   u'Hadleigh, Suffolk': 0.44684446,\n",
       "   u'RAF Hadleigh': 0,\n",
       "   u'XXNILXX': 0}},\n",
       " u'Carousel': {u'gold': u'Carousel (film)',\n",
       "  u'training': True,\n",
       "  u'vals': {u'-NIL-': 0.32135281,\n",
       "   u'Carousel': 0.59940475,\n",
       "   u'Carousel (1923 film)': 0,\n",
       "   u'Carousel (1956 film)': 0.47269467,\n",
       "   u'Carousel (Blink-182 song)': 0,\n",
       "   u'Carousel (Leila K album)': 0,\n",
       "   u'Carousel (TV channel)': 0.45144343,\n",
       "   u'Carousel (Vanessa Carlton song)': 0.48032093,\n",
       "   u'Carousel (advert)': 0,\n",
       "   u'Carousel (advertisement)': 0,\n",
       "   u'Carousel (album)': 0,\n",
       "   u'Carousel (ballet)': 0.4801746,\n",
       "   u'Carousel (film)': 0.47269467,\n",
       "   u'Carousel (musical)': 0.48234415,\n",
       "   u'Carousel slide projector': 0.44531804,\n",
       "   u'Cheshire Cat (Blink-182 album)': 0.46902514,\n",
       "   u'Ford Carousel': 0,\n",
       "   u'Rabbits on the Run': 0.48032093,\n",
       "   u'Westfield Carousel': 0.48430887,\n",
       "   u'XXNILXX': 0}},\n",
       " u'Fred Rutherford': {u'gold': u'Fred Rutherford',\n",
       "  u'training': True,\n",
       "  u'vals': {u'-NIL-': 0.36715901,\n",
       "   u'Alexander Cameron Rutherford': 0.47087047,\n",
       "   u'Ernest Rutherford': 0.49665692,\n",
       "   u'Fred Rutherford': 0.58579344,\n",
       "   u'Jock Rutherford': 0.48637414,\n",
       "   u'John Rutherford (rugby union)': 0,\n",
       "   u'Johnny Rutherford': 0.51720649,\n",
       "   u'Rutherford': 0.47229272,\n",
       "   u'Rutherford (NJT station)': 0.47198349,\n",
       "   u'Rutherford AVA': 0.46133909,\n",
       "   u'Rutherford County, North Carolina': 0.50702983,\n",
       "   u'Rutherford County, Tennessee': 0.45935959,\n",
       "   u'Rutherford GO Station': 0.50840914,\n",
       "   u'Rutherford, California': 0.49983349,\n",
       "   u'Rutherford, Edmonton': 0,\n",
       "   u'Rutherford, New Jersey': 0.47345698,\n",
       "   u'Rutherford, New South Wales': 0.47057414,\n",
       "   u'Rutherford, Pennsylvania': 0,\n",
       "   u'Rutherford, Tennessee': 0,\n",
       "   u'XXNILXX': 0}},\n",
       " u'Gordon MacRae': {u'gold': u'Gordon MacRae',\n",
       "  u'training': True,\n",
       "  u'vals': {u'-NIL-': 0.34616429,\n",
       "   u'Calum MacRae': 0,\n",
       "   u'Gordon MacRae': 0.62120324,\n",
       "   u'Jade MacRae': 0.44080707,\n",
       "   u'MacRae': 0.55114192,\n",
       "   u'MacRae (surname)': 0,\n",
       "   u'William MacRae': 0,\n",
       "   u'XXNILXX': 0}},\n",
       " u'Hello , Dolly !': {u'gold': u'Hello, Dolly! (musical)',\n",
       "  u'training': True,\n",
       "  u'vals': {u'-NIL-': 0.35305566,\n",
       "   u'Hello': 0.48712113,\n",
       "   u'Hello (2008 film)': 0,\n",
       "   u'Hello (Ice Cube song)': 0,\n",
       "   u'Hello (Lionel Richie song)': 0,\n",
       "   u'Hello (Martin Solveig song)': 0,\n",
       "   u'Hello (band)': 0.49058455,\n",
       "   u'Hello (magazine)': 0.48712113,\n",
       "   u'Hello ,': 0,\n",
       "   u'Hello , Dolly': 0,\n",
       "   u'Hello , Dolly !': 0,\n",
       "   u'Hello Dolly': 0.6413849,\n",
       "   u'Hello Dolly (film)': 0,\n",
       "   u'Hello Dolly (movie)': 0,\n",
       "   u'Hello Dolly (song)': 0,\n",
       "   u'Hello, Dolly!': 0.6413849,\n",
       "   u'Hello, Dolly! (film)': 0,\n",
       "   u'Hello, Dolly! (musical)': 0.57574326,\n",
       "   u'Hello, Dolly! (song)': 0,\n",
       "   u'XXNILXX': 0}},\n",
       " u'Invasion of the Body Snatchers': {u'gold': u'Invasion of the Body Snatchers',\n",
       "  u'training': True,\n",
       "  u'vals': {u'-NIL-': 0.34771991,\n",
       "   u'2003 invasion of Iraq': 0.46753478,\n",
       "   u'Battle of France': 0.45149744,\n",
       "   u'Invasion': 0.45543447,\n",
       "   u'Invasion (1965 film)': 0,\n",
       "   u'Invasion (1997 film)': 0,\n",
       "   u'Invasion (TV series)': 0.50529009,\n",
       "   u'Invasion Body Snatchers': 0,\n",
       "   u'Invasion of': 0,\n",
       "   u'Invasion of Normandy': 0.45211157,\n",
       "   u'Invasion of Poland': 0.43399635,\n",
       "   u'Invasion of Poland (1939)': 0.43399635,\n",
       "   u'Invasion of the': 0,\n",
       "   u'Invasion of the Body': 0,\n",
       "   u'Invasion of the Body Snatchers': 0.60384834,\n",
       "   u'Invasion of the Body Snatchers (1956 film)': 0.60384834,\n",
       "   u'Invasion of the Body Snatchers (1978 film)': 0.52925622,\n",
       "   u'Invasion of the Body Snatchers (1978 film) ': 0,\n",
       "   u'The Invasion (professional wrestling)': 0.47626987,\n",
       "   u'XXNILXX': 0}},\n",
       " u'John Dehner': {u'gold': u'John Dehner',\n",
       "  u'training': True,\n",
       "  u'vals': {u'-NIL-': 0.35695571,\n",
       "   u'Dehner': 0.57372266,\n",
       "   u'John Dehner': 0.62811458,\n",
       "   u'XXNILXX': 0}},\n",
       " u'May 14': {u'gold': u'May 14',\n",
       "  u'training': True,\n",
       "  u'vals': {u'-NIL-': 0.43263298,\n",
       "   u'/May': 0.52093703,\n",
       "   u'Ben May': 0.4767088,\n",
       "   u'Brian May': 0.50623256,\n",
       "   u'CMLL Super Viernes (May 2014)': 0,\n",
       "   u'Darrell May': 0.45837107,\n",
       "   u'David May (footballer)': 0.54873443,\n",
       "   u'Jonny May': 0.43694556,\n",
       "   u'Kathy May': 0,\n",
       "   u'List of Pok\\xe9mon anime characters': 0.45766816,\n",
       "   u'May': 0.52093703,\n",
       "   u'May (Pok\\xe9mon)': 0.45766816,\n",
       "   u'May (film)': 0.51128125,\n",
       "   u'May 14': 0.74425471,\n",
       "   u'May 14 (Eastern Orthodox liturgics)': 0,\n",
       "   u'May, Oklahoma': 0,\n",
       "   u'May, Texas': 0,\n",
       "   u'Sean May': 0.50625217,\n",
       "   u'Stevie May': 0.37690866,\n",
       "   u'XXNILXX': 0}},\n",
       " u'Philadelphia': {u'gold': u'Philadelphia',\n",
       "  u'training': True,\n",
       "  u'vals': {u'-NIL-': 0.33375415,\n",
       "   u'2014\\u201315 Philadelphia Flyers season': 0,\n",
       "   u'Advanta Championships of Philadelphia': 0.51744074,\n",
       "   u'Ala\\u015fehir': 0.54025912,\n",
       "   u'Philadelphia': 0.68481207,\n",
       "   u'Philadelphia (film)': 0.50027579,\n",
       "   u'Philadelphia (magazine)': 0.54390079,\n",
       "   u'Philadelphia 76ers': 0.47853151,\n",
       "   u'Philadelphia County, Pennsylvania': 0.54254556,\n",
       "   u'Philadelphia Eagles': 0.47380593,\n",
       "   u'Philadelphia Flyers': 0.48731694,\n",
       "   u'Philadelphia International Airport': 0.50643516,\n",
       "   u'Philadelphia Phantoms': 0.46915653,\n",
       "   u'Philadelphia Phillies': 0.50848663,\n",
       "   u'Philadelphia Union': 0.45949554,\n",
       "   u'Philadelphia, Mississippi': 0.54191166,\n",
       "   u'Philadelphia, Pennsylvania': 0.68481207,\n",
       "   u'Roman Catholic Archdiocese of Philadelphia': 0.50615686,\n",
       "   u'U.S. Pro Indoor': 0.46548563,\n",
       "   u'XXNILXX': 0}},\n",
       " u'Phyllis Diller': {u'gold': u'Phyllis Diller',\n",
       "  u'training': True,\n",
       "  u'vals': {u'-NIL-': 0.35566449,\n",
       "   u'Diller': 0.58563721,\n",
       "   u'Diller Glacier': 0,\n",
       "   u'Diller, Nebraska': 0.51380068,\n",
       "   u'LeGrande A. Diller': 0,\n",
       "   u'Phyllis Diller': 0.64306933,\n",
       "   u'XXNILXX': 0}},\n",
       " u'Shirley Jones': {u'gold': u'Shirley Jones',\n",
       "  u'training': True,\n",
       "  u'vals': {u'-NIL-': 0.32260996,\n",
       "   u'Asjha Jones': 0.45208657,\n",
       "   u'Jermaine Jones': 0.44591945,\n",
       "   u'Jone': 0.47773361,\n",
       "   u'Jone (band)': 0,\n",
       "   u'Jone (opera)': 0,\n",
       "   u'Jone Pedro': 0,\n",
       "   u'Jone da Silva Pinto': 0,\n",
       "   u'Jones': 0.56051421,\n",
       "   u'Jones County, Texas': 0.45487514,\n",
       "   u'Kenwyne Jones': 0.45086637,\n",
       "   u'Nathan Jones (Australian rules footballer)': 0,\n",
       "   u'Shirley Jones': 0.59116232,\n",
       "   u'Shirley Jones (R&amp;B singer)': 0,\n",
       "   u'Shirley Jones (horse)': 0,\n",
       "   u'Shirley Jones (politician)': 0,\n",
       "   u'Stacey Jones': 0.41663325,\n",
       "   u'The Jones Girls': 0.53967655,\n",
       "   u'Todd Jones': 0.50862718,\n",
       "   u'XXNILXX': 0}},\n",
       " u'The Addams Family': {u'gold': u'The Addams Family',\n",
       "  u'training': True,\n",
       "  u'vals': {u'-NIL-': 0.32749924,\n",
       "   u'Addams Family': 0.57335162,\n",
       "   u'Addams Family (pinball)': 0.47602847,\n",
       "   u\"Children's film\": 0,\n",
       "   u'Family': 0.41202217,\n",
       "   u'Family (1976 TV series)': 0,\n",
       "   u'Family (band)': 0.5189696,\n",
       "   u'Family (biology)': 0.48574132,\n",
       "   u'Family Channel': 0.47848952,\n",
       "   u'The Addams Family': 0.57335162,\n",
       "   u'The Addams Family (1964 TV series)': 0.56057125,\n",
       "   u'The Addams Family (1973 animated series)': 0,\n",
       "   u'The Addams Family (1992 animated series)': 0,\n",
       "   u'The Addams Family (film)': 0.49365059,\n",
       "   u'The Addams Family (musical)': 0.5722608,\n",
       "   u'The Addams Family (pinball)': 0.47602847,\n",
       "   u'The Addams Family (video game)': 0.45054048,\n",
       "   u'The Addams Family Theme': 0.5450542,\n",
       "   u'XXNILXX': 0,\n",
       "   u'family (biology)': 0.48574132}},\n",
       " u'The Birds': {u'gold': u'The Birds (film)',\n",
       "  u'training': True,\n",
       "  u'vals': {u'-NIL-': 0.30056888,\n",
       "   u'Bird': 0.46051556,\n",
       "   u'Bird (disambiguation)': 0.46051556,\n",
       "   u'Bird (film)': 0,\n",
       "   u'Birds': 0.46051556,\n",
       "   u'Birds (Anouk song)': 0,\n",
       "   u'Birds (Bic Runga album)': 0,\n",
       "   u'Birds (Kate Nash song)': 0,\n",
       "   u'Birds, Illinois': 0.54076856,\n",
       "   u'Greg Bird': 0.40938115,\n",
       "   u'Larry Bird': 0.51393133,\n",
       "   u'Ryan Bird': 0,\n",
       "   u'Sue Bird': 0.46492028,\n",
       "   u'The Birds': 0.46051556,\n",
       "   u'The Birds (Respighi)': 0.50541955,\n",
       "   u'The Birds (band)': 0.47159582,\n",
       "   u'The Birds (film)': 0.56061006,\n",
       "   u'The Birds (play)': 0,\n",
       "   u'The Birds (story)': 0.53189009,\n",
       "   u'XXNILXX': 0}},\n",
       " u'The Dick Van Dyke Show': {u'gold': u'The Dick Van Dyke Show',\n",
       "  u'training': True,\n",
       "  u'vals': {u'-NIL-': 0.35009754,\n",
       "   u'Agricultural show': 0.47006905,\n",
       "   u'Days of Our Lives': 0.57405269,\n",
       "   u'Days of our Lives': 0.57405269,\n",
       "   u'Dick Van Dyke Show': 0.64710772,\n",
       "   u'Dyke Show': 0,\n",
       "   u'Eric Show': 0.54418188,\n",
       "   u'General Hospital': 0.55227238,\n",
       "   u'Show': 0.48329628,\n",
       "   u'Show (The Cure album)': 0,\n",
       "   u'Show (The Jesus Lizard album)': 0,\n",
       "   u'Show (film)': 0,\n",
       "   u'Show (magazine)': 0,\n",
       "   u'Showbiz (producer)': 0.47026831,\n",
       "   u'Showbiz and A.G.': 0.47026831,\n",
       "   u'The Dick Van Dyke Show': 0.64710772,\n",
       "   u'The Dick Van Dyke Show ': 0,\n",
       "   u'The Van Dyke Show': 0.52268606,\n",
       "   u'Van Dyke Show': 0.52268606,\n",
       "   u'XXNILXX': 0}},\n",
       " u'The Mothers-in-Law': {u'gold': u'The Mothers-in-Law',\n",
       "  u'training': True,\n",
       "  u'vals': {u'-NIL-': 0.32992432,\n",
       "   u'Mothers-in-Law': 0.53985351,\n",
       "   u'The Mothers-in-Law': 0.56937945,\n",
       "   u'XXNILXX': 0}},\n",
       " u'character actor': {u'gold': u'Character actor',\n",
       "  u'training': True,\n",
       "  u'vals': {u'-NIL-': 0.35966206,\n",
       "   u'Academy Award for Best Actor': 0.47846341,\n",
       "   u'Acting': 0.48944321,\n",
       "   u'Actor': 0.46348935,\n",
       "   u'Actor (UML)': 0,\n",
       "   u'Actor (album)': 0,\n",
       "   u'Actor (mythology)': 0,\n",
       "   u'Character actor': 0.51652008,\n",
       "   u'Film actor': 0.46348935,\n",
       "   u'Golden Globe Award for Best Actor \\u2013 Miniseries or Television Film': 0.5229255,\n",
       "   u'Golden Globe Award for Best Actor \\u2013 Motion Picture Drama': 0.5019542,\n",
       "   u'Golden Globe Award for Best Actor \\u2013 Motion Picture Musical or Comedy': 0.4637751,\n",
       "   u'Pornographic film actor': 0.44974777,\n",
       "   u'XXNILXX': 0,\n",
       "   u'acting': 0.48944321,\n",
       "   u'actor': 0.46348935,\n",
       "   u'character actor': 0.51652008,\n",
       "   u'film actor': 0.46348935,\n",
       "   u'pornographic actor': 0.44974777,\n",
       "   u'television actor': 0.46348935}},\n",
       " u'chef': {u'gold': u'Chef',\n",
       "  u'training': True,\n",
       "  u'vals': {u'-NIL-': 0.30925739,\n",
       "   u'Celebrity chef': 0.48157948,\n",
       "   u'Chef': 0.59452635,\n",
       "   u'Chef (2014 film)': 0.51217163,\n",
       "   u'Chef (South Park character)': 0.42158824,\n",
       "   u'Chef (South Park)': 0.42158824,\n",
       "   u'Chef (company)': 0,\n",
       "   u'Chef (film)': 0.51217163,\n",
       "   u'Chef (programming language)': 0.50063443,\n",
       "   u'Chef (software)': 0.52089775,\n",
       "   u\"Chef's uniform\": 0.4530324,\n",
       "   u'Cook (profession)': 0.5346632,\n",
       "   u'Isaac Hayes': 0.53044701,\n",
       "   u'Japanese cuisine': 0.4573487,\n",
       "   u'Magician': 0.5157901,\n",
       "   u'Michael Smith (chef)': 0,\n",
       "   u'Swedish Chef': 0.5081628,\n",
       "   u'XXNILXX': 0,\n",
       "   u'celebrity chef': 0.48157948,\n",
       "   u'chef': 0.59452635}},\n",
       " u'cookbook': {u'gold': u'cookbook',\n",
       "  u'training': True,\n",
       "  u'vals': {u'-NIL-': 0.32414645,\n",
       "   u'Cookbook': 0.60440409,\n",
       "   u\"Nanny Ogg's Cookbook\": 0.49601153,\n",
       "   u'XXNILXX': 0,\n",
       "   u'cookbook': 0.60440409}},\n",
       " u'microwave': {u'gold': u'Microwave oven',\n",
       "  u'training': True,\n",
       "  u'vals': {u'-NIL-': 0.36033434,\n",
       "   u'British Telecom microwave network': 0.40504929,\n",
       "   u'Cavalier Computer': 0,\n",
       "   u'EM spectrum': 0.52207327,\n",
       "   u'Electromagnetic spectrum': 0.52207327,\n",
       "   u'Microwave': 0.52444136,\n",
       "   u'Microwave (game)': 0,\n",
       "   u'Microwave chemistry': 0.43711668,\n",
       "   u'Microwave oven': 0.48958355,\n",
       "   u'Microwave radio relay': 0.47612232,\n",
       "   u'Microwave radiometer': 0.52612394,\n",
       "   u'Microwave spectroscopy': 0.44660151,\n",
       "   u'Microwave transmission': 0.47612232,\n",
       "   u'Microwaves': 0.52444136,\n",
       "   u'Rotational spectroscopy': 0.44660151,\n",
       "   u'Waldorf Microwave': 0,\n",
       "   u'XXNILXX': 0,\n",
       "   u'microwave': 0.52444136,\n",
       "   u'microwave oven': 0.48958355,\n",
       "   u'microwave transmission': 0.47612232}},\n",
       " u'physician': {u'gold': u'Physician',\n",
       "  u'training': True,\n",
       "  u'vals': {u'-NIL-': 0.34470081,\n",
       "   u'Doctor of Medicine': 0.45389861,\n",
       "   u'General practitioner': 0.43577391,\n",
       "   u'Internal medicine': 0.46624282,\n",
       "   u'Islamic medicine': 0.45921195,\n",
       "   u'John Snow (physician)': 0.47650397,\n",
       "   u'Medicine': 0.50849819,\n",
       "   u'Medicine in medieval Islam': 0.45921195,\n",
       "   u'Medicine in the medieval Islamic world': 0.45921195,\n",
       "   u'Physician': 0.5733549,\n",
       "   u'Physician (horse)': 0,\n",
       "   u'Physics': 0.43628752,\n",
       "   u'Physiology': 0.429189,\n",
       "   u\"Ship's doctor\": 0,\n",
       "   u'Traditional Chinese medicine': 0.41491407,\n",
       "   u'XXNILXX': 0,\n",
       "   u'medical doctor': 0.5733549,\n",
       "   u'medicine': 0.50849819,\n",
       "   u'physician': 0.5733549,\n",
       "   u'physiology': 0.429189}}}"
      ]
     },
     "execution_count": 29,
     "metadata": {},
     "output_type": "execute_result"
    }
   ],
   "source": [
    "queries.values()[0]"
   ]
  },
  {
   "cell_type": "code",
   "execution_count": 45,
   "metadata": {
    "collapsed": true
   },
   "outputs": [
    {
     "ename": "ValueError",
     "evalue": "('Bad input argument to theano function with name \"<ipython-input-35-a7ca19795a86>:277\"  at index 4(0-based)', 'setting an array element with a sequence.')",
     "output_type": "error",
     "traceback": [
      "\u001b[1;31m---------------------------------------------------------------------------\u001b[0m",
      "\u001b[1;31mValueError\u001b[0m                                Traceback (most recent call last)",
      "\u001b[1;32m<ipython-input-45-c78fdc0ec5ed>\u001b[0m in \u001b[0;36m<module>\u001b[1;34m()\u001b[0m\n\u001b[0;32m      2\u001b[0m     \u001b[0mqueries_exp\u001b[0m\u001b[1;33m.\u001b[0m\u001b[0mcurrent_documents\u001b[0m\u001b[1;33m,\u001b[0m\u001b[1;33m\u001b[0m\u001b[0m\n\u001b[0;32m      3\u001b[0m     \u001b[0mqueries_exp\u001b[0m\u001b[1;33m.\u001b[0m\u001b[0mcurrent_surface_text\u001b[0m\u001b[1;33m,\u001b[0m \u001b[0mqueries_exp\u001b[0m\u001b[1;33m.\u001b[0m\u001b[0mcurrent_link_id\u001b[0m\u001b[1;33m,\u001b[0m\u001b[1;33m\u001b[0m\u001b[0m\n\u001b[1;32m----> 4\u001b[1;33m     \u001b[0mqueries_exp\u001b[0m\u001b[1;33m.\u001b[0m\u001b[0mcurrent_target_input\u001b[0m\u001b[1;33m,\u001b[0m \u001b[0mqueries_exp\u001b[0m\u001b[1;33m.\u001b[0m\u001b[0mcurrent_target_id\u001b[0m\u001b[1;33m,\u001b[0m \u001b[0mqueries_exp\u001b[0m\u001b[1;33m.\u001b[0m\u001b[0mcurrent_target_goal\u001b[0m\u001b[1;33m\u001b[0m\u001b[0m\n\u001b[0m\u001b[0;32m      5\u001b[0m )\n",
      "\u001b[1;32m/home/matthew/.virtualenvs/nlp-convnet/lib/python2.7/site-packages/theano/compile/function_module.pyc\u001b[0m in \u001b[0;36m__call__\u001b[1;34m(self, *args, **kwargs)\u001b[0m\n\u001b[0;32m    532\u001b[0m                         s.storage[0] = s.type.filter(\n\u001b[0;32m    533\u001b[0m                             \u001b[0marg\u001b[0m\u001b[1;33m,\u001b[0m \u001b[0mstrict\u001b[0m\u001b[1;33m=\u001b[0m\u001b[0ms\u001b[0m\u001b[1;33m.\u001b[0m\u001b[0mstrict\u001b[0m\u001b[1;33m,\u001b[0m\u001b[1;33m\u001b[0m\u001b[0m\n\u001b[1;32m--> 534\u001b[1;33m                             allow_downcast=s.allow_downcast)\n\u001b[0m\u001b[0;32m    535\u001b[0m \u001b[1;33m\u001b[0m\u001b[0m\n\u001b[0;32m    536\u001b[0m                     \u001b[1;32mexcept\u001b[0m \u001b[0mException\u001b[0m \u001b[1;32mas\u001b[0m \u001b[0me\u001b[0m\u001b[1;33m:\u001b[0m\u001b[1;33m\u001b[0m\u001b[0m\n",
      "\u001b[1;32m/home/matthew/.virtualenvs/nlp-convnet/lib/python2.7/site-packages/theano/tensor/type.pyc\u001b[0m in \u001b[0;36mfilter\u001b[1;34m(self, data, strict, allow_downcast)\u001b[0m\n\u001b[0;32m    139\u001b[0m                     \u001b[1;31m# data has to be converted.\u001b[0m\u001b[1;33m\u001b[0m\u001b[1;33m\u001b[0m\u001b[0m\n\u001b[0;32m    140\u001b[0m                     \u001b[1;31m# Check that this conversion is lossless\u001b[0m\u001b[1;33m\u001b[0m\u001b[1;33m\u001b[0m\u001b[0m\n\u001b[1;32m--> 141\u001b[1;33m                     \u001b[0mconverted_data\u001b[0m \u001b[1;33m=\u001b[0m \u001b[0mtheano\u001b[0m\u001b[1;33m.\u001b[0m\u001b[0m_asarray\u001b[0m\u001b[1;33m(\u001b[0m\u001b[0mdata\u001b[0m\u001b[1;33m,\u001b[0m \u001b[0mself\u001b[0m\u001b[1;33m.\u001b[0m\u001b[0mdtype\u001b[0m\u001b[1;33m)\u001b[0m\u001b[1;33m\u001b[0m\u001b[0m\n\u001b[0m\u001b[0;32m    142\u001b[0m                     \u001b[1;31m# We use the `values_eq` static function from TensorType\u001b[0m\u001b[1;33m\u001b[0m\u001b[1;33m\u001b[0m\u001b[0m\n\u001b[0;32m    143\u001b[0m                     \u001b[1;31m# to handle NaN values.\u001b[0m\u001b[1;33m\u001b[0m\u001b[1;33m\u001b[0m\u001b[0m\n",
      "\u001b[1;32m/home/matthew/.virtualenvs/nlp-convnet/lib/python2.7/site-packages/theano/misc/safe_asarray.pyc\u001b[0m in \u001b[0;36m_asarray\u001b[1;34m(a, dtype, order)\u001b[0m\n\u001b[0;32m     31\u001b[0m         \u001b[0mdtype\u001b[0m \u001b[1;33m=\u001b[0m \u001b[0mtheano\u001b[0m\u001b[1;33m.\u001b[0m\u001b[0mconfig\u001b[0m\u001b[1;33m.\u001b[0m\u001b[0mfloatX\u001b[0m\u001b[1;33m\u001b[0m\u001b[0m\n\u001b[0;32m     32\u001b[0m     \u001b[0mdtype\u001b[0m \u001b[1;33m=\u001b[0m \u001b[0mnumpy\u001b[0m\u001b[1;33m.\u001b[0m\u001b[0mdtype\u001b[0m\u001b[1;33m(\u001b[0m\u001b[0mdtype\u001b[0m\u001b[1;33m)\u001b[0m  \u001b[1;31m# Convert into dtype object.\u001b[0m\u001b[1;33m\u001b[0m\u001b[0m\n\u001b[1;32m---> 33\u001b[1;33m     \u001b[0mrval\u001b[0m \u001b[1;33m=\u001b[0m \u001b[0mnumpy\u001b[0m\u001b[1;33m.\u001b[0m\u001b[0masarray\u001b[0m\u001b[1;33m(\u001b[0m\u001b[0ma\u001b[0m\u001b[1;33m,\u001b[0m \u001b[0mdtype\u001b[0m\u001b[1;33m=\u001b[0m\u001b[0mdtype\u001b[0m\u001b[1;33m,\u001b[0m \u001b[0morder\u001b[0m\u001b[1;33m=\u001b[0m\u001b[0morder\u001b[0m\u001b[1;33m)\u001b[0m\u001b[1;33m\u001b[0m\u001b[0m\n\u001b[0m\u001b[0;32m     34\u001b[0m     \u001b[1;31m# Note that dtype comparison must be done by comparing their `num`\u001b[0m\u001b[1;33m\u001b[0m\u001b[1;33m\u001b[0m\u001b[0m\n\u001b[0;32m     35\u001b[0m     \u001b[1;31m# attribute. One cannot assume that two identical data types are pointers\u001b[0m\u001b[1;33m\u001b[0m\u001b[1;33m\u001b[0m\u001b[0m\n",
      "\u001b[1;32m/home/matthew/.virtualenvs/nlp-convnet/lib/python2.7/site-packages/numpy/core/numeric.pyc\u001b[0m in \u001b[0;36masarray\u001b[1;34m(a, dtype, order)\u001b[0m\n\u001b[0;32m    460\u001b[0m \u001b[1;33m\u001b[0m\u001b[0m\n\u001b[0;32m    461\u001b[0m     \"\"\"\n\u001b[1;32m--> 462\u001b[1;33m     \u001b[1;32mreturn\u001b[0m \u001b[0marray\u001b[0m\u001b[1;33m(\u001b[0m\u001b[0ma\u001b[0m\u001b[1;33m,\u001b[0m \u001b[0mdtype\u001b[0m\u001b[1;33m,\u001b[0m \u001b[0mcopy\u001b[0m\u001b[1;33m=\u001b[0m\u001b[0mFalse\u001b[0m\u001b[1;33m,\u001b[0m \u001b[0morder\u001b[0m\u001b[1;33m=\u001b[0m\u001b[0morder\u001b[0m\u001b[1;33m)\u001b[0m\u001b[1;33m\u001b[0m\u001b[0m\n\u001b[0m\u001b[0;32m    463\u001b[0m \u001b[1;33m\u001b[0m\u001b[0m\n\u001b[0;32m    464\u001b[0m \u001b[1;32mdef\u001b[0m \u001b[0masanyarray\u001b[0m\u001b[1;33m(\u001b[0m\u001b[0ma\u001b[0m\u001b[1;33m,\u001b[0m \u001b[0mdtype\u001b[0m\u001b[1;33m=\u001b[0m\u001b[0mNone\u001b[0m\u001b[1;33m,\u001b[0m \u001b[0morder\u001b[0m\u001b[1;33m=\u001b[0m\u001b[0mNone\u001b[0m\u001b[1;33m)\u001b[0m\u001b[1;33m:\u001b[0m\u001b[1;33m\u001b[0m\u001b[0m\n",
      "\u001b[1;31mValueError\u001b[0m: ('Bad input argument to theano function with name \"<ipython-input-35-a7ca19795a86>:277\"  at index 4(0-based)', 'setting an array element with a sequence.')"
     ]
    }
   ],
   "source": [
    "gg_res = queries_exp.test_func(\n",
    "    queries_exp.current_documents, \n",
    "    queries_exp.current_surface_text, queries_exp.current_link_id,\n",
    "    queries_exp.current_target_input, queries_exp.current_target_id, queries_exp.current_target_goal\n",
    ")"
   ]
  },
  {
   "cell_type": "code",
   "execution_count": null,
   "metadata": {
    "collapsed": false
   },
   "outputs": [],
   "source": [
    "np.isnan(gg_res[0]).any()"
   ]
  },
  {
   "cell_type": "code",
   "execution_count": null,
   "metadata": {
    "collapsed": false
   },
   "outputs": [],
   "source": [
    "gg_res[2].mean()"
   ]
  },
  {
   "cell_type": "code",
   "execution_count": null,
   "metadata": {
    "collapsed": false
   },
   "outputs": [],
   "source": [
    "gg_res[0].mean()"
   ]
  },
  {
   "cell_type": "code",
   "execution_count": null,
   "metadata": {
    "collapsed": false
   },
   "outputs": [],
   "source": [
    "[(v, np.isnan(v.get_value(borrow=True)).all()) for v in queries_exp.all_params]"
   ]
  },
  {
   "cell_type": "code",
   "execution_count": null,
   "metadata": {
    "collapsed": false
   },
   "outputs": [],
   "source": [
    "queries_exp.total_links"
   ]
  },
  {
   "cell_type": "code",
   "execution_count": null,
   "metadata": {
    "collapsed": false
   },
   "outputs": [],
   "source": [
    "theano.printing.pydotprint(T.grad(queries_exp.loss_vec.mean(), queries_exp.all_params))"
   ]
  },
  {
   "cell_type": "code",
   "execution_count": null,
   "metadata": {
    "collapsed": false
   },
   "outputs": [],
   "source": [
    "gg_func = theano.function(\n",
    "            [queries_exp.x_document_input,\n",
    "             queries_exp.x_surface_text_input, queries_exp.x_document_id,\n",
    "             queries_exp.x_target_input, queries_exp.x_link_id, queries_exp.y_score],\n",
    "            T.grad(queries_exp.loss_vec.mean(), lasagne.layers.get_all_params(queries_exp.target_dens2)),\n",
    "#           T.grad(queries_exp.loss_vec.mean(), queries_exp.all_params),\n",
    "    #             [queries_exp.target_out, queries_exp.source_aligned_l, \n",
    "#              T.dot(queries_exp.target_out, queries_exp.source_aligned_l.T).diagonal(),\n",
    "#              queries_exp.target_out.norm(2, axis=1) * queries_exp.source_aligned_l.norm(2, axis=1),\n",
    "#              T.batched_dot(queries_exp.target_out, queries_exp.source_aligned_l),\n",
    "#              lasagne.layers.get_output(queries_exp.target_dens2),\n",
    "#              queries_exp.target_out.norm(2, axis=1),\n",
    "#              #T.grad(queries_exp.loss_vec.mean(), queries_exp.all_params)\n",
    "#             ],\n",
    "        #[queries_exp.res_l, queries_exp.loss_vec.sum(), queries_exp.loss_vec],\n",
    "    on_unused_input='ignore',\n",
    "    mode='DebugMode'\n",
    "        )"
   ]
  },
  {
   "cell_type": "code",
   "execution_count": null,
   "metadata": {
    "collapsed": false
   },
   "outputs": [],
   "source": [
    "try:\n",
    "    gg_grad_res = gg_func(\n",
    "        queries_exp.current_documents,\n",
    "        queries_exp.current_surface_text, queries_exp.current_link_id,\n",
    "        queries_exp.current_target_input, queries_exp.current_target_id, queries_exp.current_target_goal\n",
    "    )\n",
    "except Exception as e:\n",
    "    eeee = e"
   ]
  },
  {
   "cell_type": "code",
   "execution_count": null,
   "metadata": {
    "collapsed": false
   },
   "outputs": [],
   "source": [
    "[np.isnan(v).any() for v in gg_grad_res]"
   ]
  },
  {
   "cell_type": "code",
   "execution_count": null,
   "metadata": {
    "collapsed": false
   },
   "outputs": [],
   "source": [
    "eeee"
   ]
  },
  {
   "cell_type": "code",
   "execution_count": null,
   "metadata": {
    "collapsed": false
   },
   "outputs": [],
   "source": [
    "len(queries_exp.current_target_input)"
   ]
  },
  {
   "cell_type": "code",
   "execution_count": null,
   "metadata": {
    "collapsed": false
   },
   "outputs": [],
   "source": [
    "gg_res = gg_func(\n",
    "    queries_exp.current_documents,\n",
    "    queries_exp.current_surface_text, queries_exp.current_link_id,\n",
    "    queries_exp.current_target_input, queries_exp.current_target_id, queries_exp.current_target_goal\n",
    ")"
   ]
  },
  {
   "cell_type": "code",
   "execution_count": null,
   "metadata": {
    "collapsed": false
   },
   "outputs": [],
   "source": [
    "len(queries_exp.current_target_input)"
   ]
  },
  {
   "cell_type": "code",
   "execution_count": null,
   "metadata": {
    "collapsed": false
   },
   "outputs": [],
   "source": [
    "np.isnan(gg_res[5]).any()"
   ]
  },
  {
   "cell_type": "code",
   "execution_count": null,
   "metadata": {
    "collapsed": false
   },
   "outputs": [],
   "source": [
    "gg_res[2]"
   ]
  },
  {
   "cell_type": "code",
   "execution_count": null,
   "metadata": {
    "collapsed": false
   },
   "outputs": [],
   "source": [
    "gg_res[0].shape, gg_res[1].shape, gg_res[2].shape, gg_res[3].shape, gg_res[4].shape"
   ]
  },
  {
   "cell_type": "code",
   "execution_count": null,
   "metadata": {
    "collapsed": false
   },
   "outputs": [],
   "source": [
    "np.inner(gg_res[0], gg_res[1]).shape"
   ]
  },
  {
   "cell_type": "code",
   "execution_count": null,
   "metadata": {
    "collapsed": false
   },
   "outputs": [],
   "source": [
    "gg_res[0] * gg_res[1]"
   ]
  },
  {
   "cell_type": "code",
   "execution_count": null,
   "metadata": {
    "collapsed": false
   },
   "outputs": [],
   "source": [
    "aa = np.dot(gg_res[0], gg_res[1].T)"
   ]
  },
  {
   "cell_type": "code",
   "execution_count": null,
   "metadata": {
    "collapsed": false
   },
   "outputs": [],
   "source": [
    "aa.diagonal().shape"
   ]
  },
  {
   "cell_type": "code",
   "execution_count": null,
   "metadata": {
    "collapsed": false
   },
   "outputs": [],
   "source": [
    "gg_res[2]"
   ]
  },
  {
   "cell_type": "code",
   "execution_count": null,
   "metadata": {
    "collapsed": false
   },
   "outputs": [],
   "source": [
    "len(queries_exp.queried_pages)"
   ]
  },
  {
   "cell_type": "code",
   "execution_count": null,
   "metadata": {
    "collapsed": false
   },
   "outputs": [],
   "source": [
    "len(queries_exp.page_content)"
   ]
  },
  {
   "cell_type": "code",
   "execution_count": null,
   "metadata": {
    "collapsed": false
   },
   "outputs": [],
   "source": [
    "len(queries_exp.current_surface_text)"
   ]
  },
  {
   "cell_type": "code",
   "execution_count": null,
   "metadata": {
    "collapsed": false
   },
   "outputs": [],
   "source": [
    "len(queries_exp.current_link_id)"
   ]
  },
  {
   "cell_type": "code",
   "execution_count": null,
   "metadata": {
    "collapsed": false
   },
   "outputs": [],
   "source": [
    "len(queries_exp.current_target_input)"
   ]
  },
  {
   "cell_type": "code",
   "execution_count": null,
   "metadata": {
    "collapsed": false
   },
   "outputs": [],
   "source": [
    "exp_results = []\n",
    "\n",
    "for i in xrange(5):\n",
    "    exp_results.append((i, queries_exp.compute_batch()))"
   ]
  },
  {
   "cell_type": "code",
   "execution_count": null,
   "metadata": {
    "collapsed": false
   },
   "outputs": [],
   "source": [
    "exp_results"
   ]
  },
  {
   "cell_type": "code",
   "execution_count": null,
   "metadata": {
    "collapsed": false
   },
   "outputs": [],
   "source": [
    "queries.values()"
   ]
  },
  {
   "cell_type": "code",
   "execution_count": null,
   "metadata": {
    "collapsed": false
   },
   "outputs": [],
   "source": [
    "queries_exp.total_links"
   ]
  },
  {
   "cell_type": "code",
   "execution_count": null,
   "metadata": {
    "collapsed": false
   },
   "outputs": [],
   "source": [
    "queries_exp.total_loss / queries_exp.total_links"
   ]
  },
  {
   "cell_type": "code",
   "execution_count": null,
   "metadata": {
    "collapsed": false
   },
   "outputs": [],
   "source": [
    "queries_exp.total_loss"
   ]
  },
  {
   "cell_type": "code",
   "execution_count": null,
   "metadata": {
    "collapsed": false
   },
   "outputs": [],
   "source": [
    "len(queries_exp.current_target_id)"
   ]
  },
  {
   "cell_type": "code",
   "execution_count": null,
   "metadata": {
    "collapsed": false
   },
   "outputs": [],
   "source": [
    "queries_exp.compute_batch()"
   ]
  },
  {
   "cell_type": "code",
   "execution_count": null,
   "metadata": {
    "collapsed": false
   },
   "outputs": [],
   "source": [
    "%time queries_exp.run_batch(queries_exp.test_func)"
   ]
  },
  {
   "cell_type": "code",
   "execution_count": null,
   "metadata": {
    "collapsed": true
   },
   "outputs": [],
   "source": []
  }
 ],
 "metadata": {
  "kernelspec": {
   "display_name": "Python 2",
   "language": "python",
   "name": "python2"
  },
  "language_info": {
   "codemirror_mode": {
    "name": "ipython",
    "version": 2
   },
   "file_extension": ".py",
   "mimetype": "text/x-python",
   "name": "python",
   "nbconvert_exporter": "python",
   "pygments_lexer": "ipython2",
   "version": "2.7.5"
  }
 },
 "nbformat": 4,
 "nbformat_minor": 0
}
