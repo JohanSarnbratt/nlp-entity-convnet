{
 "cells": [
  {
   "cell_type": "code",
   "execution_count": 1,
   "metadata": {
    "collapsed": true
   },
   "outputs": [],
   "source": [
    "%load_ext autoreload\n",
    "%autoreload 2"
   ]
  },
  {
   "cell_type": "code",
   "execution_count": 2,
   "metadata": {
    "collapsed": false
   },
   "outputs": [
    {
     "name": "stdout",
     "output_type": "stream",
     "text": [
      "Couldn't import dot_parser, loading of dot files will not be possible.\n"
     ]
    }
   ],
   "source": [
    "from theano import *\n",
    "from lasagne.layers import InputLayer, get_output\n",
    "import lasagne\n",
    "import lasagne.layers\n",
    "import theano.tensor as T\n",
    "import theano\n",
    "import numpy as np\n",
    "\n",
    "import re\n",
    "import random"
   ]
  },
  {
   "cell_type": "code",
   "execution_count": 3,
   "metadata": {
    "collapsed": true
   },
   "outputs": [],
   "source": [
    "from wikireader import WikipediaReader, WikiRegexes"
   ]
  },
  {
   "cell_type": "code",
   "execution_count": 4,
   "metadata": {
    "collapsed": false
   },
   "outputs": [],
   "source": [
    "from wordvecs import WordVectors, EmbeddingLayer\n",
    "\n",
    "#wordvectors = WordVectors(fname='../GoogleNews-vectors-negative300.bin', negvectors=False)\n",
    "wordvectors = WordVectors(\n",
    "    fname='/data/matthew/enwiki-20141208-pages-articles-multistream-links4-output1.bin',\n",
    "    redir_fname='/data/matthew/enwiki-20141208-pages-articles-multistream-redirects4.json',\n",
    "    negvectors=True,\n",
    "    sentence_length=200\n",
    ")"
   ]
  },
  {
   "cell_type": "code",
   "execution_count": 5,
   "metadata": {
    "collapsed": false
   },
   "outputs": [
    {
     "data": {
      "text/plain": [
       "5007247"
      ]
     },
     "execution_count": 5,
     "metadata": {},
     "output_type": "execute_result"
    }
   ],
   "source": [
    "len(wordvectors.vectors)"
   ]
  },
  {
   "cell_type": "code",
   "execution_count": 6,
   "metadata": {
    "collapsed": true
   },
   "outputs": [],
   "source": [
    "org_wvectors = set(wordvectors.vectors.keys())"
   ]
  },
  {
   "cell_type": "code",
   "execution_count": 7,
   "metadata": {
    "collapsed": false
   },
   "outputs": [
    {
     "data": {
      "text/plain": [
       "6307754"
      ]
     },
     "execution_count": 7,
     "metadata": {},
     "output_type": "execute_result"
    }
   ],
   "source": [
    "len(wordvectors.redirects)"
   ]
  },
  {
   "cell_type": "code",
   "execution_count": 8,
   "metadata": {
    "collapsed": false
   },
   "outputs": [],
   "source": [
    "class WikiLinkingExp(WikipediaReader, WikiRegexes):\n",
    "    \n",
    "    run_training = False\n",
    "    num_words_to_use = 200  # set by the value set in the word vectors\n",
    "    batch_size = 20000\n",
    "    num_negative_samples = 1\n",
    "    num_words_per_conv = 3\n",
    "    \n",
    "    def __init__(self, fname, wordvecs=wordvectors):\n",
    "        super(WikiLinkingExp, self).__init__(fname)\n",
    "    \n",
    "        self.redirects = wordvecs.redirects\n",
    "        #self.page_titles = set(wordvecs.vectors.keys())\n",
    "    \n",
    "        self.wordvecs = wordvecs\n",
    "        self.current_batch = []\n",
    "        self.page_titles = set()\n",
    "        self.num_words_to_use = self.wordvecs.sentence_length\n",
    "        \n",
    "        # do an inital load of the data\n",
    "        self.read()\n",
    "        \n",
    "        self._setup()\n",
    "        \n",
    "        self.train_cnt = 0\n",
    "        self.train_res = []\n",
    "        \n",
    "    def _setup(self):\n",
    "        self.y_batch = T.ivector('y_labels')\n",
    "        self.x_words_batch = T.imatrix('x_words')\n",
    "        self.x_links_batch = T.imatrix('y_links')\n",
    "        \n",
    "        self.sentence_l = InputLayer((None, self.num_words_to_use), input_var=self.x_words_batch)\n",
    "        self.link_l = InputLayer((None,1), input_var=self.x_links_batch)\n",
    "        \n",
    "        self.embedding_W = theano.shared(self.wordvecs.get_numpy_matrix())\n",
    "        \n",
    "        self.sentence_emb_l = EmbeddingLayer(\n",
    "            self.sentence_l, \n",
    "            W=self.embedding_W,\n",
    "            add_word_params=False,\n",
    "        )\n",
    "        \n",
    "        self.link_emb_l = EmbeddingLayer(\n",
    "            self.link_l,\n",
    "            W=self.embedding_W,\n",
    "            add_word_params=False,\n",
    "        )\n",
    "        \n",
    "        self.sentence_conv_l = lasagne.layers.Conv2DLayer(\n",
    "            self.sentence_emb_l,\n",
    "            num_filters=150,\n",
    "            filter_size=(self.num_words_per_conv, self.wordvecs.vector_size),\n",
    "            name='conv_sent1',\n",
    "            nonlinearity=lasagne.nonlinearities.rectify,\n",
    "        )\n",
    "        \n",
    "        self.sentence_pool_l = lasagne.layers.MaxPool2DLayer(\n",
    "            self.sentence_conv_l,\n",
    "            name='maxing_sent1',\n",
    "            pool_size=(self.num_words_to_use - self.num_words_per_conv, 1),\n",
    "        )\n",
    "        \n",
    "        self.combined_l = lasagne.layers.ConcatLayer(\n",
    "            (lasagne.layers.FlattenLayer(self.link_emb_l), lasagne.layers.FlattenLayer(self.sentence_pool_l),)\n",
    "        )\n",
    "        \n",
    "        self.dropped_l = lasagne.layers.DropoutLayer(\n",
    "            self.combined_l,\n",
    "            p=.25,\n",
    "        )\n",
    "        \n",
    "        self.dense1_l = lasagne.layers.DenseLayer(\n",
    "            self.dropped_l,\n",
    "            num_units=100,\n",
    "            name='dens1',\n",
    "            nonlinearity=lasagne.nonlinearities.rectify,\n",
    "        )\n",
    "        \n",
    "        self.dropped2_l = lasagne.layers.DropoutLayer(\n",
    "            self.dense1_l,\n",
    "            p=.25\n",
    "        )\n",
    "        \n",
    "        self.out_l = lasagne.layers.DenseLayer(\n",
    "            self.dropped2_l,\n",
    "            num_units=2,\n",
    "            name='dens2',\n",
    "            nonlinearity=lasagne.nonlinearities.rectify,\n",
    "        )\n",
    "        \n",
    "        self.output_vec = lasagne.layers.get_output(self.out_l)\n",
    "        self.result_vec = self.output_vec[:,0] - self.output_vec[:,1]\n",
    "        self.loss_vec = T.nnet.binary_crossentropy(T.clip(self.result_vec + .5, .001, .999), self.y_batch)\n",
    "        self.output_diff = T.neq(self.result_vec > 0, self.y_batch > .5)\n",
    "        \n",
    "        self.all_params = lasagne.layers.get_all_params(self.out_l)\n",
    "        self.updates = lasagne.updates.adagrad(self.loss_vec.mean(), self.all_params, .01)  # TODO: variable learning rate??\n",
    "        \n",
    "        self.train_func = theano.function(\n",
    "            [self.x_words_batch, self.x_links_batch, self.y_batch],\n",
    "            [self.loss_vec.sum(), self.output_diff.sum(), self.loss_vec.mean(), self.loss_vec],\n",
    "            updates=self.updates\n",
    "        )\n",
    "        \n",
    "        self.loss_func = theano.function(\n",
    "            [self.x_words_batch, self.x_links_batch, self.y_batch],\n",
    "            [self.loss_vec.sum(), self.loss_vec, self.output_diff.sum()]\n",
    "        )\n",
    "        \n",
    "        \n",
    "    def train(self):\n",
    "        self.run_training = True\n",
    "        self.loss_sum = 0.0\n",
    "        self.diff_sum = 0\n",
    "        self.sample_cnt = 0\n",
    "        self.current_batch = []\n",
    "        \n",
    "        self.read()\n",
    "        if len(self.current_batch) > 0:\n",
    "            self.train_batch()\n",
    "        \n",
    "        r = self.train_cnt, float(self.loss_sum) / self.sample_cnt, float(self.diff_sum) / self.sample_cnt\n",
    "        self.train_cnt += 1\n",
    "        self.train_res.append(r)\n",
    "        return r\n",
    "        \n",
    "    def readPage(self, title, content):\n",
    "        # would be nice to use tf-idf here for the words from the document that should look at, but then won't have that much meanning....\n",
    "        links = [r[0] for r in self.getLinkTargets(content)]\n",
    "        words = self._wikiToText(content).split()[:self.num_words_to_use]\n",
    "        self.d_words = words\n",
    "        self.d_links = links\n",
    "        wordsv = self.wordvecs.tokenize(words)\n",
    "        self.d_wordsv = wordsv\n",
    "        titlev = self.wordvecs.get_location(title)\n",
    "        self.d_titlev = titlev\n",
    "        linksv = self.wordvecs.tokenize(links)\n",
    "        if self.run_training:\n",
    "            for l in linksv:\n",
    "                self.current_batch.append((titlev, wordsv, l, 1))\n",
    "            for l in random.sample(self.page_titles, len(linksv)*self.num_negative_samples):\n",
    "                self.current_batch.append((titlev, wordsv, l, 0))\n",
    "            \n",
    "            if len(self.current_batch) >= self.batch_size:\n",
    "                self.train_batch()\n",
    "        else:\n",
    "            self.page_titles.add(titlev)\n",
    "        \n",
    "    def train_batch(self):\n",
    "        labels = np.array([r[3] for r in self.current_batch]).astype('int32')\n",
    "        targets = np.array([[r[2]] for r in self.current_batch]).astype('int32')\n",
    "        words = np.array([r[1] for r in self.current_batch]).astype('int32')\n",
    "        \n",
    "        loss_sum, diff_sum, _, _ = self.train_func(words, targets, labels)\n",
    "        self.loss_sum += loss_sum\n",
    "        self.diff_sum += diff_sum\n",
    "        self.sample_cnt += len(self.current_batch)\n",
    "        self.current_batch = []\n"
   ]
  },
  {
   "cell_type": "code",
   "execution_count": 9,
   "metadata": {
    "collapsed": false
   },
   "outputs": [
    {
     "name": "stderr",
     "output_type": "stream",
     "text": [
      "/home/matthew/.virtualenvs/nlp-convnet/lib/python2.7/site-packages/lasagne/init.py:86: UserWarning: The uniform initializer no longer uses Glorot et al.'s approach to determine the bounds, but defaults to the range (-0.01, 0.01) instead. Please use the new GlorotUniform initializer to get the old behavior. GlorotUniform is now the default for all layers.\n",
      "  warnings.warn(\"The uniform initializer no longer uses Glorot et al.'s \"\n",
      "/home/matthew/.virtualenvs/nlp-convnet/lib/python2.7/site-packages/lasagne/layers/helper.py:69: UserWarning: get_all_layers() has been changed to return layers in topological order. The former implementation is still available as get_all_layers_old(), but will be removed before the first release of Lasagne. To ignore this warning, use `warnings.filterwarnings('ignore', '.*topo.*')`.\n",
      "  warnings.warn(\"get_all_layers() has been changed to return layers in \"\n"
     ]
    }
   ],
   "source": [
    "wikiexp = WikiLinkingExp('/data/matthew/enwiki-1e7_lines.xml')"
   ]
  },
  {
   "cell_type": "code",
   "execution_count": 10,
   "metadata": {
    "collapsed": false
   },
   "outputs": [
    {
     "data": {
      "text/plain": [
       "3921"
      ]
     },
     "execution_count": 10,
     "metadata": {},
     "output_type": "execute_result"
    }
   ],
   "source": [
    "len(wikiexp.page_titles)"
   ]
  },
  {
   "cell_type": "code",
   "execution_count": 11,
   "metadata": {
    "collapsed": false
   },
   "outputs": [
    {
     "data": {
      "text/plain": [
       "61033"
      ]
     },
     "execution_count": 11,
     "metadata": {},
     "output_type": "execute_result"
    }
   ],
   "source": [
    "len(wordvectors.vectors) - len(org_wvectors)"
   ]
  },
  {
   "cell_type": "code",
   "execution_count": 12,
   "metadata": {
    "collapsed": false
   },
   "outputs": [
    {
     "data": {
      "text/plain": [
       "282419"
      ]
     },
     "execution_count": 12,
     "metadata": {},
     "output_type": "execute_result"
    }
   ],
   "source": [
    "len(wordvectors.reverse_word_location)"
   ]
  },
  {
   "cell_type": "code",
   "execution_count": 13,
   "metadata": {
    "collapsed": true
   },
   "outputs": [],
   "source": [
    "new_words = list(set(wordvectors.vectors) - org_wvectors)"
   ]
  },
  {
   "cell_type": "code",
   "execution_count": 14,
   "metadata": {
    "collapsed": false
   },
   "outputs": [
    {
     "data": {
      "text/plain": [
       "['michael_gross__lrb_actor_rrb_',\n",
       " 'rhys_fawr_ap_maredudd',\n",
       " 'imagenm142_x_3jpg',\n",
       " 'categorykings_of_rome',\n",
       " 'filealtair_8800_computerjpg',\n",
       " 'httpbabylon5warnerbroscom',\n",
       " 'filesc_oak_oti601_mozartjpg',\n",
       " 'common_lawcontrasts_between_common_law_and_civil_law_systems',\n",
       " 'Anatoly Karpov',\n",
       " u'afi039s_100_years100_movies',\n",
       " 'filered_wine_glassjpg',\n",
       " 'fileleredoutablephotojpg',\n",
       " 'robert_walker__lrb_comics_rrb_',\n",
       " 'parabolic_arc',\n",
       " 'spartak_stadium__lrb_kyrgyzstan_rrb_',\n",
       " 'categorytreaties_of_seychelles',\n",
       " 'Convention (norm)',\n",
       " 'terrace__lrb_stadium_rrb_',\n",
       " 'certified_credit_professional',\n",
       " 'fileelectron_dotsvg',\n",
       " 'categoryantiradiation_missiles_of_the_united_states',\n",
       " 'filebaburnama_illustrationjpg',\n",
       " 'filea_chronicle_of_england__page_050__alfred_in_the_neatherds_cottagejpg',\n",
       " 'khomska',\n",
       " u'college_of_cambridge',\n",
       " 'possession_island__lrb_queensland_rrb_',\n",
       " u'burnside039s_lemma',\n",
       " u'boot_money',\n",
       " 'filelancaster_617_sqn_raf_dropping_grand_slam_bomb_on_arnsberg_viaduct_1945jpg',\n",
       " 'filehkljpg',\n",
       " 'athleticsncaa',\n",
       " 'categorybrittonic_languages',\n",
       " 'filebrighamyounggravejpg',\n",
       " u'1974_world_championship_tennis_finals__singles',\n",
       " 'anglobretons',\n",
       " 'khomsky',\n",
       " 'imageoud_poelgeest_trekvaartjpg',\n",
       " 'epilogue__lrb_short_story_rrb_',\n",
       " 'johannes_palmberg',\n",
       " 'enotachopo',\n",
       " 'categorytrade_routes',\n",
       " u'buck_o039neil',\n",
       " '252560',\n",
       " 'altabkh',\n",
       " 'fileplan_amphipolisensvg',\n",
       " 'dual__lrb_cognitive_architecture_rrb_',\n",
       " '2005_san_diego_padres_season',\n",
       " 'fileuniform_polyhedron43t12png',\n",
       " u'girls_lean_back_everywhere',\n",
       " 'Dejima',\n",
       " 'fileseagate_hard_diskjpg',\n",
       " '1929_24_hours_of_le_mans',\n",
       " 'filef11vaberdeenbestdetailjpg',\n",
       " 'steve_henderson__lrb_game_designer_rrb_',\n",
       " 'dunlop_australian_capital_territory',\n",
       " 'george_t_knight__lrb_universalist_rrb_',\n",
       " 'robert_scott__lrb_philologist_rrb_',\n",
       " '1997_florida_marlins_season',\n",
       " 'usrlocallibperl5',\n",
       " 'yorek_thurr',\n",
       " u'encyclopedia_of_the_history_of_arabic_science',\n",
       " 'category1297_births',\n",
       " 'filebernardo_ochinopng',\n",
       " 'azerbaijanazerbaijan',\n",
       " 'Colonialism',\n",
       " 'btukg',\n",
       " 'ptbobina',\n",
       " 'baseball_fieldbatters_box_and_catchers_box',\n",
       " 'categorymannerist_sculptors',\n",
       " 'daveness',\n",
       " 'highly_sensitive',\n",
       " 'itv__lrb_tv_network_rrb_itv_companies_past_and_present',\n",
       " u'list_of_t_postal_codes_of_canada',\n",
       " 'fileantimony_massivejpg',\n",
       " 'filecurling_pictogram_lippng',\n",
       " 'fileroxarsonepng',\n",
       " 'bonafoux_vidal',\n",
       " 'john_ellis__lrb_historian_rrb_',\n",
       " 'filebusbridge_church_in_godalmingjpeg',\n",
       " 'governmentfounded',\n",
       " 'categorygeology_of_nunavut',\n",
       " 'kostas_kyriazis',\n",
       " 'atlas_california',\n",
       " 'categorygreek_christians',\n",
       " 'category4thcentury_bc_historians',\n",
       " 'filehieroglif_z_abydosjpg',\n",
       " 'bainbridge_ross_county_ohio',\n",
       " 'filesyriac_estrangela_semkatsvg',\n",
       " 'categorylandforms_of_nigeria',\n",
       " 'bhagwan_mahavir_world_peace',\n",
       " 'category970_births',\n",
       " 'william_stanley__lrb_elizabethan_rrb_',\n",
       " u'the_echo__lrb_irish_newspaper_rrb_',\n",
       " 'categoryboston_red_sox_players',\n",
       " 'fileles_trs_riches_heures_du_duc_de_berry_avriljpg',\n",
       " 'official_website_of_the_russian_academy_of_sciences',\n",
       " 'categorydivisor_function',\n",
       " 'categoryvampires_in_film',\n",
       " '201320052004200320022001200019991998199719961995',\n",
       " 'fileseal_of_alexios_komnenos_as_grand_domestic_of_the_westjpg',\n",
       " 'categoryenglish_game_show_hosts',\n",
       " 'epr_paradoxmathematical_formulation',\n",
       " 'Biconditional introduction',\n",
       " 'category1890_deaths',\n",
       " 'categoryiconography',\n",
       " 'ukmajor',\n",
       " u'south_african_braille',\n",
       " u'1976_world_championship_tennis_finals__singles',\n",
       " '1201u',\n",
       " 'Common Gateway Interface',\n",
       " 'Circuit Park Zandvoort',\n",
       " 'filestjohnthebaptistpreachingjpg',\n",
       " 'gottlos',\n",
       " 'category1987_copa_amrica_players',\n",
       " 'phelon_amp_moorepanther_motorcycles',\n",
       " 'wolfgang_schreiber',\n",
       " 'filehallstatt_latenepng',\n",
       " u'monteroni_d039arbia',\n",
       " 'filebah_gardens_by_david_shankbonejpg',\n",
       " 'housefinlandia',\n",
       " u'br039er_rabbit',\n",
       " 'uss_cumberland__lrb_1842_rrb_',\n",
       " 'filechurchoftheholysepulcher1885png',\n",
       " 'constance_adams_demille',\n",
       " 'image27_subpixelssvg',\n",
       " 'paneuropean_corridor_vb',\n",
       " 'categorybanda_islands',\n",
       " 'advanced_technical_intelligence_center',\n",
       " 'pa_maretu_ariki',\n",
       " 'categoryparks_in_skagit_county_washington',\n",
       " 'concert_communications_services',\n",
       " 'nareli_jain_temple',\n",
       " 'group__lrb_stratigraphy_rrb_',\n",
       " 'motorsportbmw',\n",
       " 'filemassifmontblanc7438jpg',\n",
       " 'antibodyhistory',\n",
       " u'2009_boston_red_sox_season',\n",
       " 'filerasterscansvg',\n",
       " 'teamsat',\n",
       " 'pointerreturning',\n",
       " 'prizejawaharlal',\n",
       " 'Miss Marple',\n",
       " 'categoryscottish_culture',\n",
       " 'ALF Tales',\n",
       " 'battle_of_the_centaurs__lrb_michelangelo_rrb_',\n",
       " 'fileibm402plugboardshrigleywiresidejpg',\n",
       " 'wiktexsert',\n",
       " 'Political scandals in the United Kingdom',\n",
       " 'filegettysburg_battle_map_day1png',\n",
       " 'jack_harris__lrb_musician_rrb_',\n",
       " 'Communist Party of the Soviet Union',\n",
       " 'categorypopulated_places_established_in_1811',\n",
       " 'filelatourdecarol_station__20040202jpg',\n",
       " 'categoryalberto_giacometti',\n",
       " 'polyhedronngonal',\n",
       " 'rmi_simon',\n",
       " 'successor3jonathan',\n",
       " u'list_of_formula_one_world_drivers039_champions',\n",
       " 'agent_orange_act',\n",
       " 'categorypeople_from_poissy',\n",
       " 'ASIC (disambiguation)',\n",
       " 'arm37f7f7f',\n",
       " 'db00182',\n",
       " 'Canis Major',\n",
       " 'Climbing',\n",
       " 'categorytreaties_of_vietnam',\n",
       " 'grand_duke_alexander_alexandrovich_of_russia',\n",
       " 'tritubercular',\n",
       " 'filedeseret_small_engsvg',\n",
       " 'dose__lrb_album_rrb_',\n",
       " 'categorytreaties_of_guineabissau',\n",
       " 'categoryattic_orators',\n",
       " 'categoryenglish_pirates',\n",
       " 'imagecipro_250_mgjpg',\n",
       " 'filewoolley_holding_the_hardened_plaster_mold_of_a_lyrejpg',\n",
       " 'streptomyces_venezuelae',\n",
       " 'filecommonwealth_unite_1653_692157jpg',\n",
       " 'categoryhistory_of_baseball',\n",
       " 'deathsusan',\n",
       " 'imagedestruction_of_leviathanpng',\n",
       " 'major_league_baseball_allstar_gametie_games_rain_delays_and_homefield_advantage_in_world_series',\n",
       " 'imagedotsandboxeschainspng',\n",
       " 'Colombia',\n",
       " 'categorywriters_from_new_jersey',\n",
       " 'category1998_establishments_in_the_united_states',\n",
       " u'colletes_inaequalis',\n",
       " 'the_beyman_bros',\n",
       " u'asimov039s_science_fiction',\n",
       " 'wiktraison_dtre',\n",
       " '323893',\n",
       " 'softwaretechnology',\n",
       " 'charles_sanders_peirce_bibliographycll',\n",
       " u'039au039asi',\n",
       " 'math_forum',\n",
       " 'categoryirishamerican_culture',\n",
       " 'wiktfreiheit',\n",
       " u'comparative_method__lrb_linguistics_rrb_',\n",
       " 'diving_weighting_systemweight_belt',\n",
       " 'fileaa_example2png',\n",
       " 'marburguniversity']"
      ]
     },
     "execution_count": 14,
     "metadata": {},
     "output_type": "execute_result"
    }
   ],
   "source": [
    "new_words[:200]"
   ]
  },
  {
   "cell_type": "code",
   "execution_count": null,
   "metadata": {
    "collapsed": false
   },
   "outputs": [
    {
     "data": {
      "text/plain": [
       "array([ 0.,  0.,  0.,  0.,  0.,  0.,  0.,  0.,  0.,  0.,  0.,  0.,  0.,\n",
       "        0.,  0.,  0.,  0.,  0.,  0.,  0.,  0.,  0.,  0.,  0.,  0.,  0.,\n",
       "        0.,  0.,  0.,  0.,  0.,  0.,  0.,  0.,  0.,  0.,  0.,  0.,  0.,\n",
       "        0.,  0.,  0.,  0.,  0.,  0.,  0.,  0.,  0.,  0.,  0.,  0.,  0.,\n",
       "        0.,  0.,  0.,  0.,  0.,  0.,  0.,  0.,  0.,  0.,  0.,  0.,  0.,\n",
       "        0.,  0.,  0.,  0.,  0.,  0.,  0.,  0.,  0.,  0.,  0.,  0.,  0.,\n",
       "        0.,  0.,  0.,  0.,  0.,  0.,  0.,  0.,  0.,  0.,  0.,  0.,  0.,\n",
       "        0.,  0.,  0.,  0.,  0.,  0.,  0.,  0.,  0.,  0.,  0.,  0.,  0.,\n",
       "        0.,  0.,  0.,  0.,  0.,  0.,  0.,  0.,  0.,  0.,  0.,  0.,  0.,\n",
       "        0.,  0.,  0.,  0.,  0.,  0.,  0.,  0.,  0.,  0.,  0.,  0.,  0.,\n",
       "        0.,  0.,  0.,  0.,  0.,  0.,  0.,  0.,  0.,  0.,  0.,  0.,  0.,\n",
       "        0.,  0.,  0.,  0.,  0.,  0.,  0.,  0.,  0.,  0.,  0.,  0.,  0.,\n",
       "        0.,  0.,  0.,  0.,  0.,  0.,  0.,  0.,  0.,  0.,  0.,  0.,  0.,\n",
       "        0.,  0.,  0.,  0.,  0.,  0.,  0.,  0.,  0.,  0.,  0.,  0.,  0.,\n",
       "        0.,  0.,  0.,  0.,  0.,  0.,  0.,  0.,  0.,  0.,  0.,  0.,  0.,\n",
       "        0.,  0.,  0.,  0.,  0.])"
      ]
     },
     "execution_count": 15,
     "metadata": {},
     "output_type": "execute_result"
    }
   ],
   "source": [
    "wordvectors['michael_gross__lrb_actor_rrb_']"
   ]
  },
  {
   "cell_type": "code",
   "execution_count": null,
   "metadata": {
    "collapsed": false
   },
   "outputs": [],
   "source": [
    "wikiexp.train()"
   ]
  },
  {
   "cell_type": "code",
   "execution_count": null,
   "metadata": {
    "collapsed": true
   },
   "outputs": [],
   "source": [
    "for i in xrange(15):\n",
    "    wikiexp.train()"
   ]
  },
  {
   "cell_type": "code",
   "execution_count": 19,
   "metadata": {
    "collapsed": false
   },
   "outputs": [
    {
     "data": {
      "text/plain": [
       "1540000"
      ]
     },
     "execution_count": 19,
     "metadata": {},
     "output_type": "execute_result"
    }
   ],
   "source": [
    "wikiexp.sample_cnt"
   ]
  },
  {
   "cell_type": "code",
   "execution_count": 18,
   "metadata": {
    "collapsed": false
   },
   "outputs": [
    {
     "data": {
      "text/plain": [
       "[]"
      ]
     },
     "execution_count": 18,
     "metadata": {},
     "output_type": "execute_result"
    }
   ],
   "source": [
    "wikiexp.train_res"
   ]
  },
  {
   "cell_type": "code",
   "execution_count": 19,
   "metadata": {
    "collapsed": false
   },
   "outputs": [
    {
     "data": {
      "text/plain": [
       "620000"
      ]
     },
     "execution_count": 19,
     "metadata": {},
     "output_type": "execute_result"
    }
   ],
   "source": [
    "wikiexp.sample_cnt"
   ]
  },
  {
   "cell_type": "code",
   "execution_count": 20,
   "metadata": {
    "collapsed": false
   },
   "outputs": [
    {
     "data": {
      "text/plain": [
       "0.70413663586989894"
      ]
     },
     "execution_count": 20,
     "metadata": {},
     "output_type": "execute_result"
    }
   ],
   "source": [
    "wikiexp.loss_sum / wikiexp.sample_cnt"
   ]
  },
  {
   "cell_type": "code",
   "execution_count": 21,
   "metadata": {
    "collapsed": false
   },
   "outputs": [
    {
     "data": {
      "text/plain": [
       "0.5227766233766233"
      ]
     },
     "execution_count": 21,
     "metadata": {},
     "output_type": "execute_result"
    }
   ],
   "source": [
    "float(wikiexp.diff_sum) / wikiexp.sample_cnt"
   ]
  },
  {
   "cell_type": "code",
   "execution_count": 21,
   "metadata": {
    "collapsed": false
   },
   "outputs": [
    {
     "data": {
      "text/plain": [
       "2010488"
      ]
     },
     "execution_count": 21,
     "metadata": {},
     "output_type": "execute_result"
    }
   ],
   "source": [
    "len(wordvectors.vectors) - 4850513"
   ]
  },
  {
   "cell_type": "code",
   "execution_count": 23,
   "metadata": {
    "collapsed": false
   },
   "outputs": [
    {
     "data": {
      "text/plain": [
       "[None,\n",
       " 'anarchism',\n",
       " 'is',\n",
       " 'a',\n",
       " 'political',\n",
       " 'philosophy',\n",
       " 'that',\n",
       " 'advocates',\n",
       " 'stateless',\n",
       " 'societies',\n",
       " 'often',\n",
       " 'defined',\n",
       " 'as',\n",
       " 'selfgoverned',\n",
       " 'voluntary',\n",
       " 'institutions',\n",
       " 'but',\n",
       " 'several',\n",
       " 'authors',\n",
       " 'have',\n",
       " 'more',\n",
       " 'specific',\n",
       " 'based',\n",
       " 'on',\n",
       " 'nonhierarchical',\n",
       " 'free',\n",
       " 'associations',\n",
       " 'holds',\n",
       " 'the',\n",
       " 'state',\n",
       " 'to',\n",
       " 'be',\n",
       " 'undesirable',\n",
       " 'unnecessary',\n",
       " 'or',\n",
       " 'harmfulthe',\n",
       " 'following',\n",
       " 'sources',\n",
       " 'cite',\n",
       " 'while',\n",
       " 'antistatism',\n",
       " 'central',\n",
       " 'entails',\n",
       " 'opposing',\n",
       " 'authority',\n",
       " 'hierarchical',\n",
       " 'organisation',\n",
       " 'in',\n",
       " 'conduct',\n",
       " 'of',\n",
       " 'human',\n",
       " 'relations',\n",
       " 'including',\n",
       " 'not',\n",
       " 'limited',\n",
       " 'systemas',\n",
       " 'subtle',\n",
       " 'and',\n",
       " 'antidogmatic',\n",
       " 'draws',\n",
       " 'many',\n",
       " 'currents',\n",
       " 'thought',\n",
       " 'strategy',\n",
       " 'does',\n",
       " 'offer',\n",
       " 'fixed',\n",
       " 'body',\n",
       " 'doctrine',\n",
       " 'from',\n",
       " 'single',\n",
       " 'particular',\n",
       " 'world',\n",
       " 'view',\n",
       " 'instead',\n",
       " 'fluxing',\n",
       " 'flowing',\n",
       " 'there',\n",
       " 'are',\n",
       " 'types',\n",
       " 'traditions',\n",
       " 'all',\n",
       " 'which',\n",
       " 'mutually',\n",
       " 'exclusive',\n",
       " 'anarchist',\n",
       " 'schools',\n",
       " 'can',\n",
       " 'differ',\n",
       " 'fundamentally',\n",
       " 'supporting',\n",
       " 'anything',\n",
       " 'extreme',\n",
       " 'individualism',\n",
       " 'complete',\n",
       " 'collectivism',\n",
       " 'strains',\n",
       " 'been',\n",
       " 'divided',\n",
       " 'into',\n",
       " 'categories',\n",
       " 'social',\n",
       " 'individualist',\n",
       " 'similar',\n",
       " 'dual',\n",
       " 'classifications',\n",
       " 'usually',\n",
       " 'considered',\n",
       " 'radical',\n",
       " 'leftwing',\n",
       " 'ideology',\n",
       " 'much',\n",
       " 'economics',\n",
       " 'legal',\n",
       " 'reflect',\n",
       " 'antiauthoritarian',\n",
       " 'interpretations',\n",
       " 'communism',\n",
       " 'syndicalism',\n",
       " 'mutualism',\n",
       " 'participatory',\n",
       " 'economicsthe',\n",
       " 'tendency',\n",
       " 'movement',\n",
       " 'has',\n",
       " 'represented',\n",
       " 'by',\n",
       " 'anarchocommunism',\n",
       " 'Anarchism',\n",
       " ('political_philosophy', 'political philosophy'),\n",
       " ('stateless_society', 'stateless societies'),\n",
       " ('self-governance', 'self-governed'),\n",
       " ('hierarchy', 'hierarchical'),\n",
       " ('free_association_(communism_and_anarchism)', 'free associations'),\n",
       " ('peter_kropotkin', 'Peter Kropotkin'),\n",
       " ('an_anarchist_faq', 'An Anarchist FAQ'),\n",
       " ('state_(polity)', 'state'),\n",
       " ('the_globe_and_mail', 'The Globe and Mail'),\n",
       " ('routledge_encyclopedia_of_philosophy',\n",
       "  'Routledge Encyclopedia of Philosophy'),\n",
       " ('authority', 'authority'),\n",
       " ('hierarchical_organisation', 'hierarchical organisation'),\n",
       " ('international_of_anarchist_federations',\n",
       "  'International of Anarchist Federations'),\n",
       " ('murray_bookchin', 'Murray Bookchin'),\n",
       " ('emma_goldman', 'Emma Goldman'),\n",
       " ('anarchism_and_other_essays', 'Anarchism and Other Essays'),\n",
       " ('benjamin_tucker', 'Benjamin Tucker'),\n",
       " ('george_woodcock', 'George Woodcock'),\n",
       " ('mikhail_bakunin', 'Mikhail Bakunin'),\n",
       " ('anarchist_schools_of_thought', 'Anarchist schools of thought'),\n",
       " ('individualism', 'individualism'),\n",
       " ('social_anarchism', 'social'),\n",
       " ('individualist_anarchism', 'individualist anarchism'),\n",
       " ('geoffrey_ostergaard', 'Ostergaard, Geoffrey'),\n",
       " ('the_new_york_times', 'The New York Times'),\n",
       " ('anarchist_economics', 'anarchist economics'),\n",
       " ('anarchist_law', 'anarchist legal philosophy'),\n",
       " ('libertarian_socialism', 'anti-authoritarian interpretations'),\n",
       " ('anarcho-communism', 'communism'),\n",
       " ('collectivist_anarchism', 'collectivism'),\n",
       " ('anarcho-syndicalism', 'syndicalism'),\n",
       " ('mutualism_(economic_theory)', 'mutualism'),\n",
       " ('participatory_economics', 'participatory economics'),\n",
       " ('anarchist_communism', 'anarcho-communism'),\n",
       " ('anarcho-syndicalism', 'anarcho-syndicalism'),\n",
       " ('alexandre_skirda', 'Skirda, Alexandre'),\n",
       " ('anarcho-communist', 'anarcho-communist'),\n",
       " ('anarcho-syndicalist', 'anarcho-syndicalist'),\n",
       " ('confederaci\\xc3\\xb3n_nacional_del_trabajo', 'CNT'),\n",
       " ('federico_urales', 'Federico Urales'),\n",
       " ('miguel_gimenez_igualada', 'Miguel Gimenez Igualada'),\n",
       " ('iberian_anarchist_federation', 'Iberian Anarchist Federation'),\n",
       " ('synthesis_anarchism', 'synthesist'),\n",
       " ('f\\xc3\\xa9d\\xc3\\xa9ration_anarchiste',\n",
       "  'F\\xc3\\xa9d\\xc3\\xa9ration Anarchiste'),\n",
       " ('charles-auguste_bontemps', 'Charles-Auguste Bontemps'),\n",
       " ('italian_anarchist_federation', 'Italian Anarchist Federation'),\n",
       " ('self-defense', 'self-defense'),\n",
       " ('non-violence', 'non-violence'),\n",
       " ('anarcho-pacifism', 'anarcho-pacifism'),\n",
       " ('coercion', 'coercive'),\n",
       " ('propaganda_of_the_deed', 'propaganda of the deed'),\n",
       " ('wikt:anarchism', 'anarchism'),\n",
       " ('anarchy', 'anarchy'),\n",
       " ('-ism', '-ism'),\n",
       " ('online_etymology_dictionary', 'Online etymology dictionary'),\n",
       " ('merriam-webster', 'Merriam-Webster'),\n",
       " ('privative', 'privative'),\n",
       " ('privative_alpha', '\\xe1\\xbc\\x80\\xce\\xbd'),\n",
       " ('archon', 'archon'),\n",
       " ('infinitive', 'infinitive'),\n",
       " ('maximilien_de_robespierre', 'Maximilien de Robespierre'),\n",
       " ('william_godwin', 'William Godwin'),\n",
       " ('wilhelm_weitling', 'Wilhelm Weitling'),\n",
       " ('pierre-joseph_proudhon', 'Pierre-Joseph Proudhon'),\n",
       " ('daniel_gu\\xc3\\xa9rin', 'Daniel Gu\\xc3\\xa9rin'),\n",
       " ('foundation_for_economic_education', 'Foundation for Economic Education'),\n",
       " ('dwight_macdonald', 'Dwight Macdonald'),\n",
       " ('george_woodcock', 'Woodcock, George'),\n",
       " ('libertarianism', 'libertarianism'),\n",
       " ('libertarian_anarchism', 'libertarian anarchism'),\n",
       " ('market_economy', 'market society')]"
      ]
     },
     "execution_count": 23,
     "metadata": {},
     "output_type": "execute_result"
    }
   ],
   "source": [
    "wordvectors.reverse_word_location[:200]"
   ]
  },
  {
   "cell_type": "code",
   "execution_count": null,
   "metadata": {
    "collapsed": true
   },
   "outputs": [],
   "source": []
  }
 ],
 "metadata": {
  "kernelspec": {
   "display_name": "Python 2",
   "language": "python",
   "name": "python2"
  },
  "language_info": {
   "codemirror_mode": {
    "name": "ipython",
    "version": 2
   },
   "file_extension": ".py",
   "mimetype": "text/x-python",
   "name": "python",
   "nbconvert_exporter": "python",
   "pygments_lexer": "ipython2",
   "version": "2.7.5"
  }
 },
 "nbformat": 4,
 "nbformat_minor": 0
}
