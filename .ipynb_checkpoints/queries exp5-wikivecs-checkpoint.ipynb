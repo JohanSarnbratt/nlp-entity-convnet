{
 "cells": [
  {
   "cell_type": "code",
   "execution_count": 1,
   "metadata": {
    "collapsed": true
   },
   "outputs": [],
   "source": [
    "%load_ext autoreload\n",
    "%autoreload 2"
   ]
  },
  {
   "cell_type": "code",
   "execution_count": 2,
   "metadata": {
    "collapsed": false
   },
   "outputs": [
    {
     "name": "stdout",
     "output_type": "stream",
     "text": [
      "Couldn't import dot_parser, loading of dot files will not be possible.\n"
     ]
    }
   ],
   "source": [
    "from theano import *\n",
    "from lasagne.layers import InputLayer, get_output\n",
    "import lasagne\n",
    "import lasagne.layers\n",
    "import theano.tensor as T\n",
    "import theano\n",
    "import numpy as np\n",
    "from helpers import SimpleMaxingLayer, SimpleAverageLayer\n",
    "from wordvecs import WordVectors, EmbeddingLayer\n",
    "import json\n",
    "import re\n",
    "\n",
    "theano.config.floatX = 'float32'\n",
    "#theano.config.linker = 'cvm_nogc'\n",
    "theano.config.openmp = True\n",
    "theano.config.openmp_elemwise_minsize = 20000"
   ]
  },
  {
   "cell_type": "code",
   "execution_count": 3,
   "metadata": {
    "collapsed": true
   },
   "outputs": [],
   "source": [
    "with open('/data/matthew/external-wiki2.json') as f:\n",
    "    queries = json.load(f)['queries']"
   ]
  },
  {
   "cell_type": "code",
   "execution_count": 4,
   "metadata": {
    "collapsed": false
   },
   "outputs": [
    {
     "data": {
      "text/plain": [
       "9915"
      ]
     },
     "execution_count": 4,
     "metadata": {},
     "output_type": "execute_result"
    }
   ],
   "source": [
    "len(queries)"
   ]
  },
  {
   "cell_type": "code",
   "execution_count": 5,
   "metadata": {
    "collapsed": false
   },
   "outputs": [
    {
     "data": {
      "text/plain": [
       "8917"
      ]
     },
     "execution_count": 5,
     "metadata": {},
     "output_type": "execute_result"
    }
   ],
   "source": [
    "sum([any([g['gold'] for g in v.values()]) for v in queries.values()])"
   ]
  },
  {
   "cell_type": "code",
   "execution_count": 6,
   "metadata": {
    "collapsed": false
   },
   "outputs": [],
   "source": [
    "wordvectors = WordVectors(\n",
    "    fname=\"/data/matthew/enwiki-20141208-pages-articles-multistream-links5-output1.bin\",\n",
    "    redir_fname='/data/matthew/enwiki-20141208-pages-articles-multistream-redirects5.json',\n",
    "    negvectors=False,\n",
    "    sentence_length=200,\n",
    ")\n",
    "wordvectors.add_unknown_words = False"
   ]
  },
  {
   "cell_type": "code",
   "execution_count": 7,
   "metadata": {
    "collapsed": false
   },
   "outputs": [],
   "source": [
    "# with open('/data/matthew/enwiki-20141208-pages-articles-multistream-redirects5.json') as f:\n",
    "#     page_redirects = json.load(f)\n",
    "page_redirects = wordvectors.redirects"
   ]
  },
  {
   "cell_type": "code",
   "execution_count": 8,
   "metadata": {
    "collapsed": false
   },
   "outputs": [
    {
     "data": {
      "text/plain": [
       "4613263"
      ]
     },
     "execution_count": 8,
     "metadata": {},
     "output_type": "execute_result"
    }
   ],
   "source": [
    "len(wordvectors.vectors)"
   ]
  },
  {
   "cell_type": "code",
   "execution_count": 9,
   "metadata": {
    "collapsed": false
   },
   "outputs": [],
   "source": [
    "from wikireader import WikiRegexes, WikipediaReader"
   ]
  },
  {
   "cell_type": "code",
   "execution_count": 10,
   "metadata": {
    "collapsed": false
   },
   "outputs": [],
   "source": [
    "def PreProcessedQueries(wikipedia_dump_fname, wordvec=wordvectors, queries=queries, redirects=page_redirects):\n",
    "    \n",
    "    get_words = re.compile('[^a-zA-Z0-9 ]')\n",
    "    get_link = re.compile('.*?\\[(.*?)\\].*?')\n",
    "    \n",
    "    queried_pages = set()\n",
    "    for docs, q in queries.iteritems():\n",
    "        wordvec.tokenize(docs, length=200)\n",
    "        for sur, v in q.iteritems():\n",
    "            wrds_sur = get_words.sub(' ', sur)\n",
    "            wordvec.tokenize(wrds_sur)\n",
    "            link_sur = get_link.match(sur).group(1)\n",
    "            wordvec.tokenize(link_sur)\n",
    "            for link in v['vals'].keys():\n",
    "                wrds = get_words.sub(' ', link)\n",
    "                wordvec.tokenize(wrds)\n",
    "                tt = WikiRegexes.convertToTitle(link)\n",
    "                wordvec.get_location(tt)\n",
    "                queried_pages.add(tt)\n",
    "\n",
    "    added_pages = set()\n",
    "    for title in queried_pages:\n",
    "        if title in redirects:\n",
    "            #wordvec.tokenize(self.redirects[title])\n",
    "            added_pages.add(redirects[title])\n",
    "    queried_pages |= added_pages\n",
    "\n",
    "    page_content = {}\n",
    "\n",
    "#     class GetWikipediaWords(WikipediaReader, WikiRegexes):\n",
    "\n",
    "#         def readPage(ss, title, content):\n",
    "#             tt = ss.convertToTitle(title)\n",
    "#             if tt in queried_pages:\n",
    "#                 cnt = ss._wikiToText(content)\n",
    "#                 page_content[tt] = wordvec.tokenize(cnt)\n",
    "\n",
    "#     GetWikipediaWords(wikipedia_dump_fname).read()\n",
    "    \n",
    "    rr = redirects\n",
    "    rq = queried_pages\n",
    "    rc = page_content\n",
    "\n",
    "    class PreProcessedQueriesCls(object):\n",
    "        \n",
    "        wordvecs = wordvec\n",
    "        queries = queries\n",
    "        redirects = rr\n",
    "        queried_pages = rq\n",
    "        page_content = rc\n",
    "        \n",
    "        \n",
    "    return PreProcessedQueriesCls"
   ]
  },
  {
   "cell_type": "code",
   "execution_count": 11,
   "metadata": {
    "collapsed": false
   },
   "outputs": [],
   "source": [
    "basePreProcessedQueries = PreProcessedQueries('/data/matthew/enwiki-20141208-pages-articles-multistream.xml')"
   ]
  },
  {
   "cell_type": "code",
   "execution_count": 12,
   "metadata": {
    "collapsed": false
   },
   "outputs": [
    {
     "data": {
      "text/plain": [
       "4613263"
      ]
     },
     "execution_count": 12,
     "metadata": {},
     "output_type": "execute_result"
    }
   ],
   "source": [
    "len(wordvectors.vectors)"
   ]
  },
  {
   "cell_type": "code",
   "execution_count": 18,
   "metadata": {
    "collapsed": false
   },
   "outputs": [],
   "source": [
    "class EntityVectorLinkExp(basePreProcessedQueries):\n",
    "    \n",
    "    batch_size = 1000 #20000\n",
    "    num_training_items = 500000 #200000\n",
    "    \n",
    "    def __init__(self): #, wikipedia_dump_fname, wordvec=wordvectors, queries=queries, redirects=page_redirects):\n",
    "        #self.wordvecs = wordvec\n",
    "        #self.queries = queries\n",
    "        self.sentence_length = self.wordvecs.sentence_length\n",
    "        self.document_length = 100\n",
    "        self.num_words_to_use_conv = 5\n",
    "        #self.redirects = redirects\n",
    "        #self.page_content = {}\n",
    "        #self.wikipedia_dump_fname = wikipedia_dump_fname\n",
    "        \n",
    "        #self._process_queries()\n",
    "        \n",
    "        self._setup()\n",
    "        \n",
    "#     def _process_queries(self):\n",
    "#         queried_pages = set()\n",
    "#         for docs, q in self.queries.iteritems():\n",
    "#             self.wordvecs.tokenize(docs)\n",
    "#             for sur, v in q.iteritems():\n",
    "#                 self.wordvecs.tokenize(sur)\n",
    "#                 for link in v['vals'].keys():\n",
    "#                     self.wordvecs.tokenize(link)\n",
    "#                     tt = WikiRegexes.convertToTitle(link)\n",
    "#                     #self.wordvecs.tokenize(tt)\n",
    "#                     queried_pages.add(tt)\n",
    "\n",
    "#         added_pages = set()\n",
    "#         for title in queried_pages:\n",
    "#             if title in self.redirects:\n",
    "#                 #self.wordvecs.tokenize(self.redirects[title])\n",
    "#                 added_pages.add(self.redirects[title])\n",
    "#         queried_pages |= added_pages\n",
    "        \n",
    "#         self.queried_pages = queried_pages\n",
    "                \n",
    "#         class GetWikipediaWords(WikipediaReader, WikiRegexes):\n",
    "            \n",
    "#             def readPage(ss, title, content):\n",
    "#                 tt = ss.convertToTitle(title)\n",
    "#                 if tt in queried_pages:\n",
    "#                     cnt = ss._wikiToText(content)\n",
    "#                     self.page_content[tt] = self.wordvecs.tokenize(cnt)\n",
    "        \n",
    "#         GetWikipediaWords(self.wikipedia_dump_fname).read()\n",
    "               \n",
    "        \n",
    "    def _setup(self):\n",
    "        self.x_document_input = T.imatrix('x_doc')\n",
    "        \n",
    "        self.x_document_id = T.ivector('x_doc_id')\n",
    "        self.x_surface_text_input = T.imatrix('x_surface_link')\n",
    "        self.x_surface_context_input = T.imatrix('x_surface_cxt')  # TODO\n",
    "        \n",
    "        self.x_target_input = T.ivector('x_target')\n",
    "        self.x_target_words = T.imatrix('x_target_words')\n",
    "        self.x_matches_surface = T.ivector('x_match_surface')\n",
    "        self.x_link_id = T.ivector('x_link_id')\n",
    "        \n",
    "        #self.y_score = T.vector('y')\n",
    "        self.y_answer = T.ivector('y_ans')  # contains the location of the gold answer so we can compute the loss\n",
    "        self.y_grouping = T.imatrix('y_grouping')\n",
    "        \n",
    "        \n",
    "        self.embedding_W = theano.shared(self.wordvecs.get_numpy_matrix().astype(theano.config.floatX))\n",
    "        \n",
    "        self.document_l = lasagne.layers.InputLayer(\n",
    "            (None,self.document_length), \n",
    "            input_var=self.x_document_input\n",
    "        )\n",
    "    \n",
    "        self.document_embedding_l = EmbeddingLayer(\n",
    "            self.document_l,\n",
    "            W=self.embedding_W,\n",
    "            add_word_params=False,\n",
    "        )\n",
    "        \n",
    "        self.document_conv1_l = lasagne.layers.Conv2DLayer(\n",
    "            self.document_embedding_l,\n",
    "            num_filters=500,\n",
    "            filter_size=(self.num_words_to_use_conv, self.wordvecs.vector_size),\n",
    "            name='document_conv1',\n",
    "            nonlinearity=lasagne.nonlinearities.tanh,\n",
    "        )\n",
    "        \n",
    "        self.document_max_l = lasagne.layers.Pool2DLayer(\n",
    "            self.document_conv1_l,\n",
    "            name='document_pool1',\n",
    "            pool_size=(self.document_length - self.num_words_to_use_conv, 1),\n",
    "            mode='sum',\n",
    "        )\n",
    "\n",
    "        self.document_dens1 = lasagne.layers.DenseLayer(\n",
    "            self.document_max_l,\n",
    "            num_units=250,\n",
    "            name='doucment_dens1',\n",
    "            nonlinearity=lasagne.nonlinearities.tanh,\n",
    "        )\n",
    "        \n",
    "        self.document_drop1 = lasagne.layers.DropoutLayer(\n",
    "            self.document_dens1,\n",
    "            p=.25,\n",
    "        )\n",
    "        \n",
    "        document_output_length = 200\n",
    "        \n",
    "        self.document_dens2 = lasagne.layers.DenseLayer(\n",
    "            self.document_drop1,\n",
    "            num_units=225,\n",
    "            name='document_dens2',\n",
    "            nonlinearity=lasagne.nonlinearities.tanh,\n",
    "        )\n",
    "        \n",
    "        self.document_drop2 = lasagne.layers.DropoutLayer(\n",
    "            self.document_dens2,\n",
    "            p=.25,\n",
    "        )\n",
    "        \n",
    "        self.document_dens3 = lasagne.layers.DenseLayer(\n",
    "            self.document_drop2,\n",
    "            num_units=document_output_length,\n",
    "            name='document_dens3',\n",
    "            nonlinearity=lasagne.nonlinearities.tanh,\n",
    "        )\n",
    "        \n",
    "        self.document_output = lasagne.layers.get_output(self.document_dens3)\n",
    "        \n",
    "        self.surface_context_l = lasagne.layers.InputLayer(\n",
    "            (None, self.sentence_length),\n",
    "            input_var=self.x_surface_context_input,\n",
    "        )\n",
    "        \n",
    "        self.surface_context_embedding_l = EmbeddingLayer(\n",
    "            self.surface_context_l,\n",
    "            W=self.embedding_W,\n",
    "            add_word_params=False,\n",
    "        )\n",
    "        \n",
    "        self.surface_context_conv1_l = lasagne.layers.Conv2DLayer(\n",
    "            self.surface_context_embedding_l,\n",
    "            num_filters=300,\n",
    "            filter_size=(self.num_words_to_use_conv, self.wordvecs.vector_size),\n",
    "            name='surface_cxt_conv1',\n",
    "            nonlinearity=lasagne.nonlinearities.tanh,\n",
    "        )\n",
    "        \n",
    "#         self.surface_context_avg1_l = SimpleAverageLayer(\n",
    "#             [self.surface_context_conv1_l, self.surface_context_l],\n",
    "#             #name='surface_context_avg'\n",
    "#         )\n",
    "        \n",
    "        self.surface_context_pool1_l = lasagne.layers.Pool2DLayer(\n",
    "            self.surface_context_conv1_l,\n",
    "            name='surface_cxt_pool1',\n",
    "            pool_size=(self.sentence_length - self.num_words_to_use_conv, 1),\n",
    "            mode='sum',\n",
    "        )\n",
    "                \n",
    "        self.surface_input_l = lasagne.layers.InputLayer(\n",
    "            (None, self.sentence_length), \n",
    "            input_var=self.x_surface_text_input\n",
    "        )\n",
    "        \n",
    "        self.surface_embedding_l = EmbeddingLayer(\n",
    "            self.surface_input_l,\n",
    "            W=self.embedding_W,\n",
    "            add_word_params=False,\n",
    "        )\n",
    "        \n",
    "        self.surface_conv1_l = lasagne.layers.Conv2DLayer(\n",
    "            self.surface_embedding_l,\n",
    "            num_filters=300,\n",
    "            filter_size=(self.num_words_to_use_conv, self.wordvecs.vector_size),\n",
    "            name='surface_conv1',\n",
    "            nonlinearity=lasagne.nonlinearities.tanh,\n",
    "        )\n",
    "        \n",
    "#         self.surface_avg1_l = SimpleAverageLayer(\n",
    "#             [self.surface_conv1_l, self.surface_input_l],\n",
    "#             #name='surface_avg'\n",
    "#         )\n",
    "        \n",
    "        self.surface_pool1_l = lasagne.layers.Pool2DLayer(\n",
    "            self.surface_conv1_l,\n",
    "            name='surface_pool1',\n",
    "            pool_size=(self.sentence_length - self.num_words_to_use_conv, 1),\n",
    "            mode='sum',\n",
    "        )\n",
    "        \n",
    "        self.surface_merged_l = lasagne.layers.ConcatLayer(\n",
    "            [self.surface_context_pool1_l, self.surface_pool1_l]\n",
    "        )\n",
    "        \n",
    "        self.surface_dens1 = lasagne.layers.DenseLayer(\n",
    "            self.surface_merged_l,\n",
    "            name='surface_dens1',\n",
    "            num_units=250,\n",
    "            nonlinearity=lasagne.nonlinearities.tanh,\n",
    "        )\n",
    "        \n",
    "#         self.surface_drop1 = lasagne.layers.DropoutLayer(\n",
    "#             self.surface_dens1,\n",
    "#             p=.25,\n",
    "#         )\n",
    "        \n",
    "#         self.surface_dens2 = lasagne.layers.DenseLayer(\n",
    "#             self.surface_drop1,\n",
    "#             name='surface_dens2',\n",
    "#             num_units=200,\n",
    "#             nonlinearity=lasagne.nonlinearities.tanh,\n",
    "#         )\n",
    "        \n",
    "        self.document_aligned_l = InputLayer(\n",
    "            (None, document_output_length),\n",
    "            input_var=self.document_output[self.x_document_id,:]\n",
    "        )\n",
    "        \n",
    "        self.source_l = lasagne.layers.ConcatLayer(\n",
    "            [self.document_aligned_l, self.surface_dens1]\n",
    "        )\n",
    "        \n",
    "        self.source_dens1 = lasagne.layers.DenseLayer(\n",
    "            self.source_l,\n",
    "            num_units=300,\n",
    "            name='source_dens1',\n",
    "            nonlinearity=lasagne.nonlinearities.tanh,\n",
    "        )\n",
    "        \n",
    "        self.source_drop1 = lasagne.layers.DropoutLayer(\n",
    "            self.source_dens1,\n",
    "            p=.25,\n",
    "        )\n",
    "        \n",
    "        self.source_dens12 = lasagne.layers.DenseLayer(\n",
    "            self.source_drop1,\n",
    "            num_units=250,\n",
    "            name='source_dens12',\n",
    "            nonlinearity=lasagne.nonlinearities.tanh,\n",
    "        )\n",
    "        \n",
    "        self.source_drop12 = lasagne.layers.DropoutLayer(\n",
    "            self.source_dens12,\n",
    "            p=.25,\n",
    "        )\n",
    "        \n",
    "        compared_vector_size = self.wordvecs.vector_size #+ 2 # extra space for if it matches the surface text\n",
    "        \n",
    "        self.source_dens2 = lasagne.layers.DenseLayer(\n",
    "            self.source_drop12,\n",
    "            num_units=compared_vector_size,  # this is the same size as the learned wikipedia vectors\n",
    "            name='source_dens2',\n",
    "            nonlinearity=lasagne.nonlinearities.linear,\n",
    "        )\n",
    "        \n",
    "        self.source_out = lasagne.layers.get_output(self.source_dens2)\n",
    "        \n",
    "        self.target_input_l = lasagne.layers.InputLayer(\n",
    "            (None,),\n",
    "            input_var=self.x_target_input\n",
    "        )\n",
    "        \n",
    "        self.target_embedding_l = EmbeddingLayer(\n",
    "            lasagne.layers.reshape(self.target_input_l, ([0], 1)),\n",
    "            W=self.embedding_W,\n",
    "            add_word_params=False,\n",
    "        )\n",
    "        \n",
    "        self.target_words_input_l = lasagne.layers.InputLayer(\n",
    "            (None,self.sentence_length),\n",
    "            input_var=self.x_target_words,\n",
    "        )\n",
    "        \n",
    "        self.target_words_embedding_l = EmbeddingLayer(\n",
    "            self.target_words_input_l,\n",
    "            W=self.embedding_W,\n",
    "            add_word_params=False,\n",
    "        )\n",
    "        \n",
    "        self.target_words_conv1_l = lasagne.layers.Conv2DLayer(\n",
    "            self.target_words_embedding_l,\n",
    "            name='target_wrds_conv1',\n",
    "            filter_size=(self.num_words_to_use_conv, self.wordvecs.vector_size),\n",
    "            num_filters=350,\n",
    "            nonlinearity=lasagne.nonlinearities.tanh,\n",
    "        )\n",
    "        \n",
    "        self.target_words_pool1_l = lasagne.layers.Pool2DLayer(\n",
    "            self.target_words_conv1_l,\n",
    "            name='target_wrds_pool1',\n",
    "            pool_size=(self.sentence_length - self.num_words_to_use_conv, 1),\n",
    "            mode='sum',\n",
    "        )\n",
    "        \n",
    "        self.target_merge_l = lasagne.layers.ConcatLayer(\n",
    "            [lasagne.layers.reshape(self.target_words_pool1_l, ([0], [1])),\n",
    "             lasagne.layers.reshape(self.target_embedding_l, ([0], [3]))]\n",
    "        )\n",
    "        \n",
    "        self.target_dens1 = lasagne.layers.DenseLayer(\n",
    "            self.target_merge_l,\n",
    "            name='target_wrds_dens1',\n",
    "            num_units=400,\n",
    "            nonlinearity=lasagne.nonlinearities.tanh,\n",
    "        )\n",
    "        \n",
    "        self.target_drop1 = lasagne.layers.DropoutLayer(\n",
    "            self.target_dens1,\n",
    "            p=.25,\n",
    "        )\n",
    "        \n",
    "        self.target_dens2 = lasagne.layers.DenseLayer(\n",
    "            self.target_drop1,\n",
    "            name='target_wrds_dens1',\n",
    "            num_units=compared_vector_size,\n",
    "            nonlinearity=lasagne.nonlinearities.linear,\n",
    "        )\n",
    "        \n",
    "        self.target_simple = lasagne.layers.DenseLayer(\n",
    "            self.target_embedding_l,\n",
    "            name='target_simple1',\n",
    "            num_units=compared_vector_size,\n",
    "            nonlinearity=lasagne.nonlinearities.linear,\n",
    "        )\n",
    "        \n",
    "#         self.target_dens1 = lasagne.layers.DenseLayer(\n",
    "#             self.target_conv1_l,\n",
    "#             name='target_dens1',\n",
    "#             num_units=300,\n",
    "#             nonlinearity=lasagne.nonlinearities.tanh,\n",
    "#         )\n",
    "        \n",
    "#         self.target_drop1 = lasagne.layers.DropoutLayer(\n",
    "#             self.target_dens1,\n",
    "#             p=.25,\n",
    "#         )\n",
    "        \n",
    "#         self.target_dens2 = lasagne.layers.DenseLayer(\n",
    "#             self.target_drop1,\n",
    "#             name='target_dens2',\n",
    "#             num_units=300,\n",
    "#             nonlinearity=lasagne.nonlinearities.tanh,\n",
    "#         )\n",
    "        \n",
    "        \n",
    "    \n",
    "        #self.target_out = lasagne.layers.get_output(self.target_embedding_l)\n",
    "        \n",
    "        matched_surface_reshaped = self.x_matches_surface.reshape((self.x_matches_surface.shape[0], 1)).astype(theano.config.floatX)\n",
    "        \n",
    "#         self.target_out = T.concatenate(\n",
    "#             [self.embedding_W[self.x_target_input], \n",
    "#              matched_surface_reshaped,\n",
    "#             1-matched_surface_reshaped],\n",
    "#              axis=1)\n",
    "        \n",
    "        \n",
    "        #self.target_out = self.embedding_W[self.x_target_input]\n",
    "        #self.target_out = lasagne.layers.get_output(self.target_dens2)\n",
    "        self.target_out = lasagne.layers.get_output(self.target_simple)\n",
    "        \n",
    "        # compute the cosine distance between the two layers\n",
    "        self.source_aligned_l = self.source_out[self.x_link_id, :]\n",
    "        \n",
    "        # this uses scan internally, which means that it comes back into python code to run the loop.....fml\n",
    "        self.dotted_vectors =  T.batched_dot(self.target_out, self.source_aligned_l)\n",
    "        # diag also does not support a C version.........\n",
    "        #self.dotted_vectors = T.dot(self.target_out, self.source_aligned_l.T).diagonal()\n",
    "        \n",
    "        def augNorm(v):\n",
    "            return T.maximum(T.basic.pow(T.basic.pow(T.basic.abs_(v), 2).sum(axis=1) + .001, .5), .001)\n",
    "    \n",
    "        self.res_l = self.dotted_vectors / (augNorm(self.target_out) * augNorm(self.source_aligned_l) + .001)\n",
    "#         self.res_l = self.dotted_vectors / ((self.target_out.norm(1, axis=1) + .001) * \n",
    "#                                             (self.source_aligned_l.norm(1, axis=1) + .001))\n",
    "        \n",
    "        self.res_cap = T.clip((T.tanh(self.res_l) + 1) / 2, .001, .999)\n",
    "        \n",
    "        #self.golds = self.res_cap[self.y_answer]\n",
    "                \n",
    "        def maxOverRange(indx):\n",
    "            return T.max(self.res_cap[T.arange(indx[0],indx[1])]) - self.res_cap[indx[2]]\n",
    "        \n",
    "        # build a tensor to make a matrix with one set on each dimention\n",
    "        self.grouped, grouped_update = theano.scan(maxOverRange, sequences=self.y_grouping)\n",
    "        \n",
    "    \n",
    "        self.all_params = (\n",
    "            #lasagne.layers.get_all_params(self.target_dens2) +\n",
    "            # TODO: add params for the target stuff, \n",
    "            lasagne.layers.get_all_params(self.target_simple) +\n",
    "            lasagne.layers.get_all_params(self.source_dens2) +\n",
    "            lasagne.layers.get_all_params(self.document_dens2)\n",
    "        )\n",
    "        \n",
    "        # weight the positive samples more since there are fewer of them,\n",
    "        # freaking hack\n",
    "        #self.loss_vec = -(10 * self.y_score * T.log(self.res_cap) + (1.0 - self.y_score) * T.log(1.0 - self.res_cap))\n",
    "        \n",
    "        #self.loss_vec = T.nnet.binary_crossentropy(self.res_cap, self.y_score)\n",
    "        \n",
    "        #self.loss_vec = T.exp(T.max(self.res_cap - self.res_cap[self.y_answer] + .1, 0)) - 1  # TODO: maybe have some squared term here or something?\n",
    "        \n",
    "        # this one works reasonably well\n",
    "        #self.loss_vec = - T.log((T.clip(self.res_cap[self.y_answer] - self.res_cap, -1.0, 0.4) + 1.0) / 1.5)\n",
    "        \n",
    "        self.loss_vec = self.grouped\n",
    "        \n",
    "        #self.loss_vec = - T.log((T.clip(self.res_l[self.y_answer] - self.res_l, -40.0, 10.0) + 40.0) / 51.0)\n",
    "        #self.loss_vec = T.max(self.res_l[self.y_answer] - self.res_l + .1, 0)\n",
    "        \n",
    "        self.updates = lasagne.updates.adadelta(self.loss_vec.mean(), self.all_params) + grouped_update\n",
    "        \n",
    "        self.func_inputs = [\n",
    "            self.x_document_input,\n",
    "            self.x_surface_text_input, self.x_surface_context_input, self.x_document_id,\n",
    "            self.x_target_input, self.x_matches_surface, self.x_link_id, \n",
    "            self.y_answer, self.y_grouping\n",
    "        ]  # self.x_target_words,\n",
    "        \n",
    "        self.train_func = theano.function(\n",
    "            self.func_inputs,\n",
    "            [self.res_cap, self.loss_vec.sum(), self.loss_vec],\n",
    "            updates=self.updates,\n",
    "            on_unused_input='ignore',\n",
    "        )\n",
    "        \n",
    "        self.test_func = theano.function(\n",
    "            self.func_inputs,\n",
    "            [self.res_cap, self.loss_vec.sum(), self.loss_vec],\n",
    "            on_unused_input='ignore',\n",
    "        )\n",
    "        \n",
    "    def reset_accums(self):\n",
    "        self.current_documents = []\n",
    "        self.current_surface_context = []\n",
    "        self.current_surface_link = []\n",
    "        self.current_link_id = []\n",
    "        self.current_target_input = []\n",
    "        self.current_target_words = []\n",
    "        self.current_target_matches_surface = []\n",
    "        self.current_target_id = []\n",
    "        self.current_target_goal = []\n",
    "        self.current_learning_groups = []\n",
    "        self.learning_targets = []\n",
    "        \n",
    "    def compute_batch(self, isTraining=True):\n",
    "        if isTraining:\n",
    "            func = self.train_func\n",
    "        else:\n",
    "            func = self.test_func\n",
    "        self.reset_accums()\n",
    "        self.total_links = 0\n",
    "        self.total_loss = 0.0\n",
    "        \n",
    "        get_words = re.compile('[^a-zA-Z0-9 ]')\n",
    "        get_link = re.compile('.*?\\[(.*?)\\].*?')\n",
    "        \n",
    "        for doc, queries in self.queries.iteritems():\n",
    "            # skip the testing documents while training and vice versa\n",
    "            if queries.values()[0]['training'] is not isTraining:\n",
    "                continue\n",
    "            docid = len(self.current_documents)\n",
    "            self.current_documents.append(self.wordvecs.tokenize(doc, length=self.document_length))\n",
    "            for surtxt, targets in queries.iteritems():\n",
    "                self.current_link_id.append(docid)\n",
    "                surid = len(self.current_surface_link)\n",
    "                self.current_surface_context.append(self.wordvecs.tokenize(get_words.sub(' ' , surtxt)))\n",
    "                surlink = get_link.match(surtxt).group(1)\n",
    "                self.current_surface_link.append(self.wordvecs.tokenize(surlink))\n",
    "                surmatch = surlink.lower()\n",
    "                #target_page_input = []\n",
    "                target_words_input = []\n",
    "                target_matches_surface = []\n",
    "                target_inputs = []\n",
    "                target_learings = []\n",
    "                target_gold_loc = None\n",
    "                target_group_start = len(self.current_target_input)\n",
    "                for target in targets['vals'].keys():\n",
    "                    # skip the items that we don't know the gold for\n",
    "                    if not targets['gold'] and isTraining:\n",
    "                        continue\n",
    "                    isGold = target == targets['gold']\n",
    "                    #cnt = self.page_content.get(WikiRegexes.convertToTitle(target))\n",
    "                    cnt = self.wordvecs.get_location(WikiRegexes.convertToTitle(target))\n",
    "                    if cnt is None:\n",
    "                        # were not able to find this wikipedia document\n",
    "                        # so just ignore tihs result since trying to train on it will cause\n",
    "                        # issues\n",
    "                        continue\n",
    "                    if isGold:\n",
    "                        target_gold_loc = len(target_inputs)\n",
    "                    #target_page_input.append(cnt)\n",
    "                    target_words_input.append(self.wordvecs.tokenize(get_words.sub(' ', target)))\n",
    "                    target_inputs.append(cnt)  # page_content already tokenized\n",
    "                    target_matches_surface.append(int(surmatch == target.lower()))\n",
    "                    target_learings.append((targets, target))\n",
    "                if target_gold_loc is not None:  # if we can't get the gold item\n",
    "                    # contain the index of the gold item for these items, so it can be less then it\n",
    "                    gold_loc = (len(self.current_target_goal) + target_gold_loc)\n",
    "                    self.current_target_goal += [gold_loc] * len(target_inputs)\n",
    "                    self.current_target_input += target_inputs\n",
    "                    self.current_target_id += [surid] * len(target_inputs)\n",
    "                    self.current_target_words += target_words_input   # TODO: add\n",
    "                    self.current_target_matches_surface += target_matches_surface\n",
    "                    target_group_end = len(self.current_target_input)\n",
    "                    self.current_learning_groups.append([target_group_start, target_group_end, gold_loc])\n",
    "                \n",
    "                #self.current_target_goal.append(isGold)\n",
    "                self.learning_targets += target_learings\n",
    "            if len(self.current_target_id) > self.batch_size:\n",
    "                #return\n",
    "                self.run_batch(func)\n",
    "                if self.total_links > self.num_training_items:\n",
    "                    return self.total_loss / self.total_links\n",
    "        \n",
    "        if len(self.current_target_id) > 0:\n",
    "            self.run_batch(func)\n",
    "            \n",
    "        return self.total_loss / self.total_links\n",
    "        \n",
    "    def run_batch(self, func):\n",
    "        res_vec, loss_sum, loss_vec = func(\n",
    "            self.current_documents,\n",
    "            self.current_surface_link, self.current_surface_context, self.current_link_id,\n",
    "            self.current_target_input, self.current_target_matches_surface, self.current_target_id, \n",
    "            self.current_target_goal, self.current_learning_groups,  \n",
    "            # self.current_target_words,\n",
    "        )\n",
    "        self.check_params()\n",
    "        self.total_links += len(self.current_target_id)\n",
    "        self.total_loss += loss_sum\n",
    "        for i in xrange(len(res_vec)):\n",
    "            # save the results from this pass\n",
    "            l = self.learning_targets[i]\n",
    "            l[0]['vals'][ l[1] ] = res_vec[i]\n",
    "        self.reset_accums()\n",
    "        \n",
    "    def check_params(self):\n",
    "        if any([np.isnan(v.get_value(borrow=True)).any() for v in self.all_params]):\n",
    "            raise RuntimeError('nan in some of the parameters')\n",
    "        \n",
    "\n",
    "        \n",
    "queries_exp = EntityVectorLinkExp() "
   ]
  },
  {
   "cell_type": "code",
   "execution_count": 19,
   "metadata": {
    "collapsed": true
   },
   "outputs": [],
   "source": [
    "queries_exp.check_params()"
   ]
  },
  {
   "cell_type": "code",
   "execution_count": 20,
   "metadata": {
    "collapsed": true
   },
   "outputs": [],
   "source": [
    "queries_exp.num_training_items = 5000"
   ]
  },
  {
   "cell_type": "code",
   "execution_count": 21,
   "metadata": {
    "collapsed": false
   },
   "outputs": [
    {
     "name": "stdout",
     "output_type": "stream",
     "text": [
      "0.00268054350031\n",
      "CPU times: user 1h 46min 3s, sys: 41.3 s, total: 1h 46min 45s\n",
      "Wall time: 13min 24s\n"
     ]
    }
   ],
   "source": [
    "%time print queries_exp.compute_batch()"
   ]
  },
  {
   "cell_type": "code",
   "execution_count": 22,
   "metadata": {
    "collapsed": false
   },
   "outputs": [
    {
     "name": "stdout",
     "output_type": "stream",
     "text": [
      "(0, 0.0016849450841160633)\n",
      "(1, 0.0015083776732815531)\n"
     ]
    },
    {
     "ename": "KeyboardInterrupt",
     "evalue": "",
     "output_type": "error",
     "traceback": [
      "\u001b[1;31m---------------------------------------------------------------------------\u001b[0m",
      "\u001b[1;31mKeyboardInterrupt\u001b[0m                         Traceback (most recent call last)",
      "\u001b[1;32m<ipython-input-22-d747e5436cf8>\u001b[0m in \u001b[0;36m<module>\u001b[1;34m()\u001b[0m\n\u001b[0;32m      2\u001b[0m \u001b[1;33m\u001b[0m\u001b[0m\n\u001b[0;32m      3\u001b[0m \u001b[1;32mfor\u001b[0m \u001b[0mi\u001b[0m \u001b[1;32min\u001b[0m \u001b[0mxrange\u001b[0m\u001b[1;33m(\u001b[0m\u001b[1;36m10\u001b[0m\u001b[1;33m)\u001b[0m\u001b[1;33m:\u001b[0m\u001b[1;33m\u001b[0m\u001b[0m\n\u001b[1;32m----> 4\u001b[1;33m     \u001b[0mres\u001b[0m \u001b[1;33m=\u001b[0m \u001b[1;33m(\u001b[0m\u001b[0mi\u001b[0m\u001b[1;33m,\u001b[0m \u001b[0mqueries_exp\u001b[0m\u001b[1;33m.\u001b[0m\u001b[0mcompute_batch\u001b[0m\u001b[1;33m(\u001b[0m\u001b[1;33m)\u001b[0m\u001b[1;33m)\u001b[0m\u001b[1;33m\u001b[0m\u001b[0m\n\u001b[0m\u001b[0;32m      5\u001b[0m     \u001b[1;32mprint\u001b[0m \u001b[0mres\u001b[0m\u001b[1;33m\u001b[0m\u001b[0m\n\u001b[0;32m      6\u001b[0m     \u001b[0mexp_results\u001b[0m\u001b[1;33m.\u001b[0m\u001b[0mappend\u001b[0m\u001b[1;33m(\u001b[0m\u001b[0mres\u001b[0m\u001b[1;33m)\u001b[0m\u001b[1;33m\u001b[0m\u001b[0m\n",
      "\u001b[1;32m<ipython-input-18-b79424d3b321>\u001b[0m in \u001b[0;36mcompute_batch\u001b[1;34m(self, isTraining)\u001b[0m\n\u001b[0;32m    514\u001b[0m             \u001b[1;32mif\u001b[0m \u001b[0mlen\u001b[0m\u001b[1;33m(\u001b[0m\u001b[0mself\u001b[0m\u001b[1;33m.\u001b[0m\u001b[0mcurrent_target_id\u001b[0m\u001b[1;33m)\u001b[0m \u001b[1;33m>\u001b[0m \u001b[0mself\u001b[0m\u001b[1;33m.\u001b[0m\u001b[0mbatch_size\u001b[0m\u001b[1;33m:\u001b[0m\u001b[1;33m\u001b[0m\u001b[0m\n\u001b[0;32m    515\u001b[0m                 \u001b[1;31m#return\u001b[0m\u001b[1;33m\u001b[0m\u001b[1;33m\u001b[0m\u001b[0m\n\u001b[1;32m--> 516\u001b[1;33m                 \u001b[0mself\u001b[0m\u001b[1;33m.\u001b[0m\u001b[0mrun_batch\u001b[0m\u001b[1;33m(\u001b[0m\u001b[0mfunc\u001b[0m\u001b[1;33m)\u001b[0m\u001b[1;33m\u001b[0m\u001b[0m\n\u001b[0m\u001b[0;32m    517\u001b[0m                 \u001b[1;32mif\u001b[0m \u001b[0mself\u001b[0m\u001b[1;33m.\u001b[0m\u001b[0mtotal_links\u001b[0m \u001b[1;33m>\u001b[0m \u001b[0mself\u001b[0m\u001b[1;33m.\u001b[0m\u001b[0mnum_training_items\u001b[0m\u001b[1;33m:\u001b[0m\u001b[1;33m\u001b[0m\u001b[0m\n\u001b[0;32m    518\u001b[0m                     \u001b[1;32mreturn\u001b[0m \u001b[0mself\u001b[0m\u001b[1;33m.\u001b[0m\u001b[0mtotal_loss\u001b[0m \u001b[1;33m/\u001b[0m \u001b[0mself\u001b[0m\u001b[1;33m.\u001b[0m\u001b[0mtotal_links\u001b[0m\u001b[1;33m\u001b[0m\u001b[0m\n",
      "\u001b[1;32m<ipython-input-18-b79424d3b321>\u001b[0m in \u001b[0;36mrun_batch\u001b[1;34m(self, func)\u001b[0m\n\u001b[0;32m    528\u001b[0m             \u001b[0mself\u001b[0m\u001b[1;33m.\u001b[0m\u001b[0mcurrent_surface_link\u001b[0m\u001b[1;33m,\u001b[0m \u001b[0mself\u001b[0m\u001b[1;33m.\u001b[0m\u001b[0mcurrent_surface_context\u001b[0m\u001b[1;33m,\u001b[0m \u001b[0mself\u001b[0m\u001b[1;33m.\u001b[0m\u001b[0mcurrent_link_id\u001b[0m\u001b[1;33m,\u001b[0m\u001b[1;33m\u001b[0m\u001b[0m\n\u001b[0;32m    529\u001b[0m             \u001b[0mself\u001b[0m\u001b[1;33m.\u001b[0m\u001b[0mcurrent_target_input\u001b[0m\u001b[1;33m,\u001b[0m \u001b[0mself\u001b[0m\u001b[1;33m.\u001b[0m\u001b[0mcurrent_target_matches_surface\u001b[0m\u001b[1;33m,\u001b[0m \u001b[0mself\u001b[0m\u001b[1;33m.\u001b[0m\u001b[0mcurrent_target_id\u001b[0m\u001b[1;33m,\u001b[0m\u001b[1;33m\u001b[0m\u001b[0m\n\u001b[1;32m--> 530\u001b[1;33m             \u001b[0mself\u001b[0m\u001b[1;33m.\u001b[0m\u001b[0mcurrent_target_goal\u001b[0m\u001b[1;33m,\u001b[0m \u001b[0mself\u001b[0m\u001b[1;33m.\u001b[0m\u001b[0mcurrent_learning_groups\u001b[0m\u001b[1;33m,\u001b[0m\u001b[1;33m\u001b[0m\u001b[0m\n\u001b[0m\u001b[0;32m    531\u001b[0m             \u001b[1;31m# self.current_target_words,\u001b[0m\u001b[1;33m\u001b[0m\u001b[1;33m\u001b[0m\u001b[0m\n\u001b[0;32m    532\u001b[0m         )\n",
      "\u001b[1;32m/home/matthew/.virtualenvs/nlp-convnet/lib/python2.7/site-packages/theano/compile/function_module.pyc\u001b[0m in \u001b[0;36m__call__\u001b[1;34m(self, *args, **kwargs)\u001b[0m\n\u001b[0;32m    605\u001b[0m         \u001b[0mt0_fn\u001b[0m \u001b[1;33m=\u001b[0m \u001b[0mtime\u001b[0m\u001b[1;33m.\u001b[0m\u001b[0mtime\u001b[0m\u001b[1;33m(\u001b[0m\u001b[1;33m)\u001b[0m\u001b[1;33m\u001b[0m\u001b[0m\n\u001b[0;32m    606\u001b[0m         \u001b[1;32mtry\u001b[0m\u001b[1;33m:\u001b[0m\u001b[1;33m\u001b[0m\u001b[0m\n\u001b[1;32m--> 607\u001b[1;33m             \u001b[0moutputs\u001b[0m \u001b[1;33m=\u001b[0m \u001b[0mself\u001b[0m\u001b[1;33m.\u001b[0m\u001b[0mfn\u001b[0m\u001b[1;33m(\u001b[0m\u001b[1;33m)\u001b[0m\u001b[1;33m\u001b[0m\u001b[0m\n\u001b[0m\u001b[0;32m    608\u001b[0m         \u001b[1;32mexcept\u001b[0m \u001b[0mException\u001b[0m\u001b[1;33m:\u001b[0m\u001b[1;33m\u001b[0m\u001b[0m\n\u001b[0;32m    609\u001b[0m             \u001b[1;32mif\u001b[0m \u001b[0mhasattr\u001b[0m\u001b[1;33m(\u001b[0m\u001b[0mself\u001b[0m\u001b[1;33m.\u001b[0m\u001b[0mfn\u001b[0m\u001b[1;33m,\u001b[0m \u001b[1;34m'position_of_error'\u001b[0m\u001b[1;33m)\u001b[0m\u001b[1;33m:\u001b[0m\u001b[1;33m\u001b[0m\u001b[0m\n",
      "\u001b[1;32m/home/matthew/.virtualenvs/nlp-convnet/lib/python2.7/site-packages/theano/scan_module/scan_op.pyc\u001b[0m in \u001b[0;36mrval\u001b[1;34m(p, i, o, n, allow_gc)\u001b[0m\n\u001b[0;32m    831\u001b[0m         \u001b[0mallow_gc\u001b[0m \u001b[1;33m=\u001b[0m \u001b[0mconfig\u001b[0m\u001b[1;33m.\u001b[0m\u001b[0mallow_gc\u001b[0m \u001b[1;32mand\u001b[0m \u001b[1;32mnot\u001b[0m \u001b[0mself\u001b[0m\u001b[1;33m.\u001b[0m\u001b[0mallow_gc\u001b[0m\u001b[1;33m\u001b[0m\u001b[0m\n\u001b[0;32m    832\u001b[0m \u001b[1;33m\u001b[0m\u001b[0m\n\u001b[1;32m--> 833\u001b[1;33m         def rval(p=p, i=node_input_storage, o=node_output_storage, n=node,\n\u001b[0m\u001b[0;32m    834\u001b[0m                  allow_gc=allow_gc):\n\u001b[0;32m    835\u001b[0m             \u001b[0mr\u001b[0m \u001b[1;33m=\u001b[0m \u001b[0mp\u001b[0m\u001b[1;33m(\u001b[0m\u001b[0mn\u001b[0m\u001b[1;33m,\u001b[0m \u001b[1;33m[\u001b[0m\u001b[0mx\u001b[0m\u001b[1;33m[\u001b[0m\u001b[1;36m0\u001b[0m\u001b[1;33m]\u001b[0m \u001b[1;32mfor\u001b[0m \u001b[0mx\u001b[0m \u001b[1;32min\u001b[0m \u001b[0mi\u001b[0m\u001b[1;33m]\u001b[0m\u001b[1;33m,\u001b[0m \u001b[0mo\u001b[0m\u001b[1;33m)\u001b[0m\u001b[1;33m\u001b[0m\u001b[0m\n",
      "\u001b[1;31mKeyboardInterrupt\u001b[0m: "
     ]
    }
   ],
   "source": [
    "exp_results = []\n",
    "\n",
    "for i in xrange(10):\n",
    "    res = (i, queries_exp.compute_batch())\n",
    "    print res\n",
    "    exp_results.append(res)"
   ]
  },
  {
   "cell_type": "code",
   "execution_count": 151,
   "metadata": {
    "collapsed": false
   },
   "outputs": [
    {
     "data": {
      "text/plain": [
       "[(0, 0.30209956923440201),\n",
       " (1, 0.28197504320688149),\n",
       " (2, 0.27625327977931868),\n",
       " (3, 0.27066594001249433),\n",
       " (4, 0.26564457238009909),\n",
       " (5, 0.26154175658924267),\n",
       " (6, 0.25857829023985618),\n",
       " (7, 0.25554483639989822),\n",
       " (8, 0.25314297074099318),\n",
       " (9, 0.25096759465902685),\n",
       " (10, 0.24867440500802893),\n",
       " (11, 0.24699623003476359),\n",
       " (12, 0.24561750492780313),\n",
       " (13, 0.2437228883832975),\n",
       " (14, 0.24221156900446342)]"
      ]
     },
     "execution_count": 151,
     "metadata": {},
     "output_type": "execute_result"
    }
   ],
   "source": [
    "exp_results"
   ]
  },
  {
   "cell_type": "code",
   "execution_count": 126,
   "metadata": {
    "collapsed": false
   },
   "outputs": [
    {
     "name": "stdout",
     "output_type": "stream",
     "text": [
      "(0, 0.25193260436527221)\n",
      "(1, 0.25044544424895365)\n",
      "(2, 0.24861832749520102)\n",
      "(3, 0.24680458788548709)\n",
      "(4, 0.24596285032174101)\n",
      "(5, 0.24384991506907869)\n",
      "(6, 0.2437858940689287)\n",
      "(7, 0.24187204418354905)\n",
      "(8, 0.24013947445857298)\n",
      "(9, 0.23896747579956618)\n",
      "(10, 0.23744868123049398)\n",
      "(11, 0.23544743766594531)\n",
      "(12, 0.23446426546527424)\n",
      "(13, 0.23326840963182313)\n",
      "(14, 0.23203740957061897)\n",
      "(15, 0.23043360718066389)\n",
      "(16, 0.22962830958825009)\n",
      "(17, 0.22864763873605373)\n",
      "(18, 0.22630063163105227)\n",
      "(19, 0.22634391228343279)\n"
     ]
    }
   ],
   "source": [
    "for i in xrange(20):\n",
    "    res = (i, queries_exp.compute_batch())\n",
    "    print res\n",
    "    exp_results.append(res)"
   ]
  },
  {
   "cell_type": "code",
   "execution_count": 127,
   "metadata": {
    "collapsed": false
   },
   "outputs": [
    {
     "name": "stdout",
     "output_type": "stream",
     "text": [
      "(0, 0.22548462021102186)\n",
      "(1, 0.22753476401151757)\n",
      "(2, 0.22298776317791502)\n",
      "(3, 0.22604879541592512)\n",
      "(4, 0.22105116172538422)\n",
      "(5, 0.21943825814520188)\n",
      "(6, 0.21875800825868649)\n",
      "(7, 0.21848983722395929)\n",
      "(8, 0.21799020695030547)\n",
      "(9, 0.22275115899192863)\n",
      "(10, 0.21617527863669928)\n",
      "(11, 0.21316958732527516)\n",
      "(12, 0.21270735192963486)\n",
      "(13, 0.21063031581620217)\n",
      "(14, 0.20969470163014006)\n",
      "(15, 0.2088916856731593)\n",
      "(16, 0.21122537337921632)\n",
      "(17, 0.2081131099752335)\n",
      "(18, 0.20845197649796071)\n",
      "(19, 0.20761137411826339)\n"
     ]
    }
   ],
   "source": [
    "for i in xrange(20):\n",
    "    res = (i, queries_exp.compute_batch())\n",
    "    print res\n",
    "    exp_results.append(res)"
   ]
  },
  {
   "cell_type": "code",
   "execution_count": 143,
   "metadata": {
    "collapsed": false
   },
   "outputs": [
    {
     "name": "stdout",
     "output_type": "stream",
     "text": [
      "(0, 0.20535454935796019)\n",
      "(1, 0.20411033271224777)\n",
      "(2, 0.20391712185199662)\n",
      "(3, 0.20471953359811271)\n",
      "(4, 0.20291538812455293)\n",
      "(5, 0.20140318917198244)\n",
      "(6, 0.19897731353551321)\n",
      "(7, 0.19744544463204308)\n",
      "(8, 0.20007354640555775)\n",
      "(9, 0.19819391260117167)\n",
      "(10, 0.19856921768681424)\n",
      "(11, 0.19809518961618588)\n",
      "(12, 0.1943694366967742)\n",
      "(13, 0.19219715638818261)\n",
      "(14, 0.19213015940305117)\n",
      "(15, 0.19119296779002301)\n",
      "(16, 0.19165825240832535)\n",
      "(17, 0.19095094401567475)\n",
      "(18, 0.18898030394268406)\n",
      "(19, 0.18836112160600815)\n"
     ]
    }
   ],
   "source": [
    "for i in xrange(20):\n",
    "    res = (i, queries_exp.compute_batch())\n",
    "    print res\n",
    "    exp_results.append(res)"
   ]
  },
  {
   "cell_type": "code",
   "execution_count": 40,
   "metadata": {
    "collapsed": false
   },
   "outputs": [
    {
     "data": {
      "text/plain": [
       "(256091, 256091)"
      ]
     },
     "execution_count": 40,
     "metadata": {},
     "output_type": "execute_result"
    }
   ],
   "source": [
    "len(queries_exp.current_target_goal), len(queries_exp.current_target_inputa)"
   ]
  },
  {
   "cell_type": "code",
   "execution_count": null,
   "metadata": {
    "collapsed": false
   },
   "outputs": [],
   "source": [
    "queries_exp.compute_batch(False)"
   ]
  },
  {
   "cell_type": "code",
   "execution_count": 73,
   "metadata": {
    "collapsed": false
   },
   "outputs": [
    {
     "data": {
      "text/plain": [
       "[(0, 1.2287285061402835e-05), (1, 1.1753841393782684e-05)]"
      ]
     },
     "execution_count": 73,
     "metadata": {},
     "output_type": "execute_result"
    }
   ],
   "source": [
    "exp_results"
   ]
  },
  {
   "cell_type": "code",
   "execution_count": 31,
   "metadata": {
    "collapsed": false
   },
   "outputs": [],
   "source": [
    "all_measured = 0\n",
    "all_correct = 0\n",
    "all_trained = 0\n",
    "for qu in queries.values():\n",
    "    for en in qu.values():\n",
    "        for e in en:\n",
    "            if en['gold']:\n",
    "                if all_trained > 5000:\n",
    "                    break\n",
    "                all_measured += 1\n",
    "                all_trained += len(en['vals'].values())\n",
    "                m = max(en['vals'].values())\n",
    "                if en['vals'][en['gold']] == m:\n",
    "                    all_correct += 1"
   ]
  },
  {
   "cell_type": "code",
   "execution_count": 32,
   "metadata": {
    "collapsed": false
   },
   "outputs": [
    {
     "data": {
      "text/plain": [
       "270"
      ]
     },
     "execution_count": 32,
     "metadata": {},
     "output_type": "execute_result"
    }
   ],
   "source": [
    "all_measured"
   ]
  },
  {
   "cell_type": "code",
   "execution_count": 33,
   "metadata": {
    "collapsed": false
   },
   "outputs": [
    {
     "data": {
      "text/plain": [
       "0.28888888888888886"
      ]
     },
     "execution_count": 33,
     "metadata": {},
     "output_type": "execute_result"
    }
   ],
   "source": [
    "float(all_correct) / all_measured"
   ]
  },
  {
   "cell_type": "code",
   "execution_count": 34,
   "metadata": {
    "collapsed": false
   },
   "outputs": [
    {
     "data": {
      "text/plain": [
       "{u\"'' Saint Jerome in his Study '' (1514) and '' [Melencolia I] '' (1514) , which has been the subject of extensive\": {u'gold': u'Melencolia I',\n",
       "  u'training': True,\n",
       "  u'vals': {u'-NIL-': 0.48839006,\n",
       "   u'Belarusian Premier League': 0.48286211,\n",
       "   u'Division I (NCAA)': 0.47127125,\n",
       "   u'I': 0.51410353,\n",
       "   u'I (band)': 0,\n",
       "   u'I (film)': 0.51607662,\n",
       "   u'I Corps (German Empire)': 0,\n",
       "   u'Independent (politician)': 0.50257891,\n",
       "   u'Independent politician': 0.46069574,\n",
       "   u'Instrumental case': 0.48839006,\n",
       "   u'Iodine': 0.4819966,\n",
       "   u'Isospin': 0.46358877,\n",
       "   u'Italy': 0.43624315,\n",
       "   u'Meistriliiga': 0.43941137,\n",
       "   u'Melencolia I': 0.49686521,\n",
       "   u'Nemzeti Bajnoks\\xe1g I': 0.44479799,\n",
       "   u'Russian Football Premier League': 0.45924649,\n",
       "   u'Russian Premier League': 0.45397529,\n",
       "   u'Super Bowl I': 0.49386767,\n",
       "   u'XXNILXX': 0}},\n",
       " u\"'' ndash ; April 6 , 1528 -RRB- was a [German] painter , printmaker and theorist from Nuremberg , Germany .\": {u'gold': u'Germans',\n",
       "  u'training': True,\n",
       "  u'vals': {u'-NIL-': 0,\n",
       "   u'Cinema of Germany': 0,\n",
       "   u'German': 0,\n",
       "   u'German (language)': 0,\n",
       "   u'German American': 0,\n",
       "   u'German Empire': 0,\n",
       "   u'German Language': 0,\n",
       "   u'German language': 0,\n",
       "   u'German literature': 0,\n",
       "   u'German people': 0,\n",
       "   u'German poetry': 0,\n",
       "   u'Germans': 0,\n",
       "   u'Germany': 0,\n",
       "   u'GfK Entertainment': 0,\n",
       "   u'Kriegsmarine': 0,\n",
       "   u'Nazi Germany': 0,\n",
       "   u'Wehrmacht': 0,\n",
       "   u'XXNILXX': 0,\n",
       "   u'german people': 0,\n",
       "   u'germans': 0}},\n",
       " u', D rer had learned how to make prints in [drypoint] and design woodcut s in the German style , based': {u'gold': u'drypoint',\n",
       "  u'training': True,\n",
       "  u'vals': {u'-NIL-': 0.46358877,\n",
       "   u'Drypoint': 0.47738674,\n",
       "   u'XXNILXX': 0,\n",
       "   u'drypoint': 0.45571327}},\n",
       " u', based on the works of Martin Schongauer and the [Housebook Master] .': {u'gold': u'Master of the Housebook',\n",
       "  u'training': True,\n",
       "  u'vals': {u'-NIL-': 0.45961303,\n",
       "   u'Chess title': 0.50503331,\n",
       "   u'Housebook Master': 0.50153494,\n",
       "   u'Master': 0.46067065,\n",
       "   u'Master (American band)': 0.47332737,\n",
       "   u'Master (Buffy the Vampire Slayer)': 0.47332737,\n",
       "   u'Master (Doctor Who)': 0.46454477,\n",
       "   u'Master (Russian band)': 0,\n",
       "   u'Master (audio drama)': 0,\n",
       "   u'Master (college)': 0,\n",
       "   u'Master (film)': 0.46622691,\n",
       "   u'Master (form of address)': 0,\n",
       "   u'Master (judiciary)': 0,\n",
       "   u'Master (naval)': 0.50153494,\n",
       "   u'Master craftsman': 0.50503331,\n",
       "   u'Master mariner': 0.51583332,\n",
       "   u'Master of the Housebook': 0.47095501,\n",
       "   u\"Master's degree\": 0,\n",
       "   u'Sea captain': 0.45947331,\n",
       "   u'XXNILXX': 0}},\n",
       " u', especially Venice , a relatively short distance across the [Alps] .': {u'gold': u'Alps',\n",
       "  u'training': True,\n",
       "  u'vals': {u'-NIL-': 0.45352185,\n",
       "   u'Aleph': 0.50129801,\n",
       "   u'Alp': 0.50129801,\n",
       "   u'Alp (folklore)': 0.51468205,\n",
       "   u'Alp (name)': 0,\n",
       "   u'Alp, Girona': 0,\n",
       "   u'Alp, Spain': 0,\n",
       "   u'Alpine orogeny': 0.4498857,\n",
       "   u'Alps': 0.47921726,\n",
       "   u'Alps (film)': 0,\n",
       "   u'Alps Electric': 0.50604558,\n",
       "   u'Alps Electric Co.': 0.46588522,\n",
       "   u'Alps, Georgia': 0,\n",
       "   u'Al\\u0131p': 0.46334735,\n",
       "   u'Australian Alps': 0.49243942,\n",
       "   u'French Alps': 0.49186167,\n",
       "   u'Geology of the Alps': 0.51333642,\n",
       "   u'Soner Alp': 0,\n",
       "   u'Swiss Alps': 0.51784086,\n",
       "   u'XXNILXX': 0}},\n",
       " u\"-LRB- -RRB- -LRB- May 21 , 1471 '' ndash ; [April 6] , 1528 -RRB- was a German painter , printmaker and\": {u'gold': u'April 6',\n",
       "  u'training': True,\n",
       "  u'vals': {u'-NIL-': 0.46011162,\n",
       "   u'/April': 0.48015514,\n",
       "   u'April': 0.448908,\n",
       "   u'April (Sun Kil Moon album)': 0,\n",
       "   u'April 1966': 0,\n",
       "   u'April 1971': 0,\n",
       "   u'April 1972': 0,\n",
       "   u'April 1973': 0,\n",
       "   u'April 1975': 0,\n",
       "   u'April 2005': 0.44078028,\n",
       "   u'April 2008': 0.48535931,\n",
       "   u'April 6': 0.45050114,\n",
       "   u'April 6 (Eastern Orthodox liturgics)': 0,\n",
       "   u'April 6 Youth Movement': 0.47653961,\n",
       "   u'April Branning': 0.47906297,\n",
       "   u'April Ludgate': 0.5108453,\n",
       "   u'CMLL Super Viernes (April 2014)': 0,\n",
       "   u'Deaths in April 2012': 0,\n",
       "   u'Deaths in April 2013': 0,\n",
       "   u'XXNILXX': 0}},\n",
       " u'-RRB- was a German painter , printmaker and theorist from [Nuremberg] , Germany .': {u'gold': u'Nuremberg',\n",
       "  u'training': True,\n",
       "  u'vals': {u'-NIL-': 0.47882935,\n",
       "   u'1. FC Nuremberg': 0.4672884,\n",
       "   u'1. FC N\\xfcrnberg': 0.46117744,\n",
       "   u'2013 N\\xfcrnberger Versicherungscup': 0,\n",
       "   u'2014 N\\xfcrnberger Versicherungscup': 0,\n",
       "   u'Burgraviate of Nuremberg': 0.41673374,\n",
       "   u'Frankenstadion': 0.44920275,\n",
       "   u'Free Imperial City of Nuremberg': 0.48559654,\n",
       "   u'Nuremberg': 0.47882935,\n",
       "   u'Nuremberg (2000 film)': 0,\n",
       "   u'Nuremberg (film)': 0,\n",
       "   u'Nuremberg Airport': 0.4672884,\n",
       "   u'Nuremberg Central Station': 0.41673374,\n",
       "   u'Nuremberg Hauptbahnhof': 0.43514639,\n",
       "   u'Nuremberg Trials': 0.45376188,\n",
       "   u'Nuremberg U-Bahn': 0.46166608,\n",
       "   u'Nuremberg trials': 0.43922919,\n",
       "   u'Nuremberg, Pennsylvania': 0,\n",
       "   u'N\\xfcrnberg Hauptbahnhof': 0.45081654,\n",
       "   u'XXNILXX': 0}},\n",
       " u'1455 had moved to Nuremberg from Ajt s , near [Gyula] in Hungary .': {u'gold': u'Gyula, Hungary',\n",
       "  u'training': True,\n",
       "  u'vals': {u'-NIL-': 0.46717218,\n",
       "   u'Diocese of Gyula': 0,\n",
       "   u'Gyula': 0.49482223,\n",
       "   u'Gyula (name)': 0,\n",
       "   u'Gyula (telep\\xfcl\\xe9s)': 0,\n",
       "   u'Gyula (title)': 0.47859025,\n",
       "   u'Gyula (town)': 0.46717218,\n",
       "   u'Gyula (v\\xe1ros)': 0,\n",
       "   u'Gyula Andr\\xe1ssy': 0.44809109,\n",
       "   u'Gyula Andr\\xe1ssy the Younger': 0.5002681,\n",
       "   u'Gyula Erkel': 0,\n",
       "   u'Gyula II': 0.46941364,\n",
       "   u'Gyula III': 0.49848998,\n",
       "   u'Gyula Kert\\xe9sz': 0,\n",
       "   u'Gyula and Hungary': 0,\n",
       "   u'Gyula(town)': 0,\n",
       "   u'Gyula, Hungary': 0.5447374,\n",
       "   u'Julius I K\\xe1n': 0.47818834,\n",
       "   u'Siege of Gyula': 0,\n",
       "   u'XXNILXX': 0}},\n",
       " u'A self-portrait , a [drawing] in silverpoint , is dated 1484 -LRB- Albertina , Vienna': {u'gold': u'Drawing',\n",
       "  u'training': True,\n",
       "  u'vals': {u'-NIL-': 0.53769249,\n",
       "   u'AP Studio Art': 0.44272652,\n",
       "   u'Draw (chess)': 0.52489334,\n",
       "   u'Draw (poker)': 0.49111786,\n",
       "   u'Drawing': 0.44272652,\n",
       "   u'Drawing (manufacturing)': 0.46238846,\n",
       "   u'Drawing Album': 0,\n",
       "   u'Glossary of drawing terms': 0,\n",
       "   u'Graph drawing': 0.49090725,\n",
       "   u'Index of drawing-related articles': 0,\n",
       "   u\"It's a Wonderful World (album)\": 0,\n",
       "   u'Outline of drawing': 0.48792079,\n",
       "   u'Outline of drawing and drawings': 0.45171669,\n",
       "   u'Patent drawing': 0.48792079,\n",
       "   u'Tie (draw)': 0.5136764,\n",
       "   u'XXNILXX': 0,\n",
       "   u'draw (chess)': 0.48341393,\n",
       "   u'drawing': 0.45171669,\n",
       "   u'drawing (manufacturing)': 0.47078857,\n",
       "   u'graph drawing': 0.41862205}},\n",
       " u'A self-portrait , a drawing in [silverpoint] , is dated 1484 -LRB- Albertina , Vienna -RRB- when': {u'gold': u'silverpoint',\n",
       "  u'training': True,\n",
       "  u'vals': {u'-NIL-': 0.4823285,\n",
       "   u'Silverpoint': 0.45217818,\n",
       "   u'XXNILXX': 0,\n",
       "   u'silverpoint': 0.48933926}},\n",
       " u\"Albrecht D rer -LRB- -RRB- -LRB- May 21 , [1471] '' ndash ; April 6 , 1528 -RRB- was a\": {u'gold': u'1471',\n",
       "  u'training': True,\n",
       "  u'vals': {u'-NIL-': 0.48708442,\n",
       "   u'1000 (number)': 0.48931724,\n",
       "   u'1470s in England': 0.47925049,\n",
       "   u'1470s in art': 0.48322266,\n",
       "   u'1470s in poetry': 0.5172295,\n",
       "   u'1471': 0.48210439,\n",
       "   u'1471 (number)': 0.47652787,\n",
       "   u'1471 in England': 0.47432536,\n",
       "   u'1471 in Ireland': 0,\n",
       "   u'1471 in Portugal': 0,\n",
       "   u'1471 in Scotland': 0,\n",
       "   u'1471 in art': 0.48210439,\n",
       "   u'1471 in music': 0,\n",
       "   u'1471 in poetry': 0.5172295,\n",
       "   u'IEEE 1471': 0.50710225,\n",
       "   u'Last Call Return': 0.48481676,\n",
       "   u'Last-call return': 0.46357661,\n",
       "   u'Minuscule 1471': 0,\n",
       "   u'United Nations Security Council Resolution 1471': 0,\n",
       "   u'XXNILXX': 0}},\n",
       " u\"Albrecht D rer -LRB- -RRB- -LRB- [May 21] , 1471 '' ndash ; April 6 , 1528 -RRB-\": {u'gold': u'May 21',\n",
       "  u'training': True,\n",
       "  u'vals': {u'-NIL-': 0.47384664,\n",
       "   u'/May': 0.50205195,\n",
       "   u'Ben May': 0.46460018,\n",
       "   u'Brian May': 0.46908638,\n",
       "   u'CMLL Super Viernes (May 2014)': 0,\n",
       "   u'Darrell May': 0.46051484,\n",
       "   u'David May (footballer)': 0.47459087,\n",
       "   u'Jonny May': 0.49523997,\n",
       "   u'List of Pok\\xe9mon anime characters': 0.5069325,\n",
       "   u'May': 0.5069325,\n",
       "   u'May (Pok\\xe9mon)': 0.48686084,\n",
       "   u'May (film)': 0.49402216,\n",
       "   u'May 1911': 0,\n",
       "   u'May 1943': 0,\n",
       "   u'May 21': 0.47384664,\n",
       "   u'May 21 (Eastern Orthodox liturgics)': 0,\n",
       "   u'May, Texas': 0,\n",
       "   u'Navy Day': 0.46908638,\n",
       "   u'Stevie May': 0.4968389,\n",
       "   u'XXNILXX': 0}},\n",
       " u\"D rer 's godfather was [Anton Koberger] , who left goldsmith ing to become a printer and\": {u'gold': u'Anton Koberger',\n",
       "  u'training': True,\n",
       "  u'vals': {u'-NIL-': 0.45628226,\n",
       "   u'Anton Koberger': 0.43227735,\n",
       "   u'Koberger': 0.48485589,\n",
       "   u'XXNILXX': 0}},\n",
       " u\"D rer 's introduction of [classical motifs] into Northern art , through his knowledge of Italian artists\": {u'gold': u'Roman mythology',\n",
       "  u'training': True,\n",
       "  u'vals': {u'-NIL-': 0.50335228,\n",
       "   u'Classical motifs': 0,\n",
       "   u'Motif': 0.47355899,\n",
       "   u'Motif (band)': 0,\n",
       "   u'Motif (music)': 0.5073331,\n",
       "   u'Motif (narrative)': 0.44195053,\n",
       "   u'Motif (software)': 0.4603914,\n",
       "   u'Motif (textile arts)': 0.48588485,\n",
       "   u'Motif (visual arts)': 0.48588485,\n",
       "   u'Motifs': 0.52261484,\n",
       "   u'Network motif': 0,\n",
       "   u'Persian motifs': 0,\n",
       "   u'Roman mythology': 0.47122273,\n",
       "   u'Sequence motif': 0.52936673,\n",
       "   u'Structural motif': 0.4836823,\n",
       "   u'XXNILXX': 0,\n",
       "   u'Yamaha Motif': 0.46445471,\n",
       "   u'classical motifs': 0,\n",
       "   u'motif (music)': 0.48285839,\n",
       "   u'motif (visual arts)': 0.52212775}},\n",
       " u'D rer probably also visited Padua and [Mantua] on this trip .': {u'gold': u'Mantua',\n",
       "  u'training': True,\n",
       "  u'vals': {u'-NIL-': 0.50944048,\n",
       "   u'Duchy of Mantua': 0.50944048,\n",
       "   u'Mantova railway station': 0,\n",
       "   u'Mantua': 0.46717218,\n",
       "   u'Mantua Township, New Jersey': 0.49848998,\n",
       "   u'Mantua Township, Portage County, Ohio': 0,\n",
       "   u'Mantua, Cuba': 0,\n",
       "   u'Mantua, Ohio': 0.47485811,\n",
       "   u'Mantua, Philadelphia': 0,\n",
       "   u'Mantua, Philadelphia, Pennsylvania': 0,\n",
       "   u'Mantua, Utah': 0.49083975,\n",
       "   u'Mantua, Virginia': 0,\n",
       "   u'Pavia\\u2013Mantua railway': 0,\n",
       "   u'Province of Mantua': 0.49083975,\n",
       "   u'Roman Catholic Diocese of Mantua': 0.44765404,\n",
       "   u'Siege of Mantua (1796-1797)': 0.49006364,\n",
       "   u'Siege of Mantua (1796\\u201397)': 0.48195115,\n",
       "   u'Siege of Mantua (1799)': 0.50525081,\n",
       "   u'XXNILXX': 0,\n",
       "   u'province of Mantua': 0.49987325}},\n",
       " u'D rer probably also visited [Padua] and Mantua on this trip .': {u'gold': u'Padua',\n",
       "  u'training': True,\n",
       "  u'vals': {u'-NIL-': 0.50870651,\n",
       "   u'363 Padua': 0.45606542,\n",
       "   u'Calcio Padova': 0.44366258,\n",
       "   u'Kruzenshtern (ship)': 0,\n",
       "   u'Padova railway station': 0,\n",
       "   u'Padua': 0.50466627,\n",
       "   u'Padua Stables': 0,\n",
       "   u'Padua, Italy': 0.48185036,\n",
       "   u'Padua, Minnesota': 0,\n",
       "   u'Padua, Ohio': 0,\n",
       "   u'Padua\\u2013Bologna railway': 0,\n",
       "   u'Province of Padua': 0.45243141,\n",
       "   u'Roman Catholic Diocese of Padua': 0.47076049,\n",
       "   u'Sempre Volley': 0,\n",
       "   u'Siege of Padua': 0.45783418,\n",
       "   u'Stadio Plebiscito': 0,\n",
       "   u'University of Padua': 0.5002681,\n",
       "   u'XXNILXX': 0,\n",
       "   u'province of Padua': 0.50196671,\n",
       "   u'university of Padua': 0.53027576}},\n",
       " u'D rer was born on May 21 , [1471] , third child and second son of his parents ,': {u'gold': u'1471',\n",
       "  u'training': True,\n",
       "  u'vals': {u'-NIL-': 0.49194562,\n",
       "   u'1000 (number)': 0.49523997,\n",
       "   u'1470s in England': 0.48435485,\n",
       "   u'1470s in art': 0.44936651,\n",
       "   u'1470s in poetry': 0.505705,\n",
       "   u'1471': 0.47850072,\n",
       "   u'1471 (number)': 0.44211739,\n",
       "   u'1471 in England': 0.46858832,\n",
       "   u'1471 in Ireland': 0,\n",
       "   u'1471 in Portugal': 0,\n",
       "   u'1471 in Scotland': 0,\n",
       "   u'1471 in art': 0.48576957,\n",
       "   u'1471 in music': 0,\n",
       "   u'1471 in poetry': 0.49577281,\n",
       "   u'IEEE 1471': 0.46962953,\n",
       "   u'Last Call Return': 0.46998867,\n",
       "   u'Last-call return': 0.46360612,\n",
       "   u'Minuscule 1471': 0,\n",
       "   u'United Nations Security Council Resolution 1471': 0,\n",
       "   u'XXNILXX': 0}},\n",
       " u'D rer was born on [May 21] , 1471 , third child and second son of his': {u'gold': u'May 21',\n",
       "  u'training': True,\n",
       "  u'vals': {u'-NIL-': 0.49302581,\n",
       "   u'/May': 0.4961319,\n",
       "   u'Ben May': 0.44158223,\n",
       "   u'Brian May': 0.46905246,\n",
       "   u'CMLL Super Viernes (May 2014)': 0,\n",
       "   u'Darrell May': 0.51577216,\n",
       "   u'David May (footballer)': 0.48388281,\n",
       "   u'Jonny May': 0.49600139,\n",
       "   u'List of Pok\\xe9mon anime characters': 0.4733268,\n",
       "   u'May': 0.4338038,\n",
       "   u'May (Pok\\xe9mon)': 0.49057674,\n",
       "   u'May (film)': 0.4338038,\n",
       "   u'May 1911': 0,\n",
       "   u'May 1943': 0,\n",
       "   u'May 21': 0.45370334,\n",
       "   u'May 21 (Eastern Orthodox liturgics)': 0,\n",
       "   u'May, Texas': 0,\n",
       "   u'Navy Day': 0.4338038,\n",
       "   u'Stevie May': 0.4565829,\n",
       "   u'XXNILXX': 0}},\n",
       " u\"German name '' D rer '' is derived from the [Hungarian] , '' Ajt si '' .\": {u'gold': u'Hungary',\n",
       "  u'training': True,\n",
       "  u'vals': {u'-NIL-': 0.52243274,\n",
       "   u'Cinema of Hungary': 0.49650276,\n",
       "   u'Hungarian': 0.47645071,\n",
       "   u'Hungarian American': 0.50563461,\n",
       "   u'Hungarian Figure Skating Championships': 0.47790822,\n",
       "   u'Hungarian Language': 0.46220934,\n",
       "   u'Hungarian cuisine': 0.47557208,\n",
       "   u'Hungarian language': 0.45041358,\n",
       "   u'Hungarian people': 0.49016774,\n",
       "   u'Hungarians': 0.4433789,\n",
       "   u'Hungarians in Romania': 0.5018934,\n",
       "   u'Hungarians in Slovakia': 0.51607662,\n",
       "   u'Hungary': 0.45662293,\n",
       "   u'Hungary national football team': 0.52243274,\n",
       "   u'Kingdom of Hungary': 0.51607662,\n",
       "   u'Kingdom of Hungary (1920\\u201346)': 0.5018934,\n",
       "   u'Kingdom of Hungary in the Middle Ages': 0.49650276,\n",
       "   u'Magyars': 0.4379524,\n",
       "   u'Politics of Hungary': 0.52243274,\n",
       "   u'XXNILXX': 0}},\n",
       " u'He left in 1490 , possibly to work under [Martin Schongauer] , a leading engraver of Northern Europe , but who': {u'gold': u'Martin Schongauer',\n",
       "  u'training': True,\n",
       "  u'vals': {u'-NIL-': 0.49851921,\n",
       "   u'Martin Schongauer': 0.46024805,\n",
       "   u'Schongauer': 0.51410353,\n",
       "   u'XXNILXX': 0}},\n",
       " u'He made a number of [Madonna] s , single religious figures , and small scenes with': {u'gold': u'Madonna (art)',\n",
       "  u'training': True,\n",
       "  u'vals': {u'-NIL-': 0.47236672,\n",
       "   u'Armando Madonna': 0.47302872,\n",
       "   u'Madonna': 0.4255091,\n",
       "   u'Madonna (1999 film)': 0,\n",
       "   u'Madonna (EP)': 0,\n",
       "   u'Madonna (Edvard Munch)': 0,\n",
       "   u'Madonna (Madonna album)': 0.47302872,\n",
       "   u'Madonna (Secret EP)': 0,\n",
       "   u'Madonna (Secret song)': 0,\n",
       "   u'Madonna (album)': 0.45895487,\n",
       "   u'Madonna (art)': 0.48195562,\n",
       "   u'Madonna (book)': 0,\n",
       "   u'Madonna (entertainer)': 0.51087338,\n",
       "   u'Madonna (singer)': 0.55135095,\n",
       "   u'Madonna (song)': 0,\n",
       "   u'Madonna (studio)': 0,\n",
       "   u'Madonna_(entertainer)': 0.4255091,\n",
       "   u'Mary (mother of Jesus)': 0.50931031,\n",
       "   u'The Madonna': 0.48540217,\n",
       "   u'XXNILXX': 0}},\n",
       " u'He wrote that [Giovanni Bellini] was the oldest and still the best of the artists': {u'gold': u'Giovanni Bellini',\n",
       "  u'training': True,\n",
       "  u'vals': {u'-NIL-': 0.48240358,\n",
       "   u'Bellini': 0.46965578,\n",
       "   u'Bellini (band)': 0,\n",
       "   u'Bellini (cocktail)': 0.47179723,\n",
       "   u'Bellini (horse)': 0,\n",
       "   u'Delfo Bellini': 0,\n",
       "   u'Filippo Bellini': 0,\n",
       "   u'Gentile Bellini': 0.49621075,\n",
       "   u'Gianpaolo Bellini': 0.47446275,\n",
       "   u'Giovanni Bellini': 0.49058542,\n",
       "   u'Giovanni Bellini (painter)': 0.43288237,\n",
       "   u'Giovanni Bellini (politician)': 0,\n",
       "   u'Giuseppe Bellini': 0,\n",
       "   u'Hilderaldo Bellini': 0.48240358,\n",
       "   u'Jacopo Bellini': 0.44675231,\n",
       "   u'Mario Bellini': 0.47076049,\n",
       "   u'Paffendorf': 0.4431434,\n",
       "   u'Vincenzo Bellini': 0.46780175,\n",
       "   u'Vincenzo Bellini ': 0,\n",
       "   u'XXNILXX': 0}},\n",
       " u\"Here he produced a woodcut of [St Jerome] as a frontispiece for Nicholaus Kessler 's ' Epistolare beati\": {u'gold': u'Jerome',\n",
       "  u'training': True,\n",
       "  u'vals': {u'-NIL-': 0.48793617,\n",
       "   u'Cameron Jerome': 0.49142185,\n",
       "   u'Jerome': 0.52709615,\n",
       "   u'Jerome County, Idaho': 0.48470283,\n",
       "   u'Jerome High School (Jerome, Idaho)': 0,\n",
       "   u'Jerome War Relocation Center': 0.51859802,\n",
       "   u'Jerome family': 0.54857433,\n",
       "   u'Jerome, Arizona': 0.51087338,\n",
       "   u'Jerome, Arkansas': 0.4663316,\n",
       "   u'Jerome, Florida': 0,\n",
       "   u'Jerome, Idaho': 0.49227443,\n",
       "   u'Jerome, Illinois': 0,\n",
       "   u'Jerome, Indiana': 0,\n",
       "   u'Jerome, Pennsylvania': 0.48890033,\n",
       "   u'Jerome, West Virginia': 0,\n",
       "   u'J\\xe9r\\xf4me Bonaparte': 0.43779778,\n",
       "   u'Randolph Jerome': 0.53752458,\n",
       "   u'Saint Jerome': 0.49179879,\n",
       "   u'St Jerome': 0.48611069,\n",
       "   u'XXNILXX': 0}},\n",
       " u\"His most famous publication was the '' [Nuremberg Chronicle] , '' published in 1493 in German and Latin editions\": {u'gold': u'Nuremberg Chronicle',\n",
       "  u'training': True,\n",
       "  u'vals': {u'-NIL-': 0.4667725,\n",
       "   u'Chronicle': 0.47928688,\n",
       "   u'Chronicle (Adelaide)': 0,\n",
       "   u'Chronicle (Fujifabric album)': 0,\n",
       "   u'Chronicle (TV series)': 0,\n",
       "   u'Chronicle (UK TV series)': 0,\n",
       "   u'Chronicle (film)': 0,\n",
       "   u'Chronicle (magazine)': 0,\n",
       "   u'Chronicle Books': 0.500337,\n",
       "   u'Chronicle, Vol. 1': 0,\n",
       "   u'Chronicon (Eusebius)': 0.45021951,\n",
       "   u'Chronicon (Jerome)': 0.42580038,\n",
       "   u'DNA Publications': 0.48034039,\n",
       "   u'Evening Chronicle': 0.47928688,\n",
       "   u'Houston Chronicle': 0.46039623,\n",
       "   u\"Mannyng's Chronicle\": 0,\n",
       "   u'Nuremberg Chronicle': 0.5034976,\n",
       "   u'San Francisco Chronicle': 0.47928688,\n",
       "   u'The Chronicle (Zimbabwe)': 0,\n",
       "   u'XXNILXX': 0}},\n",
       " u\"His still-famous engravings include ' (1513) , '' [Saint Jerome in his Study] '' (1514) and '' Melencolia I '' (1514) , which\": {u'gold': u'Saint Jerome in His Study (D\\xfcrer)',\n",
       "  u'training': True,\n",
       "  u'vals': {u'-NIL-': 0.43347001,\n",
       "   u'Buddhist texts': 0.43922919,\n",
       "   u'Culross Study': 0,\n",
       "   u'Endgame study': 0.55261832,\n",
       "   u'His Study': 0,\n",
       "   u'In his Study': 0,\n",
       "   u'Jerome in his Study': 0,\n",
       "   u'Research': 0.44304496,\n",
       "   u'Saint Jerome in His Study (D\\xfcrer)': 0,\n",
       "   u'Saint Jerome in Study': 0,\n",
       "   u'Saint Jerome in his Study': 0.46166608,\n",
       "   u'St. Jerome in His Study (D\\xfcrer)': 0,\n",
       "   u'Study': 0.43347001,\n",
       "   u'Study (art)': 0.4672884,\n",
       "   u'Study (film)': 0,\n",
       "   u'Study (room)': 0,\n",
       "   u'Study skills': 0.44509238,\n",
       "   u'XXNILXX': 0,\n",
       "   u'his Study': 0,\n",
       "   u'in his Study': 0}},\n",
       " u'His watercolours mark him as one of the first European [landscape art] ists , while his ambitious woodcuts revolutionized the potential of': {u'gold': u'landscape art',\n",
       "  u'training': True,\n",
       "  u'vals': {u\"'Art'\": 0.49019337,\n",
       "   u'-NIL-': 0.49180201,\n",
       "   u'Art': 0.49019337,\n",
       "   u'Art (album)': 0,\n",
       "   u'Art film': 0.51370198,\n",
       "   u'Art mac Cuinn': 0.51370198,\n",
       "   u'Art museum': 0.50029993,\n",
       "   u'Art of ancient Egypt': 0.43689379,\n",
       "   u'Christian art': 0.51612109,\n",
       "   u'Cover art': 0.46781915,\n",
       "   u'Indian art': 0.4821353,\n",
       "   u'Islamic art': 0.48640096,\n",
       "   u'Japanese art': 0.49019337,\n",
       "   u'Landscape art': 0.51612109,\n",
       "   u'Landscape painting': 0.4825072,\n",
       "   u\"The V.I.P.'s\": 0.5011428,\n",
       "   u'Work of art': 0.49019337,\n",
       "   u'XXNILXX': 0,\n",
       "   u'art': 0.47560441,\n",
       "   u'landscape art': 0.52263808}},\n",
       " u'In early 1492 D rer travelled to [Basel] to stay with another brother of Martin Schongauer , the': {u'gold': u'Basel',\n",
       "  u'training': True,\n",
       "  u'vals': {u'-NIL-': 0.47868505,\n",
       "   u'2008 Davidoff Swiss Indoors': 0,\n",
       "   u'ATP Basel': 0.51956892,\n",
       "   u'Basel': 0.46784613,\n",
       "   u'Basel Badischer Bahnhof': 0.51107246,\n",
       "   u'Basel SBB': 0.49057674,\n",
       "   u'Basel SBB railway station': 0.51577216,\n",
       "   u'Basel, Switzerland': 0.49057674,\n",
       "   u'Basel-Stadt': 0.51202136,\n",
       "   u'Canton of Basel': 0.4733268,\n",
       "   u'Davidoff Swiss Indoors': 0.51107246,\n",
       "   u'EuroAirport Basel\\u2013Mulhouse\\u2013Freiburg': 0.47939375,\n",
       "   u'FC Basel': 0.49057674,\n",
       "   u'FC Basel (women)': 0,\n",
       "   u'Prince-Bishopric of Basel': 0.48984066,\n",
       "   u'Roman Catholic Diocese of Basel': 0.48933068,\n",
       "   u'St. Jakob-Park': 0.4536311,\n",
       "   u'Swiss Indoors': 0.51956892,\n",
       "   u'University of Basel': 0.48404801,\n",
       "   u'XXNILXX': 0}},\n",
       " u'It contained an unprecedented 1,809 [woodcut] illustrations -LRB- with many repeated uses of the same block': {u'gold': u'Woodcut',\n",
       "  u'training': True,\n",
       "  u'vals': {u'-NIL-': 0.50178283,\n",
       "   u\"D\\xfcrer's Rhinoceros\": 0.47438082,\n",
       "   u'Woodblock printing': 0.47580659,\n",
       "   u'Woodcut': 0.45853722,\n",
       "   u'Woodcut print': 0.50146949,\n",
       "   u'XXNILXX': 0,\n",
       "   u'woodblock printing': 0.49801669,\n",
       "   u'woodcut': 0.55135095}},\n",
       " u'It had strong links with [Italy] , especially Venice , a relatively short distance across the': {u'gold': u'Italy',\n",
       "  u'training': True,\n",
       "  u'vals': {u'-NIL-': 0.5073331,\n",
       "   u'A1 Team Italy': 0.49350202,\n",
       "   u'Cinema of Italy': 0.48782369,\n",
       "   u'Italian Campaign (World War II)': 0.48174736,\n",
       "   u'Italian Football Federation': 0.49772221,\n",
       "   u'Italian Rugby Federation': 0.45141307,\n",
       "   u'Italian poetry': 0.49822044,\n",
       "   u'Italy': 0.48285839,\n",
       "   u'Italy national athletics team': 0.51775926,\n",
       "   u'Italy national baseball team': 0.45949841,\n",
       "   u'Italy national basketball team': 0.5174315,\n",
       "   u'Italy national football team': 0.46763569,\n",
       "   u'Italy national rugby league team': 0.49863699,\n",
       "   u'Italy national rugby union team': 0.51436782,\n",
       "   u'Italy national under-21 football team': 0.53693676,\n",
       "   u\"Italy women's national football team\": 0.46763569,\n",
       "   u'Kingdom of Italy': 0.49863699,\n",
       "   u'Kingdom of Italy (1861\\u20131946)': 0.45869118,\n",
       "   u'Lega Basket Serie A': 0.48211592,\n",
       "   u'XXNILXX': 0}},\n",
       " u\"It is probable that D rer 's engraved copies after [Mantegna] were made at this time , before his trip to\": {u'gold': u'Andrea Mantegna',\n",
       "  u'training': True,\n",
       "  u'vals': {u'-NIL-': 0.51370198,\n",
       "   u'Andrea Mantegna': 0.51079071,\n",
       "   u'Andrea Mantegna ': 0,\n",
       "   u'Mantegna': 0.51370198,\n",
       "   u'XXNILXX': 0}},\n",
       " u'Italy , alone , perhaps stimulated by an outbreak of [plague] in Nuremberg .': {u'gold': u'Black Death',\n",
       "  u'training': True,\n",
       "  u'vals': {u'-NIL-': 0.50813651,\n",
       "   u'Black Death': 0.50813651,\n",
       "   u'Bubonic plague': 0.47683609,\n",
       "   u'Epidemic': 0.4726831,\n",
       "   u'Great Plague of London': 0,\n",
       "   u'Klinik': 0.49416086,\n",
       "   u'Pandemic': 0.47683609,\n",
       "   u'Plague': 0,\n",
       "   u'Plague (1978 film)': 0.48834372,\n",
       "   u'Plague (band)': 0,\n",
       "   u'Plague (comics)': 0,\n",
       "   u'Plague (disease)': 0.52301902,\n",
       "   u'Plague (song)': 0,\n",
       "   u'Plague of Athens': 0.47629857,\n",
       "   u'Plagues of Egypt': 0,\n",
       "   u'XXNILXX': 0,\n",
       "   u'bubonic plague': 0,\n",
       "   u'pandemic': 0.48336777,\n",
       "   u'plague': 0.47683609,\n",
       "   u'plague (disease)': 0.47629857}},\n",
       " u\"May 21 , 1471 '' ndash ; April 6 , [1528] -RRB- was a German painter , printmaker and theorist from\": {u'gold': u'1528',\n",
       "  u'training': True,\n",
       "  u'vals': {u'-NIL-': 0.4664762,\n",
       "   u'1520s in England': 0.46686506,\n",
       "   u'1528': 0.51777577,\n",
       "   u'1528 in England': 0.47095501,\n",
       "   u'1528 in India': 0.47683609,\n",
       "   u'1528 in Ireland': 0,\n",
       "   u'1528 in Portugal': 0,\n",
       "   u'1528 in Scotland': 0,\n",
       "   u'1528 in Spain': 0,\n",
       "   u'1528 in art': 0,\n",
       "   u'1528 in literature': 0.45900625,\n",
       "   u'1528 in poetry': 0,\n",
       "   u'1528 in science': 0,\n",
       "   u'16th century in literature': 0.50813651,\n",
       "   u'HD 30453': 0,\n",
       "   u'Midland Railway 1528 Class': 0,\n",
       "   u'Minuscule 1528': 0,\n",
       "   u'Minuscule 1528 (Gregory-Aland)': 0,\n",
       "   u'United Nations Security Council Resolution 1528': 0,\n",
       "   u'XXNILXX': 0}},\n",
       " u'Northern art , through his knowledge of Italian artists and [German humanists] , have secured his reputation as one of the most': {u'gold': u'Humanism in Germany',\n",
       "  u'training': True,\n",
       "  u'vals': {u'-NIL-': 0.53057724,\n",
       "   u'German humanists': 0,\n",
       "   u'Humanism': 0.50012451,\n",
       "   u'Humanism in Germany': 0.50208503,\n",
       "   u'Humanist': 0.48607454,\n",
       "   u'Humanist (electronic seminar)': 0,\n",
       "   u'Humanist (science fiction)': 0,\n",
       "   u'Humanists': 0.46362227,\n",
       "   u'Humanities': 0.44707268,\n",
       "   u'Parti humaniste du Qu\\xe9bec': 0.49079031,\n",
       "   u'Religious humanism': 0.53039449,\n",
       "   u'Renaissance Humanism': 0.46362227,\n",
       "   u'Renaissance humanism': 0.51338768,\n",
       "   u'Renaissance humanism in Northern Europe': 0.54581851,\n",
       "   u'Renaissance humanist': 0.49625096,\n",
       "   u'Secular humanism': 0.50268984,\n",
       "   u'XXNILXX': 0,\n",
       "   u'humanism': 0.54581851,\n",
       "   u'humanists': 0.48246565,\n",
       "   u'secular humanism': 0.49188632}},\n",
       " u\"Panofsky argues that this print combined the ' [Ulm] ian style ' of Koberger 's ' Lives of the\": {u'gold': u'Ulm',\n",
       "  u'training': True,\n",
       "  u'vals': {u'-NIL-': 0.50025797,\n",
       "   u'Battle of Ulm': 0.50594491,\n",
       "   u'David Ulm': 0,\n",
       "   u'Donaustadion': 0.45669565,\n",
       "   u'Free Imperial City of Ulm': 0,\n",
       "   u'Ratiopharm Ulm': 0.53849208,\n",
       "   u'Robert Ulm': 0,\n",
       "   u'SSV Ulm': 0.48454103,\n",
       "   u'SSV Ulm 1846': 0.45327473,\n",
       "   u'SSV Ulm 1846 Fu\\xdfball': 0,\n",
       "   u'Trams in Ulm': 0,\n",
       "   u'Ulm': 0.48454103,\n",
       "   u'Ulm Campaign': 0.45419511,\n",
       "   u'Ulm Central Station': 0.50298643,\n",
       "   u'Ulm Hauptbahnhof': 0.42804238,\n",
       "   u'Ulm Minster': 0.45315742,\n",
       "   u'Ulm, Arkansas': 0,\n",
       "   u'Ulm, Montana': 0.47314647,\n",
       "   u'XXNILXX': 0,\n",
       "   u'ratiopharm Ulm': 0.49284315}},\n",
       " u'Strassbourg , where he would have experienced the scultpure of [Nikolaus Gerhaert] .': {u'gold': u'Nikolaus Gerhaert',\n",
       "  u'training': True,\n",
       "  u'vals': {u'-NIL-': 0.44370589,\n",
       "   u'Gerhaert': 0.50111276,\n",
       "   u'Nikolaus Gerhaert': 0.4586778,\n",
       "   u'XXNILXX': 0}},\n",
       " u'Very soon after his return to Nuremberg , on [July 7] , 1494 , at the age of 23 , D': {u'gold': u'July 7',\n",
       "  u'training': True,\n",
       "  u'vals': {u'-NIL-': 0.50893271,\n",
       "   u'/July': 0.46478149,\n",
       "   u'7 July 2005 London bombings': 0.46016622,\n",
       "   u'CMLL Super Viernes (July 2014)': 0,\n",
       "   u'Deaths in July 2011': 0,\n",
       "   u'July': 0.47906297,\n",
       "   u'July (band)': 0,\n",
       "   u'July (song)': 0,\n",
       "   u'July 1911': 0,\n",
       "   u'July 1966': 0,\n",
       "   u'July 1971': 0,\n",
       "   u'July 1972': 0,\n",
       "   u'July 1973': 0,\n",
       "   u'July 1975': 0,\n",
       "   u'July 2005': 0.49490395,\n",
       "   u'July 2006': 0.46463141,\n",
       "   u'July 7': 0.45792502,\n",
       "   u'July 7 (Eastern Orthodox liturgics)': 0,\n",
       "   u'July 7, 2005 London bombings': 0.49360153,\n",
       "   u'XXNILXX': 0}},\n",
       " u'a little later , a series of eleven on the [Holy Family] and saints .': {u'gold': u'Holy Family',\n",
       "  u'training': True,\n",
       "  u'vals': {u'(One Glance Is) Holy': 0,\n",
       "   u'-NIL-': 0.44788966,\n",
       "   u'Holy': 0.44220433,\n",
       "   u'Holy (Bottom episode)': 0,\n",
       "   u'Holy (Bottom)': 0,\n",
       "   u'Holy (In Strict Confidence album)': 0,\n",
       "   u'Holy (U.D.O. album)': 0,\n",
       "   u'Holy (short story)': 0,\n",
       "   u'Holy Family': 0.43956208,\n",
       "   u'Holy Family (Bronzino)': 0,\n",
       "   u'Holy Family (Mantegna)': 0,\n",
       "   u'Holy Family Academy (Bayonne, New Jersey)': 0,\n",
       "   u'Holy Family Catholic Church (Frenchtown, Ohio)': 0,\n",
       "   u'Holy Family Catholic School (New Hamburg)': 0,\n",
       "   u'Holy Family Cristo Rey High School (Birmingham, Alabama)': 0,\n",
       "   u'Holy Family Roman Catholic Church, Parkdale': 0.47629878,\n",
       "   u'Holy Family University': 0.45894662,\n",
       "   u'Holy Records': 0.48454103,\n",
       "   u'Sacred': 0.43587893,\n",
       "   u'XXNILXX': 0}},\n",
       " u'after his return to Nuremberg , on July 7 , [1494] , at the age of 23 , D rer was': {u'gold': u'1494',\n",
       "  u'training': True,\n",
       "  u'vals': {u'-NIL-': 0.47459087,\n",
       "   u'1490s in architecture': 0,\n",
       "   u'1490s in art': 0.45929223,\n",
       "   u'1490s in poetry': 0.5174315,\n",
       "   u'1494': 0.46128243,\n",
       "   u'1494 AM': 0,\n",
       "   u'1494 Yellow River flood': 0,\n",
       "   u'1494 in Ireland': 0,\n",
       "   u'1494 in Portugal': 0,\n",
       "   u'1494 in Scotland': 0,\n",
       "   u'1494 in Serbia': 0,\n",
       "   u'1494 in architecture': 0,\n",
       "   u'1494 in art': 0.45929223,\n",
       "   u'1494 in literature': 0.48556304,\n",
       "   u'1494 in poetry': 0.4968389,\n",
       "   u'15th century in literature': 0.49984753,\n",
       "   u'DXOC': 0.49984753,\n",
       "   u'Treaty of Tordesillas': 0.49984753,\n",
       "   u'United Nations Security Council Resolution 1494': 0,\n",
       "   u'XXNILXX': 0}},\n",
       " u\"but who died shortly before D rer 's arrival at [Colmar] in 1492 .\": {u'gold': u'Colmar',\n",
       "  u'training': True,\n",
       "  u'vals': {u'-NIL-': 0.50710225,\n",
       "   u'2012\\u201313 SR Colmar season': 0,\n",
       "   u'Arrondissement of Colmar': 0.46200219,\n",
       "   u'Breguet 500 Colmar': 0,\n",
       "   u'Colmar': 0.51255822,\n",
       "   u'Colmar (SEPTA station)': 0,\n",
       "   u'Colmar \\u2013 Meyenheim Air Base': 0,\n",
       "   u'Colmar, France': 0.4503026,\n",
       "   u'Colmar, Illinois': 0,\n",
       "   u'Colmar, Kentucky': 0,\n",
       "   u'Colmar, New Mexico': 0,\n",
       "   u'Colmar, Pennsylvania': 0,\n",
       "   u'Fortified Sector of Colmar': 0.5072068,\n",
       "   u'Gare de Colmar': 0.47652787,\n",
       "   u'Israelite Consistory of the Upper Rhine': 0,\n",
       "   u'Music of Colmar': 0,\n",
       "   u'SR Colmar': 0.42550653,\n",
       "   u'XXNILXX': 0}},\n",
       " u'classical motifs into Northern art , through his knowledge of [Italian artists] and German humanists , have secured his reputation as one': {u'gold': u'Italian Renaissance',\n",
       "  u'training': True,\n",
       "  u'vals': {u'-NIL-': 0.48984066,\n",
       "   u'Artist': 0.48404801,\n",
       "   u'Artist (film)': 0,\n",
       "   u'Artists': 0.45940271,\n",
       "   u'Artists (radio series)': 0,\n",
       "   u'Comic book': 0.50450814,\n",
       "   u'Contemporary Indigenous Australian art': 0.52096814,\n",
       "   u'Corps de ballet': 0.48299831,\n",
       "   u'Game artist': 0.45644137,\n",
       "   u'Italian Renaissance': 0.47395709,\n",
       "   u'Italian artists': 0.47867462,\n",
       "   u'List of Italians': 0.51956892,\n",
       "   u'Music artist (occupation)': 0,\n",
       "   u'Musician': 0.51956892,\n",
       "   u'Painting': 0.50985217,\n",
       "   u'Visual arts': 0,\n",
       "   u'XXNILXX': 0,\n",
       "   u'artist': 0.51956892,\n",
       "   u'artists': 0.52096814,\n",
       "   u'musician': 0.47867462}},\n",
       " u\"common German custom of taking '' Wanderjahre '' in effect [gap year] s in which the apprentice learned skills from artists in\": {u'gold': u'gap year',\n",
       "  u'training': True,\n",
       "  u'vals': {u'-NIL-': 0.44105238,\n",
       "   u'1977\\u201378 NBA season': 0.46463707,\n",
       "   u'1997 in sports': 0.44814217,\n",
       "   u'Annum': 0.50645167,\n",
       "   u'Calendar year': 0.45341241,\n",
       "   u'Gap year': 0.50449318,\n",
       "   u'Julian year (astronomy)': 0.51480997,\n",
       "   u'Playoffs': 0.46682611,\n",
       "   u'Season': 0.5032531,\n",
       "   u'Season (sports)': 0.44105238,\n",
       "   u'Sexagenary cycle': 0.48024091,\n",
       "   u'Sports timeline': 0,\n",
       "   u'United States House of Representatives': 0.47835112,\n",
       "   u'XXNILXX': 0,\n",
       "   u'Year': 0.53175575,\n",
       "   u'Year (metadata)': 0,\n",
       "   u'Year in comics': 0,\n",
       "   u'gap year': 0.53175575,\n",
       "   u'season': 0.47043437,\n",
       "   u'year': 0.49910352}},\n",
       " u'drawings and engravings show the influence of others , notably [Antonio Pollaiuolo] with his interest in the proportions of the body ,': {u'gold': u'Antonio del Pollaiolo',\n",
       "  u'training': True,\n",
       "  u'vals': {u'-NIL-': 0.492028,\n",
       "   u'Antonio Pollaiuolo': 0.45820963,\n",
       "   u'Antonio del Pollaiolo': 0.46314991,\n",
       "   u'Pollaiolo': 0.40938395,\n",
       "   u'Pollaiuolo': 0.46666497,\n",
       "   u'XXNILXX': 0}},\n",
       " u'had learned how to make prints in drypoint and design [woodcut] s in the German style , based on the works': {u'gold': u'Woodcut',\n",
       "  u'training': True,\n",
       "  u'vals': {u'-NIL-': 0.47395164,\n",
       "   u\"D\\xfcrer's Rhinoceros\": 0.47395164,\n",
       "   u'Woodblock printing': 0.49058542,\n",
       "   u'Woodcut': 0.49284151,\n",
       "   u'Woodcut print': 0.49284151,\n",
       "   u'XXNILXX': 0,\n",
       "   u'woodblock printing': 0.46455702,\n",
       "   u'woodcut': 0.44675231}},\n",
       " u'in the German style , based on the works of [Martin Schongauer] and the Housebook Master .': {u'gold': u'Martin Schongauer',\n",
       "  u'training': True,\n",
       "  u'vals': {u'-NIL-': 0.47023717,\n",
       "   u'Martin Schongauer': 0.44633895,\n",
       "   u'Schongauer': 0.47023717,\n",
       "   u'XXNILXX': 0}},\n",
       " u'interest in the proportions of the body , Mantegna , [Lorenzo di Credi] and others .': {u'gold': u'Lorenzo di Credi',\n",
       "  u'training': True,\n",
       "  u'vals': {u'-NIL-': 0.48295483,\n",
       "   u'Credi': 0.48734248,\n",
       "   u'Di Credi': 0,\n",
       "   u'Lorenzo di Credi': 0.48501593,\n",
       "   u'XXNILXX': 0,\n",
       "   u'di Credi': 0}},\n",
       " u'is reinforced by his theoretical treatise which involve principles of [mathematics] , perspective and ideal proportions .': {u'gold': u'Mathematics',\n",
       "  u'training': True,\n",
       "  u'vals': {u'-NIL-': 0.51138145,\n",
       "   u'Chinese mathematics': 0.51147914,\n",
       "   u'Greek mathematics': 0.52029526,\n",
       "   u'History of mathematics': 0.49726743,\n",
       "   u'Indian mathematics': 0.45371789,\n",
       "   u'Islamic mathematics': 0.45546994,\n",
       "   u'Mathematic': 0.4675104,\n",
       "   u'Mathematics': 0.52029526,\n",
       "   u'Mathematics (Cherry Ghost song)': 0,\n",
       "   u'Mathematics (producer)': 0.502671,\n",
       "   u'Mathematics (song)': 0,\n",
       "   u'Mathematics and Computing College': 0.52029526,\n",
       "   u'Mathematics education': 0.46319696,\n",
       "   u'Mathematics in medieval Islam': 0.54170454,\n",
       "   u'Outline of mathematics': 0.51929915,\n",
       "   u'Philosophy of mathematics': 0.49726743,\n",
       "   u'Wolf Prize in Mathematics': 0.55135095,\n",
       "   u'XXNILXX': 0,\n",
       "   u'mathematic': 0.51138145,\n",
       "   u'mathematics': 0.46570617}},\n",
       " u'many repeated uses of the same block -RRB- by the [Wolgemut] workshop .': {u'gold': u'Michael Wolgemut',\n",
       "  u'training': True,\n",
       "  u'vals': {u'-NIL-': 0.42804238,\n",
       "   u'Michael Wolgemut': 0.44220433,\n",
       "   u'Wolgemut': 0.46422654,\n",
       "   u'XXNILXX': 0}},\n",
       " u'period , though it is likely that he went to [Frankfurt] and the Netherlands .': {u'gold': u'Frankfurt am Main',\n",
       "  u'training': True,\n",
       "  u'vals': {u'-NIL-': 0.48577511,\n",
       "   u'1. FFC Frankfurt': 0.48970413,\n",
       "   u'Commerzbank-Arena': 0.46485013,\n",
       "   u'Eintracht Frankfurt': 0.45302218,\n",
       "   u'Frankfurt': 0.48485589,\n",
       "   u'Frankfurt (Main) Hauptbahnhof': 0.43426928,\n",
       "   u'Frankfurt (Oder)': 0.4733364,\n",
       "   u'Frankfurt Airport': 0.4733364,\n",
       "   u'Frankfurt Central Station': 0.48944378,\n",
       "   u'Frankfurt Cup': 0,\n",
       "   u'Frankfurt Grand Prix (tennis)': 0,\n",
       "   u'Frankfurt Hauptbahnhof': 0.457203,\n",
       "   u'Frankfurt International Airport': 0.47224984,\n",
       "   u'Frankfurt Stock Exchange': 0.47865185,\n",
       "   u'Frankfurt am Main': 0.48400205,\n",
       "   u'Frankfurt, Germany': 0.46737286,\n",
       "   u'Free City of Frankfurt': 0.48485589,\n",
       "   u'Goethe University Frankfurt': 0.4733364,\n",
       "   u'Grand Duchy of Frankfurt': 0.50815803,\n",
       "   u'XXNILXX': 0}},\n",
       " u\"produced the first seventeen of a set illustrating the '' [Life of the Virgin] '' , which he did not finish for some years\": {u'gold': u'Life of the Virgin',\n",
       "  u'training': True,\n",
       "  u'vals': {u'-NIL-': 0.48883942,\n",
       "   u'Life': 0.48317146,\n",
       "   u'Life (1999 film)': 0,\n",
       "   u'Life (BBC TV series)': 0.500337,\n",
       "   u\"Life (Des'ree song)\": 0,\n",
       "   u'Life (NBC TV series)': 0.39135596,\n",
       "   u'Life (Ricky Martin album)': 0,\n",
       "   u'Life (ZOEgirl album)': 0,\n",
       "   u'Life (magazine)': 0.49104688,\n",
       "   u'Life Racing Engines': 0.45850855,\n",
       "   u'Life University': 0.50645167,\n",
       "   u'Life Virgin': 0,\n",
       "   u'Life magazine': 0.48034039,\n",
       "   u'Life of': 0,\n",
       "   u'Life of the': 0,\n",
       "   u'Life of the Virgin': 0.469134,\n",
       "   u'Life of the Virgin (Biography)': 0.45474547,\n",
       "   u'Life of the Virgin (D\\xfcrer)': 0,\n",
       "   u'Life of the Virgin (Maximus)': 0,\n",
       "   u'XXNILXX': 0}},\n",
       " u'reputation as one of the most important figures of the [Northern Renaissance] .': {u'gold': u'Northern Renaissance',\n",
       "  u'training': True,\n",
       "  u'vals': {u'-NIL-': 0.46463811,\n",
       "   u'Dutch and Flemish Renaissance painting': 0.46334735,\n",
       "   u'French Renaissance': 0.51948869,\n",
       "   u'Italian Renaissance': 0.44936651,\n",
       "   u'Northern Renaissance': 0.4961502,\n",
       "   u'Renaissance': 0.47585943,\n",
       "   u'Renaissance (band)': 0.45248556,\n",
       "   u'Renaissance (club)': 0,\n",
       "   u'Renaissance (film)': 0,\n",
       "   u'Renaissance (song)': 0,\n",
       "   u'Renaissance Recordings': 0.51948869,\n",
       "   u'Renaissance Revival architecture': 0.45352185,\n",
       "   u'Renaissance architecture': 0.43950891,\n",
       "   u'Renaissance art': 0.45820963,\n",
       "   u'Renaissance in Poland': 0.44936651,\n",
       "   u'Renaissance in Scotland': 0.47159415,\n",
       "   u'Renaissance literature': 0.48664594,\n",
       "   u'Renaissance music': 0.48664594,\n",
       "   u'The Renaissance': 0.46930504,\n",
       "   u'XXNILXX': 0}},\n",
       " u'rer trained himself in the difficult art of using the [burin] to make engraving s .': {u'gold': u'Burin',\n",
       "  u'training': True,\n",
       "  u'vals': {u'-NIL-': 0.4675104,\n",
       "   u'Burin': 0.4675104,\n",
       "   u'Burin (tool)': 0.5076673,\n",
       "   u'Burin Peninsula': 0.51190549,\n",
       "   u'Burin, Nablus': 0,\n",
       "   u'Burin, Newfoundland and Labrador': 0.5076673,\n",
       "   u'XXNILXX': 0,\n",
       "   u'burin': 0.47910124,\n",
       "   u'burin (tool)': 0.45050541}},\n",
       " u'talent in drawing that he started as an apprentice to [Michael Wolgemut] at the age of fifteen in 1486 .': {u'gold': u'Michael Wolgemut',\n",
       "  u'training': True,\n",
       "  u'vals': {u'-NIL-': 0.46856055,\n",
       "   u'Michael Wolgemut': 0.45544735,\n",
       "   u'Wolgemut': 0.47528613,\n",
       "   u'XXNILXX': 0}},\n",
       " u\"the masterpiece , the '' Prodigal Son , '' which [Vasari] singled out for praise some decades later , noting its\": {u'gold': u'Giorgio Vasari',\n",
       "  u'training': True,\n",
       "  u'vals': {u'-NIL-': 0.4840683,\n",
       "   u'Gaetano Vasari': 0.49702904,\n",
       "   u'Giorgio Vasari': 0.46984473,\n",
       "   u'Lives of the Most Excellent Painters, Sculptors, and Architects': 0.46304801,\n",
       "   u'Lives of the Painters': 0.5098334,\n",
       "   u'Vasari': 0.49987325,\n",
       "   u'XXNILXX': 0}},\n",
       " u'theoretical treatise which involve principles of mathematics , perspective and [ideal proportions] .': {u'gold': u'body proportions',\n",
       "  u'training': True,\n",
       "  u'vals': {u'-NIL-': 0.51241356,\n",
       "   u'Body proportions': 0.51241356,\n",
       "   u'Golden ratio': 0.45940271,\n",
       "   u'Ideal proportions': 0,\n",
       "   u'Musical tuning': 0.4619343,\n",
       "   u'Proportion': 0.51241356,\n",
       "   u'Proportion (architecture)': 0,\n",
       "   u'Proportionality': 0.47867462,\n",
       "   u'Proportionality (mathematics)': 0.50905669,\n",
       "   u'Proportions': 0.44523504,\n",
       "   u'Ratio': 0.51241356,\n",
       "   u'XXNILXX': 0,\n",
       "   u'aspect ratio': 0.49197254,\n",
       "   u'body proportions': 0.48933926,\n",
       "   u'ideal proportions': 0,\n",
       "   u'musical tuning': 0.49197254,\n",
       "   u'proportion': 0.49285161,\n",
       "   u'proportion (architecture)': 0,\n",
       "   u'proportionality (mathematics)': 0.49285161,\n",
       "   u'proportions': 0.43865439}},\n",
       " u'works in the first years of the workshop were his [woodcut] prints , mostly religious , but including secular scenes such': {u'gold': u'Woodcut',\n",
       "  u'training': True,\n",
       "  u'vals': {u'-NIL-': 0.53009999,\n",
       "   u\"D\\xfcrer's Rhinoceros\": 0.46446154,\n",
       "   u'Woodblock printing': 0.47255644,\n",
       "   u'Woodcut': 0.49012798,\n",
       "   u'Woodcut print': 0.48547187,\n",
       "   u'XXNILXX': 0,\n",
       "   u'woodblock printing': 0.46446154,\n",
       "   u'woodcut': 0.48992521}}}"
      ]
     },
     "execution_count": 34,
     "metadata": {},
     "output_type": "execute_result"
    }
   ],
   "source": [
    "queries.values()[10]"
   ]
  },
  {
   "cell_type": "code",
   "execution_count": 142,
   "metadata": {
    "collapsed": true
   },
   "outputs": [],
   "source": [
    "queries_exp.compute_batch()"
   ]
  },
  {
   "cell_type": "code",
   "execution_count": 88,
   "metadata": {
    "collapsed": false
   },
   "outputs": [],
   "source": [
    "gg_func = theano.function(\n",
    "    queries_exp.func_inputs,\n",
    "    [queries_exp.loss_vec, queries_exp.source_out, queries_exp.target_out] + T.grad(queries_exp.loss_vec.mean(), queries_exp.all_params),\n",
    "    updates=queries_exp.updates,\n",
    "    on_unused_input='ignore',\n",
    ")"
   ]
  },
  {
   "cell_type": "code",
   "execution_count": 91,
   "metadata": {
    "collapsed": false
   },
   "outputs": [],
   "source": [
    "res1 = gg_func(\n",
    "    queries_exp.current_documents,\n",
    "    queries_exp.current_surface_link, queries_exp.current_surface_context, queries_exp.current_link_id,\n",
    "    queries_exp.current_target_input, queries_exp.current_target_matches_surface, queries_exp.current_target_id, queries_exp.current_target_goal\n",
    ")"
   ]
  },
  {
   "cell_type": "code",
   "execution_count": 92,
   "metadata": {
    "collapsed": false
   },
   "outputs": [
    {
     "data": {
      "text/plain": [
       "(0.24814822, 0.24238527, 0.23680143)"
      ]
     },
     "execution_count": 92,
     "metadata": {},
     "output_type": "execute_result"
    }
   ],
   "source": [
    "res1[0].max(), res1[0].mean(), res1[0].min()"
   ]
  },
  {
   "cell_type": "code",
   "execution_count": 81,
   "metadata": {
    "collapsed": false
   },
   "outputs": [
    {
     "data": {
      "text/plain": [
       "array([  76.69731903,  172.44116211,  139.30476379, -182.91343689,\n",
       "        172.44116211,  172.44116211,  -13.79522324,   97.6740036 ,\n",
       "         11.84405231,   36.98944092], dtype=float32)"
      ]
     },
     "execution_count": 81,
     "metadata": {},
     "output_type": "execute_result"
    }
   ],
   "source": [
    "np.dot(res1[1][0], res1[2][0:10,:].T)"
   ]
  },
  {
   "cell_type": "code",
   "execution_count": 83,
   "metadata": {
    "collapsed": false
   },
   "outputs": [
    {
     "data": {
      "text/plain": [
       "array([ 0.24216416,  0.24294616,  0.24274334,  0.23833458,  0.24294616,\n",
       "        0.24294616,  0.24024701,  0.24193516,  0.24127102,  0.24146625], dtype=float32)"
      ]
     },
     "execution_count": 83,
     "metadata": {},
     "output_type": "execute_result"
    }
   ],
   "source": [
    "res1[0][0:10]"
   ]
  },
  {
   "cell_type": "code",
   "execution_count": 71,
   "metadata": {
    "collapsed": false
   },
   "outputs": [
    {
     "data": {
      "text/plain": [
       "9.7740622e-06"
      ]
     },
     "execution_count": 71,
     "metadata": {},
     "output_type": "execute_result"
    }
   ],
   "source": [
    "res1[3:][0].std()"
   ]
  },
  {
   "cell_type": "code",
   "execution_count": 53,
   "metadata": {
    "collapsed": false
   },
   "outputs": [
    {
     "data": {
      "text/plain": [
       "[surface_cxt_conv1.W,\n",
       " surface_cxt_conv1.b,\n",
       " surface_conv1.W,\n",
       " surface_conv1.b,\n",
       " surface_dens1.W,\n",
       " surface_dens1.b,\n",
       " source_dens1.W,\n",
       " source_dens1.b,\n",
       " source_dens12.W,\n",
       " source_dens12.b,\n",
       " source_dens2.W,\n",
       " source_dens2.b,\n",
       " document_conv1.W,\n",
       " document_conv1.b,\n",
       " doucment_dens1.W,\n",
       " doucment_dens1.b,\n",
       " document_dens2.W,\n",
       " document_dens2.b]"
      ]
     },
     "execution_count": 53,
     "metadata": {},
     "output_type": "execute_result"
    }
   ],
   "source": [
    "queries_exp.all_params"
   ]
  },
  {
   "cell_type": "code",
   "execution_count": 197,
   "metadata": {
    "collapsed": false
   },
   "outputs": [
    {
     "data": {
      "text/plain": [
       "0.24253285"
      ]
     },
     "execution_count": 197,
     "metadata": {},
     "output_type": "execute_result"
    }
   ],
   "source": [
    "res1[0].mean()"
   ]
  },
  {
   "cell_type": "code",
   "execution_count": 198,
   "metadata": {
    "collapsed": false
   },
   "outputs": [
    {
     "data": {
      "text/plain": [
       "array([-10.04426765,  -8.85146523,  -6.5927825 ,  -5.64352655,\n",
       "        -6.2810235 , -10.34654236,  -6.09899616,   1.8380394 ,\n",
       "        -3.23892975,  -6.04222679,  -8.91859531,   1.09592962,\n",
       "        -5.27822304, -12.33982086,  -5.90433264], dtype=float32)"
      ]
     },
     "execution_count": 198,
     "metadata": {},
     "output_type": "execute_result"
    }
   ],
   "source": [
    "np.dot(res1[2][0,:],res1[1][0:15,:].T)"
   ]
  },
  {
   "cell_type": "code",
   "execution_count": 178,
   "metadata": {
    "collapsed": false
   },
   "outputs": [
    {
     "data": {
      "text/plain": [
       "-5.4103508"
      ]
     },
     "execution_count": 178,
     "metadata": {},
     "output_type": "execute_result"
    }
   ],
   "source": [
    "res1[2][0,:].min()"
   ]
  },
  {
   "cell_type": "code",
   "execution_count": 168,
   "metadata": {
    "collapsed": false
   },
   "outputs": [
    {
     "data": {
      "text/plain": [
       "-0.82824624"
      ]
     },
     "execution_count": 168,
     "metadata": {},
     "output_type": "execute_result"
    }
   ],
   "source": [
    "res1[1][0,:]"
   ]
  },
  {
   "cell_type": "code",
   "execution_count": null,
   "metadata": {
    "collapsed": false
   },
   "outputs": [],
   "source": [
    "np.isnan(gg_res[0]).any()"
   ]
  },
  {
   "cell_type": "code",
   "execution_count": null,
   "metadata": {
    "collapsed": false
   },
   "outputs": [],
   "source": [
    "gg_res[2].mean()"
   ]
  },
  {
   "cell_type": "code",
   "execution_count": null,
   "metadata": {
    "collapsed": false
   },
   "outputs": [],
   "source": [
    "gg_res[0].mean()"
   ]
  },
  {
   "cell_type": "code",
   "execution_count": null,
   "metadata": {
    "collapsed": false
   },
   "outputs": [],
   "source": [
    "[(v, np.isnan(v.get_value(borrow=True)).all()) for v in queries_exp.all_params]"
   ]
  },
  {
   "cell_type": "code",
   "execution_count": null,
   "metadata": {
    "collapsed": false
   },
   "outputs": [],
   "source": [
    "queries_exp.total_links"
   ]
  },
  {
   "cell_type": "code",
   "execution_count": null,
   "metadata": {
    "collapsed": false
   },
   "outputs": [],
   "source": [
    "theano.printing.pydotprint(T.grad(queries_exp.loss_vec.mean(), queries_exp.all_params))"
   ]
  },
  {
   "cell_type": "code",
   "execution_count": null,
   "metadata": {
    "collapsed": false
   },
   "outputs": [],
   "source": [
    "gg_func = theano.function(\n",
    "            [queries_exp.x_document_input,\n",
    "             queries_exp.x_surface_text_input, queries_exp.x_document_id,\n",
    "             queries_exp.x_target_input, queries_exp.x_link_id, queries_exp.y_score],\n",
    "            T.grad(queries_exp.loss_vec.mean(), lasagne.layers.get_all_params(queries_exp.target_dens2)),\n",
    "#           T.grad(queries_exp.loss_vec.mean(), queries_exp.all_params),\n",
    "    #             [queries_exp.target_out, queries_exp.source_aligned_l, \n",
    "#              T.dot(queries_exp.target_out, queries_exp.source_aligned_l.T).diagonal(),\n",
    "#              queries_exp.target_out.norm(2, axis=1) * queries_exp.source_aligned_l.norm(2, axis=1),\n",
    "#              T.batched_dot(queries_exp.target_out, queries_exp.source_aligned_l),\n",
    "#              lasagne.layers.get_output(queries_exp.target_dens2),\n",
    "#              queries_exp.target_out.norm(2, axis=1),\n",
    "#              #T.grad(queries_exp.loss_vec.mean(), queries_exp.all_params)\n",
    "#             ],\n",
    "        #[queries_exp.res_l, queries_exp.loss_vec.sum(), queries_exp.loss_vec],\n",
    "    on_unused_input='ignore',\n",
    "    mode='DebugMode'\n",
    "        )"
   ]
  },
  {
   "cell_type": "code",
   "execution_count": 19,
   "metadata": {
    "collapsed": false
   },
   "outputs": [],
   "source": [
    "gg_func = theano.function(\n",
    "            [queries_exp.x_document_input,\n",
    "             queries_exp.x_surface_text_input, queries_exp.x_document_id,\n",
    "             queries_exp.x_target_input, queries_exp.x_link_id, queries_exp.y_answer],\n",
    "            #[self.res_cap, self.loss_vec.sum(), self.loss_vec],\n",
    "            [queries_exp.res_cap],\n",
    "        mode='DebugMode',\n",
    "        on_unused_input='ignore',\n",
    "        )"
   ]
  },
  {
   "cell_type": "code",
   "execution_count": 20,
   "metadata": {
    "collapsed": false
   },
   "outputs": [],
   "source": [
    "try:\n",
    "    gg_grad_res = gg_func(\n",
    "        queries_exp.current_documents,\n",
    "        queries_exp.current_surface_text, queries_exp.current_link_id,\n",
    "        queries_exp.current_target_input, queries_exp.current_target_id, queries_exp.current_target_goal\n",
    "    )\n",
    "except Exception as e:\n",
    "    eeee = e"
   ]
  },
  {
   "cell_type": "code",
   "execution_count": 21,
   "metadata": {
    "collapsed": false
   },
   "outputs": [
    {
     "data": {
      "text/plain": [
       "ValueError('Bad input argument to theano function with name \"<ipython-input-19-c6e818cc55a5>:8\"  at index 4(0-based)',\n",
       "           'setting an array element with a sequence.')"
      ]
     },
     "execution_count": 21,
     "metadata": {},
     "output_type": "execute_result"
    }
   ],
   "source": [
    "eeee"
   ]
  },
  {
   "cell_type": "code",
   "execution_count": null,
   "metadata": {
    "collapsed": false
   },
   "outputs": [],
   "source": [
    "[np.isnan(v).any() for v in gg_grad_res]"
   ]
  },
  {
   "cell_type": "code",
   "execution_count": null,
   "metadata": {
    "collapsed": false
   },
   "outputs": [],
   "source": [
    "eeee"
   ]
  },
  {
   "cell_type": "code",
   "execution_count": null,
   "metadata": {
    "collapsed": false
   },
   "outputs": [],
   "source": [
    "len(queries_exp.current_target_input)"
   ]
  },
  {
   "cell_type": "code",
   "execution_count": null,
   "metadata": {
    "collapsed": false
   },
   "outputs": [],
   "source": [
    "gg_res = gg_func(\n",
    "    queries_exp.current_documents,\n",
    "    queries_exp.current_surface_text, queries_exp.current_link_id,\n",
    "    queries_exp.current_target_input, queries_exp.current_target_id, queries_exp.current_target_goal\n",
    ")"
   ]
  },
  {
   "cell_type": "code",
   "execution_count": null,
   "metadata": {
    "collapsed": false
   },
   "outputs": [],
   "source": [
    "len(queries_exp.current_target_input)"
   ]
  },
  {
   "cell_type": "code",
   "execution_count": null,
   "metadata": {
    "collapsed": false
   },
   "outputs": [],
   "source": [
    "np.isnan(gg_res[5]).any()"
   ]
  },
  {
   "cell_type": "code",
   "execution_count": null,
   "metadata": {
    "collapsed": false
   },
   "outputs": [],
   "source": [
    "gg_res[2]"
   ]
  },
  {
   "cell_type": "code",
   "execution_count": null,
   "metadata": {
    "collapsed": false
   },
   "outputs": [],
   "source": [
    "gg_res[0].shape, gg_res[1].shape, gg_res[2].shape, gg_res[3].shape, gg_res[4].shape"
   ]
  },
  {
   "cell_type": "code",
   "execution_count": null,
   "metadata": {
    "collapsed": false
   },
   "outputs": [],
   "source": [
    "np.inner(gg_res[0], gg_res[1]).shape"
   ]
  },
  {
   "cell_type": "code",
   "execution_count": null,
   "metadata": {
    "collapsed": false
   },
   "outputs": [],
   "source": [
    "gg_res[0] * gg_res[1]"
   ]
  },
  {
   "cell_type": "code",
   "execution_count": null,
   "metadata": {
    "collapsed": false
   },
   "outputs": [],
   "source": [
    "aa = np.dot(gg_res[0], gg_res[1].T)"
   ]
  },
  {
   "cell_type": "code",
   "execution_count": null,
   "metadata": {
    "collapsed": false
   },
   "outputs": [],
   "source": [
    "aa.diagonal().shape"
   ]
  },
  {
   "cell_type": "code",
   "execution_count": null,
   "metadata": {
    "collapsed": false
   },
   "outputs": [],
   "source": [
    "gg_res[2]"
   ]
  },
  {
   "cell_type": "code",
   "execution_count": null,
   "metadata": {
    "collapsed": false
   },
   "outputs": [],
   "source": [
    "len(queries_exp.queried_pages)"
   ]
  },
  {
   "cell_type": "code",
   "execution_count": null,
   "metadata": {
    "collapsed": false
   },
   "outputs": [],
   "source": [
    "len(queries_exp.page_content)"
   ]
  },
  {
   "cell_type": "code",
   "execution_count": null,
   "metadata": {
    "collapsed": false
   },
   "outputs": [],
   "source": [
    "len(queries_exp.current_surface_text)"
   ]
  },
  {
   "cell_type": "code",
   "execution_count": null,
   "metadata": {
    "collapsed": false
   },
   "outputs": [],
   "source": [
    "len(queries_exp.current_link_id)"
   ]
  },
  {
   "cell_type": "code",
   "execution_count": null,
   "metadata": {
    "collapsed": false
   },
   "outputs": [],
   "source": [
    "len(queries_exp.current_target_input)"
   ]
  },
  {
   "cell_type": "code",
   "execution_count": null,
   "metadata": {
    "collapsed": false
   },
   "outputs": [],
   "source": [
    "exp_results = []\n",
    "\n",
    "for i in xrange(5):\n",
    "    exp_results.append((i, queries_exp.compute_batch()))"
   ]
  },
  {
   "cell_type": "code",
   "execution_count": null,
   "metadata": {
    "collapsed": false
   },
   "outputs": [],
   "source": [
    "exp_results"
   ]
  },
  {
   "cell_type": "code",
   "execution_count": null,
   "metadata": {
    "collapsed": false
   },
   "outputs": [],
   "source": [
    "queries.values()"
   ]
  },
  {
   "cell_type": "code",
   "execution_count": null,
   "metadata": {
    "collapsed": false
   },
   "outputs": [],
   "source": [
    "queries_exp.total_links"
   ]
  },
  {
   "cell_type": "code",
   "execution_count": null,
   "metadata": {
    "collapsed": false
   },
   "outputs": [],
   "source": [
    "queries_exp.total_loss / queries_exp.total_links"
   ]
  },
  {
   "cell_type": "code",
   "execution_count": null,
   "metadata": {
    "collapsed": false
   },
   "outputs": [],
   "source": [
    "queries_exp.total_loss"
   ]
  },
  {
   "cell_type": "code",
   "execution_count": null,
   "metadata": {
    "collapsed": false
   },
   "outputs": [],
   "source": [
    "len(queries_exp.current_target_id)"
   ]
  },
  {
   "cell_type": "code",
   "execution_count": null,
   "metadata": {
    "collapsed": false
   },
   "outputs": [],
   "source": [
    "queries_exp.compute_batch()"
   ]
  },
  {
   "cell_type": "code",
   "execution_count": null,
   "metadata": {
    "collapsed": false
   },
   "outputs": [],
   "source": [
    "%time queries_exp.run_batch(queries_exp.test_func)"
   ]
  },
  {
   "cell_type": "code",
   "execution_count": null,
   "metadata": {
    "collapsed": true
   },
   "outputs": [],
   "source": []
  }
 ],
 "metadata": {
  "kernelspec": {
   "display_name": "Python 2",
   "language": "python",
   "name": "python2"
  },
  "language_info": {
   "codemirror_mode": {
    "name": "ipython",
    "version": 2
   },
   "file_extension": ".py",
   "mimetype": "text/x-python",
   "name": "python",
   "nbconvert_exporter": "python",
   "pygments_lexer": "ipython2",
   "version": "2.7.5"
  }
 },
 "nbformat": 4,
 "nbformat_minor": 0
}
