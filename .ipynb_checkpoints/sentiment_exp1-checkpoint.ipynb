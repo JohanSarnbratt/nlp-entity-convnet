{
 "cells": [
  {
   "cell_type": "code",
   "execution_count": 1,
   "metadata": {
    "collapsed": false
   },
   "outputs": [
    {
     "name": "stdout",
     "output_type": "stream",
     "text": [
      "Couldn't import dot_parser, loading of dot files will not be possible.\n"
     ]
    }
   ],
   "source": [
    "from theano import *\n",
    "from lasagne.layers import EmbeddingLayer, InputLayer, get_output\n",
    "import lasagne\n",
    "import lasagne.layers\n",
    "import theano.tensor as T\n",
    "import theano\n",
    "import numpy as np"
   ]
  },
  {
   "cell_type": "code",
   "execution_count": 2,
   "metadata": {
    "collapsed": true
   },
   "outputs": [],
   "source": [
    "from wordvecs import WordVectors\n",
    "\n",
    "wordvectors = WordVectors(fname=\"../enwiki-20141208-pages-articles-multistream-links-output4.bin\", negvectors=True)\n",
    "\n",
    "from sentiment_sents import Sentiment\n",
    "\n",
    "# just load the sentences from the CNN system\n",
    "sentiment = Sentiment(\"prevwork/CNN_sentence/\")"
   ]
  },
  {
   "cell_type": "code",
   "execution_count": 3,
   "metadata": {
    "collapsed": false
   },
   "outputs": [
    {
     "data": {
      "text/plain": [
       "6091842"
      ]
     },
     "execution_count": 3,
     "metadata": {},
     "output_type": "execute_result"
    }
   ],
   "source": [
    "len(wordvectors.vectors)"
   ]
  },
  {
   "cell_type": "code",
   "execution_count": 98,
   "metadata": {
    "collapsed": false
   },
   "outputs": [],
   "source": [
    "class SentimentExp(object):\n",
    "    \n",
    "    def __init__(self, train_X, train_Y, wordvecs=wordvectors):\n",
    "        self.train_X = train_X\n",
    "        self.train_Y = train_Y\n",
    "        self.wordvecs = wordvecs\n",
    "        \n",
    "        self.input_size = 10\n",
    "        self.batch_size = 10\n",
    "        \n",
    "        self.learning_rate = .01\n",
    "        self.momentum = .9\n",
    "        \n",
    "        self.train_X_rep = np.array([[self.getRep(x)] for x in self.train_X])\n",
    "        \n",
    "        self._setup()\n",
    "        \n",
    "    def getRep(self, sent):\n",
    "        ret = []\n",
    "        for i in xrange(self.input_size):\n",
    "            if i < len(sent):\n",
    "                ret.append(self.wordvecs[sent[i]])\n",
    "            else:\n",
    "                ret.append(np.zeros(self.wordvecs.vector_size))\n",
    "        return np.matrix(ret).reshape((1, self.input_size, self.wordvecs.vector_size))\n",
    "\n",
    "    def _setup(self):\n",
    "        self.x_batch = T.tensor4('x')\n",
    "        self.y_batch = T.ivector('y')\n",
    "        \n",
    "        self.input_l = lasagne.layers.InputLayer((self.batch_size, 1, self.input_size, self.wordvecs.vector_size))\n",
    "        \n",
    "        self.first_l = lasagne.layers.Conv2DLayer(\n",
    "            self.input_l,\n",
    "            num_filters=100,\n",
    "            filter_size=(2, 100),\n",
    "            name='conv1',\n",
    "            nonlinearity=lasagne.nonlinearities.tanh,\n",
    "        )\n",
    "        \n",
    "        self.hidden1_l = lasagne.layers.DenseLayer(\n",
    "            self.first_l,\n",
    "            num_units=20,\n",
    "            nonlinearity=lasagne.nonlinearities.tanh,\n",
    "        )\n",
    "        \n",
    "        self.out_l = lasagne.layers.DenseLayer(\n",
    "            self.hidden1_l,\n",
    "            num_units=1,\n",
    "            nonlinearity=lasagne.nonlinearities.tanh,\n",
    "        )\n",
    "        \n",
    "        self.output = lasagne.layers.get_output(self.out_l, self.x_batch)\n",
    "        \n",
    "        self.loss_vec_old = (self.output.reshape((self.output.size,)) - self.y_batch) ** 2\n",
    "        self.loss_vec = lasagne.objectives.binary_crossentropy(T.clip(self.output.reshape((self.output.size,)), .01, .99), self.y_batch)\n",
    "        \n",
    "        self.all_params = lasagne.layers.get_all_params(self.out_l)\n",
    "                \n",
    "        self.updates_adagrad = lasagne.updates.sgd(self.loss_vec.mean(), self.all_params, .01)\n",
    "        self.updates = lasagne.updates.apply_momentum(self.updates_adagrad)\n",
    "        \n",
    "        self.train_func = theano.function(\n",
    "            [self.x_batch, self.y_batch],\n",
    "            [self.loss_vec.mean(), self.loss_vec],\n",
    "            updates=self.updates,\n",
    "        )\n",
    "        \n",
    "        self.loss_func = theano.function(\n",
    "            [self.x_batch, self.y_batch],\n",
    "            [self.loss_vec.sum(), self.loss_vec],\n",
    "        )\n",
    "        \n",
    "    def train(self):\n",
    "        for s in xrange(0, len(self.train_X_rep), self.batch_size):\n",
    "            X_vals = np.array(self.train_X_rep[s:(s + self.batch_size)])\n",
    "            y_vals = np.array(self.train_Y[s:(s + self.batch_size)]).astype('int32')\n",
    "            loss, _ = self.train_func(X_vals, y_vals)\n",
    "            \n",
    "    def test_loss(self, test_X, test_Y):\n",
    "        test_X_rep = np.array([[self.getRep(x)] for x in test_X])\n",
    "        loss_sum = 0.0\n",
    "        for s in xrange(0, len(test_X_rep), self.batch_size):\n",
    "            X_vals = np.array(self.train_X_rep[s:(s + self.batch_size)])\n",
    "            y_vals = np.array(self.train_Y[s:(s + self.batch_size)]).astype('int32')\n",
    "            loss, _ = self.loss_func(X_vals, y_vals)\n",
    "            loss_sum += loss\n",
    "        return loss_sum / len(test_X_rep)\n",
    "    \n",
    "experiment = SentimentExp(sentiment.train_X, sentiment.train_Y)"
   ]
  },
  {
   "cell_type": "code",
   "execution_count": 105,
   "metadata": {
    "collapsed": false
   },
   "outputs": [
    {
     "data": {
      "text/plain": [
       "2.2957588380951175"
      ]
     },
     "execution_count": 105,
     "metadata": {},
     "output_type": "execute_result"
    }
   ],
   "source": [
    "experiment.test_loss(sentiment.test_X, sentiment.test_Y)"
   ]
  },
  {
   "cell_type": "code",
   "execution_count": 103,
   "metadata": {
    "collapsed": false
   },
   "outputs": [],
   "source": [
    "for i in xrange(100): \n",
    "    experiment.train()"
   ]
  },
  {
   "cell_type": "code",
   "execution_count": 104,
   "metadata": {
    "collapsed": false
   },
   "outputs": [
    {
     "data": {
      "text/plain": [
       "2.2957588380951175"
      ]
     },
     "execution_count": 104,
     "metadata": {},
     "output_type": "execute_result"
    }
   ],
   "source": [
    "experiment.test_loss(sentiment.train_X, sentiment.train_Y)"
   ]
  },
  {
   "cell_type": "code",
   "execution_count": 116,
   "metadata": {
    "collapsed": false
   },
   "outputs": [],
   "source": [
    "test_func = theano.function(\n",
    "    [experiment.x_batch, experiment.y_batch],\n",
    "    [experiment.loss_vec.mean(), experiment.loss_vec, experiment.output, \n",
    "     T.grad(experiment.loss_vec.mean(), experiment.out_l.get_params()[0]),\n",
    "     experiment.out_l.get_params()[0], experiment.y_batch, \n",
    "     lasagne.layers.get_output(experiment.first_l, experiment.x_batch)\n",
    "    ]\n",
    ")"
   ]
  },
  {
   "cell_type": "code",
   "execution_count": 120,
   "metadata": {
    "collapsed": false
   },
   "outputs": [],
   "source": [
    "test_vals = test_func(np.array(experiment.train_X_rep[0:10]),np.array(experiment.train_Y[0:10]).astype('int32'))"
   ]
  },
  {
   "cell_type": "code",
   "execution_count": 127,
   "metadata": {
    "collapsed": false
   },
   "outputs": [
    {
     "data": {
      "text/plain": [
       "(10, 100, 1)"
      ]
     },
     "execution_count": 127,
     "metadata": {},
     "output_type": "execute_result"
    }
   ],
   "source": [
    "test_vals[-1].mean(axis=2).shape"
   ]
  },
  {
   "cell_type": "code",
   "execution_count": 108,
   "metadata": {
    "collapsed": false
   },
   "outputs": [
    {
     "data": {
      "text/plain": [
       "array([[[[-0.01349302, -0.00608859,  0.0208124 , ..., -0.02355321,\n",
       "           0.02836251, -0.03281177],\n",
       "         [-0.06802425,  0.01071418, -0.01613487, ...,  0.07777614,\n",
       "          -0.00097107, -0.07921554]]],\n",
       "\n",
       "\n",
       "       [[[ 0.00791473,  0.01187771,  0.00932595, ...,  0.00439272,\n",
       "          -0.01906564, -0.0132316 ],\n",
       "         [ 0.0147234 ,  0.00565511, -0.00957525, ..., -0.0163597 ,\n",
       "           0.02380438, -0.00538994]]],\n",
       "\n",
       "\n",
       "       [[[-0.00546171, -0.01469458,  0.03451102, ..., -0.0143753 ,\n",
       "           0.0149421 ,  0.03860468],\n",
       "         [-0.01975556, -0.00938707, -0.01511112, ...,  0.01245079,\n",
       "          -0.00920737,  0.00821898]]],\n",
       "\n",
       "\n",
       "       ..., \n",
       "       [[[-0.02139801,  0.02059551, -0.03883676, ...,  0.03206572,\n",
       "           0.04447567,  0.00384297],\n",
       "         [ 0.00414955, -0.0157647 , -0.00565899, ...,  0.00136444,\n",
       "          -0.04871137, -0.02776733]]],\n",
       "\n",
       "\n",
       "       [[[-0.02685343, -0.00425098,  0.05734088, ..., -0.02492608,\n",
       "          -0.06397128, -0.05122684],\n",
       "         [ 0.004655  , -0.02941601, -0.02600522, ...,  0.00290324,\n",
       "          -0.02833583,  0.01039865]]],\n",
       "\n",
       "\n",
       "       [[[-0.01784089, -0.02612136, -0.02441694, ..., -0.02570554,\n",
       "           0.04223688, -0.01863173],\n",
       "         [-0.0152262 , -0.00537829, -0.02549521, ...,  0.01269399,\n",
       "           0.0001318 , -0.02968621]]]])"
      ]
     },
     "execution_count": 108,
     "metadata": {},
     "output_type": "execute_result"
    }
   ],
   "source": [
    "experiment.first_l.get_params()[0].get_value()"
   ]
  },
  {
   "cell_type": "code",
   "execution_count": 113,
   "metadata": {
    "collapsed": false
   },
   "outputs": [
    {
     "data": {
      "text/plain": [
       "0.50257913247362251"
      ]
     },
     "execution_count": 113,
     "metadata": {},
     "output_type": "execute_result"
    }
   ],
   "source": [
    "np.array(experiment.train_Y).sum() / float(len(experiment.train_Y))"
   ]
  },
  {
   "cell_type": "code",
   "execution_count": 119,
   "metadata": {
    "collapsed": false
   },
   "outputs": [
    {
     "ename": "TypeError",
     "evalue": "'type' object has no attribute '__getitem__'",
     "output_type": "error",
     "traceback": [
      "\u001b[1;31m---------------------------------------------------------------------------\u001b[0m",
      "\u001b[1;31mTypeError\u001b[0m                                 Traceback (most recent call last)",
      "\u001b[1;32m<ipython-input-119-a59d29f50ac6>\u001b[0m in \u001b[0;36m<module>\u001b[1;34m()\u001b[0m\n\u001b[1;32m----> 1\u001b[1;33m \u001b[0mOut\u001b[0m\u001b[1;33m[\u001b[0m\u001b[1;36m117\u001b[0m\u001b[1;33m]\u001b[0m\u001b[1;33m\u001b[0m\u001b[0m\n\u001b[0m",
      "\u001b[1;31mTypeError\u001b[0m: 'type' object has no attribute '__getitem__'"
     ]
    }
   ],
   "source": [
    "Out[117]"
   ]
  },
  {
   "cell_type": "code",
   "execution_count": null,
   "metadata": {
    "collapsed": true
   },
   "outputs": [],
   "source": []
  }
 ],
 "metadata": {
  "kernelspec": {
   "display_name": "Python 2",
   "language": "python",
   "name": "python2"
  },
  "language_info": {
   "codemirror_mode": {
    "name": "ipython",
    "version": 2
   },
   "file_extension": ".py",
   "mimetype": "text/x-python",
   "name": "python",
   "nbconvert_exporter": "python",
   "pygments_lexer": "ipython2",
   "version": "2.7.10"
  }
 },
 "nbformat": 4,
 "nbformat_minor": 0
}
