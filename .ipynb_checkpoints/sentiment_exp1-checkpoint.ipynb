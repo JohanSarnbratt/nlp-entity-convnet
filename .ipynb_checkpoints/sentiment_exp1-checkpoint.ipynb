{
 "cells": [
  {
   "cell_type": "code",
   "execution_count": 1,
   "metadata": {
    "collapsed": false
   },
   "outputs": [
    {
     "name": "stdout",
     "output_type": "stream",
     "text": [
      "Couldn't import dot_parser, loading of dot files will not be possible.\n"
     ]
    }
   ],
   "source": [
    "from theano import *\n",
    "from lasagne.layers import EmbeddingLayer, InputLayer, get_output\n",
    "import lasagne\n",
    "import lasagne.layers\n",
    "import theano.tensor as T\n",
    "import theano\n",
    "import numpy as np"
   ]
  },
  {
   "cell_type": "code",
   "execution_count": 2,
   "metadata": {
    "collapsed": true
   },
   "outputs": [],
   "source": [
    "from wordvecs import WordVectors\n",
    "\n",
    "wordvectors = WordVectors(fname=\"../GoogleNews-vectors-negative300.bin\", negvectors=False)\n",
    "\n",
    "from sentiment_sents import Sentiment\n",
    "\n",
    "# just load the sentences from the CNN system\n",
    "sentiment = Sentiment(\"prevwork/CNN_sentence/\")"
   ]
  },
  {
   "cell_type": "code",
   "execution_count": 3,
   "metadata": {
    "collapsed": false
   },
   "outputs": [
    {
     "data": {
      "text/plain": [
       "3000000"
      ]
     },
     "execution_count": 3,
     "metadata": {},
     "output_type": "execute_result"
    }
   ],
   "source": [
    "len(wordvectors.vectors)"
   ]
  },
  {
   "cell_type": "code",
   "execution_count": 23,
   "metadata": {
    "collapsed": false
   },
   "outputs": [],
   "source": [
    "class SentimentExp(object):\n",
    "    \n",
    "    def __init__(self, train_X, train_Y, wordvecs=wordvectors):\n",
    "        self.train_X = train_X\n",
    "        self.train_Y = train_Y\n",
    "        self.wordvecs = wordvecs\n",
    "        \n",
    "        self.input_size = 10\n",
    "        self.batch_size = 10\n",
    "        \n",
    "        self.learning_rate = .01\n",
    "        self.momentum = .9\n",
    "        \n",
    "        self.train_X_rep = np.array([[self.getRep(x)] for x in self.train_X])\n",
    "        \n",
    "        self._setup()\n",
    "        \n",
    "    def getRep(self, sent):\n",
    "        ret = []\n",
    "        for i in xrange(self.input_size):\n",
    "            if i < len(sent):\n",
    "                ret.append(self.wordvecs[sent[i]])\n",
    "            else:\n",
    "                ret.append(np.zeros(self.wordvecs.vector_size))\n",
    "        return np.matrix(ret).reshape((1, self.input_size, self.wordvecs.vector_size))\n",
    "\n",
    "    def _setup(self):\n",
    "        self.x_batch = T.tensor4('x')\n",
    "        self.y_batch = T.ivector('y')\n",
    "        \n",
    "        self.input_l = lasagne.layers.InputLayer((self.batch_size, 1, self.input_size, self.wordvecs.vector_size))\n",
    "        \n",
    "        self.first_l = lasagne.layers.Conv2DLayer(\n",
    "            self.input_l,\n",
    "            num_filters=100,\n",
    "            filter_size=(2, self.wordvecs.vector_size),\n",
    "            name='conv1',\n",
    "            nonlinearity=lasagne.nonlinearities.tanh,\n",
    "        )\n",
    "        \n",
    "        self.first_l_max = lasagne.layers.MaxPool2DLayer(\n",
    "            self.first_l,\n",
    "            pool_size=(1,9)\n",
    "        )\n",
    "        \n",
    "        self.hidden1_l = lasagne.layers.DenseLayer(\n",
    "            self.first_l_max,\n",
    "            num_units=50,\n",
    "            nonlinearity=lasagne.nonlinearities.tanh,\n",
    "        )\n",
    "        \n",
    "        self.hidden1_l_drop = lasagne.layers.DropoutLayer(\n",
    "            self.hidden1_l,\n",
    "            p=.25,\n",
    "        )\n",
    "        \n",
    "        \n",
    "        self.out_l = lasagne.layers.DenseLayer(\n",
    "            self.hidden1_l_drop,\n",
    "            num_units=1,\n",
    "            nonlinearity=lasagne.nonlinearities.tanh,\n",
    "        )\n",
    "        \n",
    "        self.output = lasagne.layers.get_output(self.out_l, self.x_batch)\n",
    "        \n",
    "        self.loss_vec_old = (self.output.reshape((self.output.size,)) - self.y_batch) ** 2\n",
    "        self.output_diff = T.neq((self.output.flatten() > .5),(self.y_batch > .5)).sum()\n",
    "        self.loss_vec = lasagne.objectives.binary_crossentropy(T.clip(self.output.reshape((self.output.size,)), .01, .99), self.y_batch)\n",
    "        \n",
    "        self.all_params = lasagne.layers.get_all_params(self.out_l)\n",
    "        \n",
    "        self.updates = lasagne.updates.adagrad(self.loss_vec.mean(), self.all_params, .01)\n",
    "        #self.updates = lasagne.updates.apply_momentum(self.updates_adagrad)\n",
    "        \n",
    "        self.train_func = theano.function(\n",
    "            [self.x_batch, self.y_batch],\n",
    "            [self.loss_vec.mean(), self.loss_vec],\n",
    "            updates=self.updates,\n",
    "        )\n",
    "        \n",
    "        self.loss_func = theano.function(\n",
    "            [self.x_batch, self.y_batch],\n",
    "            [self.loss_vec.sum(), self.loss_vec, self.output_diff],\n",
    "        )\n",
    "        \n",
    "    def train(self):\n",
    "        for s in xrange(0, len(self.train_X_rep), self.batch_size):\n",
    "            X_vals = np.array(self.train_X_rep[s:(s + self.batch_size)])\n",
    "            y_vals = np.array(self.train_Y[s:(s + self.batch_size)]).astype('int32')\n",
    "            loss, _ = self.train_func(X_vals, y_vals)\n",
    "            \n",
    "    def test_loss(self, test_X, test_Y):\n",
    "        test_X_rep = np.array([[self.getRep(x)] for x in test_X])\n",
    "        loss_sum = 0.0\n",
    "        wrong = 0.0\n",
    "        for s in xrange(0, len(test_X_rep), self.batch_size):\n",
    "            X_vals = np.array(self.train_X_rep[s:(s + self.batch_size)])\n",
    "            y_vals = np.array(self.train_Y[s:(s + self.batch_size)]).astype('int32')\n",
    "            loss, _, output_diff = self.loss_func(X_vals, y_vals)\n",
    "            wrong += output_diff\n",
    "            loss_sum += loss\n",
    "        return loss_sum / len(test_X_rep), wrong / len(test_X_rep)\n",
    "    \n",
    "experiment = SentimentExp(sentiment.train_X, sentiment.train_Y)"
   ]
  },
  {
   "cell_type": "code",
   "execution_count": 24,
   "metadata": {
    "collapsed": false
   },
   "outputs": [
    {
     "data": {
      "text/plain": [
       "(2.0358087287203115, 0.49742086752637749)"
      ]
     },
     "execution_count": 24,
     "metadata": {},
     "output_type": "execute_result"
    }
   ],
   "source": [
    "experiment.test_loss(sentiment.test_X, sentiment.test_Y)"
   ]
  },
  {
   "cell_type": "code",
   "execution_count": 30,
   "metadata": {
    "collapsed": false
   },
   "outputs": [],
   "source": [
    "#for i in xrange(100): \n",
    "#for i in xrange(100):\n",
    "experiment.train()"
   ]
  },
  {
   "cell_type": "code",
   "execution_count": 31,
   "metadata": {
    "collapsed": false
   },
   "outputs": [
    {
     "data": {
      "text/plain": [
       "(2.2957588380951175, 0.49742086752637749)"
      ]
     },
     "execution_count": 31,
     "metadata": {},
     "output_type": "execute_result"
    }
   ],
   "source": [
    "experiment.test_loss(sentiment.train_X, sentiment.train_Y)"
   ]
  },
  {
   "cell_type": "code",
   "execution_count": 32,
   "metadata": {
    "collapsed": false
   },
   "outputs": [
    {
     "data": {
      "text/plain": [
       "(2.2957588380951175, 0.49742086752637749)"
      ]
     },
     "execution_count": 32,
     "metadata": {},
     "output_type": "execute_result"
    }
   ],
   "source": [
    "experiment.test_loss(sentiment.test_X, sentiment.test_Y)"
   ]
  },
  {
   "cell_type": "code",
   "execution_count": 28,
   "metadata": {
    "collapsed": false
   },
   "outputs": [],
   "source": [
    "test_func = theano.function(\n",
    "    [experiment.x_batch, experiment.y_batch],\n",
    "    [experiment.loss_vec.mean(), experiment.loss_vec, experiment.output, \n",
    "     T.grad(experiment.loss_vec.mean(), experiment.out_l.get_params()[0]),\n",
    "     experiment.out_l.get_params()[0], experiment.y_batch, \n",
    "     #lasagne.layers.get_output(experiment.first_l, experiment.x_batch)\n",
    "    ]\n",
    ")"
   ]
  },
  {
   "cell_type": "code",
   "execution_count": 29,
   "metadata": {
    "collapsed": false
   },
   "outputs": [
    {
     "data": {
      "text/plain": [
       "[array(2.767122245934255),\n",
       " array([ 4.60517019,  4.60517019,  0.01005034,  0.01005034,  4.60517019,\n",
       "         0.01005034,  0.01005034,  4.60517019,  4.60517019,  4.60517019]),\n",
       " array([[-0.9996904 ],\n",
       "        [-0.99995057],\n",
       "        [-0.99983241],\n",
       "        [-0.99996349],\n",
       "        [-0.99991355],\n",
       "        [-0.99876334],\n",
       "        [-0.99941211],\n",
       "        [-0.99921016],\n",
       "        [-0.99998253],\n",
       "        [-0.99997963]]),\n",
       " array([[ 0.],\n",
       "        [ 0.],\n",
       "        [ 0.],\n",
       "        [ 0.],\n",
       "        [ 0.],\n",
       "        [ 0.],\n",
       "        [ 0.],\n",
       "        [ 0.],\n",
       "        [ 0.],\n",
       "        [ 0.],\n",
       "        [ 0.],\n",
       "        [ 0.],\n",
       "        [ 0.],\n",
       "        [ 0.],\n",
       "        [ 0.],\n",
       "        [ 0.],\n",
       "        [ 0.],\n",
       "        [ 0.],\n",
       "        [ 0.],\n",
       "        [ 0.],\n",
       "        [ 0.],\n",
       "        [ 0.],\n",
       "        [ 0.],\n",
       "        [ 0.],\n",
       "        [ 0.],\n",
       "        [ 0.],\n",
       "        [ 0.],\n",
       "        [ 0.],\n",
       "        [ 0.],\n",
       "        [ 0.],\n",
       "        [ 0.],\n",
       "        [ 0.],\n",
       "        [ 0.],\n",
       "        [ 0.],\n",
       "        [ 0.],\n",
       "        [ 0.],\n",
       "        [ 0.],\n",
       "        [ 0.],\n",
       "        [ 0.],\n",
       "        [ 0.],\n",
       "        [ 0.],\n",
       "        [ 0.],\n",
       "        [ 0.],\n",
       "        [ 0.],\n",
       "        [ 0.],\n",
       "        [ 0.],\n",
       "        [ 0.],\n",
       "        [ 0.],\n",
       "        [ 0.],\n",
       "        [ 0.]]),\n",
       " array([[-0.18876472],\n",
       "        [ 0.08111241],\n",
       "        [-0.15790193],\n",
       "        [-0.34520201],\n",
       "        [ 0.21929071],\n",
       "        [-0.27957043],\n",
       "        [ 0.15843324],\n",
       "        [-0.17991781],\n",
       "        [ 0.07401352],\n",
       "        [-0.24141794],\n",
       "        [-0.20370164],\n",
       "        [ 0.06338666],\n",
       "        [-0.14440658],\n",
       "        [ 0.00483438],\n",
       "        [-0.09989113],\n",
       "        [-0.27534967],\n",
       "        [-0.14743228],\n",
       "        [-0.10991567],\n",
       "        [ 0.00956869],\n",
       "        [ 0.24916008],\n",
       "        [ 0.29206554],\n",
       "        [ 0.06169068],\n",
       "        [ 0.04648748],\n",
       "        [-0.14522811],\n",
       "        [ 0.2241882 ],\n",
       "        [ 0.29292884],\n",
       "        [ 0.21973561],\n",
       "        [-0.14958038],\n",
       "        [-0.32083401],\n",
       "        [ 0.12747455],\n",
       "        [ 0.13420677],\n",
       "        [-0.21629322],\n",
       "        [ 0.22057454],\n",
       "        [-0.05708529],\n",
       "        [ 0.2698745 ],\n",
       "        [-0.27013901],\n",
       "        [ 0.09354696],\n",
       "        [ 0.20662845],\n",
       "        [-0.2187536 ],\n",
       "        [ 0.15579529],\n",
       "        [ 0.12699416],\n",
       "        [-0.01173491],\n",
       "        [-0.26255426],\n",
       "        [ 0.02413066],\n",
       "        [ 0.11582199],\n",
       "        [ 0.14351422],\n",
       "        [ 0.31922978],\n",
       "        [ 0.1935462 ],\n",
       "        [-0.30533721],\n",
       "        [ 0.29991161]]),\n",
       " array([1, 1, 0, 0, 1, 0, 0, 1, 1, 1], dtype=int32)]"
      ]
     },
     "execution_count": 29,
     "metadata": {},
     "output_type": "execute_result"
    }
   ],
   "source": [
    "test_func(np.array(experiment.train_X_rep[0:10]),np.array(experiment.train_Y[0:10]).astype('int32'))"
   ]
  },
  {
   "cell_type": "code",
   "execution_count": null,
   "metadata": {
    "collapsed": true
   },
   "outputs": [],
   "source": []
  }
 ],
 "metadata": {
  "kernelspec": {
   "display_name": "Python 2",
   "language": "python",
   "name": "python2"
  },
  "language_info": {
   "codemirror_mode": {
    "name": "ipython",
    "version": 2
   },
   "file_extension": ".py",
   "mimetype": "text/x-python",
   "name": "python",
   "nbconvert_exporter": "python",
   "pygments_lexer": "ipython2",
   "version": "2.7.10"
  }
 },
 "nbformat": 4,
 "nbformat_minor": 0
}
