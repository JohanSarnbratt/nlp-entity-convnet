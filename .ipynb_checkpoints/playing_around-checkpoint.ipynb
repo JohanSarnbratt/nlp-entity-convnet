{
 "cells": [
  {
   "cell_type": "code",
   "execution_count": 1,
   "metadata": {
    "collapsed": false
   },
   "outputs": [],
   "source": [
    "%load_ext autoreload"
   ]
  },
  {
   "cell_type": "code",
   "execution_count": 2,
   "metadata": {
    "collapsed": true
   },
   "outputs": [],
   "source": [
    "%autoreload 2"
   ]
  },
  {
   "cell_type": "code",
   "execution_count": 3,
   "metadata": {
    "collapsed": false
   },
   "outputs": [],
   "source": [
    "from theano import *\n",
    "from lasagne.layers import EmbeddingLayer, InputLayer, get_output\n",
    "import lasagne\n",
    "import lasagne.layers\n",
    "import theano.tensor as T\n",
    "import theano\n",
    "import numpy as np"
   ]
  },
  {
   "cell_type": "code",
   "execution_count": 4,
   "metadata": {
    "collapsed": false
   },
   "outputs": [],
   "source": [
    "from wordvecs import WordVectors\n",
    "\n",
    "wordvectors = WordVectors(fname=\"../enwiki-20141208-pages-articles-multistream-links-output4.bin\", negvectors=True)\n",
    "\n",
    "from sentiment_sents import Sentiment\n",
    "\n",
    "# just load the sentences from the CNN system\n",
    "sentiment = Sentiment(\"prevwork/CNN_sentence/\")"
   ]
  },
  {
   "cell_type": "code",
   "execution_count": 5,
   "metadata": {
    "collapsed": false
   },
   "outputs": [
    {
     "data": {
      "text/plain": [
       "6091842"
      ]
     },
     "execution_count": 5,
     "metadata": {},
     "output_type": "execute_result"
    }
   ],
   "source": [
    "len(wordvectors.vectors)"
   ]
  },
  {
   "cell_type": "code",
   "execution_count": 6,
   "metadata": {
    "collapsed": false
   },
   "outputs": [],
   "source": [
    "l_in = InputLayer((3,))"
   ]
  },
  {
   "cell_type": "code",
   "execution_count": 7,
   "metadata": {
    "collapsed": true
   },
   "outputs": [],
   "source": [
    "W = np.arange(3*5).reshape((3,5)).astype('float32')"
   ]
  },
  {
   "cell_type": "code",
   "execution_count": 8,
   "metadata": {
    "collapsed": false
   },
   "outputs": [],
   "source": [
    "l1 = EmbeddingLayer(l_in, input_size=3, output_size=5, W=W)"
   ]
  },
  {
   "cell_type": "code",
   "execution_count": 9,
   "metadata": {
    "collapsed": true
   },
   "outputs": [],
   "source": [
    "x = T.imatrix()"
   ]
  },
  {
   "cell_type": "code",
   "execution_count": 10,
   "metadata": {
    "collapsed": false
   },
   "outputs": [
    {
     "name": "stderr",
     "output_type": "stream",
     "text": [
      "/home/matthew/.virtualenvs/nlp-convnet/lib/python2.7/site-packages/lasagne/layers/helper.py:69: UserWarning: get_all_layers() has been changed to return layers in topological order. The former implementation is still available as get_all_layers_old(), but will be removed before the first release of Lasagne. To ignore this warning, use `warnings.filterwarnings('ignore', '.*topo.*')`.\n",
      "  warnings.warn(\"get_all_layers() has been changed to return layers in \"\n"
     ]
    }
   ],
   "source": [
    "output = get_output(l1, x)"
   ]
  },
  {
   "cell_type": "code",
   "execution_count": 11,
   "metadata": {
    "collapsed": true
   },
   "outputs": [],
   "source": [
    "f = theano.function([x], output)"
   ]
  },
  {
   "cell_type": "code",
   "execution_count": 12,
   "metadata": {
    "collapsed": true
   },
   "outputs": [],
   "source": [
    "x_test = np.array([[0,2],[1,2]]).astype('int32')"
   ]
  },
  {
   "cell_type": "code",
   "execution_count": 13,
   "metadata": {
    "collapsed": false
   },
   "outputs": [
    {
     "data": {
      "text/plain": [
       "array([[[  0.,   1.,   2.,   3.,   4.],\n",
       "        [ 10.,  11.,  12.,  13.,  14.]],\n",
       "\n",
       "       [[  5.,   6.,   7.,   8.,   9.],\n",
       "        [ 10.,  11.,  12.,  13.,  14.]]], dtype=float32)"
      ]
     },
     "execution_count": 13,
     "metadata": {},
     "output_type": "execute_result"
    }
   ],
   "source": [
    "f(x_test)"
   ]
  },
  {
   "cell_type": "markdown",
   "metadata": {},
   "source": [
    "Going to attempt to make the simple linear reg working, just to experiment with theano"
   ]
  },
  {
   "cell_type": "code",
   "execution_count": 14,
   "metadata": {
    "collapsed": false
   },
   "outputs": [
    {
     "data": {
      "text/plain": [
       "array([ 0.3381165 , -1.04912337, -0.0079118 ,  0.29713418, -0.39379286,\n",
       "       -0.49857677,  0.24749438, -1.52724946, -0.91314897, -0.43407606])"
      ]
     },
     "execution_count": 14,
     "metadata": {},
     "output_type": "execute_result"
    }
   ],
   "source": [
    "np.random.randn(10)"
   ]
  },
  {
   "cell_type": "code",
   "execution_count": 15,
   "metadata": {
    "collapsed": false
   },
   "outputs": [],
   "source": [
    "nfeats = 10\n",
    "\n",
    "\n",
    "x = T.matrix('x')\n",
    "y = T.vector('y')\n",
    "w = theano.shared(np.random.randn(nfeats),name='w')\n",
    "b = theano.shared(0.0,name='b')"
   ]
  },
  {
   "cell_type": "code",
   "execution_count": 16,
   "metadata": {
    "collapsed": true
   },
   "outputs": [],
   "source": [
    "p_1 = 1 / (1 + T.exp(-T.dot(x,w) - b))\n",
    "prediction = p_1 > 0.5\n",
    "xent = -y * T.log(p_1) - (1-y) * T.log(1-p_1)\n",
    "cost = xent.mean() + .01 * (w**2).sum()\n",
    "gw, gb = T.grad(cost, [w,b])"
   ]
  },
  {
   "cell_type": "code",
   "execution_count": 17,
   "metadata": {
    "collapsed": false
   },
   "outputs": [
    {
     "data": {
      "text/plain": [
       "(10,)"
      ]
     },
     "execution_count": 17,
     "metadata": {},
     "output_type": "execute_result"
    }
   ],
   "source": [
    "w.get_value().shape"
   ]
  },
  {
   "cell_type": "code",
   "execution_count": 18,
   "metadata": {
    "collapsed": false
   },
   "outputs": [],
   "source": [
    "train = theano.function(inputs=[x,y],outputs=[prediction,xent], updates=((w, w-0.1*gw),(b,b - 0.1*gb)))\n",
    "predict = theano.function(inputs=[x], outputs=prediction)"
   ]
  },
  {
   "cell_type": "code",
   "execution_count": 19,
   "metadata": {
    "collapsed": false
   },
   "outputs": [],
   "source": [
    "D = (np.random.randn(400, nfeats), np.random.randint(size=400, low=0, high=2))"
   ]
  },
  {
   "cell_type": "code",
   "execution_count": 20,
   "metadata": {
    "collapsed": false
   },
   "outputs": [
    {
     "name": "stdout",
     "output_type": "stream",
     "text": [
      "Elemwise{Composite{GT(scalar_sigmoid(i0), i1)}} [@A] ''   15\n",
      " |Elemwise{neg,no_inplace} [@B] ''   13\n",
      " | |Elemwise{Composite{((-i0) - i1)}}[(0, 0)] [@C] ''   10\n",
      " |   |CGemv{inplace} [@D] ''   8\n",
      " |   | |Alloc [@E] ''   5\n",
      " |   | | |TensorConstant{0.0} [@F]\n",
      " |   | | |Shape_i{0} [@G] ''   1\n",
      " |   | |   |x [@H]\n",
      " |   | |TensorConstant{1.0} [@I]\n",
      " |   | |x [@H]\n",
      " |   | |w [@J]\n",
      " |   | |TensorConstant{0.0} [@F]\n",
      " |   |InplaceDimShuffle{x} [@K] ''   0\n",
      " |     |b [@L]\n",
      " |TensorConstant{(1,) of 0.5} [@M]\n",
      "Elemwise{Composite{((i0 * scalar_softplus(i1)) - (i2 * i3 * scalar_softplus(i4)))}}[(0, 1)] [@N] ''   17\n",
      " |y [@O]\n",
      " |Elemwise{Composite{((-i0) - i1)}}[(0, 0)] [@C] ''   10\n",
      " |TensorConstant{(1,) of -1.0} [@P]\n",
      " |Elemwise{sub,no_inplace} [@Q] ''   4\n",
      " | |TensorConstant{(1,) of 1.0} [@R]\n",
      " | |y [@O]\n",
      " |Elemwise{neg,no_inplace} [@B] ''   13\n",
      "CGemv{inplace} [@S] ''   19\n",
      " |w [@J]\n",
      " |TensorConstant{-0.1} [@T]\n",
      " |InplaceDimShuffle{1,0} [@U] 'x.T'   2\n",
      " | |x [@H]\n",
      " |Elemwise{Composite{((i0 * i1 * i2 * i3) + ((scalar_sigmoid((-i4)) * i5) / i6))}}[(0, 0)] [@V] ''   16\n",
      " | |Assert [@W] ''   14\n",
      " | | |sigmoid [@X] ''   12\n",
      " | | | |Elemwise{Composite{((-i0) - i1)}}[(0, 0)] [@C] ''   10\n",
      " | | |Elemwise{eq,no_inplace} [@Y] ''   6\n",
      " | |   |Shape_i{0} [@Z] ''   3\n",
      " | |   | |y [@O]\n",
      " | |   |Shape_i{0} [@G] ''   1\n",
      " | |TensorConstant{(1,) of -1.0} [@P]\n",
      " | |Elemwise{inv,no_inplace} [@BA] ''   11\n",
      " | | |Elemwise{Cast{float64}} [@BB] ''   9\n",
      " | |   |InplaceDimShuffle{x} [@BC] ''   7\n",
      " | |     |Shape_i{0} [@Z] ''   3\n",
      " | |y [@O]\n",
      " | |Elemwise{Composite{((-i0) - i1)}}[(0, 0)] [@C] ''   10\n",
      " | |Elemwise{sub,no_inplace} [@Q] ''   4\n",
      " | |Elemwise{Cast{float64}} [@BB] ''   9\n",
      " |TensorConstant{0.998} [@BD]\n",
      "Elemwise{Composite{(i0 - (i1 * i2))}}[(0, 0)] [@BE] ''   20\n",
      " |b [@L]\n",
      " |TensorConstant{0.1} [@BF]\n",
      " |Sum{acc_dtype=float64} [@BG] ''   18\n",
      "   |Elemwise{Composite{((i0 * i1 * i2 * i3) + ((scalar_sigmoid((-i4)) * i5) / i6))}}[(0, 0)] [@V] ''   16\n"
     ]
    }
   ],
   "source": [
    "theano.printing.debugprint(train)"
   ]
  },
  {
   "cell_type": "code",
   "execution_count": 21,
   "metadata": {
    "collapsed": true
   },
   "outputs": [],
   "source": [
    "for i in xrange(10000):\n",
    "    pred, err = train(D[0], D[1])"
   ]
  },
  {
   "cell_type": "code",
   "execution_count": 22,
   "metadata": {
    "collapsed": false
   },
   "outputs": [
    {
     "data": {
      "text/plain": [
       "0.68227781271962551"
      ]
     },
     "execution_count": 22,
     "metadata": {},
     "output_type": "execute_result"
    }
   ],
   "source": [
    "err.mean()"
   ]
  },
  {
   "cell_type": "code",
   "execution_count": 23,
   "metadata": {
    "collapsed": false
   },
   "outputs": [
    {
     "data": {
      "text/plain": [
       "array([ 1.44959463,  0.46512157, -0.32916993, -0.71065438,  0.35574081,\n",
       "        0.42292786, -0.38971277,  0.39731118, -0.40333132, -2.43409073])"
      ]
     },
     "execution_count": 23,
     "metadata": {},
     "output_type": "execute_result"
    }
   ],
   "source": [
    "D[0][1]"
   ]
  },
  {
   "cell_type": "code",
   "execution_count": 24,
   "metadata": {
    "collapsed": false
   },
   "outputs": [
    {
     "data": {
      "text/plain": [
       "(array([ 0.06392266,  0.0166076 ,  0.10579282,  0.11662214,  0.06546423,\n",
       "         0.03236646,  0.03197849, -0.09175565,  0.00399894, -0.17068669]),\n",
       " array(0.02220269693379262))"
      ]
     },
     "execution_count": 24,
     "metadata": {},
     "output_type": "execute_result"
    }
   ],
   "source": [
    "w.get_value(), b.get_value()"
   ]
  },
  {
   "cell_type": "code",
   "execution_count": 25,
   "metadata": {
    "collapsed": false
   },
   "outputs": [
    {
     "data": {
      "text/plain": [
       "array([1], dtype=int8)"
      ]
     },
     "execution_count": 25,
     "metadata": {},
     "output_type": "execute_result"
    }
   ],
   "source": [
    "predict([D[0][1]])"
   ]
  },
  {
   "cell_type": "code",
   "execution_count": 26,
   "metadata": {
    "collapsed": false
   },
   "outputs": [
    {
     "data": {
      "text/plain": [
       "0"
      ]
     },
     "execution_count": 26,
     "metadata": {},
     "output_type": "execute_result"
    }
   ],
   "source": [
    "D[1][1]"
   ]
  },
  {
   "cell_type": "markdown",
   "metadata": {},
   "source": [
    "going to see if we can make a few layers of a cnn given that went through the example of log reg from the tutorial"
   ]
  },
  {
   "cell_type": "code",
   "execution_count": 27,
   "metadata": {
    "collapsed": true
   },
   "outputs": [],
   "source": [
    "def make_context(sentence):\n",
    "    ret = []\n",
    "    for w in sentence.lower().split():\n",
    "        ret.append(wordvectors[w])\n",
    "    return ret"
   ]
  },
  {
   "cell_type": "code",
   "execution_count": 57,
   "metadata": {
    "collapsed": false
   },
   "outputs": [
    {
     "ename": "AttributeError",
     "evalue": "'SentimentExp' object has no attribute 'output'",
     "output_type": "error",
     "traceback": [
      "\u001b[1;31m---------------------------------------------------------------------------\u001b[0m",
      "\u001b[1;31mAttributeError\u001b[0m                            Traceback (most recent call last)",
      "\u001b[1;32m<ipython-input-57-f0c23b7b78e6>\u001b[0m in \u001b[0;36m<module>\u001b[1;34m()\u001b[0m\n\u001b[0;32m     46\u001b[0m         \u001b[1;32mpass\u001b[0m\u001b[1;33m\u001b[0m\u001b[0m\n\u001b[0;32m     47\u001b[0m \u001b[1;33m\u001b[0m\u001b[0m\n\u001b[1;32m---> 48\u001b[1;33m \u001b[0mexperiment\u001b[0m \u001b[1;33m=\u001b[0m \u001b[0mSentimentExp\u001b[0m\u001b[1;33m(\u001b[0m\u001b[0msentiment\u001b[0m\u001b[1;33m.\u001b[0m\u001b[0mtrain_X\u001b[0m\u001b[1;33m,\u001b[0m \u001b[0msentiment\u001b[0m\u001b[1;33m.\u001b[0m\u001b[0mtrain_Y\u001b[0m\u001b[1;33m)\u001b[0m\u001b[1;33m\u001b[0m\u001b[0m\n\u001b[0m",
      "\u001b[1;32m<ipython-input-57-f0c23b7b78e6>\u001b[0m in \u001b[0;36m__init__\u001b[1;34m(self, train_X, train_Y, wordvecs)\u001b[0m\n\u001b[0;32m      9\u001b[0m         \u001b[0mself\u001b[0m\u001b[1;33m.\u001b[0m\u001b[0mbatch_size\u001b[0m \u001b[1;33m=\u001b[0m \u001b[1;36m10\u001b[0m\u001b[1;33m\u001b[0m\u001b[0m\n\u001b[0;32m     10\u001b[0m \u001b[1;33m\u001b[0m\u001b[0m\n\u001b[1;32m---> 11\u001b[1;33m         \u001b[0mself\u001b[0m\u001b[1;33m.\u001b[0m\u001b[0m_setup\u001b[0m\u001b[1;33m(\u001b[0m\u001b[1;33m)\u001b[0m\u001b[1;33m\u001b[0m\u001b[0m\n\u001b[0m\u001b[0;32m     12\u001b[0m \u001b[1;33m\u001b[0m\u001b[0m\n\u001b[0;32m     13\u001b[0m \u001b[1;33m\u001b[0m\u001b[0m\n",
      "\u001b[1;32m<ipython-input-57-f0c23b7b78e6>\u001b[0m in \u001b[0;36m_setup\u001b[1;34m(self)\u001b[0m\n\u001b[0;32m     41\u001b[0m         \u001b[0mself\u001b[0m\u001b[1;33m.\u001b[0m\u001b[0mloss_v\u001b[0m \u001b[1;33m=\u001b[0m \u001b[0mlasagne\u001b[0m\u001b[1;33m.\u001b[0m\u001b[0mobjectives\u001b[0m\u001b[1;33m.\u001b[0m\u001b[0mbinary_crossentropy\u001b[0m\u001b[1;33m(\u001b[0m\u001b[0mself\u001b[0m\u001b[1;33m.\u001b[0m\u001b[0moutput_v\u001b[0m\u001b[1;33m,\u001b[0m \u001b[0mself\u001b[0m\u001b[1;33m.\u001b[0m\u001b[0my_batch\u001b[0m\u001b[1;33m)\u001b[0m\u001b[1;33m.\u001b[0m\u001b[0mmean\u001b[0m\u001b[1;33m(\u001b[0m\u001b[1;33m)\u001b[0m\u001b[1;33m\u001b[0m\u001b[0m\n\u001b[0;32m     42\u001b[0m \u001b[1;33m\u001b[0m\u001b[0m\n\u001b[1;32m---> 43\u001b[1;33m         \u001b[0mself\u001b[0m\u001b[1;33m.\u001b[0m\u001b[0moutput_test\u001b[0m \u001b[1;33m=\u001b[0m \u001b[0mlasagne\u001b[0m\u001b[1;33m.\u001b[0m\u001b[0mlayers\u001b[0m\u001b[1;33m.\u001b[0m\u001b[0mget_output\u001b[0m\u001b[1;33m(\u001b[0m\u001b[0mself\u001b[0m\u001b[1;33m.\u001b[0m\u001b[0moutput\u001b[0m\u001b[1;33m,\u001b[0m \u001b[0mself\u001b[0m\u001b[1;33m.\u001b[0m\u001b[0mx_batch\u001b[0m\u001b[1;33m,\u001b[0m \u001b[0mdeterministic\u001b[0m\u001b[1;33m=\u001b[0m\u001b[0mTrue\u001b[0m\u001b[1;33m)\u001b[0m\u001b[1;33m\u001b[0m\u001b[0m\n\u001b[0m\u001b[0;32m     44\u001b[0m \u001b[1;33m\u001b[0m\u001b[0m\n\u001b[0;32m     45\u001b[0m     \u001b[1;32mdef\u001b[0m \u001b[0mtrain\u001b[0m\u001b[1;33m(\u001b[0m\u001b[0mself\u001b[0m\u001b[1;33m)\u001b[0m\u001b[1;33m:\u001b[0m\u001b[1;33m\u001b[0m\u001b[0m\n",
      "\u001b[1;31mAttributeError\u001b[0m: 'SentimentExp' object has no attribute 'output'"
     ]
    }
   ],
   "source": [
    "class SentimentExp(object):\n",
    "    \n",
    "    def __init__(self, train_X, train_Y, wordvecs=wordvectors):\n",
    "        self.train_X = train_X\n",
    "        self.trian_Y = train_Y\n",
    "        self.wordvecs = wordvecs\n",
    "        \n",
    "        self.input_size = 10\n",
    "        self.batch_size = 10\n",
    "        \n",
    "        self._setup()\n",
    "        \n",
    "        \n",
    "    def getRep(self, sent):\n",
    "        ret = []\n",
    "        for i in range(self.input_size):\n",
    "            if i < len(sent):\n",
    "                ret.append(self.wordvecs[sent[i]])\n",
    "            else:\n",
    "                ret.append(np.zeros(self.wordvecs.vector_size))\n",
    "        return np.matrix(ret)\n",
    "    \n",
    "    def _setup(self):\n",
    "        self.y_batch = T.ivectors('y')\n",
    "        self.x_batch = T.matrix('x')\n",
    "        \n",
    "        self.input_l = InputLayer(shape=(self.batch_size, 1, self.input_size, self.wordvecs.vector_size), name='x')\n",
    "        self.conv1_l = lasagne.layers.Conv2DLayer(\n",
    "            self.input_l,\n",
    "            num_filters=32, \n",
    "            filter_size=5, \n",
    "        )\n",
    "        self.conv2_l = lasagne.layers.Conv2DLayer(\n",
    "            self.conv1_l,\n",
    "            num_filters=32,\n",
    "            filter_size=5,\n",
    "        )\n",
    "        self.output_l = lasagne.layers.DenseLayer(self.conv2_l, num_units=1)\n",
    "        \n",
    "        self.output_v = lasagne.layers.get_output(self.output_l)#, self.x_batch)\n",
    "        self.loss_v = lasagne.objectives.binary_crossentropy(self.output_v, self.y_batch).mean()\n",
    "        \n",
    "        #self.output_test = lasagne.layers.get_output(self.output, self.x_batch, deterministic=True)\n",
    "            \n",
    "    def train(self):\n",
    "        pass\n",
    "            \n",
    "experiment = SentimentExp(sentiment.train_X, sentiment.train_Y)"
   ]
  },
  {
   "cell_type": "code",
   "execution_count": 31,
   "metadata": {
    "collapsed": false
   },
   "outputs": [],
   "source": [
    "from helpers import *"
   ]
  },
  {
   "cell_type": "code",
   "execution_count": 46,
   "metadata": {
    "collapsed": false
   },
   "outputs": [
    {
     "data": {
      "text/plain": [
       "slice(Elemwise{mul,no_inplace}.0, Elemwise{mul,no_inplace}.0, None)"
      ]
     },
     "execution_count": 46,
     "metadata": {},
     "output_type": "execute_result"
    }
   ],
   "source": [
    "batch_index = T.iscalar('batch_index')\n",
    "X_batch = T.matrix('x.input')\n",
    "y_batch = T.ivector('y')\n",
    "slice(batch_index * 100, (batch_index + 1) * 100)"
   ]
  },
  {
   "cell_type": "code",
   "execution_count": 47,
   "metadata": {
    "collapsed": false
   },
   "outputs": [
    {
     "ename": "ValueError",
     "evalue": "new_order[3] is 2, but the input only has 2 axes.",
     "output_type": "error",
     "traceback": [
      "\u001b[1;31m---------------------------------------------------------------------------\u001b[0m",
      "\u001b[1;31mValueError\u001b[0m                                Traceback (most recent call last)",
      "\u001b[1;32m<ipython-input-47-daa64bdb7289>\u001b[0m in \u001b[0;36m<module>\u001b[1;34m()\u001b[0m\n\u001b[1;32m----> 1\u001b[1;33m \u001b[0mlasagne\u001b[0m\u001b[1;33m.\u001b[0m\u001b[0mlayers\u001b[0m\u001b[1;33m.\u001b[0m\u001b[0mget_output\u001b[0m\u001b[1;33m(\u001b[0m\u001b[0mexperiment\u001b[0m\u001b[1;33m.\u001b[0m\u001b[0moutput\u001b[0m\u001b[1;33m,\u001b[0m \u001b[0mX_batch\u001b[0m\u001b[1;33m)\u001b[0m\u001b[1;33m\u001b[0m\u001b[0m\n\u001b[0m",
      "\u001b[1;32m/home/matthew/.virtualenvs/nlp-convnet/lib/python2.7/site-packages/lasagne/layers/helper.pyc\u001b[0m in \u001b[0;36mget_output\u001b[1;34m(layer_or_layers, inputs, **kwargs)\u001b[0m\n\u001b[0;32m    226\u001b[0m                                  \u001b[1;34m\"mapping this layer to an input expression.\"\u001b[0m\u001b[1;33m\u001b[0m\u001b[0m\n\u001b[0;32m    227\u001b[0m                                  % layer)\n\u001b[1;32m--> 228\u001b[1;33m             \u001b[0mall_outputs\u001b[0m\u001b[1;33m[\u001b[0m\u001b[0mlayer\u001b[0m\u001b[1;33m]\u001b[0m \u001b[1;33m=\u001b[0m \u001b[0mlayer\u001b[0m\u001b[1;33m.\u001b[0m\u001b[0mget_output_for\u001b[0m\u001b[1;33m(\u001b[0m\u001b[0mlayer_inputs\u001b[0m\u001b[1;33m,\u001b[0m \u001b[1;33m**\u001b[0m\u001b[0mkwargs\u001b[0m\u001b[1;33m)\u001b[0m\u001b[1;33m\u001b[0m\u001b[0m\n\u001b[0m\u001b[0;32m    229\u001b[0m     \u001b[1;31m# return the output(s) of the requested layer(s) only\u001b[0m\u001b[1;33m\u001b[0m\u001b[1;33m\u001b[0m\u001b[0m\n\u001b[0;32m    230\u001b[0m     \u001b[1;32mtry\u001b[0m\u001b[1;33m:\u001b[0m\u001b[1;33m\u001b[0m\u001b[0m\n",
      "\u001b[1;32m/home/matthew/.virtualenvs/nlp-convnet/lib/python2.7/site-packages/lasagne/layers/conv.pyc\u001b[0m in \u001b[0;36mget_output_for\u001b[1;34m(self, input, input_shape, **kwargs)\u001b[0m\n\u001b[0;32m    249\u001b[0m                                       \u001b[0mimage_shape\u001b[0m\u001b[1;33m=\u001b[0m\u001b[0minput_shape\u001b[0m\u001b[1;33m,\u001b[0m\u001b[1;33m\u001b[0m\u001b[0m\n\u001b[0;32m    250\u001b[0m                                       \u001b[0mfilter_shape\u001b[0m\u001b[1;33m=\u001b[0m\u001b[0mfilter_shape\u001b[0m\u001b[1;33m,\u001b[0m\u001b[1;33m\u001b[0m\u001b[0m\n\u001b[1;32m--> 251\u001b[1;33m                                       border_mode=self.border_mode)\n\u001b[0m\u001b[0;32m    252\u001b[0m         \u001b[1;32melif\u001b[0m \u001b[0mself\u001b[0m\u001b[1;33m.\u001b[0m\u001b[0mborder_mode\u001b[0m \u001b[1;33m==\u001b[0m \u001b[1;34m'same'\u001b[0m\u001b[1;33m:\u001b[0m\u001b[1;33m\u001b[0m\u001b[0m\n\u001b[0;32m    253\u001b[0m             \u001b[1;32mif\u001b[0m \u001b[0mself\u001b[0m\u001b[1;33m.\u001b[0m\u001b[0mstride\u001b[0m\u001b[1;33m[\u001b[0m\u001b[1;36m0\u001b[0m\u001b[1;33m]\u001b[0m \u001b[1;33m!=\u001b[0m \u001b[1;36m1\u001b[0m\u001b[1;33m:\u001b[0m\u001b[1;33m\u001b[0m\u001b[0m\n",
      "\u001b[1;32m/home/matthew/.virtualenvs/nlp-convnet/lib/python2.7/site-packages/lasagne/theano_extensions/conv.pyc\u001b[0m in \u001b[0;36mconv1d_mc0\u001b[1;34m(input, filters, image_shape, filter_shape, border_mode, subsample)\u001b[0m\n\u001b[0;32m     58\u001b[0m                             filter_shape[2])\n\u001b[0;32m     59\u001b[0m \u001b[1;33m\u001b[0m\u001b[0m\n\u001b[1;32m---> 60\u001b[1;33m     \u001b[0minput_mc0\u001b[0m \u001b[1;33m=\u001b[0m \u001b[0minput\u001b[0m\u001b[1;33m.\u001b[0m\u001b[0mdimshuffle\u001b[0m\u001b[1;33m(\u001b[0m\u001b[1;36m0\u001b[0m\u001b[1;33m,\u001b[0m \u001b[1;36m1\u001b[0m\u001b[1;33m,\u001b[0m \u001b[1;34m'x'\u001b[0m\u001b[1;33m,\u001b[0m \u001b[1;36m2\u001b[0m\u001b[1;33m)\u001b[0m\u001b[1;33m\u001b[0m\u001b[0m\n\u001b[0m\u001b[0;32m     61\u001b[0m     \u001b[0mfilters_mc0\u001b[0m \u001b[1;33m=\u001b[0m \u001b[0mfilters\u001b[0m\u001b[1;33m.\u001b[0m\u001b[0mdimshuffle\u001b[0m\u001b[1;33m(\u001b[0m\u001b[1;36m0\u001b[0m\u001b[1;33m,\u001b[0m \u001b[1;36m1\u001b[0m\u001b[1;33m,\u001b[0m \u001b[1;34m'x'\u001b[0m\u001b[1;33m,\u001b[0m \u001b[1;36m2\u001b[0m\u001b[1;33m)\u001b[0m\u001b[1;33m\u001b[0m\u001b[0m\n\u001b[0;32m     62\u001b[0m \u001b[1;33m\u001b[0m\u001b[0m\n",
      "\u001b[1;32m/home/matthew/.virtualenvs/nlp-convnet/lib/python2.7/site-packages/theano/tensor/var.pyc\u001b[0m in \u001b[0;36mdimshuffle\u001b[1;34m(self, *pattern)\u001b[0m\n\u001b[0;32m    339\u001b[0m             \u001b[0mpattern\u001b[0m \u001b[1;33m=\u001b[0m \u001b[0mpattern\u001b[0m\u001b[1;33m[\u001b[0m\u001b[1;36m0\u001b[0m\u001b[1;33m]\u001b[0m\u001b[1;33m\u001b[0m\u001b[0m\n\u001b[0;32m    340\u001b[0m         op = theano.tensor.basic.DimShuffle(list(self.type.broadcastable),\n\u001b[1;32m--> 341\u001b[1;33m                                             pattern)\n\u001b[0m\u001b[0;32m    342\u001b[0m         \u001b[1;32mreturn\u001b[0m \u001b[0mop\u001b[0m\u001b[1;33m(\u001b[0m\u001b[0mself\u001b[0m\u001b[1;33m)\u001b[0m\u001b[1;33m\u001b[0m\u001b[0m\n\u001b[0;32m    343\u001b[0m \u001b[1;33m\u001b[0m\u001b[0m\n",
      "\u001b[1;32m/home/matthew/.virtualenvs/nlp-convnet/lib/python2.7/site-packages/theano/tensor/elemwise.pyc\u001b[0m in \u001b[0;36m__init__\u001b[1;34m(self, input_broadcastable, new_order, inplace)\u001b[0m\n\u001b[0;32m    139\u001b[0m                     raise ValueError((\"new_order[%d] is %d, but the input \"\n\u001b[0;32m    140\u001b[0m                         \"only has %d axes.\") %\n\u001b[1;32m--> 141\u001b[1;33m                         (i, j, len(input_broadcastable)))\n\u001b[0m\u001b[0;32m    142\u001b[0m                 \u001b[1;32mif\u001b[0m \u001b[0mj\u001b[0m \u001b[1;32min\u001b[0m \u001b[0mnew_order\u001b[0m\u001b[1;33m[\u001b[0m\u001b[1;33m(\u001b[0m\u001b[0mi\u001b[0m \u001b[1;33m+\u001b[0m \u001b[1;36m1\u001b[0m\u001b[1;33m)\u001b[0m\u001b[1;33m:\u001b[0m\u001b[1;33m]\u001b[0m\u001b[1;33m:\u001b[0m\u001b[1;33m\u001b[0m\u001b[0m\n\u001b[0;32m    143\u001b[0m                     raise ValueError((\n",
      "\u001b[1;31mValueError\u001b[0m: new_order[3] is 2, but the input only has 2 axes."
     ]
    }
   ],
   "source": [
    "lasagne.layers.get_output(experiment.output, X_batch)"
   ]
  },
  {
   "cell_type": "code",
   "execution_count": 40,
   "metadata": {
    "collapsed": false
   },
   "outputs": [],
   "source": [
    "experiment.input.name"
   ]
  },
  {
   "cell_type": "code",
   "execution_count": 49,
   "metadata": {
    "collapsed": true
   },
   "outputs": [],
   "source": [
    "l_in = lasagne.layers.InputLayer(shape=(10,1,10,10))\n",
    "l_conv1 = lasagne.layers.Conv2DLayer(l_in, num_filters=32, filter_size=(5,5))\n",
    "l_out = lasagne.layers.DenseLayer(l_conv1, num_units=1)"
   ]
  },
  {
   "cell_type": "code",
   "execution_count": 50,
   "metadata": {
    "collapsed": false
   },
   "outputs": [
    {
     "data": {
      "text/plain": [
       "Elemwise{mul,no_inplace}.0"
      ]
     },
     "execution_count": 50,
     "metadata": {},
     "output_type": "execute_result"
    }
   ],
   "source": [
    "lasagne.layers.get_output(l_out)"
   ]
  },
  {
   "cell_type": "code",
   "execution_count": 51,
   "metadata": {
    "collapsed": false
   },
   "outputs": [
    {
     "ename": "TypeError",
     "evalue": "'type' object has no attribute '__getitem__'",
     "output_type": "error",
     "traceback": [
      "\u001b[1;31m---------------------------------------------------------------------------\u001b[0m",
      "\u001b[1;31mTypeError\u001b[0m                                 Traceback (most recent call last)",
      "\u001b[1;32m<ipython-input-51-222a74ef65fe>\u001b[0m in \u001b[0;36m<module>\u001b[1;34m()\u001b[0m\n\u001b[1;32m----> 1\u001b[1;33m \u001b[0mT\u001b[0m\u001b[1;33m.\u001b[0m\u001b[0mgrad\u001b[0m\u001b[1;33m(\u001b[0m\u001b[0mOut\u001b[0m\u001b[1;33m[\u001b[0m\u001b[1;36m50\u001b[0m\u001b[1;33m]\u001b[0m\u001b[1;33m)\u001b[0m\u001b[1;33m\u001b[0m\u001b[0m\n\u001b[0m",
      "\u001b[1;31mTypeError\u001b[0m: 'type' object has no attribute '__getitem__'"
     ]
    }
   ],
   "source": []
  },
  {
   "cell_type": "code",
   "execution_count": null,
   "metadata": {
    "collapsed": true
   },
   "outputs": [],
   "source": []
  }
 ],
 "metadata": {
  "kernelspec": {
   "display_name": "Python 2",
   "language": "python",
   "name": "python2"
  },
  "language_info": {
   "codemirror_mode": {
    "name": "ipython",
    "version": 2
   },
   "file_extension": ".py",
   "mimetype": "text/x-python",
   "name": "python",
   "nbconvert_exporter": "python",
   "pygments_lexer": "ipython2",
   "version": "2.7.10"
  }
 },
 "nbformat": 4,
 "nbformat_minor": 0
}
