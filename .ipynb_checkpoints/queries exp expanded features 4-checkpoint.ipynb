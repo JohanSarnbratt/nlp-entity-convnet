{
 "cells": [
  {
   "cell_type": "markdown",
   "metadata": {
    "collapsed": true
   },
   "source": [
    "Working on adding a lot of features just to see if it can get the score up regardless of how complicated or where the data is coming from\n",
    "\n",
    "Features that I will be adding\n",
    "\n",
    "* Taget given surface counts\n",
    "* words from the target and source document\n",
    "  * possible back prop into these vectors, idea is to replace tf-idf with some nn and back prop here\n",
    "* using a linear layer near the output to combine the features"
   ]
  },
  {
   "cell_type": "code",
   "execution_count": 1,
   "metadata": {
    "collapsed": false
   },
   "outputs": [],
   "source": [
    "%load_ext autoreload\n",
    "%autoreload 2"
   ]
  },
  {
   "cell_type": "code",
   "execution_count": 2,
   "metadata": {
    "collapsed": false
   },
   "outputs": [
    {
     "name": "stdout",
     "output_type": "stream",
     "text": [
      "Couldn't import dot_parser, loading of dot files will not be possible.\n"
     ]
    }
   ],
   "source": [
    "from theano import *\n",
    "from lasagne.layers import InputLayer, get_output\n",
    "import lasagne\n",
    "import lasagne.layers\n",
    "import theano.tensor as T\n",
    "import theano\n",
    "import numpy as np\n",
    "from helpers import SimpleMaxingLayer, SimpleAverageLayer\n",
    "from wordvecs import WordVectors, EmbeddingLayer, WordTokenizer\n",
    "import json\n",
    "import re\n",
    "import random\n",
    "\n",
    "theano.config.floatX = 'float32'\n",
    "#theano.config.linker = 'cvm_nogc'\n",
    "theano.config.openmp = True\n",
    "theano.config.openmp_elemwise_minsize = 20000"
   ]
  },
  {
   "cell_type": "code",
   "execution_count": 3,
   "metadata": {
    "collapsed": true
   },
   "outputs": [],
   "source": [
    "with open('/data/matthew/external-wiki2.json') as f:\n",
    "    queries = json.load(f)['queries']"
   ]
  },
  {
   "cell_type": "code",
   "execution_count": 4,
   "metadata": {
    "collapsed": false
   },
   "outputs": [
    {
     "data": {
      "text/plain": [
       "9915"
      ]
     },
     "execution_count": 4,
     "metadata": {},
     "output_type": "execute_result"
    }
   ],
   "source": [
    "len(queries)"
   ]
  },
  {
   "cell_type": "code",
   "execution_count": 5,
   "metadata": {
    "collapsed": false
   },
   "outputs": [
    {
     "data": {
      "text/plain": [
       "8917"
      ]
     },
     "execution_count": 5,
     "metadata": {},
     "output_type": "execute_result"
    }
   ],
   "source": [
    "sum([any([g['gold'] for g in v.values()]) for v in queries.values()])"
   ]
  },
  {
   "cell_type": "code",
   "execution_count": 6,
   "metadata": {
    "collapsed": false
   },
   "outputs": [],
   "source": [
    "wordvectors = WordVectors(\n",
    "    fname=\"/data/matthew/enwiki-20141208-pages-articles-multistream-links7-output1.bin\",\n",
    "    redir_fname='/data/matthew/enwiki-20141208-pages-articles-multistream-redirect7.json',\n",
    "    negvectors=False,\n",
    "    sentence_length=200,\n",
    ")\n",
    "wordvectors.add_unknown_words = False"
   ]
  },
  {
   "cell_type": "code",
   "execution_count": 7,
   "metadata": {
    "collapsed": false
   },
   "outputs": [],
   "source": [
    "# with open('/data/matthew/enwiki-20141208-pages-articles-multistream-redirects5.json') as f:\n",
    "#     page_redirects = json.load(f)\n",
    "page_redirects = wordvectors.redirects"
   ]
  },
  {
   "cell_type": "code",
   "execution_count": 8,
   "metadata": {
    "collapsed": false
   },
   "outputs": [
    {
     "data": {
      "text/plain": [
       "4056055"
      ]
     },
     "execution_count": 8,
     "metadata": {},
     "output_type": "execute_result"
    }
   ],
   "source": [
    "len(wordvectors.vectors)"
   ]
  },
  {
   "cell_type": "code",
   "execution_count": 9,
   "metadata": {
    "collapsed": true
   },
   "outputs": [],
   "source": [
    "with open('/data/matthew/enwiki-20141208-pages-articles-multistream-surface-counts7.json') as f:\n",
    "    surface_counts = json.load(f)"
   ]
  },
  {
   "cell_type": "code",
   "execution_count": 10,
   "metadata": {
    "collapsed": false
   },
   "outputs": [],
   "source": [
    "# try and make the surfaces items match what we are looking for\n",
    "surface_counts_re = re.compile('([\\.,!\\?])')\n",
    "for sk in surface_counts.keys():\n",
    "    nsk = sk.replace('(', '-lrb-').replace(')', '-rrb-')\n",
    "    nsk = surface_counts_re.sub(' \\\\1', nsk)\n",
    "    if nsk != sk:\n",
    "        surface_counts[nsk] = surface_counts[sk]"
   ]
  },
  {
   "cell_type": "code",
   "execution_count": 11,
   "metadata": {
    "collapsed": false
   },
   "outputs": [],
   "source": [
    "from wikireader import WikiRegexes, WikipediaReader"
   ]
  },
  {
   "cell_type": "code",
   "execution_count": 12,
   "metadata": {
    "collapsed": false
   },
   "outputs": [],
   "source": [
    "def PreProcessedQueries(wikipedia_dump_fname, vectors=wordvectors, queries=queries, redirects=page_redirects, surface=surface_counts):\n",
    "    \n",
    "    get_words = re.compile('[^a-zA-Z0-9 ]')\n",
    "    get_link = re.compile('.*?\\[(.*?)\\].*?')\n",
    "    \n",
    "    wordvec = WordTokenizer(vectors, sentence_length=200)\n",
    "    documentvec = WordTokenizer(vectors, sentence_length=1)\n",
    "    \n",
    "    queried_pages = set()\n",
    "    for docs, q in queries.iteritems():\n",
    "        wordvec.tokenize(docs)\n",
    "        for sur, v in q.iteritems():\n",
    "            wrds_sur = get_words.sub(' ', sur)\n",
    "            wordvec.tokenize(wrds_sur)\n",
    "            link_sur = get_link.match(sur).group(1)\n",
    "            wordvec.tokenize(link_sur)\n",
    "            for link in v['vals'].keys():\n",
    "                wrds = get_words.sub(' ', link)\n",
    "                wordvec.tokenize(wrds)\n",
    "                tt = WikiRegexes.convertToTitle(link)\n",
    "                documentvec.get_location(tt)\n",
    "                queried_pages.add(tt)\n",
    "\n",
    "    added_pages = set()\n",
    "    for title in queried_pages:\n",
    "        if title in redirects:\n",
    "            #wordvec.tokenize(self.redirects[title])\n",
    "            documentvec.get_location(redirects[title])\n",
    "            added_pages.add(redirects[title])\n",
    "    queried_pages |= added_pages\n",
    "    \n",
    "    for w in queried_pages:\n",
    "        wordvec.tokenize(get_words.sub(' ', w))\n",
    "\n",
    "    page_content = {}\n",
    "\n",
    "    class GetWikipediaWords(WikipediaReader, WikiRegexes):\n",
    "\n",
    "        def readPage(ss, title, content, namespace):\n",
    "            if namespace != 0:\n",
    "                return\n",
    "            tt = ss.convertToTitle(title)\n",
    "            if tt in queried_pages:\n",
    "                cnt = ss._wikiToText(content)\n",
    "                page_content[tt] = wordvec.tokenize(cnt)\n",
    "\n",
    "    GetWikipediaWords(wikipedia_dump_fname).read()\n",
    "    \n",
    "    rr = redirects\n",
    "    rq = queried_pages\n",
    "    rc = page_content\n",
    "    rs = surface\n",
    "\n",
    "    class PreProcessedQueriesCls(object):\n",
    "        \n",
    "        wordvecs = wordvec\n",
    "        documentvecs = documentvec\n",
    "        queries = queries\n",
    "        redirects = rr\n",
    "        queried_pages = rq\n",
    "        page_content = rc\n",
    "        surface_counts = rs\n",
    "        \n",
    "        \n",
    "    return PreProcessedQueriesCls"
   ]
  },
  {
   "cell_type": "code",
   "execution_count": 13,
   "metadata": {
    "collapsed": false
   },
   "outputs": [
    {
     "name": "stdout",
     "output_type": "stream",
     "text": [
      "CPU times: user 21min 48s, sys: 15.7 s, total: 22min 3s\n",
      "Wall time: 22min 5s\n"
     ]
    }
   ],
   "source": [
    "%time basePreProcessedQueries = PreProcessedQueries('/data/matthew/enwiki-20141208-pages-articles-multistream.xml')"
   ]
  },
  {
   "cell_type": "code",
   "execution_count": 14,
   "metadata": {
    "collapsed": false
   },
   "outputs": [
    {
     "data": {
      "text/plain": [
       "4056055"
      ]
     },
     "execution_count": 14,
     "metadata": {},
     "output_type": "execute_result"
    }
   ],
   "source": [
    "len(wordvectors.vectors)"
   ]
  },
  {
   "cell_type": "code",
   "execution_count": 15,
   "metadata": {
    "collapsed": false
   },
   "outputs": [
    {
     "data": {
      "text/plain": [
       "754813"
      ]
     },
     "execution_count": 15,
     "metadata": {},
     "output_type": "execute_result"
    }
   ],
   "source": [
    "len(basePreProcessedQueries.wordvecs.reverse_word_location)"
   ]
  },
  {
   "cell_type": "code",
   "execution_count": 16,
   "metadata": {
    "collapsed": false
   },
   "outputs": [],
   "source": [
    "for qu in queries.values():\n",
    "    for en in qu.values():\n",
    "        en['boosted'] = 1.0"
   ]
  },
  {
   "cell_type": "code",
   "execution_count": 17,
   "metadata": {
    "collapsed": true
   },
   "outputs": [],
   "source": [
    "# def cleanUpMultipleLinks():\n",
    "#     for qu in queries.values():\n",
    "#         for en in qu.values():\n",
    "#             gold_page = en['gold']\n",
    "#             gold_title = WikiRegexes.convertToTitle(gold_page)\n",
    "#             gold_title = page_redirects.get(gold_title, gold_title)\n",
    "#             pages = set()\n",
    "#             for p in en['vals'].keys():\n",
    "#                 wiki_title = WikiRegexes.convertToTitle(p)\n",
    "#                 wiki_title = page_redirects.get(wiki_title, wiki_title)\n",
    "#                 if wiki_title == gold_title and p != en['gold']:\n",
    "#                     del en['vals'][p]\n",
    "#                 elif wiki_title not in pages:\n",
    "#                     pages.add(wiki_title)\n",
    "#                 else:\n",
    "#                     del en['vals'][p]\n",
    "# cleanUpMultipleLinks()"
   ]
  },
  {
   "cell_type": "code",
   "execution_count": 18,
   "metadata": {
    "collapsed": false
   },
   "outputs": [],
   "source": [
    "#sum(len(q) for q in queries)"
   ]
  },
  {
   "cell_type": "code",
   "execution_count": 19,
   "metadata": {
    "collapsed": false
   },
   "outputs": [],
   "source": [
    "# def removeSingleLinkTargets():\n",
    "#     \"items that the surface link set only has a single item are trival, so remove\"\n",
    "#     get_link = re.compile('.*?\\[(.*?)\\].*?')\n",
    "#     for quk, qu in queries.items():\n",
    "#         for sur in qu.keys():\n",
    "#             surlink = get_link.match(sur).group(1)\n",
    "#             surmatch = surlink.lower()\n",
    "#             surcounts = surface_counts.get(surmatch)\n",
    "#             if surcounts and len(surcounts) == 1:\n",
    "#                 # this is trival since there is only one item\n",
    "#                 del qu[sur]\n",
    "#         if not qu:\n",
    "#             # we removed all the links on this page, remove it otherwise the program crashes\n",
    "#             del queries[quk]\n",
    "# removeSingleLinkTargets()"
   ]
  },
  {
   "cell_type": "code",
   "execution_count": 20,
   "metadata": {
    "collapsed": false
   },
   "outputs": [
    {
     "data": {
      "text/plain": [
       "34863863"
      ]
     },
     "execution_count": 20,
     "metadata": {},
     "output_type": "execute_result"
    }
   ],
   "source": [
    "sum(len(q) for q in queries)"
   ]
  },
  {
   "cell_type": "code",
   "execution_count": 21,
   "metadata": {
    "collapsed": false
   },
   "outputs": [
    {
     "name": "stderr",
     "output_type": "stream",
     "text": [
      "/home/matthew/.virtualenvs/nlp-convnet/lib/python2.7/site-packages/theano/scan_module/scan_perform_ext.py:135: RuntimeWarning: numpy.ndarray size changed, may indicate binary incompatibility\n",
      "  from scan_perform.scan_perform import *\n"
     ]
    }
   ],
   "source": [
    "class EntityVectorLinkExp(basePreProcessedQueries):\n",
    "\n",
    "    batch_size = 250 #20000\n",
    "    num_training_items = 500000 #200000\n",
    "\n",
    "    def __init__(self):\n",
    "        self.sentence_length = self.wordvecs.sentence_length\n",
    "        self.sentence_length_short = 10\n",
    "        self.document_length = 100\n",
    "        \n",
    "        self.num_words_to_use_conv = 5\n",
    "        self.enable_boosting = False\n",
    "        self.num_negative_target_samples = 1\n",
    "        #self.enable_match_surface = False\n",
    "        #self.enable_link_counts = True\n",
    "        self.enable_train_wordvecs = True\n",
    "        self.enable_cap_boosting = True\n",
    "        \n",
    "        self.main_nl = lasagne.nonlinearities.leaky_rectify\n",
    "\n",
    "        self._setup()\n",
    "\n",
    "    def _setup(self):\n",
    "        self.x_document_input = T.imatrix('x_doc')  # words from the source document\n",
    "\n",
    "        self.x_document_id = T.ivector('x_doc_id')  # index of which source doucment this is from\n",
    "        self.x_surface_text_input = T.imatrix('x_surface_link')  # text of the surface link\n",
    "        self.x_surface_context_input = T.imatrix('x_surface_cxt')  #  words surrounding the surface link\n",
    "\n",
    "        self.x_target_input = T.ivector('x_target')  # id of the target vector\n",
    "        self.x_target_words = T.imatrix('x_target_words')  # words from the target title link\n",
    "        self.x_matches_surface = T.ivector('x_match_surface')  # indicator if the target title matches the surface\n",
    "        self.x_matches_counts = T.imatrix('x_matches_counts')  # info about the link counts\n",
    "        self.x_target_document_words = T.imatrix('x_target_document_words')  # words from the body of target document\n",
    "        self.x_link_id = T.ivector('x_link_id')  # indx of what link to compare to in the matrix\n",
    "\n",
    "        #self.y_score = T.vector('y')\n",
    "        self.y_answer = T.ivector('y_ans')  # (Not used) contains the location of the gold answer so we can compute the loss\n",
    "        self.y_grouping = T.imatrix('y_grouping')  # matrix containing [start_idx, end_idx, gold_idx]\n",
    "        self.y_boosted = T.vector('y_boosted')  # only used if boosting enabled, vector of how much to boost items\n",
    "\n",
    "\n",
    "        self.embedding_W = theano.shared(self.wordvecs.get_numpy_matrix().astype(theano.config.floatX),name='embedding_W')\n",
    "        self.embedding_W_docs = theano.shared(self.documentvecs.get_numpy_matrix().astype(theano.config.floatX),name='embedding_W_docs')\n",
    "        \n",
    "        self.document_l = lasagne.layers.InputLayer(\n",
    "            (None,self.document_length),\n",
    "            input_var=self.x_document_input\n",
    "        )\n",
    "\n",
    "        self.document_embedding_l = EmbeddingLayer(\n",
    "            self.document_l,\n",
    "            W=self.embedding_W,\n",
    "            add_word_params=self.enable_train_wordvecs,\n",
    "        )\n",
    "\n",
    "        self.document_conv1_l = lasagne.layers.Conv2DLayer(\n",
    "            self.document_embedding_l,\n",
    "            num_filters=30,  # was 75, 100, 500\n",
    "            filter_size=(self.num_words_to_use_conv, self.wordvecs.vector_size),\n",
    "            name='document_conv1',\n",
    "            nonlinearity=lasagne.nonlinearities.leaky_rectify,\n",
    "        )\n",
    "\n",
    "        self.document_max_l = lasagne.layers.Pool2DLayer(\n",
    "            self.document_conv1_l,\n",
    "            name='document_pool1',\n",
    "            pool_size=(self.document_length - self.num_words_to_use_conv, 1),\n",
    "            mode='max',  # was sum\n",
    "        )\n",
    "\n",
    "        document_output_length = 25 # was 100, 200\n",
    "        \n",
    "        self.document_dens1 = lasagne.layers.DenseLayer(\n",
    "            self.document_max_l,\n",
    "            num_units=document_output_length,\n",
    "            name='doucment_dens1',\n",
    "            nonlinearity=lasagne.nonlinearities.leaky_rectify,\n",
    "        )\n",
    "\n",
    "#         self.document_drop1 = lasagne.layers.DropoutLayer(\n",
    "#             self.document_dens1,\n",
    "#             p=.25,\n",
    "#         )\n",
    "\n",
    "#         self.document_dens2 = lasagne.layers.DenseLayer(\n",
    "#             self.document_drop1,\n",
    "#             num_units=225,\n",
    "#             name='document_dens2',\n",
    "#             nonlinearity=lasagne.nonlinearities.tanh,\n",
    "#         )\n",
    "\n",
    "#         self.document_drop2 = lasagne.layers.DropoutLayer(\n",
    "#             self.document_dens2,\n",
    "#             p=.25,\n",
    "#         )\n",
    "\n",
    "#         self.document_dens3 = lasagne.layers.DenseLayer(\n",
    "#             self.document_drop2,\n",
    "#             num_units=document_output_length,\n",
    "#             name='document_dens3',\n",
    "#             nonlinearity=lasagne.nonlinearities.tanh,\n",
    "#         )\n",
    "\n",
    "        self.document_output = lasagne.layers.get_output(self.document_dens1)\n",
    "    \n",
    "    \n",
    "        ##########################################\n",
    "        ## surface text\n",
    "\n",
    "        self.surface_context_l = lasagne.layers.InputLayer(\n",
    "            (None, self.sentence_length),\n",
    "            input_var=self.x_surface_context_input,\n",
    "        )\n",
    "\n",
    "        self.surface_context_embedding_l = EmbeddingLayer(\n",
    "            self.surface_context_l,\n",
    "            W=self.embedding_W,\n",
    "            add_word_params=self.enable_train_wordvecs,\n",
    "        )\n",
    "\n",
    "        self.surface_context_conv1_l = lasagne.layers.Conv2DLayer(\n",
    "            self.surface_context_embedding_l,\n",
    "            num_filters=200,  # was 300\n",
    "            filter_size=(self.num_words_to_use_conv, self.wordvecs.vector_size),\n",
    "            name='surface_cxt_conv1',\n",
    "            nonlinearity=self.main_nl,\n",
    "        )\n",
    "\n",
    "#         self.surface_context_avg1_l = SimpleAverageLayer(\n",
    "#             [self.surface_context_conv1_l, self.surface_context_l],\n",
    "#             #name='surface_context_avg'\n",
    "#         )\n",
    "\n",
    "        self.surface_context_pool1_l = lasagne.layers.Pool2DLayer(\n",
    "            self.surface_context_conv1_l,\n",
    "            name='surface_cxt_pool1',\n",
    "            pool_size=(self.sentence_length - self.num_words_to_use_conv, 1),\n",
    "            mode='sum',\n",
    "        )\n",
    "\n",
    "        self.surface_input_l = lasagne.layers.InputLayer(\n",
    "            (None, self.sentence_length_short),\n",
    "            input_var=self.x_surface_text_input\n",
    "        )\n",
    "\n",
    "        self.surface_embedding_l = EmbeddingLayer(\n",
    "            self.surface_input_l,\n",
    "            W=self.embedding_W,\n",
    "            add_word_params=self.enable_train_wordvecs,\n",
    "        )\n",
    "\n",
    "        self.surface_conv1_l = lasagne.layers.Conv2DLayer(\n",
    "            self.surface_embedding_l,\n",
    "            num_filters=200,  # was 300\n",
    "            filter_size=(self.num_words_to_use_conv, self.wordvecs.vector_size),\n",
    "            name='surface_conv1',\n",
    "            nonlinearity=self.main_nl,\n",
    "        )\n",
    "\n",
    "#         self.surface_avg1_l = SimpleAverageLayer(\n",
    "#             [self.surface_conv1_l, self.surface_input_l],\n",
    "#             #name='surface_avg'\n",
    "#         )\n",
    "\n",
    "        self.surface_pool1_l = lasagne.layers.Pool2DLayer(\n",
    "            self.surface_conv1_l,\n",
    "            name='surface_pool1',\n",
    "            pool_size=(self.sentence_length_short - self.num_words_to_use_conv, 1),\n",
    "            mode='sum',\n",
    "        )\n",
    "\n",
    "        self.surface_merged_l = lasagne.layers.ConcatLayer(\n",
    "            [self.surface_context_pool1_l, self.surface_pool1_l]\n",
    "        )\n",
    "\n",
    "        self.surface_dens1 = lasagne.layers.DenseLayer(\n",
    "            self.surface_merged_l,\n",
    "            name='surface_dens1',\n",
    "            num_units=200,  # was 250\n",
    "            nonlinearity=self.main_nl,# lasagne.nonlinearities.tanh,\n",
    "        )\n",
    "\n",
    "#         self.surface_drop1 = lasagne.layers.DropoutLayer(\n",
    "#             self.surface_dens1,\n",
    "#             p=.25,\n",
    "#         )\n",
    "\n",
    "#         self.surface_dens2 = lasagne.layers.DenseLayer(\n",
    "#             self.surface_drop1,\n",
    "#             name='surface_dens2',\n",
    "#             num_units=200,\n",
    "#             nonlinearity=lasagne.nonlinearities.tanh,\n",
    "#         )\n",
    "\n",
    "        ##################################################\n",
    "        ## merge the documents with the surface info\n",
    "\n",
    "        self.document_aligned_l = InputLayer(\n",
    "            (None, document_output_length),\n",
    "            input_var=self.document_output[self.x_document_id,:]\n",
    "        )\n",
    "\n",
    "        self.source_l = lasagne.layers.ConcatLayer(\n",
    "            [self.document_aligned_l, self.surface_dens1]\n",
    "        )\n",
    "\n",
    "        self.source_dens1 = lasagne.layers.DenseLayer(\n",
    "            self.source_l,\n",
    "            num_units=300,\n",
    "            name='source_dens1',\n",
    "            nonlinearity=self.main_nl,# lasagne.nonlinearities.tanh,\n",
    "        )\n",
    "\n",
    "        self.source_drop1 = lasagne.layers.DropoutLayer(\n",
    "            self.source_dens1,\n",
    "            p=.25,\n",
    "        )\n",
    "\n",
    "        self.source_dens12 = lasagne.layers.DenseLayer(\n",
    "            self.source_drop1,\n",
    "            num_units=250,\n",
    "            name='source_dens12',\n",
    "            nonlinearity=self.main_nl,# lasagne.nonlinearities.tanh,\n",
    "        )\n",
    "\n",
    "        self.source_drop12 = lasagne.layers.DropoutLayer(\n",
    "            self.source_dens12,\n",
    "            p=.25,\n",
    "        )\n",
    "\n",
    "        compared_vector_size = 150 #self.wordvecs.vector_size #+ 2 # extra space for if it matches the surface text\n",
    "\n",
    "        self.source_dens2 = lasagne.layers.DenseLayer(\n",
    "            self.source_drop12,\n",
    "            num_units=compared_vector_size,  # this is the same size as the learned wikipedia vectors\n",
    "            name='source_dens2',\n",
    "            nonlinearity=lasagne.nonlinearities.linear,\n",
    "        )\n",
    "\n",
    "        self.source_out = lasagne.layers.get_output(self.source_dens2)\n",
    "        \n",
    "        \n",
    "        ###################################################\n",
    "        ## dealing with the target side\n",
    "\n",
    "        matched_surface_reshaped = self.x_matches_surface.reshape(\n",
    "            (self.x_matches_surface.shape[0], 1, 1, 1)).astype(theano.config.floatX)\n",
    "\n",
    "        self.target_input_l = lasagne.layers.InputLayer(\n",
    "            (None,),\n",
    "            input_var=self.x_target_input\n",
    "        )\n",
    "        \n",
    "        #################################\n",
    "        ## target indicators features\n",
    "\n",
    "        self.target_matched_surface_input_l = lasagne.layers.InputLayer(\n",
    "            (None,1,1,1),\n",
    "            input_var=matched_surface_reshaped,\n",
    "        )\n",
    "        \n",
    "        self.target_matched_counts_input_l = lasagne.layers.InputLayer(\n",
    "            (None,5),\n",
    "            input_var=self.x_matches_counts.astype(theano.config.floatX),\n",
    "        )\n",
    "\n",
    "        self.target_embedding_l = EmbeddingLayer(\n",
    "            lasagne.layers.reshape(self.target_input_l, ([0], 1)),\n",
    "            W=self.embedding_W_docs,\n",
    "            add_word_params=False,\n",
    "        )\n",
    "\n",
    "#         self.target_combined_feats_l = lasagne.layers.ConcatLayer(\n",
    "#             [self.target_embedding_l, self.target_matched_surface_input_l,\n",
    "#             lasagne.layers.reshape(self.target_matched_counts_input_l, ([0],1,1,[1]))],\n",
    "#             axis=3\n",
    "#         )\n",
    "\n",
    "        # words from the title of the target\n",
    "        self.target_words_input_l = lasagne.layers.InputLayer(\n",
    "            (None,self.sentence_length_short),\n",
    "            input_var=self.x_target_words,\n",
    "        )\n",
    "\n",
    "        self.target_words_embedding_l = EmbeddingLayer(\n",
    "            self.target_words_input_l,\n",
    "            W=self.embedding_W,\n",
    "            add_word_params=self.enable_train_wordvecs,\n",
    "        )\n",
    "\n",
    "        self.target_words_conv1_l = lasagne.layers.Conv2DLayer(\n",
    "            self.target_words_embedding_l,\n",
    "            name='target_wrds_conv1',\n",
    "            filter_size=(self.num_words_to_use_conv, self.wordvecs.vector_size),\n",
    "            num_filters=20,  # was 75, 150, 350\n",
    "            nonlinearity=lasagne.nonlinearities.leaky_rectify,\n",
    "        )\n",
    "\n",
    "        self.target_words_pool1_l = lasagne.layers.Pool2DLayer(\n",
    "            self.target_words_conv1_l,\n",
    "            name='target_wrds_pool1',\n",
    "            pool_size=(self.sentence_length_short - self.num_words_to_use_conv, 1),\n",
    "            mode='max',  # was sum\n",
    "        )\n",
    "        \n",
    "        # words from the body of the target\n",
    "        self.target_body_words_input_l = lasagne.layers.InputLayer(\n",
    "            (None,self.sentence_length),\n",
    "            input_var=self.x_target_document_words,\n",
    "        )\n",
    "        \n",
    "        self.target_body_words_embedding_l = EmbeddingLayer(\n",
    "            self.target_body_words_input_l,\n",
    "            W=self.embedding_W,\n",
    "            add_word_params=self.enable_train_wordvecs,\n",
    "        )\n",
    "        \n",
    "        self.target_body_words_conv1_l = lasagne.layers.Conv2DLayer(\n",
    "            self.target_body_words_embedding_l,\n",
    "            name='target_body_wrds_conv1',\n",
    "            filter_size=(self.num_words_to_use_conv, self.wordvecs.vector_size),\n",
    "            num_filters=150,\n",
    "            nonlinearity=lasagne.nonlinearities.leaky_rectify,\n",
    "        )\n",
    "        \n",
    "        self.target_body_words_pool1_l = lasagne.layers.Pool2DLayer(\n",
    "            self.target_body_words_conv1_l,\n",
    "            name='target_body_wrds_pool1',\n",
    "            pool_size=(self.sentence_length - self.num_words_to_use_conv, 1),\n",
    "            mode='max',\n",
    "        )\n",
    "    \n",
    "        self.target_merge_l = lasagne.layers.ConcatLayer(\n",
    "            [lasagne.layers.reshape(self.target_words_pool1_l, ([0], [1])),\n",
    "             lasagne.layers.reshape(self.target_body_words_pool1_l, ([0], [1])),\n",
    "            # lasagne.layers.reshape(self.target_embedding_l, ([0], [3]))\n",
    "            ]\n",
    "        )\n",
    "\n",
    "#         self.target_dens1 = lasagne.layers.DenseLayer(\n",
    "#             self.target_merge_l,\n",
    "#             name='target_wrds_dens1',\n",
    "#             num_units=400,\n",
    "#             nonlinearity=lasagne.nonlinearities.tanh,\n",
    "#         )\n",
    "\n",
    "#         self.target_drop1 = lasagne.layers.DropoutLayer(\n",
    "#             self.target_dens1,\n",
    "#             p=.25,\n",
    "#         )\n",
    "\n",
    "#         self.target_dens2 = lasagne.layers.DenseLayer(\n",
    "#             self.target_drop1,\n",
    "#             name='target_wrds_dens1',\n",
    "#             num_units=compared_vector_size,\n",
    "#             nonlinearity=lasagne.nonlinearities.linear,\n",
    "#         )\n",
    "\n",
    "#         self.target_simple = lasagne.layers.DenseLayer(\n",
    "#             self.target_embedding_l, #self.target_combined_feats_l,\n",
    "#             name='target_simple1',\n",
    "#             num_units=compared_vector_size,\n",
    "#             nonlinearity=lasagne.nonlinearities.linear,\n",
    "#         )\n",
    "    \n",
    "        self.target_simple2 = lasagne.layers.DenseLayer(\n",
    "            self.target_merge_l,\n",
    "            name='target_simple2',\n",
    "            num_units=compared_vector_size,\n",
    "            nonlinearity=lasagne.nonlinearities.linear,\n",
    "        )\n",
    "\n",
    "#         self.target_dens1 = lasagne.layers.DenseLayer(\n",
    "#             self.target_conv1_l,\n",
    "#             name='target_dens1',\n",
    "#             num_units=300,\n",
    "#             nonlinearity=lasagne.nonlinearities.tanh,\n",
    "#         )\n",
    "\n",
    "#         self.target_drop1 = lasagne.layers.DropoutLayer(\n",
    "#             self.target_dens1,\n",
    "#             p=.25,\n",
    "#         )\n",
    "\n",
    "#         self.target_dens2 = lasagne.layers.DenseLayer(\n",
    "#             self.target_drop1,\n",
    "#             name='target_dens2',\n",
    "#             num_units=300,\n",
    "#             nonlinearity=lasagne.nonlinearities.tanh,\n",
    "#         )\n",
    "\n",
    "\n",
    "\n",
    "        #self.target_out = lasagne.layers.get_output(self.target_embedding_l)\n",
    "\n",
    "\n",
    "#         self.target_out = T.concatenate(\n",
    "#             [self.embedding_W[self.x_target_input],\n",
    "#              matched_surface_reshaped,\n",
    "#             1-matched_surface_reshaped],\n",
    "#              axis=1)\n",
    "\n",
    "\n",
    "        #self.target_out = self.embedding_W[self.x_target_input]\n",
    "        #self.target_out = lasagne.layers.get_output(self.target_dens2)\n",
    "\n",
    "        self.target_out = lasagne.layers.get_output(self.target_simple2)\n",
    "\n",
    "        #########################################################\n",
    "        ## compute the cosine distance between the two layers\n",
    "        \n",
    "        self.source_aligned_l = self.source_out[self.x_link_id, :]\n",
    "\n",
    "        # this uses scan internally, which means that it comes back into python code to run the loop.....fml\n",
    "        self.dotted_vectors =  T.batched_dot(self.target_out, self.source_aligned_l)\n",
    "        # diag also does not support a C version.........\n",
    "        #self.dotted_vectors = T.dot(self.target_out, self.source_aligned_l.T).diagonal()\n",
    "\n",
    "        def augNorm(v):\n",
    "            return T.maximum(T.basic.pow(T.basic.pow(T.basic.abs_(v), 2).sum(axis=1) + .001, .5), .001)\n",
    "\n",
    "        self.res_l = self.dotted_vectors / (augNorm(self.target_out) * augNorm(self.source_aligned_l) + .001)\n",
    "        \n",
    "        self.res_cap = T.clip((T.tanh(self.res_l) + 1) / 2, .001, .999)\n",
    "        \n",
    "        \n",
    "        ##################################################\n",
    "        ## f-life, changing it to dens layers b/c why not\n",
    "        \n",
    "#         self.final_merged_l = lasagne.layers.concat(\n",
    "#             [\n",
    "#                 self.target_merge_l,  # the conv layer + embedding without any transforms\n",
    "#                 # results from the layers with the source   \n",
    "#                 lasagne.layers.InputLayer(\n",
    "#                     (None,compared_vector_size),\n",
    "#                     input_var=self.source_aligned_l,\n",
    "#                 )\n",
    "#             ]\n",
    "#         )\n",
    "        \n",
    "#         self.final_dens1 = lasagne.layers.DenseLayer(\n",
    "#             self.final_merged_l,\n",
    "#             num_units=400,\n",
    "#             nonlinearity=lasagne.nonlinearities.tanh,\n",
    "#             name='final_dens1',\n",
    "#         )\n",
    "        \n",
    "#         self.final_drop1 = lasagne.layers.DropoutLayer(\n",
    "#             self.final_dens1,\n",
    "#             p=.25,\n",
    "#         )\n",
    "        \n",
    "#         self.final_dens2 = lasagne.layers.DenseLayer(\n",
    "#             self.final_drop1,\n",
    "#             num_units=300,\n",
    "#             nonlinearity=lasagne.nonlinearities.tanh,\n",
    "#             name='final_dens2',\n",
    "#         )\n",
    "        \n",
    "#         self.final_drop2 = lasagne.layers.DropoutLayer(\n",
    "#             self.final_dens2,\n",
    "#             p=.25,\n",
    "#         )\n",
    "        \n",
    "#         self.final_dens3 = lasagne.layers.DenseLayer(\n",
    "#             self.final_drop2,\n",
    "#             num_units=1,\n",
    "#             nonlinearity=lasagne.nonlinearities.tanh,\n",
    "#             name='final_dens3',\n",
    "#         )\n",
    "        \n",
    "#         self.final_output = lasagne.layers.get_output(self.final_dens3)\n",
    "        \n",
    "        \n",
    "        #############################\n",
    "        ## Linear features combined\n",
    "        #############################\n",
    "        \n",
    "        \n",
    "        self.linear_features_combined = lasagne.layers.concat(\n",
    "            [lasagne.layers.InputLayer(\n",
    "                    (None, 1), \n",
    "                    input_var=self.res_l.reshape((self.res_l.shape[0], 1)),  # changed from res_l\n",
    "                ),\n",
    "            lasagne.layers.reshape(self.target_matched_surface_input_l, ([0],1)),\n",
    "            self.target_matched_counts_input_l],\n",
    "            axis=1\n",
    "        )\n",
    "        \n",
    "        self.linear_features_dens_l = lasagne.layers.DenseLayer(\n",
    "            self.linear_features_combined,\n",
    "            nonlinearity=lasagne.nonlinearities.linear,\n",
    "            num_units=1,\n",
    "            name='linear_final_l',\n",
    "            W=lasagne.init.Normal(mean=1.0),\n",
    "        )\n",
    "        \n",
    "        self.linear_output = lasagne.layers.get_output(\n",
    "            lasagne.layers.reshape(self.linear_features_dens_l, ([0],))\n",
    "        )\n",
    "        \n",
    "        ########################################\n",
    "        ## true output values\n",
    "        ########################################\n",
    "        \n",
    "        self.true_output = self.linear_output\n",
    "        \n",
    "        \n",
    "        \n",
    "#         self.res_l = self.dotted_vectors / ((self.target_out.norm(1, axis=1) + .001) *\n",
    "#                                             (self.source_aligned_l.norm(1, axis=1) + .001))\n",
    "\n",
    "\n",
    "        #self.golds = self.res_cap[self.y_answer]\n",
    "\n",
    "#         def maxOverRange(indx):\n",
    "#             #return T.max(self.res_cap[T.arange(indx[0],indx[1])]) - self.res_cap[indx[2]]\n",
    "#             #return -( self.res_l[indx[2]] - T.log(T.exp(self.res_l[T.arange(indx[0],indx[1])]).sum()) )\n",
    "#             return -( self.res_l[indx[2]] - self.res_l[indx[0]])\n",
    "\n",
    "#         # build a tensor to make a matrix with one set on each dimention\n",
    "#         self.grouped, grouped_update = theano.scan(maxOverRange, sequences=self.y_grouping)\n",
    "\n",
    "        def setSubSelector(indx, outputs):\n",
    "            return T.set_subtensor(outputs[T.arange(indx[0], indx[1]), indx[3]], 1)\n",
    "\n",
    "        num_target_samples = self.linear_output.shape[0]\n",
    "\n",
    "        select_seq = T.concatenate([\n",
    "            self.y_grouping,\n",
    "            T.arange(self.y_grouping.shape[0]).reshape((self.y_grouping.shape[0], 1))\n",
    "        ], axis=1)\n",
    "\n",
    "        self.selecting_matrix, _ = theano.scan(\n",
    "            setSubSelector,\n",
    "            outputs_info=T.zeros((num_target_samples, self.y_grouping.shape[0])), #num_target_samples)),\n",
    "            #n_steps=self.y_grouping.shape[0]\n",
    "            sequences=select_seq,\n",
    "        )\n",
    "\n",
    "#         self.groupped_elems = T.dot(self.selecting_matrix[-1], \n",
    "#                                     T.diag(T.exp(self.true_output)))\n",
    "#         self.groupped_res = T.log(self.groupped_elems.sum(axis=0)[T.arange(self.y_grouping.shape[0])])\n",
    "        self.groupped_elems = T.dot(self.selecting_matrix[-1].T, \n",
    "                                   T.exp(self.true_output))\n",
    "        self.groupped_res = T.log(self.groupped_elems)\n",
    "        \n",
    "        self.loss_vec = self.groupped_res - self.true_output[self.y_grouping[:,2]]\n",
    "        \n",
    "        if self.enable_boosting:\n",
    "            self.loss_scalar = T.dot(self.y_boosted, self.loss_vec)\n",
    "        else:\n",
    "            self.loss_scalar = self.loss_vec.sum()\n",
    "\n",
    "        self.all_params = (\n",
    "            #lasagne.layers.get_all_params(self.target_dens2) +\n",
    "            # TODO: add params for the target stuff,\n",
    "            #lasagne.layers.get_all_params(self.final_dens3) +\n",
    "            lasagne.layers.get_all_params(self.target_simple2) +\n",
    "            lasagne.layers.get_all_params(self.source_dens2) +\n",
    "            lasagne.layers.get_all_params(self.linear_features_dens_l)\n",
    "            #lasagne.layers.get_all_params(self.document_dens2)\n",
    "        )\n",
    "\n",
    "        # weight the positive samples more since there are fewer of them,\n",
    "        # freaking hack\n",
    "        #self.loss_vec = -(10 * self.y_score * T.log(self.res_cap) + (1.0 - self.y_score) * T.log(1.0 - self.res_cap))\n",
    "\n",
    "        #self.loss_vec = T.nnet.binary_crossentropy(self.res_cap, self.y_score)\n",
    "\n",
    "        #self.loss_vec = T.exp(T.max(self.res_cap - self.res_cap[self.y_answer] + .1, 0)) - 1  # TODO: maybe have some squared term here or something?\n",
    "\n",
    "        # this one works reasonably well\n",
    "        #self.loss_vec = - T.log((T.clip(self.res_cap[self.y_answer] - self.res_cap, -1.0, 0.4) + 1.0) / 1.5)\n",
    "\n",
    "        #self.loss_vec = self.grouped\n",
    "\n",
    "        #self.loss_vec = - T.log((T.clip(self.res_l[self.y_answer] - self.res_l, -40.0, 10.0) + 40.0) / 51.0)\n",
    "        #self.loss_vec = T.max(self.res_l[self.y_answer] - self.res_l + .1, 0)\n",
    "\n",
    "        self.updates = lasagne.updates.adadelta(self.loss_scalar / self.loss_vec.shape[0], self.all_params)\n",
    "\n",
    "        self.func_inputs = [\n",
    "            self.x_document_input,\n",
    "            self.x_surface_text_input, self.x_surface_context_input, self.x_document_id,\n",
    "            self.x_target_input, self.x_matches_surface, self.x_matches_counts, self.x_link_id, \n",
    "            self.x_target_words, self.x_target_document_words,\n",
    "            self.y_answer, self.y_grouping, self.y_boosted\n",
    "        ]\n",
    "        \n",
    "        self.func_outputs = [\n",
    "            self.true_output,\n",
    "            self.loss_vec.sum(),\n",
    "            self.loss_scalar,\n",
    "            self.loss_vec,\n",
    "            self.res_l,\n",
    "        ]\n",
    "\n",
    "        ################################################################3\n",
    "        ## TODO: need to return the actual output layer instead of the res_cap, since that is something else now\n",
    "        \n",
    "        self.train_func = theano.function(\n",
    "            self.func_inputs,\n",
    "            self.func_outputs,\n",
    "            updates=self.updates,\n",
    "            on_unused_input='ignore',\n",
    "        )\n",
    "\n",
    "        self.test_func = theano.function(\n",
    "            self.func_inputs,\n",
    "            self.func_outputs,\n",
    "            on_unused_input='ignore',\n",
    "        )\n",
    "\n",
    "    def reset_accums(self):\n",
    "        self.current_documents = []\n",
    "        self.current_surface_context = []\n",
    "        self.current_surface_link = []\n",
    "        self.current_link_id = []\n",
    "        self.current_target_input = []\n",
    "        self.current_target_words = []\n",
    "        self.current_target_body_words = []\n",
    "        self.current_target_matches_surface = []\n",
    "        self.current_target_id = []\n",
    "        self.current_target_goal = []\n",
    "        self.current_learning_groups = []\n",
    "        self.learning_targets = []\n",
    "        self.current_surface_target_counts = []\n",
    "        self.current_boosted_groups = []\n",
    "        \n",
    "        self.failed_match = []\n",
    "            \n",
    "    def compute_batch(self, isTraining=True, useTrainingFunc=True):\n",
    "        if isTraining and useTrainingFunc:\n",
    "            func = self.train_func\n",
    "        else:\n",
    "            func = self.test_func\n",
    "        self.reset_accums()\n",
    "        self.total_links = 0\n",
    "        self.total_loss = 0.0\n",
    "        self.total_boosted_loss = 0.0\n",
    "\n",
    "        get_words = re.compile('[^a-zA-Z0-9 ]')\n",
    "        get_link = re.compile('.*?\\[(.*?)\\].*?')\n",
    "\n",
    "        for doc, queries in self.queries.iteritems():\n",
    "            # skip the testing documents while training and vice versa\n",
    "            if queries.values()[0]['training'] != isTraining:\n",
    "                continue\n",
    "            docid = len(self.current_documents)\n",
    "            self.current_documents.append(self.wordvecs.tokenize(doc, length=self.document_length))\n",
    "            for surtxt, targets in queries.iteritems():\n",
    "                self.current_link_id.append(docid)\n",
    "                surid = len(self.current_surface_link)\n",
    "                self.current_surface_context.append(self.wordvecs.tokenize(get_words.sub(' ' , surtxt)))\n",
    "                surlink = get_link.match(surtxt).group(1)\n",
    "                self.current_surface_link.append(self.wordvecs.tokenize(surlink, length=self.sentence_length_short))\n",
    "                surmatch = surlink.lower()\n",
    "                surcounts = self.surface_counts.get(surmatch)\n",
    "                if not surcounts:\n",
    "                    self.failed_match.append(surmatch)\n",
    "                    surcounts = {}\n",
    "                target_body_words_input = []  # words from the target document\n",
    "                target_words_input = []  # the words from the target title\n",
    "                target_matches_surface = []\n",
    "                target_inputs = []  # the target vector\n",
    "                target_learings = []\n",
    "                target_match_counts = []\n",
    "                target_gold_loc = -1\n",
    "                target_group_start = len(self.current_target_input)\n",
    "                \n",
    "#                 pages = []\n",
    "#                 pages_info_link = [] \n",
    "#                 gold = None\n",
    "#                 # skip the items that we don't know the gold for\n",
    "#                 if not targets['gold'] and isTraining:\n",
    "#                     continue\n",
    "#                 for target in set(targets['vals'].keys() +\n",
    "#                                  random.sample(self.documentvecs.reverse_word_location, self.num_negative_target_samples)\n",
    "#                                   ) - {None,}:\n",
    "#                     isGold = target == targets['gold']\n",
    "#                     wiki_title = WikiRegexes.convertToTitle(target)\n",
    "#                     cnt = self.documentvecs.get_location(wiki_title)\n",
    "#                     if wiki_title == 'nil':\n",
    "#                         cnt = 0  # this is the stop symbol location\n",
    "#                     if cnt is None:\n",
    "#                         # were not able to find this wikipedia document\n",
    "#                         # so just ignore tihs result since trying to train on it will cause\n",
    "#                         # issues\n",
    "#                         continue\n",
    "#                     if isGold:\n",
    "#                         gold = cnt\n",
    "#                     if cnt not in pages:\n",
    "#                         pages.append(cnt)\n",
    "#                         pages_info_link.append((targets, target))\n",
    "#                     elif isGold:\n",
    "#                         # there are two links to the same page somehow\n",
    "#                         # and we already have something that isn't linking to the gold\n",
    "#                         for i in xrange(len(pages)):\n",
    "#                             if pages[i] == cnt:\n",
    "#                                 # this links to the same page as the gold\n",
    "#                                 pages_info_link[i] = (targets, target)\n",
    "#                 for i in xrange(len(pages)):\n",
    "                    \n",
    "                    \n",
    "                for target in set(targets['vals'].keys() +\n",
    "                                 random.sample(self.documentvecs.reverse_word_location, self.num_negative_target_samples)\n",
    "                                  ) - {None,}:\n",
    "                    \n",
    "                    \n",
    "                    isGold = target == targets['gold']\n",
    "                    cnt_wrds = self.page_content.get(WikiRegexes.convertToTitle(target))\n",
    "                    wiki_title = WikiRegexes.convertToTitle(target)\n",
    "                    cnt = self.documentvecs.get_location(wiki_title)\n",
    "                    if wiki_title == 'nil':\n",
    "                        cnt = 0  # this is the stop symbol location\n",
    "                    if cnt is None:\n",
    "                        # were not able to find this wikipedia document\n",
    "                        # so just ignore tihs result since trying to train on it will cause\n",
    "                        # issues\n",
    "                        continue\n",
    "                    if isGold:\n",
    "                        target_gold_loc = len(target_inputs)\n",
    "                    target_body_words_input.append(cnt_wrds or [0]*self.sentence_length)\n",
    "                    target_words_input.append(self.wordvecs.tokenize(get_words.sub(' ', target), length=self.sentence_length_short))\n",
    "                    target_inputs.append(cnt)  \n",
    "                    # page_content already tokenized\n",
    "                    target_matches_surface.append(int(surmatch == target.lower()))\n",
    "                    target_learings.append((targets, target))\n",
    "                    target_match_counts.append(surcounts.get(wiki_title, 0))\n",
    "                    #if wiki_title not in surcounts:\n",
    "                    #    print surcounts, wiki_title\n",
    "                if target_gold_loc is not None or not isTraining:  # if we can't get the gold item\n",
    "                    # contain the index of the gold item for these items, so it can be less then it\n",
    "                    gold_loc = (len(self.current_target_goal) + target_gold_loc)\n",
    "                    sorted_match_counts = [-4,-3,-2,-1] + sorted(set(target_match_counts))\n",
    "                    #print sorted_match_counts\n",
    "                    target_match_counts_indicators = [\n",
    "                        [\n",
    "                            int(s == sorted_match_counts[-1]),\n",
    "                            int(s == sorted_match_counts[-2]),\n",
    "                            int(s == sorted_match_counts[-3]),\n",
    "                            int(0 < s <= sorted_match_counts[-4]),\n",
    "                            int(s == 0),\n",
    "                        ]\n",
    "                        for s in target_match_counts\n",
    "                    ]\n",
    "                    self.current_target_goal += [gold_loc] * len(target_inputs)\n",
    "                    self.current_target_input += target_inputs\n",
    "                    self.current_target_id += [surid] * len(target_inputs)\n",
    "                    self.current_target_words += target_words_input\n",
    "                    self.current_target_matches_surface += target_matches_surface\n",
    "                    self.current_surface_target_counts += target_match_counts_indicators\n",
    "                    self.current_target_body_words += target_body_words_input\n",
    "                    target_group_end = len(self.current_target_input)\n",
    "                    self.current_learning_groups.append(\n",
    "                        [target_group_start, target_group_end,\n",
    "                         gold_loc])\n",
    "                    self.current_boosted_groups.append(targets['boosted'])\n",
    "\n",
    "                #self.current_target_goal.append(isGold)\n",
    "                self.learning_targets += target_learings\n",
    "            if len(self.current_target_id) > self.batch_size:\n",
    "                self.run_batch(func)\n",
    "                if self.total_links > self.num_training_items:\n",
    "                    return self.total_loss / self.total_links, self.total_boosted_loss / self.total_links\n",
    "\n",
    "        if len(self.current_target_id) > 0:\n",
    "            self.run_batch(func)\n",
    "\n",
    "        return self.total_loss / self.total_links, self.total_boosted_loss / self.total_links\n",
    "\n",
    "    def run_batch(self, func):\n",
    "        res_vec, loss_sum, loss_boosted, loss_vec, nn_outs = func(\n",
    "            self.current_documents,\n",
    "            self.current_surface_link, self.current_surface_context, self.current_link_id,\n",
    "            self.current_target_input, self.current_target_matches_surface, self.current_surface_target_counts, self.current_target_id, \n",
    "            self.current_target_words, self.current_target_body_words,\n",
    "            self.current_target_goal, self.current_learning_groups, self.current_boosted_groups,\n",
    "        )\n",
    "        self.check_params()\n",
    "        self.total_links += len(self.current_target_id)\n",
    "        self.total_loss += loss_sum\n",
    "        self.total_boosted_loss += loss_boosted\n",
    "        learned_groups = []  # right...dict not hashable....\n",
    "        for i in xrange(len(res_vec)):\n",
    "            # save the results from this pass\n",
    "            l = self.learning_targets[i]\n",
    "            if l[1] in l[0]['vals']:\n",
    "                l[0]['vals'][ l[1] ] = float(res_vec[i]), float(nn_outs[i])\n",
    "            if l[0] not in learned_groups:\n",
    "                learned_groups.append(l[0])\n",
    "        for group in learned_groups:\n",
    "            if group['gold']:\n",
    "                correct = max(group['vals']) == group['vals'][group['gold']]\n",
    "                group['boosted'] *= .4 if correct else 2.0\n",
    "                if self.enable_cap_boosting:\n",
    "                    if group['boosted'] > 10:\n",
    "                        group['boosted'] = 10.0\n",
    "                    elif group['boosted'] < 0.1:\n",
    "                        group['boosted'] = 0.1\n",
    "        self.reset_accums()\n",
    "\n",
    "    def check_params(self):\n",
    "        if any([np.isnan(v.get_value(borrow=True)).any() for v in self.all_params]):\n",
    "            raise RuntimeError('nan in some of the parameters')\n",
    "\n",
    "\n",
    "\n",
    "queries_exp = EntityVectorLinkExp()"
   ]
  },
  {
   "cell_type": "code",
   "execution_count": 22,
   "metadata": {
    "collapsed": true
   },
   "outputs": [],
   "source": [
    "def evalCurrentState(trainingData=True, numSamples=50000):\n",
    "    all_measured = 0\n",
    "    all_correct = 0\n",
    "    all_trained = 0\n",
    "    for qu in queries.values():\n",
    "        for en in qu.values():\n",
    "            if en['training'] != trainingData:\n",
    "                continue\n",
    "            if en['gold']:\n",
    "                if all_trained > numSamples:\n",
    "                    break\n",
    "                all_measured += 1\n",
    "                all_trained += len(en['vals'].values())\n",
    "                m = max(en['vals'].values())\n",
    "                if en['vals'][en['gold']] == m and m != 0:\n",
    "                    all_correct += 1\n",
    "           \n",
    "    r = all_measured, float(all_correct) / all_measured\n",
    "    print r\n",
    "    return r"
   ]
  },
  {
   "cell_type": "code",
   "execution_count": 23,
   "metadata": {
    "collapsed": true
   },
   "outputs": [],
   "source": [
    "def evalCurrentStateRank(trainingData=True, numSamples=50000):\n",
    "    all_measured = 0\n",
    "    all_correct_place = 0\n",
    "    p_counts = dict((k,0) for k in range(0,10))\n",
    "    all_trained = 0\n",
    "    for qu in queries.values():\n",
    "        for en in qu.values():\n",
    "            if en['training'] != trainingData:\n",
    "                continue\n",
    "            if en['gold']:\n",
    "                if all_trained > numSamples:\n",
    "                    break\n",
    "                svals = sorted(en['vals'].values(), key=lambda x: -x)\n",
    "                gv = en['vals'][en['gold']]\n",
    "                if gv == 0:\n",
    "                    continue\n",
    "                all_measured += 1\n",
    "                for i in xrange(len(svals)):\n",
    "                    if svals[i] == gv:\n",
    "                        if i < 10:\n",
    "                            p_counts[i] += 1\n",
    "                        all_correct_place += i + 1\n",
    "                        break\n",
    "\n",
    "    r = all_measured, float(all_correct_place) / all_measured, p_counts\n",
    "    print r\n",
    "    return r\n"
   ]
  },
  {
   "cell_type": "code",
   "execution_count": 24,
   "metadata": {
    "collapsed": true
   },
   "outputs": [],
   "source": [
    "import random\n",
    "def augmentTrainingData():\n",
    "    for quk in queries.keys():\n",
    "        qu = queries[quk]\n",
    "        for enk in qu.keys():\n",
    "            en = qu[enk]\n",
    "            if not en['gold']:\n",
    "                del qu[enk]\n",
    "        if not qu:\n",
    "            del queries[quk]\n",
    "    for qu in queries.values():\n",
    "        training = random.random() > .15\n",
    "        for en in qu.values():\n",
    "            en['training'] = training\n",
    "augmentTrainingData()"
   ]
  },
  {
   "cell_type": "code",
   "execution_count": 25,
   "metadata": {
    "collapsed": true
   },
   "outputs": [],
   "source": [
    "def findWrongItems(trainingData=True, numSamples=50):\n",
    "    ret = {}\n",
    "    for qu in queries.values():\n",
    "        for ek, en in qu.items():\n",
    "            if en['training'] != trainingData:\n",
    "                continue\n",
    "            for e in en:\n",
    "                if en['gold']:\n",
    "                    if len(ret) > numSamples:\n",
    "                        return ret\n",
    "                    m = max(en['vals'].values())\n",
    "                    g = en['vals'][en['gold']]\n",
    "                    if g != m and g != 0:\n",
    "                        ret[ek] = en\n",
    "    return ret"
   ]
  },
  {
   "cell_type": "code",
   "execution_count": 26,
   "metadata": {
    "collapsed": false
   },
   "outputs": [],
   "source": [
    "queries_exp.check_params()"
   ]
  },
  {
   "cell_type": "code",
   "execution_count": null,
   "metadata": {
    "collapsed": true
   },
   "outputs": [],
   "source": [
    "queries_exp.num_training_items = 50000# 250000"
   ]
  },
  {
   "cell_type": "code",
   "execution_count": null,
   "metadata": {
    "collapsed": false
   },
   "outputs": [],
   "source": [
    "len(queries_exp.current_target_id)"
   ]
  },
  {
   "cell_type": "code",
   "execution_count": null,
   "metadata": {
    "collapsed": true
   },
   "outputs": [],
   "source": [
    "np.array(queries_exp.current_target_body_words)"
   ]
  },
  {
   "cell_type": "code",
   "execution_count": null,
   "metadata": {
    "collapsed": false
   },
   "outputs": [],
   "source": [
    "%time print queries_exp.compute_batch()"
   ]
  },
  {
   "cell_type": "code",
   "execution_count": null,
   "metadata": {
    "collapsed": false
   },
   "outputs": [],
   "source": [
    "len(queries_exp.current_surface_target_counts)"
   ]
  },
  {
   "cell_type": "code",
   "execution_count": null,
   "metadata": {
    "collapsed": false
   },
   "outputs": [],
   "source": [
    "evalCurrentState(False, 500000)"
   ]
  },
  {
   "cell_type": "code",
   "execution_count": null,
   "metadata": {
    "collapsed": false
   },
   "outputs": [],
   "source": [
    "evalCurrentState(True, 500000)"
   ]
  },
  {
   "cell_type": "code",
   "execution_count": null,
   "metadata": {
    "collapsed": false
   },
   "outputs": [],
   "source": [
    "exp_results = []\n",
    "\n",
    "for i in xrange(8):\n",
    "    res = (i, queries_exp.compute_batch())\n",
    "    print res\n",
    "    exp_results.append(res)\n",
    "    #if i % 2 == 1:\n",
    "    exp_results.append(('training state', evalCurrentState(True, queries_exp.num_training_items)))\n",
    "    exp_results.append(('testing run', queries_exp.compute_batch(False)))\n",
    "    exp_results.append(('testing state', evalCurrentState(False, queries_exp.num_training_items)))"
   ]
  },
  {
   "cell_type": "code",
   "execution_count": null,
   "metadata": {
    "collapsed": false
   },
   "outputs": [],
   "source": [
    "#queries_exp.num_training_items = 50000\n",
    "exp_results.append(('testing run', queries_exp.compute_batch(False)))\n",
    "exp_results.append(('testing state', evalCurrentState(False, queries_exp.num_training_items)))"
   ]
  },
  {
   "cell_type": "code",
   "execution_count": 29,
   "metadata": {
    "collapsed": false
   },
   "outputs": [
    {
     "data": {
      "text/plain": [
       "[(0, (0.11926264406488278, 0.11926264406488278)),\n",
       " ('training state', (2808, 0.6160968660968661)),\n",
       " ('testing run', (0.098880206567059661, 0.098880206567059661)),\n",
       " ('testing state', (2836, 0.7041607898448519)),\n",
       " (1, (0.083626759017317878, 0.083626759017317878)),\n",
       " ('training state', (2808, 0.7532051282051282)),\n",
       " ('testing run', (0.080933287860901371, 0.080933287860901371)),\n",
       " ('testing state', (2836, 0.764456981664316)),\n",
       " (2, (0.066886846885218565, 0.066886846885218565)),\n",
       " ('training state', (2808, 0.8084045584045584)),\n",
       " ('testing run', (0.072947428412270074, 0.072947428412270074)),\n",
       " ('testing state', (2836, 0.7789139633286318)),\n",
       " (3, (0.055922737068293579, 0.055922737068293579)),\n",
       " ('training state', (2808, 0.8379629629629629)),\n",
       " ('testing run', (0.069008079247415102, 0.069008079247415102)),\n",
       " ('testing state', (2836, 0.7750352609308886)),\n",
       " (4, (0.047924922169639027, 0.047924922169639027)),\n",
       " ('training state', (2808, 0.8618233618233618)),\n",
       " ('testing run', (0.067975223156613016, 0.067975223156613016)),\n",
       " ('testing state', (2836, 0.7806770098730607)),\n",
       " (5, (0.041537593725678695, 0.041537593725678695)),\n",
       " ('training state', (2808, 0.8703703703703703)),\n",
       " ('testing run', (0.066259636350408949, 0.066259636350408949)),\n",
       " ('testing state', (2836, 0.768688293370945)),\n",
       " (6, (0.033684217904802076, 0.033684217904802076)),\n",
       " ('training state', (2808, 0.9045584045584045)),\n",
       " ('testing run', (0.068462015659166611, 0.068462015659166611)),\n",
       " ('testing state', (2836, 0.7626939351198871)),\n",
       " (7, (0.029102848001693105, 0.029102848001693105)),\n",
       " ('training state', (2808, 0.9234330484330484)),\n",
       " ('testing run', (0.069585715837949522, 0.069585715837949522)),\n",
       " ('testing state', (2836, 0.7602256699576869))]"
      ]
     },
     "execution_count": 29,
     "metadata": {},
     "output_type": "execute_result"
    }
   ],
   "source": [
    "exp_results"
   ]
  },
  {
   "cell_type": "code",
   "execution_count": null,
   "metadata": {
    "collapsed": false
   },
   "outputs": [],
   "source": [
    "exp_results"
   ]
  },
  {
   "cell_type": "code",
   "execution_count": null,
   "metadata": {
    "collapsed": false
   },
   "outputs": [],
   "source": [
    "exp_results"
   ]
  },
  {
   "cell_type": "code",
   "execution_count": null,
   "metadata": {
    "collapsed": false
   },
   "outputs": [],
   "source": [
    "surface_counts['The Silent World of Nicholas Quinn'.lower()]"
   ]
  },
  {
   "cell_type": "code",
   "execution_count": null,
   "metadata": {
    "collapsed": true
   },
   "outputs": [],
   "source": [
    "surface_counts['canada']"
   ]
  },
  {
   "cell_type": "code",
   "execution_count": null,
   "metadata": {
    "collapsed": true
   },
   "outputs": [],
   "source": [
    "surface_counts['urban district']"
   ]
  },
  {
   "cell_type": "code",
   "execution_count": null,
   "metadata": {
    "collapsed": false,
    "scrolled": true
   },
   "outputs": [],
   "source": [
    "findWrongItems(True, 100)"
   ]
  },
  {
   "cell_type": "code",
   "execution_count": null,
   "metadata": {
    "collapsed": false
   },
   "outputs": [],
   "source": [
    "\n",
    "exp_results.append(('testing run', queries_exp.compute_batch(False)))\n",
    "exp_results.append(('training state', evalCurrentState(True, queries_exp.num_training_items)))\n",
    "exp_results.append(('testing state', evalCurrentState(False, queries_exp.num_training_items)))"
   ]
  },
  {
   "cell_type": "code",
   "execution_count": null,
   "metadata": {
    "collapsed": false
   },
   "outputs": [],
   "source": [
    "exp_results"
   ]
  },
  {
   "cell_type": "code",
   "execution_count": null,
   "metadata": {
    "collapsed": false
   },
   "outputs": [],
   "source": [
    "exp_results.append(('testing run', queries_exp.compute_batch(False)))\n",
    "exp_results.append(('training state', evalCurrentState(True, queries_exp.num_training_items)))\n",
    "exp_results.append(('testing state', evalCurrentState(False, queries_exp.num_training_items)))"
   ]
  },
  {
   "cell_type": "code",
   "execution_count": null,
   "metadata": {
    "collapsed": false
   },
   "outputs": [],
   "source": [
    "for i in xrange(4):\n",
    "    res = (i, queries_exp.compute_batch())\n",
    "    print res\n",
    "    exp_results.append(res)"
   ]
  },
  {
   "cell_type": "code",
   "execution_count": null,
   "metadata": {
    "collapsed": false
   },
   "outputs": [],
   "source": [
    "queries_exp.all_params[-2:]"
   ]
  },
  {
   "cell_type": "code",
   "execution_count": null,
   "metadata": {
    "collapsed": false
   },
   "outputs": [],
   "source": [
    "queries_exp.all_params[-2:][0].get_value(borrow=True)"
   ]
  },
  {
   "cell_type": "code",
   "execution_count": null,
   "metadata": {
    "collapsed": false
   },
   "outputs": [],
   "source": [
    "queries_exp.all_params[-2:][0].get_value(borrow=True)"
   ]
  },
  {
   "cell_type": "code",
   "execution_count": null,
   "metadata": {
    "collapsed": false
   },
   "outputs": [],
   "source": [
    "saved_lin_layer"
   ]
  },
  {
   "cell_type": "code",
   "execution_count": null,
   "metadata": {
    "collapsed": false,
    "scrolled": true
   },
   "outputs": [],
   "source": [
    "findWrongItems()"
   ]
  },
  {
   "cell_type": "code",
   "execution_count": null,
   "metadata": {
    "collapsed": false,
    "scrolled": true
   },
   "outputs": [],
   "source": [
    "findWrongItems(False)"
   ]
  },
  {
   "cell_type": "code",
   "execution_count": null,
   "metadata": {
    "collapsed": false
   },
   "outputs": [],
   "source": [
    "surface_counts['The Silent World of Nicholas Quinn'.lower()]"
   ]
  },
  {
   "cell_type": "code",
   "execution_count": null,
   "metadata": {
    "collapsed": false
   },
   "outputs": [],
   "source": [
    "%time for i in range(5): print queries_exp.compute_batch()"
   ]
  },
  {
   "cell_type": "code",
   "execution_count": null,
   "metadata": {
    "collapsed": false
   },
   "outputs": [],
   "source": [
    "queries.values()[0]"
   ]
  },
  {
   "cell_type": "code",
   "execution_count": null,
   "metadata": {
    "collapsed": false
   },
   "outputs": [],
   "source": [
    "queries_exp.all_params"
   ]
  },
  {
   "cell_type": "code",
   "execution_count": null,
   "metadata": {
    "collapsed": false
   },
   "outputs": [],
   "source": [
    "queries_exp.all_params[-2].get_value(borrow=True)"
   ]
  },
  {
   "cell_type": "code",
   "execution_count": null,
   "metadata": {
    "collapsed": true
   },
   "outputs": [],
   "source": [
    "queries_exp.all_params[-2].get_value(borrow=True)[0] = 20.0"
   ]
  },
  {
   "cell_type": "code",
   "execution_count": null,
   "metadata": {
    "collapsed": false
   },
   "outputs": [],
   "source": [
    "len(queries_exp.page_content.values()[1])"
   ]
  },
  {
   "cell_type": "code",
   "execution_count": null,
   "metadata": {
    "collapsed": true
   },
   "outputs": [],
   "source": []
  }
 ],
 "metadata": {
  "kernelspec": {
   "display_name": "Python 2",
   "language": "python",
   "name": "python2"
  },
  "language_info": {
   "codemirror_mode": {
    "name": "ipython",
    "version": 2
   },
   "file_extension": ".py",
   "mimetype": "text/x-python",
   "name": "python",
   "nbconvert_exporter": "python",
   "pygments_lexer": "ipython2",
   "version": "2.7.5"
  }
 },
 "nbformat": 4,
 "nbformat_minor": 0
}
