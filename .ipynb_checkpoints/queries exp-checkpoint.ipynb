{
 "cells": [
  {
   "cell_type": "code",
   "execution_count": 1,
   "metadata": {
    "collapsed": true
   },
   "outputs": [],
   "source": [
    "%load_ext autoreload\n",
    "%autoreload 2"
   ]
  },
  {
   "cell_type": "code",
   "execution_count": 2,
   "metadata": {
    "collapsed": false
   },
   "outputs": [
    {
     "name": "stdout",
     "output_type": "stream",
     "text": [
      "Couldn't import dot_parser, loading of dot files will not be possible.\n"
     ]
    }
   ],
   "source": [
    "from theano import *\n",
    "from lasagne.layers import InputLayer, get_output\n",
    "import lasagne\n",
    "import lasagne.layers\n",
    "import theano.tensor as T\n",
    "import theano\n",
    "import numpy as np\n",
    "from helpers import SimpleMaxingLayer\n",
    "from wordvecs import WordVectors, EmbeddingLayer\n",
    "import json\n",
    "\n",
    "theano.config.floatX = 'float32'\n",
    "theano.config.linker = 'cvm_nogc'\n",
    "theano.config.openmp = True\n",
    "theano.config.openmp_elemwise_minsize = 20000"
   ]
  },
  {
   "cell_type": "code",
   "execution_count": 3,
   "metadata": {
    "collapsed": true
   },
   "outputs": [],
   "source": [
    "with open('/data/matthew/external-wiki1.json') as f:\n",
    "    queries = json.load(f)['queries']"
   ]
  },
  {
   "cell_type": "code",
   "execution_count": 4,
   "metadata": {
    "collapsed": false
   },
   "outputs": [
    {
     "data": {
      "text/plain": [
       "9915"
      ]
     },
     "execution_count": 4,
     "metadata": {},
     "output_type": "execute_result"
    }
   ],
   "source": [
    "len(queries)"
   ]
  },
  {
   "cell_type": "code",
   "execution_count": 5,
   "metadata": {
    "collapsed": false
   },
   "outputs": [
    {
     "data": {
      "text/plain": [
       "8917"
      ]
     },
     "execution_count": 5,
     "metadata": {},
     "output_type": "execute_result"
    }
   ],
   "source": [
    "sum([any([g['gold'] for g in v.values()]) for v in queries.values()])"
   ]
  },
  {
   "cell_type": "code",
   "execution_count": 6,
   "metadata": {
    "collapsed": false
   },
   "outputs": [
    {
     "data": {
      "text/plain": [
       "0.8993444276348966"
      ]
     },
     "execution_count": 6,
     "metadata": {},
     "output_type": "execute_result"
    }
   ],
   "source": [
    "8917/9915."
   ]
  },
  {
   "cell_type": "code",
   "execution_count": 7,
   "metadata": {
    "collapsed": false
   },
   "outputs": [],
   "source": [
    "\n",
    "wordvectors = WordVectors(\n",
    "    fname=\"/data/matthew/GoogleNews-vectors-negative300.bin\",\n",
    "    negvectors=False\n",
    ")"
   ]
  },
  {
   "cell_type": "code",
   "execution_count": 8,
   "metadata": {
    "collapsed": true
   },
   "outputs": [],
   "source": [
    "with open('/data/matthew/enwiki-20141208-pages-articles-multistream-redirects5.json') as f:\n",
    "    page_redirects = json.load(f)"
   ]
  },
  {
   "cell_type": "code",
   "execution_count": 9,
   "metadata": {
    "collapsed": false
   },
   "outputs": [],
   "source": [
    "from wikireader import WikiRegexes, WikipediaReader"
   ]
  },
  {
   "cell_type": "code",
   "execution_count": 10,
   "metadata": {
    "collapsed": false
   },
   "outputs": [],
   "source": [
    "def PreProcessedQueries(wikipedia_dump_fname, wordvec=wordvectors, queries=queries, redirects=page_redirects):\n",
    "    \n",
    "    queried_pages = set()\n",
    "    for docs, q in queries.iteritems():\n",
    "        wordvec.tokenize(docs)\n",
    "        for sur, v in q.iteritems():\n",
    "            wordvec.tokenize(sur)\n",
    "            for link in v['vals'].keys():\n",
    "                wordvec.tokenize(link)\n",
    "                tt = WikiRegexes.convertToTitle(link)\n",
    "                #self.wordvecs.tokenize(tt)\n",
    "                queried_pages.add(tt)\n",
    "\n",
    "    added_pages = set()\n",
    "    for title in queried_pages:\n",
    "        if title in redirects:\n",
    "            #wordvec.tokenize(self.redirects[title])\n",
    "            added_pages.add(redirects[title])\n",
    "    queried_pages |= added_pages\n",
    "\n",
    "    page_content = {}\n",
    "\n",
    "    class GetWikipediaWords(WikipediaReader, WikiRegexes):\n",
    "\n",
    "        def readPage(ss, title, content):\n",
    "            tt = ss.convertToTitle(title)\n",
    "            if tt in queried_pages:\n",
    "                cnt = ss._wikiToText(content)\n",
    "                page_content[tt] = wordvec.tokenize(cnt)\n",
    "\n",
    "    GetWikipediaWords(wikipedia_dump_fname).read()\n",
    "    \n",
    "    rr = redirects\n",
    "    rq = queried_pages\n",
    "    rc = page_content\n",
    "\n",
    "    class PreProcessedQueriesCls(object):\n",
    "        \n",
    "        wordvecs = wordvec\n",
    "        queries = queries\n",
    "        redirects = rr\n",
    "        queried_pages = rq\n",
    "        page_content = rc\n",
    "        \n",
    "        \n",
    "    return PreProcessedQueriesCls"
   ]
  },
  {
   "cell_type": "code",
   "execution_count": 11,
   "metadata": {
    "collapsed": false
   },
   "outputs": [],
   "source": [
    "basePreProcessedQueries = PreProcessedQueries('/data/matthew/enwiki-20141208-pages-articles-multistream.xml')"
   ]
  },
  {
   "cell_type": "code",
   "execution_count": 29,
   "metadata": {
    "collapsed": false
   },
   "outputs": [],
   "source": [
    "class EntityVectorLinkExp(basePreProcessedQueries):\n",
    "    \n",
    "    batch_size = 20000\n",
    "    num_training_items = 200000\n",
    "    \n",
    "    def __init__(self): #, wikipedia_dump_fname, wordvec=wordvectors, queries=queries, redirects=page_redirects):\n",
    "        #self.wordvecs = wordvec\n",
    "        #self.queries = queries\n",
    "        self.sentence_length = self.wordvecs.sentence_length\n",
    "        self.num_words_to_use_conv = 3\n",
    "        #self.redirects = redirects\n",
    "        #self.page_content = {}\n",
    "        #self.wikipedia_dump_fname = wikipedia_dump_fname\n",
    "        \n",
    "        #self._process_queries()\n",
    "        \n",
    "        self._setup()\n",
    "        \n",
    "#     def _process_queries(self):\n",
    "#         queried_pages = set()\n",
    "#         for docs, q in self.queries.iteritems():\n",
    "#             self.wordvecs.tokenize(docs)\n",
    "#             for sur, v in q.iteritems():\n",
    "#                 self.wordvecs.tokenize(sur)\n",
    "#                 for link in v['vals'].keys():\n",
    "#                     self.wordvecs.tokenize(link)\n",
    "#                     tt = WikiRegexes.convertToTitle(link)\n",
    "#                     #self.wordvecs.tokenize(tt)\n",
    "#                     queried_pages.add(tt)\n",
    "\n",
    "#         added_pages = set()\n",
    "#         for title in queried_pages:\n",
    "#             if title in self.redirects:\n",
    "#                 #self.wordvecs.tokenize(self.redirects[title])\n",
    "#                 added_pages.add(self.redirects[title])\n",
    "#         queried_pages |= added_pages\n",
    "        \n",
    "#         self.queried_pages = queried_pages\n",
    "                \n",
    "#         class GetWikipediaWords(WikipediaReader, WikiRegexes):\n",
    "            \n",
    "#             def readPage(ss, title, content):\n",
    "#                 tt = ss.convertToTitle(title)\n",
    "#                 if tt in queried_pages:\n",
    "#                     cnt = ss._wikiToText(content)\n",
    "#                     self.page_content[tt] = self.wordvecs.tokenize(cnt)\n",
    "        \n",
    "#         GetWikipediaWords(self.wikipedia_dump_fname).read()\n",
    "               \n",
    "        \n",
    "    def _setup(self):\n",
    "        self.x_document_input = T.imatrix('x_sent')\n",
    "        self.x_surface_text_input = T.imatrix('x_surface')\n",
    "        self.x_target_input = T.imatrix('x_target')\n",
    "        self.x_document_id = T.ivector('x_sent_id')\n",
    "        self.x_link_id = T.ivector('x_link_id')\n",
    "        self.y_score = T.vector('y')\n",
    "        \n",
    "        self.embedding_W = theano.shared(self.wordvecs.get_numpy_matrix().astype(theano.config.floatX))\n",
    "        \n",
    "        self.document_l = lasagne.layers.InputLayer(\n",
    "            (None,self.sentence_length), \n",
    "            input_var=self.x_document_input\n",
    "        )\n",
    "    \n",
    "        self.document_embedding_l = EmbeddingLayer(\n",
    "            self.document_l,\n",
    "            W=self.embedding_W,\n",
    "            add_word_params=False,\n",
    "        )\n",
    "        \n",
    "        self.document_conv1_l = lasagne.layers.Conv2DLayer(\n",
    "            self.document_embedding_l,\n",
    "            num_filters=350,\n",
    "            filter_size=(self.num_words_to_use_conv, self.wordvecs.vector_size),\n",
    "            name='document_conv1',\n",
    "            nonlinearity=lasagne.nonlinearities.rectify,\n",
    "        )\n",
    "        \n",
    "        self.document_max_l = lasagne.layers.Pool2DLayer(\n",
    "            self.document_conv1_l,\n",
    "            name='document_pool1',\n",
    "            pool_size=(self.sentence_length - self.num_words_to_use_conv, 1),\n",
    "            mode='max',\n",
    "        )\n",
    "\n",
    "        self.document_dens1 = lasagne.layers.DenseLayer(\n",
    "            self.document_max_l,\n",
    "            num_units=300,\n",
    "            name='doucment_dens1',\n",
    "            nonlinearity=lasagne.nonlinearities.tanh,\n",
    "        )\n",
    "        \n",
    "        self.document_drop1 = lasagne.layers.DropoutLayer(\n",
    "            self.document_dens1,\n",
    "            p=.25,\n",
    "        )\n",
    "        \n",
    "        document_output_length = 250\n",
    "        \n",
    "        self.document_dens2 = lasagne.layers.DenseLayer(\n",
    "            self.document_drop1,\n",
    "            num_units=document_output_length,\n",
    "            name='document_dens2',\n",
    "            nonlinearity=lasagne.nonlinearities.tanh,\n",
    "        )\n",
    "        \n",
    "        self.document_output = lasagne.layers.get_output(self.document_dens2)\n",
    "                \n",
    "        self.surface_input_l = lasagne.layers.InputLayer(\n",
    "            (None, self.sentence_length), \n",
    "            input_var=self.x_surface_text_input\n",
    "        )\n",
    "        \n",
    "        self.surface_embedding_l = EmbeddingLayer(\n",
    "            self.surface_input_l,\n",
    "            W=self.embedding_W,\n",
    "            add_word_params=False,\n",
    "        )\n",
    "        \n",
    "        self.surface_conv1_l = lasagne.layers.Conv2DLayer(\n",
    "            self.surface_embedding_l,\n",
    "            num_filters=350,\n",
    "            filter_size=(self.num_words_to_use_conv, self.wordvecs.vector_size),\n",
    "            name='surface_conv1',\n",
    "            nonlinearity=lasagne.nonlinearities.tanh,\n",
    "        )\n",
    "        \n",
    "        self.surface_dens1 = lasagne.layers.DenseLayer(\n",
    "            self.surface_conv1_l,\n",
    "            name='surface_dens1',\n",
    "            num_units=300,\n",
    "            nonlinearity=lasagne.nonlinearities.tanh,\n",
    "        )\n",
    "        \n",
    "        self.surface_drop1 = lasagne.layers.DropoutLayer(\n",
    "            self.surface_dens1,\n",
    "            p=.25,\n",
    "        )\n",
    "        \n",
    "        self.surface_dens2 = lasagne.layers.DenseLayer(\n",
    "            self.surface_drop1,\n",
    "            name='surface_dens2',\n",
    "            num_units=250,\n",
    "            nonlinearity=lasagne.nonlinearities.tanh,\n",
    "        )\n",
    "        \n",
    "        self.document_aligned_l = InputLayer(\n",
    "            (None, document_output_length),\n",
    "            input_var=self.document_output[self.x_document_id,:]\n",
    "        )\n",
    "        \n",
    "        self.source_l = lasagne.layers.ConcatLayer(\n",
    "            [self.document_aligned_l, self.surface_dens2]\n",
    "        )\n",
    "        \n",
    "        self.source_dens1 = lasagne.layers.DenseLayer(\n",
    "            self.source_l,\n",
    "            num_units=300,\n",
    "            name='source_dens1',\n",
    "            nonlinearity=lasagne.nonlinearities.tanh,\n",
    "        )\n",
    "        \n",
    "        self.source_drop1 = lasagne.layers.DropoutLayer(\n",
    "            self.source_dens1,\n",
    "            p=.25,\n",
    "        )\n",
    "        \n",
    "        self.source_dens2 = lasagne.layers.DenseLayer(\n",
    "            self.source_drop1,\n",
    "            num_units=300,\n",
    "            name='source_dens2',\n",
    "            nonlinearity=lasagne.nonlinearities.tanh,\n",
    "        )\n",
    "        \n",
    "        self.source_out = lasagne.layers.get_output(self.source_dens2)\n",
    "        \n",
    "        self.target_input_l = lasagne.layers.InputLayer(\n",
    "            (None,self.sentence_length), \n",
    "            input_var=self.x_target_input\n",
    "        )\n",
    "        \n",
    "        self.target_embedding_l = EmbeddingLayer(\n",
    "            self.target_input_l,\n",
    "            W=self.embedding_W,\n",
    "            add_word_params=False,\n",
    "        )\n",
    "        \n",
    "        self.target_conv1_l = lasagne.layers.Conv2DLayer(\n",
    "            self.target_embedding_l,\n",
    "            name='target_conv1',\n",
    "            filter_size=(self.num_words_to_use_conv, self.wordvecs.vector_size),\n",
    "            num_filters=300,\n",
    "            nonlinearity=lasagne.nonlinearities.tanh,\n",
    "        )\n",
    "        \n",
    "        self.target_dens1 = lasagne.layers.DenseLayer(\n",
    "            self.target_conv1_l,\n",
    "            name='target_dens1',\n",
    "            num_units=300,\n",
    "            nonlinearity=lasagne.nonlinearities.tanh,\n",
    "        )\n",
    "        \n",
    "        self.target_drop1 = lasagne.layers.DropoutLayer(\n",
    "            self.target_dens1,\n",
    "            p=.25,\n",
    "        )\n",
    "        \n",
    "        self.target_dens2 = lasagne.layers.DenseLayer(\n",
    "            self.target_drop1,\n",
    "            name='target_dens2',\n",
    "            num_units=300,\n",
    "            nonlinearity=lasagne.nonlinearities.tanh,\n",
    "        )\n",
    "        \n",
    "        self.target_out = lasagne.layers.get_output(self.target_dens2)\n",
    "        \n",
    "        # compute the cosine distance between the two layers\n",
    "        self.source_aligned_l = self.source_out[self.x_link_id, :]\n",
    "        \n",
    "        # this uses scan internally, which means that it comes back into python code to run the loop.....fml\n",
    "        self.dotted_vectors =  T.batched_dot(self.target_out, self.source_aligned_l)\n",
    "        # diag also does not support a C version.........\n",
    "        #self.dotted_vectors = T.dot(self.target_out, self.source_aligned_l.T).diagonal()\n",
    "        \n",
    "        def augNorm(v):\n",
    "            return T.maximum(T.basic.pow(T.basic.pow(T.basic.abs_(v), 2).sum(axis=1) + .001, .5), .001)\n",
    "    \n",
    "        self.res_l = self.dotted_vectors / (augNorm(self.target_out) * augNorm(self.source_aligned_l) + .001)\n",
    "#         self.res_l = self.dotted_vectors / ((self.target_out.norm(1, axis=1) + .001) * \n",
    "#                                             (self.source_aligned_l.norm(1, axis=1) + .001))\n",
    "        \n",
    "        self.res_cap = T.clip((T.tanh(self.res_l) + 1) / 2, .001, .999)\n",
    "    \n",
    "        self.all_params = (\n",
    "            lasagne.layers.get_all_params(self.target_dens2) + \n",
    "            lasagne.layers.get_all_params(self.source_dens2) +\n",
    "            lasagne.layers.get_all_params(self.document_dens2)\n",
    "        )\n",
    "        \n",
    "        # weight the positive samples more since there are fewer of them,\n",
    "        # freaking hack\n",
    "        self.loss_vec = -(10 * self.y_score * T.log(self.res_cap) + (1.0 - self.y_score) * T.log(1.0 - self.res_cap))\n",
    "        \n",
    "        #self.loss_vec = T.nnet.binary_crossentropy(self.res_cap, self.y_score)\n",
    "        \n",
    "        self.updates = lasagne.updates.adadelta(self.loss_vec.mean(), self.all_params)\n",
    "        \n",
    "        self.train_func = theano.function(\n",
    "            [self.x_document_input,\n",
    "             self.x_surface_text_input, self.x_document_id,\n",
    "             self.x_target_input, self.x_link_id, self.y_score],\n",
    "            [self.res_cap, self.loss_vec.sum(), self.loss_vec],\n",
    "            updates=self.updates\n",
    "        )\n",
    "        \n",
    "        self.test_func = theano.function(\n",
    "            [self.x_document_input,\n",
    "             self.x_surface_text_input, self.x_document_id,\n",
    "             self.x_target_input, self.x_link_id, self.y_score],\n",
    "            [self.res_cap, self.loss_vec.sum(), self.loss_vec],\n",
    "        )\n",
    "        \n",
    "    def reset_accums(self):\n",
    "        self.current_documents = []\n",
    "        self.current_surface_text = []\n",
    "        self.current_link_id = []\n",
    "        self.current_target_input = []\n",
    "        self.current_target_id = []\n",
    "        self.current_target_goal = []\n",
    "        self.learning_targets = []\n",
    "        \n",
    "    def compute_batch(self, isTraining=True):\n",
    "        if isTraining:\n",
    "            func = self.train_func\n",
    "        else:\n",
    "            func = self.test_func\n",
    "        self.reset_accums()\n",
    "        self.total_links = 0\n",
    "        self.total_loss = 0.0\n",
    "        \n",
    "        for doc, queries in self.queries.iteritems():\n",
    "            # skip the testing documents while training and vice versa\n",
    "            if queries.values()[0]['training'] is not isTraining:\n",
    "                continue\n",
    "            docid = len(self.current_documents)\n",
    "            self.current_documents.append(self.wordvecs.tokenize(doc))\n",
    "            for surtxt, targets in queries.iteritems():\n",
    "                self.current_link_id.append(docid)\n",
    "                surid = len(self.current_surface_text)\n",
    "                self.current_surface_text.append(self.wordvecs.tokenize(surtxt))\n",
    "                for target in targets['vals'].keys():\n",
    "                    # skip the items that we don't know the gold for\n",
    "                    if not targets['gold'] and isTraining:\n",
    "                        continue\n",
    "                    isGold = target == targets['gold']\n",
    "                    cnt = self.page_content.get(WikiRegexes.convertToTitle(target))\n",
    "                    if cnt is None:\n",
    "                        # were not able to find this wikipedia document\n",
    "                        # so just ignore tihs result since trying to train on it will cause\n",
    "                        # issues\n",
    "                        continue\n",
    "                    self.current_target_input.append(cnt)  # page_content already tokenized\n",
    "                    self.current_target_id.append(surid)\n",
    "                    self.current_target_goal.append(isGold)\n",
    "                    self.learning_targets.append((targets, target))\n",
    "            if len(self.current_target_id) > self.batch_size:\n",
    "                self.run_batch(func)\n",
    "                if self.total_links > self.num_training_items:\n",
    "                    return self.total_loss / self.total_links\n",
    "        \n",
    "        if len(self.current_target_id) > 0:\n",
    "            self.run_batch(func)\n",
    "            \n",
    "        return self.total_loss / self.total_links\n",
    "        \n",
    "    def run_batch(self, func):\n",
    "        res_vec, loss_sum, loss_vec = func(\n",
    "            self.current_documents,\n",
    "            self.current_surface_text, self.current_link_id,\n",
    "            self.current_target_input, self.current_target_id, self.current_target_goal\n",
    "        )\n",
    "        self.check_params()\n",
    "        self.total_links += len(self.current_target_id)\n",
    "        self.total_loss += loss_sum\n",
    "        for i in xrange(len(res_vec)):\n",
    "            # save the results from this pass\n",
    "            l = self.learning_targets[i]\n",
    "            l[0]['vals'][ l[1] ] = res_vec[i]\n",
    "        self.reset_accums()\n",
    "        \n",
    "    def check_params(self):\n",
    "        if any([np.isnan(v.get_value(borrow=True)).any() for v in self.all_params]):\n",
    "            raise RuntimeError('nan in some of the parameters')\n",
    "        \n",
    "\n",
    "        \n",
    "queries_exp = EntityVectorLinkExp() "
   ]
  },
  {
   "cell_type": "code",
   "execution_count": 30,
   "metadata": {
    "collapsed": true
   },
   "outputs": [],
   "source": [
    "queries_exp.check_params()"
   ]
  },
  {
   "cell_type": "code",
   "execution_count": 31,
   "metadata": {
    "collapsed": false
   },
   "outputs": [],
   "source": [
    "exp_results = []\n",
    "\n",
    "for i in xrange(5):\n",
    "    exp_results.append((i, queries_exp.compute_batch()))"
   ]
  },
  {
   "cell_type": "code",
   "execution_count": null,
   "metadata": {
    "collapsed": false
   },
   "outputs": [],
   "source": [
    "queries_exp.compute_batch(False)"
   ]
  },
  {
   "cell_type": "code",
   "execution_count": 32,
   "metadata": {
    "collapsed": false
   },
   "outputs": [
    {
     "data": {
      "text/plain": [
       "[(0, 1.162608259072301),\n",
       " (1, 1.1083744940828513),\n",
       " (2, 1.1107771458564479),\n",
       " (3, 1.0799693977008746),\n",
       " (4, 1.0744760715970667)]"
      ]
     },
     "execution_count": 32,
     "metadata": {},
     "output_type": "execute_result"
    }
   ],
   "source": [
    "exp_results"
   ]
  },
  {
   "cell_type": "code",
   "execution_count": 33,
   "metadata": {
    "collapsed": false
   },
   "outputs": [
    {
     "data": {
      "text/plain": [
       "{u'1921': {u'gold': u'1921',\n",
       "  u'training': True,\n",
       "  u'vals': {u'-NIL-': 0.18261611,\n",
       "   u'144th New York State Legislature': 0.41459617,\n",
       "   u'1921': 0.42078227,\n",
       "   u'1921 APFA season': 0.41421959,\n",
       "   u'1921 Green Bay Packers season': 0.4248966,\n",
       "   u'1921 Indianapolis 500': 0.37826195,\n",
       "   u'1921 NFL season': 0,\n",
       "   u'1921 VFL season': 0.3788352,\n",
       "   u'1921 World Series': 0.46165341,\n",
       "   u'1921 college football season': 0.4159075,\n",
       "   u'1921 in Canada': 0.44230342,\n",
       "   u'1921 in aviation': 0.42985418,\n",
       "   u'1921 in film': 0.44654363,\n",
       "   u'1921 in literature': 0.41353869,\n",
       "   u'1921 in poetry': 0.46225181,\n",
       "   u'1921 in the United States': 0.45401299,\n",
       "   u'Canadian federal election, 1921': 0.42354047,\n",
       "   u'Irish elections, 1921': 0.44229493,\n",
       "   u'Norwegian parliamentary election, 1921': 0.43300906,\n",
       "   u'XXNILXX': 0}},\n",
       " u'1984': {u'gold': u'1984',\n",
       "  u'training': True,\n",
       "  u'vals': {u'-NIL-': 0.190595,\n",
       "   u'1984': 0.50053537,\n",
       "   u'1984 Grand Prix motorcycle racing season': 0.38998544,\n",
       "   u'1984 NBA draft': 0.42578492,\n",
       "   u'1984 NCAA Division I-A football season': 0.42933819,\n",
       "   u'1984 NFL season': 0.41538772,\n",
       "   u'1984 NHL Entry Draft': 0.41474521,\n",
       "   u'1984 Summer Olympics': 0.4441185,\n",
       "   u'1984 Winter Olympics': 0.4123396,\n",
       "   u'1984 in film': 0.38988876,\n",
       "   u'1984 in literature': 0.4310146,\n",
       "   u'1984 in music': 0.40938145,\n",
       "   u'1984 in television': 0.41407928,\n",
       "   u'1984 in video gaming': 0.40516615,\n",
       "   u'Australian federal election, 1984': 0.43223894,\n",
       "   u'Nineteen Eighty-Four': 0.48187917,\n",
       "   u'UEFA Euro 1984': 0.40645462,\n",
       "   u'United States House of Representatives elections, 1984': 0.4114922,\n",
       "   u'United States presidential election, 1984': 0.41167557,\n",
       "   u'XXNILXX': 0}},\n",
       " u'Alfred Hitchcock': {u'gold': u'Alfred Hitchcock',\n",
       "  u'training': True,\n",
       "  u'vals': {u'-NIL-': 0.19261307,\n",
       "   u'Alfred Hitchcock': 0.50640827,\n",
       "   u'Alfred Hitchcock (book)': 0,\n",
       "   u'Alfred Hitchcock (police officer)': 0,\n",
       "   u'Cameron Hitchcock': 0.44447002,\n",
       "   u'E. Hitchcock': 0,\n",
       "   u'Edward Hitchcock': 0.47862095,\n",
       "   u'Hitchcock': 0,\n",
       "   u'Hitchcock (automobile)': 0.40792614,\n",
       "   u'Hitchcock (film)': 0.40941298,\n",
       "   u'Hitchcock County, Nebraska': 0.41398028,\n",
       "   u'Hitchcock, Oklahoma': 0.38701153,\n",
       "   u'Hitchcock, South Dakota': 0.41666529,\n",
       "   u'Hitchcock, Texas': 0.40718773,\n",
       "   u'Ken Hitchcock': 0.44740769,\n",
       "   u'Sterling Hitchcock': 0.43235332,\n",
       "   u'The Birds (film)': 0.45947435,\n",
       "   u'Tom Hitchcock': 0.44091025,\n",
       "   u'Tommy Hitchcock (racing driver)': 0,\n",
       "   u'XXNILXX': 0}},\n",
       " u'August 8': {u'gold': u'August 8',\n",
       "  u'training': True,\n",
       "  u'vals': {u'-NIL-': 0.18871415,\n",
       "   u'/August': 0.41982722,\n",
       "   u'August': 0.43040782,\n",
       "   u'August (1996 film)': 0.45096526,\n",
       "   u'August (2008 film)': 0.38740051,\n",
       "   u'August (Eric Clapton album)': 0.35838085,\n",
       "   u'August (Fringe)': 0.40223664,\n",
       "   u'August (company)': 0.45588273,\n",
       "   u'August 1966': 0.36478525,\n",
       "   u'August 1971': 0.37271273,\n",
       "   u'August 1972': 0.34793162,\n",
       "   u'August 1973': 0.34765264,\n",
       "   u'August 1975': 0.37190229,\n",
       "   u'August 2007': 0.42210048,\n",
       "   u'August 8': 0.46928474,\n",
       "   u'August 8 (Eastern Orthodox liturgics)': 0.42917973,\n",
       "   u'August, California': 0.42086083,\n",
       "   u'CMLL Super Viernes (August 2014)': 0.45214194,\n",
       "   u'Papal conclave, August 1978': 0.44122434,\n",
       "   u'XXNILXX': 0}},\n",
       " u'Boze Hadleigh': {u'gold': u'Boze Hadleigh',\n",
       "  u'training': True,\n",
       "  u'vals': {u'-NIL-': 0.18937254,\n",
       "   u'Boze Hadleigh': 0.48326236,\n",
       "   u'Hadleigh': 0.44528678,\n",
       "   u'Hadleigh (TV series)': 0.40026367,\n",
       "   u'Hadleigh (disambiguation)': 0,\n",
       "   u'Hadleigh Airfield': 0,\n",
       "   u'Hadleigh Castle': 0.47145545,\n",
       "   u'Hadleigh railway station': 0.45611379,\n",
       "   u'Hadleigh, Essex': 0.41172242,\n",
       "   u'Hadleigh, Suffolk': 0.42708623,\n",
       "   u'RAF Hadleigh': 0,\n",
       "   u'XXNILXX': 0}},\n",
       " u'Carousel': {u'gold': u'Carousel (film)',\n",
       "  u'training': True,\n",
       "  u'vals': {u'-NIL-': 0.18995368,\n",
       "   u'Carousel': 0.4331153,\n",
       "   u'Carousel (1923 film)': 0.43816301,\n",
       "   u'Carousel (1956 film)': 0,\n",
       "   u'Carousel (Blink-182 song)': 0.38974735,\n",
       "   u'Carousel (Leila K album)': 0,\n",
       "   u'Carousel (TV channel)': 0.43671548,\n",
       "   u'Carousel (Vanessa Carlton song)': 0,\n",
       "   u'Carousel (advert)': 0,\n",
       "   u'Carousel (advertisement)': 0.44683439,\n",
       "   u'Carousel (album)': 0.3690185,\n",
       "   u'Carousel (ballet)': 0.43484035,\n",
       "   u'Carousel (film)': 0.41746545,\n",
       "   u'Carousel (musical)': 0.4059481,\n",
       "   u'Carousel slide projector': 0.43919805,\n",
       "   u'Cheshire Cat (Blink-182 album)': 0.38322926,\n",
       "   u'Ford Carousel': 0.43483239,\n",
       "   u'Rabbits on the Run': 0.43766969,\n",
       "   u'Westfield Carousel': 0.44320968,\n",
       "   u'XXNILXX': 0}},\n",
       " u'Fred Rutherford': {u'gold': u'Fred Rutherford',\n",
       "  u'training': True,\n",
       "  u'vals': {u'-NIL-': 0.19103757,\n",
       "   u'Alexander Cameron Rutherford': 0.48078096,\n",
       "   u'Ernest Rutherford': 0.43526244,\n",
       "   u'Fred Rutherford': 0.42855594,\n",
       "   u'Jock Rutherford': 0.42927375,\n",
       "   u'John Rutherford (rugby union)': 0.45501328,\n",
       "   u'Johnny Rutherford': 0.38095081,\n",
       "   u'Rutherford': 0.47191527,\n",
       "   u'Rutherford (NJT station)': 0.43907756,\n",
       "   u'Rutherford AVA': 0.49719024,\n",
       "   u'Rutherford County, North Carolina': 0.42719764,\n",
       "   u'Rutherford County, Tennessee': 0.42925006,\n",
       "   u'Rutherford GO Station': 0.46759784,\n",
       "   u'Rutherford, California': 0.40690118,\n",
       "   u'Rutherford, Edmonton': 0.41185576,\n",
       "   u'Rutherford, New Jersey': 0.478919,\n",
       "   u'Rutherford, New South Wales': 0.44587469,\n",
       "   u'Rutherford, Pennsylvania': 0.44275442,\n",
       "   u'Rutherford, Tennessee': 0.40857974,\n",
       "   u'XXNILXX': 0}},\n",
       " u'Gordon MacRae': {u'gold': u'Gordon MacRae',\n",
       "  u'training': True,\n",
       "  u'vals': {u'-NIL-': 0.1882194,\n",
       "   u'Calum MacRae': 0.43429363,\n",
       "   u'Gordon MacRae': 0.47481954,\n",
       "   u'Jade MacRae': 0.46931207,\n",
       "   u'MacRae': 0.44815338,\n",
       "   u'MacRae (surname)': 0,\n",
       "   u'William MacRae': 0.51370859,\n",
       "   u'XXNILXX': 0}},\n",
       " u'Hello , Dolly !': {u'gold': u'Hello, Dolly! (musical)',\n",
       "  u'training': True,\n",
       "  u'vals': {u'-NIL-': 0.19527459,\n",
       "   u'Hello': 0.45060176,\n",
       "   u'Hello (2008 film)': 0.40449795,\n",
       "   u'Hello (Ice Cube song)': 0.43023604,\n",
       "   u'Hello (Lionel Richie song)': 0.45994115,\n",
       "   u'Hello (Martin Solveig song)': 0.40027767,\n",
       "   u'Hello (band)': 0.49151945,\n",
       "   u'Hello (magazine)': 0.47457087,\n",
       "   u'Hello ,': 0,\n",
       "   u'Hello , Dolly': 0,\n",
       "   u'Hello , Dolly !': 0,\n",
       "   u'Hello Dolly': 0.41648674,\n",
       "   u'Hello Dolly (film)': 0.43124241,\n",
       "   u'Hello Dolly (movie)': 0,\n",
       "   u'Hello Dolly (song)': 0.43594047,\n",
       "   u'Hello, Dolly!': 0.45559627,\n",
       "   u'Hello, Dolly! (film)': 0.42767772,\n",
       "   u'Hello, Dolly! (musical)': 0.4262687,\n",
       "   u'Hello, Dolly! (song)': 0.43985775,\n",
       "   u'XXNILXX': 0}},\n",
       " u'Invasion of the Body Snatchers': {u'gold': u'Invasion of the Body Snatchers',\n",
       "  u'training': True,\n",
       "  u'vals': {u'-NIL-': 0.18710935,\n",
       "   u'2003 invasion of Iraq': 0.48804009,\n",
       "   u'Battle of France': 0.4713853,\n",
       "   u'Invasion': 0.43573183,\n",
       "   u'Invasion (1965 film)': 0.45101687,\n",
       "   u'Invasion (1997 film)': 0.42042112,\n",
       "   u'Invasion (TV series)': 0.37638187,\n",
       "   u'Invasion Body Snatchers': 0,\n",
       "   u'Invasion of': 0,\n",
       "   u'Invasion of Normandy': 0.45433399,\n",
       "   u'Invasion of Poland': 0.44540513,\n",
       "   u'Invasion of Poland (1939)': 0,\n",
       "   u'Invasion of the': 0,\n",
       "   u'Invasion of the Body': 0,\n",
       "   u'Invasion of the Body Snatchers': 0.4804644,\n",
       "   u'Invasion of the Body Snatchers (1956 film)': 0,\n",
       "   u'Invasion of the Body Snatchers (1978 film)': 0.44150165,\n",
       "   u'Invasion of the Body Snatchers (1978 film) ': 0,\n",
       "   u'The Invasion (professional wrestling)': 0.43802714,\n",
       "   u'XXNILXX': 0}},\n",
       " u'John Dehner': {u'gold': u'John Dehner',\n",
       "  u'training': True,\n",
       "  u'vals': {u'-NIL-': 0.18515271,\n",
       "   u'Dehner': 0,\n",
       "   u'John Dehner': 0.5139305,\n",
       "   u'XXNILXX': 0}},\n",
       " u'May 14': {u'gold': u'May 14',\n",
       "  u'training': True,\n",
       "  u'vals': {u'-NIL-': 0.18338448,\n",
       "   u'/May': 0.4172273,\n",
       "   u'Ben May': 0.46548563,\n",
       "   u'Brian May': 0.48179674,\n",
       "   u'CMLL Super Viernes (May 2014)': 0,\n",
       "   u'Darrell May': 0.42084673,\n",
       "   u'David May (footballer)': 0.43209282,\n",
       "   u'Jonny May': 0.4207499,\n",
       "   u'Kathy May': 0,\n",
       "   u'List of Pok\\xe9mon anime characters': 0.44781363,\n",
       "   u'May': 0.43372798,\n",
       "   u'May (Pok\\xe9mon)': 0,\n",
       "   u'May (film)': 0.42775461,\n",
       "   u'May 14': 0.54106635,\n",
       "   u'May 14 (Eastern Orthodox liturgics)': 0.46068704,\n",
       "   u'May, Oklahoma': 0.40573165,\n",
       "   u'May, Texas': 0.40406033,\n",
       "   u'Sean May': 0.4574976,\n",
       "   u'Stevie May': 0.41195324,\n",
       "   u'XXNILXX': 0}},\n",
       " u'Philadelphia': {u'gold': u'Philadelphia',\n",
       "  u'training': True,\n",
       "  u'vals': {u'-NIL-': 0.18303287,\n",
       "   u'2014\\u201315 Philadelphia Flyers season': 0.39507338,\n",
       "   u'Advanta Championships of Philadelphia': 0.43990958,\n",
       "   u'Ala\\u015fehir': 0.47358623,\n",
       "   u'Philadelphia': 0.46727362,\n",
       "   u'Philadelphia (film)': 0.44024271,\n",
       "   u'Philadelphia (magazine)': 0.47135296,\n",
       "   u'Philadelphia 76ers': 0.46953872,\n",
       "   u'Philadelphia County, Pennsylvania': 0.41875052,\n",
       "   u'Philadelphia Eagles': 0.42026478,\n",
       "   u'Philadelphia Flyers': 0.42221493,\n",
       "   u'Philadelphia International Airport': 0.43057087,\n",
       "   u'Philadelphia Phantoms': 0.40148944,\n",
       "   u'Philadelphia Phillies': 0.42157382,\n",
       "   u'Philadelphia Union': 0.4449887,\n",
       "   u'Philadelphia, Mississippi': 0.44046706,\n",
       "   u'Philadelphia, Pennsylvania': 0,\n",
       "   u'Roman Catholic Archdiocese of Philadelphia': 0.46391991,\n",
       "   u'U.S. Pro Indoor': 0.43712434,\n",
       "   u'XXNILXX': 0}},\n",
       " u'Phyllis Diller': {u'gold': u'Phyllis Diller',\n",
       "  u'training': True,\n",
       "  u'vals': {u'-NIL-': 0.20045966,\n",
       "   u'Diller': 0.45007503,\n",
       "   u'Diller Glacier': 0.44897017,\n",
       "   u'Diller, Nebraska': 0.38676813,\n",
       "   u'LeGrande A. Diller': 0,\n",
       "   u'Phyllis Diller': 0.47455922,\n",
       "   u'XXNILXX': 0}},\n",
       " u'Shirley Jones': {u'gold': u'Shirley Jones',\n",
       "  u'training': True,\n",
       "  u'vals': {u'-NIL-': 0.19742754,\n",
       "   u'Asjha Jones': 0.44615516,\n",
       "   u'Jermaine Jones': 0.44715318,\n",
       "   u'Jone': 0.47947705,\n",
       "   u'Jone (band)': 0,\n",
       "   u'Jone (opera)': 0.44549668,\n",
       "   u'Jone Pedro': 0,\n",
       "   u'Jone da Silva Pinto': 0,\n",
       "   u'Jones': 0.51985633,\n",
       "   u'Jones County, Texas': 0.40838349,\n",
       "   u'Kenwyne Jones': 0.4349075,\n",
       "   u'Nathan Jones (Australian rules footballer)': 0.44881877,\n",
       "   u'Shirley Jones': 0.45435134,\n",
       "   u'Shirley Jones (R&amp;B singer)': 0.41386619,\n",
       "   u'Shirley Jones (horse)': 0,\n",
       "   u'Shirley Jones (politician)': 0,\n",
       "   u'Stacey Jones': 0.4517554,\n",
       "   u'The Jones Girls': 0.41260821,\n",
       "   u'Todd Jones': 0.4390159,\n",
       "   u'XXNILXX': 0}},\n",
       " u'The Addams Family': {u'gold': u'The Addams Family',\n",
       "  u'training': True,\n",
       "  u'vals': {u'-NIL-': 0.20251611,\n",
       "   u'Addams Family': 0,\n",
       "   u'Addams Family (pinball)': 0,\n",
       "   u\"Children's film\": 0.4380821,\n",
       "   u'Family': 0.49974951,\n",
       "   u'Family (1976 TV series)': 0.38228217,\n",
       "   u'Family (band)': 0.41935664,\n",
       "   u'Family (biology)': 0.47357026,\n",
       "   u'Family Channel': 0.46909133,\n",
       "   u'The Addams Family': 0.47965035,\n",
       "   u'The Addams Family (1964 TV series)': 0.44380999,\n",
       "   u'The Addams Family (1973 animated series)': 0.42507333,\n",
       "   u'The Addams Family (1992 animated series)': 0.44067031,\n",
       "   u'The Addams Family (film)': 0.44224,\n",
       "   u'The Addams Family (musical)': 0.45115545,\n",
       "   u'The Addams Family (pinball)': 0.4669764,\n",
       "   u'The Addams Family (video game)': 0.46115425,\n",
       "   u'The Addams Family Theme': 0.45409089,\n",
       "   u'XXNILXX': 0,\n",
       "   u'family (biology)': 0.47537461}},\n",
       " u'The Birds': {u'gold': u'The Birds (film)',\n",
       "  u'training': True,\n",
       "  u'vals': {u'-NIL-': 0.18592998,\n",
       "   u'Bird': 0.49393836,\n",
       "   u'Bird (disambiguation)': 0.49208158,\n",
       "   u'Bird (film)': 0.46244934,\n",
       "   u'Birds': 0,\n",
       "   u'Birds (Anouk song)': 0.41248107,\n",
       "   u'Birds (Bic Runga album)': 0.37928766,\n",
       "   u'Birds (Kate Nash song)': 0.43136072,\n",
       "   u'Birds, Illinois': 0.36225644,\n",
       "   u'Greg Bird': 0.4474757,\n",
       "   u'Larry Bird': 0.43775082,\n",
       "   u'Ryan Bird': 0.46803534,\n",
       "   u'Sue Bird': 0.44504112,\n",
       "   u'The Birds': 0,\n",
       "   u'The Birds (Respighi)': 0.444152,\n",
       "   u'The Birds (band)': 0.41505188,\n",
       "   u'The Birds (film)': 0.46445623,\n",
       "   u'The Birds (play)': 0.41880614,\n",
       "   u'The Birds (story)': 0.43125042,\n",
       "   u'XXNILXX': 0}},\n",
       " u'The Dick Van Dyke Show': {u'gold': u'The Dick Van Dyke Show',\n",
       "  u'training': True,\n",
       "  u'vals': {u'-NIL-': 0.17972869,\n",
       "   u'Agricultural show': 0.45440513,\n",
       "   u'Days of Our Lives': 0.42476517,\n",
       "   u'Days of our Lives': 0.45608264,\n",
       "   u'Dick Van Dyke Show': 0,\n",
       "   u'Dyke Show': 0,\n",
       "   u'Eric Show': 0.43701699,\n",
       "   u'General Hospital': 0.43453792,\n",
       "   u'Show': 0.44595817,\n",
       "   u'Show (The Cure album)': 0.35406876,\n",
       "   u'Show (The Jesus Lizard album)': 0.36838797,\n",
       "   u'Show (film)': 0.4301855,\n",
       "   u'Show (magazine)': 0.42731556,\n",
       "   u'Showbiz (producer)': 0,\n",
       "   u'Showbiz and A.G.': 0.4345496,\n",
       "   u'The Dick Van Dyke Show': 0.40326104,\n",
       "   u'The Dick Van Dyke Show ': 0,\n",
       "   u'The Van Dyke Show': 0.38141894,\n",
       "   u'Van Dyke Show': 0,\n",
       "   u'XXNILXX': 0}},\n",
       " u'The Mothers-in-Law': {u'gold': u'The Mothers-in-Law',\n",
       "  u'training': True,\n",
       "  u'vals': {u'-NIL-': 0.18567196,\n",
       "   u'Mothers-in-Law': 0,\n",
       "   u'The Mothers-in-Law': 0.43679419,\n",
       "   u'XXNILXX': 0}},\n",
       " u'character actor': {u'gold': u'Character actor',\n",
       "  u'training': True,\n",
       "  u'vals': {u'-NIL-': 0.18627578,\n",
       "   u'Academy Award for Best Actor': 0.45774582,\n",
       "   u'Acting': 0.47267029,\n",
       "   u'Actor': 0.49179342,\n",
       "   u'Actor (UML)': 0.46475616,\n",
       "   u'Actor (album)': 0.4225615,\n",
       "   u'Actor (mythology)': 0.46883625,\n",
       "   u'Character actor': 0.51753986,\n",
       "   u'Film actor': 0,\n",
       "   u'Golden Globe Award for Best Actor \\u2013 Miniseries or Television Film': 0.43348259,\n",
       "   u'Golden Globe Award for Best Actor \\u2013 Motion Picture Drama': 0.44930315,\n",
       "   u'Golden Globe Award for Best Actor \\u2013 Motion Picture Musical or Comedy': 0.42771125,\n",
       "   u'Pornographic film actor': 0.45649081,\n",
       "   u'XXNILXX': 0,\n",
       "   u'acting': 0.45876858,\n",
       "   u'actor': 0.50412911,\n",
       "   u'character actor': 0.49565825,\n",
       "   u'film actor': 0,\n",
       "   u'pornographic actor': 0,\n",
       "   u'television actor': 0}},\n",
       " u'chef': {u'gold': u'Chef',\n",
       "  u'training': True,\n",
       "  u'vals': {u'-NIL-': 0.19984028,\n",
       "   u'Celebrity chef': 0.49076119,\n",
       "   u'Chef': 0.40391281,\n",
       "   u'Chef (2014 film)': 0,\n",
       "   u'Chef (South Park character)': 0,\n",
       "   u'Chef (South Park)': 0.45789483,\n",
       "   u'Chef (company)': 0.49414384,\n",
       "   u'Chef (film)': 0.43684486,\n",
       "   u'Chef (programming language)': 0,\n",
       "   u'Chef (software)': 0.46728182,\n",
       "   u\"Chef's uniform\": 0.46412057,\n",
       "   u'Cook (profession)': 0.47402412,\n",
       "   u'Isaac Hayes': 0.51287067,\n",
       "   u'Japanese cuisine': 0.47414878,\n",
       "   u'Magician': 0.46886224,\n",
       "   u'Michael Smith (chef)': 0.49597934,\n",
       "   u'Swedish Chef': 0.44561669,\n",
       "   u'XXNILXX': 0,\n",
       "   u'celebrity chef': 0.49272206,\n",
       "   u'chef': 0.42062604}},\n",
       " u'cookbook': {u'gold': u'cookbook',\n",
       "  u'training': True,\n",
       "  u'vals': {u'-NIL-': 0.18781736,\n",
       "   u'Cookbook': 0.43565467,\n",
       "   u\"Nanny Ogg's Cookbook\": 0.41208145,\n",
       "   u'XXNILXX': 0,\n",
       "   u'cookbook': 0.44506359}},\n",
       " u'microwave': {u'gold': u'Microwave oven',\n",
       "  u'training': True,\n",
       "  u'vals': {u'-NIL-': 0.18893591,\n",
       "   u'British Telecom microwave network': 0.40032572,\n",
       "   u'Cavalier Computer': 0.40187791,\n",
       "   u'EM spectrum': 0,\n",
       "   u'Electromagnetic spectrum': 0.46016341,\n",
       "   u'Microwave': 0.4612976,\n",
       "   u'Microwave (game)': 0,\n",
       "   u'Microwave chemistry': 0.42462546,\n",
       "   u'Microwave oven': 0.48125678,\n",
       "   u'Microwave radio relay': 0,\n",
       "   u'Microwave radiometer': 0.46226296,\n",
       "   u'Microwave spectroscopy': 0,\n",
       "   u'Microwave transmission': 0.44527084,\n",
       "   u'Microwaves': 0,\n",
       "   u'Rotational spectroscopy': 0.44918281,\n",
       "   u'Waldorf Microwave': 0,\n",
       "   u'XXNILXX': 0,\n",
       "   u'microwave': 0.47182888,\n",
       "   u'microwave oven': 0.48135453,\n",
       "   u'microwave transmission': 0.43433255}},\n",
       " u'physician': {u'gold': u'Physician',\n",
       "  u'training': True,\n",
       "  u'vals': {u'-NIL-': 0.18659055,\n",
       "   u'Doctor of Medicine': 0.47905707,\n",
       "   u'General practitioner': 0.47025478,\n",
       "   u'Internal medicine': 0.46958691,\n",
       "   u'Islamic medicine': 0,\n",
       "   u'John Snow (physician)': 0.4809278,\n",
       "   u'Medicine': 0.47910708,\n",
       "   u'Medicine in medieval Islam': 0,\n",
       "   u'Medicine in the medieval Islamic world': 0.48628145,\n",
       "   u'Physician': 0.43927395,\n",
       "   u'Physician (horse)': 0,\n",
       "   u'Physics': 0.47126153,\n",
       "   u'Physiology': 0.48785728,\n",
       "   u\"Ship's doctor\": 0.4700965,\n",
       "   u'Traditional Chinese medicine': 0.46031564,\n",
       "   u'XXNILXX': 0,\n",
       "   u'medical doctor': 0,\n",
       "   u'medicine': 0.4791871,\n",
       "   u'physician': 0.44966292,\n",
       "   u'physiology': 0.4581331}}}"
      ]
     },
     "execution_count": 33,
     "metadata": {},
     "output_type": "execute_result"
    }
   ],
   "source": [
    "queries.values()[0]"
   ]
  },
  {
   "cell_type": "code",
   "execution_count": null,
   "metadata": {
    "collapsed": true
   },
   "outputs": [],
   "source": [
    "gg_res = queries_exp.test_func(\n",
    "    queries_exp.current_documents, \n",
    "    queries_exp.current_surface_text, queries_exp.current_link_id,\n",
    "    queries_exp.current_target_input, queries_exp.current_target_id, queries_exp.current_target_goal\n",
    ")"
   ]
  },
  {
   "cell_type": "code",
   "execution_count": null,
   "metadata": {
    "collapsed": false
   },
   "outputs": [],
   "source": [
    "np.isnan(gg_res[0]).any()"
   ]
  },
  {
   "cell_type": "code",
   "execution_count": null,
   "metadata": {
    "collapsed": false
   },
   "outputs": [],
   "source": [
    "gg_res[2].mean()"
   ]
  },
  {
   "cell_type": "code",
   "execution_count": null,
   "metadata": {
    "collapsed": false
   },
   "outputs": [],
   "source": [
    "gg_res[0].mean()"
   ]
  },
  {
   "cell_type": "code",
   "execution_count": null,
   "metadata": {
    "collapsed": false
   },
   "outputs": [],
   "source": [
    "[(v, np.isnan(v.get_value(borrow=True)).all()) for v in queries_exp.all_params]"
   ]
  },
  {
   "cell_type": "code",
   "execution_count": null,
   "metadata": {
    "collapsed": false
   },
   "outputs": [],
   "source": [
    "queries_exp.total_links"
   ]
  },
  {
   "cell_type": "code",
   "execution_count": null,
   "metadata": {
    "collapsed": false
   },
   "outputs": [],
   "source": [
    "theano.printing.pydotprint(T.grad(queries_exp.loss_vec.mean(), queries_exp.all_params))"
   ]
  },
  {
   "cell_type": "code",
   "execution_count": null,
   "metadata": {
    "collapsed": false
   },
   "outputs": [],
   "source": [
    "gg_func = theano.function(\n",
    "            [queries_exp.x_document_input,\n",
    "             queries_exp.x_surface_text_input, queries_exp.x_document_id,\n",
    "             queries_exp.x_target_input, queries_exp.x_link_id, queries_exp.y_score],\n",
    "            T.grad(queries_exp.loss_vec.mean(), lasagne.layers.get_all_params(queries_exp.target_dens2)),\n",
    "#           T.grad(queries_exp.loss_vec.mean(), queries_exp.all_params),\n",
    "    #             [queries_exp.target_out, queries_exp.source_aligned_l, \n",
    "#              T.dot(queries_exp.target_out, queries_exp.source_aligned_l.T).diagonal(),\n",
    "#              queries_exp.target_out.norm(2, axis=1) * queries_exp.source_aligned_l.norm(2, axis=1),\n",
    "#              T.batched_dot(queries_exp.target_out, queries_exp.source_aligned_l),\n",
    "#              lasagne.layers.get_output(queries_exp.target_dens2),\n",
    "#              queries_exp.target_out.norm(2, axis=1),\n",
    "#              #T.grad(queries_exp.loss_vec.mean(), queries_exp.all_params)\n",
    "#             ],\n",
    "        #[queries_exp.res_l, queries_exp.loss_vec.sum(), queries_exp.loss_vec],\n",
    "    on_unused_input='ignore',\n",
    "    mode='DebugMode'\n",
    "        )"
   ]
  },
  {
   "cell_type": "code",
   "execution_count": null,
   "metadata": {
    "collapsed": false
   },
   "outputs": [],
   "source": [
    "try:\n",
    "    gg_grad_res = gg_func(\n",
    "        queries_exp.current_documents,\n",
    "        queries_exp.current_surface_text, queries_exp.current_link_id,\n",
    "        queries_exp.current_target_input, queries_exp.current_target_id, queries_exp.current_target_goal\n",
    "    )\n",
    "except Exception as e:\n",
    "    eeee = e"
   ]
  },
  {
   "cell_type": "code",
   "execution_count": null,
   "metadata": {
    "collapsed": false
   },
   "outputs": [],
   "source": [
    "[np.isnan(v).any() for v in gg_grad_res]"
   ]
  },
  {
   "cell_type": "code",
   "execution_count": null,
   "metadata": {
    "collapsed": false
   },
   "outputs": [],
   "source": [
    "eeee"
   ]
  },
  {
   "cell_type": "code",
   "execution_count": null,
   "metadata": {
    "collapsed": false
   },
   "outputs": [],
   "source": [
    "len(queries_exp.current_target_input)"
   ]
  },
  {
   "cell_type": "code",
   "execution_count": null,
   "metadata": {
    "collapsed": false
   },
   "outputs": [],
   "source": [
    "gg_res = gg_func(\n",
    "    queries_exp.current_documents,\n",
    "    queries_exp.current_surface_text, queries_exp.current_link_id,\n",
    "    queries_exp.current_target_input, queries_exp.current_target_id, queries_exp.current_target_goal\n",
    ")"
   ]
  },
  {
   "cell_type": "code",
   "execution_count": null,
   "metadata": {
    "collapsed": false
   },
   "outputs": [],
   "source": [
    "len(queries_exp.current_target_input)"
   ]
  },
  {
   "cell_type": "code",
   "execution_count": null,
   "metadata": {
    "collapsed": false
   },
   "outputs": [],
   "source": [
    "np.isnan(gg_res[5]).any()"
   ]
  },
  {
   "cell_type": "code",
   "execution_count": null,
   "metadata": {
    "collapsed": false
   },
   "outputs": [],
   "source": [
    "gg_res[2]"
   ]
  },
  {
   "cell_type": "code",
   "execution_count": null,
   "metadata": {
    "collapsed": false
   },
   "outputs": [],
   "source": [
    "gg_res[0].shape, gg_res[1].shape, gg_res[2].shape, gg_res[3].shape, gg_res[4].shape"
   ]
  },
  {
   "cell_type": "code",
   "execution_count": null,
   "metadata": {
    "collapsed": false
   },
   "outputs": [],
   "source": [
    "np.inner(gg_res[0], gg_res[1]).shape"
   ]
  },
  {
   "cell_type": "code",
   "execution_count": null,
   "metadata": {
    "collapsed": false
   },
   "outputs": [],
   "source": [
    "gg_res[0] * gg_res[1]"
   ]
  },
  {
   "cell_type": "code",
   "execution_count": null,
   "metadata": {
    "collapsed": false
   },
   "outputs": [],
   "source": [
    "aa = np.dot(gg_res[0], gg_res[1].T)"
   ]
  },
  {
   "cell_type": "code",
   "execution_count": null,
   "metadata": {
    "collapsed": false
   },
   "outputs": [],
   "source": [
    "aa.diagonal().shape"
   ]
  },
  {
   "cell_type": "code",
   "execution_count": null,
   "metadata": {
    "collapsed": false
   },
   "outputs": [],
   "source": [
    "gg_res[2]"
   ]
  },
  {
   "cell_type": "code",
   "execution_count": null,
   "metadata": {
    "collapsed": false
   },
   "outputs": [],
   "source": [
    "len(queries_exp.queried_pages)"
   ]
  },
  {
   "cell_type": "code",
   "execution_count": null,
   "metadata": {
    "collapsed": false
   },
   "outputs": [],
   "source": [
    "len(queries_exp.page_content)"
   ]
  },
  {
   "cell_type": "code",
   "execution_count": null,
   "metadata": {
    "collapsed": false
   },
   "outputs": [],
   "source": [
    "len(queries_exp.current_surface_text)"
   ]
  },
  {
   "cell_type": "code",
   "execution_count": null,
   "metadata": {
    "collapsed": false
   },
   "outputs": [],
   "source": [
    "len(queries_exp.current_link_id)"
   ]
  },
  {
   "cell_type": "code",
   "execution_count": null,
   "metadata": {
    "collapsed": false
   },
   "outputs": [],
   "source": [
    "len(queries_exp.current_target_input)"
   ]
  },
  {
   "cell_type": "code",
   "execution_count": null,
   "metadata": {
    "collapsed": false
   },
   "outputs": [],
   "source": [
    "exp_results = []\n",
    "\n",
    "for i in xrange(5):\n",
    "    exp_results.append((i, queries_exp.compute_batch()))"
   ]
  },
  {
   "cell_type": "code",
   "execution_count": null,
   "metadata": {
    "collapsed": false
   },
   "outputs": [],
   "source": [
    "exp_results"
   ]
  },
  {
   "cell_type": "code",
   "execution_count": null,
   "metadata": {
    "collapsed": false
   },
   "outputs": [],
   "source": [
    "queries.values()"
   ]
  },
  {
   "cell_type": "code",
   "execution_count": null,
   "metadata": {
    "collapsed": false
   },
   "outputs": [],
   "source": [
    "queries_exp.total_links"
   ]
  },
  {
   "cell_type": "code",
   "execution_count": null,
   "metadata": {
    "collapsed": false
   },
   "outputs": [],
   "source": [
    "queries_exp.total_loss / queries_exp.total_links"
   ]
  },
  {
   "cell_type": "code",
   "execution_count": null,
   "metadata": {
    "collapsed": false
   },
   "outputs": [],
   "source": [
    "queries_exp.total_loss"
   ]
  },
  {
   "cell_type": "code",
   "execution_count": null,
   "metadata": {
    "collapsed": false
   },
   "outputs": [],
   "source": [
    "len(queries_exp.current_target_id)"
   ]
  },
  {
   "cell_type": "code",
   "execution_count": null,
   "metadata": {
    "collapsed": false
   },
   "outputs": [],
   "source": [
    "queries_exp.compute_batch()"
   ]
  },
  {
   "cell_type": "code",
   "execution_count": null,
   "metadata": {
    "collapsed": false
   },
   "outputs": [],
   "source": [
    "%time queries_exp.run_batch(queries_exp.test_func)"
   ]
  },
  {
   "cell_type": "code",
   "execution_count": null,
   "metadata": {
    "collapsed": true
   },
   "outputs": [],
   "source": []
  }
 ],
 "metadata": {
  "kernelspec": {
   "display_name": "Python 2",
   "language": "python",
   "name": "python2"
  },
  "language_info": {
   "codemirror_mode": {
    "name": "ipython",
    "version": 2
   },
   "file_extension": ".py",
   "mimetype": "text/x-python",
   "name": "python",
   "nbconvert_exporter": "python",
   "pygments_lexer": "ipython2",
   "version": "2.7.5"
  }
 },
 "nbformat": 4,
 "nbformat_minor": 0
}
