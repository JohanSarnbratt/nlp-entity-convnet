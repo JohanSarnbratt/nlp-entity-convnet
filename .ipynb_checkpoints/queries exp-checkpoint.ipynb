{
 "cells": [
  {
   "cell_type": "code",
   "execution_count": 1,
   "metadata": {
    "collapsed": true
   },
   "outputs": [],
   "source": [
    "%load_ext autoreload\n",
    "%autoreload 2"
   ]
  },
  {
   "cell_type": "code",
   "execution_count": 2,
   "metadata": {
    "collapsed": false
   },
   "outputs": [
    {
     "name": "stdout",
     "output_type": "stream",
     "text": [
      "Couldn't import dot_parser, loading of dot files will not be possible.\n"
     ]
    }
   ],
   "source": [
    "from theano import *\n",
    "from lasagne.layers import InputLayer, get_output\n",
    "import lasagne\n",
    "import lasagne.layers\n",
    "import theano.tensor as T\n",
    "import theano\n",
    "import numpy as np\n",
    "from helpers import SimpleMaxingLayer\n",
    "from wordvecs import WordVectors, EmbeddingLayer\n",
    "import json\n",
    "\n",
    "theano.config.floatX = 'float32'\n",
    "theano.config.linker = 'cvm_nogc'\n",
    "theano.config.openmp = True\n",
    "theano.config.openmp_elemwise_minsize = 20000"
   ]
  },
  {
   "cell_type": "code",
   "execution_count": 3,
   "metadata": {
    "collapsed": true
   },
   "outputs": [],
   "source": [
    "with open('/data/matthew/external-wiki1.json') as f:\n",
    "    queries = json.load(f)['queries']"
   ]
  },
  {
   "cell_type": "code",
   "execution_count": 4,
   "metadata": {
    "collapsed": false
   },
   "outputs": [
    {
     "data": {
      "text/plain": [
       "9915"
      ]
     },
     "execution_count": 4,
     "metadata": {},
     "output_type": "execute_result"
    }
   ],
   "source": [
    "len(queries)"
   ]
  },
  {
   "cell_type": "code",
   "execution_count": 5,
   "metadata": {
    "collapsed": false
   },
   "outputs": [
    {
     "data": {
      "text/plain": [
       "8917"
      ]
     },
     "execution_count": 5,
     "metadata": {},
     "output_type": "execute_result"
    }
   ],
   "source": [
    "sum([any([g['gold'] for g in v.values()]) for v in queries.values()])"
   ]
  },
  {
   "cell_type": "code",
   "execution_count": 6,
   "metadata": {
    "collapsed": false
   },
   "outputs": [
    {
     "data": {
      "text/plain": [
       "0.8993444276348966"
      ]
     },
     "execution_count": 6,
     "metadata": {},
     "output_type": "execute_result"
    }
   ],
   "source": [
    "8917/9915."
   ]
  },
  {
   "cell_type": "code",
   "execution_count": 7,
   "metadata": {
    "collapsed": true
   },
   "outputs": [],
   "source": [
    "\n",
    "wordvectors = WordVectors(\n",
    "    fname=\"/data/matthew/GoogleNews-vectors-negative300.bin\",\n",
    "    negvectors=False\n",
    ")"
   ]
  },
  {
   "cell_type": "code",
   "execution_count": 8,
   "metadata": {
    "collapsed": true
   },
   "outputs": [],
   "source": [
    "with open('/data/matthew/enwiki-20141208-pages-articles-multistream-redirects5.json') as f:\n",
    "    page_redirects = json.load(f)"
   ]
  },
  {
   "cell_type": "code",
   "execution_count": 9,
   "metadata": {
    "collapsed": false
   },
   "outputs": [],
   "source": [
    "from wikireader import WikiRegexes, WikipediaReader"
   ]
  },
  {
   "cell_type": "code",
   "execution_count": 10,
   "metadata": {
    "collapsed": false
   },
   "outputs": [],
   "source": [
    "def PreProcessedQueries(wikipedia_dump_fname, wordvec=wordvectors, queries=queries, redirects=page_redirects):\n",
    "    \n",
    "    queried_pages = set()\n",
    "    for docs, q in queries.iteritems():\n",
    "        wordvec.tokenize(docs)\n",
    "        for sur, v in q.iteritems():\n",
    "            wordvec.tokenize(sur)\n",
    "            for link in v['vals'].keys():\n",
    "                wordvec.tokenize(link)\n",
    "                tt = WikiRegexes.convertToTitle(link)\n",
    "                #self.wordvecs.tokenize(tt)\n",
    "                queried_pages.add(tt)\n",
    "\n",
    "    added_pages = set()\n",
    "    for title in queried_pages:\n",
    "        if title in redirects:\n",
    "            #wordvec.tokenize(self.redirects[title])\n",
    "            added_pages.add(redirects[title])\n",
    "    queried_pages |= added_pages\n",
    "\n",
    "    page_content = {}\n",
    "\n",
    "    class GetWikipediaWords(WikipediaReader, WikiRegexes):\n",
    "\n",
    "        def readPage(ss, title, content):\n",
    "            tt = ss.convertToTitle(title)\n",
    "            if tt in queried_pages:\n",
    "                cnt = ss._wikiToText(content)\n",
    "                page_content[tt] = wordvec.tokenize(cnt)\n",
    "\n",
    "    GetWikipediaWords(wikipedia_dump_fname).read()\n",
    "    \n",
    "    rr = redirects\n",
    "    rq = queried_pages\n",
    "    rc = page_content\n",
    "\n",
    "    class PreProcessedQueriesCls(object):\n",
    "        \n",
    "        wordvecs = wordvec\n",
    "        queries = queries\n",
    "        redirects = rr\n",
    "        queried_pages = rq\n",
    "        page_content = rc\n",
    "        \n",
    "        \n",
    "    return PreProcessedQueriesCls"
   ]
  },
  {
   "cell_type": "code",
   "execution_count": 11,
   "metadata": {
    "collapsed": false
   },
   "outputs": [],
   "source": [
    "basePreProcessedQueries = PreProcessedQueries('/data/matthew/enwiki-20141208-pages-articles-multistream.xml')"
   ]
  },
  {
   "cell_type": "code",
   "execution_count": null,
   "metadata": {
    "collapsed": false
   },
   "outputs": [],
   "source": [
    "class EntityVectorLinkExp(basePreProcessedQueries):\n",
    "    \n",
    "    batch_size = 200\n",
    "    \n",
    "    def __init__(self): #, wikipedia_dump_fname, wordvec=wordvectors, queries=queries, redirects=page_redirects):\n",
    "        #self.wordvecs = wordvec\n",
    "        #self.queries = queries\n",
    "        self.sentence_length = self.wordvecs.sentence_length\n",
    "        self.num_words_to_use_conv = 3\n",
    "        #self.redirects = redirects\n",
    "        #self.page_content = {}\n",
    "        #self.wikipedia_dump_fname = wikipedia_dump_fname\n",
    "        \n",
    "        #self._process_queries()\n",
    "        \n",
    "        self._setup()\n",
    "        \n",
    "#     def _process_queries(self):\n",
    "#         queried_pages = set()\n",
    "#         for docs, q in self.queries.iteritems():\n",
    "#             self.wordvecs.tokenize(docs)\n",
    "#             for sur, v in q.iteritems():\n",
    "#                 self.wordvecs.tokenize(sur)\n",
    "#                 for link in v['vals'].keys():\n",
    "#                     self.wordvecs.tokenize(link)\n",
    "#                     tt = WikiRegexes.convertToTitle(link)\n",
    "#                     #self.wordvecs.tokenize(tt)\n",
    "#                     queried_pages.add(tt)\n",
    "\n",
    "#         added_pages = set()\n",
    "#         for title in queried_pages:\n",
    "#             if title in self.redirects:\n",
    "#                 #self.wordvecs.tokenize(self.redirects[title])\n",
    "#                 added_pages.add(self.redirects[title])\n",
    "#         queried_pages |= added_pages\n",
    "        \n",
    "#         self.queried_pages = queried_pages\n",
    "                \n",
    "#         class GetWikipediaWords(WikipediaReader, WikiRegexes):\n",
    "            \n",
    "#             def readPage(ss, title, content):\n",
    "#                 tt = ss.convertToTitle(title)\n",
    "#                 if tt in queried_pages:\n",
    "#                     cnt = ss._wikiToText(content)\n",
    "#                     self.page_content[tt] = self.wordvecs.tokenize(cnt)\n",
    "        \n",
    "#         GetWikipediaWords(self.wikipedia_dump_fname).read()\n",
    "               \n",
    "        \n",
    "    def _setup(self):\n",
    "        self.x_document_input = T.imatrix('x_sent')\n",
    "        self.x_surface_text_input = T.imatrix('x_surface')\n",
    "        self.x_target_input = T.imatrix('x_target')\n",
    "        self.x_document_id = T.ivector('x_sent_id')\n",
    "        self.x_link_id = T.ivector('x_link_id')\n",
    "        self.y_score = T.vector('y')\n",
    "        \n",
    "        self.embedding_W = theano.shared(self.wordvecs.get_numpy_matrix().astype(theano.config.floatX))\n",
    "        \n",
    "        self.document_l = lasagne.layers.InputLayer(\n",
    "            (None,self.sentence_length), \n",
    "            input_var=self.x_document_input\n",
    "        )\n",
    "    \n",
    "        self.document_embedding_l = EmbeddingLayer(\n",
    "            self.document_l,\n",
    "            W=self.embedding_W,\n",
    "            add_word_params=False,\n",
    "        )\n",
    "        \n",
    "        self.document_conv1_l = lasagne.layers.Conv2DLayer(\n",
    "            self.document_embedding_l,\n",
    "            num_filters=350,\n",
    "            filter_size=(self.num_words_to_use_conv, self.wordvecs.vector_size),\n",
    "            name='document_conv1',\n",
    "            nonlinearity=lasagne.nonlinearities.rectify,\n",
    "        )\n",
    "        \n",
    "        self.document_max_l = lasagne.layers.Pool2DLayer(\n",
    "            self.document_conv1_l,\n",
    "            name='document_pool1',\n",
    "            pool_size=(self.sentence_length - self.num_words_to_use_conv, 1),\n",
    "            mode='max',\n",
    "        )\n",
    "\n",
    "        self.document_dens1 = lasagne.layers.DenseLayer(\n",
    "            self.document_max_l,\n",
    "            num_units=300,\n",
    "            name='doucment_dens1',\n",
    "            nonlinearity=lasagne.nonlinearities.tanh,\n",
    "        )\n",
    "        \n",
    "        self.document_drop1 = lasagne.layers.DropoutLayer(\n",
    "            self.document_dens1,\n",
    "            p=.25,\n",
    "        )\n",
    "        \n",
    "        document_output_length = 250\n",
    "        \n",
    "        self.document_dens2 = lasagne.layers.DenseLayer(\n",
    "            self.document_drop1,\n",
    "            num_units=document_output_length,\n",
    "            name='document_dens2',\n",
    "            nonlinearity=lasagne.nonlinearities.tanh,\n",
    "        )\n",
    "        \n",
    "        self.document_output = lasagne.layers.get_output(self.document_dens2)\n",
    "                \n",
    "        self.surface_input_l = lasagne.layers.InputLayer(\n",
    "            (None, self.sentence_length), \n",
    "            input_var=self.x_surface_text_input\n",
    "        )\n",
    "        \n",
    "        self.surface_embedding_l = EmbeddingLayer(\n",
    "            self.surface_input_l,\n",
    "            W=self.embedding_W,\n",
    "            add_word_params=False,\n",
    "        )\n",
    "        \n",
    "        self.surface_conv1_l = lasagne.layers.Conv2DLayer(\n",
    "            self.surface_embedding_l,\n",
    "            num_filters=350,\n",
    "            filter_size=(self.num_words_to_use_conv, self.wordvecs.vector_size),\n",
    "            name='surface_conv1',\n",
    "            nonlinearity=lasagne.nonlinearities.tanh,\n",
    "        )\n",
    "        \n",
    "        self.surface_dens1 = lasagne.layers.DenseLayer(\n",
    "            self.surface_conv1_l,\n",
    "            name='surface_dens1',\n",
    "            num_units=300,\n",
    "            nonlinearity=lasagne.nonlinearities.tanh,\n",
    "        )\n",
    "        \n",
    "        self.surface_drop1 = lasagne.layers.DropoutLayer(\n",
    "            self.surface_dens1,\n",
    "            p=.25,\n",
    "        )\n",
    "        \n",
    "        self.surface_dens2 = lasagne.layers.DenseLayer(\n",
    "            self.surface_drop1,\n",
    "            name='surface_dens2',\n",
    "            num_units=250,\n",
    "            nonlinearity=lasagne.nonlinearities.tanh,\n",
    "        )\n",
    "        \n",
    "        self.document_aligned_l = InputLayer(\n",
    "            (None, document_output_length),\n",
    "            input_var=self.document_output[self.x_document_id,:]\n",
    "        )\n",
    "        \n",
    "        self.source_l = lasagne.layers.ConcatLayer(\n",
    "            [self.document_aligned_l, self.surface_dens2]\n",
    "        )\n",
    "        \n",
    "        self.source_dens1 = lasagne.layers.DenseLayer(\n",
    "            self.source_l,\n",
    "            num_units=300,\n",
    "            name='source_dens1',\n",
    "            nonlinearity=lasagne.nonlinearities.tanh,\n",
    "        )\n",
    "        \n",
    "        self.source_drop1 = lasagne.layers.DropoutLayer(\n",
    "            self.source_dens1,\n",
    "            p=.25,\n",
    "        )\n",
    "        \n",
    "        self.source_dens2 = lasagne.layers.DenseLayer(\n",
    "            self.source_drop1,\n",
    "            num_units=300,\n",
    "            name='source_dens2',\n",
    "            nonlinearity=lasagne.nonlinearities.tanh,\n",
    "        )\n",
    "        \n",
    "        self.source_out = lasagne.layers.get_output(self.source_dens2)\n",
    "        \n",
    "        self.target_input_l = lasagne.layers.InputLayer(\n",
    "            (None,self.sentence_length), \n",
    "            input_var=self.x_target_input\n",
    "        )\n",
    "        \n",
    "        self.target_embedding_l = EmbeddingLayer(\n",
    "            self.target_input_l,\n",
    "            W=self.embedding_W,\n",
    "            add_word_params=False,\n",
    "        )\n",
    "        \n",
    "        self.target_conv1_l = lasagne.layers.Conv2DLayer(\n",
    "            self.target_embedding_l,\n",
    "            name='target_conv1',\n",
    "            filter_size=(self.num_words_to_use_conv, self.wordvecs.vector_size),\n",
    "            num_filters=300,\n",
    "            nonlinearity=lasagne.nonlinearities.tanh,\n",
    "        )\n",
    "        \n",
    "        self.target_dens1 = lasagne.layers.DenseLayer(\n",
    "            self.target_conv1_l,\n",
    "            name='target_dens1',\n",
    "            num_units=300,\n",
    "            nonlinearity=lasagne.nonlinearities.tanh,\n",
    "        )\n",
    "        \n",
    "        self.target_drop1 = lasagne.layers.DropoutLayer(\n",
    "            self.target_dens1,\n",
    "            p=.25,\n",
    "        )\n",
    "        \n",
    "        self.target_dens2 = lasagne.layers.DenseLayer(\n",
    "            self.target_drop1,\n",
    "            name='target_dens2',\n",
    "            num_units=300,\n",
    "            nonlinearity=lasagne.nonlinearities.tanh,\n",
    "        )\n",
    "        \n",
    "        self.target_out = lasagne.layers.get_output(self.target_dens2)\n",
    "        \n",
    "        # compute the cosine distance between the two layers\n",
    "        self.source_aligned_l = self.source_out[self.x_link_id, :]\n",
    "        \n",
    "        # this uses scan internally, which means that it comes back into python code to run the loop.....fml\n",
    "        self.dotted_vectors =  T.batched_dot(self.target_out, self.source_aligned_l)\n",
    "        # diag also does not support a C version.........\n",
    "        #self.dotted_vectors = T.dot(self.target_out, self.source_aligned_l.T).diagonal()\n",
    "        \n",
    "        self.res_l = self.dotted_vectors / ((self.target_out.norm(1, axis=1) + .001) * \n",
    "                                            (self.source_aligned_l.norm(1, axis=1) + .001))\n",
    "        \n",
    "        self.all_params = (\n",
    "            lasagne.layers.get_all_params(self.target_dens2) + \n",
    "            lasagne.layers.get_all_params(self.source_dens2) +\n",
    "            lasagne.layers.get_all_params(self.document_dens2)\n",
    "        )\n",
    "        \n",
    "        self.loss_vec = T.nnet.binary_crossentropy(T.clip(self.res_l, .001, .999), self.y_score)\n",
    "        \n",
    "        self.updates = lasagne.updates.sgd(self.loss_vec.mean(), self.all_params, 0.1)\n",
    "        \n",
    "        self.train_func = theano.function(\n",
    "            [self.x_document_input,\n",
    "             self.x_surface_text_input, self.x_document_id,\n",
    "             self.x_target_input, self.x_link_id, self.y_score],\n",
    "            [self.res_l, self.loss_vec.sum(), self.loss_vec],\n",
    "            updates=self.updates\n",
    "        )\n",
    "        \n",
    "        self.test_func = theano.function(\n",
    "            [self.x_document_input,\n",
    "             self.x_surface_text_input, self.x_document_id,\n",
    "             self.x_target_input, self.x_link_id, self.y_score],\n",
    "            [self.res_l, self.loss_vec.sum(), self.loss_vec],\n",
    "        )\n",
    "        \n",
    "    def reset_accums(self):\n",
    "        self.current_documents = []\n",
    "        self.current_surface_text = []\n",
    "        self.current_link_id = []\n",
    "        self.current_target_input = []\n",
    "        self.current_target_id = []\n",
    "        self.current_target_goal = []\n",
    "        self.learning_targets = []\n",
    "        \n",
    "    def compute_batch(self, isTraining=True):\n",
    "        if isTraining:\n",
    "            func = self.train_func\n",
    "        else:\n",
    "            func = self.test_func\n",
    "        self.reset_accums()\n",
    "        self.total_links = 0\n",
    "        self.total_loss = 0.0\n",
    "        \n",
    "        for doc, queries in self.queries.iteritems():\n",
    "            # skip the testing documents while training and vice versa\n",
    "            if queries.values()[0]['training'] is not isTraining:\n",
    "                continue\n",
    "            docid = len(self.current_documents)\n",
    "            self.current_documents.append(self.wordvecs.tokenize(doc))\n",
    "            for surtxt, targets in queries.iteritems():\n",
    "                self.current_link_id.append(docid)\n",
    "                surid = len(self.current_surface_text)\n",
    "                self.current_surface_text.append(self.wordvecs.tokenize(surtxt))\n",
    "                for target in targets['vals'].keys():\n",
    "                    # skip the items that we don't know the gold for\n",
    "                    if not targets['gold'] and isTraining:\n",
    "                        continue\n",
    "                    isGold = target == targets['gold']\n",
    "                    cnt = self.page_content.get(WikiRegexes.convertToTitle(target), [0]*self.sentence_length)\n",
    "                    self.current_target_input.append(cnt)  # page_content already tokenized\n",
    "                    self.current_target_id.append(surid)\n",
    "                    self.current_target_goal.append(isGold)\n",
    "                    self.learning_targets.append((targets, target))\n",
    "            if len(self.current_target_id) > self.batch_size:\n",
    "                return\n",
    "                self.run_batch(func)\n",
    "        \n",
    "        if len(self.current_target_id) > 0:\n",
    "            self.run_batch(func)\n",
    "            \n",
    "        return self.total_loss / self.total_links\n",
    "        \n",
    "    def run_batch(self, func):\n",
    "        res_vec, loss_sum, loss_vec = func(\n",
    "            self.current_documents,\n",
    "            self.current_surface_text, self.current_link_id,\n",
    "            self.current_target_input, self.current_target_id, self.current_target_goal\n",
    "        )\n",
    "        self.total_links += len(self.current_target_id)\n",
    "        self.total_loss += loss_sum\n",
    "        for i in xrange(len(res_vec)):\n",
    "            # save the results from this pass\n",
    "            l = self.learning_targets[i]\n",
    "            l[0]['vals'][ l[1] ] = res_vec[i]\n",
    "        self.reset_accums()\n",
    "        self.check_params()\n",
    "        \n",
    "    def check_params(self):\n",
    "        if any([np.isnan(v.get_value(borrow=True)).any() for v in self.all_params]):\n",
    "            raise RuntimeError('nan in some of the parameters')\n",
    "        \n",
    "\n",
    "        \n",
    "queries_exp = EntityVectorLinkExp() "
   ]
  },
  {
   "cell_type": "code",
   "execution_count": 105,
   "metadata": {
    "collapsed": true
   },
   "outputs": [],
   "source": [
    "queries_exp.check_params()"
   ]
  },
  {
   "cell_type": "code",
   "execution_count": 106,
   "metadata": {
    "collapsed": false
   },
   "outputs": [],
   "source": [
    "queries_exp.compute_batch()"
   ]
  },
  {
   "cell_type": "code",
   "execution_count": 92,
   "metadata": {
    "collapsed": true
   },
   "outputs": [],
   "source": [
    "gg_res = queries_exp.test_func(\n",
    "    queries_exp.current_documents, \n",
    "    queries_exp.current_surface_text, queries_exp.current_link_id,\n",
    "    queries_exp.current_target_input, queries_exp.current_target_id, queries_exp.current_target_goal\n",
    ")"
   ]
  },
  {
   "cell_type": "code",
   "execution_count": 98,
   "metadata": {
    "collapsed": false
   },
   "outputs": [
    {
     "data": {
      "text/plain": [
       "-0.14460148"
      ]
     },
     "execution_count": 98,
     "metadata": {},
     "output_type": "execute_result"
    }
   ],
   "source": []
  },
  {
   "cell_type": "code",
   "execution_count": 95,
   "metadata": {
    "collapsed": false
   },
   "outputs": [
    {
     "data": {
      "text/plain": [
       "False"
      ]
     },
     "execution_count": 95,
     "metadata": {},
     "output_type": "execute_result"
    }
   ],
   "source": [
    "np.isnan(gg_res[0]).any()"
   ]
  },
  {
   "cell_type": "code",
   "execution_count": 36,
   "metadata": {
    "collapsed": false
   },
   "outputs": [
    {
     "data": {
      "text/plain": [
       "0.31486937"
      ]
     },
     "execution_count": 36,
     "metadata": {},
     "output_type": "execute_result"
    }
   ],
   "source": [
    "gg_res[2].mean()"
   ]
  },
  {
   "cell_type": "code",
   "execution_count": 37,
   "metadata": {
    "collapsed": false
   },
   "outputs": [
    {
     "data": {
      "text/plain": [
       "0.011132491"
      ]
     },
     "execution_count": 37,
     "metadata": {},
     "output_type": "execute_result"
    }
   ],
   "source": [
    "gg_res[0].mean()"
   ]
  },
  {
   "cell_type": "code",
   "execution_count": 88,
   "metadata": {
    "collapsed": false
   },
   "outputs": [
    {
     "data": {
      "text/plain": [
       "[(target_conv1.W, True),\n",
       " (target_conv1.b, True),\n",
       " (target_dens1.W, True),\n",
       " (target_dens1.b, True),\n",
       " (target_dens2.W, True),\n",
       " (target_dens2.b, True),\n",
       " (surface_conv1.W, False),\n",
       " (surface_conv1.b, False),\n",
       " (surface_dens1.W, False),\n",
       " (surface_dens1.b, False),\n",
       " (surface_dens2.W, False),\n",
       " (surface_dens2.b, False),\n",
       " (source_dens1.W, False),\n",
       " (source_dens1.b, False),\n",
       " (source_dens2.W, False),\n",
       " (source_dens2.b, False),\n",
       " (document_conv1.W, False),\n",
       " (document_conv1.b, False),\n",
       " (doucment_dens1.W, False),\n",
       " (doucment_dens1.b, False),\n",
       " (document_dens2.W, False),\n",
       " (document_dens2.b, False)]"
      ]
     },
     "execution_count": 88,
     "metadata": {},
     "output_type": "execute_result"
    }
   ],
   "source": [
    "[(v, np.isnan(v.get_value(borrow=True)).all()) for v in queries_exp.all_params]"
   ]
  },
  {
   "cell_type": "code",
   "execution_count": 45,
   "metadata": {
    "collapsed": false
   },
   "outputs": [
    {
     "data": {
      "text/plain": [
       "0"
      ]
     },
     "execution_count": 45,
     "metadata": {},
     "output_type": "execute_result"
    }
   ],
   "source": [
    "queries_exp.total_links"
   ]
  },
  {
   "cell_type": "code",
   "execution_count": 110,
   "metadata": {
    "collapsed": false
   },
   "outputs": [
    {
     "name": "stdout",
     "output_type": "stream",
     "text": [
      "The output file is available at /home/matthew/.theano/compiledir_Linux-3.10-el7.mfl.x86_64-x86_64-with-centos-7.1.1503-Core-x86_64-2.7.5-64/theano.pydotprint.cpu.png\n"
     ]
    }
   ],
   "source": [
    "theano.printing.pydotprint(T.grad(queries_exp.loss_vec.mean(), queries_exp.all_params))"
   ]
  },
  {
   "cell_type": "code",
   "execution_count": 111,
   "metadata": {
    "collapsed": false
   },
   "outputs": [],
   "source": [
    "gg_func = theano.function(\n",
    "            [queries_exp.x_document_input,\n",
    "             queries_exp.x_surface_text_input, queries_exp.x_document_id,\n",
    "             queries_exp.x_target_input, queries_exp.x_link_id, queries_exp.y_score],\n",
    "            T.grad(queries_exp.loss_vec.mean(), queries_exp.all_params),\n",
    "    #             [queries_exp.target_out, queries_exp.source_aligned_l, \n",
    "#              T.dot(queries_exp.target_out, queries_exp.source_aligned_l.T).diagonal(),\n",
    "#              queries_exp.target_out.norm(2, axis=1) * queries_exp.source_aligned_l.norm(2, axis=1),\n",
    "#              T.batched_dot(queries_exp.target_out, queries_exp.source_aligned_l),\n",
    "#              lasagne.layers.get_output(queries_exp.target_dens2),\n",
    "#              queries_exp.target_out.norm(2, axis=1),\n",
    "#              #T.grad(queries_exp.loss_vec.mean(), queries_exp.all_params)\n",
    "#             ],\n",
    "        #[queries_exp.res_l, queries_exp.loss_vec.sum(), queries_exp.loss_vec],\n",
    "    on_unused_input='ignore',\n",
    "    mode='DebugMode'\n",
    "        )"
   ]
  },
  {
   "cell_type": "code",
   "execution_count": 112,
   "metadata": {
    "collapsed": false
   },
   "outputs": [
    {
     "ename": "ZeroDivisionError",
     "evalue": "0.0 cannot be raised to a negative power",
     "output_type": "error",
     "traceback": [
      "\u001b[1;31m---------------------------------------------------------------------------\u001b[0m",
      "\u001b[1;31mZeroDivisionError\u001b[0m                         Traceback (most recent call last)",
      "\u001b[1;32m<ipython-input-112-14ebb9b3d815>\u001b[0m in \u001b[0;36m<module>\u001b[1;34m()\u001b[0m\n\u001b[0;32m      2\u001b[0m     \u001b[0mqueries_exp\u001b[0m\u001b[1;33m.\u001b[0m\u001b[0mcurrent_documents\u001b[0m\u001b[1;33m,\u001b[0m\u001b[1;33m\u001b[0m\u001b[0m\n\u001b[0;32m      3\u001b[0m     \u001b[0mqueries_exp\u001b[0m\u001b[1;33m.\u001b[0m\u001b[0mcurrent_surface_text\u001b[0m\u001b[1;33m,\u001b[0m \u001b[0mqueries_exp\u001b[0m\u001b[1;33m.\u001b[0m\u001b[0mcurrent_link_id\u001b[0m\u001b[1;33m,\u001b[0m\u001b[1;33m\u001b[0m\u001b[0m\n\u001b[1;32m----> 4\u001b[1;33m     \u001b[0mqueries_exp\u001b[0m\u001b[1;33m.\u001b[0m\u001b[0mcurrent_target_input\u001b[0m\u001b[1;33m,\u001b[0m \u001b[0mqueries_exp\u001b[0m\u001b[1;33m.\u001b[0m\u001b[0mcurrent_target_id\u001b[0m\u001b[1;33m,\u001b[0m \u001b[0mqueries_exp\u001b[0m\u001b[1;33m.\u001b[0m\u001b[0mcurrent_target_goal\u001b[0m\u001b[1;33m\u001b[0m\u001b[0m\n\u001b[0m\u001b[0;32m      5\u001b[0m )\n",
      "\u001b[1;32m/home/matthew/.virtualenvs/nlp-convnet/lib/python2.7/site-packages/theano/compile/function_module.pyc\u001b[0m in \u001b[0;36m__call__\u001b[1;34m(self, *args, **kwargs)\u001b[0m\n\u001b[0;32m    605\u001b[0m         \u001b[0mt0_fn\u001b[0m \u001b[1;33m=\u001b[0m \u001b[0mtime\u001b[0m\u001b[1;33m.\u001b[0m\u001b[0mtime\u001b[0m\u001b[1;33m(\u001b[0m\u001b[1;33m)\u001b[0m\u001b[1;33m\u001b[0m\u001b[0m\n\u001b[0;32m    606\u001b[0m         \u001b[1;32mtry\u001b[0m\u001b[1;33m:\u001b[0m\u001b[1;33m\u001b[0m\u001b[0m\n\u001b[1;32m--> 607\u001b[1;33m             \u001b[0moutputs\u001b[0m \u001b[1;33m=\u001b[0m \u001b[0mself\u001b[0m\u001b[1;33m.\u001b[0m\u001b[0mfn\u001b[0m\u001b[1;33m(\u001b[0m\u001b[1;33m)\u001b[0m\u001b[1;33m\u001b[0m\u001b[0m\n\u001b[0m\u001b[0;32m    608\u001b[0m         \u001b[1;32mexcept\u001b[0m \u001b[0mException\u001b[0m\u001b[1;33m:\u001b[0m\u001b[1;33m\u001b[0m\u001b[0m\n\u001b[0;32m    609\u001b[0m             \u001b[1;32mif\u001b[0m \u001b[0mhasattr\u001b[0m\u001b[1;33m(\u001b[0m\u001b[0mself\u001b[0m\u001b[1;33m.\u001b[0m\u001b[0mfn\u001b[0m\u001b[1;33m,\u001b[0m \u001b[1;34m'position_of_error'\u001b[0m\u001b[1;33m)\u001b[0m\u001b[1;33m:\u001b[0m\u001b[1;33m\u001b[0m\u001b[0m\n",
      "\u001b[1;32m/home/matthew/.virtualenvs/nlp-convnet/lib/python2.7/site-packages/theano/compile/debugmode.pyc\u001b[0m in \u001b[0;36mdeco\u001b[1;34m()\u001b[0m\n\u001b[0;32m   2213\u001b[0m                     \u001b[0mself\u001b[0m\u001b[1;33m.\u001b[0m\u001b[0mmaker\u001b[0m\u001b[1;33m.\u001b[0m\u001b[0mmode\u001b[0m\u001b[1;33m.\u001b[0m\u001b[0mcheck_isfinite\u001b[0m\u001b[1;33m\u001b[0m\u001b[0m\n\u001b[0;32m   2214\u001b[0m                 \u001b[1;32mtry\u001b[0m\u001b[1;33m:\u001b[0m\u001b[1;33m\u001b[0m\u001b[0m\n\u001b[1;32m-> 2215\u001b[1;33m                     \u001b[1;32mreturn\u001b[0m \u001b[0mf\u001b[0m\u001b[1;33m(\u001b[0m\u001b[1;33m)\u001b[0m\u001b[1;33m\u001b[0m\u001b[0m\n\u001b[0m\u001b[0;32m   2216\u001b[0m                 \u001b[1;32mfinally\u001b[0m\u001b[1;33m:\u001b[0m\u001b[1;33m\u001b[0m\u001b[0m\n\u001b[0;32m   2217\u001b[0m                     \u001b[1;31m# put back the filter_checks_isfinite\u001b[0m\u001b[1;33m\u001b[0m\u001b[1;33m\u001b[0m\u001b[0m\n",
      "\u001b[1;32m/home/matthew/.virtualenvs/nlp-convnet/lib/python2.7/site-packages/theano/compile/debugmode.pyc\u001b[0m in \u001b[0;36mf\u001b[1;34m()\u001b[0m\n\u001b[0;32m   1917\u001b[0m                                       \"output storage\", i)\n\u001b[0;32m   1918\u001b[0m                         \u001b[1;32mtry\u001b[0m\u001b[1;33m:\u001b[0m\u001b[1;33m\u001b[0m\u001b[0m\n\u001b[1;32m-> 1919\u001b[1;33m                             \u001b[0mthunk_py\u001b[0m\u001b[1;33m(\u001b[0m\u001b[1;33m)\u001b[0m\u001b[1;33m\u001b[0m\u001b[0m\n\u001b[0m\u001b[0;32m   1920\u001b[0m                         \u001b[1;32mexcept\u001b[0m \u001b[0mutils\u001b[0m\u001b[1;33m.\u001b[0m\u001b[0mMethodNotDefined\u001b[0m\u001b[1;33m:\u001b[0m\u001b[1;33m\u001b[0m\u001b[0m\n\u001b[0;32m   1921\u001b[0m                             \u001b[1;31m# shouldn't have put it into the list in\u001b[0m\u001b[1;33m\u001b[0m\u001b[1;33m\u001b[0m\u001b[0m\n",
      "\u001b[1;32m/home/matthew/.virtualenvs/nlp-convnet/lib/python2.7/site-packages/theano/gof/op.pyc\u001b[0m in \u001b[0;36mrval\u001b[1;34m(p, i, o, n)\u001b[0m\n\u001b[0;32m    759\u001b[0m             \u001b[1;31m# default arguments are stored in the closure of `rval`\u001b[0m\u001b[1;33m\u001b[0m\u001b[1;33m\u001b[0m\u001b[0m\n\u001b[0;32m    760\u001b[0m             \u001b[1;32mdef\u001b[0m \u001b[0mrval\u001b[0m\u001b[1;33m(\u001b[0m\u001b[0mp\u001b[0m\u001b[1;33m=\u001b[0m\u001b[0mp\u001b[0m\u001b[1;33m,\u001b[0m \u001b[0mi\u001b[0m\u001b[1;33m=\u001b[0m\u001b[0mnode_input_storage\u001b[0m\u001b[1;33m,\u001b[0m \u001b[0mo\u001b[0m\u001b[1;33m=\u001b[0m\u001b[0mnode_output_storage\u001b[0m\u001b[1;33m,\u001b[0m \u001b[0mn\u001b[0m\u001b[1;33m=\u001b[0m\u001b[0mnode\u001b[0m\u001b[1;33m)\u001b[0m\u001b[1;33m:\u001b[0m\u001b[1;33m\u001b[0m\u001b[0m\n\u001b[1;32m--> 761\u001b[1;33m                 \u001b[0mr\u001b[0m \u001b[1;33m=\u001b[0m \u001b[0mp\u001b[0m\u001b[1;33m(\u001b[0m\u001b[0mn\u001b[0m\u001b[1;33m,\u001b[0m \u001b[1;33m[\u001b[0m\u001b[0mx\u001b[0m\u001b[1;33m[\u001b[0m\u001b[1;36m0\u001b[0m\u001b[1;33m]\u001b[0m \u001b[1;32mfor\u001b[0m \u001b[0mx\u001b[0m \u001b[1;32min\u001b[0m \u001b[0mi\u001b[0m\u001b[1;33m]\u001b[0m\u001b[1;33m,\u001b[0m \u001b[0mo\u001b[0m\u001b[1;33m)\u001b[0m\u001b[1;33m\u001b[0m\u001b[0m\n\u001b[0m\u001b[0;32m    762\u001b[0m                 \u001b[1;32mfor\u001b[0m \u001b[0mo\u001b[0m \u001b[1;32min\u001b[0m \u001b[0mnode\u001b[0m\u001b[1;33m.\u001b[0m\u001b[0moutputs\u001b[0m\u001b[1;33m:\u001b[0m\u001b[1;33m\u001b[0m\u001b[0m\n\u001b[0;32m    763\u001b[0m                     \u001b[0mcompute_map\u001b[0m\u001b[1;33m[\u001b[0m\u001b[0mo\u001b[0m\u001b[1;33m]\u001b[0m\u001b[1;33m[\u001b[0m\u001b[1;36m0\u001b[0m\u001b[1;33m]\u001b[0m \u001b[1;33m=\u001b[0m \u001b[0mTrue\u001b[0m\u001b[1;33m\u001b[0m\u001b[0m\n",
      "\u001b[1;32m/home/matthew/.virtualenvs/nlp-convnet/lib/python2.7/site-packages/theano/tensor/elemwise.pyc\u001b[0m in \u001b[0;36mperform\u001b[1;34m(self, node, inputs, output_storage)\u001b[0m\n\u001b[0;32m    858\u001b[0m             \u001b[0mnout\u001b[0m \u001b[1;33m=\u001b[0m \u001b[0mufunc\u001b[0m\u001b[1;33m.\u001b[0m\u001b[0mnout\u001b[0m\u001b[1;33m\u001b[0m\u001b[0m\n\u001b[0;32m    859\u001b[0m \u001b[1;33m\u001b[0m\u001b[0m\n\u001b[1;32m--> 860\u001b[1;33m         \u001b[0mvariables\u001b[0m \u001b[1;33m=\u001b[0m \u001b[0mufunc\u001b[0m\u001b[1;33m(\u001b[0m\u001b[1;33m*\u001b[0m\u001b[0mufunc_args\u001b[0m\u001b[1;33m,\u001b[0m \u001b[1;33m**\u001b[0m\u001b[0mufunc_kwargs\u001b[0m\u001b[1;33m)\u001b[0m\u001b[1;33m\u001b[0m\u001b[0m\n\u001b[0m\u001b[0;32m    861\u001b[0m \u001b[1;33m\u001b[0m\u001b[0m\n\u001b[0;32m    862\u001b[0m         \u001b[1;32mif\u001b[0m \u001b[0mnout\u001b[0m \u001b[1;33m==\u001b[0m \u001b[1;36m1\u001b[0m\u001b[1;33m:\u001b[0m\u001b[1;33m\u001b[0m\u001b[0m\n",
      "\u001b[1;32m/home/matthew/.virtualenvs/nlp-convnet/lib/python2.7/site-packages/theano/scalar/basic.pyc\u001b[0m in \u001b[0;36mimpl\u001b[1;34m(self, x, y)\u001b[0m\n\u001b[0;32m   1800\u001b[0m \u001b[1;32mclass\u001b[0m \u001b[0mPow\u001b[0m\u001b[1;33m(\u001b[0m\u001b[0mBinaryScalarOp\u001b[0m\u001b[1;33m)\u001b[0m\u001b[1;33m:\u001b[0m\u001b[1;33m\u001b[0m\u001b[0m\n\u001b[0;32m   1801\u001b[0m     \u001b[1;32mdef\u001b[0m \u001b[0mimpl\u001b[0m\u001b[1;33m(\u001b[0m\u001b[0mself\u001b[0m\u001b[1;33m,\u001b[0m \u001b[0mx\u001b[0m\u001b[1;33m,\u001b[0m \u001b[0my\u001b[0m\u001b[1;33m)\u001b[0m\u001b[1;33m:\u001b[0m\u001b[1;33m\u001b[0m\u001b[0m\n\u001b[1;32m-> 1802\u001b[1;33m         \u001b[1;32mreturn\u001b[0m \u001b[0mx\u001b[0m \u001b[1;33m**\u001b[0m \u001b[0my\u001b[0m\u001b[1;33m\u001b[0m\u001b[0m\n\u001b[0m\u001b[0;32m   1803\u001b[0m \u001b[1;33m\u001b[0m\u001b[0m\n\u001b[0;32m   1804\u001b[0m     \u001b[1;32mdef\u001b[0m \u001b[0mc_code\u001b[0m\u001b[1;33m(\u001b[0m\u001b[0mself\u001b[0m\u001b[1;33m,\u001b[0m \u001b[0mnode\u001b[0m\u001b[1;33m,\u001b[0m \u001b[0mname\u001b[0m\u001b[1;33m,\u001b[0m \u001b[0minputs\u001b[0m\u001b[1;33m,\u001b[0m \u001b[0moutputs\u001b[0m\u001b[1;33m,\u001b[0m \u001b[0msub\u001b[0m\u001b[1;33m)\u001b[0m\u001b[1;33m:\u001b[0m\u001b[1;33m\u001b[0m\u001b[0m\n",
      "\u001b[1;31mZeroDivisionError\u001b[0m: 0.0 cannot be raised to a negative power"
     ]
    }
   ],
   "source": [
    "gg_grad_res = gg_func(\n",
    "    queries_exp.current_documents,\n",
    "    queries_exp.current_surface_text, queries_exp.current_link_id,\n",
    "    queries_exp.current_target_input, queries_exp.current_target_id, queries_exp.current_target_goal\n",
    ")"
   ]
  },
  {
   "cell_type": "code",
   "execution_count": 109,
   "metadata": {
    "collapsed": false
   },
   "outputs": [
    {
     "data": {
      "text/plain": [
       "[array([[[[ nan,  nan,  nan, ...,  nan,  nan,  nan],\n",
       "          [ nan,  nan,  nan, ...,  nan,  nan,  nan],\n",
       "          [ nan,  nan,  nan, ...,  nan,  nan,  nan]]],\n",
       " \n",
       " \n",
       "        [[[ nan,  nan,  nan, ...,  nan,  nan,  nan],\n",
       "          [ nan,  nan,  nan, ...,  nan,  nan,  nan],\n",
       "          [ nan,  nan,  nan, ...,  nan,  nan,  nan]]],\n",
       " \n",
       " \n",
       "        [[[ nan,  nan,  nan, ...,  nan,  nan,  nan],\n",
       "          [ nan,  nan,  nan, ...,  nan,  nan,  nan],\n",
       "          [ nan,  nan,  nan, ...,  nan,  nan,  nan]]],\n",
       " \n",
       " \n",
       "        ..., \n",
       "        [[[ nan,  nan,  nan, ...,  nan,  nan,  nan],\n",
       "          [ nan,  nan,  nan, ...,  nan,  nan,  nan],\n",
       "          [ nan,  nan,  nan, ...,  nan,  nan,  nan]]],\n",
       " \n",
       " \n",
       "        [[[ nan,  nan,  nan, ...,  nan,  nan,  nan],\n",
       "          [ nan,  nan,  nan, ...,  nan,  nan,  nan],\n",
       "          [ nan,  nan,  nan, ...,  nan,  nan,  nan]]],\n",
       " \n",
       " \n",
       "        [[[ nan,  nan,  nan, ...,  nan,  nan,  nan],\n",
       "          [ nan,  nan,  nan, ...,  nan,  nan,  nan],\n",
       "          [ nan,  nan,  nan, ...,  nan,  nan,  nan]]]], dtype=float32),\n",
       " array([ nan,  nan,  nan,  nan,  nan,  nan,  nan,  nan,  nan,  nan,  nan,\n",
       "         nan,  nan,  nan,  nan,  nan,  nan,  nan,  nan,  nan,  nan,  nan,\n",
       "         nan,  nan,  nan,  nan,  nan,  nan,  nan,  nan,  nan,  nan,  nan,\n",
       "         nan,  nan,  nan,  nan,  nan,  nan,  nan,  nan,  nan,  nan,  nan,\n",
       "         nan,  nan,  nan,  nan,  nan,  nan,  nan,  nan,  nan,  nan,  nan,\n",
       "         nan,  nan,  nan,  nan,  nan,  nan,  nan,  nan,  nan,  nan,  nan,\n",
       "         nan,  nan,  nan,  nan,  nan,  nan,  nan,  nan,  nan,  nan,  nan,\n",
       "         nan,  nan,  nan,  nan,  nan,  nan,  nan,  nan,  nan,  nan,  nan,\n",
       "         nan,  nan,  nan,  nan,  nan,  nan,  nan,  nan,  nan,  nan,  nan,\n",
       "         nan,  nan,  nan,  nan,  nan,  nan,  nan,  nan,  nan,  nan,  nan,\n",
       "         nan,  nan,  nan,  nan,  nan,  nan,  nan,  nan,  nan,  nan,  nan,\n",
       "         nan,  nan,  nan,  nan,  nan,  nan,  nan,  nan,  nan,  nan,  nan,\n",
       "         nan,  nan,  nan,  nan,  nan,  nan,  nan,  nan,  nan,  nan,  nan,\n",
       "         nan,  nan,  nan,  nan,  nan,  nan,  nan,  nan,  nan,  nan,  nan,\n",
       "         nan,  nan,  nan,  nan,  nan,  nan,  nan,  nan,  nan,  nan,  nan,\n",
       "         nan,  nan,  nan,  nan,  nan,  nan,  nan,  nan,  nan,  nan,  nan,\n",
       "         nan,  nan,  nan,  nan,  nan,  nan,  nan,  nan,  nan,  nan,  nan,\n",
       "         nan,  nan,  nan,  nan,  nan,  nan,  nan,  nan,  nan,  nan,  nan,\n",
       "         nan,  nan,  nan,  nan,  nan,  nan,  nan,  nan,  nan,  nan,  nan,\n",
       "         nan,  nan,  nan,  nan,  nan,  nan,  nan,  nan,  nan,  nan,  nan,\n",
       "         nan,  nan,  nan,  nan,  nan,  nan,  nan,  nan,  nan,  nan,  nan,\n",
       "         nan,  nan,  nan,  nan,  nan,  nan,  nan,  nan,  nan,  nan,  nan,\n",
       "         nan,  nan,  nan,  nan,  nan,  nan,  nan,  nan,  nan,  nan,  nan,\n",
       "         nan,  nan,  nan,  nan,  nan,  nan,  nan,  nan,  nan,  nan,  nan,\n",
       "         nan,  nan,  nan,  nan,  nan,  nan,  nan,  nan,  nan,  nan,  nan,\n",
       "         nan,  nan,  nan,  nan,  nan,  nan,  nan,  nan,  nan,  nan,  nan,\n",
       "         nan,  nan,  nan,  nan,  nan,  nan,  nan,  nan,  nan,  nan,  nan,\n",
       "         nan,  nan,  nan], dtype=float32),\n",
       " array([[ nan,  nan,  nan, ...,  nan,  nan,  nan],\n",
       "        [ nan,  nan,  nan, ...,  nan,  nan,  nan],\n",
       "        [ nan,  nan,  nan, ...,  nan,  nan,  nan],\n",
       "        ..., \n",
       "        [ nan,  nan,  nan, ...,  nan,  nan,  nan],\n",
       "        [ nan,  nan,  nan, ...,  nan,  nan,  nan],\n",
       "        [ nan,  nan,  nan, ...,  nan,  nan,  nan]], dtype=float32),\n",
       " array([ nan,  nan,  nan,  nan,  nan,  nan,  nan,  nan,  nan,  nan,  nan,\n",
       "         nan,  nan,  nan,  nan,  nan,  nan,  nan,  nan,  nan,  nan,  nan,\n",
       "         nan,  nan,  nan,  nan,  nan,  nan,  nan,  nan,  nan,  nan,  nan,\n",
       "         nan,  nan,  nan,  nan,  nan,  nan,  nan,  nan,  nan,  nan,  nan,\n",
       "         nan,  nan,  nan,  nan,  nan,  nan,  nan,  nan,  nan,  nan,  nan,\n",
       "         nan,  nan,  nan,  nan,  nan,  nan,  nan,  nan,  nan,  nan,  nan,\n",
       "         nan,  nan,  nan,  nan,  nan,  nan,  nan,  nan,  nan,  nan,  nan,\n",
       "         nan,  nan,  nan,  nan,  nan,  nan,  nan,  nan,  nan,  nan,  nan,\n",
       "         nan,  nan,  nan,  nan,  nan,  nan,  nan,  nan,  nan,  nan,  nan,\n",
       "         nan,  nan,  nan,  nan,  nan,  nan,  nan,  nan,  nan,  nan,  nan,\n",
       "         nan,  nan,  nan,  nan,  nan,  nan,  nan,  nan,  nan,  nan,  nan,\n",
       "         nan,  nan,  nan,  nan,  nan,  nan,  nan,  nan,  nan,  nan,  nan,\n",
       "         nan,  nan,  nan,  nan,  nan,  nan,  nan,  nan,  nan,  nan,  nan,\n",
       "         nan,  nan,  nan,  nan,  nan,  nan,  nan,  nan,  nan,  nan,  nan,\n",
       "         nan,  nan,  nan,  nan,  nan,  nan,  nan,  nan,  nan,  nan,  nan,\n",
       "         nan,  nan,  nan,  nan,  nan,  nan,  nan,  nan,  nan,  nan,  nan,\n",
       "         nan,  nan,  nan,  nan,  nan,  nan,  nan,  nan,  nan,  nan,  nan,\n",
       "         nan,  nan,  nan,  nan,  nan,  nan,  nan,  nan,  nan,  nan,  nan,\n",
       "         nan,  nan,  nan,  nan,  nan,  nan,  nan,  nan,  nan,  nan,  nan,\n",
       "         nan,  nan,  nan,  nan,  nan,  nan,  nan,  nan,  nan,  nan,  nan,\n",
       "         nan,  nan,  nan,  nan,  nan,  nan,  nan,  nan,  nan,  nan,  nan,\n",
       "         nan,  nan,  nan,  nan,  nan,  nan,  nan,  nan,  nan,  nan,  nan,\n",
       "         nan,  nan,  nan,  nan,  nan,  nan,  nan,  nan,  nan,  nan,  nan,\n",
       "         nan,  nan,  nan,  nan,  nan,  nan,  nan,  nan,  nan,  nan,  nan,\n",
       "         nan,  nan,  nan,  nan,  nan,  nan,  nan,  nan,  nan,  nan,  nan,\n",
       "         nan,  nan,  nan,  nan,  nan,  nan,  nan,  nan,  nan,  nan,  nan,\n",
       "         nan,  nan,  nan,  nan,  nan,  nan,  nan,  nan,  nan,  nan,  nan,\n",
       "         nan,  nan,  nan], dtype=float32),\n",
       " array([[ nan,  nan,  nan, ...,  nan,  nan,  nan],\n",
       "        [ nan,  nan,  nan, ...,  nan,  nan,  nan],\n",
       "        [ nan,  nan,  nan, ...,  nan,  nan,  nan],\n",
       "        ..., \n",
       "        [ nan,  nan,  nan, ...,  nan,  nan,  nan],\n",
       "        [ nan,  nan,  nan, ...,  nan,  nan,  nan],\n",
       "        [ nan,  nan,  nan, ...,  nan,  nan,  nan]], dtype=float32),\n",
       " array([ nan,  nan,  nan,  nan,  nan,  nan,  nan,  nan,  nan,  nan,  nan,\n",
       "         nan,  nan,  nan,  nan,  nan,  nan,  nan,  nan,  nan,  nan,  nan,\n",
       "         nan,  nan,  nan,  nan,  nan,  nan,  nan,  nan,  nan,  nan,  nan,\n",
       "         nan,  nan,  nan,  nan,  nan,  nan,  nan,  nan,  nan,  nan,  nan,\n",
       "         nan,  nan,  nan,  nan,  nan,  nan,  nan,  nan,  nan,  nan,  nan,\n",
       "         nan,  nan,  nan,  nan,  nan,  nan,  nan,  nan,  nan,  nan,  nan,\n",
       "         nan,  nan,  nan,  nan,  nan,  nan,  nan,  nan,  nan,  nan,  nan,\n",
       "         nan,  nan,  nan,  nan,  nan,  nan,  nan,  nan,  nan,  nan,  nan,\n",
       "         nan,  nan,  nan,  nan,  nan,  nan,  nan,  nan,  nan,  nan,  nan,\n",
       "         nan,  nan,  nan,  nan,  nan,  nan,  nan,  nan,  nan,  nan,  nan,\n",
       "         nan,  nan,  nan,  nan,  nan,  nan,  nan,  nan,  nan,  nan,  nan,\n",
       "         nan,  nan,  nan,  nan,  nan,  nan,  nan,  nan,  nan,  nan,  nan,\n",
       "         nan,  nan,  nan,  nan,  nan,  nan,  nan,  nan,  nan,  nan,  nan,\n",
       "         nan,  nan,  nan,  nan,  nan,  nan,  nan,  nan,  nan,  nan,  nan,\n",
       "         nan,  nan,  nan,  nan,  nan,  nan,  nan,  nan,  nan,  nan,  nan,\n",
       "         nan,  nan,  nan,  nan,  nan,  nan,  nan,  nan,  nan,  nan,  nan,\n",
       "         nan,  nan,  nan,  nan,  nan,  nan,  nan,  nan,  nan,  nan,  nan,\n",
       "         nan,  nan,  nan,  nan,  nan,  nan,  nan,  nan,  nan,  nan,  nan,\n",
       "         nan,  nan,  nan,  nan,  nan,  nan,  nan,  nan,  nan,  nan,  nan,\n",
       "         nan,  nan,  nan,  nan,  nan,  nan,  nan,  nan,  nan,  nan,  nan,\n",
       "         nan,  nan,  nan,  nan,  nan,  nan,  nan,  nan,  nan,  nan,  nan,\n",
       "         nan,  nan,  nan,  nan,  nan,  nan,  nan,  nan,  nan,  nan,  nan,\n",
       "         nan,  nan,  nan,  nan,  nan,  nan,  nan,  nan,  nan,  nan,  nan,\n",
       "         nan,  nan,  nan,  nan,  nan,  nan,  nan,  nan,  nan,  nan,  nan,\n",
       "         nan,  nan,  nan,  nan,  nan,  nan,  nan,  nan,  nan,  nan,  nan,\n",
       "         nan,  nan,  nan,  nan,  nan,  nan,  nan,  nan,  nan,  nan,  nan,\n",
       "         nan,  nan,  nan,  nan,  nan,  nan,  nan,  nan,  nan,  nan,  nan,\n",
       "         nan,  nan,  nan], dtype=float32),\n",
       " array([[[[ -3.28089343e-04,   3.23642336e-04,  -5.13697250e-06, ...,\n",
       "            -5.75874117e-04,  -5.08109166e-04,  -2.05948454e-04],\n",
       "          [ -8.61980487e-04,   1.36003364e-03,   8.05601187e-04, ...,\n",
       "            -1.24164391e-03,   6.26041146e-04,  -2.22474197e-03],\n",
       "          [ -4.52180021e-03,   4.62255254e-03,   6.41195802e-04, ...,\n",
       "            -6.04938250e-04,  -1.77953485e-03,   2.67627975e-03]]],\n",
       " \n",
       " \n",
       "        [[[  1.73219611e-04,  -2.04320066e-04,  -1.12536982e-05, ...,\n",
       "            -4.00523219e-04,  -5.26987569e-05,  -2.22822433e-04],\n",
       "          [  5.03219671e-05,  -1.91375257e-05,  -3.67057655e-04, ...,\n",
       "             2.70858378e-04,  -3.50796123e-04,   7.05011247e-04],\n",
       "          [  6.45446940e-04,  -2.08810577e-03,  -2.37003071e-04, ...,\n",
       "            -1.35892420e-04,   8.60319589e-04,   1.26354862e-03]]],\n",
       " \n",
       " \n",
       "        [[[ -3.38622951e-04,   7.57778878e-04,  -4.70671475e-05, ...,\n",
       "             5.69290598e-04,  -4.93604894e-05,   5.10719721e-04],\n",
       "          [  7.91070575e-04,  -5.09670004e-04,  -7.00270000e-04, ...,\n",
       "             2.89566489e-03,   4.47174680e-04,   2.24444061e-03],\n",
       "          [  7.38876755e-04,   6.25912566e-04,   2.31608213e-03, ...,\n",
       "             8.35125567e-04,   3.00939684e-03,  -3.10272002e-03]]],\n",
       " \n",
       " \n",
       "        ..., \n",
       "        [[[  3.94115807e-04,  -3.51733906e-04,   1.83699245e-04, ...,\n",
       "             1.46815623e-03,   8.66872026e-04,   4.32879897e-04],\n",
       "          [  9.05068126e-04,  -1.07773335e-03,  -1.03136490e-03, ...,\n",
       "             6.51171606e-04,  -9.05503402e-04,   2.44214828e-03],\n",
       "          [  2.85860989e-03,  -2.01587914e-03,   7.57727830e-04, ...,\n",
       "             2.46577407e-03,   2.81792576e-03,  -3.57498415e-04]]],\n",
       " \n",
       " \n",
       "        [[[ -2.74799531e-04,   1.08727976e-03,  -7.13447371e-05, ...,\n",
       "             1.51761412e-03,   3.83623847e-04,   1.20272883e-03],\n",
       "          [  5.15772204e-04,  -5.09210397e-04,  -4.67464793e-04, ...,\n",
       "             1.10066705e-03,  -8.79995059e-05,   1.32703083e-03],\n",
       "          [  2.96038226e-03,   7.86983815e-04,   2.11702636e-03, ...,\n",
       "            -4.19177406e-04,   1.41210121e-03,  -1.34619698e-03]]],\n",
       " \n",
       " \n",
       "        [[[  2.59803608e-04,  -4.08722030e-04,   3.01006250e-04, ...,\n",
       "             6.97259034e-04,   3.84441519e-04,   3.75755844e-05],\n",
       "          [ -2.62840331e-05,   1.53768400e-04,  -1.22698184e-05, ...,\n",
       "            -2.19870213e-04,   1.89316095e-04,  -4.38248157e-04],\n",
       "          [ -4.49598394e-03,   1.23199541e-03,   4.14854381e-03, ...,\n",
       "            -2.06334400e-03,   2.97875609e-03,   3.06942733e-04]]]], dtype=float32),\n",
       " array([-0.1394406 , -0.18867995, -0.12897219, -0.0110328 , -0.16650894,\n",
       "         0.14573488,  0.03723434, -0.17591421,  0.04058028,  0.04780711,\n",
       "        -0.18244731,  0.12683947, -0.04202519, -0.01220814,  0.29521504,\n",
       "        -0.09686776,  0.25333175,  0.07393831,  0.11997602, -0.0906845 ,\n",
       "         0.18407139, -0.05588621,  0.02442828, -0.24247134, -0.28677809,\n",
       "        -0.14697847,  0.1782892 , -0.11666903, -0.14887303, -0.08044399,\n",
       "        -0.03937617,  0.20417227,  0.02162943,  0.08517444, -0.01390387,\n",
       "        -0.04801613, -0.1390212 ,  0.06139328, -0.13227542, -0.17340162,\n",
       "         0.06586508,  0.19300377,  0.01561145,  0.05888082, -0.11018556,\n",
       "         0.13879171, -0.05949441,  0.1115843 ,  0.00499548,  0.03397696,\n",
       "         0.18804999,  0.06762987,  0.0466559 ,  0.06833022,  0.12172913,\n",
       "         0.10832171, -0.07523549, -0.05238125,  0.06828155, -0.09060279,\n",
       "        -0.07877231,  0.11868184,  0.01895427, -0.09982082,  0.02438205,\n",
       "        -0.0241643 , -0.04781204, -0.02943149,  0.04809219,  0.08669435,\n",
       "         0.01028724,  0.00533279, -0.22258815, -0.07301899,  0.21341488,\n",
       "         0.08298059, -0.08928499,  0.00079101, -0.03185495, -0.01537463,\n",
       "         0.0456756 ,  0.25492588,  0.11667259,  0.12422765,  0.09836492,\n",
       "         0.07149474,  0.11749995,  0.05813837, -0.1503271 ,  0.09784183,\n",
       "         0.10686012,  0.12243965, -0.01917282, -0.00049419, -0.14285302,\n",
       "         0.30273724,  0.05151862, -0.00528223, -0.07553638,  0.20821916,\n",
       "         0.08321813, -0.06840637,  0.15201144, -0.01805081, -0.09319668,\n",
       "        -0.11798096,  0.22328025, -0.27121535,  0.06002989,  0.12718797,\n",
       "         0.21935733, -0.05846626,  0.14430133,  0.17351057, -0.03268061,\n",
       "         0.02723009,  0.11124288,  0.03749141,  0.06287925,  0.05250339,\n",
       "         0.03985805,  0.08662084,  0.08011479,  0.02731304, -0.16868138,\n",
       "         0.00493877, -0.01594638,  0.01788619, -0.05728706,  0.12982881,\n",
       "         0.21231838,  0.24203193, -0.09411447,  0.01647785,  0.00770318,\n",
       "         0.03794716,  0.03264404,  0.09613532, -0.10790887,  0.06794003,\n",
       "         0.05446436,  0.18279679, -0.21642229,  0.05702992,  0.11072363,\n",
       "        -0.08294533, -0.19628561, -0.15390792,  0.15531065, -0.0496958 ,\n",
       "         0.03705169, -0.06789666,  0.0785999 ,  0.09594044,  0.10028995,\n",
       "         0.02767722,  0.0999452 ,  0.07317476,  0.08354033, -0.07363913,\n",
       "         0.04639023, -0.02143801,  0.05812799, -0.21521707, -0.02500401,\n",
       "         0.05943739, -0.09896765, -0.1004777 , -0.12065873,  0.040005  ,\n",
       "         0.14476742, -0.01001753,  0.07876702, -0.14968465,  0.11244997,\n",
       "        -0.06284247, -0.06765002, -0.22407427,  0.05200478,  0.03321747,\n",
       "        -0.00907544, -0.19749999, -0.05356149,  0.00053114,  0.08373214,\n",
       "         0.06659289,  0.05577185, -0.09173025,  0.00562737,  0.03722483,\n",
       "        -0.04910854, -0.03597094, -0.06324058, -0.00465692, -0.00905444,\n",
       "        -0.04890915, -0.01244891, -0.25101975,  0.10872728,  0.0765878 ,\n",
       "        -0.02077356, -0.15018366,  0.00053226,  0.11698866, -0.06212568,\n",
       "         0.16446175,  0.08014595,  0.09161613,  0.06884359, -0.06488338,\n",
       "         0.06723233, -0.01987014, -0.02820368, -0.02594433,  0.1818317 ,\n",
       "         0.0524585 ,  0.14311694, -0.1300938 ,  0.14618659, -0.13555498,\n",
       "         0.07837509,  0.11568729, -0.2182643 , -0.2177684 ,  0.01592355,\n",
       "         0.03163578,  0.13277452, -0.10633545,  0.0873447 , -0.23568691,\n",
       "        -0.11838477, -0.14543425, -0.06572668, -0.13414986,  0.02249175,\n",
       "        -0.0328122 ,  0.2345742 ,  0.04805874,  0.03960577, -0.04074695,\n",
       "        -0.09538496, -0.02722828,  0.16910493,  0.06150379,  0.21245046,\n",
       "         0.03106567,  0.1388724 , -0.11564416, -0.04575329, -0.0361446 ,\n",
       "        -0.10610358, -0.16809624, -0.13267671,  0.05007739, -0.06714568,\n",
       "         0.12186889,  0.00976923,  0.11971432, -0.1114024 ,  0.03878095,\n",
       "        -0.05830604,  0.09322146,  0.03973007, -0.00415889, -0.06199814,\n",
       "        -0.15402545,  0.02490962,  0.1843635 , -0.12456077, -0.02492749,\n",
       "        -0.05603532, -0.03501787,  0.00472374,  0.02141066, -0.00897361,\n",
       "        -0.23850435,  0.0764081 , -0.02739674,  0.09672349, -0.06107935,\n",
       "         0.03319907, -0.06680986, -0.19641465, -0.0539087 , -0.08299314,\n",
       "        -0.09828106,  0.09171522,  0.26282734,  0.03517875, -0.08860862,\n",
       "         0.04079089, -0.18695685, -0.18206847,  0.09398561,  0.20330983,\n",
       "        -0.14564389,  0.14902295, -0.12868349,  0.02040732,  0.04665076,\n",
       "        -0.04185801,  0.06613994, -0.20266123,  0.01781162,  0.0469325 ,\n",
       "        -0.08422284, -0.07216752, -0.17487673, -0.15062504,  0.07271361,\n",
       "        -0.05520356, -0.19959508,  0.07966199,  0.09901001, -0.15774164,\n",
       "         0.12817387,  0.15268186, -0.0875871 ,  0.07123572,  0.05327304,\n",
       "         0.10967505, -0.24655239, -0.04620619,  0.03148224, -0.11217778,\n",
       "         0.00573496, -0.0307298 , -0.04716983, -0.1116319 ,  0.1922255 ,\n",
       "         0.22848478, -0.07615186, -0.05134227,  0.07927206, -0.15365462,\n",
       "        -0.16403125, -0.08016429, -0.07526924,  0.03344363, -0.18116903,\n",
       "        -0.05616225, -0.01050181, -0.07560389,  0.03376737, -0.06658706,\n",
       "         0.14346714, -0.10130388,  0.14261746, -0.03128782, -0.21971133], dtype=float32),\n",
       " array([[ -9.94531074e-05,   7.06929946e-04,   4.16917137e-05, ...,\n",
       "           1.41414430e-03,  -6.86420011e-04,  -2.14053216e-04],\n",
       "        [ -2.61367204e-05,  -3.52546864e-04,  -9.54861825e-05, ...,\n",
       "          -4.86117147e-04,   2.08098034e-04,   1.67829741e-04],\n",
       "        [  5.71475098e-08,   4.15692648e-06,  -2.56829044e-05, ...,\n",
       "          -6.35399774e-05,  -8.91017335e-05,   1.85777590e-05],\n",
       "        ..., \n",
       "        [  0.00000000e+00,   0.00000000e+00,   0.00000000e+00, ...,\n",
       "           0.00000000e+00,   0.00000000e+00,   0.00000000e+00],\n",
       "        [  0.00000000e+00,   0.00000000e+00,   0.00000000e+00, ...,\n",
       "           0.00000000e+00,   0.00000000e+00,   0.00000000e+00],\n",
       "        [  0.00000000e+00,   0.00000000e+00,   0.00000000e+00, ...,\n",
       "           0.00000000e+00,   0.00000000e+00,   0.00000000e+00]], dtype=float32),\n",
       " array([  3.41654643e-02,  -5.71286492e-02,   4.89687212e-02,\n",
       "         -1.29449829e-01,  -8.42126831e-02,   1.00074328e-01,\n",
       "          1.14498794e-01,  -3.24072763e-02,   7.74371549e-02,\n",
       "          3.13977688e-03,  -2.74232179e-01,  -2.98568737e-02,\n",
       "         -1.46092176e-01,   1.73664033e-01,   7.21618086e-02,\n",
       "         -2.04404183e-02,   1.07809298e-01,  -5.10785691e-02,\n",
       "          3.95260602e-02,   1.43470272e-01,  -4.55057062e-02,\n",
       "          2.30299961e-02,  -2.45227311e-02,   8.47652704e-02,\n",
       "          4.70409095e-02,   2.28594337e-02,  -2.04808428e-03,\n",
       "          3.40782031e-02,  -9.37324986e-02,  -1.50434688e-01,\n",
       "         -1.92624070e-02,  -2.44994648e-02,   6.88785985e-02,\n",
       "          1.08559057e-02,  -1.08366471e-03,  -3.02908838e-01,\n",
       "         -2.03120038e-02,   1.93285961e-02,   4.23468985e-02,\n",
       "          1.90351475e-02,  -1.20083101e-01,   1.64070860e-01,\n",
       "          1.19723856e-01,  -4.26460383e-03,  -1.71281487e-01,\n",
       "         -2.53183041e-02,   1.81129962e-01,  -3.53696384e-02,\n",
       "          1.22536626e-02,  -1.55325606e-02,   8.75555500e-02,\n",
       "         -8.53519421e-03,   3.45370285e-02,  -3.73291969e-02,\n",
       "         -6.22215346e-02,  -7.34602436e-02,  -4.63626534e-02,\n",
       "          6.72305003e-02,   1.21355422e-01,   2.67515611e-02,\n",
       "         -7.51529858e-02,   7.67486170e-02,  -2.31112596e-02,\n",
       "         -3.28069590e-02,   7.22580170e-03,  -7.16060307e-03,\n",
       "          2.66055856e-02,  -1.40906572e-01,   3.02420743e-02,\n",
       "         -9.52047110e-02,  -9.80253667e-02,  -1.12283215e-01,\n",
       "          1.33307576e-01,   5.64894639e-02,   1.57009196e-02,\n",
       "          2.66801156e-02,  -4.16479632e-02,  -5.75128682e-02,\n",
       "         -1.07954450e-01,   1.56495497e-01,   6.18060194e-02,\n",
       "         -1.94885973e-02,   2.31831804e-01,  -5.07668704e-02,\n",
       "          8.90525430e-02,  -7.14310259e-02,   1.44591093e-01,\n",
       "          3.97017449e-02,  -6.13394417e-02,   8.45566913e-02,\n",
       "          4.64407876e-02,  -1.64014831e-01,   3.09735816e-02,\n",
       "          7.04665631e-02,   9.76014417e-03,   1.67341530e-01,\n",
       "         -8.34623948e-02,  -1.65481552e-01,   1.16327122e-01,\n",
       "          8.06605369e-02,  -1.11386878e-02,   1.25548556e-01,\n",
       "          3.68886220e-04,  -8.31336230e-02,  -3.64509560e-02,\n",
       "          4.04434390e-02,   3.99507582e-02,  -4.21298714e-03,\n",
       "         -7.46321753e-02,  -1.37198158e-02,   9.31881368e-02,\n",
       "          1.28376454e-01,   6.30360469e-02,  -1.88186355e-02,\n",
       "         -3.27900089e-02,   3.05010006e-02,   9.83254313e-02,\n",
       "          1.24804929e-01,  -2.87342481e-02,  -1.60688713e-01,\n",
       "          4.25621346e-02,  -1.37422249e-01,  -5.59788719e-02,\n",
       "          9.71014351e-02,  -1.00226939e-01,  -1.53083935e-01,\n",
       "          1.57984868e-01,   5.39792217e-02,   1.81277823e-02,\n",
       "          7.95623884e-02,   4.04109769e-02,   7.89377615e-02,\n",
       "          6.55522849e-03,  -1.44662797e-01,   4.11390588e-02,\n",
       "          3.00228447e-02,  -3.56701203e-05,  -7.95827433e-02,\n",
       "         -8.97295121e-03,  -9.31915119e-02,  -1.00300528e-01,\n",
       "          6.25256151e-02,  -1.00489985e-02,  -5.62094571e-03,\n",
       "          1.11145735e-01,  -1.55908972e-01,  -1.18028134e-01,\n",
       "          1.82551876e-01,   8.72618854e-02,  -1.30250156e-01,\n",
       "         -3.08658741e-02,  -5.62395081e-02,   1.61394536e-01,\n",
       "         -1.93353172e-03,  -5.79942539e-02,  -2.31154691e-02,\n",
       "          1.04669733e-02,   6.55911639e-02,  -1.37451485e-01,\n",
       "          1.23353326e-04,   2.77608447e-02,  -1.30565286e-01,\n",
       "         -3.81715223e-02,  -9.00480971e-02,  -8.95104855e-02,\n",
       "         -2.57285517e-02,  -5.53319417e-02,   2.08373331e-02,\n",
       "         -2.03442052e-02,  -1.28453687e-01,  -5.22241145e-02,\n",
       "         -2.88655609e-02,   7.29079172e-02,  -1.81883425e-01,\n",
       "          6.62843511e-02,  -2.25206837e-02,  -1.02439143e-01,\n",
       "         -6.95055425e-02,   1.25390012e-02,   2.79105026e-02,\n",
       "          9.66551993e-03,   2.24028658e-02,  -7.51771182e-02,\n",
       "         -6.79513514e-02,   1.80346340e-01,  -4.91396859e-02,\n",
       "         -8.17314535e-02,   4.91740704e-02,  -1.84864625e-01,\n",
       "          7.98836127e-02,  -9.19580758e-02,  -1.24270208e-01,\n",
       "         -1.50278345e-01,  -6.44148216e-02,  -2.19966751e-02,\n",
       "          1.41100749e-01,  -2.78655533e-02,  -8.62839147e-02,\n",
       "         -1.23909274e-02,   4.26876172e-02,   9.98774841e-02,\n",
       "         -7.73280486e-02,  -1.67469248e-01,  -5.52194864e-02,\n",
       "          7.59528726e-02,   6.75922707e-02,  -6.40510693e-02,\n",
       "         -2.05110665e-03,   8.66929367e-02,  -3.03839557e-02,\n",
       "         -2.52115633e-02,  -1.58528816e-02,  -5.02690561e-02,\n",
       "          6.34857267e-02,   1.95484936e-01,  -1.60572641e-02,\n",
       "         -6.15731813e-02,   8.67691189e-02,  -1.35282231e-02,\n",
       "          3.85322906e-02,  -1.51591487e-02,   1.10369019e-01,\n",
       "          5.79333417e-02,   2.35776640e-02,   1.91164687e-02,\n",
       "         -5.95398284e-02,  -1.79388970e-01,   4.85258177e-03,\n",
       "          1.15722843e-01,   2.30804965e-01,  -6.71527311e-02,\n",
       "         -1.03257969e-02,  -1.91340707e-02,  -1.41345263e-01,\n",
       "          5.99510185e-02,   2.50137355e-02,  -7.55510330e-02,\n",
       "         -5.51844202e-03,  -4.16808836e-02,  -2.24527687e-01,\n",
       "         -1.80839583e-01,  -5.30734845e-02,  -6.69696741e-03,\n",
       "         -5.45417033e-02,  -1.36898151e-02,   1.35243058e-01,\n",
       "          1.50791362e-01,  -4.54678573e-02,  -8.57030153e-02,\n",
       "         -7.97163174e-02,   3.07705700e-02,   1.71004742e-01,\n",
       "         -8.42402279e-02,  -7.95118453e-04,   1.73528984e-01,\n",
       "         -5.19756451e-02,  -1.19056478e-01,   1.37287706e-01,\n",
       "          3.47847193e-02,  -2.03913562e-02,  -8.24383348e-02,\n",
       "          2.31988318e-02,  -1.75271302e-01,   3.85462753e-02,\n",
       "          4.40580621e-02,  -5.69093637e-02,  -2.72368006e-02,\n",
       "         -2.81661674e-02,  -3.37265665e-03,   7.06893057e-02,\n",
       "          1.87610030e-01,  -7.64520243e-02,   2.80111656e-02,\n",
       "         -1.47936851e-01,  -2.89674759e-01,  -5.41804284e-02,\n",
       "         -4.64490056e-02,  -1.63503423e-01,  -6.05035312e-02,\n",
       "         -1.27012849e-01,   1.01255409e-01,  -4.00730669e-02,\n",
       "          7.77184367e-02,   3.94688211e-02,  -5.70619758e-03,\n",
       "         -8.05900544e-02,  -5.69361821e-02,  -4.56122868e-02,\n",
       "          8.19281116e-02,   3.40582877e-02,   1.81361809e-01,\n",
       "          8.87478217e-02,   2.05986172e-01,   1.66404709e-01,\n",
       "          1.94413606e-02,  -9.73161031e-03,   6.79841191e-02,\n",
       "          7.91265815e-02,  -1.03666425e-01,  -6.90315515e-02], dtype=float32),\n",
       " array([[  2.30919204e-06,   9.73997885e-06,  -1.34602524e-04, ...,\n",
       "           1.43195639e-05,   1.17759962e-04,   5.96170976e-05],\n",
       "        [ -2.84017442e-04,  -4.92117179e-05,  -7.74091284e-04, ...,\n",
       "          -9.03758701e-06,   5.74859325e-04,   4.29378240e-04],\n",
       "        [  2.01061615e-04,   7.65311779e-06,   2.52945960e-04, ...,\n",
       "           7.83023206e-05,  -3.41431063e-04,  -1.74403831e-04],\n",
       "        ..., \n",
       "        [  8.05639938e-05,  -3.89097222e-05,  -6.74303214e-04, ...,\n",
       "          -2.00097893e-05,   2.57401814e-04,   4.15454910e-04],\n",
       "        [  2.40984577e-04,   1.45963204e-04,   6.23992353e-04, ...,\n",
       "           9.30145034e-05,  -6.37471676e-04,  -4.53075249e-04],\n",
       "        [ -8.58601925e-05,   3.72992690e-05,   5.52603560e-05, ...,\n",
       "           8.31801663e-05,  -1.70280828e-06,  -3.34224023e-06]], dtype=float32),\n",
       " array([-0.06394525,  0.00071104, -0.12050557,  0.01786017,  0.01467137,\n",
       "         0.03379966, -0.01236233, -0.04533434, -0.00062883, -0.13749956,\n",
       "         0.10740015,  0.07408702, -0.09749252,  0.1126278 , -0.03198325,\n",
       "        -0.10660324, -0.03812684,  0.10679334,  0.04558459, -0.00115899,\n",
       "         0.1092317 ,  0.02467813, -0.12060601,  0.1230057 ,  0.10283211,\n",
       "        -0.0613604 , -0.04294635,  0.00868479, -0.0497317 , -0.04330451,\n",
       "        -0.07444827,  0.04277486,  0.02284707, -0.15821451, -0.04039428,\n",
       "         0.17880262, -0.00599773,  0.11701122, -0.19274589, -0.10034216,\n",
       "        -0.07961293, -0.01103036,  0.09252344,  0.00247999,  0.15773736,\n",
       "         0.13646196,  0.14563166, -0.18639411, -0.07984766,  0.01432017,\n",
       "        -0.03894738, -0.08874845,  0.03041261, -0.13757868, -0.02578399,\n",
       "        -0.0190851 , -0.09322336,  0.06305321, -0.03608624, -0.08159207,\n",
       "        -0.11072487,  0.19707724, -0.06742609, -0.14561115,  0.0500543 ,\n",
       "         0.00588527, -0.00600766,  0.0523335 , -0.00855296,  0.0705411 ,\n",
       "        -0.14903219,  0.0750447 ,  0.10899303,  0.15680553,  0.00453908,\n",
       "        -0.03421152, -0.07941879,  0.05168544, -0.09466929,  0.07584816,\n",
       "         0.07198884,  0.12264804, -0.05665772,  0.04200866, -0.08989663,\n",
       "         0.01642177, -0.09079263, -0.03098675,  0.17599963,  0.16283077,\n",
       "        -0.02372572,  0.09989754,  0.02501732, -0.0198708 , -0.05489235,\n",
       "        -0.08989926, -0.08937408,  0.07408632,  0.03269232,  0.14694914,\n",
       "         0.01790066,  0.06407823, -0.03890773, -0.01971504,  0.01474645,\n",
       "         0.03780802,  0.06950636,  0.02228469,  0.04708135, -0.0039676 ,\n",
       "         0.05837101, -0.09657998, -0.12226481,  0.08303003,  0.05971343,\n",
       "        -0.09120744,  0.11334833,  0.05708664, -0.07920617,  0.14823103,\n",
       "         0.20905834, -0.04242823, -0.01269588,  0.03267924,  0.15353489,\n",
       "        -0.14820726,  0.07843956, -0.10361464, -0.09736454, -0.07088666,\n",
       "        -0.00475043,  0.09209988,  0.11751509,  0.11007667, -0.03832985,\n",
       "         0.10646232,  0.00262365, -0.02210275, -0.02331746,  0.0317914 ,\n",
       "        -0.02978539, -0.19529295,  0.07868004,  0.10818213,  0.09519963,\n",
       "        -0.00146835, -0.06158266,  0.10260577,  0.06665634, -0.04181008,\n",
       "        -0.12991802,  0.05315714, -0.11534956, -0.0186932 , -0.02044504,\n",
       "        -0.03700902,  0.13182597, -0.08345897, -0.01834669, -0.07352517,\n",
       "        -0.07818814, -0.05767254, -0.04562633,  0.16680735, -0.14278126,\n",
       "        -0.03727196,  0.02907831,  0.08294428, -0.04325839, -0.01012408,\n",
       "        -0.16561972,  0.06932008, -0.0100957 ,  0.01253707,  0.00363916,\n",
       "         0.0412067 , -0.02777015,  0.09871367,  0.03513239,  0.01155464,\n",
       "        -0.06284968, -0.08891725,  0.06212816,  0.07358204, -0.05326241,\n",
       "         0.09158587,  0.00998083, -0.03770912, -0.06150998, -0.03410823,\n",
       "         0.00216572, -0.00324569, -0.10074089,  0.1631479 , -0.05057215,\n",
       "        -0.01644226,  0.05153682,  0.00716014,  0.16544083,  0.05530166,\n",
       "         0.13220362,  0.00853796, -0.08150276,  0.09101823, -0.04357424,\n",
       "        -0.07062614, -0.05051159,  0.15663667,  0.01801122, -0.03516547,\n",
       "        -0.09184599, -0.02100069, -0.05336663,  0.01920819,  0.03880432,\n",
       "         0.00105433,  0.03392068, -0.09586149,  0.1021038 ,  0.05811233,\n",
       "        -0.07896975, -0.0664838 ,  0.09819672,  0.0476233 ,  0.07251856,\n",
       "        -0.04441928, -0.06133183, -0.08347008, -0.02031374, -0.08159411,\n",
       "         0.02501674, -0.00208487, -0.05853901,  0.08549727,  0.22503801,\n",
       "         0.08795857, -0.03309255,  0.01263428, -0.02100893, -0.06051154,\n",
       "        -0.02967801,  0.05158156,  0.00368419, -0.08325044, -0.06666453,\n",
       "         0.03162657,  0.09055619, -0.0369747 ,  0.03488184,  0.05595488], dtype=float32),\n",
       " array([[  2.09576986e-03,  -2.79365666e-03,  -5.53632563e-04, ...,\n",
       "           2.72371154e-03,  -6.52300077e-05,   1.53175031e-04],\n",
       "        [ -2.58385669e-03,   3.44427512e-03,   6.82568760e-04, ...,\n",
       "          -3.35804047e-03,   8.04214505e-05,  -1.88848237e-04],\n",
       "        [  5.54651162e-03,  -7.39348726e-03,  -1.46520359e-03, ...,\n",
       "           7.20837526e-03,  -1.72632746e-04,   4.05381783e-04],\n",
       "        ..., \n",
       "        [ -1.20586454e-04,   1.28665139e-04,   2.85356771e-04, ...,\n",
       "           6.14726814e-05,  -2.68428994e-05,  -5.53167120e-05],\n",
       "        [ -9.07002104e-05,   1.69567502e-04,  -1.81428069e-04, ...,\n",
       "          -3.81948485e-04,   1.26765954e-05,  -1.99946880e-04],\n",
       "        [ -6.06810972e-05,   5.54103008e-06,   1.87350917e-04, ...,\n",
       "           9.58294841e-05,  -6.65750558e-05,  -6.50519942e-05]], dtype=float32),\n",
       " array([ 0.12346339, -0.16457643, -0.03261491,  0.13650176,  0.00833569,\n",
       "         0.02712465,  0.06030701,  0.00775184, -0.00641156,  0.00042454,\n",
       "         0.01496599,  0.06362227,  0.21572813, -0.00758753, -0.11057878,\n",
       "         0.00981824, -0.24195926, -0.02920145, -0.03701894, -0.16641998,\n",
       "        -0.16834459, -0.04521951,  0.05910074,  0.0126587 ,  0.08679911,\n",
       "        -0.03935104,  0.09454645, -0.13048817, -0.02656837, -0.04425519,\n",
       "        -0.02089322, -0.10387125, -0.20368198, -0.12102129, -0.03619239,\n",
       "        -0.03607919, -0.12317814,  0.0859703 , -0.04328583, -0.04427383,\n",
       "        -0.00137658, -0.00361909, -0.02497577, -0.12704578, -0.13481867,\n",
       "        -0.03036565,  0.10829195, -0.00582749, -0.01221146, -0.11993365,\n",
       "        -0.0928823 ,  0.08544243, -0.06465345, -0.04120401, -0.03108465,\n",
       "         0.01000006, -0.09857742,  0.06284905,  0.01964342,  0.00339928,\n",
       "         0.14334847, -0.13480474,  0.09472489,  0.08677455,  0.0955477 ,\n",
       "        -0.05474266,  0.04248136, -0.12946919, -0.13928351,  0.08126478,\n",
       "         0.01021662,  0.31217328,  0.06159626,  0.03249236, -0.13494433,\n",
       "         0.04434644,  0.03764511,  0.09406307, -0.13315438,  0.00664175,\n",
       "         0.02010506, -0.08811063, -0.12834899, -0.06740403, -0.03435507,\n",
       "         0.06997202,  0.06241058,  0.02497382,  0.16565472, -0.05766902,\n",
       "        -0.03692694,  0.0718057 , -0.11199317, -0.0464436 ,  0.06596743,\n",
       "        -0.00491117, -0.0558406 ,  0.10763247,  0.03794516,  0.04393511,\n",
       "         0.06772152, -0.01936977,  0.03525169,  0.07289912,  0.01376443,\n",
       "        -0.14581922,  0.15952457, -0.03037185,  0.09814152,  0.01679713,\n",
       "         0.01192934,  0.15921083, -0.20523518,  0.03263353, -0.09882019,\n",
       "         0.05512501,  0.10302085,  0.04657199, -0.0188786 , -0.0469975 ,\n",
       "        -0.03006938, -0.02422008,  0.07045898, -0.0291534 , -0.04109501,\n",
       "         0.03101871,  0.10005196, -0.19262847, -0.06135165, -0.05772667,\n",
       "         0.01379872, -0.00705992,  0.17214523, -0.07092364, -0.17696165,\n",
       "         0.03151635,  0.05667279, -0.11429281, -0.06589187,  0.09242558,\n",
       "         0.0720498 ,  0.0393043 ,  0.20128234, -0.08491223,  0.06399605,\n",
       "        -0.03669057, -0.00076451, -0.07177287,  0.01336553,  0.11489565,\n",
       "        -0.0369326 ,  0.14487466,  0.14125393,  0.01404327, -0.04190342,\n",
       "        -0.01185032, -0.02101361,  0.02924329,  0.04437606, -0.02170328,\n",
       "        -0.03892718, -0.13163294, -0.02321346,  0.10841958, -0.00278398,\n",
       "        -0.22614667, -0.12529731,  0.0334711 ,  0.0185902 , -0.01191943,\n",
       "        -0.13309419,  0.1413094 , -0.07507604, -0.08079772, -0.24002047,\n",
       "         0.00808331, -0.24809675,  0.20150292,  0.04063578, -0.03068331,\n",
       "        -0.11267944,  0.07814615, -0.0972162 , -0.02480049,  0.07816003,\n",
       "         0.00457238, -0.1519537 ,  0.19587158, -0.02553958, -0.01706441,\n",
       "        -0.10049684,  0.08738503,  0.18984838,  0.01592672, -0.04979205,\n",
       "         0.04344732,  0.07861096, -0.03595223,  0.05661492, -0.00871354,\n",
       "         0.08995292, -0.01452596, -0.06967128, -0.04019166, -0.05469177,\n",
       "         0.03412256,  0.15479144,  0.06056295,  0.03214725, -0.05022162,\n",
       "         0.25843108,  0.11625335, -0.15962492,  0.01431747,  0.11721767,\n",
       "        -0.06773829,  0.04040523,  0.01364998, -0.13400201, -0.05223787,\n",
       "        -0.11029252, -0.10533315, -0.02738065,  0.02281539, -0.00856394,\n",
       "        -0.14193344, -0.01387566,  0.12549138, -0.01710089, -0.10563859,\n",
       "        -0.06935354,  0.00715354,  0.05884334,  0.05554841,  0.0966128 ,\n",
       "         0.04995729,  0.03443177, -0.08141281,  0.02250726,  0.07072242,\n",
       "         0.14246061,  0.03147476,  0.06702182,  0.00307754, -0.0932017 ,\n",
       "        -0.07101563, -0.19695686, -0.03684445,  0.15594795,  0.10845114,\n",
       "         0.00572022,  0.01568644, -0.11510526,  0.08105271, -0.15680993,\n",
       "        -0.15042779,  0.01395372, -0.01645297, -0.07655218, -0.0204591 ,\n",
       "         0.01573361,  0.10696419,  0.0318834 , -0.13821952,  0.03779837,\n",
       "         0.1788893 , -0.05080439,  0.00569126, -0.1178453 ,  0.04827062,\n",
       "         0.10319134, -0.06555172, -0.04006494,  0.09213398,  0.0756299 ,\n",
       "        -0.03002248,  0.09657571, -0.07800562, -0.01011046,  0.03467419,\n",
       "         0.07380871, -0.05463974,  0.08704796, -0.12329838,  0.01349967,\n",
       "        -0.04787455, -0.05158797,  0.01341317,  0.00634968,  0.10707854,\n",
       "         0.11230535,  0.09440044, -0.03894595, -0.12772916, -0.11305954,\n",
       "         0.17798829,  0.08059353,  0.1604559 , -0.00384275,  0.00902366], dtype=float32),\n",
       " array([[ -2.60137767e-03,   5.60220843e-03,   2.35158848e-04, ...,\n",
       "          -5.83529612e-03,   3.96387186e-03,  -9.36713361e-04],\n",
       "        [ -5.98935701e-04,   4.71412641e-04,   6.57578357e-06, ...,\n",
       "          -4.89841215e-04,   4.81949741e-04,  -1.52764143e-04],\n",
       "        [  1.18330958e-04,  -3.34631419e-04,   1.26143656e-04, ...,\n",
       "           4.78347647e-04,   1.42416393e-03,  -2.96031265e-03],\n",
       "        ..., \n",
       "        [  2.87529663e-03,  -4.92329942e-03,  -1.34558755e-03, ...,\n",
       "           3.73188732e-03,  -3.57877719e-03,   2.19038175e-03],\n",
       "        [ -3.51702212e-03,   3.99525044e-03,   3.22752137e-04, ...,\n",
       "          -3.96158826e-03,   2.32031825e-03,  -1.07043004e-03],\n",
       "        [ -3.39530437e-04,   5.42427646e-04,   4.74002445e-04, ...,\n",
       "           1.05830550e-05,   2.37729560e-04,  -6.21205079e-04]], dtype=float32),\n",
       " array([ 0.09618932, -0.14310622, -0.03494599, -0.03376763, -0.00660245,\n",
       "        -0.12071083,  0.0242826 ,  0.00032956,  0.06929777, -0.12743014,\n",
       "        -0.07534448,  0.05746689, -0.09148198, -0.00331345,  0.04699699,\n",
       "         0.09131475,  0.0070432 , -0.11656279, -0.04721888, -0.03657303,\n",
       "         0.02901451,  0.05812435,  0.13243821,  0.02921712,  0.01611222,\n",
       "        -0.09612579, -0.01757742,  0.10103418, -0.05308831,  0.10704841,\n",
       "        -0.04047425, -0.01854153,  0.11716455,  0.04567433, -0.08049075,\n",
       "         0.0129153 ,  0.13140477,  0.0243184 ,  0.00690335, -0.03759174,\n",
       "        -0.01222729, -0.04628966, -0.08113404, -0.03930809, -0.1260749 ,\n",
       "         0.07527429,  0.0407314 , -0.01398485,  0.15734063,  0.03605171,\n",
       "         0.10665311, -0.09526181,  0.1410598 ,  0.01529646,  0.0697697 ,\n",
       "        -0.13707283,  0.09396732,  0.15276437, -0.07076278, -0.02637313,\n",
       "        -0.15594698, -0.03105831, -0.09514801, -0.20719577, -0.04964567,\n",
       "         0.07278193,  0.06306873,  0.03113155, -0.04103934, -0.0146158 ,\n",
       "        -0.05112676,  0.04393413, -0.01107703, -0.09560551,  0.1662325 ,\n",
       "        -0.12506019, -0.02754396,  0.06346388, -0.18469866, -0.13151591,\n",
       "        -0.07913869,  0.12299217,  0.04018539, -0.03704681, -0.0085101 ,\n",
       "         0.03647288, -0.00447184, -0.00951079, -0.00516432, -0.03338968,\n",
       "        -0.01914969, -0.00834005, -0.0721876 ,  0.01694337,  0.00767674,\n",
       "         0.11317343,  0.14084855, -0.00358146, -0.09613085, -0.02570113,\n",
       "        -0.06029316, -0.16979462, -0.0149861 ,  0.0933537 ,  0.17255718,\n",
       "        -0.1685037 ,  0.08289649, -0.23674554, -0.11640467, -0.10273606,\n",
       "        -0.01500217, -0.11902573, -0.13331662, -0.04724241,  0.10369015,\n",
       "         0.00133621, -0.04337493, -0.0207956 ,  0.02815406,  0.04011768,\n",
       "        -0.10763182, -0.01662073,  0.04565788, -0.11063085, -0.04013464,\n",
       "        -0.0192247 , -0.02480546, -0.04044425, -0.0289111 , -0.07720164,\n",
       "         0.00562122,  0.06593318,  0.18693686,  0.07780671, -0.03502958,\n",
       "         0.02227673, -0.13964899,  0.04511614, -0.02220728, -0.07945695,\n",
       "         0.10391546, -0.02609253, -0.03916978,  0.00922271, -0.00629761,\n",
       "         0.01147377, -0.03102135,  0.01404327, -0.03307809,  0.18779889,\n",
       "         0.07683366, -0.07772984,  0.04913092, -0.02837013,  0.00536936,\n",
       "         0.0249667 ,  0.20424686, -0.03992629, -0.12404142, -0.13719845,\n",
       "        -0.08458658, -0.03352122,  0.06831476, -0.07379449,  0.03225902,\n",
       "        -0.0874    ,  0.03711171,  0.02545151, -0.01182455,  0.01286323,\n",
       "         0.04864271, -0.07436927, -0.13137591,  0.03166403, -0.03193403,\n",
       "        -0.06701767,  0.05920359, -0.09441315, -0.03807175, -0.04898175,\n",
       "        -0.02666061,  0.04146632,  0.02277857, -0.08737043, -0.18417948,\n",
       "        -0.11927802, -0.02879659,  0.04159606, -0.21746607, -0.0532316 ,\n",
       "        -0.00404413, -0.01128558,  0.01525354,  0.00498546,  0.0794147 ,\n",
       "        -0.04786695, -0.15428372, -0.11006931, -0.06278719,  0.0853284 ,\n",
       "         0.0060063 ,  0.05769736,  0.22535646,  0.02830694, -0.02786296,\n",
       "         0.06841712,  0.03506269,  0.04102216,  0.0085662 ,  0.05080347,\n",
       "        -0.08313354, -0.1057656 ,  0.05638692, -0.07384042,  0.02342037,\n",
       "         0.03919176, -0.01861978, -0.13829121,  0.00853833,  0.01672311,\n",
       "        -0.00371559,  0.04742008,  0.05088391,  0.02878559,  0.03961375,\n",
       "        -0.05462149,  0.06587198, -0.06113183, -0.074622  , -0.00500411,\n",
       "         0.07382047,  0.00754592, -0.06574722,  0.02526212,  0.1710912 ,\n",
       "         0.0082211 ,  0.0631659 , -0.05824805, -0.00492706,  0.11457862,\n",
       "         0.08794039,  0.01208958,  0.05144337, -0.01905279, -0.13986501,\n",
       "         0.09995614, -0.14098287, -0.01796509, -0.00189698, -0.00920972,\n",
       "         0.07041133, -0.01544126,  0.01970323,  0.00243666, -0.17731209,\n",
       "         0.07799932, -0.21824224, -0.13384186,  0.02555195, -0.03785711,\n",
       "         0.12051968,  0.09951914,  0.25935441,  0.08306784,  0.04194843,\n",
       "        -0.08875611,  0.03631724, -0.14193176,  0.04065957, -0.01774005,\n",
       "         0.00942454, -0.10073496,  0.01763747,  0.10600471,  0.09242874,\n",
       "        -0.03873818, -0.09515734, -0.05469242, -0.06798407, -0.0654438 ,\n",
       "         0.08825452,  0.0914298 ,  0.1151375 ,  0.01519996,  0.01366839,\n",
       "        -0.0542253 ,  0.03923238, -0.03331035,  0.07838816,  0.01989314,\n",
       "         0.07290081, -0.12561813,  0.01974375,  0.06670907, -0.05504654,\n",
       "        -0.00836464,  0.04369879,  0.12111804, -0.11402845,  0.06664255], dtype=float32),\n",
       " array([[[[-0.00158146,  0.00037196,  0.00468197, ..., -0.00287161,\n",
       "           -0.00101443, -0.00254907],\n",
       "          [ 0.        ,  0.        ,  0.        , ...,  0.        ,\n",
       "            0.        ,  0.        ],\n",
       "          [-0.01273495, -0.00653394,  0.00060866, ...,  0.00824026,\n",
       "            0.00744953, -0.00362072]]],\n",
       " \n",
       " \n",
       "        [[[ 0.00439004,  0.02346747,  0.01043898, ..., -0.01553708,\n",
       "            0.00643332, -0.00453165],\n",
       "          [-0.02848465,  0.0011582 , -0.00201294, ...,  0.0070807 ,\n",
       "           -0.01359495, -0.02346747],\n",
       "          [-0.00857776, -0.03495844, -0.00056393, ...,  0.0134331 ,\n",
       "           -0.0173983 , -0.01569893]]],\n",
       " \n",
       " \n",
       "        [[[ 0.00779611,  0.01217595,  0.00740193, ..., -0.00198188,\n",
       "           -0.01235115,  0.01751936],\n",
       "          [ 0.00560619, -0.00129753,  0.00427034, ..., -0.00788371,\n",
       "           -0.00779611, -0.00630697],\n",
       "          [ 0.01970928, -0.01944648,  0.01611781, ...,  0.00224467,\n",
       "           -0.0164682 , -0.0053653 ]]],\n",
       " \n",
       " \n",
       "        ..., \n",
       "        [[[ 0.        ,  0.        ,  0.        , ...,  0.        ,\n",
       "            0.        ,  0.        ],\n",
       "          [ 0.00743295, -0.00796011,  0.00293891, ..., -0.01823972,\n",
       "           -0.0115448 ,  0.01760713],\n",
       "          [-0.02319502, -0.00045138, -0.02235157, ..., -0.01001603,\n",
       "            0.0247765 ,  0.01043776]]],\n",
       " \n",
       " \n",
       "        [[[ 0.01185853, -0.00498365, -0.00282407, ..., -0.01001841,\n",
       "            0.00265795,  0.00360356],\n",
       "          [ 0.        ,  0.        ,  0.        , ...,  0.        ,\n",
       "            0.        ,  0.        ],\n",
       "          [-0.01380088,  0.00360356,  0.01277859, ...,  0.00182734,\n",
       "            0.00025238,  0.00065171]]],\n",
       " \n",
       " \n",
       "        [[[ 0.        ,  0.        ,  0.        , ...,  0.        ,\n",
       "            0.        ,  0.        ],\n",
       "          [-0.00205688,  0.00048377,  0.00608946, ..., -0.00373487,\n",
       "           -0.00131938, -0.00331537],\n",
       "          [ 0.        ,  0.        ,  0.        , ...,  0.        ,\n",
       "            0.        ,  0.        ]]]], dtype=float32),\n",
       " array([ -4.26163003e-02,  -8.28644484e-02,  -8.96991044e-02,\n",
       "          2.47685192e-03,   7.71416798e-02,   7.20369956e-03,\n",
       "          5.10609746e-02,   7.67974555e-02,   2.11972520e-02,\n",
       "          1.37100015e-02,   6.33953419e-03,   1.19196344e-02,\n",
       "          1.50616877e-02,   2.89282091e-02,  -5.90923689e-02,\n",
       "          3.65433693e-02,  -1.91050787e-02,   8.85076895e-02,\n",
       "         -4.38963547e-02,  -6.61892518e-02,  -9.71070379e-02,\n",
       "         -5.99737652e-02,  -8.43931630e-04,  -2.29681202e-04,\n",
       "          2.37382110e-02,  -1.08083069e-01,   3.36047150e-02,\n",
       "         -1.29218608e-01,  -5.43038025e-02,   1.34308904e-01,\n",
       "          3.99691835e-02,  -1.43272266e-01,   2.07024664e-01,\n",
       "          2.22700052e-02,  -1.74969714e-02,   2.74744676e-03,\n",
       "          3.33039835e-02,  -1.83098763e-03,   6.83885366e-02,\n",
       "         -1.60023183e-01,   3.26182805e-02,  -1.19386189e-01,\n",
       "          1.35267153e-01,  -1.35969162e-01,  -1.01859659e-01,\n",
       "         -5.37234172e-03,  -3.27803418e-02,   1.98608950e-01,\n",
       "          5.49153015e-02,   6.66414062e-03,  -7.66721666e-02,\n",
       "         -1.70525983e-02,  -1.24976277e-01,  -5.84252700e-02,\n",
       "          6.52133599e-02,  -1.09156780e-01,  -1.37207836e-01,\n",
       "          3.15937661e-02,   6.62302822e-02,  -6.21787179e-03,\n",
       "         -1.62751786e-02,   1.75229739e-02,   8.60479921e-02,\n",
       "          7.88018405e-02,  -1.25037104e-01,  -1.58905219e-02,\n",
       "          7.22571686e-02,   6.00001961e-02,   1.41874805e-01,\n",
       "          6.01124056e-02,  -8.29065815e-02,   1.11023068e-01,\n",
       "         -8.86601768e-03,   7.32054096e-03,   1.27439126e-02,\n",
       "         -6.31065443e-02,   1.41850427e-01,  -1.49687827e-02,\n",
       "          8.64429101e-02,  -2.76793521e-02,   1.31499559e-01,\n",
       "          1.11595556e-01,   5.56284282e-03,  -4.16765474e-02,\n",
       "          3.08109690e-02,   3.89474370e-02,   2.03491542e-02,\n",
       "         -1.90150030e-02,   1.05991989e-01,   4.31003533e-02,\n",
       "          6.33515343e-02,  -1.82685167e-01,   1.66119393e-02,\n",
       "          3.92839685e-02,  -5.07982336e-02,   1.24461308e-01,\n",
       "          8.29429179e-03,  -1.95019588e-01,   6.66785762e-02,\n",
       "         -1.71310939e-02,   1.89177260e-01,   1.82962064e-02,\n",
       "          1.43081620e-01,   6.98415712e-02,   8.27244669e-02,\n",
       "         -7.34222401e-03,  -2.93905903e-02,   4.65008914e-02,\n",
       "         -2.65061744e-02,   4.40168986e-03,   4.39974107e-02,\n",
       "         -2.26841718e-02,  -7.45378900e-03,  -4.95068245e-02,\n",
       "         -1.42659126e-02,  -7.71762058e-02,  -4.29102220e-02,\n",
       "         -3.62221487e-02,   8.16956535e-02,   4.99500055e-03,\n",
       "          9.33618750e-03,   6.97737932e-02,   7.07614273e-02,\n",
       "         -1.66457966e-01,   1.35935277e-01,  -4.25053686e-02,\n",
       "          1.12028778e-01,  -2.85039935e-02,  -1.35011554e-01,\n",
       "         -6.43237680e-02,   6.97982311e-02,   6.41831383e-02,\n",
       "          4.50298488e-02,  -2.69729588e-02,  -1.15721226e-01,\n",
       "         -3.31242755e-02,  -1.07356593e-01,   1.40613327e-02,\n",
       "         -1.23932064e-01,   6.86520934e-02,   2.45758537e-02,\n",
       "         -4.76892851e-02,   1.61831439e-01,  -3.77182402e-02,\n",
       "         -3.78833860e-02,   1.37870191e-02,   2.58695856e-02,\n",
       "          8.25534761e-02,  -2.70999484e-02,   6.26907349e-02,\n",
       "          1.20604388e-01,   5.16385362e-02,  -3.53572220e-02,\n",
       "          1.15187712e-01,  -4.89333533e-02,   1.41345169e-02,\n",
       "         -1.32164329e-01,   3.45593542e-02,  -7.66151445e-03,\n",
       "          5.35452515e-02,  -2.15635058e-02,   8.81015360e-02,\n",
       "         -4.08033729e-02,  -2.76276618e-02,   5.71147092e-02,\n",
       "         -1.33756652e-01,   6.74539059e-02,  -1.25763919e-02,\n",
       "          6.84285164e-02,   8.01534802e-02,   1.67562831e-02,\n",
       "          9.44930613e-02,   1.29068017e-01,   2.37122960e-02,\n",
       "          5.34890890e-02,  -9.03551280e-03,  -9.00541618e-03,\n",
       "          6.63577318e-02,  -3.52867926e-03,   1.01839133e-01,\n",
       "         -6.24593198e-02,  -5.89312129e-02,   1.88995618e-02,\n",
       "         -4.35459241e-02,  -1.19894817e-02,  -1.27300084e-01,\n",
       "         -1.05663292e-01,   9.95351095e-03,   1.12449698e-01,\n",
       "          4.86015938e-02,  -4.19152789e-02,  -1.47774979e-01,\n",
       "          1.46258175e-01,  -6.93720654e-02,  -7.43606165e-02,\n",
       "          1.02502471e-02,  -2.56917365e-02,  -9.86513719e-02,\n",
       "          2.88898442e-02,   9.43070091e-03,  -3.93661559e-02,\n",
       "         -7.57956430e-02,  -6.41133413e-02,   8.69314149e-02,\n",
       "         -9.69425887e-02,  -2.08447469e-04,   7.47763664e-02,\n",
       "         -1.26559645e-01,   1.39785677e-01,   1.29262842e-02,\n",
       "          1.01843081e-01,   2.79373843e-02,  -1.01119950e-01,\n",
       "         -3.90156694e-02,   8.38062074e-03,   2.34211003e-03,\n",
       "          1.54883359e-02,  -6.75064772e-02,   1.70081649e-02,\n",
       "          1.87837966e-02,   4.71187243e-03,  -7.26820379e-02,\n",
       "          1.03701964e-01,   1.73056483e-01,  -8.91563147e-02,\n",
       "          8.34809523e-03,  -6.04495592e-03,   6.75708279e-02,\n",
       "         -7.60353059e-02,  -1.91979945e-01,  -9.61543992e-02,\n",
       "          3.14973714e-03,  -1.07927680e-01,  -9.92671326e-02,\n",
       "          9.47317556e-02,  -4.68534045e-03,   2.27777272e-01,\n",
       "          2.90126298e-02,  -5.26766740e-02,   1.49982378e-01,\n",
       "         -2.72110812e-02,  -1.56428784e-01,  -2.77549066e-02,\n",
       "          7.94743150e-02,   2.37519562e-01,   1.34296101e-02,\n",
       "         -8.00231546e-02,  -1.19931921e-01,   1.10758327e-01,\n",
       "          2.34149903e-01,   5.70461564e-02,   7.42232427e-02,\n",
       "         -8.44395012e-02,   2.83483993e-02,  -1.71274498e-01,\n",
       "          9.46930125e-02,  -5.80093637e-02,  -8.19358975e-02,\n",
       "          4.65475433e-02,  -2.73950417e-02,   9.13831890e-02,\n",
       "          1.01343416e-01,   6.05525710e-02,   7.35039413e-02,\n",
       "         -3.10620368e-02,   2.70903204e-02,  -8.09022784e-02,\n",
       "         -6.08107075e-02,   2.98579633e-02,  -7.92606995e-02,\n",
       "         -2.30828244e-02,  -3.68527183e-03,   2.42396928e-02,\n",
       "          3.84483114e-02,   2.23831367e-02,   7.11843744e-02,\n",
       "         -1.03282211e-02,  -1.25959247e-01,   8.37076977e-02,\n",
       "         -1.01412274e-01,   1.31822199e-01,   6.65394962e-02,\n",
       "          7.17496127e-02,   1.58001911e-02,  -1.39975175e-01,\n",
       "         -1.30334690e-01,  -4.11247537e-02,  -1.77730396e-01,\n",
       "         -1.90906711e-02,  -1.41529098e-01,   2.25065853e-02,\n",
       "          8.14010128e-02,   4.06731246e-03,  -4.88578193e-02,\n",
       "          3.91969830e-02,  -6.02080189e-02,  -3.49272601e-02,\n",
       "         -1.46681949e-01,  -7.34994113e-02,  -1.32457361e-01,\n",
       "         -1.19274646e-01,  -8.44237208e-02,   1.29463701e-02,\n",
       "         -3.53097841e-02,   8.72423202e-02,   1.21946573e-01,\n",
       "         -7.71656930e-02,  -1.01950772e-01,   2.77096834e-02,\n",
       "         -3.99344601e-02,   3.26052941e-02,  -1.80023368e-02,\n",
       "         -8.33573937e-02,   1.90689396e-02,  -5.21769235e-03,\n",
       "          7.37758428e-02,  -2.25183796e-02,  -9.21761431e-03,\n",
       "         -8.71752501e-02,  -3.27834785e-02,  -1.55154109e-01,\n",
       "          1.16595045e-01,   3.70289534e-02,  -3.50111909e-02,\n",
       "         -9.80525389e-02,  -2.53146136e-04,  -3.70858386e-02,\n",
       "         -8.44080299e-02,  -1.28825366e-01,   1.01528592e-01,\n",
       "         -7.30276331e-02,  -9.41174757e-03,  -5.15403226e-02,\n",
       "         -9.83225405e-02,  -6.77187890e-02,   2.54030693e-02,\n",
       "         -2.61427723e-02,   1.24870837e-01,   1.95907056e-02,\n",
       "          2.21004821e-02,  -1.22737095e-01,   4.62482385e-02,\n",
       "          9.49475169e-02,  -1.66537985e-01,   7.70880515e-03,\n",
       "         -5.33510409e-02,   2.83278804e-02,   1.07962288e-01,\n",
       "          5.23410961e-02,  -5.54276146e-02], dtype=float32),\n",
       " array([[  0.00000000e+00,  -7.17963383e-04,   8.75426806e-04, ...,\n",
       "           1.45568757e-03,  -6.30516792e-04,   1.43093730e-05],\n",
       "        [  0.00000000e+00,  -8.39987362e-04,   1.02421292e-03, ...,\n",
       "           1.70309388e-03,  -7.37678434e-04,   1.67413709e-05],\n",
       "        [  0.00000000e+00,  -9.69818677e-04,   1.18251878e-03, ...,\n",
       "           1.96632999e-03,  -8.51696532e-04,   1.93289743e-05],\n",
       "        ..., \n",
       "        [  0.00000000e+00,  -5.24981704e-04,   6.40120415e-04, ...,\n",
       "           1.06441265e-03,  -4.61039919e-04,   1.04631499e-05],\n",
       "        [  0.00000000e+00,  -8.69254523e-04,   1.05989899e-03, ...,\n",
       "           1.76243379e-03,  -7.63380958e-04,   1.73246808e-05],\n",
       "        [  0.00000000e+00,  -3.22813459e-04,   3.93612747e-04, ...,\n",
       "           6.54511794e-04,  -2.83495378e-04,   6.43383510e-06]], dtype=float32),\n",
       " array([ 0.        , -0.03330867,  0.04061392, -0.19229135,  0.05788134,\n",
       "         0.0476114 ,  0.02746977,  0.00495743,  0.07316117,  0.        ,\n",
       "        -0.10376537,  0.        ,  0.0909212 ,  0.09397772, -0.12980559,\n",
       "         0.01387837,  0.        ,  0.04521917, -0.01534106,  0.01268111,\n",
       "        -0.0389131 , -0.04492901,  0.16476344, -0.05055228, -0.01407056,\n",
       "         0.0011457 ,  0.01528123,  0.        ,  0.02444819,  0.01970111,\n",
       "         0.        ,  0.07165585,  0.        ,  0.13172527, -0.04739248,\n",
       "         0.13467075, -0.21981387, -0.17331669,  0.06658684, -0.01853302,\n",
       "         0.0163107 ,  0.15501039,  0.        ,  0.        , -0.03143237,\n",
       "        -0.25744578, -0.05280094,  0.01599398,  0.        , -0.08218871,\n",
       "        -0.16381812,  0.04331405,  0.17122726,  0.02818895, -0.05827371,\n",
       "         0.09192757, -0.27635363, -0.08942245, -0.23627815, -0.05953033,\n",
       "         0.04803376, -0.01455805,  0.14708439, -0.10667126,  0.        ,\n",
       "         0.02234132,  0.        ,  0.        ,  0.18063803,  0.        ,\n",
       "         0.12065788,  0.18495417,  0.00281518, -0.09978694,  0.        ,\n",
       "        -0.23254025,  0.0452731 , -0.01192369, -0.02493064, -0.06340256,\n",
       "         0.        ,  0.11258334, -0.08258474, -0.01474296,  0.08885641,\n",
       "         0.        ,  0.        , -0.02959515, -0.08839869, -0.10936558,\n",
       "         0.03225338,  0.03459539,  0.03165844,  0.05029652, -0.01193598,\n",
       "        -0.21175881,  0.        , -0.00264525, -0.03162185, -0.04436848,\n",
       "        -0.02121196,  0.02112395,  0.06348495,  0.        ,  0.        ,\n",
       "         0.        ,  0.        , -0.08197289,  0.        , -0.17422673,\n",
       "         0.        , -0.00400764, -0.14742802,  0.        , -0.04866668,\n",
       "         0.13802131, -0.14058328, -0.01435316,  0.        ,  0.12050223,\n",
       "         0.06169084, -0.17201889, -0.03704289,  0.        , -0.01018473,\n",
       "         0.05344777,  0.19755366,  0.        , -0.03176212,  0.05695629,\n",
       "        -0.02005243, -0.07326544, -0.08822208, -0.05362228,  0.22611594,\n",
       "         0.08400399,  0.        ,  0.11681326,  0.0136853 , -0.10364322,\n",
       "         0.06207704,  0.01797014,  0.02717483,  0.02279554,  0.15564986,\n",
       "         0.07436872,  0.10505366,  0.08826274,  0.        , -0.15394637,\n",
       "         0.0322632 , -0.08958807,  0.        , -0.04845682,  0.17084004,\n",
       "        -0.02928456, -0.03137006, -0.00782017,  0.09990449,  0.02275823,\n",
       "         0.04292504,  0.10111555,  0.04967496,  0.02563316,  0.        ,\n",
       "        -0.13601273, -0.01811868, -0.08224411, -0.02365122, -0.06091083,\n",
       "         0.        , -0.06756292,  0.01489155,  0.14366078,  0.        ,\n",
       "         0.        , -0.13504829,  0.        ,  0.00818902,  0.        ,\n",
       "         0.08282971,  0.16804734, -0.06094619, -0.0577369 ,  0.        ,\n",
       "         0.093139  ,  0.        , -0.05180296,  0.01468042,  0.        ,\n",
       "        -0.08917187,  0.        ,  0.        ,  0.113329  , -0.01413304,\n",
       "         0.        ,  0.        , -0.01282006,  0.11680812,  0.02768441,\n",
       "         0.02505909,  0.03971191,  0.13256361, -0.09459958,  0.        ,\n",
       "        -0.05030029,  0.11623289, -0.05167124,  0.07029958,  0.11971591,\n",
       "         0.07483879,  0.0196238 ,  0.08751243,  0.03411482,  0.        ,\n",
       "         0.02449433,  0.06656872,  0.07322246,  0.05043188, -0.06228637,\n",
       "         0.01011639,  0.03516607,  0.1141151 ,  0.16531241, -0.08883557,\n",
       "         0.05788466,  0.        , -0.00117508, -0.03366006, -0.02727121,\n",
       "        -0.01969064,  0.07285892,  0.18881716,  0.00407777, -0.01963125,\n",
       "         0.11432861,  0.        ,  0.0699328 ,  0.16332678,  0.12575315,\n",
       "         0.10434014,  0.        ,  0.        ,  0.05793975,  0.        ,\n",
       "         0.        ,  0.        , -0.13635693,  0.        ,  0.00222233,\n",
       "         0.06921551, -0.1608292 , -0.05343812,  0.09135553, -0.07654627,\n",
       "         0.0634486 ,  0.01735361, -0.06537876, -0.10452409,  0.        ,\n",
       "         0.01618236, -0.02728888,  0.03973477,  0.        ,  0.        ,\n",
       "        -0.07046876,  0.08857001,  0.        ,  0.        ,  0.17542833,\n",
       "         0.        ,  0.08578421, -0.05849827,  0.04202331, -0.00694145,\n",
       "         0.01848854,  0.09366605,  0.03720386,  0.10183778,  0.        ,\n",
       "         0.1159617 ,  0.09311417,  0.        , -0.18787993,  0.03948836,\n",
       "         0.        ,  0.09986077, -0.08452255,  0.        , -0.13657472,\n",
       "         0.01790978, -0.04069937,  0.0471876 , -0.077494  ,  0.        ,\n",
       "         0.14288266, -0.10490368,  0.06753411, -0.02925174,  0.00066386], dtype=float32),\n",
       " array([[  0.00000000e+00,   0.00000000e+00,   0.00000000e+00, ...,\n",
       "           0.00000000e+00,   0.00000000e+00,   0.00000000e+00],\n",
       "        [ -8.32324207e-04,   6.48376881e-05,   3.10919131e-04, ...,\n",
       "          -6.24466571e-04,   1.11552596e-03,  -7.76313595e-04],\n",
       "        [ -6.94494694e-04,   5.41008303e-05,   2.59432185e-04, ...,\n",
       "          -5.21057518e-04,   9.30799462e-04,  -6.47759240e-04],\n",
       "        ..., \n",
       "        [ -7.86544231e-04,   6.12714502e-05,   2.93817779e-04, ...,\n",
       "          -5.90119336e-04,   1.05416926e-03,  -7.33614375e-04],\n",
       "        [ -3.46693979e-03,   2.70073069e-04,   1.29509380e-03, ...,\n",
       "          -2.60113552e-03,   4.64658067e-03,  -3.23363487e-03],\n",
       "        [ -3.19573679e-03,   2.48946482e-04,   1.19378441e-03, ...,\n",
       "          -2.39766040e-03,   4.28309944e-03,  -2.98068230e-03]], dtype=float32),\n",
       " array([ -5.82026467e-02,   4.53396048e-03,   2.17419080e-02,\n",
       "         -1.11383405e-02,   1.85841378e-02,   7.82076363e-03,\n",
       "          5.26691675e-02,  -8.07142928e-02,   5.70939779e-02,\n",
       "         -7.92202428e-02,  -2.63192281e-02,   1.10160522e-02,\n",
       "          6.86688870e-02,  -6.90029562e-03,  -5.46455681e-02,\n",
       "          3.85958664e-02,  -1.26973726e-02,   1.73746437e-01,\n",
       "          4.58008498e-02,  -8.23849738e-02,   1.40805796e-01,\n",
       "         -1.02032281e-01,   8.20404887e-02,   7.27719963e-02,\n",
       "         -9.25758332e-02,   5.52270897e-02,   4.10409272e-02,\n",
       "         -2.64007226e-02,  -1.13302715e-01,   1.01016879e-01,\n",
       "         -4.27097492e-02,  -1.87375054e-01,   1.19310813e-02,\n",
       "          2.43014917e-02,  -5.30568324e-02,   6.06679991e-02,\n",
       "          4.87413555e-02,   4.10893839e-03,  -5.91178611e-02,\n",
       "          1.06626794e-01,  -2.02453304e-02,  -1.45872757e-01,\n",
       "          1.37520507e-01,  -1.28206700e-01,  -3.62739265e-02,\n",
       "          7.17147440e-02,  -3.96156590e-03,   1.17374219e-01,\n",
       "         -4.82905395e-02,   1.25156343e-01,   6.34338334e-02,\n",
       "         -1.94111876e-02,  -1.01862475e-01,  -5.03219068e-02,\n",
       "         -5.35667948e-02,  -4.24704216e-02,  -1.77029267e-01,\n",
       "          1.08384907e-01,   3.29348966e-02,   5.73253296e-02,\n",
       "         -3.11888801e-03,   1.40735343e-01,  -7.08448747e-03,\n",
       "          1.24020772e-02,  -7.84618258e-02,  -7.92587772e-02,\n",
       "         -3.82210463e-02,   1.11175828e-01,  -7.07323253e-02,\n",
       "         -3.13542373e-02,  -1.58639923e-01,   1.36064948e-03,\n",
       "          2.21469119e-01,  -8.06864700e-05,  -1.71197671e-02,\n",
       "         -1.02028303e-01,   1.01492636e-01,   1.34134412e-01,\n",
       "         -9.42138210e-02,  -1.86174642e-02,   9.61211845e-02,\n",
       "         -1.46819532e-01,  -1.22209281e-01,   4.32089195e-02,\n",
       "          3.61416228e-02,   2.47785244e-02,   7.87236169e-02,\n",
       "          3.01679485e-02,   1.09063156e-01,  -1.40512422e-01,\n",
       "          1.26783758e-01,  -4.12297435e-02,   1.12166591e-02,\n",
       "         -3.78306620e-02,   3.95371243e-02,  -4.86476682e-02,\n",
       "         -1.18626341e-01,   1.05568305e-01,  -5.55483997e-02,\n",
       "         -6.42437786e-02,   4.98709492e-02,   1.96301267e-02,\n",
       "         -1.31200086e-02,   1.11282431e-01,  -7.36673251e-02,\n",
       "          4.39103767e-02,   4.74424064e-02,  -3.72640714e-02,\n",
       "         -9.50367525e-02,   6.97315410e-02,  -8.66284147e-02,\n",
       "         -5.00517152e-03,  -5.22469990e-02,   1.53197557e-01,\n",
       "         -7.16875866e-03,   6.48652539e-02,   2.51943544e-02,\n",
       "          1.27106965e-01,   3.24839051e-03,   5.21744713e-02,\n",
       "         -7.32274577e-02,  -8.29914287e-02,  -8.78356099e-02,\n",
       "          1.37986643e-02,   9.41743106e-02,  -1.09967433e-01,\n",
       "          7.93946907e-02,  -8.80279616e-02,  -9.24664363e-03,\n",
       "          1.17957205e-01,  -8.23973306e-03,  -2.07411349e-02,\n",
       "          5.37624955e-02,   1.62204817e-01,   7.97519535e-02,\n",
       "          1.19238339e-01,  -1.74749438e-02,  -1.46196201e-01,\n",
       "          2.93177720e-02,  -1.48602486e-01,  -1.17670991e-01,\n",
       "         -3.22414078e-02,   1.05224058e-01,  -4.11114059e-02,\n",
       "          2.37290680e-01,   1.37584135e-01,   3.05467620e-02,\n",
       "         -5.98300854e-03,  -8.20886195e-02,  -1.10102393e-01,\n",
       "         -1.31925821e-01,   5.99421747e-02,   8.93197581e-02,\n",
       "         -7.11217895e-02,  -4.19989154e-02,  -7.88578838e-02,\n",
       "         -6.77621290e-02,  -6.45702109e-02,   5.94754703e-03,\n",
       "          3.39746252e-02,  -6.82478165e-03,   5.04947603e-02,\n",
       "          1.00250140e-01,   1.28563670e-02,   4.03626263e-02,\n",
       "          2.27261819e-02,  -8.42178538e-02,  -8.74031037e-02,\n",
       "         -2.65048761e-02,   7.74930418e-02,  -8.70765671e-02,\n",
       "          2.14599613e-02,   2.31253058e-02,  -1.19036250e-01,\n",
       "         -5.59741370e-02,  -3.89290974e-02,   8.61634389e-02,\n",
       "          3.38952877e-02,  -1.10855445e-01,  -7.22983032e-02,\n",
       "         -3.24430615e-02,  -3.17610726e-02,  -1.15114503e-01,\n",
       "          6.97532073e-02,  -1.09803051e-01,   9.37218592e-02,\n",
       "         -1.19662233e-01,  -2.49129049e-02,  -1.31323989e-02,\n",
       "          5.18083498e-02,  -1.02134924e-02,  -1.20371945e-01,\n",
       "          1.70503497e-01,  -2.25919317e-02,  -1.26885539e-02,\n",
       "         -9.52405408e-02,   4.29942012e-02,   2.22102244e-04,\n",
       "         -1.17669411e-01,  -7.78824985e-02,  -1.11013681e-01,\n",
       "          5.48732616e-02,  -1.80356707e-02,  -1.48638887e-02,\n",
       "         -3.80042829e-02,  -2.96655521e-02,   1.26825050e-01,\n",
       "         -5.25919944e-02,  -6.22122474e-02,  -1.25750825e-01,\n",
       "         -2.27531046e-02,   1.14037022e-01,   5.20284623e-02,\n",
       "          7.83865899e-02,  -1.01023443e-01,  -3.55172642e-02,\n",
       "          9.98472348e-02,   3.73272002e-02,  -8.59125853e-02,\n",
       "         -4.43545021e-02,   1.19585901e-01,  -1.43230349e-01,\n",
       "          6.74248338e-02,  -2.80510224e-02,   1.16987200e-02,\n",
       "          1.42125830e-01,  -7.74699301e-02,   1.49361650e-02,\n",
       "         -9.63063389e-02,   6.85738996e-02,  -4.67434851e-03,\n",
       "          2.04625796e-03,  -1.17672704e-01,  -1.33082911e-01,\n",
       "         -9.14758295e-02,  -8.56079385e-02,  -6.98970333e-02,\n",
       "          1.10229492e-01,   9.68343914e-02,  -7.34874010e-02,\n",
       "          3.58497463e-02,   5.37087731e-02,  -9.05801058e-02,\n",
       "          1.98094174e-03,  -1.42271444e-01,  -2.63504591e-02,\n",
       "          4.44362359e-03,  -4.36676107e-02,   7.80063421e-02,\n",
       "         -5.42859472e-02], dtype=float32)]"
      ]
     },
     "execution_count": 109,
     "metadata": {},
     "output_type": "execute_result"
    }
   ],
   "source": [
    "gg_grad_res"
   ]
  },
  {
   "cell_type": "code",
   "execution_count": 79,
   "metadata": {
    "collapsed": false
   },
   "outputs": [],
   "source": [
    "gg_res = gg_func(\n",
    "    queries_exp.current_documents,\n",
    "    queries_exp.current_surface_text, queries_exp.current_link_id,\n",
    "    queries_exp.current_target_input, queries_exp.current_target_id, queries_exp.current_target_goal\n",
    ")"
   ]
  },
  {
   "cell_type": "code",
   "execution_count": 51,
   "metadata": {
    "collapsed": false
   },
   "outputs": [
    {
     "data": {
      "text/plain": [
       "400"
      ]
     },
     "execution_count": 51,
     "metadata": {},
     "output_type": "execute_result"
    }
   ],
   "source": [
    "len(queries_exp.current_target_input)"
   ]
  },
  {
   "cell_type": "code",
   "execution_count": 80,
   "metadata": {
    "collapsed": false
   },
   "outputs": [
    {
     "data": {
      "text/plain": [
       "array([ 0.29542816,  0.28095254,  0.33144516,  0.26033801,  0.30518502,\n",
       "        0.30744812,  0.27378052,  0.29007095,  0.        ,  0.31962284,\n",
       "        0.29219297,  0.26807615,  0.26198399,  0.33053309,  0.28264579,\n",
       "        0.30185467,  0.30974212,  0.30415824,  0.26452494,  0.31237864,\n",
       "        0.28515667,  0.30756474,  0.26825306,  0.29566792,  0.26348299,\n",
       "        0.        ,  0.34485948,  0.29251757,  0.        ,  0.32832944,\n",
       "        0.31134653,  0.31885624,  0.29913256,  0.31034139,  0.3021968 ,\n",
       "        0.27235064,  0.29672292,  0.34496826,  0.3004064 ,  0.28319165,\n",
       "        0.30542776,  0.31852266,  0.35591626,  0.26192859,  0.36398679,\n",
       "        0.        ,  0.        ,  0.35293648,  0.        ,  0.32233551,\n",
       "        0.32399803,  0.31052122,  0.33514592,  0.        ,  0.33839938,\n",
       "        0.30342132,  0.30080143,  0.33954608,  0.31676838,  0.27356973,\n",
       "        0.29861012,  0.2438335 ,  0.26769674,  0.32690597,  0.30777121,\n",
       "        0.31307751,  0.33897728,  0.        ,  0.36814642,  0.26832426,\n",
       "        0.31021395,  0.31349629,  0.28937471,  0.32566446,  0.31176493,\n",
       "        0.34921747,  0.34489673,  0.29198456,  0.27322602,  0.        ,\n",
       "        0.        ,  0.26788726,  0.        ,  0.29529476,  0.33767366,\n",
       "        0.        ,  0.30098793,  0.29692057,  0.31511092,  0.30036825,\n",
       "        0.        ,  0.        ,  0.30070147,  0.33196563,  0.26818323,\n",
       "        0.29960513,  0.29345712,  0.27731073,  0.29009792,  0.2959609 ,\n",
       "        0.30089176,  0.32542744,  0.29032877,  0.        ,  0.        ,\n",
       "        0.29709989,  0.34453338,  0.31070626,  0.34837198,  0.        ,\n",
       "        0.        ,  0.28243071,  0.28924936,  0.2470035 ,  0.32511407,\n",
       "        0.30602816,  0.32922035,  0.33116603,  0.29893151,  0.29174843,\n",
       "        0.31713143,  0.        ,  0.29720655,  0.2775971 ,  0.28872147,\n",
       "        0.30859792,  0.3076528 ,  0.25572059,  0.28934869,  0.2934444 ,\n",
       "        0.30671602,  0.28661722,  0.        ,  0.29175797,  0.        ,\n",
       "        0.30682176,  0.32392079,  0.        ,  0.36952749,  0.29769188,\n",
       "        0.32293147,  0.        ,  0.        ,  0.        ,  0.32052067,\n",
       "        0.        ,  0.3169888 ,  0.31616572,  0.        ,  0.29240081,\n",
       "        0.31151229,  0.31084713,  0.27947903,  0.34205404,  0.        ,\n",
       "        0.38257107,  0.25076056,  0.28960979,  0.23181026,  0.27663788,\n",
       "        0.        ,  0.28280926,  0.        ,  0.27467287,  0.        ,\n",
       "        0.25885403,  0.28653196,  0.        ,  0.28506729,  0.        ,\n",
       "        0.        ,  0.2927295 ,  0.27296627,  0.31269732,  0.34473568,\n",
       "        0.        ,  0.35062647,  0.        ,  0.33096698,  0.        ,\n",
       "        0.27853626,  0.        ,  0.2960982 ,  0.27137041,  0.        ,\n",
       "        0.        ,  0.30757734,  0.29239121,  0.31286332,  0.29093161,\n",
       "        0.31298119,  0.30968076,  0.29403374,  0.25890502,  0.        ,\n",
       "        0.        ,  0.29682121,  0.31770211,  0.26751727,  0.        ,\n",
       "        0.29386449,  0.34028774,  0.29879823,  0.33286747,  0.27738652,\n",
       "        0.28976372,  0.        ,  0.24052905,  0.29630905,  0.26434919,\n",
       "        0.29210371,  0.28604096,  0.2740722 ,  0.32243475,  0.29768759,\n",
       "        0.25603038,  0.        ,  0.30366766,  0.28090942,  0.28691003,\n",
       "        0.32590267,  0.        ,  0.28106838,  0.        ,  0.27513862,\n",
       "        0.28470016,  0.30690828,  0.31368774,  0.26680201,  0.31027678,\n",
       "        0.30789107,  0.        ,  0.29652464,  0.31733862,  0.29764411,\n",
       "        0.        ,  0.29336649,  0.29502711,  0.30762583,  0.27769154,\n",
       "        0.        ,  0.30545104,  0.29425266,  0.        ,  0.        ,\n",
       "        0.        ,  0.26541331,  0.31605241,  0.27000108,  0.        ,\n",
       "        0.31125468,  0.27751371,  0.3108232 ,  0.        ,  0.2735821 ,\n",
       "        0.        ,  0.30850244,  0.33901194,  0.30887157,  0.28529975,\n",
       "        0.29010463,  0.30872697,  0.33517241,  0.31497374,  0.34567696,\n",
       "        0.30128658,  0.30975178,  0.336018  ,  0.31579539,  0.322992  ,\n",
       "        0.2675432 ,  0.27934557,  0.25968477,  0.29816592,  0.29070574,\n",
       "        0.27466059,  0.27109817,  0.26938012,  0.30011845,  0.        ,\n",
       "        0.2786189 ,  0.32860026,  0.        ,  0.32649794,  0.        ,\n",
       "        0.        ,  0.        ,  0.28813034,  0.339053  ,  0.33500993,\n",
       "        0.29680517,  0.3007406 ,  0.32703903,  0.        ,  0.        ,\n",
       "        0.33116823,  0.32683209,  0.        ,  0.27406442,  0.        ,\n",
       "        0.32610953,  0.32275766,  0.32217866,  0.30318296,  0.32084256,\n",
       "        0.        ,  0.26146254,  0.30284518,  0.29815453,  0.        ,\n",
       "        0.29360193,  0.31370628,  0.30732664,  0.        ,  0.32471812,\n",
       "        0.32068467,  0.30848292,  0.29412729,  0.29222441,  0.28952995,\n",
       "        0.29735628,  0.32908991,  0.25165281,  0.29500812,  0.        ,\n",
       "        0.        ,  0.        ,  0.        ,  0.29276806,  0.30738676,\n",
       "        0.30351666,  0.32818541,  0.30726966,  0.        ,  0.3065531 ,\n",
       "        0.29355946,  0.29713514,  0.26594886,  0.        ,  0.        ,\n",
       "        0.3246786 ,  0.        ,  0.26540419,  0.30132705,  0.31273243,\n",
       "        0.        ,  0.3754389 ,  0.30774423,  0.30076635,  0.31659725,\n",
       "        0.26750413,  0.31446609,  0.33230007,  0.        ,  0.2738125 ,\n",
       "        0.25259164,  0.23311655,  0.313131  ,  0.27988052,  0.27825791,\n",
       "        0.31026897,  0.30296513,  0.28519186,  0.32260257,  0.35038328,\n",
       "        0.31701207,  0.34905753,  0.2982851 ,  0.38117871,  0.28713059,\n",
       "        0.31251472,  0.        ,  0.31255892,  0.30330062,  0.        ,\n",
       "        0.32459745,  0.29573476,  0.        ,  0.28923634,  0.2585533 ,\n",
       "        0.31821397,  0.30237946,  0.31351176,  0.        ,  0.33346361,\n",
       "        0.        ,  0.        ,  0.30643043,  0.29538551,  0.        ,\n",
       "        0.29043189,  0.27024582,  0.30678961,  0.31621343,  0.28356943,\n",
       "        0.25225803,  0.        ,  0.34628633,  0.        ,  0.29228273], dtype=float32)"
      ]
     },
     "execution_count": 80,
     "metadata": {},
     "output_type": "execute_result"
    }
   ],
   "source": [
    "gg_res[6]"
   ]
  },
  {
   "cell_type": "code",
   "execution_count": 62,
   "metadata": {
    "collapsed": false
   },
   "outputs": [
    {
     "data": {
      "text/plain": [
       "False"
      ]
     },
     "execution_count": 62,
     "metadata": {},
     "output_type": "execute_result"
    }
   ],
   "source": [
    "\n",
    "np.isnan(gg_res[4]).any()"
   ]
  },
  {
   "cell_type": "code",
   "execution_count": 59,
   "metadata": {
    "collapsed": false
   },
   "outputs": [
    {
     "data": {
      "text/plain": [
       "False"
      ]
     },
     "execution_count": 59,
     "metadata": {},
     "output_type": "execute_result"
    }
   ],
   "source": [
    "np.isnan(gg_res[5]).any()"
   ]
  },
  {
   "cell_type": "code",
   "execution_count": null,
   "metadata": {
    "collapsed": false
   },
   "outputs": [],
   "source": [
    "gg_res[2]"
   ]
  },
  {
   "cell_type": "code",
   "execution_count": null,
   "metadata": {
    "collapsed": false
   },
   "outputs": [],
   "source": [
    "gg_res[0].shape, gg_res[1].shape, gg_res[2].shape, gg_res[3].shape, gg_res[4].shape"
   ]
  },
  {
   "cell_type": "code",
   "execution_count": null,
   "metadata": {
    "collapsed": false
   },
   "outputs": [],
   "source": [
    "np.inner(gg_res[0], gg_res[1]).shape"
   ]
  },
  {
   "cell_type": "code",
   "execution_count": null,
   "metadata": {
    "collapsed": false
   },
   "outputs": [],
   "source": [
    "gg_res[0] * gg_res[1]"
   ]
  },
  {
   "cell_type": "code",
   "execution_count": null,
   "metadata": {
    "collapsed": false
   },
   "outputs": [],
   "source": [
    "aa = np.dot(gg_res[0], gg_res[1].T)"
   ]
  },
  {
   "cell_type": "code",
   "execution_count": null,
   "metadata": {
    "collapsed": false
   },
   "outputs": [],
   "source": [
    "aa.diagonal().shape"
   ]
  },
  {
   "cell_type": "code",
   "execution_count": null,
   "metadata": {
    "collapsed": false
   },
   "outputs": [],
   "source": [
    "gg_res[2]"
   ]
  },
  {
   "cell_type": "code",
   "execution_count": null,
   "metadata": {
    "collapsed": false
   },
   "outputs": [],
   "source": [
    "len(queries_exp.queried_pages)"
   ]
  },
  {
   "cell_type": "code",
   "execution_count": null,
   "metadata": {
    "collapsed": false
   },
   "outputs": [],
   "source": [
    "len(queries_exp.page_content)"
   ]
  },
  {
   "cell_type": "code",
   "execution_count": null,
   "metadata": {
    "collapsed": false
   },
   "outputs": [],
   "source": [
    "len(queries_exp.current_surface_text)"
   ]
  },
  {
   "cell_type": "code",
   "execution_count": null,
   "metadata": {
    "collapsed": false
   },
   "outputs": [],
   "source": [
    "len(queries_exp.current_link_id)"
   ]
  },
  {
   "cell_type": "code",
   "execution_count": null,
   "metadata": {
    "collapsed": false
   },
   "outputs": [],
   "source": [
    "len(queries_exp.current_target_input)"
   ]
  },
  {
   "cell_type": "code",
   "execution_count": 39,
   "metadata": {
    "collapsed": false
   },
   "outputs": [
    {
     "ename": "RuntimeError",
     "evalue": "nan in some of the parameters",
     "output_type": "error",
     "traceback": [
      "\u001b[1;31m---------------------------------------------------------------------------\u001b[0m",
      "\u001b[1;31mRuntimeError\u001b[0m                              Traceback (most recent call last)",
      "\u001b[1;32m<ipython-input-39-f9466b6d9ed8>\u001b[0m in \u001b[0;36m<module>\u001b[1;34m()\u001b[0m\n\u001b[0;32m      2\u001b[0m \u001b[1;33m\u001b[0m\u001b[0m\n\u001b[0;32m      3\u001b[0m \u001b[1;32mfor\u001b[0m \u001b[0mi\u001b[0m \u001b[1;32min\u001b[0m \u001b[0mxrange\u001b[0m\u001b[1;33m(\u001b[0m\u001b[1;36m5\u001b[0m\u001b[1;33m)\u001b[0m\u001b[1;33m:\u001b[0m\u001b[1;33m\u001b[0m\u001b[0m\n\u001b[1;32m----> 4\u001b[1;33m     \u001b[0mexp_results\u001b[0m\u001b[1;33m.\u001b[0m\u001b[0mappend\u001b[0m\u001b[1;33m(\u001b[0m\u001b[1;33m(\u001b[0m\u001b[0mi\u001b[0m\u001b[1;33m,\u001b[0m \u001b[0mqueries_exp\u001b[0m\u001b[1;33m.\u001b[0m\u001b[0mcompute_batch\u001b[0m\u001b[1;33m(\u001b[0m\u001b[1;33m)\u001b[0m\u001b[1;33m)\u001b[0m\u001b[1;33m)\u001b[0m\u001b[1;33m\u001b[0m\u001b[0m\n\u001b[0m",
      "\u001b[1;32m<ipython-input-38-e8d48a36d8a1>\u001b[0m in \u001b[0;36mcompute_batch\u001b[1;34m(self, isTraining)\u001b[0m\n\u001b[0;32m    289\u001b[0m                     \u001b[0mself\u001b[0m\u001b[1;33m.\u001b[0m\u001b[0mlearning_targets\u001b[0m\u001b[1;33m.\u001b[0m\u001b[0mappend\u001b[0m\u001b[1;33m(\u001b[0m\u001b[1;33m(\u001b[0m\u001b[0mtargets\u001b[0m\u001b[1;33m,\u001b[0m \u001b[0mtarget\u001b[0m\u001b[1;33m)\u001b[0m\u001b[1;33m)\u001b[0m\u001b[1;33m\u001b[0m\u001b[0m\n\u001b[0;32m    290\u001b[0m             \u001b[1;32mif\u001b[0m \u001b[0mlen\u001b[0m\u001b[1;33m(\u001b[0m\u001b[0mself\u001b[0m\u001b[1;33m.\u001b[0m\u001b[0mcurrent_target_id\u001b[0m\u001b[1;33m)\u001b[0m \u001b[1;33m>\u001b[0m \u001b[0mself\u001b[0m\u001b[1;33m.\u001b[0m\u001b[0mbatch_size\u001b[0m\u001b[1;33m:\u001b[0m\u001b[1;33m\u001b[0m\u001b[0m\n\u001b[1;32m--> 291\u001b[1;33m                 \u001b[0mself\u001b[0m\u001b[1;33m.\u001b[0m\u001b[0mrun_batch\u001b[0m\u001b[1;33m(\u001b[0m\u001b[0mfunc\u001b[0m\u001b[1;33m)\u001b[0m\u001b[1;33m\u001b[0m\u001b[0m\n\u001b[0m\u001b[0;32m    292\u001b[0m \u001b[1;33m\u001b[0m\u001b[0m\n\u001b[0;32m    293\u001b[0m         \u001b[1;32mif\u001b[0m \u001b[0mlen\u001b[0m\u001b[1;33m(\u001b[0m\u001b[0mself\u001b[0m\u001b[1;33m.\u001b[0m\u001b[0mcurrent_target_id\u001b[0m\u001b[1;33m)\u001b[0m \u001b[1;33m>\u001b[0m \u001b[1;36m0\u001b[0m\u001b[1;33m:\u001b[0m\u001b[1;33m\u001b[0m\u001b[0m\n",
      "\u001b[1;32m<ipython-input-38-e8d48a36d8a1>\u001b[0m in \u001b[0;36mrun_batch\u001b[1;34m(self, func)\u001b[0m\n\u001b[0;32m    309\u001b[0m             \u001b[0ml\u001b[0m\u001b[1;33m[\u001b[0m\u001b[1;36m0\u001b[0m\u001b[1;33m]\u001b[0m\u001b[1;33m[\u001b[0m\u001b[1;34m'vals'\u001b[0m\u001b[1;33m]\u001b[0m\u001b[1;33m[\u001b[0m \u001b[0ml\u001b[0m\u001b[1;33m[\u001b[0m\u001b[1;36m1\u001b[0m\u001b[1;33m]\u001b[0m \u001b[1;33m]\u001b[0m \u001b[1;33m=\u001b[0m \u001b[0mres_vec\u001b[0m\u001b[1;33m[\u001b[0m\u001b[0mi\u001b[0m\u001b[1;33m]\u001b[0m\u001b[1;33m\u001b[0m\u001b[0m\n\u001b[0;32m    310\u001b[0m         \u001b[0mself\u001b[0m\u001b[1;33m.\u001b[0m\u001b[0mreset_accums\u001b[0m\u001b[1;33m(\u001b[0m\u001b[1;33m)\u001b[0m\u001b[1;33m\u001b[0m\u001b[0m\n\u001b[1;32m--> 311\u001b[1;33m         \u001b[0mself\u001b[0m\u001b[1;33m.\u001b[0m\u001b[0mcheck_params\u001b[0m\u001b[1;33m(\u001b[0m\u001b[1;33m)\u001b[0m\u001b[1;33m\u001b[0m\u001b[0m\n\u001b[0m\u001b[0;32m    312\u001b[0m \u001b[1;33m\u001b[0m\u001b[0m\n\u001b[0;32m    313\u001b[0m     \u001b[1;32mdef\u001b[0m \u001b[0mcheck_params\u001b[0m\u001b[1;33m(\u001b[0m\u001b[0mself\u001b[0m\u001b[1;33m)\u001b[0m\u001b[1;33m:\u001b[0m\u001b[1;33m\u001b[0m\u001b[0m\n",
      "\u001b[1;32m<ipython-input-38-e8d48a36d8a1>\u001b[0m in \u001b[0;36mcheck_params\u001b[1;34m(self)\u001b[0m\n\u001b[0;32m    313\u001b[0m     \u001b[1;32mdef\u001b[0m \u001b[0mcheck_params\u001b[0m\u001b[1;33m(\u001b[0m\u001b[0mself\u001b[0m\u001b[1;33m)\u001b[0m\u001b[1;33m:\u001b[0m\u001b[1;33m\u001b[0m\u001b[0m\n\u001b[0;32m    314\u001b[0m         \u001b[1;32mif\u001b[0m \u001b[0many\u001b[0m\u001b[1;33m(\u001b[0m\u001b[1;33m[\u001b[0m\u001b[0mnp\u001b[0m\u001b[1;33m.\u001b[0m\u001b[0misnan\u001b[0m\u001b[1;33m(\u001b[0m\u001b[0mv\u001b[0m\u001b[1;33m.\u001b[0m\u001b[0mget_value\u001b[0m\u001b[1;33m(\u001b[0m\u001b[0mborrow\u001b[0m\u001b[1;33m=\u001b[0m\u001b[0mTrue\u001b[0m\u001b[1;33m)\u001b[0m\u001b[1;33m)\u001b[0m\u001b[1;33m.\u001b[0m\u001b[0many\u001b[0m\u001b[1;33m(\u001b[0m\u001b[1;33m)\u001b[0m \u001b[1;32mfor\u001b[0m \u001b[0mv\u001b[0m \u001b[1;32min\u001b[0m \u001b[0mself\u001b[0m\u001b[1;33m.\u001b[0m\u001b[0mall_params\u001b[0m\u001b[1;33m]\u001b[0m\u001b[1;33m)\u001b[0m\u001b[1;33m:\u001b[0m\u001b[1;33m\u001b[0m\u001b[0m\n\u001b[1;32m--> 315\u001b[1;33m             \u001b[1;32mraise\u001b[0m \u001b[0mRuntimeError\u001b[0m\u001b[1;33m(\u001b[0m\u001b[1;34m'nan in some of the parameters'\u001b[0m\u001b[1;33m)\u001b[0m\u001b[1;33m\u001b[0m\u001b[0m\n\u001b[0m\u001b[0;32m    316\u001b[0m \u001b[1;33m\u001b[0m\u001b[0m\n\u001b[0;32m    317\u001b[0m \u001b[1;33m\u001b[0m\u001b[0m\n",
      "\u001b[1;31mRuntimeError\u001b[0m: nan in some of the parameters"
     ]
    }
   ],
   "source": [
    "exp_results = []\n",
    "\n",
    "for i in xrange(5):\n",
    "    exp_results.append((i, queries_exp.compute_batch()))"
   ]
  },
  {
   "cell_type": "code",
   "execution_count": null,
   "metadata": {
    "collapsed": false
   },
   "outputs": [],
   "source": [
    "exp_results"
   ]
  },
  {
   "cell_type": "code",
   "execution_count": null,
   "metadata": {
    "collapsed": false
   },
   "outputs": [],
   "source": [
    "queries.values()"
   ]
  },
  {
   "cell_type": "code",
   "execution_count": null,
   "metadata": {
    "collapsed": false
   },
   "outputs": [],
   "source": [
    "queries_exp.total_links"
   ]
  },
  {
   "cell_type": "code",
   "execution_count": null,
   "metadata": {
    "collapsed": false
   },
   "outputs": [],
   "source": [
    "queries_exp.total_loss / queries_exp.total_links"
   ]
  },
  {
   "cell_type": "code",
   "execution_count": null,
   "metadata": {
    "collapsed": false
   },
   "outputs": [],
   "source": [
    "queries_exp.total_loss"
   ]
  },
  {
   "cell_type": "code",
   "execution_count": null,
   "metadata": {
    "collapsed": false
   },
   "outputs": [],
   "source": [
    "len(queries_exp.current_target_id)"
   ]
  },
  {
   "cell_type": "code",
   "execution_count": null,
   "metadata": {
    "collapsed": false
   },
   "outputs": [],
   "source": [
    "queries_exp.compute_batch()"
   ]
  },
  {
   "cell_type": "code",
   "execution_count": null,
   "metadata": {
    "collapsed": false
   },
   "outputs": [],
   "source": [
    "%time queries_exp.run_batch(queries_exp.test_func)"
   ]
  },
  {
   "cell_type": "code",
   "execution_count": null,
   "metadata": {
    "collapsed": true
   },
   "outputs": [],
   "source": []
  }
 ],
 "metadata": {
  "kernelspec": {
   "display_name": "Python 2",
   "language": "python",
   "name": "python2"
  },
  "language_info": {
   "codemirror_mode": {
    "name": "ipython",
    "version": 2
   },
   "file_extension": ".py",
   "mimetype": "text/x-python",
   "name": "python",
   "nbconvert_exporter": "python",
   "pygments_lexer": "ipython2",
   "version": "2.7.5"
  }
 },
 "nbformat": 4,
 "nbformat_minor": 0
}
