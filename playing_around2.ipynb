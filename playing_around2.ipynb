{
 "cells": [
  {
   "cell_type": "code",
   "execution_count": 1,
   "metadata": {
    "collapsed": true
   },
   "outputs": [],
   "source": [
    "%load_ext autoreload"
   ]
  },
  {
   "cell_type": "code",
   "execution_count": 2,
   "metadata": {
    "collapsed": true
   },
   "outputs": [],
   "source": [
    "%autoreload 2"
   ]
  },
  {
   "cell_type": "code",
   "execution_count": 3,
   "metadata": {
    "collapsed": true
   },
   "outputs": [],
   "source": [
    "from theano import *\n",
    "from lasagne.layers import EmbeddingLayer, InputLayer, get_output\n",
    "import lasagne\n",
    "import lasagne.layers\n",
    "import theano.tensor as T\n",
    "import theano\n",
    "import numpy as np"
   ]
  },
  {
   "cell_type": "code",
   "execution_count": 17,
   "metadata": {
    "collapsed": true
   },
   "outputs": [],
   "source": [
    "l_in = lasagne.layers.InputLayer((1,50))"
   ]
  },
  {
   "cell_type": "code",
   "execution_count": 18,
   "metadata": {
    "collapsed": false
   },
   "outputs": [],
   "source": [
    "l_hidden = lasagne.layers.DenseLayer(l_in, num_units=10, name='dens1')"
   ]
  },
  {
   "cell_type": "code",
   "execution_count": 19,
   "metadata": {
    "collapsed": true
   },
   "outputs": [],
   "source": [
    "l_out = lasagne.layers.DenseLayer(l_hidden, num_units=1, name='dens2')"
   ]
  },
  {
   "cell_type": "code",
   "execution_count": 20,
   "metadata": {
    "collapsed": false
   },
   "outputs": [],
   "source": [
    "out = lasagne.layers.get_output(l_out)"
   ]
  },
  {
   "cell_type": "code",
   "execution_count": 21,
   "metadata": {
    "collapsed": false
   },
   "outputs": [
    {
     "name": "stdout",
     "output_type": "stream",
     "text": [
      "Elemwise{mul,no_inplace}.0\n"
     ]
    }
   ],
   "source": [
    "print out"
   ]
  },
  {
   "cell_type": "code",
   "execution_count": 22,
   "metadata": {
    "collapsed": true
   },
   "outputs": [],
   "source": [
    "target = T.ivector('y')\n",
    "loss = lasagne.objectives.binary_crossentropy(out, target).mean()"
   ]
  },
  {
   "cell_type": "code",
   "execution_count": 23,
   "metadata": {
    "collapsed": false
   },
   "outputs": [],
   "source": [
    "all_params = lasagne.layers.get_all_params(l_out)"
   ]
  },
  {
   "cell_type": "code",
   "execution_count": 24,
   "metadata": {
    "collapsed": false
   },
   "outputs": [],
   "source": [
    "update = lasagne.updates.adagrad(loss, all_params, .01, .9)"
   ]
  },
  {
   "cell_type": "code",
   "execution_count": 25,
   "metadata": {
    "collapsed": false
   },
   "outputs": [],
   "source": [
    "train = theano.function(\n",
    "    [l_in.input_var, target], loss, updates=update,\n",
    "    allow_input_downcast=True,\n",
    "    mode='DebugMode',\n",
    ")"
   ]
  },
  {
   "cell_type": "code",
   "execution_count": 26,
   "metadata": {
    "collapsed": false
   },
   "outputs": [],
   "source": [
    "fun_loss = theano.function([l_in.input_var, target],loss,mode='DebugMode')\n",
    "#fun_out = theano.function([l_in.input_var], out, mode='DebugMode', on_unused_input='warn')"
   ]
  },
  {
   "cell_type": "code",
   "execution_count": 27,
   "metadata": {
    "collapsed": false
   },
   "outputs": [],
   "source": [
    "target_v = (np.random.randint(0,2,1) * 2 - 1).astype('int32')"
   ]
  },
  {
   "cell_type": "code",
   "execution_count": 28,
   "metadata": {
    "collapsed": false
   },
   "outputs": [],
   "source": [
    "target_t = np.random.randn(1, 50)"
   ]
  },
  {
   "cell_type": "code",
   "execution_count": 29,
   "metadata": {
    "collapsed": false
   },
   "outputs": [
    {
     "ename": "InvalidValueError",
     "evalue": "InvalidValueError\n        type(variable) = TensorType(float64, matrix)\n        variable       = Elemwise{Composite{((i0 * log(Composite{(i0 * (Abs((i1 + i2)) + i1 + i2))}(i1, i2, i3))) + (i4 * log((i5 - Composite{(i0 * (Abs((i1 + i2)) + i1 + i2))}(i1, i2, i3)))))}}[(0, 2)].0\n        type(value)    = <type 'numpy.ndarray'>\n        dtype(value)   = float64\n        shape(value)   = (1, 1)\n        value          = [[ inf]]\n        min(value)     = inf\n        max(value)     = inf\n        isfinite       = False\n        client_node    = None\n        hint           = perform output\n        specific_hint  = non-finite elements not allowed\n        context        = ...\n  Elemwise{Composite{((i0 * log(Composite{(i0 * (Abs((i1 + i2)) + i1 + i2))}(i1, i2, i3))) + (i4 * log((i5 - Composite{(i0 * (Abs((i1 + i2)) + i1 + i2))}(i1, i2, i3)))))}}[(0, 2)] [@A] ''   \n   |InplaceDimShuffle{x,0} [@B] ''   \n   | |y [@C]\n   |TensorConstant{(1, 1) of 0.5} [@D]\n   |Dot22 [@E] ''   \n   | |Elemwise{Composite{(i0 * (Abs((i1 + i2)) + i1 + i2))}}[(0, 1)] [@F] ''   \n   | | |TensorConstant{(1, 1) of 0.5} [@D]\n   | | |Dot22 [@G] ''   \n   | | | |input [@H]\n   | | | |dens1.W [@I]\n   | | |InplaceDimShuffle{x,0} [@J] ''   \n   | |   |dens1.b [@K]\n   | |dens2.W [@L]\n   |InplaceDimShuffle{x,0} [@M] ''   \n   | |dens2.b [@N]\n   |Elemwise{sub,no_inplace} [@O] ''   \n   | |TensorConstant{(1, 1) of 1.0} [@P]\n   | |InplaceDimShuffle{x,0} [@B] ''   \n   |TensorConstant{(1, 1) of 1.0} [@P]\n\n        ",
     "output_type": "error",
     "traceback": [
      "\u001b[1;31m---------------------------------------------------------------------------\u001b[0m",
      "\u001b[1;31mInvalidValueError\u001b[0m                         Traceback (most recent call last)",
      "\u001b[1;32m<ipython-input-29-8403bc857a69>\u001b[0m in \u001b[0;36m<module>\u001b[1;34m()\u001b[0m\n\u001b[1;32m----> 1\u001b[1;33m \u001b[0mfun_loss\u001b[0m\u001b[1;33m(\u001b[0m\u001b[0mtarget_t\u001b[0m\u001b[1;33m,\u001b[0m \u001b[0mtarget_v\u001b[0m\u001b[1;33m)\u001b[0m\u001b[1;33m\u001b[0m\u001b[0m\n\u001b[0m",
      "\u001b[1;32m/home/matthew/.virtualenvs/nlp-convnet/lib/python2.7/site-packages/theano/compile/function_module.pyc\u001b[0m in \u001b[0;36m__call__\u001b[1;34m(self, *args, **kwargs)\u001b[0m\n\u001b[0;32m    593\u001b[0m         \u001b[0mt0_fn\u001b[0m \u001b[1;33m=\u001b[0m \u001b[0mtime\u001b[0m\u001b[1;33m.\u001b[0m\u001b[0mtime\u001b[0m\u001b[1;33m(\u001b[0m\u001b[1;33m)\u001b[0m\u001b[1;33m\u001b[0m\u001b[0m\n\u001b[0;32m    594\u001b[0m         \u001b[1;32mtry\u001b[0m\u001b[1;33m:\u001b[0m\u001b[1;33m\u001b[0m\u001b[0m\n\u001b[1;32m--> 595\u001b[1;33m             \u001b[0moutputs\u001b[0m \u001b[1;33m=\u001b[0m \u001b[0mself\u001b[0m\u001b[1;33m.\u001b[0m\u001b[0mfn\u001b[0m\u001b[1;33m(\u001b[0m\u001b[1;33m)\u001b[0m\u001b[1;33m\u001b[0m\u001b[0m\n\u001b[0m\u001b[0;32m    596\u001b[0m         \u001b[1;32mexcept\u001b[0m \u001b[0mException\u001b[0m\u001b[1;33m:\u001b[0m\u001b[1;33m\u001b[0m\u001b[0m\n\u001b[0;32m    597\u001b[0m             \u001b[1;32mif\u001b[0m \u001b[0mhasattr\u001b[0m\u001b[1;33m(\u001b[0m\u001b[0mself\u001b[0m\u001b[1;33m.\u001b[0m\u001b[0mfn\u001b[0m\u001b[1;33m,\u001b[0m \u001b[1;34m'position_of_error'\u001b[0m\u001b[1;33m)\u001b[0m\u001b[1;33m:\u001b[0m\u001b[1;33m\u001b[0m\u001b[0m\n",
      "\u001b[1;32m/home/matthew/.virtualenvs/nlp-convnet/lib/python2.7/site-packages/theano/compile/debugmode.pyc\u001b[0m in \u001b[0;36mdeco\u001b[1;34m()\u001b[0m\n\u001b[0;32m   2149\u001b[0m                 \u001b[0mTensorType\u001b[0m\u001b[1;33m.\u001b[0m\u001b[0mfilter_checks_isfinite\u001b[0m \u001b[1;33m=\u001b[0m \u001b[0mself\u001b[0m\u001b[1;33m.\u001b[0m\u001b[0mmaker\u001b[0m\u001b[1;33m.\u001b[0m\u001b[0mmode\u001b[0m\u001b[1;33m.\u001b[0m\u001b[0mcheck_isfinite\u001b[0m\u001b[1;33m\u001b[0m\u001b[0m\n\u001b[0;32m   2150\u001b[0m                 \u001b[1;32mtry\u001b[0m\u001b[1;33m:\u001b[0m\u001b[1;33m\u001b[0m\u001b[0m\n\u001b[1;32m-> 2151\u001b[1;33m                     \u001b[1;32mreturn\u001b[0m \u001b[0mf\u001b[0m\u001b[1;33m(\u001b[0m\u001b[1;33m)\u001b[0m\u001b[1;33m\u001b[0m\u001b[0m\n\u001b[0m\u001b[0;32m   2152\u001b[0m                 \u001b[1;32mfinally\u001b[0m\u001b[1;33m:\u001b[0m\u001b[1;33m\u001b[0m\u001b[0m\n\u001b[0;32m   2153\u001b[0m                     \u001b[1;31m# put back the filter_checks_isfinite\u001b[0m\u001b[1;33m\u001b[0m\u001b[1;33m\u001b[0m\u001b[0m\n",
      "\u001b[1;32m/home/matthew/.virtualenvs/nlp-convnet/lib/python2.7/site-packages/theano/compile/debugmode.pyc\u001b[0m in \u001b[0;36mf\u001b[1;34m()\u001b[0m\n\u001b[0;32m   1905\u001b[0m                                 raise InvalidValueError(r, storage_map[r][0],\n\u001b[0;32m   1906\u001b[0m                                                         \u001b[0mhint\u001b[0m\u001b[1;33m=\u001b[0m\u001b[1;34m'perform output'\u001b[0m\u001b[1;33m,\u001b[0m\u001b[1;33m\u001b[0m\u001b[0m\n\u001b[1;32m-> 1907\u001b[1;33m                                                         specific_hint=hint2)\n\u001b[0m\u001b[0;32m   1908\u001b[0m                         py_inplace_outs = _check_inputs(\n\u001b[0;32m   1909\u001b[0m                                 \u001b[0mnode\u001b[0m\u001b[1;33m,\u001b[0m \u001b[0mstorage_map\u001b[0m\u001b[1;33m,\u001b[0m \u001b[0mr_vals\u001b[0m\u001b[1;33m,\u001b[0m \u001b[0mdr_vals\u001b[0m\u001b[1;33m,\u001b[0m\u001b[1;33m\u001b[0m\u001b[0m\n",
      "\u001b[1;31mInvalidValueError\u001b[0m: InvalidValueError\n        type(variable) = TensorType(float64, matrix)\n        variable       = Elemwise{Composite{((i0 * log(Composite{(i0 * (Abs((i1 + i2)) + i1 + i2))}(i1, i2, i3))) + (i4 * log((i5 - Composite{(i0 * (Abs((i1 + i2)) + i1 + i2))}(i1, i2, i3)))))}}[(0, 2)].0\n        type(value)    = <type 'numpy.ndarray'>\n        dtype(value)   = float64\n        shape(value)   = (1, 1)\n        value          = [[ inf]]\n        min(value)     = inf\n        max(value)     = inf\n        isfinite       = False\n        client_node    = None\n        hint           = perform output\n        specific_hint  = non-finite elements not allowed\n        context        = ...\n  Elemwise{Composite{((i0 * log(Composite{(i0 * (Abs((i1 + i2)) + i1 + i2))}(i1, i2, i3))) + (i4 * log((i5 - Composite{(i0 * (Abs((i1 + i2)) + i1 + i2))}(i1, i2, i3)))))}}[(0, 2)] [@A] ''   \n   |InplaceDimShuffle{x,0} [@B] ''   \n   | |y [@C]\n   |TensorConstant{(1, 1) of 0.5} [@D]\n   |Dot22 [@E] ''   \n   | |Elemwise{Composite{(i0 * (Abs((i1 + i2)) + i1 + i2))}}[(0, 1)] [@F] ''   \n   | | |TensorConstant{(1, 1) of 0.5} [@D]\n   | | |Dot22 [@G] ''   \n   | | | |input [@H]\n   | | | |dens1.W [@I]\n   | | |InplaceDimShuffle{x,0} [@J] ''   \n   | |   |dens1.b [@K]\n   | |dens2.W [@L]\n   |InplaceDimShuffle{x,0} [@M] ''   \n   | |dens2.b [@N]\n   |Elemwise{sub,no_inplace} [@O] ''   \n   | |TensorConstant{(1, 1) of 1.0} [@P]\n   | |InplaceDimShuffle{x,0} [@B] ''   \n   |TensorConstant{(1, 1) of 1.0} [@P]\n\n        "
     ]
    }
   ],
   "source": [
    "fun_loss(target_t, target_v)"
   ]
  },
  {
   "cell_type": "code",
   "execution_count": 30,
   "metadata": {
    "collapsed": false
   },
   "outputs": [
    {
     "name": "stdout",
     "output_type": "stream",
     "text": [
      "Elemwise{Composite{(((-i0) / i1) / i2)}}[(0, 0)] [@A] ''   15\n",
      " |Sum{acc_dtype=float64} [@B] ''   14\n",
      " | |Elemwise{Composite{((i0 * log(Composite{(i0 * (Abs((i1 + i2)) + i1 + i2))}(i1, i2, i3))) + (i4 * log((i5 - Composite{(i0 * (Abs((i1 + i2)) + i1 + i2))}(i1, i2, i3)))))}}[(0, 2)] [@C] ''   13\n",
      " |   |InplaceDimShuffle{x,0} [@D] ''   1\n",
      " |   | |y [@E]\n",
      " |   |TensorConstant{(1, 1) of 0.5} [@F]\n",
      " |   |Dot22 [@G] ''   10\n",
      " |   | |Elemwise{Composite{(i0 * (Abs((i1 + i2)) + i1 + i2))}}[(0, 1)] [@H] ''   8\n",
      " |   | | |TensorConstant{(1, 1) of 0.5} [@F]\n",
      " |   | | |Dot22 [@I] ''   5\n",
      " |   | | | |input [@J]\n",
      " |   | | | |dens1.W [@K]\n",
      " |   | | |InplaceDimShuffle{x,0} [@L] ''   4\n",
      " |   | |   |dens1.b [@M]\n",
      " |   | |dens2.W [@N]\n",
      " |   |InplaceDimShuffle{x,0} [@O] ''   3\n",
      " |   | |dens2.b [@P]\n",
      " |   |Elemwise{sub,no_inplace} [@Q] ''   6\n",
      " |   | |TensorConstant{(1, 1) of 1.0} [@R]\n",
      " |   | |InplaceDimShuffle{x,0} [@D] ''   1\n",
      " |   |TensorConstant{(1, 1) of 1.0} [@R]\n",
      " |Subtensor{int64} [@S] ''   12\n",
      " | |Elemwise{Cast{float64}} [@T] ''   9\n",
      " | | |MakeVector [@U] ''   7\n",
      " | |   |Shape_i{0} [@V] ''   2\n",
      " | |   | |input [@J]\n",
      " | |   |Shape_i{0} [@W] ''   0\n",
      " | |     |y [@E]\n",
      " | |Constant{0} [@X]\n",
      " |Subtensor{int64} [@Y] ''   11\n",
      "   |Elemwise{Cast{float64}} [@T] ''   9\n",
      "   |Constant{1} [@Z]\n"
     ]
    }
   ],
   "source": [
    "theano.printing.debugprint(fun_loss)"
   ]
  },
  {
   "cell_type": "code",
   "execution_count": null,
   "metadata": {
    "collapsed": false
   },
   "outputs": [],
   "source": [
    "target_t.shape"
   ]
  },
  {
   "cell_type": "code",
   "execution_count": null,
   "metadata": {
    "collapsed": false
   },
   "outputs": [],
   "source": [
    "train(target_t, target_v)"
   ]
  },
  {
   "cell_type": "code",
   "execution_count": null,
   "metadata": {
    "collapsed": false
   },
   "outputs": [],
   "source": []
  },
  {
   "cell_type": "code",
   "execution_count": null,
   "metadata": {
    "collapsed": false
   },
   "outputs": [],
   "source": [
    "eval_v = {l_in.input_var: target_t, target: target_v}\n",
    "l_out.input_shape"
   ]
  },
  {
   "cell_type": "code",
   "execution_count": null,
   "metadata": {
    "collapsed": false
   },
   "outputs": [],
   "source": [
    "[(a.shape.eval(), a) for a in all_params]"
   ]
  },
  {
   "cell_type": "code",
   "execution_count": null,
   "metadata": {
    "collapsed": false
   },
   "outputs": [],
   "source": [
    "target_v.shape, target_t.shape"
   ]
  },
  {
   "cell_type": "code",
   "execution_count": null,
   "metadata": {
    "collapsed": false
   },
   "outputs": [],
   "source": [
    "target_t.dot(all_params[0].get_value()).dot(all_params[2].get_value()) > 0"
   ]
  },
  {
   "cell_type": "code",
   "execution_count": null,
   "metadata": {
    "collapsed": false
   },
   "outputs": [],
   "source": [
    "theano.printing.debugprint(train)"
   ]
  },
  {
   "cell_type": "code",
   "execution_count": null,
   "metadata": {
    "collapsed": false
   },
   "outputs": [],
   "source": [
    "theano.config.DebugMode."
   ]
  },
  {
   "cell_type": "code",
   "execution_count": null,
   "metadata": {
    "collapsed": true
   },
   "outputs": [],
   "source": []
  }
 ],
 "metadata": {
  "kernelspec": {
   "display_name": "Python 2",
   "language": "python",
   "name": "python2"
  },
  "language_info": {
   "codemirror_mode": {
    "name": "ipython",
    "version": 2
   },
   "file_extension": ".py",
   "mimetype": "text/x-python",
   "name": "python",
   "nbconvert_exporter": "python",
   "pygments_lexer": "ipython2",
   "version": "2.7.10"
  }
 },
 "nbformat": 4,
 "nbformat_minor": 0
}
