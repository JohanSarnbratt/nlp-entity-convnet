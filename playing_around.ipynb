{
 "cells": [
  {
   "cell_type": "code",
   "execution_count": 1,
   "metadata": {
    "collapsed": false
   },
   "outputs": [],
   "source": [
    "%load_ext autoreload"
   ]
  },
  {
   "cell_type": "code",
   "execution_count": 2,
   "metadata": {
    "collapsed": true
   },
   "outputs": [],
   "source": [
    "%autoreload 2"
   ]
  },
  {
   "cell_type": "code",
   "execution_count": 3,
   "metadata": {
    "collapsed": false
   },
   "outputs": [],
   "source": [
    "from theano import *\n",
    "from lasagne.layers import EmbeddingLayer, InputLayer, get_output\n",
    "import lasagne\n",
    "import lasagne.layers\n",
    "import theano.tensor as T\n",
    "import theano\n",
    "import numpy as np"
   ]
  },
  {
   "cell_type": "code",
   "execution_count": 4,
   "metadata": {
    "collapsed": false
   },
   "outputs": [],
   "source": [
    "from wordvecs import WordVectors\n",
    "\n",
    "wordvectors = WordVectors(fname=\"../enwiki-20141208-pages-articles-multistream-links-output4.bin\", negvectors=True)\n",
    "\n",
    "from sentiment_sents import Sentiment\n",
    "\n",
    "# just load the sentences from the CNN system\n",
    "sentiment = Sentiment(\"prevwork/CNN_sentence/\")"
   ]
  },
  {
   "cell_type": "code",
   "execution_count": 5,
   "metadata": {
    "collapsed": false
   },
   "outputs": [
    {
     "data": {
      "text/plain": [
       "6091842"
      ]
     },
     "execution_count": 5,
     "metadata": {},
     "output_type": "execute_result"
    }
   ],
   "source": [
    "len(wordvectors.vectors)"
   ]
  },
  {
   "cell_type": "code",
   "execution_count": 6,
   "metadata": {
    "collapsed": false
   },
   "outputs": [],
   "source": [
    "l_in = InputLayer((3,))"
   ]
  },
  {
   "cell_type": "code",
   "execution_count": 7,
   "metadata": {
    "collapsed": true
   },
   "outputs": [],
   "source": [
    "W = np.arange(3*5).reshape((3,5)).astype('float32')"
   ]
  },
  {
   "cell_type": "code",
   "execution_count": 8,
   "metadata": {
    "collapsed": false
   },
   "outputs": [],
   "source": [
    "l1 = EmbeddingLayer(l_in, input_size=3, output_size=5, W=W)"
   ]
  },
  {
   "cell_type": "code",
   "execution_count": 9,
   "metadata": {
    "collapsed": true
   },
   "outputs": [],
   "source": [
    "x = T.imatrix()"
   ]
  },
  {
   "cell_type": "code",
   "execution_count": 10,
   "metadata": {
    "collapsed": false
   },
   "outputs": [
    {
     "name": "stderr",
     "output_type": "stream",
     "text": [
      "/home/matthew/.virtualenvs/nlp-convnet/lib/python2.7/site-packages/lasagne/layers/helper.py:69: UserWarning: get_all_layers() has been changed to return layers in topological order. The former implementation is still available as get_all_layers_old(), but will be removed before the first release of Lasagne. To ignore this warning, use `warnings.filterwarnings('ignore', '.*topo.*')`.\n",
      "  warnings.warn(\"get_all_layers() has been changed to return layers in \"\n"
     ]
    }
   ],
   "source": [
    "output = get_output(l1, x)"
   ]
  },
  {
   "cell_type": "code",
   "execution_count": 11,
   "metadata": {
    "collapsed": true
   },
   "outputs": [],
   "source": [
    "f = theano.function([x], output)"
   ]
  },
  {
   "cell_type": "code",
   "execution_count": 12,
   "metadata": {
    "collapsed": true
   },
   "outputs": [],
   "source": [
    "x_test = np.array([[0,2],[1,2]]).astype('int32')"
   ]
  },
  {
   "cell_type": "code",
   "execution_count": 13,
   "metadata": {
    "collapsed": false
   },
   "outputs": [
    {
     "data": {
      "text/plain": [
       "array([[[  0.,   1.,   2.,   3.,   4.],\n",
       "        [ 10.,  11.,  12.,  13.,  14.]],\n",
       "\n",
       "       [[  5.,   6.,   7.,   8.,   9.],\n",
       "        [ 10.,  11.,  12.,  13.,  14.]]], dtype=float32)"
      ]
     },
     "execution_count": 13,
     "metadata": {},
     "output_type": "execute_result"
    }
   ],
   "source": [
    "f(x_test)"
   ]
  },
  {
   "cell_type": "markdown",
   "metadata": {},
   "source": [
    "Going to attempt to make the simple linear reg working, just to experiment with theano"
   ]
  },
  {
   "cell_type": "code",
   "execution_count": 14,
   "metadata": {
    "collapsed": false
   },
   "outputs": [
    {
     "data": {
      "text/plain": [
       "array([ 0.3381165 , -1.04912337, -0.0079118 ,  0.29713418, -0.39379286,\n",
       "       -0.49857677,  0.24749438, -1.52724946, -0.91314897, -0.43407606])"
      ]
     },
     "execution_count": 14,
     "metadata": {},
     "output_type": "execute_result"
    }
   ],
   "source": [
    "np.random.randn(10)"
   ]
  },
  {
   "cell_type": "code",
   "execution_count": 15,
   "metadata": {
    "collapsed": false
   },
   "outputs": [],
   "source": [
    "nfeats = 10\n",
    "\n",
    "\n",
    "x = T.matrix('x')\n",
    "y = T.vector('y')\n",
    "w = theano.shared(np.random.randn(nfeats),name='w')\n",
    "b = theano.shared(0.0,name='b')"
   ]
  },
  {
   "cell_type": "code",
   "execution_count": 16,
   "metadata": {
    "collapsed": true
   },
   "outputs": [],
   "source": [
    "p_1 = 1 / (1 + T.exp(-T.dot(x,w) - b))\n",
    "prediction = p_1 > 0.5\n",
    "xent = -y * T.log(p_1) - (1-y) * T.log(1-p_1)\n",
    "cost = xent.mean() + .01 * (w**2).sum()\n",
    "gw, gb = T.grad(cost, [w,b])"
   ]
  },
  {
   "cell_type": "code",
   "execution_count": 17,
   "metadata": {
    "collapsed": false
   },
   "outputs": [
    {
     "data": {
      "text/plain": [
       "(10,)"
      ]
     },
     "execution_count": 17,
     "metadata": {},
     "output_type": "execute_result"
    }
   ],
   "source": [
    "w.get_value().shape"
   ]
  },
  {
   "cell_type": "code",
   "execution_count": 18,
   "metadata": {
    "collapsed": false
   },
   "outputs": [],
   "source": [
    "train = theano.function(inputs=[x,y],outputs=[prediction,xent], updates=((w, w-0.1*gw),(b,b - 0.1*gb)))\n",
    "predict = theano.function(inputs=[x], outputs=prediction)"
   ]
  },
  {
   "cell_type": "code",
   "execution_count": 19,
   "metadata": {
    "collapsed": false
   },
   "outputs": [],
   "source": [
    "D = (np.random.randn(400, nfeats), np.random.randint(size=400, low=0, high=2))"
   ]
  },
  {
   "cell_type": "code",
   "execution_count": 20,
   "metadata": {
    "collapsed": false
   },
   "outputs": [
    {
     "name": "stdout",
     "output_type": "stream",
     "text": [
      "Elemwise{Composite{GT(scalar_sigmoid(i0), i1)}} [@A] ''   15\n",
      " |Elemwise{neg,no_inplace} [@B] ''   13\n",
      " | |Elemwise{Composite{((-i0) - i1)}}[(0, 0)] [@C] ''   10\n",
      " |   |CGemv{inplace} [@D] ''   8\n",
      " |   | |Alloc [@E] ''   5\n",
      " |   | | |TensorConstant{0.0} [@F]\n",
      " |   | | |Shape_i{0} [@G] ''   1\n",
      " |   | |   |x [@H]\n",
      " |   | |TensorConstant{1.0} [@I]\n",
      " |   | |x [@H]\n",
      " |   | |w [@J]\n",
      " |   | |TensorConstant{0.0} [@F]\n",
      " |   |InplaceDimShuffle{x} [@K] ''   0\n",
      " |     |b [@L]\n",
      " |TensorConstant{(1,) of 0.5} [@M]\n",
      "Elemwise{Composite{((i0 * scalar_softplus(i1)) - (i2 * i3 * scalar_softplus(i4)))}}[(0, 1)] [@N] ''   17\n",
      " |y [@O]\n",
      " |Elemwise{Composite{((-i0) - i1)}}[(0, 0)] [@C] ''   10\n",
      " |TensorConstant{(1,) of -1.0} [@P]\n",
      " |Elemwise{sub,no_inplace} [@Q] ''   4\n",
      " | |TensorConstant{(1,) of 1.0} [@R]\n",
      " | |y [@O]\n",
      " |Elemwise{neg,no_inplace} [@B] ''   13\n",
      "CGemv{inplace} [@S] ''   19\n",
      " |w [@J]\n",
      " |TensorConstant{-0.1} [@T]\n",
      " |InplaceDimShuffle{1,0} [@U] 'x.T'   2\n",
      " | |x [@H]\n",
      " |Elemwise{Composite{((i0 * i1 * i2 * i3) + ((scalar_sigmoid((-i4)) * i5) / i6))}}[(0, 0)] [@V] ''   16\n",
      " | |Assert [@W] ''   14\n",
      " | | |sigmoid [@X] ''   12\n",
      " | | | |Elemwise{Composite{((-i0) - i1)}}[(0, 0)] [@C] ''   10\n",
      " | | |Elemwise{eq,no_inplace} [@Y] ''   6\n",
      " | |   |Shape_i{0} [@Z] ''   3\n",
      " | |   | |y [@O]\n",
      " | |   |Shape_i{0} [@G] ''   1\n",
      " | |TensorConstant{(1,) of -1.0} [@P]\n",
      " | |Elemwise{inv,no_inplace} [@BA] ''   11\n",
      " | | |Elemwise{Cast{float64}} [@BB] ''   9\n",
      " | |   |InplaceDimShuffle{x} [@BC] ''   7\n",
      " | |     |Shape_i{0} [@Z] ''   3\n",
      " | |y [@O]\n",
      " | |Elemwise{Composite{((-i0) - i1)}}[(0, 0)] [@C] ''   10\n",
      " | |Elemwise{sub,no_inplace} [@Q] ''   4\n",
      " | |Elemwise{Cast{float64}} [@BB] ''   9\n",
      " |TensorConstant{0.998} [@BD]\n",
      "Elemwise{Composite{(i0 - (i1 * i2))}}[(0, 0)] [@BE] ''   20\n",
      " |b [@L]\n",
      " |TensorConstant{0.1} [@BF]\n",
      " |Sum{acc_dtype=float64} [@BG] ''   18\n",
      "   |Elemwise{Composite{((i0 * i1 * i2 * i3) + ((scalar_sigmoid((-i4)) * i5) / i6))}}[(0, 0)] [@V] ''   16\n"
     ]
    }
   ],
   "source": [
    "theano.printing.debugprint(train)"
   ]
  },
  {
   "cell_type": "code",
   "execution_count": 21,
   "metadata": {
    "collapsed": true
   },
   "outputs": [],
   "source": [
    "for i in xrange(10000):\n",
    "    pred, err = train(D[0], D[1])"
   ]
  },
  {
   "cell_type": "code",
   "execution_count": 22,
   "metadata": {
    "collapsed": false
   },
   "outputs": [
    {
     "data": {
      "text/plain": [
       "0.68227781271962551"
      ]
     },
     "execution_count": 22,
     "metadata": {},
     "output_type": "execute_result"
    }
   ],
   "source": [
    "err.mean()"
   ]
  },
  {
   "cell_type": "code",
   "execution_count": 23,
   "metadata": {
    "collapsed": false
   },
   "outputs": [
    {
     "data": {
      "text/plain": [
       "array([ 1.44959463,  0.46512157, -0.32916993, -0.71065438,  0.35574081,\n",
       "        0.42292786, -0.38971277,  0.39731118, -0.40333132, -2.43409073])"
      ]
     },
     "execution_count": 23,
     "metadata": {},
     "output_type": "execute_result"
    }
   ],
   "source": [
    "D[0][1]"
   ]
  },
  {
   "cell_type": "code",
   "execution_count": 24,
   "metadata": {
    "collapsed": false
   },
   "outputs": [
    {
     "data": {
      "text/plain": [
       "(array([ 0.06392266,  0.0166076 ,  0.10579282,  0.11662214,  0.06546423,\n",
       "         0.03236646,  0.03197849, -0.09175565,  0.00399894, -0.17068669]),\n",
       " array(0.02220269693379262))"
      ]
     },
     "execution_count": 24,
     "metadata": {},
     "output_type": "execute_result"
    }
   ],
   "source": [
    "w.get_value(), b.get_value()"
   ]
  },
  {
   "cell_type": "code",
   "execution_count": 25,
   "metadata": {
    "collapsed": false
   },
   "outputs": [
    {
     "data": {
      "text/plain": [
       "array([1], dtype=int8)"
      ]
     },
     "execution_count": 25,
     "metadata": {},
     "output_type": "execute_result"
    }
   ],
   "source": [
    "predict([D[0][1]])"
   ]
  },
  {
   "cell_type": "code",
   "execution_count": 26,
   "metadata": {
    "collapsed": false
   },
   "outputs": [
    {
     "data": {
      "text/plain": [
       "0"
      ]
     },
     "execution_count": 26,
     "metadata": {},
     "output_type": "execute_result"
    }
   ],
   "source": [
    "D[1][1]"
   ]
  },
  {
   "cell_type": "markdown",
   "metadata": {},
   "source": [
    "going to see if we can make a few layers of a cnn given that went through the example of log reg from the tutorial"
   ]
  },
  {
   "cell_type": "code",
   "execution_count": 27,
   "metadata": {
    "collapsed": true
   },
   "outputs": [],
   "source": [
    "def make_context(sentence):\n",
    "    ret = []\n",
    "    for w in sentence.lower().split():\n",
    "        ret.append(wordvectors[w])\n",
    "    return ret"
   ]
  },
  {
   "cell_type": "code",
   "execution_count": 204,
   "metadata": {
    "collapsed": false
   },
   "outputs": [],
   "source": [
    "class SentimentExp(object):\n",
    "    \n",
    "    def __init__(self, train_X, train_Y, wordvecs=wordvectors):\n",
    "        self.train_X = train_X\n",
    "        self.train_Y = theano.shared(np.array(train_Y, 'int32'))\n",
    "        self.wordvecs = wordvecs\n",
    "        \n",
    "        self.input_size = 10\n",
    "        self.batch_size = 10\n",
    "        \n",
    "        self.learning_rate = .01\n",
    "        self.momentum = .9\n",
    "        \n",
    "        self.train_X_rep = theano.shared(lasagne.utils.floatX([[self.getRep(x)] for x in self.train_X]))\n",
    "                \n",
    "        self._setup()\n",
    "        \n",
    "    def getRep(self, sent):\n",
    "        ret = []\n",
    "        for i in xrange(self.input_size):\n",
    "            if i < len(sent):\n",
    "                ret.append(self.wordvecs[sent[i]])\n",
    "            else:\n",
    "                ret.append(np.zeros(self.wordvecs.vector_size))\n",
    "        return np.matrix(ret).reshape((1, self.input_size, self.wordvecs.vector_size))\n",
    "    \n",
    "    def _setup(self):\n",
    "        self.y_batch = T.ivectors('y')\n",
    "        self.x_batch = T.tensor4('x')  # have to match the dimention of the input layer\n",
    "        \n",
    "        self.batch_index = T.iscalar('batch_index')\n",
    "        self.batch_slice = slice(self.batch_index * self.batch_size, (self.batch_index + 1) * self.batch_size)\n",
    "        \n",
    "        self.input_l = InputLayer(shape=(self.batch_size, 1, self.input_size, self.wordvecs.vector_size), name='x')\n",
    "        self.conv1_l = lasagne.layers.Conv2DLayer(\n",
    "            self.input_l,\n",
    "            num_filters=32, \n",
    "            filter_size=5,\n",
    "            name='conv1'\n",
    "        )\n",
    "        #self.conv2_l = lasagne.layers.Conv2DLayer(\n",
    "        #   self.conv1_l,\n",
    "        #    num_filters=32,\n",
    "        #    filter_size=5,\n",
    "        #)\n",
    "        self.output_l = lasagne.layers.DenseLayer(self.conv1_l, num_units=1, name='dens2')\n",
    "        \n",
    "        self.output_v = lasagne.layers.get_output(self.output_l, self.x_batch)\n",
    "        self.loss_v = lasagne.objectives.binary_crossentropy(self.output_v, self.y_batch).mean()\n",
    "        \n",
    "        self.output_test = lasagne.layers.get_output(self.output_l, self.x_batch, deterministic=True)\n",
    "        self.loss_eval = lasagne.objectives.binary_crossentropy(self.output_test, self.y_batch)\n",
    "        \n",
    "        self.all_params = lasagne.layers.get_all_params(self.output_l)\n",
    "        self.updates = lasagne.updates.nesterov_momentum(self.loss_v, self.all_params, \n",
    "                                                         self.learning_rate, self.momentum)\n",
    "        \n",
    "        self.prediction = T.argmax(self.output_v)\n",
    "        self.accuract = T.mean(T.eq(self.prediction, self.y_batch), dtype=theano.config.floatX)\n",
    "        \n",
    "        self.iter_train = theano.function(\n",
    "            [self.batch_index], self.loss_v,\n",
    "            updates=self.updates,\n",
    "            givens={\n",
    "                self.x_batch: self.train_X_rep[self.batch_slice],\n",
    "                self.y_batch: self.train_Y[self.batch_slice]\n",
    "            },\n",
    "            mode='DebugMode'\n",
    "        )\n",
    "        \n",
    "        self.test_valid = theano.function(\n",
    "            [self.x_batch, self.y_batch], [self.loss_eval, self.prediction, self.accuract],\n",
    "        )\n",
    "            \n",
    "    def train(self):\n",
    "        pass\n",
    "            \n",
    "experiment = SentimentExp(sentiment.train_X, sentiment.train_Y)"
   ]
  },
  {
   "cell_type": "code",
   "execution_count": 187,
   "metadata": {
    "collapsed": false
   },
   "outputs": [],
   "source": [
    "theano.config.optimizer = 'None'  # disable the optimizer so that we can maybe get more debugging information\n",
    "theano.config.exception_verbosity = 'high'"
   ]
  },
  {
   "cell_type": "code",
   "execution_count": 195,
   "metadata": {
    "collapsed": false
   },
   "outputs": [
    {
     "data": {
      "text/plain": [
       "((10, 1, 10, 100), (10, 1, 10, 100))"
      ]
     },
     "execution_count": 195,
     "metadata": {},
     "output_type": "execute_result"
    }
   ],
   "source": [
    "experiment.input_l.shape, experiment.train_X_rep[experiment.batch_slice].eval({experiment.batch_index:0}).shape"
   ]
  },
  {
   "cell_type": "code",
   "execution_count": 196,
   "metadata": {
    "collapsed": false
   },
   "outputs": [
    {
     "data": {
      "text/plain": [
       "(10,)"
      ]
     },
     "execution_count": 196,
     "metadata": {},
     "output_type": "execute_result"
    }
   ],
   "source": [
    "experiment.train_Y[experiment.batch_slice].eval({experiment.batch_index:0}).shape"
   ]
  },
  {
   "cell_type": "code",
   "execution_count": 205,
   "metadata": {
    "collapsed": false
   },
   "outputs": [
    {
     "name": "stderr",
     "output_type": "stream",
     "text": [
      "WARNING: ('Stride mismatch', ((1, 18432), (1, 18432), (8, 8), (147456, 8), 'DimShuffle{1,0}'))\n"
     ]
    },
    {
     "ename": "InvalidValueError",
     "evalue": "InvalidValueError\n        type(variable) = TensorType(float64, matrix)\n        variable       = Elemwise{log,no_inplace}.0\n        type(value)    = <type 'numpy.ndarray'>\n        dtype(value)   = float64\n        shape(value)   = (10, 1)\n        value          = [[       -inf]\n [-2.62899249]\n [       -inf]\n [       -inf]\n [       -inf]\n [       -inf]\n [       -\n        min(value)     = -inf\n        max(value)     = -2.03492905143\n        isfinite       = False\n        client_node    = None\n        hint           = perform output\n        specific_hint  = non-finite elements not allowed\n        context        = ...\n  Elemwise{log,no_inplace} [@A] ''   \n   |Elemwise{mul,no_inplace} [@B] ''   \n     |DimShuffle{x,x} [@C] ''   \n     | |TensorConstant{0.5} [@D]\n     |Elemwise{add,no_inplace} [@E] ''   \n       |Elemwise{add,no_inplace} [@F] ''   \n       | |dot [@G] ''   \n       | | |Flatten{2} [@H] ''   \n       | | | |Elemwise{mul,no_inplace} [@I] ''   \n       | | |   |DimShuffle{x,x,x,x} [@J] ''   \n       | | |   | |TensorConstant{0.5} [@K]\n       | | |   |Elemwise{add,no_inplace} [@L] ''   \n       | | |     |Elemwise{add,no_inplace} [@M] ''   \n       | | |     | |ConvOp{('imshp', (1, 10, 100)),('kshp', (5, 5)),('nkern', 32),('bsize', 10),('dx', 1),('dy', 1),('out_mode', 'valid'),('unroll_batch', 5),('unroll_kern', 2),('unroll_patch', False),('imshp_logical', (1, 10, 100)),('kshp_logical', (5, 5)),('kshp_logical_top_aligned', True)} [@N] ''   \n       | | |     | | |Subtensor{int32:int32:} [@O] ''   \n       | | |     | | | |<TensorType(float64, 4D)> [@P]\n       | | |     | | | |ScalarFromTensor [@Q] ''   \n       | | |     | | | |ScalarFromTensor [@R] ''   \n       | | |     | | |conv1.W [@S]\n       | | |     | |DimShuffle{x,0,x,x} [@T] ''   \n       | | |     |   |conv1.b [@U]\n       | | |     |Elemwise{abs_,no_inplace} [@V] ''   \n       | | |       |Elemwise{add,no_inplace} [@M] ''   \n       | | |dens2.W [@W]\n       | |DimShuffle{x,0} [@X] ''   \n       |   |dens2.b [@Y]\n       |Elemwise{abs_,no_inplace} [@Z] ''   \n         |Elemwise{add,no_inplace} [@F] ''   \n\n        ",
     "output_type": "error",
     "traceback": [
      "\u001b[1;31m---------------------------------------------------------------------------\u001b[0m",
      "\u001b[1;31mInvalidValueError\u001b[0m                         Traceback (most recent call last)",
      "\u001b[1;32m<ipython-input-205-655c6822f86d>\u001b[0m in \u001b[0;36m<module>\u001b[1;34m()\u001b[0m\n\u001b[1;32m----> 1\u001b[1;33m \u001b[0mexperiment\u001b[0m\u001b[1;33m.\u001b[0m\u001b[0miter_train\u001b[0m\u001b[1;33m(\u001b[0m\u001b[1;36m0\u001b[0m\u001b[1;33m)\u001b[0m\u001b[1;33m\u001b[0m\u001b[0m\n\u001b[0m",
      "\u001b[1;32m/home/matthew/.virtualenvs/nlp-convnet/lib/python2.7/site-packages/theano/compile/function_module.pyc\u001b[0m in \u001b[0;36m__call__\u001b[1;34m(self, *args, **kwargs)\u001b[0m\n\u001b[0;32m    593\u001b[0m         \u001b[0mt0_fn\u001b[0m \u001b[1;33m=\u001b[0m \u001b[0mtime\u001b[0m\u001b[1;33m.\u001b[0m\u001b[0mtime\u001b[0m\u001b[1;33m(\u001b[0m\u001b[1;33m)\u001b[0m\u001b[1;33m\u001b[0m\u001b[0m\n\u001b[0;32m    594\u001b[0m         \u001b[1;32mtry\u001b[0m\u001b[1;33m:\u001b[0m\u001b[1;33m\u001b[0m\u001b[0m\n\u001b[1;32m--> 595\u001b[1;33m             \u001b[0moutputs\u001b[0m \u001b[1;33m=\u001b[0m \u001b[0mself\u001b[0m\u001b[1;33m.\u001b[0m\u001b[0mfn\u001b[0m\u001b[1;33m(\u001b[0m\u001b[1;33m)\u001b[0m\u001b[1;33m\u001b[0m\u001b[0m\n\u001b[0m\u001b[0;32m    596\u001b[0m         \u001b[1;32mexcept\u001b[0m \u001b[0mException\u001b[0m\u001b[1;33m:\u001b[0m\u001b[1;33m\u001b[0m\u001b[0m\n\u001b[0;32m    597\u001b[0m             \u001b[1;32mif\u001b[0m \u001b[0mhasattr\u001b[0m\u001b[1;33m(\u001b[0m\u001b[0mself\u001b[0m\u001b[1;33m.\u001b[0m\u001b[0mfn\u001b[0m\u001b[1;33m,\u001b[0m \u001b[1;34m'position_of_error'\u001b[0m\u001b[1;33m)\u001b[0m\u001b[1;33m:\u001b[0m\u001b[1;33m\u001b[0m\u001b[0m\n",
      "\u001b[1;32m/home/matthew/.virtualenvs/nlp-convnet/lib/python2.7/site-packages/theano/compile/debugmode.pyc\u001b[0m in \u001b[0;36mdeco\u001b[1;34m()\u001b[0m\n\u001b[0;32m   2149\u001b[0m                 \u001b[0mTensorType\u001b[0m\u001b[1;33m.\u001b[0m\u001b[0mfilter_checks_isfinite\u001b[0m \u001b[1;33m=\u001b[0m \u001b[0mself\u001b[0m\u001b[1;33m.\u001b[0m\u001b[0mmaker\u001b[0m\u001b[1;33m.\u001b[0m\u001b[0mmode\u001b[0m\u001b[1;33m.\u001b[0m\u001b[0mcheck_isfinite\u001b[0m\u001b[1;33m\u001b[0m\u001b[0m\n\u001b[0;32m   2150\u001b[0m                 \u001b[1;32mtry\u001b[0m\u001b[1;33m:\u001b[0m\u001b[1;33m\u001b[0m\u001b[0m\n\u001b[1;32m-> 2151\u001b[1;33m                     \u001b[1;32mreturn\u001b[0m \u001b[0mf\u001b[0m\u001b[1;33m(\u001b[0m\u001b[1;33m)\u001b[0m\u001b[1;33m\u001b[0m\u001b[0m\n\u001b[0m\u001b[0;32m   2152\u001b[0m                 \u001b[1;32mfinally\u001b[0m\u001b[1;33m:\u001b[0m\u001b[1;33m\u001b[0m\u001b[0m\n\u001b[0;32m   2153\u001b[0m                     \u001b[1;31m# put back the filter_checks_isfinite\u001b[0m\u001b[1;33m\u001b[0m\u001b[1;33m\u001b[0m\u001b[0m\n",
      "\u001b[1;32m/home/matthew/.virtualenvs/nlp-convnet/lib/python2.7/site-packages/theano/compile/debugmode.pyc\u001b[0m in \u001b[0;36mf\u001b[1;34m()\u001b[0m\n\u001b[0;32m   1905\u001b[0m                                 raise InvalidValueError(r, storage_map[r][0],\n\u001b[0;32m   1906\u001b[0m                                                         \u001b[0mhint\u001b[0m\u001b[1;33m=\u001b[0m\u001b[1;34m'perform output'\u001b[0m\u001b[1;33m,\u001b[0m\u001b[1;33m\u001b[0m\u001b[0m\n\u001b[1;32m-> 1907\u001b[1;33m                                                         specific_hint=hint2)\n\u001b[0m\u001b[0;32m   1908\u001b[0m                         py_inplace_outs = _check_inputs(\n\u001b[0;32m   1909\u001b[0m                                 \u001b[0mnode\u001b[0m\u001b[1;33m,\u001b[0m \u001b[0mstorage_map\u001b[0m\u001b[1;33m,\u001b[0m \u001b[0mr_vals\u001b[0m\u001b[1;33m,\u001b[0m \u001b[0mdr_vals\u001b[0m\u001b[1;33m,\u001b[0m\u001b[1;33m\u001b[0m\u001b[0m\n",
      "\u001b[1;31mInvalidValueError\u001b[0m: InvalidValueError\n        type(variable) = TensorType(float64, matrix)\n        variable       = Elemwise{log,no_inplace}.0\n        type(value)    = <type 'numpy.ndarray'>\n        dtype(value)   = float64\n        shape(value)   = (10, 1)\n        value          = [[       -inf]\n [-2.62899249]\n [       -inf]\n [       -inf]\n [       -inf]\n [       -inf]\n [       -\n        min(value)     = -inf\n        max(value)     = -2.03492905143\n        isfinite       = False\n        client_node    = None\n        hint           = perform output\n        specific_hint  = non-finite elements not allowed\n        context        = ...\n  Elemwise{log,no_inplace} [@A] ''   \n   |Elemwise{mul,no_inplace} [@B] ''   \n     |DimShuffle{x,x} [@C] ''   \n     | |TensorConstant{0.5} [@D]\n     |Elemwise{add,no_inplace} [@E] ''   \n       |Elemwise{add,no_inplace} [@F] ''   \n       | |dot [@G] ''   \n       | | |Flatten{2} [@H] ''   \n       | | | |Elemwise{mul,no_inplace} [@I] ''   \n       | | |   |DimShuffle{x,x,x,x} [@J] ''   \n       | | |   | |TensorConstant{0.5} [@K]\n       | | |   |Elemwise{add,no_inplace} [@L] ''   \n       | | |     |Elemwise{add,no_inplace} [@M] ''   \n       | | |     | |ConvOp{('imshp', (1, 10, 100)),('kshp', (5, 5)),('nkern', 32),('bsize', 10),('dx', 1),('dy', 1),('out_mode', 'valid'),('unroll_batch', 5),('unroll_kern', 2),('unroll_patch', False),('imshp_logical', (1, 10, 100)),('kshp_logical', (5, 5)),('kshp_logical_top_aligned', True)} [@N] ''   \n       | | |     | | |Subtensor{int32:int32:} [@O] ''   \n       | | |     | | | |<TensorType(float64, 4D)> [@P]\n       | | |     | | | |ScalarFromTensor [@Q] ''   \n       | | |     | | | |ScalarFromTensor [@R] ''   \n       | | |     | | |conv1.W [@S]\n       | | |     | |DimShuffle{x,0,x,x} [@T] ''   \n       | | |     |   |conv1.b [@U]\n       | | |     |Elemwise{abs_,no_inplace} [@V] ''   \n       | | |       |Elemwise{add,no_inplace} [@M] ''   \n       | | |dens2.W [@W]\n       | |DimShuffle{x,0} [@X] ''   \n       |   |dens2.b [@Y]\n       |Elemwise{abs_,no_inplace} [@Z] ''   \n         |Elemwise{add,no_inplace} [@F] ''   \n\n        "
     ]
    }
   ],
   "source": [
    "experiment.iter_train(0)"
   ]
  },
  {
   "cell_type": "code",
   "execution_count": 31,
   "metadata": {
    "collapsed": false
   },
   "outputs": [],
   "source": [
    "from helpers import *"
   ]
  },
  {
   "cell_type": "code",
   "execution_count": 46,
   "metadata": {
    "collapsed": false
   },
   "outputs": [
    {
     "data": {
      "text/plain": [
       "slice(Elemwise{mul,no_inplace}.0, Elemwise{mul,no_inplace}.0, None)"
      ]
     },
     "execution_count": 46,
     "metadata": {},
     "output_type": "execute_result"
    }
   ],
   "source": [
    "batch_index = T.iscalar('batch_index')\n",
    "X_batch = T.matrix('x.input')\n",
    "y_batch = T.ivector('y')\n",
    "slice(batch_index * 100, (batch_index + 1) * 100)"
   ]
  },
  {
   "cell_type": "code",
   "execution_count": 61,
   "metadata": {
    "collapsed": false
   },
   "outputs": [
    {
     "data": {
      "text/plain": [
       "Elemwise{true_div,no_inplace}.0"
      ]
     },
     "execution_count": 61,
     "metadata": {},
     "output_type": "execute_result"
    }
   ],
   "source": [
    "experiment."
   ]
  },
  {
   "cell_type": "code",
   "execution_count": 40,
   "metadata": {
    "collapsed": false
   },
   "outputs": [],
   "source": [
    "experiment.input.name"
   ]
  },
  {
   "cell_type": "code",
   "execution_count": 49,
   "metadata": {
    "collapsed": true
   },
   "outputs": [],
   "source": [
    "l_in = lasagne.layers.InputLayer(shape=(10,1,10,10))\n",
    "l_conv1 = lasagne.layers.Conv2DLayer(l_in, num_filters=32, filter_size=(5,5))\n",
    "l_out = lasagne.layers.DenseLayer(l_conv1, num_units=1)"
   ]
  },
  {
   "cell_type": "code",
   "execution_count": 50,
   "metadata": {
    "collapsed": false
   },
   "outputs": [
    {
     "data": {
      "text/plain": [
       "Elemwise{mul,no_inplace}.0"
      ]
     },
     "execution_count": 50,
     "metadata": {},
     "output_type": "execute_result"
    }
   ],
   "source": [
    "lasagne.layers.get_output(l_out)"
   ]
  },
  {
   "cell_type": "code",
   "execution_count": 79,
   "metadata": {
    "collapsed": false
   },
   "outputs": [
    {
     "data": {
      "text/plain": [
       "'provide[s] nail-biting suspense and credible characters without relying on technology-of-the-moment technique or pretentious dialogue . \\n'"
      ]
     },
     "execution_count": 79,
     "metadata": {},
     "output_type": "execute_result"
    }
   ],
   "source": [
    "sentiment.train_X[0]"
   ]
  },
  {
   "cell_type": "code",
   "execution_count": 81,
   "metadata": {
    "collapsed": false
   },
   "outputs": [
    {
     "ename": "AttributeError",
     "evalue": "'module' object has no attribute 'warn'",
     "output_type": "error",
     "traceback": [
      "\u001b[1;31m---------------------------------------------------------------------------\u001b[0m",
      "\u001b[1;31mAttributeError\u001b[0m                            Traceback (most recent call last)",
      "\u001b[1;32m<ipython-input-81-72a7f9fa6b07>\u001b[0m in \u001b[0;36m<module>\u001b[1;34m()\u001b[0m\n\u001b[1;32m----> 1\u001b[1;33m \u001b[0mtheano\u001b[0m\u001b[1;33m.\u001b[0m\u001b[0mwarn\u001b[0m\u001b[1;33m\u001b[0m\u001b[0m\n\u001b[0m",
      "\u001b[1;31mAttributeError\u001b[0m: 'module' object has no attribute 'warn'"
     ]
    }
   ],
   "source": [
    "theano."
   ]
  },
  {
   "cell_type": "code",
   "execution_count": 84,
   "metadata": {
    "collapsed": false
   },
   "outputs": [
    {
     "data": {
      "text/plain": [
       "x.input"
      ]
     },
     "execution_count": 84,
     "metadata": {},
     "output_type": "execute_result"
    }
   ],
   "source": [
    "X_batch"
   ]
  },
  {
   "cell_type": "code",
   "execution_count": 96,
   "metadata": {
    "collapsed": false
   },
   "outputs": [
    {
     "data": {
      "text/plain": [
       "<TensorType(int32, vector)>"
      ]
     },
     "execution_count": 96,
     "metadata": {},
     "output_type": "execute_result"
    }
   ],
   "source": [
    "theano.shared(np.array(sentiment.train_Y, 'int32'))"
   ]
  },
  {
   "cell_type": "code",
   "execution_count": 99,
   "metadata": {
    "collapsed": false
   },
   "outputs": [
    {
     "data": {
      "text/plain": [
       "<TensorType(int32, vector)>"
      ]
     },
     "execution_count": 99,
     "metadata": {},
     "output_type": "execute_result"
    }
   ],
   "source": [
    "T.ivector()"
   ]
  },
  {
   "cell_type": "code",
   "execution_count": 142,
   "metadata": {
    "collapsed": false
   },
   "outputs": [
    {
     "ename": "TypeError",
     "evalue": "'type' object has no attribute '__getitem__'",
     "output_type": "error",
     "traceback": [
      "\u001b[1;31m---------------------------------------------------------------------------\u001b[0m",
      "\u001b[1;31mTypeError\u001b[0m                                 Traceback (most recent call last)",
      "\u001b[1;32m<ipython-input-142-51b9bbc86060>\u001b[0m in \u001b[0;36m<module>\u001b[1;34m()\u001b[0m\n\u001b[1;32m----> 1\u001b[1;33m \u001b[0mOut\u001b[0m\u001b[1;33m[\u001b[0m\u001b[1;36m140\u001b[0m\u001b[1;33m]\u001b[0m\u001b[1;33m.\u001b[0m\u001b[0msize\u001b[0m\u001b[1;33m\u001b[0m\u001b[0m\n\u001b[0m",
      "\u001b[1;31mTypeError\u001b[0m: 'type' object has no attribute '__getitem__'"
     ]
    }
   ],
   "source": []
  },
  {
   "cell_type": "code",
   "execution_count": null,
   "metadata": {
    "collapsed": true
   },
   "outputs": [],
   "source": []
  }
 ],
 "metadata": {
  "kernelspec": {
   "display_name": "Python 2",
   "language": "python",
   "name": "python2"
  },
  "language_info": {
   "codemirror_mode": {
    "name": "ipython",
    "version": 2
   },
   "file_extension": ".py",
   "mimetype": "text/x-python",
   "name": "python",
   "nbconvert_exporter": "python",
   "pygments_lexer": "ipython2",
   "version": "2.7.10"
  }
 },
 "nbformat": 4,
 "nbformat_minor": 0
}
