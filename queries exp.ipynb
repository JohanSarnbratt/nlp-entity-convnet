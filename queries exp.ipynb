{
 "cells": [
  {
   "cell_type": "code",
   "execution_count": 1,
   "metadata": {
    "collapsed": true
   },
   "outputs": [],
   "source": [
    "%load_ext autoreload\n",
    "%autoreload 2"
   ]
  },
  {
   "cell_type": "code",
   "execution_count": 2,
   "metadata": {
    "collapsed": false
   },
   "outputs": [
    {
     "name": "stdout",
     "output_type": "stream",
     "text": [
      "Couldn't import dot_parser, loading of dot files will not be possible.\n"
     ]
    }
   ],
   "source": [
    "from theano import *\n",
    "from lasagne.layers import InputLayer, get_output\n",
    "import lasagne\n",
    "import lasagne.layers\n",
    "import theano.tensor as T\n",
    "import theano\n",
    "import numpy as np\n",
    "from helpers import SimpleMaxingLayer\n",
    "from wordvecs import WordVectors, EmbeddingLayer\n",
    "import json\n",
    "\n",
    "theano.config.floatX = 'float32'\n",
    "theano.config.linker = 'cvm_nogc'\n",
    "theano.config.openmp = True\n",
    "theano.config.openmp_elemwise_minsize = 20000"
   ]
  },
  {
   "cell_type": "code",
   "execution_count": 3,
   "metadata": {
    "collapsed": true
   },
   "outputs": [],
   "source": [
    "with open('/data/matthew/external-wiki1.json') as f:\n",
    "    queries = json.load(f)['queries']"
   ]
  },
  {
   "cell_type": "code",
   "execution_count": 4,
   "metadata": {
    "collapsed": false
   },
   "outputs": [
    {
     "data": {
      "text/plain": [
       "9915"
      ]
     },
     "execution_count": 4,
     "metadata": {},
     "output_type": "execute_result"
    }
   ],
   "source": [
    "len(queries)"
   ]
  },
  {
   "cell_type": "code",
   "execution_count": 5,
   "metadata": {
    "collapsed": false
   },
   "outputs": [
    {
     "data": {
      "text/plain": [
       "8917"
      ]
     },
     "execution_count": 5,
     "metadata": {},
     "output_type": "execute_result"
    }
   ],
   "source": [
    "sum([any([g['gold'] for g in v.values()]) for v in queries.values()])"
   ]
  },
  {
   "cell_type": "code",
   "execution_count": 6,
   "metadata": {
    "collapsed": false
   },
   "outputs": [
    {
     "data": {
      "text/plain": [
       "0.8993444276348966"
      ]
     },
     "execution_count": 6,
     "metadata": {},
     "output_type": "execute_result"
    }
   ],
   "source": [
    "8917/9915."
   ]
  },
  {
   "cell_type": "code",
   "execution_count": 7,
   "metadata": {
    "collapsed": false
   },
   "outputs": [],
   "source": [
    "\n",
    "wordvectors = WordVectors(\n",
    "    fname=\"/data/matthew/GoogleNews-vectors-negative300.bin\",\n",
    "    negvectors=False\n",
    ")"
   ]
  },
  {
   "cell_type": "code",
   "execution_count": 8,
   "metadata": {
    "collapsed": true
   },
   "outputs": [],
   "source": [
    "with open('/data/matthew/enwiki-20141208-pages-articles-multistream-redirects5.json') as f:\n",
    "    page_redirects = json.load(f)"
   ]
  },
  {
   "cell_type": "code",
   "execution_count": 9,
   "metadata": {
    "collapsed": false
   },
   "outputs": [],
   "source": [
    "from wikireader import WikiRegexes, WikipediaReader"
   ]
  },
  {
   "cell_type": "code",
   "execution_count": 10,
   "metadata": {
    "collapsed": false
   },
   "outputs": [],
   "source": [
    "def PreProcessedQueries(wikipedia_dump_fname, wordvec=wordvectors, queries=queries, redirects=page_redirects):\n",
    "    \n",
    "    queried_pages = set()\n",
    "    for docs, q in queries.iteritems():\n",
    "        wordvec.tokenize(docs)\n",
    "        for sur, v in q.iteritems():\n",
    "            wordvec.tokenize(sur)\n",
    "            for link in v['vals'].keys():\n",
    "                wordvec.tokenize(link)\n",
    "                tt = WikiRegexes.convertToTitle(link)\n",
    "                #self.wordvecs.tokenize(tt)\n",
    "                queried_pages.add(tt)\n",
    "\n",
    "    added_pages = set()\n",
    "    for title in queried_pages:\n",
    "        if title in redirects:\n",
    "            #wordvec.tokenize(self.redirects[title])\n",
    "            added_pages.add(redirects[title])\n",
    "    queried_pages |= added_pages\n",
    "\n",
    "    page_content = {}\n",
    "\n",
    "    class GetWikipediaWords(WikipediaReader, WikiRegexes):\n",
    "\n",
    "        def readPage(ss, title, content):\n",
    "            tt = ss.convertToTitle(title)\n",
    "            if tt in queried_pages:\n",
    "                cnt = ss._wikiToText(content)\n",
    "                page_content[tt] = wordvec.tokenize(cnt)\n",
    "\n",
    "    GetWikipediaWords(wikipedia_dump_fname).read()\n",
    "    \n",
    "    rr = redirects\n",
    "    rq = queried_pages\n",
    "    rc = page_content\n",
    "\n",
    "    class PreProcessedQueriesCls(object):\n",
    "        \n",
    "        wordvecs = wordvec\n",
    "        queries = queries\n",
    "        redirects = rr\n",
    "        queried_pages = rq\n",
    "        page_content = rc\n",
    "        \n",
    "        \n",
    "    return PreProcessedQueriesCls"
   ]
  },
  {
   "cell_type": "code",
   "execution_count": 11,
   "metadata": {
    "collapsed": false
   },
   "outputs": [],
   "source": [
    "basePreProcessedQueries = PreProcessedQueries('/data/matthew/enwiki-20141208-pages-articles-multistream.xml')"
   ]
  },
  {
   "cell_type": "code",
   "execution_count": 29,
   "metadata": {
    "collapsed": false
   },
   "outputs": [],
   "source": [
    "class EntityVectorLinkExp(basePreProcessedQueries):\n",
    "    \n",
    "    batch_size = 20000\n",
    "    num_training_items = 200000\n",
    "    \n",
    "    def __init__(self): #, wikipedia_dump_fname, wordvec=wordvectors, queries=queries, redirects=page_redirects):\n",
    "        #self.wordvecs = wordvec\n",
    "        #self.queries = queries\n",
    "        self.sentence_length = self.wordvecs.sentence_length\n",
    "        self.num_words_to_use_conv = 3\n",
    "        #self.redirects = redirects\n",
    "        #self.page_content = {}\n",
    "        #self.wikipedia_dump_fname = wikipedia_dump_fname\n",
    "        \n",
    "        #self._process_queries()\n",
    "        \n",
    "        self._setup()\n",
    "        \n",
    "#     def _process_queries(self):\n",
    "#         queried_pages = set()\n",
    "#         for docs, q in self.queries.iteritems():\n",
    "#             self.wordvecs.tokenize(docs)\n",
    "#             for sur, v in q.iteritems():\n",
    "#                 self.wordvecs.tokenize(sur)\n",
    "#                 for link in v['vals'].keys():\n",
    "#                     self.wordvecs.tokenize(link)\n",
    "#                     tt = WikiRegexes.convertToTitle(link)\n",
    "#                     #self.wordvecs.tokenize(tt)\n",
    "#                     queried_pages.add(tt)\n",
    "\n",
    "#         added_pages = set()\n",
    "#         for title in queried_pages:\n",
    "#             if title in self.redirects:\n",
    "#                 #self.wordvecs.tokenize(self.redirects[title])\n",
    "#                 added_pages.add(self.redirects[title])\n",
    "#         queried_pages |= added_pages\n",
    "        \n",
    "#         self.queried_pages = queried_pages\n",
    "                \n",
    "#         class GetWikipediaWords(WikipediaReader, WikiRegexes):\n",
    "            \n",
    "#             def readPage(ss, title, content):\n",
    "#                 tt = ss.convertToTitle(title)\n",
    "#                 if tt in queried_pages:\n",
    "#                     cnt = ss._wikiToText(content)\n",
    "#                     self.page_content[tt] = self.wordvecs.tokenize(cnt)\n",
    "        \n",
    "#         GetWikipediaWords(self.wikipedia_dump_fname).read()\n",
    "               \n",
    "        \n",
    "    def _setup(self):\n",
    "        self.x_document_input = T.imatrix('x_sent')\n",
    "        self.x_surface_text_input = T.imatrix('x_surface')\n",
    "        self.x_target_input = T.imatrix('x_target')\n",
    "        self.x_document_id = T.ivector('x_sent_id')\n",
    "        self.x_link_id = T.ivector('x_link_id')\n",
    "        self.y_score = T.vector('y')\n",
    "        \n",
    "        self.embedding_W = theano.shared(self.wordvecs.get_numpy_matrix().astype(theano.config.floatX))\n",
    "        \n",
    "        self.document_l = lasagne.layers.InputLayer(\n",
    "            (None,self.sentence_length), \n",
    "            input_var=self.x_document_input\n",
    "        )\n",
    "    \n",
    "        self.document_embedding_l = EmbeddingLayer(\n",
    "            self.document_l,\n",
    "            W=self.embedding_W,\n",
    "            add_word_params=False,\n",
    "        )\n",
    "        \n",
    "        self.document_conv1_l = lasagne.layers.Conv2DLayer(\n",
    "            self.document_embedding_l,\n",
    "            num_filters=350,\n",
    "            filter_size=(self.num_words_to_use_conv, self.wordvecs.vector_size),\n",
    "            name='document_conv1',\n",
    "            nonlinearity=lasagne.nonlinearities.rectify,\n",
    "        )\n",
    "        \n",
    "        self.document_max_l = lasagne.layers.Pool2DLayer(\n",
    "            self.document_conv1_l,\n",
    "            name='document_pool1',\n",
    "            pool_size=(self.sentence_length - self.num_words_to_use_conv, 1),\n",
    "            mode='max',\n",
    "        )\n",
    "\n",
    "        self.document_dens1 = lasagne.layers.DenseLayer(\n",
    "            self.document_max_l,\n",
    "            num_units=300,\n",
    "            name='doucment_dens1',\n",
    "            nonlinearity=lasagne.nonlinearities.tanh,\n",
    "        )\n",
    "        \n",
    "        self.document_drop1 = lasagne.layers.DropoutLayer(\n",
    "            self.document_dens1,\n",
    "            p=.25,\n",
    "        )\n",
    "        \n",
    "        document_output_length = 250\n",
    "        \n",
    "        self.document_dens2 = lasagne.layers.DenseLayer(\n",
    "            self.document_drop1,\n",
    "            num_units=document_output_length,\n",
    "            name='document_dens2',\n",
    "            nonlinearity=lasagne.nonlinearities.tanh,\n",
    "        )\n",
    "        \n",
    "        self.document_output = lasagne.layers.get_output(self.document_dens2)\n",
    "                \n",
    "        self.surface_input_l = lasagne.layers.InputLayer(\n",
    "            (None, self.sentence_length), \n",
    "            input_var=self.x_surface_text_input\n",
    "        )\n",
    "        \n",
    "        self.surface_embedding_l = EmbeddingLayer(\n",
    "            self.surface_input_l,\n",
    "            W=self.embedding_W,\n",
    "            add_word_params=False,\n",
    "        )\n",
    "        \n",
    "        self.surface_conv1_l = lasagne.layers.Conv2DLayer(\n",
    "            self.surface_embedding_l,\n",
    "            num_filters=350,\n",
    "            filter_size=(self.num_words_to_use_conv, self.wordvecs.vector_size),\n",
    "            name='surface_conv1',\n",
    "            nonlinearity=lasagne.nonlinearities.tanh,\n",
    "        )\n",
    "        \n",
    "        self.surface_dens1 = lasagne.layers.DenseLayer(\n",
    "            self.surface_conv1_l,\n",
    "            name='surface_dens1',\n",
    "            num_units=300,\n",
    "            nonlinearity=lasagne.nonlinearities.tanh,\n",
    "        )\n",
    "        \n",
    "        self.surface_drop1 = lasagne.layers.DropoutLayer(\n",
    "            self.surface_dens1,\n",
    "            p=.25,\n",
    "        )\n",
    "        \n",
    "        self.surface_dens2 = lasagne.layers.DenseLayer(\n",
    "            self.surface_drop1,\n",
    "            name='surface_dens2',\n",
    "            num_units=250,\n",
    "            nonlinearity=lasagne.nonlinearities.tanh,\n",
    "        )\n",
    "        \n",
    "        self.document_aligned_l = InputLayer(\n",
    "            (None, document_output_length),\n",
    "            input_var=self.document_output[self.x_document_id,:]\n",
    "        )\n",
    "        \n",
    "        self.source_l = lasagne.layers.ConcatLayer(\n",
    "            [self.document_aligned_l, self.surface_dens2]\n",
    "        )\n",
    "        \n",
    "        self.source_dens1 = lasagne.layers.DenseLayer(\n",
    "            self.source_l,\n",
    "            num_units=300,\n",
    "            name='source_dens1',\n",
    "            nonlinearity=lasagne.nonlinearities.tanh,\n",
    "        )\n",
    "        \n",
    "        self.source_drop1 = lasagne.layers.DropoutLayer(\n",
    "            self.source_dens1,\n",
    "            p=.25,\n",
    "        )\n",
    "        \n",
    "        self.source_dens2 = lasagne.layers.DenseLayer(\n",
    "            self.source_drop1,\n",
    "            num_units=300,\n",
    "            name='source_dens2',\n",
    "            nonlinearity=lasagne.nonlinearities.tanh,\n",
    "        )\n",
    "        \n",
    "        self.source_out = lasagne.layers.get_output(self.source_dens2)\n",
    "        \n",
    "        self.target_input_l = lasagne.layers.InputLayer(\n",
    "            (None,self.sentence_length), \n",
    "            input_var=self.x_target_input\n",
    "        )\n",
    "        \n",
    "        self.target_embedding_l = EmbeddingLayer(\n",
    "            self.target_input_l,\n",
    "            W=self.embedding_W,\n",
    "            add_word_params=False,\n",
    "        )\n",
    "        \n",
    "        self.target_conv1_l = lasagne.layers.Conv2DLayer(\n",
    "            self.target_embedding_l,\n",
    "            name='target_conv1',\n",
    "            filter_size=(self.num_words_to_use_conv, self.wordvecs.vector_size),\n",
    "            num_filters=300,\n",
    "            nonlinearity=lasagne.nonlinearities.tanh,\n",
    "        )\n",
    "        \n",
    "        self.target_dens1 = lasagne.layers.DenseLayer(\n",
    "            self.target_conv1_l,\n",
    "            name='target_dens1',\n",
    "            num_units=300,\n",
    "            nonlinearity=lasagne.nonlinearities.tanh,\n",
    "        )\n",
    "        \n",
    "        self.target_drop1 = lasagne.layers.DropoutLayer(\n",
    "            self.target_dens1,\n",
    "            p=.25,\n",
    "        )\n",
    "        \n",
    "        self.target_dens2 = lasagne.layers.DenseLayer(\n",
    "            self.target_drop1,\n",
    "            name='target_dens2',\n",
    "            num_units=300,\n",
    "            nonlinearity=lasagne.nonlinearities.tanh,\n",
    "        )\n",
    "        \n",
    "        self.target_out = lasagne.layers.get_output(self.target_dens2)\n",
    "        \n",
    "        # compute the cosine distance between the two layers\n",
    "        self.source_aligned_l = self.source_out[self.x_link_id, :]\n",
    "        \n",
    "        # this uses scan internally, which means that it comes back into python code to run the loop.....fml\n",
    "        self.dotted_vectors =  T.batched_dot(self.target_out, self.source_aligned_l)\n",
    "        # diag also does not support a C version.........\n",
    "        #self.dotted_vectors = T.dot(self.target_out, self.source_aligned_l.T).diagonal()\n",
    "        \n",
    "        def augNorm(v):\n",
    "            return T.maximum(T.basic.pow(T.basic.pow(T.basic.abs_(v), 2).sum(axis=1) + .001, .5), .001)\n",
    "    \n",
    "        self.res_l = self.dotted_vectors / (augNorm(self.target_out) * augNorm(self.source_aligned_l) + .001)\n",
    "#         self.res_l = self.dotted_vectors / ((self.target_out.norm(1, axis=1) + .001) * \n",
    "#                                             (self.source_aligned_l.norm(1, axis=1) + .001))\n",
    "        \n",
    "        self.res_cap = T.clip((T.tanh(self.res_l) + 1) / 2, .001, .999)\n",
    "    \n",
    "        self.all_params = (\n",
    "            lasagne.layers.get_all_params(self.target_dens2) + \n",
    "            lasagne.layers.get_all_params(self.source_dens2) +\n",
    "            lasagne.layers.get_all_params(self.document_dens2)\n",
    "        )\n",
    "        \n",
    "        # weight the positive samples more since there are fewer of them,\n",
    "        # freaking hack\n",
    "        self.loss_vec = -(10 * self.y_score * T.log(self.res_cap) + (1.0 - self.y_score) * T.log(1.0 - self.res_cap))\n",
    "        \n",
    "        #self.loss_vec = T.nnet.binary_crossentropy(self.res_cap, self.y_score)\n",
    "        \n",
    "        self.updates = lasagne.updates.adadelta(self.loss_vec.mean(), self.all_params)\n",
    "        \n",
    "        self.train_func = theano.function(\n",
    "            [self.x_document_input,\n",
    "             self.x_surface_text_input, self.x_document_id,\n",
    "             self.x_target_input, self.x_link_id, self.y_score],\n",
    "            [self.res_cap, self.loss_vec.sum(), self.loss_vec],\n",
    "            updates=self.updates\n",
    "        )\n",
    "        \n",
    "        self.test_func = theano.function(\n",
    "            [self.x_document_input,\n",
    "             self.x_surface_text_input, self.x_document_id,\n",
    "             self.x_target_input, self.x_link_id, self.y_score],\n",
    "            [self.res_cap, self.loss_vec.sum(), self.loss_vec],\n",
    "        )\n",
    "        \n",
    "    def reset_accums(self):\n",
    "        self.current_documents = []\n",
    "        self.current_surface_text = []\n",
    "        self.current_link_id = []\n",
    "        self.current_target_input = []\n",
    "        self.current_target_id = []\n",
    "        self.current_target_goal = []\n",
    "        self.learning_targets = []\n",
    "        \n",
    "    def compute_batch(self, isTraining=True):\n",
    "        if isTraining:\n",
    "            func = self.train_func\n",
    "        else:\n",
    "            func = self.test_func\n",
    "        self.reset_accums()\n",
    "        self.total_links = 0\n",
    "        self.total_loss = 0.0\n",
    "        \n",
    "        for doc, queries in self.queries.iteritems():\n",
    "            # skip the testing documents while training and vice versa\n",
    "            if queries.values()[0]['training'] is not isTraining:\n",
    "                continue\n",
    "            docid = len(self.current_documents)\n",
    "            self.current_documents.append(self.wordvecs.tokenize(doc))\n",
    "            for surtxt, targets in queries.iteritems():\n",
    "                self.current_link_id.append(docid)\n",
    "                surid = len(self.current_surface_text)\n",
    "                self.current_surface_text.append(self.wordvecs.tokenize(surtxt))\n",
    "                for target in targets['vals'].keys():\n",
    "                    # skip the items that we don't know the gold for\n",
    "                    if not targets['gold'] and isTraining:\n",
    "                        continue\n",
    "                    isGold = target == targets['gold']\n",
    "                    cnt = self.page_content.get(WikiRegexes.convertToTitle(target))\n",
    "                    if cnt is None:\n",
    "                        # were not able to find this wikipedia document\n",
    "                        # so just ignore tihs result since trying to train on it will cause\n",
    "                        # issues\n",
    "                        continue\n",
    "                    self.current_target_input.append(cnt)  # page_content already tokenized\n",
    "                    self.current_target_id.append(surid)\n",
    "                    self.current_target_goal.append(isGold)\n",
    "                    self.learning_targets.append((targets, target))\n",
    "            if len(self.current_target_id) > self.batch_size:\n",
    "                self.run_batch(func)\n",
    "                if self.total_links > self.num_training_items:\n",
    "                    return self.total_loss / self.total_links\n",
    "        \n",
    "        if len(self.current_target_id) > 0:\n",
    "            self.run_batch(func)\n",
    "            \n",
    "        return self.total_loss / self.total_links\n",
    "        \n",
    "    def run_batch(self, func):\n",
    "        res_vec, loss_sum, loss_vec = func(\n",
    "            self.current_documents,\n",
    "            self.current_surface_text, self.current_link_id,\n",
    "            self.current_target_input, self.current_target_id, self.current_target_goal\n",
    "        )\n",
    "        self.check_params()\n",
    "        self.total_links += len(self.current_target_id)\n",
    "        self.total_loss += loss_sum\n",
    "        for i in xrange(len(res_vec)):\n",
    "            # save the results from this pass\n",
    "            l = self.learning_targets[i]\n",
    "            l[0]['vals'][ l[1] ] = res_vec[i]\n",
    "        self.reset_accums()\n",
    "        \n",
    "    def check_params(self):\n",
    "        if any([np.isnan(v.get_value(borrow=True)).any() for v in self.all_params]):\n",
    "            raise RuntimeError('nan in some of the parameters')\n",
    "        \n",
    "\n",
    "        \n",
    "queries_exp = EntityVectorLinkExp() "
   ]
  },
  {
   "cell_type": "code",
   "execution_count": null,
   "metadata": {
    "collapsed": true
   },
   "outputs": [],
   "source": [
    "queries_exp.check_params()"
   ]
  },
  {
   "cell_type": "code",
   "execution_count": null,
   "metadata": {
    "collapsed": false
   },
   "outputs": [],
   "source": [
    "exp_results = []\n",
    "\n",
    "for i in xrange(5):\n",
    "    exp_results.append((i, queries_exp.compute_batch()))"
   ]
  },
  {
   "cell_type": "code",
   "execution_count": null,
   "metadata": {
    "collapsed": false
   },
   "outputs": [],
   "source": [
    "queries_exp.compute_batch(False)"
   ]
  },
  {
   "cell_type": "code",
   "execution_count": 26,
   "metadata": {
    "collapsed": false
   },
   "outputs": [
    {
     "data": {
      "text/plain": [
       "[(0, 0.37509473128346466),\n",
       " (1, 0.28119910693666045),\n",
       " (2, 0.27871172207015382),\n",
       " (3, 0.27728389145712806),\n",
       " (4, 0.2762057242199728)]"
      ]
     },
     "execution_count": 26,
     "metadata": {},
     "output_type": "execute_result"
    }
   ],
   "source": [
    "exp_results"
   ]
  },
  {
   "cell_type": "code",
   "execution_count": 28,
   "metadata": {
    "collapsed": false
   },
   "outputs": [
    {
     "data": {
      "text/plain": [
       "{u'1921': {u'gold': u'1921',\n",
       "  u'training': True,\n",
       "  u'vals': {u'-NIL-': 0.13333279,\n",
       "   u'144th New York State Legislature': 0.13636872,\n",
       "   u'1921': 0.13346717,\n",
       "   u'1921 APFA season': 0.13648552,\n",
       "   u'1921 Green Bay Packers season': 0.13362804,\n",
       "   u'1921 Indianapolis 500': 0.13376999,\n",
       "   u'1921 NFL season': 0,\n",
       "   u'1921 VFL season': 0.13534161,\n",
       "   u'1921 World Series': 0.13490734,\n",
       "   u'1921 college football season': 0.13448197,\n",
       "   u'1921 in Canada': 0.13798228,\n",
       "   u'1921 in aviation': 0.13727048,\n",
       "   u'1921 in film': 0.13804439,\n",
       "   u'1921 in literature': 0.13513789,\n",
       "   u'1921 in poetry': 0.13625309,\n",
       "   u'1921 in the United States': 0.13457984,\n",
       "   u'Canadian federal election, 1921': 0.13565573,\n",
       "   u'Irish elections, 1921': 0.13128728,\n",
       "   u'Norwegian parliamentary election, 1921': 0.13403356,\n",
       "   u'XXNILXX': 0}},\n",
       " u'1984': {u'gold': u'1984',\n",
       "  u'training': True,\n",
       "  u'vals': {u'-NIL-': 0.14112309,\n",
       "   u'1984': 0.136475,\n",
       "   u'1984 Grand Prix motorcycle racing season': 0.13823062,\n",
       "   u'1984 NBA draft': 0.1418733,\n",
       "   u'1984 NCAA Division I-A football season': 0.14132386,\n",
       "   u'1984 NFL season': 0.143812,\n",
       "   u'1984 NHL Entry Draft': 0.13761646,\n",
       "   u'1984 Summer Olympics': 0.14145428,\n",
       "   u'1984 Winter Olympics': 0.14098677,\n",
       "   u'1984 in film': 0.14007694,\n",
       "   u'1984 in literature': 0.13899752,\n",
       "   u'1984 in music': 0.14045849,\n",
       "   u'1984 in television': 0.13797837,\n",
       "   u'1984 in video gaming': 0.14105093,\n",
       "   u'Australian federal election, 1984': 0.13855353,\n",
       "   u'Nineteen Eighty-Four': 0.13738289,\n",
       "   u'UEFA Euro 1984': 0.13834125,\n",
       "   u'United States House of Representatives elections, 1984': 0.14354339,\n",
       "   u'United States presidential election, 1984': 0.14159805,\n",
       "   u'XXNILXX': 0}},\n",
       " u'Alfred Hitchcock': {u'gold': u'Alfred Hitchcock',\n",
       "  u'training': True,\n",
       "  u'vals': {u'-NIL-': 0.13693365,\n",
       "   u'Alfred Hitchcock': 0.13995916,\n",
       "   u'Alfred Hitchcock (book)': 0,\n",
       "   u'Alfred Hitchcock (police officer)': 0,\n",
       "   u'Cameron Hitchcock': 0.13495338,\n",
       "   u'E. Hitchcock': 0,\n",
       "   u'Edward Hitchcock': 0.13569543,\n",
       "   u'Hitchcock': 0,\n",
       "   u'Hitchcock (automobile)': 0.13726711,\n",
       "   u'Hitchcock (film)': 0.13906693,\n",
       "   u'Hitchcock County, Nebraska': 0.1343995,\n",
       "   u'Hitchcock, Oklahoma': 0.13726145,\n",
       "   u'Hitchcock, South Dakota': 0.13789403,\n",
       "   u'Hitchcock, Texas': 0.13559803,\n",
       "   u'Ken Hitchcock': 0.13954321,\n",
       "   u'Sterling Hitchcock': 0.13753909,\n",
       "   u'The Birds (film)': 0.135564,\n",
       "   u'Tom Hitchcock': 0.13596037,\n",
       "   u'Tommy Hitchcock (racing driver)': 0,\n",
       "   u'XXNILXX': 0}},\n",
       " u'August 8': {u'gold': u'August 8',\n",
       "  u'training': True,\n",
       "  u'vals': {u'-NIL-': 0.13732693,\n",
       "   u'/August': 0.14007568,\n",
       "   u'August': 0.13529664,\n",
       "   u'August (1996 film)': 0.13600755,\n",
       "   u'August (2008 film)': 0.13227373,\n",
       "   u'August (Eric Clapton album)': 0.13468567,\n",
       "   u'August (Fringe)': 0.13613158,\n",
       "   u'August (company)': 0.13978347,\n",
       "   u'August 1966': 0.13477311,\n",
       "   u'August 1971': 0.13397974,\n",
       "   u'August 1972': 0.13392943,\n",
       "   u'August 1973': 0.13605046,\n",
       "   u'August 1975': 0.1364024,\n",
       "   u'August 2007': 0.13679102,\n",
       "   u'August 8': 0.13693419,\n",
       "   u'August 8 (Eastern Orthodox liturgics)': 0.13435304,\n",
       "   u'August, California': 0.1326738,\n",
       "   u'CMLL Super Viernes (August 2014)': 0.13603872,\n",
       "   u'Papal conclave, August 1978': 0.13467532,\n",
       "   u'XXNILXX': 0}},\n",
       " u'Boze Hadleigh': {u'gold': u'Boze Hadleigh',\n",
       "  u'training': True,\n",
       "  u'vals': {u'-NIL-': 0.14262891,\n",
       "   u'Boze Hadleigh': 0.13820904,\n",
       "   u'Hadleigh': 0.14225563,\n",
       "   u'Hadleigh (TV series)': 0.13866392,\n",
       "   u'Hadleigh (disambiguation)': 0,\n",
       "   u'Hadleigh Airfield': 0,\n",
       "   u'Hadleigh Castle': 0.14272678,\n",
       "   u'Hadleigh railway station': 0.14478686,\n",
       "   u'Hadleigh, Essex': 0.13997534,\n",
       "   u'Hadleigh, Suffolk': 0.14130294,\n",
       "   u'RAF Hadleigh': 0,\n",
       "   u'XXNILXX': 0}},\n",
       " u'Carousel': {u'gold': u'Carousel (film)',\n",
       "  u'training': True,\n",
       "  u'vals': {u'-NIL-': 0.13822114,\n",
       "   u'Carousel': 0.14242372,\n",
       "   u'Carousel (1923 film)': 0.13522124,\n",
       "   u'Carousel (1956 film)': 0,\n",
       "   u'Carousel (Blink-182 song)': 0.13814738,\n",
       "   u'Carousel (Leila K album)': 0,\n",
       "   u'Carousel (TV channel)': 0.13578334,\n",
       "   u'Carousel (Vanessa Carlton song)': 0,\n",
       "   u'Carousel (advert)': 0,\n",
       "   u'Carousel (advertisement)': 0.139137,\n",
       "   u'Carousel (album)': 0.13471547,\n",
       "   u'Carousel (ballet)': 0.13601229,\n",
       "   u'Carousel (film)': 0.1351378,\n",
       "   u'Carousel (musical)': 0.13623691,\n",
       "   u'Carousel slide projector': 0.13740304,\n",
       "   u'Cheshire Cat (Blink-182 album)': 0.13906974,\n",
       "   u'Ford Carousel': 0.13839239,\n",
       "   u'Rabbits on the Run': 0.13794395,\n",
       "   u'Westfield Carousel': 0.13762942,\n",
       "   u'XXNILXX': 0}},\n",
       " u'Fred Rutherford': {u'gold': u'Fred Rutherford',\n",
       "  u'training': True,\n",
       "  u'vals': {u'-NIL-': 0.13665688,\n",
       "   u'Alexander Cameron Rutherford': 0.13658765,\n",
       "   u'Ernest Rutherford': 0.13742125,\n",
       "   u'Fred Rutherford': 0.13512388,\n",
       "   u'Jock Rutherford': 0.13622427,\n",
       "   u'John Rutherford (rugby union)': 0.13267392,\n",
       "   u'Johnny Rutherford': 0.13764787,\n",
       "   u'Rutherford': 0.1364283,\n",
       "   u'Rutherford (NJT station)': 0.13346949,\n",
       "   u'Rutherford AVA': 0.13399175,\n",
       "   u'Rutherford County, North Carolina': 0.1375052,\n",
       "   u'Rutherford County, Tennessee': 0.13549933,\n",
       "   u'Rutherford GO Station': 0.14009297,\n",
       "   u'Rutherford, California': 0.14172745,\n",
       "   u'Rutherford, Edmonton': 0.13829365,\n",
       "   u'Rutherford, New Jersey': 0.13932365,\n",
       "   u'Rutherford, New South Wales': 0.13808167,\n",
       "   u'Rutherford, Pennsylvania': 0.1362558,\n",
       "   u'Rutherford, Tennessee': 0.13948029,\n",
       "   u'XXNILXX': 0}},\n",
       " u'Gordon MacRae': {u'gold': u'Gordon MacRae',\n",
       "  u'training': True,\n",
       "  u'vals': {u'-NIL-': 0.13719553,\n",
       "   u'Calum MacRae': 0.13655832,\n",
       "   u'Gordon MacRae': 0.13607824,\n",
       "   u'Jade MacRae': 0.13632318,\n",
       "   u'MacRae': 0.13979706,\n",
       "   u'MacRae (surname)': 0,\n",
       "   u'William MacRae': 0.14190882,\n",
       "   u'XXNILXX': 0}},\n",
       " u'Hello , Dolly !': {u'gold': u'Hello, Dolly! (musical)',\n",
       "  u'training': True,\n",
       "  u'vals': {u'-NIL-': 0.13863915,\n",
       "   u'Hello': 0.13952881,\n",
       "   u'Hello (2008 film)': 0.13636819,\n",
       "   u'Hello (Ice Cube song)': 0.13806617,\n",
       "   u'Hello (Lionel Richie song)': 0.14167443,\n",
       "   u'Hello (Martin Solveig song)': 0.14338183,\n",
       "   u'Hello (band)': 0.14357424,\n",
       "   u'Hello (magazine)': 0.13946491,\n",
       "   u'Hello ,': 0,\n",
       "   u'Hello , Dolly': 0,\n",
       "   u'Hello , Dolly !': 0,\n",
       "   u'Hello Dolly': 0.13647991,\n",
       "   u'Hello Dolly (film)': 0.13577864,\n",
       "   u'Hello Dolly (movie)': 0,\n",
       "   u'Hello Dolly (song)': 0.1362536,\n",
       "   u'Hello, Dolly!': 0.13657615,\n",
       "   u'Hello, Dolly! (film)': 0.14147389,\n",
       "   u'Hello, Dolly! (musical)': 0.13621655,\n",
       "   u'Hello, Dolly! (song)': 0.13830918,\n",
       "   u'XXNILXX': 0}},\n",
       " u'Invasion of the Body Snatchers': {u'gold': u'Invasion of the Body Snatchers',\n",
       "  u'training': True,\n",
       "  u'vals': {u'-NIL-': 0.13901767,\n",
       "   u'2003 invasion of Iraq': 0.13428313,\n",
       "   u'Battle of France': 0.13473985,\n",
       "   u'Invasion': 0.136884,\n",
       "   u'Invasion (1965 film)': 0.13215634,\n",
       "   u'Invasion (1997 film)': 0.13632676,\n",
       "   u'Invasion (TV series)': 0.1349687,\n",
       "   u'Invasion Body Snatchers': 0,\n",
       "   u'Invasion of': 0,\n",
       "   u'Invasion of Normandy': 0.1346997,\n",
       "   u'Invasion of Poland': 0.13396639,\n",
       "   u'Invasion of Poland (1939)': 0,\n",
       "   u'Invasion of the': 0,\n",
       "   u'Invasion of the Body': 0,\n",
       "   u'Invasion of the Body Snatchers': 0.13976389,\n",
       "   u'Invasion of the Body Snatchers (1956 film)': 0,\n",
       "   u'Invasion of the Body Snatchers (1978 film)': 0.13409275,\n",
       "   u'Invasion of the Body Snatchers (1978 film) ': 0,\n",
       "   u'The Invasion (professional wrestling)': 0.13338688,\n",
       "   u'XXNILXX': 0}},\n",
       " u'John Dehner': {u'gold': u'John Dehner',\n",
       "  u'training': True,\n",
       "  u'vals': {u'-NIL-': 0.14004838,\n",
       "   u'Dehner': 0,\n",
       "   u'John Dehner': 0.13830566,\n",
       "   u'XXNILXX': 0}},\n",
       " u'May 14': {u'gold': u'May 14',\n",
       "  u'training': True,\n",
       "  u'vals': {u'-NIL-': 0.13644257,\n",
       "   u'/May': 0.13366789,\n",
       "   u'Ben May': 0.13470611,\n",
       "   u'Brian May': 0.13968557,\n",
       "   u'CMLL Super Viernes (May 2014)': 0,\n",
       "   u'Darrell May': 0.13455561,\n",
       "   u'David May (footballer)': 0.13619128,\n",
       "   u'Jonny May': 0.13519201,\n",
       "   u'Kathy May': 0,\n",
       "   u'List of Pok\\xe9mon anime characters': 0.14099512,\n",
       "   u'May': 0.13882035,\n",
       "   u'May (Pok\\xe9mon)': 0,\n",
       "   u'May (film)': 0.13872856,\n",
       "   u'May 14': 0.13658088,\n",
       "   u'May 14 (Eastern Orthodox liturgics)': 0.14002243,\n",
       "   u'May, Oklahoma': 0.13646463,\n",
       "   u'May, Texas': 0.13996145,\n",
       "   u'Sean May': 0.13466531,\n",
       "   u'Stevie May': 0.13534126,\n",
       "   u'XXNILXX': 0}},\n",
       " u'Philadelphia': {u'gold': u'Philadelphia',\n",
       "  u'training': True,\n",
       "  u'vals': {u'-NIL-': 0.13580722,\n",
       "   u'2014\\u201315 Philadelphia Flyers season': 0.13291109,\n",
       "   u'Advanta Championships of Philadelphia': 0.13125035,\n",
       "   u'Ala\\u015fehir': 0.13139117,\n",
       "   u'Philadelphia': 0.13348535,\n",
       "   u'Philadelphia (film)': 0.13255352,\n",
       "   u'Philadelphia (magazine)': 0.13432333,\n",
       "   u'Philadelphia 76ers': 0.13155475,\n",
       "   u'Philadelphia County, Pennsylvania': 0.13436842,\n",
       "   u'Philadelphia Eagles': 0.13550296,\n",
       "   u'Philadelphia Flyers': 0.13371655,\n",
       "   u'Philadelphia International Airport': 0.1374909,\n",
       "   u'Philadelphia Phantoms': 0.13705173,\n",
       "   u'Philadelphia Phillies': 0.13563687,\n",
       "   u'Philadelphia Union': 0.13574558,\n",
       "   u'Philadelphia, Mississippi': 0.13302097,\n",
       "   u'Philadelphia, Pennsylvania': 0,\n",
       "   u'Roman Catholic Archdiocese of Philadelphia': 0.133241,\n",
       "   u'U.S. Pro Indoor': 0.13269031,\n",
       "   u'XXNILXX': 0}},\n",
       " u'Phyllis Diller': {u'gold': u'Phyllis Diller',\n",
       "  u'training': True,\n",
       "  u'vals': {u'-NIL-': 0.13846374,\n",
       "   u'Diller': 0.13868374,\n",
       "   u'Diller Glacier': 0.13411471,\n",
       "   u'Diller, Nebraska': 0.13634041,\n",
       "   u'LeGrande A. Diller': 0,\n",
       "   u'Phyllis Diller': 0.13772437,\n",
       "   u'XXNILXX': 0}},\n",
       " u'Shirley Jones': {u'gold': u'Shirley Jones',\n",
       "  u'training': True,\n",
       "  u'vals': {u'-NIL-': 0.13811198,\n",
       "   u'Asjha Jones': 0.14140281,\n",
       "   u'Jermaine Jones': 0.13775149,\n",
       "   u'Jone': 0.13913637,\n",
       "   u'Jone (band)': 0,\n",
       "   u'Jone (opera)': 0.13987291,\n",
       "   u'Jone Pedro': 0,\n",
       "   u'Jone da Silva Pinto': 0,\n",
       "   u'Jones': 0.13951537,\n",
       "   u'Jones County, Texas': 0.14263728,\n",
       "   u'Kenwyne Jones': 0.14339161,\n",
       "   u'Nathan Jones (Australian rules footballer)': 0.13908672,\n",
       "   u'Shirley Jones': 0.13981172,\n",
       "   u'Shirley Jones (R&amp;B singer)': 0.14074311,\n",
       "   u'Shirley Jones (horse)': 0,\n",
       "   u'Shirley Jones (politician)': 0,\n",
       "   u'Stacey Jones': 0.14104918,\n",
       "   u'The Jones Girls': 0.14071125,\n",
       "   u'Todd Jones': 0.14351425,\n",
       "   u'XXNILXX': 0}},\n",
       " u'The Addams Family': {u'gold': u'The Addams Family',\n",
       "  u'training': True,\n",
       "  u'vals': {u'-NIL-': 0.13675082,\n",
       "   u'Addams Family': 0,\n",
       "   u'Addams Family (pinball)': 0,\n",
       "   u\"Children's film\": 0.13187066,\n",
       "   u'Family': 0.13521209,\n",
       "   u'Family (1976 TV series)': 0.13072932,\n",
       "   u'Family (band)': 0.13494769,\n",
       "   u'Family (biology)': 0.13582474,\n",
       "   u'Family Channel': 0.13411742,\n",
       "   u'The Addams Family': 0.13530952,\n",
       "   u'The Addams Family (1964 TV series)': 0.13360861,\n",
       "   u'The Addams Family (1973 animated series)': 0.13331559,\n",
       "   u'The Addams Family (1992 animated series)': 0.13637856,\n",
       "   u'The Addams Family (film)': 0.13677007,\n",
       "   u'The Addams Family (musical)': 0.13388026,\n",
       "   u'The Addams Family (pinball)': 0.13227144,\n",
       "   u'The Addams Family (video game)': 0.13345233,\n",
       "   u'The Addams Family Theme': 0.13158816,\n",
       "   u'XXNILXX': 0,\n",
       "   u'family (biology)': 0.13367748}},\n",
       " u'The Birds': {u'gold': u'The Birds (film)',\n",
       "  u'training': True,\n",
       "  u'vals': {u'-NIL-': 0.13569453,\n",
       "   u'Bird': 0.13433188,\n",
       "   u'Bird (disambiguation)': 0.1357592,\n",
       "   u'Bird (film)': 0.13812268,\n",
       "   u'Birds': 0,\n",
       "   u'Birds (Anouk song)': 0.13974151,\n",
       "   u'Birds (Bic Runga album)': 0.13648108,\n",
       "   u'Birds (Kate Nash song)': 0.13669604,\n",
       "   u'Birds, Illinois': 0.13308254,\n",
       "   u'Greg Bird': 0.13519034,\n",
       "   u'Larry Bird': 0.14258981,\n",
       "   u'Ryan Bird': 0.1342428,\n",
       "   u'Sue Bird': 0.13399225,\n",
       "   u'The Birds': 0,\n",
       "   u'The Birds (Respighi)': 0.13366348,\n",
       "   u'The Birds (band)': 0.13812357,\n",
       "   u'The Birds (film)': 0.13866752,\n",
       "   u'The Birds (play)': 0.13257149,\n",
       "   u'The Birds (story)': 0.1353384,\n",
       "   u'XXNILXX': 0}},\n",
       " u'The Dick Van Dyke Show': {u'gold': u'The Dick Van Dyke Show',\n",
       "  u'training': True,\n",
       "  u'vals': {u'-NIL-': 0.13738137,\n",
       "   u'Agricultural show': 0.13571423,\n",
       "   u'Days of Our Lives': 0.14018226,\n",
       "   u'Days of our Lives': 0.13677627,\n",
       "   u'Dick Van Dyke Show': 0,\n",
       "   u'Dyke Show': 0,\n",
       "   u'Eric Show': 0.13550386,\n",
       "   u'General Hospital': 0.1319187,\n",
       "   u'Show': 0.1348075,\n",
       "   u'Show (The Cure album)': 0.13880345,\n",
       "   u'Show (The Jesus Lizard album)': 0.13406363,\n",
       "   u'Show (film)': 0.1327174,\n",
       "   u'Show (magazine)': 0.13429481,\n",
       "   u'Showbiz (producer)': 0,\n",
       "   u'Showbiz and A.G.': 0.13520148,\n",
       "   u'The Dick Van Dyke Show': 0.13568655,\n",
       "   u'The Dick Van Dyke Show ': 0,\n",
       "   u'The Van Dyke Show': 0.13261589,\n",
       "   u'Van Dyke Show': 0,\n",
       "   u'XXNILXX': 0}},\n",
       " u'The Mothers-in-Law': {u'gold': u'The Mothers-in-Law',\n",
       "  u'training': True,\n",
       "  u'vals': {u'-NIL-': 0.13584852,\n",
       "   u'Mothers-in-Law': 0,\n",
       "   u'The Mothers-in-Law': 0.13691083,\n",
       "   u'XXNILXX': 0}},\n",
       " u'character actor': {u'gold': u'Character actor',\n",
       "  u'training': True,\n",
       "  u'vals': {u'-NIL-': 0.13722429,\n",
       "   u'Academy Award for Best Actor': 0.13717857,\n",
       "   u'Acting': 0.13334596,\n",
       "   u'Actor': 0.13747782,\n",
       "   u'Actor (UML)': 0.13585252,\n",
       "   u'Actor (album)': 0.13362166,\n",
       "   u'Actor (mythology)': 0.13165283,\n",
       "   u'Character actor': 0.13432345,\n",
       "   u'Film actor': 0,\n",
       "   u'Golden Globe Award for Best Actor \\u2013 Miniseries or Television Film': 0.134184,\n",
       "   u'Golden Globe Award for Best Actor \\u2013 Motion Picture Drama': 0.13114935,\n",
       "   u'Golden Globe Award for Best Actor \\u2013 Motion Picture Musical or Comedy': 0.13266748,\n",
       "   u'Pornographic film actor': 0.13277772,\n",
       "   u'XXNILXX': 0,\n",
       "   u'acting': 0.13569027,\n",
       "   u'actor': 0.13418323,\n",
       "   u'character actor': 0.13091674,\n",
       "   u'film actor': 0,\n",
       "   u'pornographic actor': 0,\n",
       "   u'television actor': 0}},\n",
       " u'chef': {u'gold': u'Chef',\n",
       "  u'training': True,\n",
       "  u'vals': {u'-NIL-': 0.13642791,\n",
       "   u'Celebrity chef': 0.13732994,\n",
       "   u'Chef': 0.13587567,\n",
       "   u'Chef (2014 film)': 0,\n",
       "   u'Chef (South Park character)': 0,\n",
       "   u'Chef (South Park)': 0.13726276,\n",
       "   u'Chef (company)': 0.13848406,\n",
       "   u'Chef (film)': 0.13949156,\n",
       "   u'Chef (programming language)': 0,\n",
       "   u'Chef (software)': 0.14084595,\n",
       "   u\"Chef's uniform\": 0.13350657,\n",
       "   u'Cook (profession)': 0.13767454,\n",
       "   u'Isaac Hayes': 0.13844365,\n",
       "   u'Japanese cuisine': 0.13858876,\n",
       "   u'Magician': 0.13729906,\n",
       "   u'Michael Smith (chef)': 0.13549495,\n",
       "   u'Swedish Chef': 0.13566515,\n",
       "   u'XXNILXX': 0,\n",
       "   u'celebrity chef': 0.13639587,\n",
       "   u'chef': 0.13514566}},\n",
       " u'cookbook': {u'gold': u'cookbook',\n",
       "  u'training': True,\n",
       "  u'vals': {u'-NIL-': 0.1356456,\n",
       "   u'Cookbook': 0.1417805,\n",
       "   u\"Nanny Ogg's Cookbook\": 0.13627768,\n",
       "   u'XXNILXX': 0,\n",
       "   u'cookbook': 0.13535577}},\n",
       " u'microwave': {u'gold': u'Microwave oven',\n",
       "  u'training': True,\n",
       "  u'vals': {u'-NIL-': 0.13692653,\n",
       "   u'British Telecom microwave network': 0.13996407,\n",
       "   u'Cavalier Computer': 0.13724968,\n",
       "   u'EM spectrum': 0,\n",
       "   u'Electromagnetic spectrum': 0.13444158,\n",
       "   u'Microwave': 0.14223808,\n",
       "   u'Microwave (game)': 0,\n",
       "   u'Microwave chemistry': 0.13312632,\n",
       "   u'Microwave oven': 0.13488317,\n",
       "   u'Microwave radio relay': 0,\n",
       "   u'Microwave radiometer': 0.13831687,\n",
       "   u'Microwave spectroscopy': 0,\n",
       "   u'Microwave transmission': 0.13606912,\n",
       "   u'Microwaves': 0,\n",
       "   u'Rotational spectroscopy': 0.13505754,\n",
       "   u'Waldorf Microwave': 0,\n",
       "   u'XXNILXX': 0,\n",
       "   u'microwave': 0.13791877,\n",
       "   u'microwave oven': 0.13593832,\n",
       "   u'microwave transmission': 0.13584378}},\n",
       " u'physician': {u'gold': u'Physician',\n",
       "  u'training': True,\n",
       "  u'vals': {u'-NIL-': 0.13748255,\n",
       "   u'Doctor of Medicine': 0.13738623,\n",
       "   u'General practitioner': 0.14109421,\n",
       "   u'Internal medicine': 0.13405728,\n",
       "   u'Islamic medicine': 0,\n",
       "   u'John Snow (physician)': 0.13864881,\n",
       "   u'Medicine': 0.13771647,\n",
       "   u'Medicine in medieval Islam': 0,\n",
       "   u'Medicine in the medieval Islamic world': 0.13988718,\n",
       "   u'Physician': 0.14069504,\n",
       "   u'Physician (horse)': 0,\n",
       "   u'Physics': 0.13713959,\n",
       "   u'Physiology': 0.1371302,\n",
       "   u\"Ship's doctor\": 0.13947901,\n",
       "   u'Traditional Chinese medicine': 0.13597965,\n",
       "   u'XXNILXX': 0,\n",
       "   u'medical doctor': 0,\n",
       "   u'medicine': 0.13976848,\n",
       "   u'physician': 0.13903818,\n",
       "   u'physiology': 0.13983655}}}"
      ]
     },
     "execution_count": 28,
     "metadata": {},
     "output_type": "execute_result"
    }
   ],
   "source": [
    "queries.values()[0]"
   ]
  },
  {
   "cell_type": "code",
   "execution_count": null,
   "metadata": {
    "collapsed": true
   },
   "outputs": [],
   "source": [
    "gg_res = queries_exp.test_func(\n",
    "    queries_exp.current_documents, \n",
    "    queries_exp.current_surface_text, queries_exp.current_link_id,\n",
    "    queries_exp.current_target_input, queries_exp.current_target_id, queries_exp.current_target_goal\n",
    ")"
   ]
  },
  {
   "cell_type": "code",
   "execution_count": null,
   "metadata": {
    "collapsed": false
   },
   "outputs": [],
   "source": [
    "np.isnan(gg_res[0]).any()"
   ]
  },
  {
   "cell_type": "code",
   "execution_count": null,
   "metadata": {
    "collapsed": false
   },
   "outputs": [],
   "source": [
    "gg_res[2].mean()"
   ]
  },
  {
   "cell_type": "code",
   "execution_count": null,
   "metadata": {
    "collapsed": false
   },
   "outputs": [],
   "source": [
    "gg_res[0].mean()"
   ]
  },
  {
   "cell_type": "code",
   "execution_count": null,
   "metadata": {
    "collapsed": false
   },
   "outputs": [],
   "source": [
    "[(v, np.isnan(v.get_value(borrow=True)).all()) for v in queries_exp.all_params]"
   ]
  },
  {
   "cell_type": "code",
   "execution_count": null,
   "metadata": {
    "collapsed": false
   },
   "outputs": [],
   "source": [
    "queries_exp.total_links"
   ]
  },
  {
   "cell_type": "code",
   "execution_count": null,
   "metadata": {
    "collapsed": false
   },
   "outputs": [],
   "source": [
    "theano.printing.pydotprint(T.grad(queries_exp.loss_vec.mean(), queries_exp.all_params))"
   ]
  },
  {
   "cell_type": "code",
   "execution_count": null,
   "metadata": {
    "collapsed": false
   },
   "outputs": [],
   "source": [
    "gg_func = theano.function(\n",
    "            [queries_exp.x_document_input,\n",
    "             queries_exp.x_surface_text_input, queries_exp.x_document_id,\n",
    "             queries_exp.x_target_input, queries_exp.x_link_id, queries_exp.y_score],\n",
    "            T.grad(queries_exp.loss_vec.mean(), lasagne.layers.get_all_params(queries_exp.target_dens2)),\n",
    "#           T.grad(queries_exp.loss_vec.mean(), queries_exp.all_params),\n",
    "    #             [queries_exp.target_out, queries_exp.source_aligned_l, \n",
    "#              T.dot(queries_exp.target_out, queries_exp.source_aligned_l.T).diagonal(),\n",
    "#              queries_exp.target_out.norm(2, axis=1) * queries_exp.source_aligned_l.norm(2, axis=1),\n",
    "#              T.batched_dot(queries_exp.target_out, queries_exp.source_aligned_l),\n",
    "#              lasagne.layers.get_output(queries_exp.target_dens2),\n",
    "#              queries_exp.target_out.norm(2, axis=1),\n",
    "#              #T.grad(queries_exp.loss_vec.mean(), queries_exp.all_params)\n",
    "#             ],\n",
    "        #[queries_exp.res_l, queries_exp.loss_vec.sum(), queries_exp.loss_vec],\n",
    "    on_unused_input='ignore',\n",
    "    mode='DebugMode'\n",
    "        )"
   ]
  },
  {
   "cell_type": "code",
   "execution_count": null,
   "metadata": {
    "collapsed": false
   },
   "outputs": [],
   "source": [
    "try:\n",
    "    gg_grad_res = gg_func(\n",
    "        queries_exp.current_documents,\n",
    "        queries_exp.current_surface_text, queries_exp.current_link_id,\n",
    "        queries_exp.current_target_input, queries_exp.current_target_id, queries_exp.current_target_goal\n",
    "    )\n",
    "except Exception as e:\n",
    "    eeee = e"
   ]
  },
  {
   "cell_type": "code",
   "execution_count": null,
   "metadata": {
    "collapsed": false
   },
   "outputs": [],
   "source": [
    "[np.isnan(v).any() for v in gg_grad_res]"
   ]
  },
  {
   "cell_type": "code",
   "execution_count": null,
   "metadata": {
    "collapsed": false
   },
   "outputs": [],
   "source": [
    "eeee"
   ]
  },
  {
   "cell_type": "code",
   "execution_count": null,
   "metadata": {
    "collapsed": false
   },
   "outputs": [],
   "source": [
    "len(queries_exp.current_target_input)"
   ]
  },
  {
   "cell_type": "code",
   "execution_count": null,
   "metadata": {
    "collapsed": false
   },
   "outputs": [],
   "source": [
    "gg_res = gg_func(\n",
    "    queries_exp.current_documents,\n",
    "    queries_exp.current_surface_text, queries_exp.current_link_id,\n",
    "    queries_exp.current_target_input, queries_exp.current_target_id, queries_exp.current_target_goal\n",
    ")"
   ]
  },
  {
   "cell_type": "code",
   "execution_count": null,
   "metadata": {
    "collapsed": false
   },
   "outputs": [],
   "source": [
    "len(queries_exp.current_target_input)"
   ]
  },
  {
   "cell_type": "code",
   "execution_count": null,
   "metadata": {
    "collapsed": false
   },
   "outputs": [],
   "source": [
    "np.isnan(gg_res[5]).any()"
   ]
  },
  {
   "cell_type": "code",
   "execution_count": null,
   "metadata": {
    "collapsed": false
   },
   "outputs": [],
   "source": [
    "gg_res[2]"
   ]
  },
  {
   "cell_type": "code",
   "execution_count": null,
   "metadata": {
    "collapsed": false
   },
   "outputs": [],
   "source": [
    "gg_res[0].shape, gg_res[1].shape, gg_res[2].shape, gg_res[3].shape, gg_res[4].shape"
   ]
  },
  {
   "cell_type": "code",
   "execution_count": null,
   "metadata": {
    "collapsed": false
   },
   "outputs": [],
   "source": [
    "np.inner(gg_res[0], gg_res[1]).shape"
   ]
  },
  {
   "cell_type": "code",
   "execution_count": null,
   "metadata": {
    "collapsed": false
   },
   "outputs": [],
   "source": [
    "gg_res[0] * gg_res[1]"
   ]
  },
  {
   "cell_type": "code",
   "execution_count": null,
   "metadata": {
    "collapsed": false
   },
   "outputs": [],
   "source": [
    "aa = np.dot(gg_res[0], gg_res[1].T)"
   ]
  },
  {
   "cell_type": "code",
   "execution_count": null,
   "metadata": {
    "collapsed": false
   },
   "outputs": [],
   "source": [
    "aa.diagonal().shape"
   ]
  },
  {
   "cell_type": "code",
   "execution_count": null,
   "metadata": {
    "collapsed": false
   },
   "outputs": [],
   "source": [
    "gg_res[2]"
   ]
  },
  {
   "cell_type": "code",
   "execution_count": null,
   "metadata": {
    "collapsed": false
   },
   "outputs": [],
   "source": [
    "len(queries_exp.queried_pages)"
   ]
  },
  {
   "cell_type": "code",
   "execution_count": null,
   "metadata": {
    "collapsed": false
   },
   "outputs": [],
   "source": [
    "len(queries_exp.page_content)"
   ]
  },
  {
   "cell_type": "code",
   "execution_count": null,
   "metadata": {
    "collapsed": false
   },
   "outputs": [],
   "source": [
    "len(queries_exp.current_surface_text)"
   ]
  },
  {
   "cell_type": "code",
   "execution_count": null,
   "metadata": {
    "collapsed": false
   },
   "outputs": [],
   "source": [
    "len(queries_exp.current_link_id)"
   ]
  },
  {
   "cell_type": "code",
   "execution_count": null,
   "metadata": {
    "collapsed": false
   },
   "outputs": [],
   "source": [
    "len(queries_exp.current_target_input)"
   ]
  },
  {
   "cell_type": "code",
   "execution_count": null,
   "metadata": {
    "collapsed": false
   },
   "outputs": [],
   "source": [
    "exp_results = []\n",
    "\n",
    "for i in xrange(5):\n",
    "    exp_results.append((i, queries_exp.compute_batch()))"
   ]
  },
  {
   "cell_type": "code",
   "execution_count": null,
   "metadata": {
    "collapsed": false
   },
   "outputs": [],
   "source": [
    "exp_results"
   ]
  },
  {
   "cell_type": "code",
   "execution_count": null,
   "metadata": {
    "collapsed": false
   },
   "outputs": [],
   "source": [
    "queries.values()"
   ]
  },
  {
   "cell_type": "code",
   "execution_count": null,
   "metadata": {
    "collapsed": false
   },
   "outputs": [],
   "source": [
    "queries_exp.total_links"
   ]
  },
  {
   "cell_type": "code",
   "execution_count": null,
   "metadata": {
    "collapsed": false
   },
   "outputs": [],
   "source": [
    "queries_exp.total_loss / queries_exp.total_links"
   ]
  },
  {
   "cell_type": "code",
   "execution_count": null,
   "metadata": {
    "collapsed": false
   },
   "outputs": [],
   "source": [
    "queries_exp.total_loss"
   ]
  },
  {
   "cell_type": "code",
   "execution_count": null,
   "metadata": {
    "collapsed": false
   },
   "outputs": [],
   "source": [
    "len(queries_exp.current_target_id)"
   ]
  },
  {
   "cell_type": "code",
   "execution_count": null,
   "metadata": {
    "collapsed": false
   },
   "outputs": [],
   "source": [
    "queries_exp.compute_batch()"
   ]
  },
  {
   "cell_type": "code",
   "execution_count": null,
   "metadata": {
    "collapsed": false
   },
   "outputs": [],
   "source": [
    "%time queries_exp.run_batch(queries_exp.test_func)"
   ]
  },
  {
   "cell_type": "code",
   "execution_count": null,
   "metadata": {
    "collapsed": true
   },
   "outputs": [],
   "source": []
  }
 ],
 "metadata": {
  "kernelspec": {
   "display_name": "Python 2",
   "language": "python",
   "name": "python2"
  },
  "language_info": {
   "codemirror_mode": {
    "name": "ipython",
    "version": 2
   },
   "file_extension": ".py",
   "mimetype": "text/x-python",
   "name": "python",
   "nbconvert_exporter": "python",
   "pygments_lexer": "ipython2",
   "version": "2.7.5"
  }
 },
 "nbformat": 4,
 "nbformat_minor": 0
}
