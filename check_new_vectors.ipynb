{
 "cells": [
  {
   "cell_type": "code",
   "execution_count": 2,
   "metadata": {
    "collapsed": true
   },
   "outputs": [],
   "source": [
    "import numpy as np\n",
    "from wordvecs import WordVectors, EmbeddingLayer"
   ]
  },
  {
   "cell_type": "code",
   "execution_count": 3,
   "metadata": {
    "collapsed": true
   },
   "outputs": [],
   "source": [
    "wordvecs = WordVectors('../enwiki-20141208-pages-articles-multistream-links-output5.bin', negvectors=True)"
   ]
  },
  {
   "cell_type": "code",
   "execution_count": 4,
   "metadata": {
    "collapsed": false
   },
   "outputs": [
    {
     "data": {
      "text/plain": [
       "4850513"
      ]
     },
     "execution_count": 4,
     "metadata": {},
     "output_type": "execute_result"
    }
   ],
   "source": [
    "len(wordvecs.vectors)"
   ]
  },
  {
   "cell_type": "code",
   "execution_count": 6,
   "metadata": {
    "collapsed": false
   },
   "outputs": [
    {
     "data": {
      "text/plain": [
       "('tripolitan',\n",
       " array([ 2.52018714, -1.75288761,  0.29424796,  1.70335603, -0.86857349,\n",
       "        -0.86102051, -1.95236647, -3.01595974,  1.99652326,  0.32108888,\n",
       "         4.11411953,  1.15728867, -2.81337595, -2.14284182,  0.5697369 ,\n",
       "        -2.83555055, -1.6868608 , -0.25511226,  1.16605484, -2.80120039,\n",
       "        -3.0302887 ,  3.10143614, -4.770504  , -0.69775087, -3.32587051,\n",
       "        -1.30627859, -1.78149319,  1.20337093,  0.14787792, -2.26016927,\n",
       "         2.27029538, -3.2225616 , -0.05015857, -2.1855104 , -4.22296476,\n",
       "        -0.49056065,  0.7549926 ,  0.77184284, -1.760391  , -0.46342471,\n",
       "        -3.39557958,  2.63115644,  0.51338673, -0.64945436,  0.54334766,\n",
       "         1.44465888, -1.06530941,  0.51957303,  0.84202796,  1.46473789,\n",
       "         2.55869865,  1.60867119,  1.1635884 ,  3.47145677, -0.77388263,\n",
       "        -4.20333385, -3.14917946, -4.66766071,  1.58161545,  0.36929947,\n",
       "         1.90028942, -0.53608346, -0.77671939,  6.49389172,  1.05501211,\n",
       "        -0.48955122, -1.12141192,  1.29727936,  4.4630332 ,  1.51737905,\n",
       "        -3.91064715,  3.91220379, -1.30870247,  3.22469878,  0.82095397,\n",
       "        -4.30221701, -0.24030311, -2.0077486 , -0.86246377, -3.66684723,\n",
       "         2.1646862 ,  0.36845291, -1.65054715, -2.93206573, -1.50108266,\n",
       "         1.8740418 ,  2.23689079, -1.73630226,  4.61127615,  3.71011472,\n",
       "        -2.51514435,  1.18998623, -2.68821383, -3.2238524 ,  0.13339289,\n",
       "         1.13756621, -1.63658762,  0.99062723, -0.16844587,  2.42506886], dtype=float32))"
      ]
     },
     "execution_count": 6,
     "metadata": {},
     "output_type": "execute_result"
    }
   ],
   "source": [
    "wordvecs.vectors.iteritems().next()"
   ]
  },
  {
   "cell_type": "code",
   "execution_count": 7,
   "metadata": {
    "collapsed": true
   },
   "outputs": [],
   "source": [
    "arr = np.array(wordvecs.vectors.values())"
   ]
  },
  {
   "cell_type": "code",
   "execution_count": 9,
   "metadata": {
    "collapsed": false
   },
   "outputs": [
    {
     "data": {
      "text/plain": [
       "(4850513, 100)"
      ]
     },
     "execution_count": 9,
     "metadata": {},
     "output_type": "execute_result"
    }
   ],
   "source": [
    "arr.shape"
   ]
  },
  {
   "cell_type": "code",
   "execution_count": 10,
   "metadata": {
    "collapsed": false
   },
   "outputs": [
    {
     "data": {
      "text/plain": [
       "54.731697"
      ]
     },
     "execution_count": 10,
     "metadata": {},
     "output_type": "execute_result"
    }
   ],
   "source": [
    "arr.max()"
   ]
  },
  {
   "cell_type": "code",
   "execution_count": 11,
   "metadata": {
    "collapsed": false
   },
   "outputs": [
    {
     "data": {
      "text/plain": [
       "-52.066624"
      ]
     },
     "execution_count": 11,
     "metadata": {},
     "output_type": "execute_result"
    }
   ],
   "source": [
    "arr.min()"
   ]
  },
  {
   "cell_type": "code",
   "execution_count": 12,
   "metadata": {
    "collapsed": false
   },
   "outputs": [
    {
     "data": {
      "text/plain": [
       "4850513"
      ]
     },
     "execution_count": 12,
     "metadata": {},
     "output_type": "execute_result"
    }
   ],
   "source": [
    "len(wordvecs.negvectors)"
   ]
  }
 ],
 "metadata": {
  "kernelspec": {
   "display_name": "Python 2",
   "language": "python",
   "name": "python2"
  },
  "language_info": {
   "codemirror_mode": {
    "name": "ipython",
    "version": 2
   },
   "file_extension": ".py",
   "mimetype": "text/x-python",
   "name": "python",
   "nbconvert_exporter": "python",
   "pygments_lexer": "ipython2",
   "version": "2.7.10"
  }
 },
 "nbformat": 4,
 "nbformat_minor": 0
}
