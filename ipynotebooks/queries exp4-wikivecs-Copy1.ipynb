{
 "cells": [
  {
   "cell_type": "code",
   "execution_count": 1,
   "metadata": {
    "collapsed": true
   },
   "outputs": [],
   "source": [
    "%load_ext autoreload\n",
    "%autoreload 2"
   ]
  },
  {
   "cell_type": "code",
   "execution_count": 19,
   "metadata": {
    "collapsed": false
   },
   "outputs": [],
   "source": [
    "from theano import *\n",
    "from lasagne.layers import InputLayer, get_output\n",
    "import lasagne\n",
    "import lasagne.layers\n",
    "import theano.tensor as T\n",
    "import theano\n",
    "import numpy as np\n",
    "from helpers import SimpleMaxingLayer, SimpleAverageLayer\n",
    "from wordvecs import WordVectors, EmbeddingLayer\n",
    "import json\n",
    "import re\n",
    "\n",
    "theano.config.floatX = 'float32'\n",
    "#theano.config.linker = 'cvm_nogc'\n",
    "theano.config.openmp = True\n",
    "theano.config.openmp_elemwise_minsize = 20000"
   ]
  },
  {
   "cell_type": "code",
   "execution_count": 3,
   "metadata": {
    "collapsed": true
   },
   "outputs": [],
   "source": [
    "with open('/data/matthew/external-wiki2.json') as f:\n",
    "    queries = json.load(f)['queries']"
   ]
  },
  {
   "cell_type": "code",
   "execution_count": 4,
   "metadata": {
    "collapsed": false
   },
   "outputs": [
    {
     "data": {
      "text/plain": [
       "9915"
      ]
     },
     "execution_count": 4,
     "metadata": {},
     "output_type": "execute_result"
    }
   ],
   "source": [
    "len(queries)"
   ]
  },
  {
   "cell_type": "code",
   "execution_count": 5,
   "metadata": {
    "collapsed": false
   },
   "outputs": [
    {
     "data": {
      "text/plain": [
       "8917"
      ]
     },
     "execution_count": 5,
     "metadata": {},
     "output_type": "execute_result"
    }
   ],
   "source": [
    "sum([any([g['gold'] for g in v.values()]) for v in queries.values()])"
   ]
  },
  {
   "cell_type": "code",
   "execution_count": 6,
   "metadata": {
    "collapsed": false
   },
   "outputs": [],
   "source": [
    "wordvectors = WordVectors(\n",
    "    fname=\"/data/matthew/enwiki-20141208-pages-articles-multistream-links5-output1.bin\",\n",
    "    redir_fname='/data/matthew/enwiki-20141208-pages-articles-multistream-redirects5.json',\n",
    "    negvectors=False,\n",
    "    sentence_length=200,\n",
    ")\n",
    "wordvectors.add_unknown_words = False"
   ]
  },
  {
   "cell_type": "code",
   "execution_count": 7,
   "metadata": {
    "collapsed": false
   },
   "outputs": [],
   "source": [
    "# with open('/data/matthew/enwiki-20141208-pages-articles-multistream-redirects5.json') as f:\n",
    "#     page_redirects = json.load(f)\n",
    "page_redirects = wordvectors.redirects"
   ]
  },
  {
   "cell_type": "code",
   "execution_count": 8,
   "metadata": {
    "collapsed": false
   },
   "outputs": [
    {
     "data": {
      "text/plain": [
       "4613263"
      ]
     },
     "execution_count": 8,
     "metadata": {},
     "output_type": "execute_result"
    }
   ],
   "source": [
    "len(wordvectors.vectors)"
   ]
  },
  {
   "cell_type": "code",
   "execution_count": 9,
   "metadata": {
    "collapsed": false
   },
   "outputs": [],
   "source": [
    "from wikireader import WikiRegexes, WikipediaReader"
   ]
  },
  {
   "cell_type": "code",
   "execution_count": 10,
   "metadata": {
    "collapsed": false
   },
   "outputs": [],
   "source": [
    "def PreProcessedQueries(wikipedia_dump_fname, wordvec=wordvectors, queries=queries, redirects=page_redirects):\n",
    "    \n",
    "    get_words = re.compile('[^a-zA-Z0-9 ]')\n",
    "    get_link = re.compile('.*?\\[(.*?)\\].*?')\n",
    "    \n",
    "    queried_pages = set()\n",
    "    for docs, q in queries.iteritems():\n",
    "        wordvec.tokenize(docs, length=200)\n",
    "        for sur, v in q.iteritems():\n",
    "            wrds_sur = get_words.sub(' ', sur)\n",
    "            wordvec.tokenize(wrds_sur)\n",
    "            link_sur = get_link.match(sur).group(1)\n",
    "            wordvec.tokenize(link_sur)\n",
    "            for link in v['vals'].keys():\n",
    "                wrds = get_words.sub(' ', link)\n",
    "                wordvec.tokenize(wrds)\n",
    "                tt = WikiRegexes.convertToTitle(link)\n",
    "                wordvec.get_location(tt)\n",
    "                queried_pages.add(tt)\n",
    "\n",
    "    added_pages = set()\n",
    "    for title in queried_pages:\n",
    "        if title in redirects:\n",
    "            #wordvec.tokenize(self.redirects[title])\n",
    "            added_pages.add(redirects[title])\n",
    "    queried_pages |= added_pages\n",
    "\n",
    "    page_content = {}\n",
    "\n",
    "#     class GetWikipediaWords(WikipediaReader, WikiRegexes):\n",
    "\n",
    "#         def readPage(ss, title, content):\n",
    "#             tt = ss.convertToTitle(title)\n",
    "#             if tt in queried_pages:\n",
    "#                 cnt = ss._wikiToText(content)\n",
    "#                 page_content[tt] = wordvec.tokenize(cnt)\n",
    "\n",
    "#     GetWikipediaWords(wikipedia_dump_fname).read()\n",
    "    \n",
    "    rr = redirects\n",
    "    rq = queried_pages\n",
    "    rc = page_content\n",
    "\n",
    "    class PreProcessedQueriesCls(object):\n",
    "        \n",
    "        wordvecs = wordvec\n",
    "        queries = queries\n",
    "        redirects = rr\n",
    "        queried_pages = rq\n",
    "        page_content = rc\n",
    "        \n",
    "        \n",
    "    return PreProcessedQueriesCls"
   ]
  },
  {
   "cell_type": "code",
   "execution_count": 11,
   "metadata": {
    "collapsed": false
   },
   "outputs": [],
   "source": [
    "basePreProcessedQueries = PreProcessedQueries('/data/matthew/enwiki-20141208-pages-articles-multistream.xml')"
   ]
  },
  {
   "cell_type": "code",
   "execution_count": 12,
   "metadata": {
    "collapsed": false
   },
   "outputs": [
    {
     "data": {
      "text/plain": [
       "4613263"
      ]
     },
     "execution_count": 12,
     "metadata": {},
     "output_type": "execute_result"
    }
   ],
   "source": [
    "len(wordvectors.vectors)"
   ]
  },
  {
   "cell_type": "code",
   "execution_count": 56,
   "metadata": {
    "collapsed": false
   },
   "outputs": [],
   "source": [
    "class EntityVectorLinkExp(basePreProcessedQueries):\n",
    "    \n",
    "    batch_size = 1000 #20000\n",
    "    num_training_items = 1000 #200000\n",
    "    \n",
    "    def __init__(self): #, wikipedia_dump_fname, wordvec=wordvectors, queries=queries, redirects=page_redirects):\n",
    "        #self.wordvecs = wordvec\n",
    "        #self.queries = queries\n",
    "        self.sentence_length = self.wordvecs.sentence_length\n",
    "        self.document_length = 100\n",
    "        self.num_words_to_use_conv = 5\n",
    "        #self.redirects = redirects\n",
    "        #self.page_content = {}\n",
    "        #self.wikipedia_dump_fname = wikipedia_dump_fname\n",
    "        \n",
    "        #self._process_queries()\n",
    "        \n",
    "        self._setup()\n",
    "        \n",
    "#     def _process_queries(self):\n",
    "#         queried_pages = set()\n",
    "#         for docs, q in self.queries.iteritems():\n",
    "#             self.wordvecs.tokenize(docs)\n",
    "#             for sur, v in q.iteritems():\n",
    "#                 self.wordvecs.tokenize(sur)\n",
    "#                 for link in v['vals'].keys():\n",
    "#                     self.wordvecs.tokenize(link)\n",
    "#                     tt = WikiRegexes.convertToTitle(link)\n",
    "#                     #self.wordvecs.tokenize(tt)\n",
    "#                     queried_pages.add(tt)\n",
    "\n",
    "#         added_pages = set()\n",
    "#         for title in queried_pages:\n",
    "#             if title in self.redirects:\n",
    "#                 #self.wordvecs.tokenize(self.redirects[title])\n",
    "#                 added_pages.add(self.redirects[title])\n",
    "#         queried_pages |= added_pages\n",
    "        \n",
    "#         self.queried_pages = queried_pages\n",
    "                \n",
    "#         class GetWikipediaWords(WikipediaReader, WikiRegexes):\n",
    "            \n",
    "#             def readPage(ss, title, content):\n",
    "#                 tt = ss.convertToTitle(title)\n",
    "#                 if tt in queried_pages:\n",
    "#                     cnt = ss._wikiToText(content)\n",
    "#                     self.page_content[tt] = self.wordvecs.tokenize(cnt)\n",
    "        \n",
    "#         GetWikipediaWords(self.wikipedia_dump_fname).read()\n",
    "               \n",
    "        \n",
    "    def _setup(self):\n",
    "        self.x_document_input = T.imatrix('x_doc')\n",
    "        \n",
    "        self.x_document_id = T.ivector('x_doc_id')\n",
    "        self.x_surface_text_input = T.imatrix('x_surface_link')\n",
    "        self.x_surface_context_input = T.imatrix('x_surface_cxt')  # TODO\n",
    "        \n",
    "        self.x_target_input = T.ivector('x_target')\n",
    "        self.x_target_words = T.imatrix('x_target_words')\n",
    "        self.x_matches_surface = T.ivector('x_match_surface')\n",
    "        self.x_link_id = T.ivector('x_link_id')\n",
    "        \n",
    "        #self.y_score = T.vector('y')\n",
    "        self.y_answer = T.ivector('y_ans')  # contains the location of the gold answer so we can compute the loss\n",
    "        \n",
    "        self.embedding_W = theano.shared(self.wordvecs.get_numpy_matrix().astype(theano.config.floatX))\n",
    "        \n",
    "        self.document_l = lasagne.layers.InputLayer(\n",
    "            (None,self.document_length), \n",
    "            input_var=self.x_document_input\n",
    "        )\n",
    "    \n",
    "        self.document_embedding_l = EmbeddingLayer(\n",
    "            self.document_l,\n",
    "            W=self.embedding_W,\n",
    "            add_word_params=False,\n",
    "        )\n",
    "        \n",
    "        self.document_conv1_l = lasagne.layers.Conv2DLayer(\n",
    "            self.document_embedding_l,\n",
    "            num_filters=500,\n",
    "            filter_size=(self.num_words_to_use_conv, self.wordvecs.vector_size),\n",
    "            name='document_conv1',\n",
    "            nonlinearity=lasagne.nonlinearities.tanh,\n",
    "        )\n",
    "        \n",
    "        self.document_max_l = lasagne.layers.Pool2DLayer(\n",
    "            self.document_conv1_l,\n",
    "            name='document_pool1',\n",
    "            pool_size=(self.document_length - self.num_words_to_use_conv, 1),\n",
    "            mode='sum',\n",
    "        )\n",
    "\n",
    "        self.document_dens1 = lasagne.layers.DenseLayer(\n",
    "            self.document_max_l,\n",
    "            num_units=250,\n",
    "            name='doucment_dens1',\n",
    "            nonlinearity=lasagne.nonlinearities.tanh,\n",
    "        )\n",
    "        \n",
    "        self.document_drop1 = lasagne.layers.DropoutLayer(\n",
    "            self.document_dens1,\n",
    "            p=.25,\n",
    "        )\n",
    "        \n",
    "        document_output_length = 200\n",
    "        \n",
    "        self.document_dens2 = lasagne.layers.DenseLayer(\n",
    "            self.document_drop1,\n",
    "            num_units=document_output_length,\n",
    "            name='document_dens2',\n",
    "            nonlinearity=lasagne.nonlinearities.leaky_rectify,\n",
    "        )\n",
    "        \n",
    "        self.document_output = lasagne.layers.get_output(self.document_dens2)\n",
    "        \n",
    "        self.surface_context_l = lasagne.layers.InputLayer(\n",
    "            (None, self.sentence_length),\n",
    "            input_var=self.x_surface_context_input,\n",
    "        )\n",
    "        \n",
    "        self.surface_context_embedding_l = EmbeddingLayer(\n",
    "            self.surface_context_l,\n",
    "            W=self.embedding_W,\n",
    "            add_word_params=False,\n",
    "        )\n",
    "                \n",
    "        self.surface_context_conv1_l = lasagne.layers.Conv2DLayer(\n",
    "            self.surface_context_embedding_l,\n",
    "            num_filters=300,\n",
    "            filter_size=(self.num_words_to_use_conv, self.wordvecs.vector_size),\n",
    "            name='surface_cxt_conv1',\n",
    "            nonlinearity=lasagne.nonlinearities.leaky_rectify,\n",
    "        )\n",
    "        \n",
    "#         self.surface_context_avg1_l = SimpleAverageLayer(\n",
    "#             [self.surface_context_conv1_l, self.surface_context_l],\n",
    "#             #name='surface_context_avg'\n",
    "#         )\n",
    "        \n",
    "        self.surface_context_pool1_l = lasagne.layers.Pool2DLayer(\n",
    "            self.surface_context_conv1_l,\n",
    "            name='surface_cxt_pool1',\n",
    "            pool_size=(self.sentence_length - self.num_words_to_use_conv, 1),\n",
    "            mode='sum',\n",
    "        )\n",
    "                \n",
    "        self.surface_input_l = lasagne.layers.InputLayer(\n",
    "            (None, self.sentence_length), \n",
    "            input_var=self.x_surface_text_input\n",
    "        )\n",
    "        \n",
    "        self.surface_embedding_l = EmbeddingLayer(\n",
    "            self.surface_input_l,\n",
    "            W=self.embedding_W,\n",
    "            add_word_params=False,\n",
    "        )\n",
    "        \n",
    "        self.surface_conv1_l = lasagne.layers.Conv2DLayer(\n",
    "            self.surface_embedding_l,\n",
    "            num_filters=300,\n",
    "            filter_size=(self.num_words_to_use_conv, self.wordvecs.vector_size),\n",
    "            name='surface_conv1',\n",
    "            nonlinearity=lasagne.nonlinearities.leaky_rectify,\n",
    "        )\n",
    "        \n",
    "#         self.surface_avg1_l = SimpleAverageLayer(\n",
    "#             [self.surface_conv1_l, self.surface_input_l],\n",
    "#             #name='surface_avg'\n",
    "#         )\n",
    "        \n",
    "        self.surface_pool1_l = lasagne.layers.Pool2DLayer(\n",
    "            self.surface_conv1_l,\n",
    "            name='surface_pool1',\n",
    "            pool_size=(self.sentence_length - self.num_words_to_use_conv, 1),\n",
    "            mode='sum',\n",
    "        )\n",
    "        \n",
    "        self.surface_merged_l = lasagne.layers.ConcatLayer(\n",
    "            [self.surface_context_pool1_l, self.surface_pool1_l]\n",
    "        )\n",
    "        \n",
    "        self.surface_dens1 = lasagne.layers.DenseLayer(\n",
    "            self.surface_merged_l,\n",
    "            name='surface_dens1',\n",
    "            num_units=250,\n",
    "            nonlinearity=lasagne.nonlinearities.leaky_rectify,\n",
    "        )\n",
    "        \n",
    "#         self.surface_drop1 = lasagne.layers.DropoutLayer(\n",
    "#             self.surface_dens1,\n",
    "#             p=.25,\n",
    "#         )\n",
    "        \n",
    "#         self.surface_dens2 = lasagne.layers.DenseLayer(\n",
    "#             self.surface_drop1,\n",
    "#             name='surface_dens2',\n",
    "#             num_units=300,\n",
    "#             nonlinearity=lasagne.nonlinearities.tanh,\n",
    "#         )\n",
    "        \n",
    "        self.document_aligned_l = InputLayer(\n",
    "            (None, document_output_length),\n",
    "            input_var=self.document_output[self.x_document_id,:]\n",
    "        )\n",
    "        \n",
    "        self.source_l = lasagne.layers.ConcatLayer(\n",
    "            [self.document_aligned_l, self.surface_dens1]\n",
    "        )\n",
    "        \n",
    "        self.source_dens1 = lasagne.layers.DenseLayer(\n",
    "            self.source_l,\n",
    "            num_units=300,\n",
    "            name='source_dens1',\n",
    "            nonlinearity=lasagne.nonlinearities.leaky_rectify,\n",
    "        )\n",
    "        \n",
    "        self.source_drop1 = lasagne.layers.DropoutLayer(\n",
    "            self.source_dens1,\n",
    "            p=.25,\n",
    "        )\n",
    "        \n",
    "        self.source_dens12 = lasagne.layers.DenseLayer(\n",
    "            self.source_drop1,\n",
    "            num_units=250,\n",
    "            name='source_dens12',\n",
    "            nonlinearity=lasagne.nonlinearities.leaky_rectify,\n",
    "        )\n",
    "        \n",
    "        self.source_drop12 = lasagne.layers.DropoutLayer(\n",
    "            self.source_dens12,\n",
    "            p=.25,\n",
    "        )\n",
    "        \n",
    "        compared_vector_size = self.wordvecs.vector_size #+ 2 # extra space for if it matches the surface text\n",
    "        \n",
    "        self.source_dens2 = lasagne.layers.DenseLayer(\n",
    "            self.source_drop12,\n",
    "            num_units=compared_vector_size,  # this is the same size as the learned wikipedia vectors\n",
    "            name='source_dens2',\n",
    "            nonlinearity=lasagne.nonlinearities.linear,\n",
    "        )\n",
    "        \n",
    "        self.source_out = lasagne.layers.get_output(self.source_dens2)\n",
    "        \n",
    "        self.target_input_l = lasagne.layers.InputLayer(\n",
    "            (None,),\n",
    "            input_var=self.x_target_input\n",
    "        )\n",
    "        \n",
    "        self.target_embedding_l = EmbeddingLayer(\n",
    "            lasagne.layers.reshape(self.target_input_l, ([0], 1)),\n",
    "            W=self.embedding_W,\n",
    "            add_word_params=False,\n",
    "        )\n",
    "        \n",
    "        self.target_words_input_l = lasagne.layers.InputLayer(\n",
    "            (None,self.sentence_length),\n",
    "            input_var=self.x_target_words,\n",
    "        )\n",
    "        \n",
    "        self.target_words_embedding_l = EmbeddingLayer(\n",
    "            self.target_words_input_l,\n",
    "            W=self.embedding_W,\n",
    "            add_word_params=False,\n",
    "        )\n",
    "        \n",
    "        self.target_words_conv1_l = lasagne.layers.Conv2DLayer(\n",
    "            self.target_words_embedding_l,\n",
    "            name='target_wrds_conv1',\n",
    "            filter_size=(self.num_words_to_use_conv, self.wordvecs.vector_size),\n",
    "            num_filters=350,\n",
    "            nonlinearity=lasagne.nonlinearities.tanh,\n",
    "        )\n",
    "        \n",
    "        self.target_words_pool1_l = lasagne.layers.Pool2DLayer(\n",
    "            self.target_words_conv1_l,\n",
    "            name='target_wrds_pool1',\n",
    "            pool_size=(self.sentence_length - self.num_words_to_use_conv, 1),\n",
    "            mode='sum',\n",
    "        )\n",
    "        \n",
    "        self.target_merge_l = lasagne.layers.ConcatLayer(\n",
    "            [lasagne.layers.reshape(self.target_words_pool1_l, ([0], [1])),\n",
    "             lasagne.layers.reshape(self.target_embedding_l, ([0], [3]))]\n",
    "        )\n",
    "        \n",
    "        self.target_dens1 = lasagne.layers.DenseLayer(\n",
    "            self.target_merge_l,\n",
    "            name='target_wrds_dens1',\n",
    "            num_units=400,\n",
    "            nonlinearity=lasagne.nonlinearities.tanh,\n",
    "        )\n",
    "        \n",
    "        self.target_drop1 = lasagne.layers.DropoutLayer(\n",
    "            self.target_dens1,\n",
    "            p=.25,\n",
    "        )\n",
    "        \n",
    "        self.target_dens2 = lasagne.layers.DenseLayer(\n",
    "            self.target_drop1,\n",
    "            name='target_wrds_dens1',\n",
    "            num_units=compared_vector_size,\n",
    "            nonlinearity=lasagne.nonlinearities.linear,\n",
    "        )\n",
    "        \n",
    "#         self.target_dens1 = lasagne.layers.DenseLayer(\n",
    "#             self.target_conv1_l,\n",
    "#             name='target_dens1',\n",
    "#             num_units=300,\n",
    "#             nonlinearity=lasagne.nonlinearities.tanh,\n",
    "#         )\n",
    "        \n",
    "#         self.target_drop1 = lasagne.layers.DropoutLayer(\n",
    "#             self.target_dens1,\n",
    "#             p=.25,\n",
    "#         )\n",
    "        \n",
    "#         self.target_dens2 = lasagne.layers.DenseLayer(\n",
    "#             self.target_drop1,\n",
    "#             name='target_dens2',\n",
    "#             num_units=300,\n",
    "#             nonlinearity=lasagne.nonlinearities.tanh,\n",
    "#         )\n",
    "        \n",
    "        \n",
    "    \n",
    "        #self.target_out = lasagne.layers.get_output(self.target_embedding_l)\n",
    "        \n",
    "        matched_surface_reshaped = self.x_matches_surface.reshape((self.x_matches_surface.shape[0], 1)).astype(theano.config.floatX)\n",
    "        \n",
    "#         self.target_out = T.concatenate(\n",
    "#             [self.embedding_W[self.x_target_input], \n",
    "#              matched_surface_reshaped,\n",
    "#             1-matched_surface_reshaped],\n",
    "#              axis=1)\n",
    "        \n",
    "        self.target_out = self.embedding_W[self.x_target_input]\n",
    "        #self.target_out = lasagne.layers.get_output(self.target_dens2)\n",
    "        \n",
    "        # compute the cosine distance between the two layers\n",
    "        self.source_aligned_l = self.source_out[self.x_link_id, :]\n",
    "        \n",
    "        # this uses scan internally, which means that it comes back into python code to run the loop.....fml\n",
    "        self.dotted_vectors =  T.batched_dot(self.target_out, self.source_aligned_l)\n",
    "        # diag also does not support a C version.........\n",
    "        #self.dotted_vectors = T.dot(self.target_out, self.source_aligned_l.T).diagonal()\n",
    "        \n",
    "        def augNorm(v):\n",
    "            return T.maximum(T.basic.pow(T.basic.pow(T.basic.abs_(v), 2).sum(axis=1) + .001, .5), .001)\n",
    "    \n",
    "        self.res_l = self.dotted_vectors / (augNorm(self.target_out) * augNorm(self.source_aligned_l) + .001)\n",
    "#         self.res_l = self.dotted_vectors / ((self.target_out.norm(1, axis=1) + .001) * \n",
    "#                                             (self.source_aligned_l.norm(1, axis=1) + .001))\n",
    "        \n",
    "        self.res_cap = T.clip((T.tanh(self.res_l) + 1) / 2, .001, .999)\n",
    "    \n",
    "        self.all_params = (\n",
    "            #lasagne.layers.get_all_params(self.target_dens2) +\n",
    "            # TODO: add params for the target stuff, \n",
    "            lasagne.layers.get_all_params(self.source_dens2) +\n",
    "            lasagne.layers.get_all_params(self.document_dens2)\n",
    "        )\n",
    "        \n",
    "        # weight the positive samples more since there are fewer of them,\n",
    "        # freaking hack\n",
    "        #self.loss_vec = -(10 * self.y_score * T.log(self.res_cap) + (1.0 - self.y_score) * T.log(1.0 - self.res_cap))\n",
    "        \n",
    "        #self.loss_vec = T.nnet.binary_crossentropy(self.res_cap, self.y_score)\n",
    "        \n",
    "        #self.loss_vec = T.exp(T.max(self.res_cap - self.res_cap[self.y_answer] + .1, 0)) - 1  # TODO: maybe have some squared term here or something?\n",
    "        #self.loss_vec = - T.log((T.clip(self.res_cap[self.y_answer] - self.res_cap, -1.0, 0.4) + 1.0) / 1.5)\n",
    "        \n",
    "        self.loss_vec = - T.log((T.clip(self.res_l[self.y_answer] - self.res_l, -40.0, 10.0) + 40.0) / 51.0)\n",
    "        \n",
    "        self.updates = lasagne.updates.adadelta(self.loss_vec.mean(), self.all_params)\n",
    "        \n",
    "        self.func_inputs = [\n",
    "            self.x_document_input,\n",
    "            self.x_surface_text_input, self.x_surface_context_input, self.x_document_id,\n",
    "             self.x_target_input, self.x_matches_surface, self.x_link_id, self.y_answer]  # self.x_target_words,\n",
    "        \n",
    "        self.train_func = theano.function(\n",
    "            self.func_inputs,\n",
    "            [self.res_cap, self.loss_vec.sum(), self.loss_vec],\n",
    "            updates=self.updates,\n",
    "            on_unused_input='ignore',\n",
    "        )\n",
    "        \n",
    "        self.test_func = theano.function(\n",
    "            self.func_inputs,\n",
    "            [self.res_cap, self.loss_vec.sum(), self.loss_vec],\n",
    "            on_unused_input='ignore',\n",
    "        )\n",
    "        \n",
    "    def reset_accums(self):\n",
    "        self.current_documents = []\n",
    "        self.current_surface_context = []\n",
    "        self.current_surface_link = []\n",
    "        self.current_link_id = []\n",
    "        self.current_target_input = []\n",
    "        self.current_target_words = []\n",
    "        self.current_target_matches_surface = []\n",
    "        self.current_target_id = []\n",
    "        self.current_target_goal = []\n",
    "        self.learning_targets = []\n",
    "        \n",
    "    def compute_batch(self, isTraining=True):\n",
    "        if isTraining:\n",
    "            func = self.train_func\n",
    "        else:\n",
    "            func = self.test_func\n",
    "        self.reset_accums()\n",
    "        self.total_links = 0\n",
    "        self.total_loss = 0.0\n",
    "        \n",
    "        get_words = re.compile('[^a-zA-Z0-9 ]')\n",
    "        get_link = re.compile('.*?\\[(.*?)\\].*?')\n",
    "        \n",
    "        for doc, queries in self.queries.iteritems():\n",
    "            # skip the testing documents while training and vice versa\n",
    "            if queries.values()[0]['training'] is not isTraining:\n",
    "                continue\n",
    "            docid = len(self.current_documents)\n",
    "            self.current_documents.append(self.wordvecs.tokenize(doc, length=self.document_length))\n",
    "            for surtxt, targets in queries.iteritems():\n",
    "                self.current_link_id.append(docid)\n",
    "                surid = len(self.current_surface_link)\n",
    "                self.current_surface_context.append(self.wordvecs.tokenize(get_words.sub(' ' , surtxt)))\n",
    "                surlink = get_link.match(surtxt).group(1)\n",
    "                self.current_surface_link.append(self.wordvecs.tokenize(surlink))\n",
    "                surmatch = surlink.lower()\n",
    "                #target_page_input = []\n",
    "                target_words_input = []\n",
    "                target_matches_surface = []\n",
    "                target_inputs = []\n",
    "                target_learings = []\n",
    "                target_gold_loc = None\n",
    "                for target in targets['vals'].keys():\n",
    "                    # skip the items that we don't know the gold for\n",
    "                    if not targets['gold'] and isTraining:\n",
    "                        continue\n",
    "                    isGold = target == targets['gold']\n",
    "                    #cnt = self.page_content.get(WikiRegexes.convertToTitle(target))\n",
    "                    cnt = self.wordvecs.get_location(WikiRegexes.convertToTitle(target))\n",
    "                    if cnt is None:\n",
    "                        # were not able to find this wikipedia document\n",
    "                        # so just ignore tihs result since trying to train on it will cause\n",
    "                        # issues\n",
    "                        continue\n",
    "                    if isGold:\n",
    "                        target_gold_loc = len(target_inputs)\n",
    "                    #target_page_input.append(cnt)\n",
    "                    target_words_input.append(self.wordvecs.tokenize(get_words.sub(' ', target)))\n",
    "                    target_inputs.append(cnt)  # page_content already tokenized\n",
    "                    target_matches_surface.append(int(surmatch == target.lower()))\n",
    "                    target_learings.append((targets, target))\n",
    "                if target_gold_loc is not None:  # if we can't get the gold item\n",
    "                    # contain the index of the gold item for these items, so it can be less then it\n",
    "                    self.current_target_goal += [(len(self.current_target_goal) + target_gold_loc)] * len(target_inputs)\n",
    "                    self.current_target_input += target_inputs\n",
    "                    self.current_target_id += [surid] * len(target_inputs)\n",
    "                    self.current_target_words += target_words_input   # TODO: add\n",
    "                    self.current_target_matches_surface += target_matches_surface\n",
    "                \n",
    "                #self.current_target_goal.append(isGold)\n",
    "                self.learning_targets += target_learings\n",
    "            if len(self.current_target_id) > self.batch_size:\n",
    "                return\n",
    "                self.run_batch(func)\n",
    "                if self.total_links > self.num_training_items:\n",
    "                    return self.total_loss / self.total_links\n",
    "        \n",
    "        if len(self.current_target_id) > 0:\n",
    "            self.run_batch(func)\n",
    "            \n",
    "        return self.total_loss / self.total_links\n",
    "        \n",
    "    def run_batch(self, func):\n",
    "        res_vec, loss_sum, loss_vec = func(\n",
    "            self.current_documents,\n",
    "            self.current_surface_link, self.current_surface_context, self.current_link_id,\n",
    "            self.current_target_input, self.current_target_matches_surface, self.current_target_id, self.current_target_goal  # self.current_target_words,\n",
    "        )\n",
    "        self.check_params()\n",
    "        self.total_links += len(self.current_target_id)\n",
    "        self.total_loss += loss_sum\n",
    "        for i in xrange(len(res_vec)):\n",
    "            # save the results from this pass\n",
    "            l = self.learning_targets[i]\n",
    "            l[0]['vals'][ l[1] ] = res_vec[i]\n",
    "        self.reset_accums()\n",
    "        \n",
    "    def check_params(self):\n",
    "        if any([np.isnan(v.get_value(borrow=True)).any() for v in self.all_params]):\n",
    "            raise RuntimeError('nan in some of the parameters')\n",
    "        \n",
    "\n",
    "        \n",
    "queries_exp = EntityVectorLinkExp() "
   ]
  },
  {
   "cell_type": "code",
   "execution_count": 57,
   "metadata": {
    "collapsed": true
   },
   "outputs": [],
   "source": [
    "queries_exp.check_params()"
   ]
  },
  {
   "cell_type": "code",
   "execution_count": 58,
   "metadata": {
    "collapsed": false
   },
   "outputs": [
    {
     "name": "stdout",
     "output_type": "stream",
     "text": [
      "None\n",
      "CPU times: user 51 ms, sys: 7.05 ms, total: 58.1 ms\n",
      "Wall time: 43.3 ms\n"
     ]
    }
   ],
   "source": [
    "%time print queries_exp.compute_batch()"
   ]
  },
  {
   "cell_type": "code",
   "execution_count": 25,
   "metadata": {
    "collapsed": false
   },
   "outputs": [
    {
     "name": "stdout",
     "output_type": "stream",
     "text": [
      "(0, 0.24303590798679786)\n",
      "(1, 0.24288906628572488)\n",
      "(2, 0.24267305301714548)\n",
      "(3, 0.24254185640359227)\n"
     ]
    },
    {
     "ename": "KeyboardInterrupt",
     "evalue": "",
     "output_type": "error",
     "traceback": [
      "\u001b[1;31m---------------------------------------------------------------------------\u001b[0m",
      "\u001b[1;31mKeyboardInterrupt\u001b[0m                         Traceback (most recent call last)",
      "\u001b[1;32m<ipython-input-25-2ed2379506f5>\u001b[0m in \u001b[0;36m<module>\u001b[1;34m()\u001b[0m\n\u001b[0;32m      2\u001b[0m \u001b[1;33m\u001b[0m\u001b[0m\n\u001b[0;32m      3\u001b[0m \u001b[1;32mfor\u001b[0m \u001b[0mi\u001b[0m \u001b[1;32min\u001b[0m \u001b[0mxrange\u001b[0m\u001b[1;33m(\u001b[0m\u001b[1;36m20\u001b[0m\u001b[1;33m)\u001b[0m\u001b[1;33m:\u001b[0m\u001b[1;33m\u001b[0m\u001b[0m\n\u001b[1;32m----> 4\u001b[1;33m     \u001b[0mres\u001b[0m \u001b[1;33m=\u001b[0m \u001b[1;33m(\u001b[0m\u001b[0mi\u001b[0m\u001b[1;33m,\u001b[0m \u001b[0mqueries_exp\u001b[0m\u001b[1;33m.\u001b[0m\u001b[0mcompute_batch\u001b[0m\u001b[1;33m(\u001b[0m\u001b[1;33m)\u001b[0m\u001b[1;33m)\u001b[0m\u001b[1;33m\u001b[0m\u001b[0m\n\u001b[0m\u001b[0;32m      5\u001b[0m     \u001b[1;32mprint\u001b[0m \u001b[0mres\u001b[0m\u001b[1;33m\u001b[0m\u001b[0m\n\u001b[0;32m      6\u001b[0m     \u001b[0mexp_results\u001b[0m\u001b[1;33m.\u001b[0m\u001b[0mappend\u001b[0m\u001b[1;33m(\u001b[0m\u001b[0mres\u001b[0m\u001b[1;33m)\u001b[0m\u001b[1;33m\u001b[0m\u001b[0m\n",
      "\u001b[1;32m<ipython-input-23-efdedc0e7a0a>\u001b[0m in \u001b[0;36mcompute_batch\u001b[1;34m(self, isTraining)\u001b[0m\n\u001b[0;32m    469\u001b[0m             \u001b[1;32mif\u001b[0m \u001b[0mlen\u001b[0m\u001b[1;33m(\u001b[0m\u001b[0mself\u001b[0m\u001b[1;33m.\u001b[0m\u001b[0mcurrent_target_id\u001b[0m\u001b[1;33m)\u001b[0m \u001b[1;33m>\u001b[0m \u001b[0mself\u001b[0m\u001b[1;33m.\u001b[0m\u001b[0mbatch_size\u001b[0m\u001b[1;33m:\u001b[0m\u001b[1;33m\u001b[0m\u001b[0m\n\u001b[0;32m    470\u001b[0m                 \u001b[1;31m#return\u001b[0m\u001b[1;33m\u001b[0m\u001b[1;33m\u001b[0m\u001b[0m\n\u001b[1;32m--> 471\u001b[1;33m                 \u001b[0mself\u001b[0m\u001b[1;33m.\u001b[0m\u001b[0mrun_batch\u001b[0m\u001b[1;33m(\u001b[0m\u001b[0mfunc\u001b[0m\u001b[1;33m)\u001b[0m\u001b[1;33m\u001b[0m\u001b[0m\n\u001b[0m\u001b[0;32m    472\u001b[0m                 \u001b[1;32mif\u001b[0m \u001b[0mself\u001b[0m\u001b[1;33m.\u001b[0m\u001b[0mtotal_links\u001b[0m \u001b[1;33m>\u001b[0m \u001b[0mself\u001b[0m\u001b[1;33m.\u001b[0m\u001b[0mnum_training_items\u001b[0m\u001b[1;33m:\u001b[0m\u001b[1;33m\u001b[0m\u001b[0m\n\u001b[0;32m    473\u001b[0m                     \u001b[1;32mreturn\u001b[0m \u001b[0mself\u001b[0m\u001b[1;33m.\u001b[0m\u001b[0mtotal_loss\u001b[0m \u001b[1;33m/\u001b[0m \u001b[0mself\u001b[0m\u001b[1;33m.\u001b[0m\u001b[0mtotal_links\u001b[0m\u001b[1;33m\u001b[0m\u001b[0m\n",
      "\u001b[1;32m<ipython-input-23-efdedc0e7a0a>\u001b[0m in \u001b[0;36mrun_batch\u001b[1;34m(self, func)\u001b[0m\n\u001b[0;32m    482\u001b[0m             \u001b[0mself\u001b[0m\u001b[1;33m.\u001b[0m\u001b[0mcurrent_documents\u001b[0m\u001b[1;33m,\u001b[0m\u001b[1;33m\u001b[0m\u001b[0m\n\u001b[0;32m    483\u001b[0m             \u001b[0mself\u001b[0m\u001b[1;33m.\u001b[0m\u001b[0mcurrent_surface_link\u001b[0m\u001b[1;33m,\u001b[0m \u001b[0mself\u001b[0m\u001b[1;33m.\u001b[0m\u001b[0mcurrent_surface_context\u001b[0m\u001b[1;33m,\u001b[0m \u001b[0mself\u001b[0m\u001b[1;33m.\u001b[0m\u001b[0mcurrent_link_id\u001b[0m\u001b[1;33m,\u001b[0m\u001b[1;33m\u001b[0m\u001b[0m\n\u001b[1;32m--> 484\u001b[1;33m             \u001b[0mself\u001b[0m\u001b[1;33m.\u001b[0m\u001b[0mcurrent_target_input\u001b[0m\u001b[1;33m,\u001b[0m \u001b[0mself\u001b[0m\u001b[1;33m.\u001b[0m\u001b[0mcurrent_target_matches_surface\u001b[0m\u001b[1;33m,\u001b[0m \u001b[0mself\u001b[0m\u001b[1;33m.\u001b[0m\u001b[0mcurrent_target_id\u001b[0m\u001b[1;33m,\u001b[0m \u001b[0mself\u001b[0m\u001b[1;33m.\u001b[0m\u001b[0mcurrent_target_goal\u001b[0m  \u001b[1;31m# self.current_target_words,\u001b[0m\u001b[1;33m\u001b[0m\u001b[0m\n\u001b[0m\u001b[0;32m    485\u001b[0m         )\n\u001b[0;32m    486\u001b[0m         \u001b[0mself\u001b[0m\u001b[1;33m.\u001b[0m\u001b[0mcheck_params\u001b[0m\u001b[1;33m(\u001b[0m\u001b[1;33m)\u001b[0m\u001b[1;33m\u001b[0m\u001b[0m\n",
      "\u001b[1;32m/home/matthew/.virtualenvs/nlp-convnet/lib/python2.7/site-packages/theano/compile/function_module.pyc\u001b[0m in \u001b[0;36m__call__\u001b[1;34m(self, *args, **kwargs)\u001b[0m\n\u001b[0;32m    605\u001b[0m         \u001b[0mt0_fn\u001b[0m \u001b[1;33m=\u001b[0m \u001b[0mtime\u001b[0m\u001b[1;33m.\u001b[0m\u001b[0mtime\u001b[0m\u001b[1;33m(\u001b[0m\u001b[1;33m)\u001b[0m\u001b[1;33m\u001b[0m\u001b[0m\n\u001b[0;32m    606\u001b[0m         \u001b[1;32mtry\u001b[0m\u001b[1;33m:\u001b[0m\u001b[1;33m\u001b[0m\u001b[0m\n\u001b[1;32m--> 607\u001b[1;33m             \u001b[0moutputs\u001b[0m \u001b[1;33m=\u001b[0m \u001b[0mself\u001b[0m\u001b[1;33m.\u001b[0m\u001b[0mfn\u001b[0m\u001b[1;33m(\u001b[0m\u001b[1;33m)\u001b[0m\u001b[1;33m\u001b[0m\u001b[0m\n\u001b[0m\u001b[0;32m    608\u001b[0m         \u001b[1;32mexcept\u001b[0m \u001b[0mException\u001b[0m\u001b[1;33m:\u001b[0m\u001b[1;33m\u001b[0m\u001b[0m\n\u001b[0;32m    609\u001b[0m             \u001b[1;32mif\u001b[0m \u001b[0mhasattr\u001b[0m\u001b[1;33m(\u001b[0m\u001b[0mself\u001b[0m\u001b[1;33m.\u001b[0m\u001b[0mfn\u001b[0m\u001b[1;33m,\u001b[0m \u001b[1;34m'position_of_error'\u001b[0m\u001b[1;33m)\u001b[0m\u001b[1;33m:\u001b[0m\u001b[1;33m\u001b[0m\u001b[0m\n",
      "\u001b[1;32m/home/matthew/.virtualenvs/nlp-convnet/lib/python2.7/site-packages/theano/gof/op.pyc\u001b[0m in \u001b[0;36mrval\u001b[1;34m(p, i, o, n)\u001b[0m\n\u001b[0;32m    758\u001b[0m         \u001b[1;32mif\u001b[0m \u001b[0mctx\u001b[0m \u001b[1;32mis\u001b[0m \u001b[0mgraph\u001b[0m\u001b[1;33m.\u001b[0m\u001b[0mNoContext\u001b[0m\u001b[1;33m:\u001b[0m\u001b[1;33m\u001b[0m\u001b[0m\n\u001b[0;32m    759\u001b[0m             \u001b[1;31m# default arguments are stored in the closure of `rval`\u001b[0m\u001b[1;33m\u001b[0m\u001b[1;33m\u001b[0m\u001b[0m\n\u001b[1;32m--> 760\u001b[1;33m             \u001b[1;32mdef\u001b[0m \u001b[0mrval\u001b[0m\u001b[1;33m(\u001b[0m\u001b[0mp\u001b[0m\u001b[1;33m=\u001b[0m\u001b[0mp\u001b[0m\u001b[1;33m,\u001b[0m \u001b[0mi\u001b[0m\u001b[1;33m=\u001b[0m\u001b[0mnode_input_storage\u001b[0m\u001b[1;33m,\u001b[0m \u001b[0mo\u001b[0m\u001b[1;33m=\u001b[0m\u001b[0mnode_output_storage\u001b[0m\u001b[1;33m,\u001b[0m \u001b[0mn\u001b[0m\u001b[1;33m=\u001b[0m\u001b[0mnode\u001b[0m\u001b[1;33m)\u001b[0m\u001b[1;33m:\u001b[0m\u001b[1;33m\u001b[0m\u001b[0m\n\u001b[0m\u001b[0;32m    761\u001b[0m                 \u001b[0mr\u001b[0m \u001b[1;33m=\u001b[0m \u001b[0mp\u001b[0m\u001b[1;33m(\u001b[0m\u001b[0mn\u001b[0m\u001b[1;33m,\u001b[0m \u001b[1;33m[\u001b[0m\u001b[0mx\u001b[0m\u001b[1;33m[\u001b[0m\u001b[1;36m0\u001b[0m\u001b[1;33m]\u001b[0m \u001b[1;32mfor\u001b[0m \u001b[0mx\u001b[0m \u001b[1;32min\u001b[0m \u001b[0mi\u001b[0m\u001b[1;33m]\u001b[0m\u001b[1;33m,\u001b[0m \u001b[0mo\u001b[0m\u001b[1;33m)\u001b[0m\u001b[1;33m\u001b[0m\u001b[0m\n\u001b[0;32m    762\u001b[0m                 \u001b[1;32mfor\u001b[0m \u001b[0mo\u001b[0m \u001b[1;32min\u001b[0m \u001b[0mnode\u001b[0m\u001b[1;33m.\u001b[0m\u001b[0moutputs\u001b[0m\u001b[1;33m:\u001b[0m\u001b[1;33m\u001b[0m\u001b[0m\n",
      "\u001b[1;31mKeyboardInterrupt\u001b[0m: "
     ]
    }
   ],
   "source": [
    "exp_results = []\n",
    "\n",
    "for i in xrange(20):\n",
    "    res = (i, queries_exp.compute_batch())\n",
    "    print res\n",
    "    exp_results.append(res)"
   ]
  },
  {
   "cell_type": "code",
   "execution_count": null,
   "metadata": {
    "collapsed": true
   },
   "outputs": [],
   "source": [
    "for i in xrange(20):\n",
    "    res = (i, queries_exp.compute_batch())\n",
    "    print res\n",
    "    exp_results.append(res)"
   ]
  },
  {
   "cell_type": "code",
   "execution_count": 40,
   "metadata": {
    "collapsed": false
   },
   "outputs": [
    {
     "data": {
      "text/plain": [
       "(256091, 256091)"
      ]
     },
     "execution_count": 40,
     "metadata": {},
     "output_type": "execute_result"
    }
   ],
   "source": [
    "len(queries_exp.current_target_goal), len(queries_exp.current_target_inputa)"
   ]
  },
  {
   "cell_type": "code",
   "execution_count": null,
   "metadata": {
    "collapsed": false
   },
   "outputs": [],
   "source": [
    "queries_exp.compute_batch(False)"
   ]
  },
  {
   "cell_type": "code",
   "execution_count": 73,
   "metadata": {
    "collapsed": false
   },
   "outputs": [
    {
     "data": {
      "text/plain": [
       "[(0, 1.2287285061402835e-05), (1, 1.1753841393782684e-05)]"
      ]
     },
     "execution_count": 73,
     "metadata": {},
     "output_type": "execute_result"
    }
   ],
   "source": [
    "exp_results"
   ]
  },
  {
   "cell_type": "code",
   "execution_count": 129,
   "metadata": {
    "collapsed": false
   },
   "outputs": [],
   "source": [
    "all_measured = 0\n",
    "all_correct = 0\n",
    "for qu in queries.values():\n",
    "    for en in qu.values():\n",
    "        for e in en:\n",
    "            if en['gold']:\n",
    "                if all_measured > 20000:\n",
    "                    break\n",
    "                all_measured += 1\n",
    "                m = max(en['vals'].values())\n",
    "                if en['vals'][en['gold']] == m:\n",
    "                    all_correct += 1"
   ]
  },
  {
   "cell_type": "code",
   "execution_count": 130,
   "metadata": {
    "collapsed": false
   },
   "outputs": [
    {
     "data": {
      "text/plain": [
       "20001"
      ]
     },
     "execution_count": 130,
     "metadata": {},
     "output_type": "execute_result"
    }
   ],
   "source": [
    "all_measured"
   ]
  },
  {
   "cell_type": "code",
   "execution_count": 131,
   "metadata": {
    "collapsed": false
   },
   "outputs": [
    {
     "data": {
      "text/plain": [
       "0.14069296535173242"
      ]
     },
     "execution_count": 131,
     "metadata": {},
     "output_type": "execute_result"
    }
   ],
   "source": [
    "float(all_correct) / all_measured"
   ]
  },
  {
   "cell_type": "code",
   "execution_count": 133,
   "metadata": {
    "collapsed": true
   },
   "outputs": [
    {
     "data": {
      "text/plain": [
       "{u\"'' Saint Jerome in his Study '' (1514) and '' [Melencolia I] '' (1514) , which has been the subject of extensive\": {u'gold': u'Melencolia I',\n",
       "  u'training': True,\n",
       "  u'vals': {u'-NIL-': 0.55039364,\n",
       "   u'Belarusian Premier League': 0.59051669,\n",
       "   u'Division I (NCAA)': 0.59985805,\n",
       "   u'I': 0.52737033,\n",
       "   u'I (band)': 0,\n",
       "   u'I (film)': 0.53069359,\n",
       "   u'I Corps (German Empire)': 0,\n",
       "   u'Independent (politician)': 0.59051669,\n",
       "   u'Independent politician': 0.57096189,\n",
       "   u'Instrumental case': 0.52732587,\n",
       "   u'Iodine': 0.45036077,\n",
       "   u'Isospin': 0.50938243,\n",
       "   u'Italy': 0.51380736,\n",
       "   u'Meistriliiga': 0.50938243,\n",
       "   u'Melencolia I': 0.506374,\n",
       "   u'Nemzeti Bajnoks\\xe1g I': 0.50964814,\n",
       "   u'Russian Football Premier League': 0.49646947,\n",
       "   u'Russian Premier League': 0.4457525,\n",
       "   u'Super Bowl I': 0.59305191,\n",
       "   u'XXNILXX': 0}},\n",
       " u\"'' ndash ; April 6 , 1528 -RRB- was a [German] painter , printmaker and theorist from Nuremberg , Germany .\": {u'gold': u'Germans',\n",
       "  u'training': True,\n",
       "  u'vals': {u'-NIL-': 0.47823682,\n",
       "   u'Cinema of Germany': 0.50314933,\n",
       "   u'German': 0.48205376,\n",
       "   u'German (language)': 0.55360723,\n",
       "   u'German American': 0.38107076,\n",
       "   u'German Empire': 0.53165466,\n",
       "   u'German Language': 0.45944574,\n",
       "   u'German language': 0.55799001,\n",
       "   u'German literature': 0.50896722,\n",
       "   u'German people': 0.5580231,\n",
       "   u'German poetry': 0.52970988,\n",
       "   u'Germans': 0.45944574,\n",
       "   u'Germany': 0.52970988,\n",
       "   u'GfK Entertainment': 0.52275914,\n",
       "   u'Kriegsmarine': 0.57061476,\n",
       "   u'Nazi Germany': 0.54779488,\n",
       "   u'Wehrmacht': 0.45944574,\n",
       "   u'XXNILXX': 0,\n",
       "   u'german people': 0.48976922,\n",
       "   u'germans': 0.53165466}},\n",
       " u', D rer had learned how to make prints in [drypoint] and design woodcut s in the German style , based': {u'gold': u'drypoint',\n",
       "  u'training': True,\n",
       "  u'vals': {u'-NIL-': 0.46273044,\n",
       "   u'Drypoint': 0.52970719,\n",
       "   u'XXNILXX': 0,\n",
       "   u'drypoint': 0.52261168}},\n",
       " u', based on the works of Martin Schongauer and the [Housebook Master] .': {u'gold': u'Master of the Housebook',\n",
       "  u'training': True,\n",
       "  u'vals': {u'-NIL-': 0.50023204,\n",
       "   u'Chess title': 0.53362453,\n",
       "   u'Housebook Master': 0.52789932,\n",
       "   u'Master': 0.59416199,\n",
       "   u'Master (American band)': 0.59053046,\n",
       "   u'Master (Buffy the Vampire Slayer)': 0.43658251,\n",
       "   u'Master (Doctor Who)': 0.57202578,\n",
       "   u'Master (Russian band)': 0,\n",
       "   u'Master (audio drama)': 0,\n",
       "   u'Master (college)': 0,\n",
       "   u'Master (film)': 0.57377207,\n",
       "   u'Master (form of address)': 0,\n",
       "   u'Master (judiciary)': 0,\n",
       "   u'Master (naval)': 0.59735489,\n",
       "   u'Master craftsman': 0.59735489,\n",
       "   u'Master mariner': 0.57574284,\n",
       "   u'Master of the Housebook': 0.54818738,\n",
       "   u\"Master's degree\": 0,\n",
       "   u'Sea captain': 0.57408965,\n",
       "   u'XXNILXX': 0}},\n",
       " u', especially Venice , a relatively short distance across the [Alps] .': {u'gold': u'Alps',\n",
       "  u'training': True,\n",
       "  u'vals': {u'-NIL-': 0.48323366,\n",
       "   u'Aleph': 0.57529867,\n",
       "   u'Alp': 0.47172469,\n",
       "   u'Alp (folklore)': 0.48558703,\n",
       "   u'Alp (name)': 0,\n",
       "   u'Alp, Girona': 0,\n",
       "   u'Alp, Spain': 0,\n",
       "   u'Alpine orogeny': 0.47786146,\n",
       "   u'Alps': 0.56892258,\n",
       "   u'Alps (film)': 0,\n",
       "   u'Alps Electric': 0.45308149,\n",
       "   u'Alps Electric Co.': 0.50827754,\n",
       "   u'Alps, Georgia': 0,\n",
       "   u'Al\\u0131p': 0.4946346,\n",
       "   u'Australian Alps': 0.50662053,\n",
       "   u'French Alps': 0.43188068,\n",
       "   u'Geology of the Alps': 0.48558703,\n",
       "   u'Soner Alp': 0,\n",
       "   u'Swiss Alps': 0.5134365,\n",
       "   u'XXNILXX': 0}},\n",
       " u\"-LRB- -RRB- -LRB- May 21 , 1471 '' ndash ; [April 6] , 1528 -RRB- was a German painter , printmaker and\": {u'gold': u'April 6',\n",
       "  u'training': True,\n",
       "  u'vals': {u'-NIL-': 0.531753,\n",
       "   u'/April': 0.44854504,\n",
       "   u'April': 0.46255225,\n",
       "   u'April (Sun Kil Moon album)': 0,\n",
       "   u'April 1966': 0,\n",
       "   u'April 1971': 0,\n",
       "   u'April 1972': 0,\n",
       "   u'April 1973': 0,\n",
       "   u'April 1975': 0,\n",
       "   u'April 2005': 0.52570295,\n",
       "   u'April 2008': 0.41669047,\n",
       "   u'April 6': 0.45186055,\n",
       "   u'April 6 (Eastern Orthodox liturgics)': 0,\n",
       "   u'April 6 Youth Movement': 0.44539267,\n",
       "   u'April Branning': 0.46255225,\n",
       "   u'April Ludgate': 0.60138327,\n",
       "   u'CMLL Super Viernes (April 2014)': 0,\n",
       "   u'Deaths in April 2012': 0,\n",
       "   u'Deaths in April 2013': 0,\n",
       "   u'XXNILXX': 0}},\n",
       " u'-RRB- was a German painter , printmaker and theorist from [Nuremberg] , Germany .': {u'gold': u'Nuremberg',\n",
       "  u'training': True,\n",
       "  u'vals': {u'-NIL-': 0.43920171,\n",
       "   u'1. FC Nuremberg': 0.55869752,\n",
       "   u'1. FC N\\xfcrnberg': 0.48729312,\n",
       "   u'2013 N\\xfcrnberger Versicherungscup': 0,\n",
       "   u'2014 N\\xfcrnberger Versicherungscup': 0,\n",
       "   u'Burgraviate of Nuremberg': 0.56428635,\n",
       "   u'Frankenstadion': 0.46859765,\n",
       "   u'Free Imperial City of Nuremberg': 0.48729312,\n",
       "   u'Nuremberg': 0.46859765,\n",
       "   u'Nuremberg (2000 film)': 0,\n",
       "   u'Nuremberg (film)': 0,\n",
       "   u'Nuremberg Airport': 0.45981437,\n",
       "   u'Nuremberg Central Station': 0.52570093,\n",
       "   u'Nuremberg Hauptbahnhof': 0.55869752,\n",
       "   u'Nuremberg Trials': 0.48597515,\n",
       "   u'Nuremberg U-Bahn': 0.52570093,\n",
       "   u'Nuremberg trials': 0.48597515,\n",
       "   u'Nuremberg, Pennsylvania': 0,\n",
       "   u'N\\xfcrnberg Hauptbahnhof': 0.40965679,\n",
       "   u'XXNILXX': 0}},\n",
       " u'1455 had moved to Nuremberg from Ajt s , near [Gyula] in Hungary .': {u'gold': u'Gyula, Hungary',\n",
       "  u'training': True,\n",
       "  u'vals': {u'-NIL-': 0.48785052,\n",
       "   u'Diocese of Gyula': 0,\n",
       "   u'Gyula': 0.46083316,\n",
       "   u'Gyula (name)': 0,\n",
       "   u'Gyula (telep\\xfcl\\xe9s)': 0,\n",
       "   u'Gyula (title)': 0.44666645,\n",
       "   u'Gyula (town)': 0.58822227,\n",
       "   u'Gyula (v\\xe1ros)': 0,\n",
       "   u'Gyula Andr\\xe1ssy': 0.57203108,\n",
       "   u'Gyula Andr\\xe1ssy the Younger': 0.52753693,\n",
       "   u'Gyula Erkel': 0,\n",
       "   u'Gyula II': 0.48839644,\n",
       "   u'Gyula III': 0.59235704,\n",
       "   u'Gyula Kert\\xe9sz': 0,\n",
       "   u'Gyula and Hungary': 0,\n",
       "   u'Gyula(town)': 0,\n",
       "   u'Gyula, Hungary': 0.44344926,\n",
       "   u'Julius I K\\xe1n': 0.56981879,\n",
       "   u'Siege of Gyula': 0,\n",
       "   u'XXNILXX': 0}},\n",
       " u'A self-portrait , a [drawing] in silverpoint , is dated 1484 -LRB- Albertina , Vienna': {u'gold': u'Drawing',\n",
       "  u'training': True,\n",
       "  u'vals': {u'-NIL-': 0.42961472,\n",
       "   u'AP Studio Art': 0.57028687,\n",
       "   u'Draw (chess)': 0.48201996,\n",
       "   u'Draw (poker)': 0.54921567,\n",
       "   u'Drawing': 0.59416199,\n",
       "   u'Drawing (manufacturing)': 0.47692603,\n",
       "   u'Drawing Album': 0,\n",
       "   u'Glossary of drawing terms': 0,\n",
       "   u'Graph drawing': 0.49394673,\n",
       "   u'Index of drawing-related articles': 0,\n",
       "   u\"It's a Wonderful World (album)\": 0,\n",
       "   u'Outline of drawing': 0.44972104,\n",
       "   u'Outline of drawing and drawings': 0.55601466,\n",
       "   u'Patent drawing': 0.51767111,\n",
       "   u'Tie (draw)': 0.47692603,\n",
       "   u'XXNILXX': 0,\n",
       "   u'draw (chess)': 0.54298681,\n",
       "   u'drawing': 0.48201996,\n",
       "   u'drawing (manufacturing)': 0.54015869,\n",
       "   u'graph drawing': 0.39136156}},\n",
       " u'A self-portrait , a drawing in [silverpoint] , is dated 1484 -LRB- Albertina , Vienna -RRB- when': {u'gold': u'silverpoint',\n",
       "  u'training': True,\n",
       "  u'vals': {u'-NIL-': 0.49497458,\n",
       "   u'Silverpoint': 0.46624771,\n",
       "   u'XXNILXX': 0,\n",
       "   u'silverpoint': 0.44754973}},\n",
       " u\"Albrecht D rer -LRB- -RRB- -LRB- May 21 , [1471] '' ndash ; April 6 , 1528 -RRB- was a\": {u'gold': u'1471',\n",
       "  u'training': True,\n",
       "  u'vals': {u'-NIL-': 0.60046035,\n",
       "   u'1000 (number)': 0.51593864,\n",
       "   u'1470s in England': 0.51360834,\n",
       "   u'1470s in art': 0.50039119,\n",
       "   u'1470s in poetry': 0.5060637,\n",
       "   u'1471': 0.47524452,\n",
       "   u'1471 (number)': 0.51593864,\n",
       "   u'1471 in England': 0.59886152,\n",
       "   u'1471 in Ireland': 0,\n",
       "   u'1471 in Portugal': 0,\n",
       "   u'1471 in Scotland': 0,\n",
       "   u'1471 in art': 0.50039119,\n",
       "   u'1471 in music': 0,\n",
       "   u'1471 in poetry': 0.52090281,\n",
       "   u'IEEE 1471': 0.52917325,\n",
       "   u'Last Call Return': 0.43529987,\n",
       "   u'Last-call return': 0.54468936,\n",
       "   u'Minuscule 1471': 0,\n",
       "   u'United Nations Security Council Resolution 1471': 0,\n",
       "   u'XXNILXX': 0}},\n",
       " u\"Albrecht D rer -LRB- -RRB- -LRB- [May 21] , 1471 '' ndash ; April 6 , 1528 -RRB-\": {u'gold': u'May 21',\n",
       "  u'training': True,\n",
       "  u'vals': {u'-NIL-': 0.5788483,\n",
       "   u'/May': 0.5788483,\n",
       "   u'Ben May': 0.52455854,\n",
       "   u'Brian May': 0.5709222,\n",
       "   u'CMLL Super Viernes (May 2014)': 0,\n",
       "   u'Darrell May': 0.51485729,\n",
       "   u'David May (footballer)': 0.41537327,\n",
       "   u'Jonny May': 0.5112648,\n",
       "   u'List of Pok\\xe9mon anime characters': 0.50888103,\n",
       "   u'May': 0.54667222,\n",
       "   u'May (Pok\\xe9mon)': 0.53336263,\n",
       "   u'May (film)': 0.48399222,\n",
       "   u'May 1911': 0,\n",
       "   u'May 1943': 0,\n",
       "   u'May 21': 0.52309722,\n",
       "   u'May 21 (Eastern Orthodox liturgics)': 0,\n",
       "   u'May, Texas': 0,\n",
       "   u'Navy Day': 0.43381393,\n",
       "   u'Stevie May': 0.52359575,\n",
       "   u'XXNILXX': 0}},\n",
       " u\"D rer 's godfather was [Anton Koberger] , who left goldsmith ing to become a printer and\": {u'gold': u'Anton Koberger',\n",
       "  u'training': True,\n",
       "  u'vals': {u'-NIL-': 0.48940742,\n",
       "   u'Anton Koberger': 0.59546399,\n",
       "   u'Koberger': 0.59546399,\n",
       "   u'XXNILXX': 0}},\n",
       " u\"D rer 's introduction of [classical motifs] into Northern art , through his knowledge of Italian artists\": {u'gold': u'Roman mythology',\n",
       "  u'training': True,\n",
       "  u'vals': {u'-NIL-': 0.55158758,\n",
       "   u'Classical motifs': 0,\n",
       "   u'Motif': 0.52698892,\n",
       "   u'Motif (band)': 0,\n",
       "   u'Motif (music)': 0.53219497,\n",
       "   u'Motif (narrative)': 0.51137286,\n",
       "   u'Motif (software)': 0.47349483,\n",
       "   u'Motif (textile arts)': 0.49731109,\n",
       "   u'Motif (visual arts)': 0.56508774,\n",
       "   u'Motifs': 0.53219497,\n",
       "   u'Network motif': 0,\n",
       "   u'Persian motifs': 0,\n",
       "   u'Roman mythology': 0.51137286,\n",
       "   u'Sequence motif': 0.43952847,\n",
       "   u'Structural motif': 0.55158758,\n",
       "   u'XXNILXX': 0,\n",
       "   u'Yamaha Motif': 0.39551255,\n",
       "   u'classical motifs': 0,\n",
       "   u'motif (music)': 0.49602047,\n",
       "   u'motif (visual arts)': 0.43952847}},\n",
       " u'D rer probably also visited Padua and [Mantua] on this trip .': {u'gold': u'Mantua',\n",
       "  u'training': True,\n",
       "  u'vals': {u'-NIL-': 0.48704368,\n",
       "   u'Duchy of Mantua': 0.51620513,\n",
       "   u'Mantova railway station': 0,\n",
       "   u'Mantua': 0.48704368,\n",
       "   u'Mantua Township, New Jersey': 0.54859972,\n",
       "   u'Mantua Township, Portage County, Ohio': 0,\n",
       "   u'Mantua, Cuba': 0,\n",
       "   u'Mantua, Ohio': 0.48704368,\n",
       "   u'Mantua, Philadelphia': 0,\n",
       "   u'Mantua, Philadelphia, Pennsylvania': 0,\n",
       "   u'Mantua, Utah': 0.55134302,\n",
       "   u'Mantua, Virginia': 0,\n",
       "   u'Pavia\\u2013Mantua railway': 0,\n",
       "   u'Province of Mantua': 0.61663628,\n",
       "   u'Roman Catholic Diocese of Mantua': 0.47700667,\n",
       "   u'Siege of Mantua (1796-1797)': 0.40490416,\n",
       "   u'Siege of Mantua (1796\\u201397)': 0.57225823,\n",
       "   u'Siege of Mantua (1799)': 0.50824684,\n",
       "   u'XXNILXX': 0,\n",
       "   u'province of Mantua': 0.51620513}},\n",
       " u'D rer probably also visited [Padua] and Mantua on this trip .': {u'gold': u'Padua',\n",
       "  u'training': True,\n",
       "  u'vals': {u'-NIL-': 0.45992014,\n",
       "   u'363 Padua': 0.55314052,\n",
       "   u'Calcio Padova': 0.41416797,\n",
       "   u'Kruzenshtern (ship)': 0,\n",
       "   u'Padova railway station': 0,\n",
       "   u'Padua': 0.45206687,\n",
       "   u'Padua Stables': 0,\n",
       "   u'Padua, Italy': 0.45206687,\n",
       "   u'Padua, Minnesota': 0,\n",
       "   u'Padua, Ohio': 0,\n",
       "   u'Padua\\u2013Bologna railway': 0,\n",
       "   u'Province of Padua': 0.40701443,\n",
       "   u'Roman Catholic Diocese of Padua': 0.49462226,\n",
       "   u'Sempre Volley': 0,\n",
       "   u'Siege of Padua': 0.49462226,\n",
       "   u'Stadio Plebiscito': 0,\n",
       "   u'University of Padua': 0.57570428,\n",
       "   u'XXNILXX': 0,\n",
       "   u'province of Padua': 0.52282405,\n",
       "   u'university of Padua': 0.46323711}},\n",
       " u'D rer was born on May 21 , [1471] , third child and second son of his parents ,': {u'gold': u'1471',\n",
       "  u'training': True,\n",
       "  u'vals': {u'-NIL-': 0.59058005,\n",
       "   u'1000 (number)': 0.57270318,\n",
       "   u'1470s in England': 0.52421308,\n",
       "   u'1470s in art': 0.4529112,\n",
       "   u'1470s in poetry': 0.46215603,\n",
       "   u'1471': 0.40935311,\n",
       "   u'1471 (number)': 0.50563622,\n",
       "   u'1471 in England': 0.54438043,\n",
       "   u'1471 in Ireland': 0,\n",
       "   u'1471 in Portugal': 0,\n",
       "   u'1471 in Scotland': 0,\n",
       "   u'1471 in art': 0.47453016,\n",
       "   u'1471 in music': 0,\n",
       "   u'1471 in poetry': 0.47365016,\n",
       "   u'IEEE 1471': 0.52227926,\n",
       "   u'Last Call Return': 0.54362464,\n",
       "   u'Last-call return': 0.47944996,\n",
       "   u'Minuscule 1471': 0,\n",
       "   u'United Nations Security Council Resolution 1471': 0,\n",
       "   u'XXNILXX': 0}},\n",
       " u'D rer was born on [May 21] , 1471 , third child and second son of his': {u'gold': u'May 21',\n",
       "  u'training': True,\n",
       "  u'vals': {u'-NIL-': 0.52228874,\n",
       "   u'/May': 0.58074284,\n",
       "   u'Ben May': 0.53273475,\n",
       "   u'Brian May': 0.52294755,\n",
       "   u'CMLL Super Viernes (May 2014)': 0,\n",
       "   u'Darrell May': 0.53685117,\n",
       "   u'David May (footballer)': 0.50039119,\n",
       "   u'Jonny May': 0.49914816,\n",
       "   u'List of Pok\\xe9mon anime characters': 0.53685117,\n",
       "   u'May': 0.53330576,\n",
       "   u'May (Pok\\xe9mon)': 0.53685117,\n",
       "   u'May (film)': 0.53685117,\n",
       "   u'May 1911': 0,\n",
       "   u'May 1943': 0,\n",
       "   u'May 21': 0.57561314,\n",
       "   u'May 21 (Eastern Orthodox liturgics)': 0,\n",
       "   u'May, Texas': 0,\n",
       "   u'Navy Day': 0.40666971,\n",
       "   u'Stevie May': 0.48509338,\n",
       "   u'XXNILXX': 0}},\n",
       " u\"German name '' D rer '' is derived from the [Hungarian] , '' Ajt si '' .\": {u'gold': u'Hungary',\n",
       "  u'training': True,\n",
       "  u'vals': {u'-NIL-': 0.48409328,\n",
       "   u'Cinema of Hungary': 0.49460241,\n",
       "   u'Hungarian': 0.53016686,\n",
       "   u'Hungarian American': 0.53791744,\n",
       "   u'Hungarian Figure Skating Championships': 0.59931409,\n",
       "   u'Hungarian Language': 0.53190947,\n",
       "   u'Hungarian cuisine': 0.54949564,\n",
       "   u'Hungarian language': 0.55872065,\n",
       "   u'Hungarian people': 0.5195961,\n",
       "   u'Hungarians': 0.39456341,\n",
       "   u'Hungarians in Romania': 0.56990683,\n",
       "   u'Hungarians in Slovakia': 0.5195961,\n",
       "   u'Hungary': 0.41002101,\n",
       "   u'Hungary national football team': 0.4754889,\n",
       "   u'Kingdom of Hungary': 0.50938243,\n",
       "   u'Kingdom of Hungary (1920\\u201346)': 0.4181655,\n",
       "   u'Kingdom of Hungary in the Middle Ages': 0.59713334,\n",
       "   u'Magyars': 0.59658515,\n",
       "   u'Politics of Hungary': 0.55702215,\n",
       "   u'XXNILXX': 0}},\n",
       " u'He left in 1490 , possibly to work under [Martin Schongauer] , a leading engraver of Northern Europe , but who': {u'gold': u'Martin Schongauer',\n",
       "  u'training': True,\n",
       "  u'vals': {u'-NIL-': 0.50094986,\n",
       "   u'Martin Schongauer': 0.52970719,\n",
       "   u'Schongauer': 0.51244938,\n",
       "   u'XXNILXX': 0}},\n",
       " u'He made a number of [Madonna] s , single religious figures , and small scenes with': {u'gold': u'Madonna (art)',\n",
       "  u'training': True,\n",
       "  u'vals': {u'-NIL-': 0.41264403,\n",
       "   u'Armando Madonna': 0.41264403,\n",
       "   u'Madonna': 0.45676237,\n",
       "   u'Madonna (1999 film)': 0,\n",
       "   u'Madonna (EP)': 0,\n",
       "   u'Madonna (Edvard Munch)': 0,\n",
       "   u'Madonna (Madonna album)': 0.44854671,\n",
       "   u'Madonna (Secret EP)': 0,\n",
       "   u'Madonna (Secret song)': 0,\n",
       "   u'Madonna (album)': 0.57297224,\n",
       "   u'Madonna (art)': 0.49753657,\n",
       "   u'Madonna (book)': 0,\n",
       "   u'Madonna (entertainer)': 0.49529219,\n",
       "   u'Madonna (singer)': 0.47132632,\n",
       "   u'Madonna (song)': 0,\n",
       "   u'Madonna (studio)': 0,\n",
       "   u'Madonna_(entertainer)': 0.459158,\n",
       "   u'Mary (mother of Jesus)': 0.46342555,\n",
       "   u'The Madonna': 0.49529219,\n",
       "   u'XXNILXX': 0}},\n",
       " u'He wrote that [Giovanni Bellini] was the oldest and still the best of the artists': {u'gold': u'Giovanni Bellini',\n",
       "  u'training': True,\n",
       "  u'vals': {u'-NIL-': 0.39623225,\n",
       "   u'Bellini': 0.51244038,\n",
       "   u'Bellini (band)': 0,\n",
       "   u'Bellini (cocktail)': 0.49791351,\n",
       "   u'Bellini (horse)': 0,\n",
       "   u'Delfo Bellini': 0,\n",
       "   u'Filippo Bellini': 0,\n",
       "   u'Gentile Bellini': 0.57857984,\n",
       "   u'Gianpaolo Bellini': 0.4895331,\n",
       "   u'Giovanni Bellini': 0.54704112,\n",
       "   u'Giovanni Bellini (painter)': 0.55537271,\n",
       "   u'Giovanni Bellini (politician)': 0,\n",
       "   u'Giuseppe Bellini': 0,\n",
       "   u'Hilderaldo Bellini': 0.58912456,\n",
       "   u'Jacopo Bellini': 0.49455833,\n",
       "   u'Mario Bellini': 0.55925906,\n",
       "   u'Paffendorf': 0.48381466,\n",
       "   u'Vincenzo Bellini': 0.55858779,\n",
       "   u'Vincenzo Bellini ': 0,\n",
       "   u'XXNILXX': 0}},\n",
       " u\"Here he produced a woodcut of [St Jerome] as a frontispiece for Nicholaus Kessler 's ' Epistolare beati\": {u'gold': u'Jerome',\n",
       "  u'training': True,\n",
       "  u'vals': {u'-NIL-': 0.58109224,\n",
       "   u'Cameron Jerome': 0.46845713,\n",
       "   u'Jerome': 0.50209171,\n",
       "   u'Jerome County, Idaho': 0.51273799,\n",
       "   u'Jerome High School (Jerome, Idaho)': 0,\n",
       "   u'Jerome War Relocation Center': 0.51060975,\n",
       "   u'Jerome family': 0.55532122,\n",
       "   u'Jerome, Arizona': 0.53680998,\n",
       "   u'Jerome, Arkansas': 0.48163003,\n",
       "   u'Jerome, Florida': 0,\n",
       "   u'Jerome, Idaho': 0.54588044,\n",
       "   u'Jerome, Illinois': 0,\n",
       "   u'Jerome, Indiana': 0,\n",
       "   u'Jerome, Pennsylvania': 0.4864769,\n",
       "   u'Jerome, West Virginia': 0,\n",
       "   u'J\\xe9r\\xf4me Bonaparte': 0.48220232,\n",
       "   u'Randolph Jerome': 0.48948956,\n",
       "   u'Saint Jerome': 0.44843662,\n",
       "   u'St Jerome': 0.39863038,\n",
       "   u'XXNILXX': 0}},\n",
       " u\"His most famous publication was the '' [Nuremberg Chronicle] , '' published in 1493 in German and Latin editions\": {u'gold': u'Nuremberg Chronicle',\n",
       "  u'training': True,\n",
       "  u'vals': {u'-NIL-': 0.48813564,\n",
       "   u'Chronicle': 0.44202673,\n",
       "   u'Chronicle (Adelaide)': 0,\n",
       "   u'Chronicle (Fujifabric album)': 0,\n",
       "   u'Chronicle (TV series)': 0,\n",
       "   u'Chronicle (UK TV series)': 0,\n",
       "   u'Chronicle (film)': 0,\n",
       "   u'Chronicle (magazine)': 0,\n",
       "   u'Chronicle Books': 0.4856807,\n",
       "   u'Chronicle, Vol. 1': 0,\n",
       "   u'Chronicon (Eusebius)': 0.42800754,\n",
       "   u'Chronicon (Jerome)': 0.45186055,\n",
       "   u'DNA Publications': 0.53738719,\n",
       "   u'Evening Chronicle': 0.53738719,\n",
       "   u'Houston Chronicle': 0.51891804,\n",
       "   u\"Mannyng's Chronicle\": 0,\n",
       "   u'Nuremberg Chronicle': 0.46255225,\n",
       "   u'San Francisco Chronicle': 0.4416517,\n",
       "   u'The Chronicle (Zimbabwe)': 0,\n",
       "   u'XXNILXX': 0}},\n",
       " u\"His still-famous engravings include ' (1513) , '' [Saint Jerome in his Study] '' (1514) and '' Melencolia I '' (1514) , which\": {u'gold': u'Saint Jerome in His Study (D\\xfcrer)',\n",
       "  u'training': True,\n",
       "  u'vals': {u'-NIL-': 0.55556679,\n",
       "   u'Buddhist texts': 0.60405713,\n",
       "   u'Culross Study': 0,\n",
       "   u'Endgame study': 0.5142231,\n",
       "   u'His Study': 0,\n",
       "   u'In his Study': 0,\n",
       "   u'Jerome in his Study': 0,\n",
       "   u'Research': 0.45171195,\n",
       "   u'Saint Jerome in His Study (D\\xfcrer)': 0,\n",
       "   u'Saint Jerome in Study': 0,\n",
       "   u'Saint Jerome in his Study': 0.42006731,\n",
       "   u'St. Jerome in His Study (D\\xfcrer)': 0,\n",
       "   u'Study': 0.50503665,\n",
       "   u'Study (art)': 0.45403293,\n",
       "   u'Study (film)': 0,\n",
       "   u'Study (room)': 0,\n",
       "   u'Study skills': 0.49067849,\n",
       "   u'XXNILXX': 0,\n",
       "   u'his Study': 0,\n",
       "   u'in his Study': 0}},\n",
       " u'His watercolours mark him as one of the first European [landscape art] ists , while his ambitious woodcuts revolutionized the potential of': {u'gold': u'landscape art',\n",
       "  u'training': True,\n",
       "  u'vals': {u\"'Art'\": 0.53674984,\n",
       "   u'-NIL-': 0.5312137,\n",
       "   u'Art': 0.5471921,\n",
       "   u'Art (album)': 0,\n",
       "   u'Art film': 0.5052582,\n",
       "   u'Art mac Cuinn': 0.40236157,\n",
       "   u'Art museum': 0.55003387,\n",
       "   u'Art of ancient Egypt': 0.49876603,\n",
       "   u'Christian art': 0.46135128,\n",
       "   u'Cover art': 0.42077589,\n",
       "   u'Indian art': 0.55003387,\n",
       "   u'Islamic art': 0.53674984,\n",
       "   u'Japanese art': 0.59186596,\n",
       "   u'Landscape art': 0.47114372,\n",
       "   u'Landscape painting': 0.49237478,\n",
       "   u\"The V.I.P.'s\": 0.4899666,\n",
       "   u'Work of art': 0.46886492,\n",
       "   u'XXNILXX': 0,\n",
       "   u'art': 0.59186596,\n",
       "   u'landscape art': 0.4597429}},\n",
       " u'In early 1492 D rer travelled to [Basel] to stay with another brother of Martin Schongauer , the': {u'gold': u'Basel',\n",
       "  u'training': True,\n",
       "  u'vals': {u'-NIL-': 0.55270225,\n",
       "   u'2008 Davidoff Swiss Indoors': 0,\n",
       "   u'ATP Basel': 0.43403062,\n",
       "   u'Basel': 0.43731347,\n",
       "   u'Basel Badischer Bahnhof': 0.51084369,\n",
       "   u'Basel SBB': 0.51513898,\n",
       "   u'Basel SBB railway station': 0.43403062,\n",
       "   u'Basel, Switzerland': 0.56940091,\n",
       "   u'Basel-Stadt': 0.43403062,\n",
       "   u'Canton of Basel': 0.45801529,\n",
       "   u'Davidoff Swiss Indoors': 0.43403062,\n",
       "   u'EuroAirport Basel\\u2013Mulhouse\\u2013Freiburg': 0.48445255,\n",
       "   u'FC Basel': 0.47138849,\n",
       "   u'FC Basel (women)': 0,\n",
       "   u'Prince-Bishopric of Basel': 0.50227159,\n",
       "   u'Roman Catholic Diocese of Basel': 0.43403062,\n",
       "   u'St. Jakob-Park': 0.53330576,\n",
       "   u'Swiss Indoors': 0.51513898,\n",
       "   u'University of Basel': 0.50227159,\n",
       "   u'XXNILXX': 0}},\n",
       " u'It contained an unprecedented 1,809 [woodcut] illustrations -LRB- with many repeated uses of the same block': {u'gold': u'Woodcut',\n",
       "  u'training': True,\n",
       "  u'vals': {u'-NIL-': 0.53861916,\n",
       "   u\"D\\xfcrer's Rhinoceros\": 0.42762545,\n",
       "   u'Woodblock printing': 0.40810844,\n",
       "   u'Woodcut': 0.49688113,\n",
       "   u'Woodcut print': 0.43201381,\n",
       "   u'XXNILXX': 0,\n",
       "   u'woodblock printing': 0.53861916,\n",
       "   u'woodcut': 0.54696822}},\n",
       " u'It had strong links with [Italy] , especially Venice , a relatively short distance across the': {u'gold': u'Italy',\n",
       "  u'training': True,\n",
       "  u'vals': {u'-NIL-': 0.40594631,\n",
       "   u'A1 Team Italy': 0.45789465,\n",
       "   u'Cinema of Italy': 0.45603848,\n",
       "   u'Italian Campaign (World War II)': 0.48896417,\n",
       "   u'Italian Football Federation': 0.46127182,\n",
       "   u'Italian Rugby Federation': 0.5304293,\n",
       "   u'Italian poetry': 0.46673289,\n",
       "   u'Italy': 0.59899646,\n",
       "   u'Italy national athletics team': 0.51150864,\n",
       "   u'Italy national baseball team': 0.46428365,\n",
       "   u'Italy national basketball team': 0.47662339,\n",
       "   u'Italy national football team': 0.46011257,\n",
       "   u'Italy national rugby league team': 0.49387193,\n",
       "   u'Italy national rugby union team': 0.45456028,\n",
       "   u'Italy national under-21 football team': 0.5304293,\n",
       "   u\"Italy women's national football team\": 0.51150864,\n",
       "   u'Kingdom of Italy': 0.40681714,\n",
       "   u'Kingdom of Italy (1861\\u20131946)': 0.50672233,\n",
       "   u'Lega Basket Serie A': 0.48171192,\n",
       "   u'XXNILXX': 0}},\n",
       " u\"It is probable that D rer 's engraved copies after [Mantegna] were made at this time , before his trip to\": {u'gold': u'Andrea Mantegna',\n",
       "  u'training': True,\n",
       "  u'vals': {u'-NIL-': 0.50531214,\n",
       "   u'Andrea Mantegna': 0.49876603,\n",
       "   u'Andrea Mantegna ': 0,\n",
       "   u'Mantegna': 0.5394212,\n",
       "   u'XXNILXX': 0}},\n",
       " u'Italy , alone , perhaps stimulated by an outbreak of [plague] in Nuremberg .': {u'gold': u'Black Death',\n",
       "  u'training': True,\n",
       "  u'vals': {u'-NIL-': 0.51795852,\n",
       "   u'Black Death': 0.43034431,\n",
       "   u'Bubonic plague': 0.53045321,\n",
       "   u'Epidemic': 0.46579206,\n",
       "   u'Great Plague of London': 0.47833294,\n",
       "   u'Klinik': 0.51217341,\n",
       "   u'Pandemic': 0.53100908,\n",
       "   u'Plague': 0.4772279,\n",
       "   u'Plague (1978 film)': 0.46579206,\n",
       "   u'Plague (band)': 0,\n",
       "   u'Plague (comics)': 0,\n",
       "   u'Plague (disease)': 0.54818738,\n",
       "   u'Plague (song)': 0,\n",
       "   u'Plague of Athens': 0.57408965,\n",
       "   u'Plagues of Egypt': 0.46873704,\n",
       "   u'XXNILXX': 0,\n",
       "   u'bubonic plague': 0.4725793,\n",
       "   u'pandemic': 0.5728029,\n",
       "   u'plague': 0.42413667,\n",
       "   u'plague (disease)': 0.41053745}},\n",
       " u\"May 21 , 1471 '' ndash ; April 6 , [1528] -RRB- was a German painter , printmaker and theorist from\": {u'gold': u'1528',\n",
       "  u'training': True,\n",
       "  u'vals': {u'-NIL-': 0.50449246,\n",
       "   u'1520s in England': 0.54458666,\n",
       "   u'1528': 0.58533609,\n",
       "   u'1528 in England': 0.5134176,\n",
       "   u'1528 in India': 0.5312525,\n",
       "   u'1528 in Ireland': 0,\n",
       "   u'1528 in Portugal': 0,\n",
       "   u'1528 in Scotland': 0,\n",
       "   u'1528 in Spain': 0,\n",
       "   u'1528 in art': 0,\n",
       "   u'1528 in literature': 0.51795852,\n",
       "   u'1528 in poetry': 0,\n",
       "   u'1528 in science': 0,\n",
       "   u'16th century in literature': 0.54818738,\n",
       "   u'HD 30453': 0,\n",
       "   u'Midland Railway 1528 Class': 0,\n",
       "   u'Minuscule 1528': 0,\n",
       "   u'Minuscule 1528 (Gregory-Aland)': 0,\n",
       "   u'United Nations Security Council Resolution 1528': 0,\n",
       "   u'XXNILXX': 0}},\n",
       " u'Northern art , through his knowledge of Italian artists and [German humanists] , have secured his reputation as one of the most': {u'gold': u'Humanism in Germany',\n",
       "  u'training': True,\n",
       "  u'vals': {u'-NIL-': 0.46624771,\n",
       "   u'German humanists': 0,\n",
       "   u'Humanism': 0.50159091,\n",
       "   u'Humanism in Germany': 0.58565873,\n",
       "   u'Humanist': 0.5085085,\n",
       "   u'Humanist (electronic seminar)': 0,\n",
       "   u'Humanist (science fiction)': 0,\n",
       "   u'Humanists': 0.49805516,\n",
       "   u'Humanities': 0.44089171,\n",
       "   u'Parti humaniste du Qu\\xe9bec': 0.42732412,\n",
       "   u'Religious humanism': 0.52732587,\n",
       "   u'Renaissance Humanism': 0.51734227,\n",
       "   u'Renaissance humanism': 0.45433083,\n",
       "   u'Renaissance humanism in Northern Europe': 0.56791079,\n",
       "   u'Renaissance humanist': 0.43239492,\n",
       "   u'Secular humanism': 0.46472085,\n",
       "   u'XXNILXX': 0,\n",
       "   u'humanism': 0.61004519,\n",
       "   u'humanists': 0.44430327,\n",
       "   u'secular humanism': 0.55039364}},\n",
       " u\"Panofsky argues that this print combined the ' [Ulm] ian style ' of Koberger 's ' Lives of the\": {u'gold': u'Ulm',\n",
       "  u'training': True,\n",
       "  u'vals': {u'-NIL-': 0.48569304,\n",
       "   u'Battle of Ulm': 0.48898354,\n",
       "   u'David Ulm': 0,\n",
       "   u'Donaustadion': 0.48575276,\n",
       "   u'Free Imperial City of Ulm': 0,\n",
       "   u'Ratiopharm Ulm': 0.55546969,\n",
       "   u'Robert Ulm': 0,\n",
       "   u'SSV Ulm': 0.55381286,\n",
       "   u'SSV Ulm 1846': 0.53837955,\n",
       "   u'SSV Ulm 1846 Fu\\xdfball': 0,\n",
       "   u'Trams in Ulm': 0,\n",
       "   u'Ulm': 0.48569304,\n",
       "   u'Ulm Campaign': 0.50147259,\n",
       "   u'Ulm Central Station': 0.43677825,\n",
       "   u'Ulm Hauptbahnhof': 0.55381286,\n",
       "   u'Ulm Minster': 0.50230426,\n",
       "   u'Ulm, Arkansas': 0,\n",
       "   u'Ulm, Montana': 0.61720878,\n",
       "   u'XXNILXX': 0,\n",
       "   u'ratiopharm Ulm': 0.48575276}},\n",
       " u'Strassbourg , where he would have experienced the scultpure of [Nikolaus Gerhaert] .': {u'gold': u'Nikolaus Gerhaert',\n",
       "  u'training': True,\n",
       "  u'vals': {u'-NIL-': 0.47982433,\n",
       "   u'Gerhaert': 0.46462485,\n",
       "   u'Nikolaus Gerhaert': 0.44733357,\n",
       "   u'XXNILXX': 0}},\n",
       " u'Very soon after his return to Nuremberg , on [July 7] , 1494 , at the age of 23 , D': {u'gold': u'July 7',\n",
       "  u'training': True,\n",
       "  u'vals': {u'-NIL-': 0.40663412,\n",
       "   u'/July': 0.50639218,\n",
       "   u'7 July 2005 London bombings': 0.50639218,\n",
       "   u'CMLL Super Viernes (July 2014)': 0,\n",
       "   u'Deaths in July 2011': 0,\n",
       "   u'July': 0.47532451,\n",
       "   u'July (band)': 0,\n",
       "   u'July (song)': 0,\n",
       "   u'July 1911': 0,\n",
       "   u'July 1966': 0,\n",
       "   u'July 1971': 0,\n",
       "   u'July 1972': 0,\n",
       "   u'July 1973': 0,\n",
       "   u'July 1975': 0,\n",
       "   u'July 2005': 0.45072848,\n",
       "   u'July 2006': 0.53053963,\n",
       "   u'July 7': 0.50454712,\n",
       "   u'July 7 (Eastern Orthodox liturgics)': 0,\n",
       "   u'July 7, 2005 London bombings': 0.45155197,\n",
       "   u'XXNILXX': 0}},\n",
       " u'a little later , a series of eleven on the [Holy Family] and saints .': {u'gold': u'Holy Family',\n",
       "  u'training': True,\n",
       "  u'vals': {u'(One Glance Is) Holy': 0,\n",
       "   u'-NIL-': 0.42860883,\n",
       "   u'Holy': 0.45380679,\n",
       "   u'Holy (Bottom episode)': 0,\n",
       "   u'Holy (Bottom)': 0,\n",
       "   u'Holy (In Strict Confidence album)': 0,\n",
       "   u'Holy (U.D.O. album)': 0,\n",
       "   u'Holy (short story)': 0,\n",
       "   u'Holy Family': 0.44001439,\n",
       "   u'Holy Family (Bronzino)': 0,\n",
       "   u'Holy Family (Mantegna)': 0,\n",
       "   u'Holy Family Academy (Bayonne, New Jersey)': 0,\n",
       "   u'Holy Family Catholic Church (Frenchtown, Ohio)': 0,\n",
       "   u'Holy Family Catholic School (New Hamburg)': 0,\n",
       "   u'Holy Family Cristo Rey High School (Birmingham, Alabama)': 0,\n",
       "   u'Holy Family Roman Catholic Church, Parkdale': 0.4959954,\n",
       "   u'Holy Family University': 0.53576171,\n",
       "   u'Holy Records': 0.53155541,\n",
       "   u'Sacred': 0.48689854,\n",
       "   u'XXNILXX': 0}},\n",
       " u'after his return to Nuremberg , on July 7 , [1494] , at the age of 23 , D rer was': {u'gold': u'1494',\n",
       "  u'training': True,\n",
       "  u'vals': {u'-NIL-': 0.51422548,\n",
       "   u'1490s in architecture': 0,\n",
       "   u'1490s in art': 0.51208895,\n",
       "   u'1490s in poetry': 0.45603848,\n",
       "   u'1494': 0.51422548,\n",
       "   u'1494 AM': 0,\n",
       "   u'1494 Yellow River flood': 0,\n",
       "   u'1494 in Ireland': 0,\n",
       "   u'1494 in Portugal': 0,\n",
       "   u'1494 in Scotland': 0,\n",
       "   u'1494 in Serbia': 0,\n",
       "   u'1494 in architecture': 0,\n",
       "   u'1494 in art': 0.51524359,\n",
       "   u'1494 in literature': 0.49387193,\n",
       "   u'1494 in poetry': 0.51524359,\n",
       "   u'15th century in literature': 0.5296964,\n",
       "   u'DXOC': 0.52359575,\n",
       "   u'Treaty of Tordesillas': 0.50672233,\n",
       "   u'United Nations Security Council Resolution 1494': 0,\n",
       "   u'XXNILXX': 0}},\n",
       " u\"but who died shortly before D rer 's arrival at [Colmar] in 1492 .\": {u'gold': u'Colmar',\n",
       "  u'training': True,\n",
       "  u'vals': {u'-NIL-': 0.41427055,\n",
       "   u'2012\\u201313 SR Colmar season': 0,\n",
       "   u'Arrondissement of Colmar': 0.43599761,\n",
       "   u'Breguet 500 Colmar': 0,\n",
       "   u'Colmar': 0.55556679,\n",
       "   u'Colmar (SEPTA station)': 0,\n",
       "   u'Colmar \\u2013 Meyenheim Air Base': 0,\n",
       "   u'Colmar, France': 0.5142231,\n",
       "   u'Colmar, Illinois': 0,\n",
       "   u'Colmar, Kentucky': 0,\n",
       "   u'Colmar, New Mexico': 0,\n",
       "   u'Colmar, Pennsylvania': 0,\n",
       "   u'Fortified Sector of Colmar': 0.41361585,\n",
       "   u'Gare de Colmar': 0.5344854,\n",
       "   u'Israelite Consistory of the Upper Rhine': 0,\n",
       "   u'Music of Colmar': 0,\n",
       "   u'SR Colmar': 0.50842375,\n",
       "   u'XXNILXX': 0}},\n",
       " u'classical motifs into Northern art , through his knowledge of [Italian artists] and German humanists , have secured his reputation as one': {u'gold': u'Italian Renaissance',\n",
       "  u'training': True,\n",
       "  u'vals': {u'-NIL-': 0.39713842,\n",
       "   u'Artist': 0.41575396,\n",
       "   u'Artist (film)': 0,\n",
       "   u'Artists': 0.47582769,\n",
       "   u'Artists (radio series)': 0,\n",
       "   u'Comic book': 0.53842026,\n",
       "   u'Contemporary Indigenous Australian art': 0.53842026,\n",
       "   u'Corps de ballet': 0.52455306,\n",
       "   u'Game artist': 0.48987389,\n",
       "   u'Italian Renaissance': 0.48987389,\n",
       "   u'Italian artists': 0.48987389,\n",
       "   u'List of Italians': 0.55270225,\n",
       "   u'Music artist (occupation)': 0,\n",
       "   u'Musician': 0.52455306,\n",
       "   u'Painting': 0.461566,\n",
       "   u'Visual arts': 0,\n",
       "   u'XXNILXX': 0,\n",
       "   u'artist': 0.46336028,\n",
       "   u'artists': 0.48579237,\n",
       "   u'musician': 0.48987389}},\n",
       " u\"common German custom of taking '' Wanderjahre '' in effect [gap year] s in which the apprentice learned skills from artists in\": {u'gold': u'gap year',\n",
       "  u'training': True,\n",
       "  u'vals': {u'-NIL-': 0.47160795,\n",
       "   u'1977\\u201378 NBA season': 0.49934864,\n",
       "   u'1997 in sports': 0.53416932,\n",
       "   u'Annum': 0.47982433,\n",
       "   u'Calendar year': 0.43933973,\n",
       "   u'Gap year': 0.44456875,\n",
       "   u'Julian year (astronomy)': 0.47622168,\n",
       "   u'Playoffs': 0.51011443,\n",
       "   u'Season': 0.53317344,\n",
       "   u'Season (sports)': 0.49785966,\n",
       "   u'Sexagenary cycle': 0.47852334,\n",
       "   u'Sports timeline': 0,\n",
       "   u'United States House of Representatives': 0.5406062,\n",
       "   u'XXNILXX': 0,\n",
       "   u'Year': 0.60893822,\n",
       "   u'Year (metadata)': 0,\n",
       "   u'Year in comics': 0,\n",
       "   u'gap year': 0.48206452,\n",
       "   u'season': 0.48356783,\n",
       "   u'year': 0.51947206}},\n",
       " u'drawings and engravings show the influence of others , notably [Antonio Pollaiuolo] with his interest in the proportions of the body ,': {u'gold': u'Antonio del Pollaiolo',\n",
       "  u'training': True,\n",
       "  u'vals': {u'-NIL-': 0.52174675,\n",
       "   u'Antonio Pollaiuolo': 0.47944996,\n",
       "   u'Antonio del Pollaiolo': 0.46215603,\n",
       "   u'Pollaiolo': 0.46215603,\n",
       "   u'Pollaiuolo': 0.54540694,\n",
       "   u'XXNILXX': 0}},\n",
       " u'had learned how to make prints in drypoint and design [woodcut] s in the German style , based on the works': {u'gold': u'Woodcut',\n",
       "  u'training': True,\n",
       "  u'vals': {u'-NIL-': 0.46323711,\n",
       "   u\"D\\xfcrer's Rhinoceros\": 0.5520488,\n",
       "   u'Woodblock printing': 0.4797723,\n",
       "   u'Woodcut': 0.55314052,\n",
       "   u'Woodcut print': 0.48334232,\n",
       "   u'XXNILXX': 0,\n",
       "   u'woodblock printing': 0.4407658,\n",
       "   u'woodcut': 0.45992014}},\n",
       " u'in the German style , based on the works of [Martin Schongauer] and the Housebook Master .': {u'gold': u'Martin Schongauer',\n",
       "  u'training': True,\n",
       "  u'vals': {u'-NIL-': 0.50023204,\n",
       "   u'Martin Schongauer': 0.57202578,\n",
       "   u'Schongauer': 0.4114759,\n",
       "   u'XXNILXX': 0}},\n",
       " u'interest in the proportions of the body , Mantegna , [Lorenzo di Credi] and others .': {u'gold': u'Lorenzo di Credi',\n",
       "  u'training': True,\n",
       "  u'vals': {u'-NIL-': 0.54818738,\n",
       "   u'Credi': 0.57408965,\n",
       "   u'Di Credi': 0,\n",
       "   u'Lorenzo di Credi': 0.59220713,\n",
       "   u'XXNILXX': 0,\n",
       "   u'di Credi': 0}},\n",
       " u'is reinforced by his theoretical treatise which involve principles of [mathematics] , perspective and ideal proportions .': {u'gold': u'Mathematics',\n",
       "  u'training': True,\n",
       "  u'vals': {u'-NIL-': 0.60545015,\n",
       "   u'Chinese mathematics': 0.54696822,\n",
       "   u'Greek mathematics': 0.56564915,\n",
       "   u'History of mathematics': 0.41072357,\n",
       "   u'Indian mathematics': 0.56777221,\n",
       "   u'Islamic mathematics': 0.55247396,\n",
       "   u'Mathematic': 0.48525047,\n",
       "   u'Mathematics': 0.49689749,\n",
       "   u'Mathematics (Cherry Ghost song)': 0,\n",
       "   u'Mathematics (producer)': 0.55700248,\n",
       "   u'Mathematics (song)': 0,\n",
       "   u'Mathematics and Computing College': 0.48296899,\n",
       "   u'Mathematics education': 0.48622471,\n",
       "   u'Mathematics in medieval Islam': 0.55016077,\n",
       "   u'Outline of mathematics': 0.49041736,\n",
       "   u'Philosophy of mathematics': 0.56777221,\n",
       "   u'Wolf Prize in Mathematics': 0.47829628,\n",
       "   u'XXNILXX': 0,\n",
       "   u'mathematic': 0.45351067,\n",
       "   u'mathematics': 0.43773246}},\n",
       " u'many repeated uses of the same block -RRB- by the [Wolgemut] workshop .': {u'gold': u'Michael Wolgemut',\n",
       "  u'training': True,\n",
       "  u'vals': {u'-NIL-': 0.49467227,\n",
       "   u'Michael Wolgemut': 0.46874076,\n",
       "   u'Wolgemut': 0.48575276,\n",
       "   u'XXNILXX': 0}},\n",
       " u'period , though it is likely that he went to [Frankfurt] and the Netherlands .': {u'gold': u'Frankfurt am Main',\n",
       "  u'training': True,\n",
       "  u'vals': {u'-NIL-': 0.51112032,\n",
       "   u'1. FFC Frankfurt': 0.60663795,\n",
       "   u'Commerzbank-Arena': 0.51687646,\n",
       "   u'Eintracht Frankfurt': 0.59658515,\n",
       "   u'Frankfurt': 0.48935947,\n",
       "   u'Frankfurt (Main) Hauptbahnhof': 0.59658515,\n",
       "   u'Frankfurt (Oder)': 0.55873835,\n",
       "   u'Frankfurt Airport': 0.46301004,\n",
       "   u'Frankfurt Central Station': 0.52870917,\n",
       "   u'Frankfurt Cup': 0,\n",
       "   u'Frankfurt Grand Prix (tennis)': 0,\n",
       "   u'Frankfurt Hauptbahnhof': 0.5583263,\n",
       "   u'Frankfurt International Airport': 0.55186659,\n",
       "   u'Frankfurt Stock Exchange': 0.44469783,\n",
       "   u'Frankfurt am Main': 0.58287632,\n",
       "   u'Frankfurt, Germany': 0.60342532,\n",
       "   u'Free City of Frankfurt': 0.41354245,\n",
       "   u'Goethe University Frankfurt': 0.60663795,\n",
       "   u'Grand Duchy of Frankfurt': 0.5276345,\n",
       "   u'XXNILXX': 0}},\n",
       " u\"produced the first seventeen of a set illustrating the '' [Life of the Virgin] '' , which he did not finish for some years\": {u'gold': u'Life of the Virgin',\n",
       "  u'training': True,\n",
       "  u'vals': {u'-NIL-': 0.41626421,\n",
       "   u'Life': 0.49153143,\n",
       "   u'Life (1999 film)': 0,\n",
       "   u'Life (BBC TV series)': 0.53523159,\n",
       "   u\"Life (Des'ree song)\": 0,\n",
       "   u'Life (NBC TV series)': 0.45493117,\n",
       "   u'Life (Ricky Martin album)': 0,\n",
       "   u'Life (ZOEgirl album)': 0,\n",
       "   u'Life (magazine)': 0.53002858,\n",
       "   u'Life Racing Engines': 0.48979008,\n",
       "   u'Life University': 0.42850375,\n",
       "   u'Life Virgin': 0,\n",
       "   u'Life magazine': 0.53002858,\n",
       "   u'Life of': 0,\n",
       "   u'Life of the': 0,\n",
       "   u'Life of the Virgin': 0.46212646,\n",
       "   u'Life of the Virgin (Biography)': 0.42850375,\n",
       "   u'Life of the Virgin (D\\xfcrer)': 0,\n",
       "   u'Life of the Virgin (Maximus)': 0,\n",
       "   u'XXNILXX': 0}},\n",
       " u'reputation as one of the most important figures of the [Northern Renaissance] .': {u'gold': u'Northern Renaissance',\n",
       "  u'training': True,\n",
       "  u'vals': {u'-NIL-': 0.54554623,\n",
       "   u'Dutch and Flemish Renaissance painting': 0.50706947,\n",
       "   u'French Renaissance': 0.5114429,\n",
       "   u'Italian Renaissance': 0.43851495,\n",
       "   u'Northern Renaissance': 0.53786838,\n",
       "   u'Renaissance': 0.42096394,\n",
       "   u'Renaissance (band)': 0.39430749,\n",
       "   u'Renaissance (club)': 0,\n",
       "   u'Renaissance (film)': 0,\n",
       "   u'Renaissance (song)': 0,\n",
       "   u'Renaissance Recordings': 0.48103803,\n",
       "   u'Renaissance Revival architecture': 0.48103803,\n",
       "   u'Renaissance architecture': 0.49821731,\n",
       "   u'Renaissance art': 0.55429304,\n",
       "   u'Renaissance in Poland': 0.55804008,\n",
       "   u'Renaissance in Scotland': 0.48624864,\n",
       "   u'Renaissance literature': 0.5114429,\n",
       "   u'Renaissance music': 0.48216131,\n",
       "   u'The Renaissance': 0.54554623,\n",
       "   u'XXNILXX': 0}},\n",
       " u'rer trained himself in the difficult art of using the [burin] to make engraving s .': {u'gold': u'Burin',\n",
       "  u'training': True,\n",
       "  u'vals': {u'-NIL-': 0.53674984,\n",
       "   u'Burin': 0.48525047,\n",
       "   u'Burin (tool)': 0.56777221,\n",
       "   u'Burin Peninsula': 0.56412542,\n",
       "   u'Burin, Nablus': 0,\n",
       "   u'Burin, Newfoundland and Labrador': 0.41970599,\n",
       "   u'XXNILXX': 0,\n",
       "   u'burin': 0.56564915,\n",
       "   u'burin (tool)': 0.47508416}},\n",
       " u'talent in drawing that he started as an apprentice to [Michael Wolgemut] at the age of fifteen in 1486 .': {u'gold': u'Michael Wolgemut',\n",
       "  u'training': True,\n",
       "  u'vals': {u'-NIL-': 0.5471921,\n",
       "   u'Michael Wolgemut': 0.59952551,\n",
       "   u'Wolgemut': 0.59952551,\n",
       "   u'XXNILXX': 0}},\n",
       " u\"the masterpiece , the '' Prodigal Son , '' which [Vasari] singled out for praise some decades later , noting its\": {u'gold': u'Giorgio Vasari',\n",
       "  u'training': True,\n",
       "  u'vals': {u'-NIL-': 0.57186931,\n",
       "   u'Gaetano Vasari': 0.61478221,\n",
       "   u'Giorgio Vasari': 0.42746767,\n",
       "   u'Lives of the Most Excellent Painters, Sculptors, and Architects': 0.57186931,\n",
       "   u'Lives of the Painters': 0.50803262,\n",
       "   u'Vasari': 0.57529867,\n",
       "   u'XXNILXX': 0}},\n",
       " u'theoretical treatise which involve principles of mathematics , perspective and [ideal proportions] .': {u'gold': u'body proportions',\n",
       "  u'training': True,\n",
       "  u'vals': {u'-NIL-': 0.46336028,\n",
       "   u'Body proportions': 0.461566,\n",
       "   u'Golden ratio': 0.4131639,\n",
       "   u'Ideal proportions': 0,\n",
       "   u'Musical tuning': 0.52373111,\n",
       "   u'Proportion': 0.53842026,\n",
       "   u'Proportion (architecture)': 0,\n",
       "   u'Proportionality': 0.56351691,\n",
       "   u'Proportionality (mathematics)': 0.5227769,\n",
       "   u'Proportions': 0.56107748,\n",
       "   u'Ratio': 0.46055222,\n",
       "   u'XXNILXX': 0,\n",
       "   u'aspect ratio': 0.46884787,\n",
       "   u'body proportions': 0.45322049,\n",
       "   u'ideal proportions': 0,\n",
       "   u'musical tuning': 0.49604565,\n",
       "   u'proportion': 0.5227769,\n",
       "   u'proportion (architecture)': 0,\n",
       "   u'proportionality (mathematics)': 0.38878053,\n",
       "   u'proportions': 0.45433083}},\n",
       " u'works in the first years of the workshop were his [woodcut] prints , mostly religious , but including secular scenes such': {u'gold': u'Woodcut',\n",
       "  u'training': True,\n",
       "  u'vals': {u'-NIL-': 0.43564865,\n",
       "   u\"D\\xfcrer's Rhinoceros\": 0.53677315,\n",
       "   u'Woodblock printing': 0.48395273,\n",
       "   u'Woodcut': 0.51787382,\n",
       "   u'Woodcut print': 0.55125409,\n",
       "   u'XXNILXX': 0,\n",
       "   u'woodblock printing': 0.49012044,\n",
       "   u'woodcut': 0.41426587}}}"
      ]
     },
     "execution_count": 133,
     "metadata": {},
     "output_type": "execute_result"
    }
   ],
   "source": [
    "queries.values()[10]"
   ]
  },
  {
   "cell_type": "code",
   "execution_count": 142,
   "metadata": {
    "collapsed": true
   },
   "outputs": [],
   "source": [
    "queries_exp.compute_batch()"
   ]
  },
  {
   "cell_type": "code",
   "execution_count": 59,
   "metadata": {
    "collapsed": false
   },
   "outputs": [],
   "source": [
    "gg_func = theano.function(\n",
    "    queries_exp.func_inputs,\n",
    "    [queries_exp.loss_vec, queries_exp.source_out, queries_exp.target_out] + T.grad(queries_exp.loss_vec.mean(), queries_exp.all_params),\n",
    "    updates=queries_exp.updates,\n",
    "    on_unused_input='ignore',\n",
    ")"
   ]
  },
  {
   "cell_type": "code",
   "execution_count": 80,
   "metadata": {
    "collapsed": false
   },
   "outputs": [],
   "source": [
    "res1 = gg_func(\n",
    "    queries_exp.current_documents,\n",
    "    queries_exp.current_surface_link, queries_exp.current_surface_context, queries_exp.current_link_id,\n",
    "    queries_exp.current_target_input, queries_exp.current_target_matches_surface, queries_exp.current_target_id, queries_exp.current_target_goal\n",
    ")"
   ]
  },
  {
   "cell_type": "code",
   "execution_count": 69,
   "metadata": {
    "collapsed": false
   },
   "outputs": [
    {
     "data": {
      "text/plain": [
       "(0.24727535, 0.24219072, 0.23549788)"
      ]
     },
     "execution_count": 69,
     "metadata": {},
     "output_type": "execute_result"
    }
   ],
   "source": [
    "res1[0].max(), res1[0].mean(), res1[0].min()"
   ]
  },
  {
   "cell_type": "code",
   "execution_count": 81,
   "metadata": {
    "collapsed": false
   },
   "outputs": [
    {
     "data": {
      "text/plain": [
       "array([  76.69731903,  172.44116211,  139.30476379, -182.91343689,\n",
       "        172.44116211,  172.44116211,  -13.79522324,   97.6740036 ,\n",
       "         11.84405231,   36.98944092], dtype=float32)"
      ]
     },
     "execution_count": 81,
     "metadata": {},
     "output_type": "execute_result"
    }
   ],
   "source": [
    "np.dot(res1[1][0], res1[2][0:10,:].T)"
   ]
  },
  {
   "cell_type": "code",
   "execution_count": 83,
   "metadata": {
    "collapsed": false
   },
   "outputs": [
    {
     "data": {
      "text/plain": [
       "array([ 0.24216416,  0.24294616,  0.24274334,  0.23833458,  0.24294616,\n",
       "        0.24294616,  0.24024701,  0.24193516,  0.24127102,  0.24146625], dtype=float32)"
      ]
     },
     "execution_count": 83,
     "metadata": {},
     "output_type": "execute_result"
    }
   ],
   "source": [
    "res1[0][0:10]"
   ]
  },
  {
   "cell_type": "code",
   "execution_count": 71,
   "metadata": {
    "collapsed": false
   },
   "outputs": [
    {
     "data": {
      "text/plain": [
       "9.7740622e-06"
      ]
     },
     "execution_count": 71,
     "metadata": {},
     "output_type": "execute_result"
    }
   ],
   "source": [
    "res1[3:][0].std()"
   ]
  },
  {
   "cell_type": "code",
   "execution_count": 53,
   "metadata": {
    "collapsed": false
   },
   "outputs": [
    {
     "data": {
      "text/plain": [
       "[surface_cxt_conv1.W,\n",
       " surface_cxt_conv1.b,\n",
       " surface_conv1.W,\n",
       " surface_conv1.b,\n",
       " surface_dens1.W,\n",
       " surface_dens1.b,\n",
       " source_dens1.W,\n",
       " source_dens1.b,\n",
       " source_dens12.W,\n",
       " source_dens12.b,\n",
       " source_dens2.W,\n",
       " source_dens2.b,\n",
       " document_conv1.W,\n",
       " document_conv1.b,\n",
       " doucment_dens1.W,\n",
       " doucment_dens1.b,\n",
       " document_dens2.W,\n",
       " document_dens2.b]"
      ]
     },
     "execution_count": 53,
     "metadata": {},
     "output_type": "execute_result"
    }
   ],
   "source": [
    "queries_exp.all_params"
   ]
  },
  {
   "cell_type": "code",
   "execution_count": 197,
   "metadata": {
    "collapsed": false
   },
   "outputs": [
    {
     "data": {
      "text/plain": [
       "0.24253285"
      ]
     },
     "execution_count": 197,
     "metadata": {},
     "output_type": "execute_result"
    }
   ],
   "source": [
    "res1[0].mean()"
   ]
  },
  {
   "cell_type": "code",
   "execution_count": 198,
   "metadata": {
    "collapsed": false
   },
   "outputs": [
    {
     "data": {
      "text/plain": [
       "array([-10.04426765,  -8.85146523,  -6.5927825 ,  -5.64352655,\n",
       "        -6.2810235 , -10.34654236,  -6.09899616,   1.8380394 ,\n",
       "        -3.23892975,  -6.04222679,  -8.91859531,   1.09592962,\n",
       "        -5.27822304, -12.33982086,  -5.90433264], dtype=float32)"
      ]
     },
     "execution_count": 198,
     "metadata": {},
     "output_type": "execute_result"
    }
   ],
   "source": [
    "np.dot(res1[2][0,:],res1[1][0:15,:].T)"
   ]
  },
  {
   "cell_type": "code",
   "execution_count": 178,
   "metadata": {
    "collapsed": false
   },
   "outputs": [
    {
     "data": {
      "text/plain": [
       "-5.4103508"
      ]
     },
     "execution_count": 178,
     "metadata": {},
     "output_type": "execute_result"
    }
   ],
   "source": [
    "res1[2][0,:].min()"
   ]
  },
  {
   "cell_type": "code",
   "execution_count": 168,
   "metadata": {
    "collapsed": false
   },
   "outputs": [
    {
     "data": {
      "text/plain": [
       "-0.82824624"
      ]
     },
     "execution_count": 168,
     "metadata": {},
     "output_type": "execute_result"
    }
   ],
   "source": [
    "res1[1][0,:]"
   ]
  },
  {
   "cell_type": "code",
   "execution_count": null,
   "metadata": {
    "collapsed": false
   },
   "outputs": [],
   "source": [
    "np.isnan(gg_res[0]).any()"
   ]
  },
  {
   "cell_type": "code",
   "execution_count": null,
   "metadata": {
    "collapsed": false
   },
   "outputs": [],
   "source": [
    "gg_res[2].mean()"
   ]
  },
  {
   "cell_type": "code",
   "execution_count": null,
   "metadata": {
    "collapsed": false
   },
   "outputs": [],
   "source": [
    "gg_res[0].mean()"
   ]
  },
  {
   "cell_type": "code",
   "execution_count": null,
   "metadata": {
    "collapsed": false
   },
   "outputs": [],
   "source": [
    "[(v, np.isnan(v.get_value(borrow=True)).all()) for v in queries_exp.all_params]"
   ]
  },
  {
   "cell_type": "code",
   "execution_count": null,
   "metadata": {
    "collapsed": false
   },
   "outputs": [],
   "source": [
    "queries_exp.total_links"
   ]
  },
  {
   "cell_type": "code",
   "execution_count": null,
   "metadata": {
    "collapsed": false
   },
   "outputs": [],
   "source": [
    "theano.printing.pydotprint(T.grad(queries_exp.loss_vec.mean(), queries_exp.all_params))"
   ]
  },
  {
   "cell_type": "code",
   "execution_count": null,
   "metadata": {
    "collapsed": false
   },
   "outputs": [],
   "source": [
    "gg_func = theano.function(\n",
    "            [queries_exp.x_document_input,\n",
    "             queries_exp.x_surface_text_input, queries_exp.x_document_id,\n",
    "             queries_exp.x_target_input, queries_exp.x_link_id, queries_exp.y_score],\n",
    "            T.grad(queries_exp.loss_vec.mean(), lasagne.layers.get_all_params(queries_exp.target_dens2)),\n",
    "#           T.grad(queries_exp.loss_vec.mean(), queries_exp.all_params),\n",
    "    #             [queries_exp.target_out, queries_exp.source_aligned_l, \n",
    "#              T.dot(queries_exp.target_out, queries_exp.source_aligned_l.T).diagonal(),\n",
    "#              queries_exp.target_out.norm(2, axis=1) * queries_exp.source_aligned_l.norm(2, axis=1),\n",
    "#              T.batched_dot(queries_exp.target_out, queries_exp.source_aligned_l),\n",
    "#              lasagne.layers.get_output(queries_exp.target_dens2),\n",
    "#              queries_exp.target_out.norm(2, axis=1),\n",
    "#              #T.grad(queries_exp.loss_vec.mean(), queries_exp.all_params)\n",
    "#             ],\n",
    "        #[queries_exp.res_l, queries_exp.loss_vec.sum(), queries_exp.loss_vec],\n",
    "    on_unused_input='ignore',\n",
    "    mode='DebugMode'\n",
    "        )"
   ]
  },
  {
   "cell_type": "code",
   "execution_count": 19,
   "metadata": {
    "collapsed": false
   },
   "outputs": [],
   "source": [
    "gg_func = theano.function(\n",
    "            [queries_exp.x_document_input,\n",
    "             queries_exp.x_surface_text_input, queries_exp.x_document_id,\n",
    "             queries_exp.x_target_input, queries_exp.x_link_id, queries_exp.y_answer],\n",
    "            #[self.res_cap, self.loss_vec.sum(), self.loss_vec],\n",
    "            [queries_exp.res_cap],\n",
    "        mode='DebugMode',\n",
    "        on_unused_input='ignore',\n",
    "        )"
   ]
  },
  {
   "cell_type": "code",
   "execution_count": 20,
   "metadata": {
    "collapsed": false
   },
   "outputs": [],
   "source": [
    "try:\n",
    "    gg_grad_res = gg_func(\n",
    "        queries_exp.current_documents,\n",
    "        queries_exp.current_surface_text, queries_exp.current_link_id,\n",
    "        queries_exp.current_target_input, queries_exp.current_target_id, queries_exp.current_target_goal\n",
    "    )\n",
    "except Exception as e:\n",
    "    eeee = e"
   ]
  },
  {
   "cell_type": "code",
   "execution_count": 21,
   "metadata": {
    "collapsed": false
   },
   "outputs": [
    {
     "data": {
      "text/plain": [
       "ValueError('Bad input argument to theano function with name \"<ipython-input-19-c6e818cc55a5>:8\"  at index 4(0-based)',\n",
       "           'setting an array element with a sequence.')"
      ]
     },
     "execution_count": 21,
     "metadata": {},
     "output_type": "execute_result"
    }
   ],
   "source": [
    "eeee"
   ]
  },
  {
   "cell_type": "code",
   "execution_count": null,
   "metadata": {
    "collapsed": false
   },
   "outputs": [],
   "source": [
    "[np.isnan(v).any() for v in gg_grad_res]"
   ]
  },
  {
   "cell_type": "code",
   "execution_count": null,
   "metadata": {
    "collapsed": false
   },
   "outputs": [],
   "source": [
    "eeee"
   ]
  },
  {
   "cell_type": "code",
   "execution_count": null,
   "metadata": {
    "collapsed": false
   },
   "outputs": [],
   "source": [
    "len(queries_exp.current_target_input)"
   ]
  },
  {
   "cell_type": "code",
   "execution_count": null,
   "metadata": {
    "collapsed": false
   },
   "outputs": [],
   "source": [
    "gg_res = gg_func(\n",
    "    queries_exp.current_documents,\n",
    "    queries_exp.current_surface_text, queries_exp.current_link_id,\n",
    "    queries_exp.current_target_input, queries_exp.current_target_id, queries_exp.current_target_goal\n",
    ")"
   ]
  },
  {
   "cell_type": "code",
   "execution_count": null,
   "metadata": {
    "collapsed": false
   },
   "outputs": [],
   "source": [
    "len(queries_exp.current_target_input)"
   ]
  },
  {
   "cell_type": "code",
   "execution_count": null,
   "metadata": {
    "collapsed": false
   },
   "outputs": [],
   "source": [
    "np.isnan(gg_res[5]).any()"
   ]
  },
  {
   "cell_type": "code",
   "execution_count": null,
   "metadata": {
    "collapsed": false
   },
   "outputs": [],
   "source": [
    "gg_res[2]"
   ]
  },
  {
   "cell_type": "code",
   "execution_count": null,
   "metadata": {
    "collapsed": false
   },
   "outputs": [],
   "source": [
    "gg_res[0].shape, gg_res[1].shape, gg_res[2].shape, gg_res[3].shape, gg_res[4].shape"
   ]
  },
  {
   "cell_type": "code",
   "execution_count": null,
   "metadata": {
    "collapsed": false
   },
   "outputs": [],
   "source": [
    "np.inner(gg_res[0], gg_res[1]).shape"
   ]
  },
  {
   "cell_type": "code",
   "execution_count": null,
   "metadata": {
    "collapsed": false
   },
   "outputs": [],
   "source": [
    "gg_res[0] * gg_res[1]"
   ]
  },
  {
   "cell_type": "code",
   "execution_count": null,
   "metadata": {
    "collapsed": false
   },
   "outputs": [],
   "source": [
    "aa = np.dot(gg_res[0], gg_res[1].T)"
   ]
  },
  {
   "cell_type": "code",
   "execution_count": null,
   "metadata": {
    "collapsed": false
   },
   "outputs": [],
   "source": [
    "aa.diagonal().shape"
   ]
  },
  {
   "cell_type": "code",
   "execution_count": null,
   "metadata": {
    "collapsed": false
   },
   "outputs": [],
   "source": [
    "gg_res[2]"
   ]
  },
  {
   "cell_type": "code",
   "execution_count": null,
   "metadata": {
    "collapsed": false
   },
   "outputs": [],
   "source": [
    "len(queries_exp.queried_pages)"
   ]
  },
  {
   "cell_type": "code",
   "execution_count": null,
   "metadata": {
    "collapsed": false
   },
   "outputs": [],
   "source": [
    "len(queries_exp.page_content)"
   ]
  },
  {
   "cell_type": "code",
   "execution_count": null,
   "metadata": {
    "collapsed": false
   },
   "outputs": [],
   "source": [
    "len(queries_exp.current_surface_text)"
   ]
  },
  {
   "cell_type": "code",
   "execution_count": null,
   "metadata": {
    "collapsed": false
   },
   "outputs": [],
   "source": [
    "len(queries_exp.current_link_id)"
   ]
  },
  {
   "cell_type": "code",
   "execution_count": null,
   "metadata": {
    "collapsed": false
   },
   "outputs": [],
   "source": [
    "len(queries_exp.current_target_input)"
   ]
  },
  {
   "cell_type": "code",
   "execution_count": null,
   "metadata": {
    "collapsed": false
   },
   "outputs": [],
   "source": [
    "exp_results = []\n",
    "\n",
    "for i in xrange(5):\n",
    "    exp_results.append((i, queries_exp.compute_batch()))"
   ]
  },
  {
   "cell_type": "code",
   "execution_count": null,
   "metadata": {
    "collapsed": false
   },
   "outputs": [],
   "source": [
    "exp_results"
   ]
  },
  {
   "cell_type": "code",
   "execution_count": null,
   "metadata": {
    "collapsed": false
   },
   "outputs": [],
   "source": [
    "queries.values()"
   ]
  },
  {
   "cell_type": "code",
   "execution_count": null,
   "metadata": {
    "collapsed": false
   },
   "outputs": [],
   "source": [
    "queries_exp.total_links"
   ]
  },
  {
   "cell_type": "code",
   "execution_count": null,
   "metadata": {
    "collapsed": false
   },
   "outputs": [],
   "source": [
    "queries_exp.total_loss / queries_exp.total_links"
   ]
  },
  {
   "cell_type": "code",
   "execution_count": null,
   "metadata": {
    "collapsed": false
   },
   "outputs": [],
   "source": [
    "queries_exp.total_loss"
   ]
  },
  {
   "cell_type": "code",
   "execution_count": null,
   "metadata": {
    "collapsed": false
   },
   "outputs": [],
   "source": [
    "len(queries_exp.current_target_id)"
   ]
  },
  {
   "cell_type": "code",
   "execution_count": null,
   "metadata": {
    "collapsed": false
   },
   "outputs": [],
   "source": [
    "queries_exp.compute_batch()"
   ]
  },
  {
   "cell_type": "code",
   "execution_count": null,
   "metadata": {
    "collapsed": false
   },
   "outputs": [],
   "source": [
    "%time queries_exp.run_batch(queries_exp.test_func)"
   ]
  },
  {
   "cell_type": "code",
   "execution_count": null,
   "metadata": {
    "collapsed": true
   },
   "outputs": [],
   "source": []
  }
 ],
 "metadata": {
  "kernelspec": {
   "display_name": "Python 2",
   "language": "python",
   "name": "python2"
  },
  "language_info": {
   "codemirror_mode": {
    "name": "ipython",
    "version": 2
   },
   "file_extension": ".py",
   "mimetype": "text/x-python",
   "name": "python",
   "nbconvert_exporter": "python",
   "pygments_lexer": "ipython2",
   "version": "2.7.5"
  }
 },
 "nbformat": 4,
 "nbformat_minor": 0
}
